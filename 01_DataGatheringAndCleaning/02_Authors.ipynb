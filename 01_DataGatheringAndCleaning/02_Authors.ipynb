{
 "cells": [
  {
   "cell_type": "code",
   "execution_count": null,
   "metadata": {},
   "outputs": [],
   "source": [
    "# 2. STEP\n",
    "\n",
    "# In this notebook, the names of all authors are gathered from 'clean_dblp.xml'\n",
    "# Again, parsing could take a while, extracting names also.\n",
    "# Save the resulting names to 'names.csv'"
   ]
  },
  {
   "cell_type": "code",
   "execution_count": null,
   "metadata": {},
   "outputs": [],
   "source": [
    "# >>> Import and parse clean_dblp.xml\n",
    "\n",
    "import datetime\n",
    "import xml.etree.ElementTree as ET\n",
    "\n",
    "# Since clean_dblp was safed in UTF-8, special characters do not have to be declared in the parser.\n",
    "parser = ET.XMLParser()\n",
    "\n",
    "file = '../_data/clean_dblp.xml'\n",
    "\n",
    "time = datetime.datetime.now()\n",
    "print(\"Starting to parse XML file at {} ...\".format(time))\n",
    "tree = ET.parse(file, parser=parser)\n",
    "time = datetime.datetime.now()\n",
    "print(\"Finished parsing XML file at {} ! \".format(time))\n",
    "root = tree.getroot()\n",
    "print(\"Found {} entries! \".format(len(root)))"
   ]
  },
  {
   "cell_type": "code",
   "execution_count": null,
   "metadata": {},
   "outputs": [],
   "source": [
    "# >>> Get all authors and save to a list of dictionaries\n",
    "names_complete = {}\n",
    "\n",
    "print(\"Starting to extract author names...\")\n",
    "\n",
    "for child in root:\n",
    "    # Get authors\n",
    "    authors = child.findall(\"author\")\n",
    "    names = []\n",
    "    \n",
    "    for author in authors:\n",
    "        name = author.text\n",
    "        if (name in names_complete):\n",
    "            names_complete[name]['n_publs'] += 1\n",
    "        else:\n",
    "            names_complete[name] = {\n",
    "                'name': name,\n",
    "                'n_publs': 1\n",
    "            }\n",
    "\n",
    "print(\"Finished extracting author names! Found {} entries.\".format(len(names_complete)))"
   ]
  },
  {
   "cell_type": "code",
   "execution_count": null,
   "metadata": {},
   "outputs": [],
   "source": [
    "# >>> Convert the list of dictionaries to a dataframe\n",
    "# Dict to dataframe: https://pandas.pydata.org/pandas-docs/stable/reference/api/pandas.DataFrame.from_dict.html\n",
    "\n",
    "import pandas as pd\n",
    "\n",
    "print(\"Converting dictionary of names to a dataframe...\")\n",
    "\n",
    "names = pd.DataFrame.from_dict(names_complete, orient='index', dtype=None)\n",
    "names[\"likely_gender\"] = \"not determined\"\n",
    "names[\"score\"] = \"0\"\n",
    "\n",
    "print(\"Dataframe completed! Here are entries: {}\".format(names[:10]))"
   ]
  },
  {
   "cell_type": "code",
   "execution_count": null,
   "metadata": {},
   "outputs": [],
   "source": [
    "# >>> Save Dataframe to names.csv\n",
    "# Save Dataframe to CSV: https://riptutorial.com/pandas/example/19502/create-random-dataframe-and-write-to--csv\n",
    "\n",
    "print(\"Saving dataframe as CSV...\")\n",
    "names.to_csv(\"../_data/names.csv\")\n",
    "print(\"Names saved as CSV!\")"
   ]
  },
  {
   "cell_type": "code",
   "execution_count": null,
   "metadata": {},
   "outputs": [],
   "source": []
  }
 ],
 "metadata": {
  "kernelspec": {
   "display_name": "Python 3",
   "language": "python",
   "name": "python3"
  },
  "language_info": {
   "codemirror_mode": {
    "name": "ipython",
    "version": 3
   },
   "file_extension": ".py",
   "mimetype": "text/x-python",
   "name": "python",
   "nbconvert_exporter": "python",
   "pygments_lexer": "ipython3",
   "version": "3.7.1"
  }
 },
 "nbformat": 4,
 "nbformat_minor": 2
}
