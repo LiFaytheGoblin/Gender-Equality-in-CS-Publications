{
 "cells": [
  {
   "cell_type": "code",
   "execution_count": null,
   "metadata": {},
   "outputs": [],
   "source": [
    "# TEST DATA QUALITY\n",
    "# Part I: Unstructured Exploration\n",
    "# How good are our results of classified names in 'names_cat.csv'? How high are the scores?\n",
    "# How many names can have a score x? How many names have a score lower than y?"
   ]
  },
  {
   "cell_type": "code",
   "execution_count": 1,
   "metadata": {},
   "outputs": [
    {
     "name": "stdout",
     "output_type": "stream",
     "text": [
      "Importing categorized names... \n",
      "Names imported. Here are some:                                         name  n_publs likely_gender  score\n",
      "name                                                                      \n",
      "'Maseka Lesaoana            'Maseka Lesaoana        2        female      8\n",
      "(David) Jing Dai            (David) Jing Dai        1          male      7\n",
      "(Max) Zong-Ming Cheng  (Max) Zong-Ming Cheng        2          male      2\n",
      "(Sophy) Shu-Jiun Chen  (Sophy) Shu-Jiun Chen        2        female      7\n",
      "(Zhou) Bryan Bai            (Zhou) Bryan Bai        2          male      6\n",
      "A Clara Kanmani              A Clara Kanmani        1        female      4\n",
      "A Lun                                  A Lun        1          male      1\n",
      "A Min Tjoa                        A Min Tjoa      211          male      2\n",
      "A S Akshaya                      A S Akshaya        1          male      2\n",
      "A'ang Subiyakto              A'ang Subiyakto        2        female      0\n"
     ]
    }
   ],
   "source": [
    "# >>> Import categorized names 'names_cat.csv'\n",
    "import pandas\n",
    "\n",
    "print(\"Importing categorized names... \")\n",
    "names = pandas.read_csv(\"../../_data/names_cat.csv\", usecols=[\"name\", \"n_publs\", \"likely_gender\", \"score\"])\n",
    "\n",
    "# Setting index & accessing cells: https://pythonhow.com/accessing-dataframe-columns-rows-and-cells/\n",
    "names = names.set_index(\"name\", drop = False)\n",
    "print(\"Names imported. Here are some: {}\".format(names[:10]))"
   ]
  },
  {
   "cell_type": "code",
   "execution_count": 2,
   "metadata": {
    "scrolled": true
   },
   "outputs": [
    {
     "data": {
      "text/html": [
       "<div>\n",
       "<style scoped>\n",
       "    .dataframe tbody tr th:only-of-type {\n",
       "        vertical-align: middle;\n",
       "    }\n",
       "\n",
       "    .dataframe tbody tr th {\n",
       "        vertical-align: top;\n",
       "    }\n",
       "\n",
       "    .dataframe thead th {\n",
       "        text-align: right;\n",
       "    }\n",
       "</style>\n",
       "<table border=\"1\" class=\"dataframe\">\n",
       "  <thead>\n",
       "    <tr style=\"text-align: right;\">\n",
       "      <th></th>\n",
       "      <th>n_publs</th>\n",
       "      <th>score</th>\n",
       "    </tr>\n",
       "  </thead>\n",
       "  <tbody>\n",
       "    <tr>\n",
       "      <th>count</th>\n",
       "      <td>2.306418e+06</td>\n",
       "      <td>2.306418e+06</td>\n",
       "    </tr>\n",
       "    <tr>\n",
       "      <th>mean</th>\n",
       "      <td>5.789820e+00</td>\n",
       "      <td>4.963300e+00</td>\n",
       "    </tr>\n",
       "    <tr>\n",
       "      <th>std</th>\n",
       "      <td>1.827144e+01</td>\n",
       "      <td>3.506927e+00</td>\n",
       "    </tr>\n",
       "    <tr>\n",
       "      <th>min</th>\n",
       "      <td>1.000000e+00</td>\n",
       "      <td>0.000000e+00</td>\n",
       "    </tr>\n",
       "    <tr>\n",
       "      <th>25%</th>\n",
       "      <td>1.000000e+00</td>\n",
       "      <td>2.000000e+00</td>\n",
       "    </tr>\n",
       "    <tr>\n",
       "      <th>50%</th>\n",
       "      <td>2.000000e+00</td>\n",
       "      <td>4.000000e+00</td>\n",
       "    </tr>\n",
       "    <tr>\n",
       "      <th>75%</th>\n",
       "      <td>4.000000e+00</td>\n",
       "      <td>7.000000e+00</td>\n",
       "    </tr>\n",
       "    <tr>\n",
       "      <th>max</th>\n",
       "      <td>1.694000e+03</td>\n",
       "      <td>3.300000e+01</td>\n",
       "    </tr>\n",
       "  </tbody>\n",
       "</table>\n",
       "</div>"
      ],
      "text/plain": [
       "            n_publs         score\n",
       "count  2.306418e+06  2.306418e+06\n",
       "mean   5.789820e+00  4.963300e+00\n",
       "std    1.827144e+01  3.506927e+00\n",
       "min    1.000000e+00  0.000000e+00\n",
       "25%    1.000000e+00  2.000000e+00\n",
       "50%    2.000000e+00  4.000000e+00\n",
       "75%    4.000000e+00  7.000000e+00\n",
       "max    1.694000e+03  3.300000e+01"
      ]
     },
     "execution_count": 2,
     "metadata": {},
     "output_type": "execute_result"
    }
   ],
   "source": [
    "# >>> Get general information about our results\n",
    "names.describe()"
   ]
  },
  {
   "cell_type": "code",
   "execution_count": null,
   "metadata": {},
   "outputs": [],
   "source": [
    "'''\n",
    "        n_publs     \tscore\n",
    "count \t2.306418e+06 \t2.306418e+06\n",
    "mean \t5.789820e+00 \t4.963300e+00 # the mean is almost 5 \n",
    "std \t1.827144e+01 \t3.506927e+00 # with a std of 3.5\n",
    "min \t1.000000e+00 \t0.000000e+00\n",
    "25% \t1.000000e+00 \t2.000000e+00 # 25% of names have a score of 2 or less. \n",
    "50% \t2.000000e+00 \t4.000000e+00 # at least 50% have a score of at leat 4 (median). \n",
    "75% \t4.000000e+00 \t7.000000e+00\n",
    "max \t1.694000e+03 \t3.300000e+01 # the maximum score is 33\n",
    "'''\n",
    "\n",
    "# FUN FACT TIME:\n",
    "# Some more info we get from describe about the number of publications:\n",
    "# On average, a person publishes 5.8 pieces (with a std of 18!)\n",
    "# The record for most publications was set with 1694 pieces, wow!\n",
    "# At least 50% published at least 2 pieces (median),\n",
    "# At least 75% published at least 4 pieces."
   ]
  },
  {
   "cell_type": "code",
   "execution_count": 4,
   "metadata": {},
   "outputs": [
    {
     "name": "stdout",
     "output_type": "stream",
     "text": [
      "There are 160377 names with a score == 0\n",
      "There are 233923 names with a score == 1\n",
      "There are 280557 names with a score == 2\n",
      "There are 271606 names with a score == 3\n",
      "There are 232771 names with a score == 4\n",
      "There are 197724 names with a score == 5\n",
      "There are 186145 names with a score == 6\n",
      "There are 185958 names with a score == 7\n",
      "There are 162785 names with a score == 8\n",
      "There are 142711 names with a score == 9\n",
      "There are 103114 names with a score == 10\n"
     ]
    }
   ],
   "source": [
    "# >>> How many names have which scores?\n",
    "\n",
    "scores = [0,1,2,3,4,5,6,7,8,9,10]\n",
    "results_equals = []\n",
    "for score in scores:\n",
    "    n = len(names[names['score'] == score])\n",
    "    results_equals.append(n)\n",
    "    print(\"There are {} names with a score == {}\".format(n, score))"
   ]
  },
  {
   "cell_type": "code",
   "execution_count": null,
   "metadata": {},
   "outputs": [],
   "source": [
    "'''\n",
    "There are 160377 names with a score == 0\n",
    "There are 233923 names with a score == 1\n",
    "There are 280557 names with a score == 2\n",
    "There are 271606 names with a score == 3\n",
    "There are 232771 names with a score == 4\n",
    "There are 197724 names with a score == 5\n",
    "There are 186145 names with a score == 6\n",
    "There are 185958 names with a score == 7\n",
    "There are 162785 names with a score == 8\n",
    "There are 142711 names with a score == 9\n",
    "There are 103114 names with a score == 10\n",
    "'''"
   ]
  },
  {
   "cell_type": "code",
   "execution_count": 5,
   "metadata": {},
   "outputs": [
    {
     "name": "stdout",
     "output_type": "stream",
     "text": [
      "There are 160377 names with a score <= 0\n",
      "There are 394300 names with a score <= 1\n",
      "There are 674857 names with a score <= 2\n",
      "There are 946463 names with a score <= 3\n",
      "There are 1179234 names with a score <= 4\n",
      "There are 1376958 names with a score <= 5\n",
      "There are 1563103 names with a score <= 6\n",
      "There are 1749061 names with a score <= 7\n",
      "There are 1911846 names with a score <= 8\n",
      "There are 2054557 names with a score <= 9\n",
      "There are 2157671 names with a score <= 10\n"
     ]
    }
   ],
   "source": [
    "scores = [0,1,2,3,4,5,6,7,8,9,10]\n",
    "results_smaller_equals = []\n",
    "for score in scores:\n",
    "    n = len(names[names['score'] <= score])\n",
    "    results_smaller_equals.append(n)\n",
    "    print(\"There are {} names with a score <= {}\".format(n, score))"
   ]
  },
  {
   "cell_type": "code",
   "execution_count": null,
   "metadata": {},
   "outputs": [],
   "source": [
    "'''\n",
    "There are 160377 names with a score <= 0\n",
    "There are 394300 names with a score <= 1\n",
    "There are 674857 names with a score <= 2\n",
    "There are 946463 names with a score <= 3\n",
    "There are 1179234 names with a score <= 4\n",
    "There are 1376958 names with a score <= 5\n",
    "There are 1563103 names with a score <= 6\n",
    "There are 1749061 names with a score <= 7\n",
    "There are 1911846 names with a score <= 8\n",
    "There are 2054557 names with a score <= 9\n",
    "There are 2157671 names with a score <= 10\n",
    "'''"
   ]
  },
  {
   "cell_type": "code",
   "execution_count": 6,
   "metadata": {},
   "outputs": [
    {
     "name": "stdout",
     "output_type": "stream",
     "text": [
      "There are 2146041 names with a score > 0\n",
      "There are 1912118 names with a score > 1\n",
      "There are 1631561 names with a score > 2\n",
      "There are 1359955 names with a score > 3\n",
      "There are 1127184 names with a score > 4\n",
      "There are 929460 names with a score > 5\n",
      "There are 743315 names with a score > 6\n",
      "There are 557357 names with a score > 7\n",
      "There are 394572 names with a score > 8\n",
      "There are 251861 names with a score > 9\n",
      "There are 148747 names with a score > 10\n"
     ]
    }
   ],
   "source": [
    "results_bigger_than = []\n",
    "for score in scores:\n",
    "    n = len(names[names['score'] > score])\n",
    "    results_bigger_than.append(n)\n",
    "    print(\"There are {} names with a score > {}\".format(n, score))"
   ]
  },
  {
   "cell_type": "code",
   "execution_count": null,
   "metadata": {},
   "outputs": [],
   "source": [
    "'''\n",
    "There are 2146041 names with a score > 0\n",
    "There are 1912118 names with a score > 1\n",
    "There are 1631561 names with a score > 2\n",
    "There are 1359955 names with a score > 3\n",
    "There are 1127184 names with a score > 4\n",
    "There are 929460 names with a score > 5\n",
    "There are 743315 names with a score > 6\n",
    "There are 557357 names with a score > 7\n",
    "There are 394572 names with a score > 8\n",
    "There are 251861 names with a score > 9\n",
    "There are 148747 names with a score > 10\n",
    "'''"
   ]
  },
  {
   "cell_type": "code",
   "execution_count": 7,
   "metadata": {},
   "outputs": [],
   "source": [
    "# Explore the scores graphically \n",
    "\n",
    "import matplotlib.pyplot as plt"
   ]
  },
  {
   "cell_type": "code",
   "execution_count": 8,
   "metadata": {},
   "outputs": [
    {
     "data": {
      "text/plain": [
       "Text(0.5, 1.0, 'Amount of names (y) with a score == x')"
      ]
     },
     "execution_count": 8,
     "metadata": {},
     "output_type": "execute_result"
    },
    {
     "data": {
      "image/png": "[encoded data removed]",
      "text/plain": [
       "<Figure size 432x288 with 1 Axes>"
      ]
     },
     "metadata": {
      "needs_background": "light"
     },
     "output_type": "display_data"
    }
   ],
   "source": [
    "plt.bar(scores, results_equals)\n",
    "plt.title(\"Amount of names (y) with a score == x\")"
   ]
  },
  {
   "cell_type": "code",
   "execution_count": 9,
   "metadata": {},
   "outputs": [
    {
     "data": {
      "text/plain": [
       "Text(0.5, 1.0, 'Amount of names (y) with a score <= x')"
      ]
     },
     "execution_count": 9,
     "metadata": {},
     "output_type": "execute_result"
    },
    {
     "data": {
      "image/png": "[encoded data removed]",
      "text/plain": [
       "<Figure size 432x288 with 1 Axes>"
      ]
     },
     "metadata": {
      "needs_background": "light"
     },
     "output_type": "display_data"
    }
   ],
   "source": [
    "plt.bar(scores, results_smaller_equals)\n",
    "plt.title(\"Amount of names (y) with a score <= x\")"
   ]
  },
  {
   "cell_type": "code",
   "execution_count": 10,
   "metadata": {},
   "outputs": [
    {
     "data": {
      "text/plain": [
       "Text(0.5, 1.0, 'Amount of names (y) with a score > x')"
      ]
     },
     "execution_count": 10,
     "metadata": {},
     "output_type": "execute_result"
    },
    {
     "data": {
      "image/png": "[encoded data removed]",
      "text/plain": [
       "<Figure size 432x288 with 1 Axes>"
      ]
     },
     "metadata": {
      "needs_background": "light"
     },
     "output_type": "display_data"
    }
   ],
   "source": [
    "plt.bar(scores, results_bigger_than)\n",
    "plt.title(\"Amount of names (y) with a score > x\")"
   ]
  },
  {
   "cell_type": "code",
   "execution_count": 11,
   "metadata": {},
   "outputs": [
    {
     "name": "stdout",
     "output_type": "stream",
     "text": [
      "Histogram of all scores.\n"
     ]
    },
    {
     "data": {
      "text/plain": [
       "<matplotlib.axes._subplots.AxesSubplot at 0x261830c96d8>"
      ]
     },
     "execution_count": 11,
     "metadata": {},
     "output_type": "execute_result"
    },
    {
     "data": {
      "image/png": "[encoded data removed]",
      "text/plain": [
       "<Figure size 432x288 with 1 Axes>"
      ]
     },
     "metadata": {
      "needs_background": "light"
     },
     "output_type": "display_data"
    }
   ],
   "source": [
    "# Histogram of Scores\n",
    "\n",
    "# calculate number of bins suitable for a histogram\n",
    "# float to int: https://stackoverflow.com/questions/6569528/python-float-to-int-conversion\n",
    "bins = names['score'].max() / 1\n",
    "bins = int(round(bins))\n",
    "\n",
    "print(\"Histogram of all scores.\")\n",
    "names['score'].hist(bins=bins)"
   ]
  },
  {
   "cell_type": "code",
   "execution_count": null,
   "metadata": {},
   "outputs": [],
   "source": [
    "# Score by Gender\n",
    "\n",
    "f = names[names['likely_gender'] == 'female']\n",
    "m = names[names['likely_gender'] == 'male']"
   ]
  },
  {
   "cell_type": "code",
   "execution_count": null,
   "metadata": {},
   "outputs": [],
   "source": [
    "import matplotlib as mpl\n",
    "\n",
    "mpl.rcParams['pgf.rcfonts'] = False\n",
    "mpl.rcParams['font.size'] = 11.0\n",
    "\n",
    "# Get bin sizes for histograms\n",
    "bins_f = f['score'].max()\n",
    "bins_f = int(round(bins_f))\n",
    "\n",
    "bins_m = m['score'].max()\n",
    "bins_m = int(round(bins_m))"
   ]
  },
  {
   "cell_type": "code",
   "execution_count": null,
   "metadata": {},
   "outputs": [],
   "source": [
    "f[\"score\"].hist(density=True, color=\"black\", label=\"categorized as female\", bins=bins_f)\n",
    "m[\"score\"].hist(alpha=0.7, density=True, color=\"grey\", label=\"categorized as male\", bins=bins_m)\n",
    "\n",
    "plt.xlabel(\"Score\")\n",
    "plt.ylabel(\"Normed number of Names\")\n",
    "plt.legend()\n",
    "\n",
    "plt.savefig('../../_graphs/score/before_improving_by_gender.pdf')\n",
    "plt.savefig('../../_graphs/score/before_improving_by_gender.pgf')"
   ]
  },
  {
   "cell_type": "code",
   "execution_count": 12,
   "metadata": {},
   "outputs": [],
   "source": [
    "# >>> How many publications are there by score?\n",
    "# Grouping and aggregating: https://stackoverflow.com/questions/40480744/pandas-group-by-and-count\n",
    "n_publs_by_score = names.groupby(\"score\").agg({'n_publs':'sum'})\n",
    "n_publs_by_score = n_publs_by_score.sort_index()\n",
    "\n",
    "# Vs. How many authors are there by score?\n",
    "n_authors_by_score = names.groupby(\"score\").size()"
   ]
  },
  {
   "cell_type": "code",
   "execution_count": 13,
   "metadata": {},
   "outputs": [
    {
     "data": {
      "image/png": "[encoded data removed]",
      "text/plain": [
       "<Figure size 432x288 with 1 Axes>"
      ]
     },
     "metadata": {
      "needs_background": "light"
     },
     "output_type": "display_data"
    }
   ],
   "source": [
    "# Explore graphically \n",
    "\n",
    "plt.bar(n_publs_by_score.index.values, n_publs_by_score['n_publs'], label='Amount of publications by score', alpha=0.5, color='b')\n",
    "plt.bar(n_authors_by_score.index.values, n_authors_by_score.values, label='Amount of authors by score', alpha=0.5, color='g')\n",
    "plt.legend(loc='best')\n",
    "plt.title(\"How many authors are there per score vs how many publications?\")\n",
    "plt.show()"
   ]
  },
  {
   "cell_type": "code",
   "execution_count": null,
   "metadata": {},
   "outputs": [],
   "source": [
    "# >>> Evaluation:\n",
    "# 1. The score value is not distributed equally for men and women.\n",
    "# 2. Women's scores are lower than men's scores. \n",
    "# We see more female classifications than male classifications if looking at data with a score between 0 and 6., \n",
    "# 3. The threshold we chose will influence our results. \n",
    "\n",
    "# 4. We learn about the NamSor API:\n",
    "# meaning the API is more certain when classifying a name as male, \n",
    "# than it is when classifying a name as female.\n",
    "\n",
    "# >>> Consequence:\n",
    "# We shall look into this further by investigating how the threshold we chose influences our results."
   ]
  }
 ],
 "metadata": {
  "kernelspec": {
   "display_name": "Python 3",
   "language": "python",
   "name": "python3"
  },
  "language_info": {
   "codemirror_mode": {
    "name": "ipython",
    "version": 3
   },
   "file_extension": ".py",
   "mimetype": "text/x-python",
   "name": "python",
   "nbconvert_exporter": "python",
   "pygments_lexer": "ipython3",
   "version": "3.7.1"
  }
 },
 "nbformat": 4,
 "nbformat_minor": 2
}
