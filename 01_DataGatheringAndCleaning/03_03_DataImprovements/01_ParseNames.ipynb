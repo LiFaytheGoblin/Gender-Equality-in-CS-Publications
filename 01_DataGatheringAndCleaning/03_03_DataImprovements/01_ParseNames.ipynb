{
 "cells": [
  {
   "cell_type": "code",
   "execution_count": null,
   "metadata": {},
   "outputs": [],
   "source": [
    "# DATA IMPROVEMENT Part I\n",
    "# Get the first and last name of each name that has a score of 4 or less\n",
    "# so we can improve the results using a more precise API endpoint"
   ]
  },
  {
   "cell_type": "code",
   "execution_count": null,
   "metadata": {},
   "outputs": [],
   "source": [
    "# >>> Preparation\n",
    "import pandas\n",
    "\n",
    "print(\"Importing names for improvement... \")\n",
    "names = pandas.read_csv(\"../../_data/names_cat.csv\", usecols=[\"name\", \"n_publs\", \"likely_gender\", \"score\"])\n",
    "print(\"Names imported.\")"
   ]
  },
  {
   "cell_type": "code",
   "execution_count": null,
   "metadata": {
    "scrolled": true
   },
   "outputs": [],
   "source": [
    "# Setting index & accessing cells: https://pythonhow.com/accessing-dataframe-columns-rows-and-cells/\n",
    "names = names.set_index(\"name\", drop = False)\n",
    "print(names[:10])"
   ]
  },
  {
   "cell_type": "code",
   "execution_count": null,
   "metadata": {},
   "outputs": [],
   "source": [
    "print(\"Getting private key... \")\n",
    "# Get private API Key for NamSor API v2 (contained in txt file)\n",
    "key = ''\n",
    "\n",
    "# Import personal key\n",
    "with open(\"../../key.txt\", \"r\") as file:\n",
    "    key = file.read()\n",
    "\n",
    "if(len(key) > 0):\n",
    "    print(\"Got private key.\")\n",
    "else: \n",
    "    print(\"Could not find private key. Please check the file name and make sure you have an API key.\")"
   ]
  },
  {
   "cell_type": "code",
   "execution_count": null,
   "metadata": {},
   "outputs": [],
   "source": [
    "# Setting up NamSor API v2 to get the gender of a name\n",
    "# https://www.namsor.com/\n",
    "# https://v2.namsor.com/NamSorAPIv2/apidoc.html\n",
    "# using NamSor API v2 Python SDK\n",
    "# https://github.com/namsor/namsor-python-sdk2\n",
    "# licensed under GNU Affero General Public License v3.0\n",
    "\n",
    "# Following script partly taken from https://github.com/namsor/namsor-python-sdk2 \"Getting Started\" \n",
    "# and adapted to keep key private and remove unnecessary lines.\n",
    "\n",
    "print(\"Setting up NamSor API v2 connection settings...\")\n",
    "\n",
    "import openapi_client\n",
    "from openapi_client.rest import ApiException\n",
    "\n",
    "# Configure API key authorization: api_key\n",
    "configuration = openapi_client.Configuration()\n",
    "configuration.api_key['X-API-KEY'] = key\n",
    "# create an instance of the API class\n",
    "pers_api_instance = openapi_client.PersonalApi(openapi_client.ApiClient(configuration))"
   ]
  },
  {
   "cell_type": "code",
   "execution_count": null,
   "metadata": {},
   "outputs": [],
   "source": [
    "# Cleaning functions\n",
    "import re\n",
    "\n",
    "def clean(x):\n",
    "    \"This function cleans up a string\"\n",
    "    # Strip numbers from a string: https://stackoverflow.com/questions/16849109/strip-out-numbers-from-a-string\n",
    "    # Remove white space at end from string: https://stackoverflow.com/questions/2372573/how-do-i-remove-whitespace-from-the-end-of-a-string-in-python\n",
    "\n",
    "    return pandas.Series([x, re.sub(r'\\d+','',x).rstrip()], index=['name', 'clean_name'])"
   ]
  },
  {
   "cell_type": "code",
   "execution_count": null,
   "metadata": {},
   "outputs": [],
   "source": [
    "def clean_names(names):\n",
    "    \"This function cleans up multiple names\"\n",
    "    \n",
    "    cleaned_names = names['name'].apply(clean)\n",
    "    cleaned_names = cleaned_names.set_index('name')\n",
    "\n",
    "    return names.merge(cleaned_names, how='left', left_index=True, right_index=True)"
   ]
  },
  {
   "cell_type": "code",
   "execution_count": null,
   "metadata": {},
   "outputs": [],
   "source": [
    "# Find out which names to reconsider for improving results\n",
    "names_to_split = clean_names(names[names['score']<5])\n",
    "print(\"Will be parsing and reconsidering {} names.\".format(len(names_to_split)))"
   ]
  },
  {
   "cell_type": "code",
   "execution_count": null,
   "metadata": {},
   "outputs": [],
   "source": [
    "# Formatting the names using the API's models\n",
    "def createPersonalNameIn(name_entry):\n",
    "    return openapi_client.PersonalNameIn(id=name_entry['name'], name=name_entry['clean_name'])"
   ]
  },
  {
   "cell_type": "code",
   "execution_count": null,
   "metadata": {},
   "outputs": [],
   "source": [
    "# Formatting the names using the API's models\n",
    "def format_full_clean_name(name_entry):\n",
    "    \"This function formats a full clean name. It takes a full name and returns a PersonalNameIn\"\n",
    "    return openapi_client.PersonalNameIn(id=name_entry['name'], name=name_entry['clean_name'])"
   ]
  },
  {
   "cell_type": "code",
   "execution_count": null,
   "metadata": {},
   "outputs": [],
   "source": [
    "def format_full_clean_names(li):\n",
    "    \"This function formats multiple full clean names. It takes a list of unformatted full names and returns a list of formatted full names.\"\n",
    "    return list(map(format_full_clean_name, li))"
   ]
  },
  {
   "cell_type": "code",
   "execution_count": null,
   "metadata": {},
   "outputs": [],
   "source": [
    "def format_full_name_batch(li):\n",
    "    \"This function formats a batch of formatted full clean names. It takes a list of formatted full names and returns a formatted batch.\"\n",
    "    return openapi_client.BatchPersonalNameIn(personal_names=li)"
   ]
  },
  {
   "cell_type": "code",
   "execution_count": null,
   "metadata": {},
   "outputs": [],
   "source": [
    "def parsename_batch(batch):\n",
    "    \"This function calls the API. It takes a formatted batch of full names and returns the API response.\"\n",
    "    return pers_api_instance.parse_name_batch(batch_personal_name_in=batch)"
   ]
  },
  {
   "cell_type": "code",
   "execution_count": null,
   "metadata": {},
   "outputs": [],
   "source": [
    "def call_api_parsename_batch(li):\n",
    "    \"This function prepares a list of unformatted clean names for the API call and then calls the API calling function. It returns the API's name classifications.\"\n",
    "    current_batch = format_full_clean_names(li)  # format the names\n",
    "    batch_personal_name_in = format_full_name_batch(current_batch)# format the batch\n",
    "    api_response =  parsename_batch(batch_personal_name_in)# call api\n",
    "    return api_response.personal_names # return result"
   ]
  },
  {
   "cell_type": "code",
   "execution_count": null,
   "metadata": {},
   "outputs": [],
   "source": [
    "batch_size = 1000 #1000 is the API limit given by NamSor\n",
    "start = 0\n",
    "end = batch_size\n",
    "result = []\n",
    "\n",
    "names_stack = names_to_split[['name', 'clean_name']].to_dict('records')\n",
    "\n",
    "print('Will need to make {} calls.'.format(len(names_stack) / batch_size))"
   ]
  },
  {
   "cell_type": "code",
   "execution_count": null,
   "metadata": {},
   "outputs": [],
   "source": [
    "# >>> CALL API\n",
    "# Now parsing the full names into first and last name, sending in\n",
    "# one batch at a time and saving the result answer by answer.\n",
    "while (len(names_stack) >= batch_size):\n",
    "    try:\n",
    "        result = result + call_api_parsename_batch(names_stack[start:end])\n",
    "        del names_stack[start:end]\n",
    "        print(\"Batch of names analyzed. {} names left.\".format(len(names_stack)))\n",
    "        \n",
    "        if(len(names_stack) < batch_size and len(names_stack) > 0):\n",
    "            result = result + call_api_parsename_batch(names_stack)\n",
    "            names_stack = []\n",
    "            print(\"Batch of names analyzed. {} names left.\".format(len(names_stack)))\n",
    "    except ApiException as e:\n",
    "        print(\"Exception when calling PersonalApi: gender_full_batch: {}\".format(e))\n",
    "        if((len(list(names_to_split.index.values))-len(result)) == len(names_stack)): #check that no names got lost\n",
    "            print(\"No names got lost. Trying again with stack size {}...\".format(len(names_stack)))\n",
    "            continue\n",
    "        else:\n",
    "            raise(e)\n",
    "\n",
    "if(len(names_stack) != 0):\n",
    "    result = result + call_api_parsename_batch(names_stack)\n",
    "    names_stack = []\n",
    "    print(\"Batch of names analyzed. {} names left.\".format(len(names_stack)))\n",
    "\n",
    "print(\"All batches analyzed.\")"
   ]
  },
  {
   "cell_type": "code",
   "execution_count": null,
   "metadata": {},
   "outputs": [],
   "source": [
    "# >>> Save results\n",
    "# Convert results (list of openapi_client.models.PersonalNameParsedOut) to (list of dictionaries)\n",
    "print('Filling the results into the names dataframe...')\n",
    "for oapi_el in result:\n",
    "    name = oapi_el.first_last_name\n",
    "    try:\n",
    "        names.at[oapi_el.id, 'first_name'] = name.first_name\n",
    "        names.at[oapi_el.id, 'last_name'] = name.last_name\n",
    "    except:\n",
    "        names.at[oapi_el.id, 'first_name'] = None\n",
    "        names.at[oapi_el.id, 'last_name'] = None\n",
    "    \n",
    "print('Dataframe completed with API results. Here is a sample: {}'.format(names[:5]))"
   ]
  },
  {
   "cell_type": "code",
   "execution_count": null,
   "metadata": {},
   "outputs": [],
   "source": [
    "print(\"Saving parsed names...\")\n",
    "names.to_csv(\"../../_data/names_cat_i1.csv\")\n",
    "print(\"Parsed names saved!\")"
   ]
  },
  {
   "cell_type": "code",
   "execution_count": null,
   "metadata": {},
   "outputs": [],
   "source": []
  }
 ],
 "metadata": {
  "kernelspec": {
   "display_name": "Python 3",
   "language": "python",
   "name": "python3"
  },
  "language_info": {
   "codemirror_mode": {
    "name": "ipython",
    "version": 3
   },
   "file_extension": ".py",
   "mimetype": "text/x-python",
   "name": "python",
   "nbconvert_exporter": "python",
   "pygments_lexer": "ipython3",
   "version": "3.7.1"
  }
 },
 "nbformat": 4,
 "nbformat_minor": 2
}
