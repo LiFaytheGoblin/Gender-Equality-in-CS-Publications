{
 "cells": [
  {
   "cell_type": "code",
   "execution_count": null,
   "metadata": {},
   "outputs": [],
   "source": [
    "# Step 5\n",
    "# In this notebook, we find out which score is the minimum score we can trust more or less.\n",
    "# For that, we will explore the data sets and look at data properties that tell us about the reliability.\n",
    "# This follows no scientific guideline and is based mostly on my judgement. Judge for yourself."
   ]
  },
  {
   "cell_type": "code",
   "execution_count": 1,
   "metadata": {},
   "outputs": [
    {
     "name": "stdout",
     "output_type": "stream",
     "text": [
      "Importing cleaned names for improvement... \n",
      "Names imported.\n"
     ]
    }
   ],
   "source": [
    "# >>> Preparation\n",
    "import pandas\n",
    "\n",
    "print(\"Importing cleaned names for improvement... \")\n",
    "names = pandas.read_csv(\"../_data/names_cat_i2.csv\", usecols=[\"name\", \"n_publs\", \"likely_gender\", \"score\", \"first_name\", \"last_name\"])\n",
    "print(\"Names imported.\")"
   ]
  },
  {
   "cell_type": "code",
   "execution_count": 2,
   "metadata": {
    "scrolled": true
   },
   "outputs": [
    {
     "name": "stdout",
     "output_type": "stream",
     "text": [
      "                                        name     first_name  last_name  \\\n",
      "name                                                                     \n",
      "'Maseka Lesaoana            'Maseka Lesaoana            NaN        NaN   \n",
      "(David) Jing Dai            (David) Jing Dai            NaN        NaN   \n",
      "(Max) Zong-Ming Cheng  (Max) Zong-Ming Cheng  Max Zong-Ming      Cheng   \n",
      "(Sophy) Shu-Jiun Chen  (Sophy) Shu-Jiun Chen            NaN        NaN   \n",
      "(Zhou) Bryan Bai            (Zhou) Bryan Bai            NaN        NaN   \n",
      "A Clara Kanmani              A Clara Kanmani          Clara    Kanmani   \n",
      "A Lun                                  A Lun            NaN        Lun   \n",
      "A Min Tjoa                        A Min Tjoa            Min       Tjoa   \n",
      "A S Akshaya                      A S Akshaya        Akshaya        NaN   \n",
      "A'ang Subiyakto              A'ang Subiyakto          A'ang  Subiyakto   \n",
      "\n",
      "                      likely_gender  n_publs  score  \n",
      "name                                                 \n",
      "'Maseka Lesaoana             female        2      8  \n",
      "(David) Jing Dai               male        1      7  \n",
      "(Max) Zong-Ming Cheng          male        2      8  \n",
      "(Sophy) Shu-Jiun Chen        female        2      7  \n",
      "(Zhou) Bryan Bai               male        2      6  \n",
      "A Clara Kanmani              female        1      5  \n",
      "A Lun                          male        1      1  \n",
      "A Min Tjoa                     male      211      2  \n",
      "A S Akshaya                    male        1      2  \n",
      "A'ang Subiyakto              female        2      1  \n"
     ]
    }
   ],
   "source": [
    "# Setting index & accessing cells: https://pythonhow.com/accessing-dataframe-columns-rows-and-cells/\n",
    "names = names.set_index(\"name\", drop = False)\n",
    "print(names[:10])"
   ]
  },
  {
   "cell_type": "code",
   "execution_count": 3,
   "metadata": {},
   "outputs": [],
   "source": [
    "# >> The last name was identified, but not the first name\n",
    "d = names[pandas.isnull(names['first_name']) & pandas.notnull(names['last_name'])]\n",
    "# If the last name was not identified but the first name was, most names have a score of max. 4. They are 16 851 names\n",
    "# and contain many false positives on first view. Eg. A. A. S. Mohamed \tfirst name =  Mohamed \t which is probably false\n",
    "# Harshly said, this means that a score of 4 means a certainty of 0.\n",
    "# If 4 has a certainty of 0, can we trust a score of 5? Let's find out in the next step."
   ]
  },
  {
   "cell_type": "code",
   "execution_count": 5,
   "metadata": {},
   "outputs": [
    {
     "data": {
      "text/html": [
       "<div>\n",
       "<style scoped>\n",
       "    .dataframe tbody tr th:only-of-type {\n",
       "        vertical-align: middle;\n",
       "    }\n",
       "\n",
       "    .dataframe tbody tr th {\n",
       "        vertical-align: top;\n",
       "    }\n",
       "\n",
       "    .dataframe thead th {\n",
       "        text-align: right;\n",
       "    }\n",
       "</style>\n",
       "<table border=\"1\" class=\"dataframe\">\n",
       "  <thead>\n",
       "    <tr style=\"text-align: right;\">\n",
       "      <th></th>\n",
       "      <th>n_publs</th>\n",
       "      <th>score</th>\n",
       "    </tr>\n",
       "  </thead>\n",
       "  <tbody>\n",
       "    <tr>\n",
       "      <th>count</th>\n",
       "      <td>153461.000000</td>\n",
       "      <td>153461.000000</td>\n",
       "    </tr>\n",
       "    <tr>\n",
       "      <th>mean</th>\n",
       "      <td>1.891829</td>\n",
       "      <td>1.821473</td>\n",
       "    </tr>\n",
       "    <tr>\n",
       "      <th>std</th>\n",
       "      <td>4.898013</td>\n",
       "      <td>1.136804</td>\n",
       "    </tr>\n",
       "    <tr>\n",
       "      <th>min</th>\n",
       "      <td>1.000000</td>\n",
       "      <td>0.000000</td>\n",
       "    </tr>\n",
       "    <tr>\n",
       "      <th>25%</th>\n",
       "      <td>1.000000</td>\n",
       "      <td>1.000000</td>\n",
       "    </tr>\n",
       "    <tr>\n",
       "      <th>50%</th>\n",
       "      <td>1.000000</td>\n",
       "      <td>2.000000</td>\n",
       "    </tr>\n",
       "    <tr>\n",
       "      <th>75%</th>\n",
       "      <td>2.000000</td>\n",
       "      <td>3.000000</td>\n",
       "    </tr>\n",
       "    <tr>\n",
       "      <th>max</th>\n",
       "      <td>362.000000</td>\n",
       "      <td>4.000000</td>\n",
       "    </tr>\n",
       "  </tbody>\n",
       "</table>\n",
       "</div>"
      ],
      "text/plain": [
       "             n_publs          score\n",
       "count  153461.000000  153461.000000\n",
       "mean        1.891829       1.821473\n",
       "std         4.898013       1.136804\n",
       "min         1.000000       0.000000\n",
       "25%         1.000000       1.000000\n",
       "50%         1.000000       2.000000\n",
       "75%         2.000000       3.000000\n",
       "max       362.000000       4.000000"
      ]
     },
     "execution_count": 5,
     "metadata": {},
     "output_type": "execute_result"
    }
   ],
   "source": [
    "d.describe()"
   ]
  },
  {
   "cell_type": "code",
   "execution_count": 6,
   "metadata": {},
   "outputs": [],
   "source": [
    "# >> Can we trust a score of 5?\n",
    "e = names[names['score'] == 5]\n",
    "# names of a score of 5 are problematic. Some are abbreviated, some are not.\n",
    "# This concerns 299 615 names.\n",
    "# Those that are not abbreviated seem to be classified fine (manual check on about 100 names).\n",
    "# But are those that are abbreviated? Let's see in the next step"
   ]
  },
  {
   "cell_type": "code",
   "execution_count": 8,
   "metadata": {},
   "outputs": [
    {
     "data": {
      "text/html": [
       "<div>\n",
       "<style scoped>\n",
       "    .dataframe tbody tr th:only-of-type {\n",
       "        vertical-align: middle;\n",
       "    }\n",
       "\n",
       "    .dataframe tbody tr th {\n",
       "        vertical-align: top;\n",
       "    }\n",
       "\n",
       "    .dataframe thead th {\n",
       "        text-align: right;\n",
       "    }\n",
       "</style>\n",
       "<table border=\"1\" class=\"dataframe\">\n",
       "  <thead>\n",
       "    <tr style=\"text-align: right;\">\n",
       "      <th></th>\n",
       "      <th>n_publs</th>\n",
       "      <th>score</th>\n",
       "    </tr>\n",
       "  </thead>\n",
       "  <tbody>\n",
       "    <tr>\n",
       "      <th>count</th>\n",
       "      <td>299615.000000</td>\n",
       "      <td>299615.0</td>\n",
       "    </tr>\n",
       "    <tr>\n",
       "      <th>mean</th>\n",
       "      <td>5.704537</td>\n",
       "      <td>5.0</td>\n",
       "    </tr>\n",
       "    <tr>\n",
       "      <th>std</th>\n",
       "      <td>17.244241</td>\n",
       "      <td>0.0</td>\n",
       "    </tr>\n",
       "    <tr>\n",
       "      <th>min</th>\n",
       "      <td>1.000000</td>\n",
       "      <td>5.0</td>\n",
       "    </tr>\n",
       "    <tr>\n",
       "      <th>25%</th>\n",
       "      <td>1.000000</td>\n",
       "      <td>5.0</td>\n",
       "    </tr>\n",
       "    <tr>\n",
       "      <th>50%</th>\n",
       "      <td>2.000000</td>\n",
       "      <td>5.0</td>\n",
       "    </tr>\n",
       "    <tr>\n",
       "      <th>75%</th>\n",
       "      <td>4.000000</td>\n",
       "      <td>5.0</td>\n",
       "    </tr>\n",
       "    <tr>\n",
       "      <th>max</th>\n",
       "      <td>1032.000000</td>\n",
       "      <td>5.0</td>\n",
       "    </tr>\n",
       "  </tbody>\n",
       "</table>\n",
       "</div>"
      ],
      "text/plain": [
       "             n_publs     score\n",
       "count  299615.000000  299615.0\n",
       "mean        5.704537       5.0\n",
       "std        17.244241       0.0\n",
       "min         1.000000       5.0\n",
       "25%         1.000000       5.0\n",
       "50%         2.000000       5.0\n",
       "75%         4.000000       5.0\n",
       "max      1032.000000       5.0"
      ]
     },
     "execution_count": 8,
     "metadata": {},
     "output_type": "execute_result"
    }
   ],
   "source": [
    "e.describe()"
   ]
  },
  {
   "cell_type": "code",
   "execution_count": 259,
   "metadata": {},
   "outputs": [],
   "source": [
    "import matplotlib.pyplot as plt\n",
    "import matplotlib as mpl\n",
    "\n",
    "mpl.rcParams['pgf.rcfonts'] = False\n",
    "mpl.rcParams['font.size'] = 11.0"
   ]
  },
  {
   "cell_type": "code",
   "execution_count": 260,
   "metadata": {},
   "outputs": [],
   "source": [
    "# Get those names that contain an abbreviation\n",
    "# They mostly have score 2\n",
    "f = names[names['name'].str.match('\\w\\.')]"
   ]
  },
  {
   "cell_type": "code",
   "execution_count": 261,
   "metadata": {},
   "outputs": [
    {
     "data": {
      "text/html": [
       "<div>\n",
       "<style scoped>\n",
       "    .dataframe tbody tr th:only-of-type {\n",
       "        vertical-align: middle;\n",
       "    }\n",
       "\n",
       "    .dataframe tbody tr th {\n",
       "        vertical-align: top;\n",
       "    }\n",
       "\n",
       "    .dataframe thead th {\n",
       "        text-align: right;\n",
       "    }\n",
       "</style>\n",
       "<table border=\"1\" class=\"dataframe\">\n",
       "  <thead>\n",
       "    <tr style=\"text-align: right;\">\n",
       "      <th></th>\n",
       "      <th>n_publs</th>\n",
       "      <th>score</th>\n",
       "    </tr>\n",
       "  </thead>\n",
       "  <tbody>\n",
       "    <tr>\n",
       "      <th>count</th>\n",
       "      <td>198591.000000</td>\n",
       "      <td>198591.000000</td>\n",
       "    </tr>\n",
       "    <tr>\n",
       "      <th>mean</th>\n",
       "      <td>2.251079</td>\n",
       "      <td>2.173618</td>\n",
       "    </tr>\n",
       "    <tr>\n",
       "      <th>std</th>\n",
       "      <td>8.352779</td>\n",
       "      <td>1.706601</td>\n",
       "    </tr>\n",
       "    <tr>\n",
       "      <th>min</th>\n",
       "      <td>1.000000</td>\n",
       "      <td>0.000000</td>\n",
       "    </tr>\n",
       "    <tr>\n",
       "      <th>25%</th>\n",
       "      <td>1.000000</td>\n",
       "      <td>1.000000</td>\n",
       "    </tr>\n",
       "    <tr>\n",
       "      <th>50%</th>\n",
       "      <td>1.000000</td>\n",
       "      <td>2.000000</td>\n",
       "    </tr>\n",
       "    <tr>\n",
       "      <th>75%</th>\n",
       "      <td>2.000000</td>\n",
       "      <td>3.000000</td>\n",
       "    </tr>\n",
       "    <tr>\n",
       "      <th>max</th>\n",
       "      <td>1694.000000</td>\n",
       "      <td>17.000000</td>\n",
       "    </tr>\n",
       "  </tbody>\n",
       "</table>\n",
       "</div>"
      ],
      "text/plain": [
       "             n_publs          score\n",
       "count  198591.000000  198591.000000\n",
       "mean        2.251079       2.173618\n",
       "std         8.352779       1.706601\n",
       "min         1.000000       0.000000\n",
       "25%         1.000000       1.000000\n",
       "50%         1.000000       2.000000\n",
       "75%         2.000000       3.000000\n",
       "max      1694.000000      17.000000"
      ]
     },
     "execution_count": 261,
     "metadata": {},
     "output_type": "execute_result"
    }
   ],
   "source": [
    "f.describe()"
   ]
  },
  {
   "cell_type": "code",
   "execution_count": 262,
   "metadata": {},
   "outputs": [
    {
     "data": {
      "image/png": "[encoded data removed]",
      "text/plain": [
       "<Figure size 432x288 with 1 Axes>"
      ]
     },
     "metadata": {
      "needs_background": "light"
     },
     "output_type": "display_data"
    }
   ],
   "source": [
    "plt.hist(f[\"score\"], bins=f[\"score\"].max(), color=\"grey\")\n",
    "plt.xlabel(\"Score\")\n",
    "plt.ylabel(\"Amount of names\")\n",
    "plt.savefig('../_graphs/score/abbreviated_names.pdf')\n",
    "plt.savefig('../_graphs/score/abbreviated_names.pgf')"
   ]
  },
  {
   "cell_type": "code",
   "execution_count": 94,
   "metadata": {},
   "outputs": [],
   "source": [
    "# 10 213 abbreviated names have a score > 5\n",
    "h = f[f['score']>5]"
   ]
  },
  {
   "cell_type": "code",
   "execution_count": 100,
   "metadata": {},
   "outputs": [
    {
     "data": {
      "text/html": [
       "<div>\n",
       "<style scoped>\n",
       "    .dataframe tbody tr th:only-of-type {\n",
       "        vertical-align: middle;\n",
       "    }\n",
       "\n",
       "    .dataframe tbody tr th {\n",
       "        vertical-align: top;\n",
       "    }\n",
       "\n",
       "    .dataframe thead th {\n",
       "        text-align: right;\n",
       "    }\n",
       "</style>\n",
       "<table border=\"1\" class=\"dataframe\">\n",
       "  <thead>\n",
       "    <tr style=\"text-align: right;\">\n",
       "      <th></th>\n",
       "      <th>n_publs</th>\n",
       "      <th>score</th>\n",
       "    </tr>\n",
       "  </thead>\n",
       "  <tbody>\n",
       "    <tr>\n",
       "      <th>count</th>\n",
       "      <td>10213.000000</td>\n",
       "      <td>10213.000000</td>\n",
       "    </tr>\n",
       "    <tr>\n",
       "      <th>mean</th>\n",
       "      <td>4.852933</td>\n",
       "      <td>7.008225</td>\n",
       "    </tr>\n",
       "    <tr>\n",
       "      <th>std</th>\n",
       "      <td>23.528885</td>\n",
       "      <td>1.168497</td>\n",
       "    </tr>\n",
       "    <tr>\n",
       "      <th>min</th>\n",
       "      <td>1.000000</td>\n",
       "      <td>6.000000</td>\n",
       "    </tr>\n",
       "    <tr>\n",
       "      <th>25%</th>\n",
       "      <td>1.000000</td>\n",
       "      <td>6.000000</td>\n",
       "    </tr>\n",
       "    <tr>\n",
       "      <th>50%</th>\n",
       "      <td>1.000000</td>\n",
       "      <td>7.000000</td>\n",
       "    </tr>\n",
       "    <tr>\n",
       "      <th>75%</th>\n",
       "      <td>3.000000</td>\n",
       "      <td>8.000000</td>\n",
       "    </tr>\n",
       "    <tr>\n",
       "      <th>max</th>\n",
       "      <td>1694.000000</td>\n",
       "      <td>17.000000</td>\n",
       "    </tr>\n",
       "  </tbody>\n",
       "</table>\n",
       "</div>"
      ],
      "text/plain": [
       "            n_publs         score\n",
       "count  10213.000000  10213.000000\n",
       "mean       4.852933      7.008225\n",
       "std       23.528885      1.168497\n",
       "min        1.000000      6.000000\n",
       "25%        1.000000      6.000000\n",
       "50%        1.000000      7.000000\n",
       "75%        3.000000      8.000000\n",
       "max     1694.000000     17.000000"
      ]
     },
     "execution_count": 100,
     "metadata": {},
     "output_type": "execute_result"
    }
   ],
   "source": [
    "h.describe()"
   ]
  },
  {
   "cell_type": "code",
   "execution_count": null,
   "metadata": {},
   "outputs": [],
   "source": [
    "# Many abbreviations with russian last name are classified reliably, because \n",
    "# russian last names can tell the gender (unlike stated in Science Metrix: http://www.science-metrix.com/sites/default/files/science-metrix/publications/science-metrix_bibliometric_indicators_womens_contribution_to_science_report.pdf)\n",
    "# https://en.wikipedia.org/wiki/List_of_surnames_in_Russia\n",
    "# Other names have another not abbreviated name\n",
    "r = f.filter(regex='(ov|sky|vich|ev)$', axis=0)"
   ]
  },
  {
   "cell_type": "code",
   "execution_count": 165,
   "metadata": {},
   "outputs": [
    {
     "data": {
      "text/html": [
       "<div>\n",
       "<style scoped>\n",
       "    .dataframe tbody tr th:only-of-type {\n",
       "        vertical-align: middle;\n",
       "    }\n",
       "\n",
       "    .dataframe tbody tr th {\n",
       "        vertical-align: top;\n",
       "    }\n",
       "\n",
       "    .dataframe thead th {\n",
       "        text-align: right;\n",
       "    }\n",
       "</style>\n",
       "<table border=\"1\" class=\"dataframe\">\n",
       "  <thead>\n",
       "    <tr style=\"text-align: right;\">\n",
       "      <th></th>\n",
       "      <th>n_publs</th>\n",
       "      <th>score</th>\n",
       "    </tr>\n",
       "  </thead>\n",
       "  <tbody>\n",
       "    <tr>\n",
       "      <th>count</th>\n",
       "      <td>4401.000000</td>\n",
       "      <td>4401.000000</td>\n",
       "    </tr>\n",
       "    <tr>\n",
       "      <th>mean</th>\n",
       "      <td>1.501022</td>\n",
       "      <td>6.092252</td>\n",
       "    </tr>\n",
       "    <tr>\n",
       "      <th>std</th>\n",
       "      <td>1.593042</td>\n",
       "      <td>2.152512</td>\n",
       "    </tr>\n",
       "    <tr>\n",
       "      <th>min</th>\n",
       "      <td>1.000000</td>\n",
       "      <td>0.000000</td>\n",
       "    </tr>\n",
       "    <tr>\n",
       "      <th>25%</th>\n",
       "      <td>1.000000</td>\n",
       "      <td>5.000000</td>\n",
       "    </tr>\n",
       "    <tr>\n",
       "      <th>50%</th>\n",
       "      <td>1.000000</td>\n",
       "      <td>6.000000</td>\n",
       "    </tr>\n",
       "    <tr>\n",
       "      <th>75%</th>\n",
       "      <td>1.000000</td>\n",
       "      <td>8.000000</td>\n",
       "    </tr>\n",
       "    <tr>\n",
       "      <th>max</th>\n",
       "      <td>52.000000</td>\n",
       "      <td>13.000000</td>\n",
       "    </tr>\n",
       "  </tbody>\n",
       "</table>\n",
       "</div>"
      ],
      "text/plain": [
       "           n_publs        score\n",
       "count  4401.000000  4401.000000\n",
       "mean      1.501022     6.092252\n",
       "std       1.593042     2.152512\n",
       "min       1.000000     0.000000\n",
       "25%       1.000000     5.000000\n",
       "50%       1.000000     6.000000\n",
       "75%       1.000000     8.000000\n",
       "max      52.000000    13.000000"
      ]
     },
     "execution_count": 165,
     "metadata": {},
     "output_type": "execute_result"
    }
   ],
   "source": [
    "r.describe()"
   ]
  },
  {
   "cell_type": "code",
   "execution_count": 263,
   "metadata": {},
   "outputs": [
    {
     "data": {
      "image/png": "[encoded data removed]",
      "text/plain": [
       "<Figure size 432x288 with 1 Axes>"
      ]
     },
     "metadata": {
      "needs_background": "light"
     },
     "output_type": "display_data"
    }
   ],
   "source": [
    "plt.hist(r[\"score\"], bins=r[\"score\"].max(), color=\"grey\")\n",
    "\n",
    "plt.xlabel(\"Score\")\n",
    "plt.ylabel(\"Amount of names\")\n",
    "\n",
    "plt.savefig('../_graphs/score/russian_abbreviated_names.pdf')\n",
    "plt.savefig('../_graphs/score/russian_abbreviated_names.pgf')"
   ]
  },
  {
   "cell_type": "code",
   "execution_count": 137,
   "metadata": {},
   "outputs": [],
   "source": [
    "# Asian names\n",
    "# https://en.wikipedia.org/wiki/List_of_common_Chinese_surnames\n",
    "a = names.filter(regex='(Zhang|Liu|Deng|Shen|Weng|Chen|Wang|Huang|Lu|Li|Yang|Zhao|Wu|Zhou|Xu|Sun|Ma|Zhu|Hu|Guo|He|Gao|Luo|Lin|Zheng|Liang|Chan|Tian|Dong|Yu|Wei)$', axis=0)"
   ]
  },
  {
   "cell_type": "code",
   "execution_count": 138,
   "metadata": {},
   "outputs": [
    {
     "data": {
      "text/html": [
       "<div>\n",
       "<style scoped>\n",
       "    .dataframe tbody tr th:only-of-type {\n",
       "        vertical-align: middle;\n",
       "    }\n",
       "\n",
       "    .dataframe tbody tr th {\n",
       "        vertical-align: top;\n",
       "    }\n",
       "\n",
       "    .dataframe thead th {\n",
       "        text-align: right;\n",
       "    }\n",
       "</style>\n",
       "<table border=\"1\" class=\"dataframe\">\n",
       "  <thead>\n",
       "    <tr style=\"text-align: right;\">\n",
       "      <th></th>\n",
       "      <th>n_publs</th>\n",
       "      <th>score</th>\n",
       "    </tr>\n",
       "  </thead>\n",
       "  <tbody>\n",
       "    <tr>\n",
       "      <th>count</th>\n",
       "      <td>163930.000000</td>\n",
       "      <td>163930.000000</td>\n",
       "    </tr>\n",
       "    <tr>\n",
       "      <th>mean</th>\n",
       "      <td>8.898152</td>\n",
       "      <td>2.624895</td>\n",
       "    </tr>\n",
       "    <tr>\n",
       "      <th>std</th>\n",
       "      <td>30.770744</td>\n",
       "      <td>1.899293</td>\n",
       "    </tr>\n",
       "    <tr>\n",
       "      <th>min</th>\n",
       "      <td>1.000000</td>\n",
       "      <td>0.000000</td>\n",
       "    </tr>\n",
       "    <tr>\n",
       "      <th>25%</th>\n",
       "      <td>1.000000</td>\n",
       "      <td>1.000000</td>\n",
       "    </tr>\n",
       "    <tr>\n",
       "      <th>50%</th>\n",
       "      <td>2.000000</td>\n",
       "      <td>2.000000</td>\n",
       "    </tr>\n",
       "    <tr>\n",
       "      <th>75%</th>\n",
       "      <td>6.000000</td>\n",
       "      <td>4.000000</td>\n",
       "    </tr>\n",
       "    <tr>\n",
       "      <th>max</th>\n",
       "      <td>1200.000000</td>\n",
       "      <td>18.000000</td>\n",
       "    </tr>\n",
       "  </tbody>\n",
       "</table>\n",
       "</div>"
      ],
      "text/plain": [
       "             n_publs          score\n",
       "count  163930.000000  163930.000000\n",
       "mean        8.898152       2.624895\n",
       "std        30.770744       1.899293\n",
       "min         1.000000       0.000000\n",
       "25%         1.000000       1.000000\n",
       "50%         2.000000       2.000000\n",
       "75%         6.000000       4.000000\n",
       "max      1200.000000      18.000000"
      ]
     },
     "execution_count": 138,
     "metadata": {},
     "output_type": "execute_result"
    }
   ],
   "source": [
    "a.describe()"
   ]
  },
  {
   "cell_type": "code",
   "execution_count": 264,
   "metadata": {},
   "outputs": [
    {
     "data": {
      "image/png": "[encoded data removed]",
      "text/plain": [
       "<Figure size 432x288 with 1 Axes>"
      ]
     },
     "metadata": {
      "needs_background": "light"
     },
     "output_type": "display_data"
    }
   ],
   "source": [
    "plt.hist(a[\"score\"], bins=a[\"score\"].max(), color=\"grey\")\n",
    "\n",
    "plt.xlabel(\"Score\")\n",
    "plt.ylabel(\"Amount of names\")\n",
    "\n",
    "plt.savefig('../_graphs/score/asian_names.pdf')\n",
    "plt.savefig('../_graphs/score/asian_names.pgf')"
   ]
  },
  {
   "cell_type": "code",
   "execution_count": 248,
   "metadata": {},
   "outputs": [],
   "source": [
    "# Some unisex names\n",
    "n = names.filter(regex='^(Kim|Ashley|Anh)\\s', axis=0) "
   ]
  },
  {
   "cell_type": "code",
   "execution_count": 249,
   "metadata": {},
   "outputs": [
    {
     "data": {
      "text/html": [
       "<div>\n",
       "<style scoped>\n",
       "    .dataframe tbody tr th:only-of-type {\n",
       "        vertical-align: middle;\n",
       "    }\n",
       "\n",
       "    .dataframe tbody tr th {\n",
       "        vertical-align: top;\n",
       "    }\n",
       "\n",
       "    .dataframe thead th {\n",
       "        text-align: right;\n",
       "    }\n",
       "</style>\n",
       "<table border=\"1\" class=\"dataframe\">\n",
       "  <thead>\n",
       "    <tr style=\"text-align: right;\">\n",
       "      <th></th>\n",
       "      <th>n_publs</th>\n",
       "      <th>score</th>\n",
       "    </tr>\n",
       "  </thead>\n",
       "  <tbody>\n",
       "    <tr>\n",
       "      <th>count</th>\n",
       "      <td>1494.000000</td>\n",
       "      <td>1494.000000</td>\n",
       "    </tr>\n",
       "    <tr>\n",
       "      <th>mean</th>\n",
       "      <td>4.228246</td>\n",
       "      <td>2.193440</td>\n",
       "    </tr>\n",
       "    <tr>\n",
       "      <th>std</th>\n",
       "      <td>13.123433</td>\n",
       "      <td>1.972194</td>\n",
       "    </tr>\n",
       "    <tr>\n",
       "      <th>min</th>\n",
       "      <td>1.000000</td>\n",
       "      <td>0.000000</td>\n",
       "    </tr>\n",
       "    <tr>\n",
       "      <th>25%</th>\n",
       "      <td>1.000000</td>\n",
       "      <td>1.000000</td>\n",
       "    </tr>\n",
       "    <tr>\n",
       "      <th>50%</th>\n",
       "      <td>1.000000</td>\n",
       "      <td>1.000000</td>\n",
       "    </tr>\n",
       "    <tr>\n",
       "      <th>75%</th>\n",
       "      <td>3.000000</td>\n",
       "      <td>3.000000</td>\n",
       "    </tr>\n",
       "    <tr>\n",
       "      <th>max</th>\n",
       "      <td>262.000000</td>\n",
       "      <td>12.000000</td>\n",
       "    </tr>\n",
       "  </tbody>\n",
       "</table>\n",
       "</div>"
      ],
      "text/plain": [
       "           n_publs        score\n",
       "count  1494.000000  1494.000000\n",
       "mean      4.228246     2.193440\n",
       "std      13.123433     1.972194\n",
       "min       1.000000     0.000000\n",
       "25%       1.000000     1.000000\n",
       "50%       1.000000     1.000000\n",
       "75%       3.000000     3.000000\n",
       "max     262.000000    12.000000"
      ]
     },
     "execution_count": 249,
     "metadata": {},
     "output_type": "execute_result"
    }
   ],
   "source": [
    "n.describe()"
   ]
  },
  {
   "cell_type": "code",
   "execution_count": 265,
   "metadata": {},
   "outputs": [
    {
     "data": {
      "image/png": "[encoded data removed]",
      "text/plain": [
       "<Figure size 432x288 with 1 Axes>"
      ]
     },
     "metadata": {
      "needs_background": "light"
     },
     "output_type": "display_data"
    }
   ],
   "source": [
    "plt.hist(n[\"score\"], bins=n[\"score\"].max(), color=\"grey\")\n",
    "\n",
    "plt.xlabel(\"Score\")\n",
    "plt.ylabel(\"Amount of names\")\n",
    "\n",
    "plt.savefig('../_graphs/score/unisex_names.pdf')\n",
    "plt.savefig('../_graphs/score/unisex_names.pgf')"
   ]
  },
  {
   "cell_type": "code",
   "execution_count": 35,
   "metadata": {},
   "outputs": [],
   "source": [
    "# How many indirect abbreviations do we have? Do they bother the reliability of score 5\n",
    "# 74, max score = 6 (2 names)\n",
    "g = names[names['name'].str.match('\\w\\s')]\n",
    "# Not relevant."
   ]
  },
  {
   "cell_type": "code",
   "execution_count": null,
   "metadata": {},
   "outputs": [],
   "source": [
    "# >>Interpretation \n",
    "# The minimum score that is reliable is estimated to be 5. "
   ]
  }
 ],
 "metadata": {
  "kernelspec": {
   "display_name": "Python 3",
   "language": "python",
   "name": "python3"
  },
  "language_info": {
   "codemirror_mode": {
    "name": "ipython",
    "version": 3
   },
   "file_extension": ".py",
   "mimetype": "text/x-python",
   "name": "python",
   "nbconvert_exporter": "python",
   "pygments_lexer": "ipython3",
   "version": "3.7.1"
  }
 },
 "nbformat": 4,
 "nbformat_minor": 2
}
