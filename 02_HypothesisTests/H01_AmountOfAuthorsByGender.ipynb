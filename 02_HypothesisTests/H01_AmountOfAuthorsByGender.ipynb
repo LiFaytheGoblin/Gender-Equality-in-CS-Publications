{
 "cells": [
  {
   "cell_type": "code",
   "execution_count": null,
   "metadata": {},
   "outputs": [],
   "source": [
    "# HYPOTHESIS TESTING"
   ]
  },
  {
   "cell_type": "code",
   "execution_count": null,
   "metadata": {},
   "outputs": [],
   "source": [
    "# Hypothesis 1: \n",
    "# Overall, there are more male than female authors who publish in the area of computer science. "
   ]
  },
  {
   "cell_type": "code",
   "execution_count": 1,
   "metadata": {},
   "outputs": [
    {
     "name": "stdout",
     "output_type": "stream",
     "text": [
      "Importing names... \n",
      "Names imported. They look like this:                                         name likely_gender  n_publs  score\n",
      "name                                                                      \n",
      "'Maseka Lesaoana            'Maseka Lesaoana        female        2      8\n",
      "(David) Jing Dai            (David) Jing Dai          male        1      7\n",
      "(Max) Zong-Ming Cheng  (Max) Zong-Ming Cheng          male        2      8\n",
      "(Sophy) Shu-Jiun Chen  (Sophy) Shu-Jiun Chen        female        2      7\n",
      "(Zhou) Bryan Bai            (Zhou) Bryan Bai          male        2      6\n"
     ]
    }
   ],
   "source": [
    "# >>> Preparation\n",
    "# Import Data\n",
    "import pandas\n",
    "\n",
    "print(\"Importing names... \")\n",
    "names = pandas.read_csv(\"../_data/names_cat_i3.csv\", usecols=[\"name\", \"n_publs\", \"likely_gender\", \"score\"])\n",
    "\n",
    "# Setting index & accessing cells: https://pythonhow.com/accessing-dataframe-columns-rows-and-cells/\n",
    "names = names.set_index(\"name\", drop = False)\n",
    "print(\"Names imported. They look like this: {}\".format(names[:5]))"
   ]
  },
  {
   "cell_type": "code",
   "execution_count": 2,
   "metadata": {},
   "outputs": [
    {
     "name": "stdout",
     "output_type": "stream",
     "text": [
      "Calculating the amount of female, male and unclassified authors...\n",
      "There are 144198 female, 1112117 male and 1050103 unclassified author names.\n"
     ]
    }
   ],
   "source": [
    "# Calculate amount of authors by gender\n",
    "print(\"Calculating the amount of female, male and unclassified authors...\")\n",
    "\n",
    "n_authors_f_min = names[(names['score'] >= 5) & (names['likely_gender'] == 'female')].count()['likely_gender']\n",
    "n_authors_m_min = names[(names['score'] >= 5) & (names['likely_gender'] == 'male')].count()['likely_gender']\n",
    "n_authors_u_max = names[(names['score'] < 5)].count()['likely_gender']\n",
    "\n",
    "print(\"There are {} female, {} male and {} unclassified author names.\".format(n_authors_f_min, n_authors_m_min, n_authors_u_max))"
   ]
  },
  {
   "cell_type": "code",
   "execution_count": 3,
   "metadata": {},
   "outputs": [
    {
     "name": "stdout",
     "output_type": "stream",
     "text": [
      "Executing Chi Square Test to see if observed distribution of men and women is different than expected.\n",
      "Test returned Chi=745726.3429641451 with two-sided p-value=0.0\n"
     ]
    }
   ],
   "source": [
    "# >>> Testing\n",
    "# Chi Square Test for distribution\n",
    "\n",
    "print(\"Executing Chi Square Test to see if observed distribution of men and women is different than expected.\")\n",
    "\n",
    "from scipy.stats import chisquare\n",
    "total = n_authors_f_min + n_authors_m_min\n",
    "exp_f = total / 2\n",
    "exp_m = total / 2\n",
    "X, p = chisquare([n_authors_f_min, n_authors_m_min], f_exp=[exp_f, exp_m])\n",
    "\n",
    "print(\"Test returned Chi={} with two-sided p-value={}\".format(X, p))"
   ]
  },
  {
   "cell_type": "code",
   "execution_count": 4,
   "metadata": {},
   "outputs": [],
   "source": [
    "# >>> Visualization\n",
    "# Preparation\n",
    "import matplotlib as mpl\n",
    "import matplotlib.pyplot as plt\n",
    "import numpy as np\n",
    "\n",
    "# These settings are for the pgf format to fit nicely into a latex document.\n",
    "mpl.rcParams['pgf.rcfonts'] = False\n",
    "mpl.rcParams['font.size'] = 11.0"
   ]
  },
  {
   "cell_type": "code",
   "execution_count": 5,
   "metadata": {},
   "outputs": [
    {
     "name": "stdout",
     "output_type": "stream",
     "text": [
      "Visualizing amount of authors per gender...\n",
      "Graphs saved to ../_graphs/h1/authors_by_gender_2\n"
     ]
    },
    {
     "data": {
      "image/png": "[encoded data removed]",
      "text/plain": [
       "<Figure size 432x288 with 1 Axes>"
      ]
     },
     "metadata": {
      "needs_background": "light"
     },
     "output_type": "display_data"
    }
   ],
   "source": [
    "# H1 - if all unclassified were women\n",
    "print(\"Visualizing amount of authors per gender...\")\n",
    "\n",
    "plt.bar([\"female\", \"male\"], [n_authors_f_min, n_authors_m_min], color=\"black\")\n",
    "plt.bar([\"unreliably classified\"], [n_authors_u_max], color=\"grey\")\n",
    "plt.xlabel(\"Gender\")\n",
    "plt.ylabel(\"Authors\")\n",
    "plt.savefig('../_graphs/h1/authors_by_gender_2.pdf')\n",
    "plt.savefig('../_graphs/h1/authors_by_gender_2.pgf')\n",
    "\n",
    "print(\"Graphs saved to ../_graphs/h1/authors_by_gender_2\")"
   ]
  },
  {
   "cell_type": "code",
   "execution_count": null,
   "metadata": {},
   "outputs": [],
   "source": [
    "# >>> Evaluation\n",
    "# Hypothesis 1 is correct because p < 0.05\n",
    "# Overall, there are more male than female authors."
   ]
  },
  {
   "cell_type": "code",
   "execution_count": null,
   "metadata": {},
   "outputs": [],
   "source": []
  }
 ],
 "metadata": {
  "kernelspec": {
   "display_name": "Python 3",
   "language": "python",
   "name": "python3"
  },
  "language_info": {
   "codemirror_mode": {
    "name": "ipython",
    "version": 3
   },
   "file_extension": ".py",
   "mimetype": "text/x-python",
   "name": "python",
   "nbconvert_exporter": "python",
   "pygments_lexer": "ipython3",
   "version": "3.7.1"
  }
 },
 "nbformat": 4,
 "nbformat_minor": 2
}
