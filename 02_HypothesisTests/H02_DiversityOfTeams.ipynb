{
 "cells": [
  {
   "cell_type": "code",
   "execution_count": null,
   "metadata": {},
   "outputs": [],
   "source": [
    "# HYPOTHESIS TESTING"
   ]
  },
  {
   "cell_type": "code",
   "execution_count": null,
   "metadata": {},
   "outputs": [],
   "source": [
    "# Hypothesis 2:\n",
    "# Teams of collaborating authors consist of an equal amount of men and women."
   ]
  },
  {
   "cell_type": "code",
   "execution_count": null,
   "metadata": {},
   "outputs": [],
   "source": [
    "# >>> Preparation\n",
    "import pandas\n",
    "\n",
    "print(\"Importing publications... \")\n",
    "cols = [\n",
    "    'key', \n",
    "    'pub_cat',\n",
    "    'pub_type',\n",
    "    'title',\n",
    "    'year',\n",
    "    'authors',\n",
    "    'n_authors',\n",
    "    'n_males',\n",
    "    'n_females',\n",
    "    'n_unknown',\n",
    "    'ratio',\n",
    "    'n_contribs_females',\n",
    "    'n_contribs_males',\n",
    "    'n_contribs_unknown'\n",
    "]\n",
    "\n",
    "publs = pandas.read_csv(\"../_data/publications.csv\", usecols=cols)\n",
    "\n",
    "# Setting index & accessing cells: https://pythonhow.com/accessing-dataframe-columns-rows-and-cells/\n",
    "publs = publs.set_index(\"key\", drop = False)\n",
    "print(\"Publications imported. They look like this: {}\".format(publs[:1]))"
   ]
  },
  {
   "cell_type": "code",
   "execution_count": null,
   "metadata": {},
   "outputs": [],
   "source": [
    "# get only those publications created by teams\n",
    "team_publs = publs[publs['n_authors'] > 1]\n",
    "not_all_unknown = team_publs[team_publs[\"n_unknown\"] != team_publs[\"n_authors\"]]"
   ]
  },
  {
   "cell_type": "code",
   "execution_count": null,
   "metadata": {},
   "outputs": [],
   "source": [
    "# Calculate differences for Sign Test\n",
    "print(\"Calculating differences between amount of men and women per team for Sign Test...\")\n",
    "\n",
    "diff = not_all_unknown[\"n_contribs_males\"] - not_all_unknown[\"n_contribs_females\"]\n",
    "diff = diff.values\n",
    "\n",
    "print(\"{} differences calculated.\".format(len(diff)))"
   ]
  },
  {
   "cell_type": "code",
   "execution_count": null,
   "metadata": {},
   "outputs": [],
   "source": [
    "# >>> Testing\n",
    "# Sign Test using Wilcoxon function https://docs.scipy.org/doc/scipy/reference/generated/scipy.stats.wilcoxon.html\n",
    "\n",
    "print(\"Executing Sign Test...\")\n",
    "\n",
    "from scipy.stats import wilcoxon\n",
    "W, p = wilcoxon(diff)\n",
    "\n",
    "print(\"Test returned W={} and two-sided p-value={}\".format(W, p))"
   ]
  },
  {
   "cell_type": "code",
   "execution_count": null,
   "metadata": {},
   "outputs": [],
   "source": [
    "import matplotlib as mpl\n",
    "import matplotlib.pyplot as plt\n",
    "\n",
    "mpl.rcParams['pgf.rcfonts'] = False\n",
    "mpl.rcParams['font.size'] = 11.0\n",
    "\n",
    "print(\"Visualizing Gender Inequality Index Histogram...\")\n",
    "\n",
    "not_all_unknown[\"ratio\"].hist(color=\"grey\", bins=20)\n",
    "plt.xlabel(\"Gender Inequality Index\")\n",
    "plt.ylabel(\"Amount of publications\")\n",
    "\n",
    "plt.savefig('../_graphs/h2/gender_inequality_index_hist_not_all_unknown.pdf')\n",
    "plt.savefig('../_graphs/h2/gender_inequality_index_hist_not_all_unknown.pgf')\n",
    "\n",
    "print(\"Graphs saved at ../_graphs/h2/gender_inequality_index_hist_not_all_unknown\")"
   ]
  },
  {
   "cell_type": "code",
   "execution_count": null,
   "metadata": {},
   "outputs": [],
   "source": [
    "# >>> Evaluation\n",
    "# Hypothesis 2 is not correct because p < 0.05. "
   ]
  }
 ],
 "metadata": {
  "kernelspec": {
   "display_name": "Python 3",
   "language": "python",
   "name": "python3"
  },
  "language_info": {
   "codemirror_mode": {
    "name": "ipython",
    "version": 3
   },
   "file_extension": ".py",
   "mimetype": "text/x-python",
   "name": "python",
   "nbconvert_exporter": "python",
   "pygments_lexer": "ipython3",
   "version": "3.7.1"
  }
 },
 "nbformat": 4,
 "nbformat_minor": 2
}
