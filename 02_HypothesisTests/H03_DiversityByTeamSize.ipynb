{
 "cells": [
  {
   "cell_type": "code",
   "execution_count": null,
   "metadata": {},
   "outputs": [],
   "source": [
    "# HYPOTHESIS TESTING"
   ]
  },
  {
   "cell_type": "code",
   "execution_count": null,
   "metadata": {},
   "outputs": [],
   "source": [
    "# Hypothesis 3:\n",
    "# Bigger teams are more diverse."
   ]
  },
  {
   "cell_type": "code",
   "execution_count": 1,
   "metadata": {},
   "outputs": [
    {
     "name": "stdout",
     "output_type": "stream",
     "text": [
      "Importing publications... \n"
     ]
    },
    {
     "name": "stderr",
     "output_type": "stream",
     "text": [
      "C:\\Program_Files\\Anaconda3\\lib\\site-packages\\IPython\\core\\interactiveshell.py:3020: DtypeWarning: Columns (3) have mixed types. Specify dtype option on import or set low_memory=False.\n",
      "  interactivity=interactivity, compiler=compiler, result=result)\n"
     ]
    },
    {
     "name": "stdout",
     "output_type": "stream",
     "text": [
      "Publications imported. They look like this:                                  key pub_cat pub_type  \\\n",
      "key                                                     \n",
      "books/acm/0082477  books/acm/0082477    book      NaN   \n",
      "\n",
      "                                                         title  year  \\\n",
      "key                                                                    \n",
      "books/acm/0082477  The no-nonsense guide to computing careers.  1992   \n",
      "\n",
      "                           authors  n_authors  n_males  n_females  n_unknown  \\\n",
      "key                                                                            \n",
      "books/acm/0082477  ['Marc Rettig']          1      1.0        0.0        0.0   \n",
      "\n",
      "                   ratio  n_contribs_females  n_contribs_males  \\\n",
      "key                                                              \n",
      "books/acm/0082477   50.0                 0.0               1.0   \n",
      "\n",
      "                   n_contribs_unknown  \n",
      "key                                    \n",
      "books/acm/0082477                 0.0  \n"
     ]
    }
   ],
   "source": [
    "# >>> Preparation\n",
    "import pandas\n",
    "\n",
    "print(\"Importing publications... \")\n",
    "cols = [\n",
    "    'key', \n",
    "    'pub_cat',\n",
    "    'pub_type',\n",
    "    'title',\n",
    "    'year',\n",
    "    'authors',\n",
    "    'n_authors',\n",
    "    'n_males',\n",
    "    'n_females',\n",
    "    'n_unknown',\n",
    "    'ratio',\n",
    "    'n_contribs_females',\n",
    "    'n_contribs_males',\n",
    "    'n_contribs_unknown'\n",
    "]\n",
    "\n",
    "publs = pandas.read_csv(\"../_data/publications.csv\", usecols=cols)\n",
    "\n",
    "# Setting index & accessing cells: https://pythonhow.com/accessing-dataframe-columns-rows-and-cells/\n",
    "publs = publs.set_index(\"key\", drop = False)\n",
    "print(\"Publications imported. They look like this: {}\".format(publs[:1]))"
   ]
  },
  {
   "cell_type": "code",
   "execution_count": 2,
   "metadata": {},
   "outputs": [
    {
     "name": "stdout",
     "output_type": "stream",
     "text": [
      "Getting data to analyze, including absolute ratio values...\n",
      "Done. Can analyze 3020710 publications.\n"
     ]
    },
    {
     "name": "stderr",
     "output_type": "stream",
     "text": [
      "C:\\Program_Files\\Anaconda3\\lib\\site-packages\\ipykernel_launcher.py:6: SettingWithCopyWarning: \n",
      "A value is trying to be set on a copy of a slice from a DataFrame.\n",
      "Try using .loc[row_indexer,col_indexer] = value instead\n",
      "\n",
      "See the caveats in the documentation: http://pandas.pydata.org/pandas-docs/stable/indexing.html#indexing-view-versus-copy\n",
      "  \n"
     ]
    }
   ],
   "source": [
    "# get only those publications created by teams\n",
    "print(\"Getting data to analyze, including absolute ratio values...\")\n",
    "team_publs = publs[publs['n_authors'] > 1]\n",
    "not_all_unknown = team_publs[team_publs[\"n_unknown\"] != team_publs[\"n_authors\"]]\n",
    "abs_not_all_unknown = not_all_unknown\n",
    "abs_not_all_unknown[\"ratio\"] = abs(abs_not_all_unknown[\"ratio\"])\n",
    "print(\"Done. Can analyze {} publications.\".format(len(not_all_unknown)))"
   ]
  },
  {
   "cell_type": "code",
   "execution_count": null,
   "metadata": {},
   "outputs": [],
   "source": [
    "# >>> Testing"
   ]
  },
  {
   "cell_type": "code",
   "execution_count": 3,
   "metadata": {},
   "outputs": [
    {
     "name": "stdout",
     "output_type": "stream",
     "text": [
      "Calculating Spearman's Correlation Coefficient...\n",
      "SpearmanrResult(correlation=-0.15007747918554523, pvalue=0.0)\n",
      "Done!\n"
     ]
    }
   ],
   "source": [
    "from scipy import stats\n",
    "print(\"Calculating Spearman's Correlation Coefficient...\")\n",
    "small_teams_cor_l = stats.spearmanr(abs_not_all_unknown[\"ratio\"], abs_not_all_unknown[\"n_authors\"])\n",
    "print(small_teams_cor_l)\n",
    "print(\"Done!\")"
   ]
  },
  {
   "cell_type": "code",
   "execution_count": 4,
   "metadata": {},
   "outputs": [
    {
     "name": "stdout",
     "output_type": "stream",
     "text": [
      "Calculating distribution statistic median per team size\n",
      "Done!\n"
     ]
    }
   ],
   "source": [
    "print(\"Calculating distribution statistic median per team size\")\n",
    "team_publs_by_n_authors = not_all_unknown.groupby(\"n_authors\")\n",
    "\n",
    "team_ratio_median = team_publs_by_n_authors.agg({'ratio':'median'})\n",
    "team_ratio_median[\"n_authors\"] = team_ratio_median.index.values.tolist()\n",
    "print(\"Done!\")"
   ]
  },
  {
   "cell_type": "code",
   "execution_count": 5,
   "metadata": {},
   "outputs": [],
   "source": [
    "import matplotlib as mpl\n",
    "import matplotlib.pyplot as plt\n",
    "\n",
    "mpl.rcParams['pgf.rcfonts'] = False\n",
    "mpl.rcParams['font.size'] = 11.0"
   ]
  },
  {
   "cell_type": "code",
   "execution_count": 6,
   "metadata": {},
   "outputs": [
    {
     "name": "stdout",
     "output_type": "stream",
     "text": [
      "Visualizing Scatter graph for all Gender Balance Indices and drawing the Median per team size...\n"
     ]
    },
    {
     "data": {
      "image/png": "[encoded data removed]",
      "text/plain": [
       "<Figure size 432x288 with 1 Axes>"
      ]
     },
     "metadata": {
      "needs_background": "light"
     },
     "output_type": "display_data"
    },
    {
     "name": "stdout",
     "output_type": "stream",
     "text": [
      "File saved at ../_graphs/h3/ratio_by_team_size_scatter\n"
     ]
    }
   ],
   "source": [
    "# >>> Visualization\n",
    "print(\"Visualizing Scatter graph for all Gender Balance Indices and drawing the Median per team size...\")\n",
    "plt.scatter(not_all_unknown[\"n_authors\"], not_all_unknown[\"ratio\"], color=\"grey\", alpha=0.1, label=\"\")\n",
    "plt.plot(team_ratio_median[\"n_authors\"], team_ratio_median[\"ratio\"], label=\"Median\", color=\"black\")\n",
    "\n",
    "plt.xlabel(\"Team Size\")\n",
    "plt.ylabel(\"Gender Balance Indicator\")\n",
    "plt.legend()\n",
    "\n",
    "plt.savefig('../_graphs/h3/ratio_by_team_size_scatter.png')\n",
    "\n",
    "plt.show()\n",
    "\n",
    "print(\"File saved at ../_graphs/h3/ratio_by_team_size_scatter\")"
   ]
  },
  {
   "cell_type": "code",
   "execution_count": null,
   "metadata": {},
   "outputs": [],
   "source": [
    "# >>> Interpretation:\n",
    "# It remains unknown whether Hypothesis 3 is correct or not."
   ]
  }
 ],
 "metadata": {
  "kernelspec": {
   "display_name": "Python 3",
   "language": "python",
   "name": "python3"
  },
  "language_info": {
   "codemirror_mode": {
    "name": "ipython",
    "version": 3
   },
   "file_extension": ".py",
   "mimetype": "text/x-python",
   "name": "python",
   "nbconvert_exporter": "python",
   "pygments_lexer": "ipython3",
   "version": "3.7.1"
  }
 },
 "nbformat": 4,
 "nbformat_minor": 2
}
