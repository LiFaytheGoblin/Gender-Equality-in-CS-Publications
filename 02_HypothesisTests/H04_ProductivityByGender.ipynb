{
 "cells": [
  {
   "cell_type": "code",
   "execution_count": null,
   "metadata": {},
   "outputs": [],
   "source": [
    "# HYPOTHESIS TESTING"
   ]
  },
  {
   "cell_type": "code",
   "execution_count": null,
   "metadata": {},
   "outputs": [],
   "source": [
    "# Hypothesis 4:\n",
    "# A male author is equally productive as a female author."
   ]
  },
  {
   "cell_type": "code",
   "execution_count": 3,
   "metadata": {},
   "outputs": [
    {
     "name": "stdout",
     "output_type": "stream",
     "text": [
      "Importing names... \n",
      "Names imported. They look like this:                                         name likely_gender  n_publs  score  \\\n",
      "name                                                                         \n",
      "'Maseka Lesaoana            'Maseka Lesaoana        female        2      8   \n",
      "(David) Jing Dai            (David) Jing Dai          male        1      7   \n",
      "(Max) Zong-Ming Cheng  (Max) Zong-Ming Cheng          male        2      8   \n",
      "(Sophy) Shu-Jiun Chen  (Sophy) Shu-Jiun Chen        female        2      7   \n",
      "(Zhou) Bryan Bai            (Zhou) Bryan Bai          male        2      6   \n",
      "\n",
      "                       n_contribs  \n",
      "name                               \n",
      "'Maseka Lesaoana         0.583333  \n",
      "(David) Jing Dai         0.200000  \n",
      "(Max) Zong-Ming Cheng    0.297619  \n",
      "(Sophy) Shu-Jiun Chen    0.642857  \n",
      "(Zhou) Bryan Bai         1.000000  \n"
     ]
    }
   ],
   "source": [
    "# >>> Preparation\n",
    "# Import categorized 'names_cat.csv'\n",
    "import pandas\n",
    "\n",
    "print(\"Importing names... \")\n",
    "names = pandas.read_csv(\"../_data/names_cat_i3.csv\", usecols=[\"name\", \"n_publs\", \"likely_gender\", \"score\", \"n_contribs\"])\n",
    "\n",
    "# Setting index & accessing cells: https://pythonhow.com/accessing-dataframe-columns-rows-and-cells/\n",
    "names = names.set_index(\"name\", drop = False)\n",
    "print(\"Names imported. They look like this: {}\".format(names[:5]))"
   ]
  },
  {
   "cell_type": "code",
   "execution_count": 4,
   "metadata": {},
   "outputs": [],
   "source": [
    "# Import of libraries\n",
    "from statistics import mode\n",
    "import numpy as np\n",
    "import matplotlib.pyplot as plt\n",
    "import matplotlib as mpl"
   ]
  },
  {
   "cell_type": "code",
   "execution_count": 5,
   "metadata": {},
   "outputs": [],
   "source": [
    "# Get data to analyze\n",
    "regular_authors = names[names[\"score\"] >= 5]"
   ]
  },
  {
   "cell_type": "code",
   "execution_count": 6,
   "metadata": {},
   "outputs": [
    {
     "name": "stdout",
     "output_type": "stream",
     "text": [
      "On average, an author makes: mean=2.141247911241926, median=0.5 and mode=0.3333333333333333 contributions\n",
      "On average, a female author makes: mean=1.3841903867560146, median=0.5 and mode=0.3333333333333333 contributions\n",
      "On average, a male author makes: mean=2.239408609184296, median=0.5428571428571429 and mode=0.3333333333333333 contributions\n"
     ]
    }
   ],
   "source": [
    "# >>> Descriptive statistics\n",
    "n_contribs_mean = regular_authors[\"n_contribs\"].mean()\n",
    "n_contribs_median = np.median(regular_authors[\"n_contribs\"]) # https://docs.scipy.org/doc/numpy-1.13.0/reference/generated/numpy.median.html\n",
    "n_contribs_mode = mode(regular_authors[\"n_contribs\"])\n",
    "\n",
    "n_contribs_mean_by_gender = regular_authors.groupby(\"likely_gender\").agg({'n_contribs':'mean'}) # Mean by gender\n",
    "n_contribs_mean_by_gender[\"likely_gender\"] = n_contribs_mean_by_gender.index.values\n",
    "\n",
    "n_contribs_median_by_gender = regular_authors.groupby(\"likely_gender\").agg({'n_contribs':'median'}) # Median by gender\n",
    "n_contribs_median_by_gender[\"likely_gender\"] = n_contribs_median_by_gender.index.values\n",
    "\n",
    "n_contribs_mode_by_gender = regular_authors.groupby(\"likely_gender\").agg({'n_contribs': mode}) # Mode by gender\n",
    "n_contribs_mode_by_gender[\"likely_gender\"] = n_contribs_mode_by_gender.index.values\n",
    "\n",
    "n_contribs_f_mean = n_contribs_mean_by_gender[\"n_contribs\"][\"female\"]\n",
    "n_contribs_f_median = n_contribs_median_by_gender[\"n_contribs\"][\"female\"]\n",
    "n_contribs_f_mode = n_contribs_mode_by_gender[\"n_contribs\"][\"female\"]\n",
    "\n",
    "n_contribs_m_mean = n_contribs_mean_by_gender[\"n_contribs\"][\"male\"]\n",
    "n_contribs_m_median = n_contribs_median_by_gender[\"n_contribs\"][\"male\"]\n",
    "n_contribs_m_mode = n_contribs_mode_by_gender[\"n_contribs\"][\"male\"]\n",
    "\n",
    "print(\"On average, an author makes: mean={}, median={} and mode={} contributions\".format(n_contribs_mean, n_contribs_median, n_contribs_mode))\n",
    "print(\"On average, a female author makes: mean={}, median={} and mode={} contributions\".format(n_contribs_f_mean, n_contribs_f_median, n_contribs_f_mode))\n",
    "print(\"On average, a male author makes: mean={}, median={} and mode={} contributions\".format(n_contribs_m_mean, n_contribs_m_median, n_contribs_m_mode))\n"
   ]
  },
  {
   "cell_type": "code",
   "execution_count": 7,
   "metadata": {},
   "outputs": [
    {
     "name": "stdout",
     "output_type": "stream",
     "text": [
      "Calculating Skewness to make sure the data is not normally distributed! Else we could use an easier test...\n",
      "Skewness: m: 12.025294019009115 f: 15.87544046365454\n"
     ]
    }
   ],
   "source": [
    "# >>> Hypothesis Testing\n",
    "# Which hypothesis test to use?\n",
    "print(\"Calculating Skewness to make sure the data is not normally distributed! Else we could use an easier test...\")\n",
    "from scipy.stats import skew\n",
    "f = regular_authors[regular_authors[\"likely_gender\"] == \"female\"][\"n_contribs\"]\n",
    "m = regular_authors[regular_authors[\"likely_gender\"] == \"male\"][\"n_contribs\"]\n",
    "print(\"Skewness: m: {} f: {}\".format(skew(m), skew(f)))\n",
    "# The skewness shows that the data is not normally distributed, and thus the hypothesis test is to be done with mann whitney u \n",
    "# https://www.jstor.org/stable/2236101?read-now=1&refreqid=excelsior%3Ad37490a1fce1c6303bc555f6a6d4638e&seq=1#page_scan_tab_contents\n",
    "# https://www.methodenberatung.uzh.ch/de/datenanalyse_spss/unterschiede/zentral/mann.html"
   ]
  },
  {
   "cell_type": "code",
   "execution_count": 8,
   "metadata": {},
   "outputs": [
    {
     "name": "stdout",
     "output_type": "stream",
     "text": [
      "Test returned U = 69084463785.5, two sided p value= 0.0\n"
     ]
    }
   ],
   "source": [
    "# Mann Whitney U Test\n",
    "from scipy.stats import mannwhitneyu\n",
    "# Ranking not necessary, is done by SciPy.\n",
    "U, p = mannwhitneyu(f, m, alternative=\"two-sided\")\n",
    "# U = number of times that m rank is before an f rank\n",
    "print(\"Test returned U = {}, two sided p value= {}\".format(U, p))\n",
    "# p < 0.05"
   ]
  },
  {
   "cell_type": "code",
   "execution_count": null,
   "metadata": {},
   "outputs": [],
   "source": [
    "# >>> Evaluation\n",
    "# Hypothesis 4 is not correct. According to the table a male author is more productive than a female author."
   ]
  }
 ],
 "metadata": {
  "kernelspec": {
   "display_name": "Python 3",
   "language": "python",
   "name": "python3"
  },
  "language_info": {
   "codemirror_mode": {
    "name": "ipython",
    "version": 3
   },
   "file_extension": ".py",
   "mimetype": "text/x-python",
   "name": "python",
   "nbconvert_exporter": "python",
   "pygments_lexer": "ipython3",
   "version": "3.7.1"
  }
 },
 "nbformat": 4,
 "nbformat_minor": 2
}
