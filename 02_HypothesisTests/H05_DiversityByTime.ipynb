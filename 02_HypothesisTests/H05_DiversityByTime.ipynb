{
 "cells": [
  {
   "cell_type": "code",
   "execution_count": null,
   "metadata": {},
   "outputs": [],
   "source": [
    "# Hypothesis Testing\n",
    "# 5: Over time, the share of (contributions made by) female authors stays the same"
   ]
  },
  {
   "cell_type": "code",
   "execution_count": 5,
   "metadata": {},
   "outputs": [
    {
     "name": "stdout",
     "output_type": "stream",
     "text": [
      "Importing publications... \n"
     ]
    },
    {
     "name": "stderr",
     "output_type": "stream",
     "text": [
      "C:\\Program_Files\\Anaconda3\\lib\\site-packages\\IPython\\core\\interactiveshell.py:3020: DtypeWarning: Columns (3) have mixed types. Specify dtype option on import or set low_memory=False.\n",
      "  interactivity=interactivity, compiler=compiler, result=result)\n"
     ]
    },
    {
     "name": "stdout",
     "output_type": "stream",
     "text": [
      "Publications imported. They look like this:                                                                  key  \\\n",
      "key                                                                    \n",
      "books/acm/0082477                                  books/acm/0082477   \n",
      "books/acm/Kim95                                      books/acm/Kim95   \n",
      "books/acm/kim95/AnnevelinkACFHK95  books/acm/kim95/AnnevelinkACFHK95   \n",
      "books/acm/kim95/Blakeley95                books/acm/kim95/Blakeley95   \n",
      "books/acm/kim95/BreitbartGS95          books/acm/kim95/BreitbartGS95   \n",
      "\n",
      "                                        pub_cat pub_type  \\\n",
      "key                                                        \n",
      "books/acm/0082477                          book      NaN   \n",
      "books/acm/Kim95                            book      NaN   \n",
      "books/acm/kim95/AnnevelinkACFHK95  incollection      NaN   \n",
      "books/acm/kim95/Blakeley95         incollection      NaN   \n",
      "books/acm/kim95/BreitbartGS95      incollection      NaN   \n",
      "\n",
      "                                                                               title  \\\n",
      "key                                                                                    \n",
      "books/acm/0082477                        The no-nonsense guide to computing careers.   \n",
      "books/acm/Kim95                    Modern Database Systems: The Object Model, Int...   \n",
      "books/acm/kim95/AnnevelinkACFHK95  Object SQL - A Language for the Design and Imp...   \n",
      "books/acm/kim95/Blakeley95         OQL[C++]: Extending C++ with an Object Query C...   \n",
      "books/acm/kim95/BreitbartGS95       Transaction Management in Multidatabase Systems.   \n",
      "\n",
      "                                   year  \\\n",
      "key                                       \n",
      "books/acm/0082477                  1992   \n",
      "books/acm/Kim95                    1995   \n",
      "books/acm/kim95/AnnevelinkACFHK95  1995   \n",
      "books/acm/kim95/Blakeley95         1995   \n",
      "books/acm/kim95/BreitbartGS95      1995   \n",
      "\n",
      "                                                                             authors  \\\n",
      "key                                                                                    \n",
      "books/acm/0082477                                                    ['Marc Rettig']   \n",
      "books/acm/Kim95                                                                   []   \n",
      "books/acm/kim95/AnnevelinkACFHK95  ['Jurgen Annevelink', 'Rafiul Ahad', 'Amelia C...   \n",
      "books/acm/kim95/Blakeley95                                      ['José A. Blakeley']   \n",
      "books/acm/kim95/BreitbartGS95      ['Yuri Breitbart', 'Hector Garcia-Molina', 'Ab...   \n",
      "\n",
      "                                   n_authors  n_males  n_females  n_unknown  \\\n",
      "key                                                                           \n",
      "books/acm/0082477                          1      1.0        0.0        0.0   \n",
      "books/acm/Kim95                            0      0.0        0.0        0.0   \n",
      "books/acm/kim95/AnnevelinkACFHK95          6      4.0        1.0        1.0   \n",
      "books/acm/kim95/Blakeley95                 1      1.0        0.0        0.0   \n",
      "books/acm/kim95/BreitbartGS95              3      2.0        0.0        1.0   \n",
      "\n",
      "                                   ratio  n_contribs_females  \\\n",
      "key                                                            \n",
      "books/acm/0082477                   50.0            0.000000   \n",
      "books/acm/Kim95                      0.0            0.000000   \n",
      "books/acm/kim95/AnnevelinkACFHK95   30.0            0.166667   \n",
      "books/acm/kim95/Blakeley95          50.0            0.000000   \n",
      "books/acm/kim95/BreitbartGS95       50.0            0.000000   \n",
      "\n",
      "                                   n_contribs_males  n_contribs_unknown  \n",
      "key                                                                      \n",
      "books/acm/0082477                          1.000000            0.000000  \n",
      "books/acm/Kim95                            0.000000            0.000000  \n",
      "books/acm/kim95/AnnevelinkACFHK95          0.666667            0.166667  \n",
      "books/acm/kim95/Blakeley95                 1.000000            0.000000  \n",
      "books/acm/kim95/BreitbartGS95              0.666667            0.333333  \n"
     ]
    }
   ],
   "source": [
    "# >>> Preparation\n",
    "import pandas\n",
    "\n",
    "print(\"Importing publications... \")\n",
    "cols = [\n",
    "    'key', \n",
    "    'pub_cat',\n",
    "    'pub_type',\n",
    "    'title',\n",
    "    'year',\n",
    "    'authors',\n",
    "    'n_authors',\n",
    "    'n_males',\n",
    "    'n_females',\n",
    "    'n_unknown',\n",
    "    'ratio',\n",
    "    'n_contribs_females',\n",
    "    'n_contribs_males',\n",
    "    'n_contribs_unknown',\n",
    "]\n",
    "\n",
    "publs = pandas.read_csv(\"../_data/publications.csv\", usecols=cols)\n",
    "\n",
    "# Setting index & accessing cells: https://pythonhow.com/accessing-dataframe-columns-rows-and-cells/\n",
    "publs = publs.set_index(\"key\", drop = False)\n",
    "print(\"Publications imported. They look like this: {}\".format(publs[:5]))"
   ]
  },
  {
   "cell_type": "code",
   "execution_count": 6,
   "metadata": {},
   "outputs": [
    {
     "name": "stdout",
     "output_type": "stream",
     "text": [
      "Calculating necessary sample size per year...\n",
      "Necessary sample size is 665.6399999999999\n"
     ]
    }
   ],
   "source": [
    "# Calculate necessary sample size\n",
    "# https://www.wikihow.com/Calculate-Sample-Size\n",
    "# https://www.qualtrics.com/de/erlebnismanagement/research-core/online-stichproben/?rid=langMatch&prevsite=en&newsite=de&geo=&geomatch=\n",
    "\n",
    "print(\"Calculating necessary sample size per year...\")\n",
    "\n",
    "z = 2.58\n",
    "e = 0.05\n",
    "d = 0.5\n",
    "\n",
    "S = (z*z*d*(1-d))/(e*e)\n",
    "\n",
    "print(\"Necessary sample size is {}\".format(S))"
   ]
  },
  {
   "cell_type": "code",
   "execution_count": 7,
   "metadata": {},
   "outputs": [
    {
     "name": "stdout",
     "output_type": "stream",
     "text": [
      "Finding min and max years for analysis...\n",
      "Done. Years 1962 - 2018 will be analyzed.\n"
     ]
    }
   ],
   "source": [
    "# Find out the minimum and maximum valid year:\n",
    "\n",
    "print(\"Finding min and max years for analysis...\")\n",
    "\n",
    "publs_by_year_group = publs.groupby(\"year\") # Create dataset of publications by year\n",
    "publs_sum_by_year = publs_by_year_group.count() # Data Set of how many publications by year\n",
    "min_year = publs_sum_by_year[publs_sum_by_year['key'] > S].index.values.min() #  \t1962\n",
    "max_year = 2018 # To Adjust: We only have 4 months of 2019 with the dataset of April 2019\n",
    "\n",
    "print(\"Done. Years {} - {} will be analyzed.\".format(min_year, max_year))"
   ]
  },
  {
   "cell_type": "code",
   "execution_count": 12,
   "metadata": {},
   "outputs": [
    {
     "name": "stdout",
     "output_type": "stream",
     "text": [
      "Calculating amount of authors by gender per year...\n",
      "Done. 57 years calculated.\n"
     ]
    }
   ],
   "source": [
    "# Get data: amount of authors by gender summed up by year\n",
    "print(\"Calculating amount of authors by gender per year...\")\n",
    "\n",
    "publs_lim = publs[(publs['year'] >= min_year) & (publs['year'] <= max_year)]\n",
    "publs_lim_grouped = publs_lim.groupby(\"year\").sum()\n",
    "publs_lim_grouped[\"year\"] = publs_lim_grouped.index.values.tolist()\n",
    "\n",
    "print(\"Done. {} years calculated.\".format(len(publs_lim_grouped)))"
   ]
  },
  {
   "cell_type": "code",
   "execution_count": 14,
   "metadata": {},
   "outputs": [
    {
     "name": "stdout",
     "output_type": "stream",
     "text": [
      "Getting share of women and unclassified authors by year... \n",
      "Done! And share of contribs made by women per year...\n",
      "Done!\n"
     ]
    }
   ],
   "source": [
    "# Get female share of authors per year\n",
    "print(\"Getting share of women and unclassified authors by year... \")\n",
    "publs_lim_grouped[\"f_share_authors\"] = publs_lim_grouped[\"n_females\"] / publs_lim_grouped[\"n_authors\"] * 100\n",
    "publs_lim_grouped[\"u_share_authors\"] = publs_lim_grouped[\"n_unknown\"] / publs_lim_grouped[\"n_authors\"] * 100\n",
    "\n",
    "print(\"Done! And share of contribs made by women per year...\")\n",
    "#Bonus: Part of contribs by women by year\n",
    "publs_lim_grouped[\"f_share_contribs\"] = publs_lim_grouped[\"n_contribs_females\"] / (publs_lim_grouped[\"n_contribs_females\"] + publs_lim_grouped[\"n_contribs_males\"] + publs_lim_grouped[\"n_contribs_unknown\"]) * 100\n",
    "\n",
    "print(\"Done!\")"
   ]
  },
  {
   "cell_type": "code",
   "execution_count": 15,
   "metadata": {},
   "outputs": [
    {
     "name": "stdout",
     "output_type": "stream",
     "text": [
      "Calculating Spearman's Correlation Coefficient...\n",
      "Done! Rho=0.9797770287788437, p=4.0366818192400194e-40\n"
     ]
    }
   ],
   "source": [
    "# >>> Calculation\n",
    "from scipy import stats\n",
    "print(\"Calculating Spearman's Correlation Coefficient...\")\n",
    "rho, p = stats.spearmanr(publs_lim_grouped[\"year\"], publs_lim_grouped[\"f_share_authors\"])\n",
    "print(\"Done! Rho={}, p={}\".format(rho, p))"
   ]
  },
  {
   "cell_type": "code",
   "execution_count": 16,
   "metadata": {},
   "outputs": [
    {
     "name": "stdout",
     "output_type": "stream",
     "text": [
      "Calculating Spearman's Correlation Coefficient for unclassified authors ...\n",
      "Done! Rho=0.8273269380347421, p=2.14923683284596e-15\n"
     ]
    }
   ],
   "source": [
    "# Test Constraint: Unclassified authors\n",
    "print(\"Calculating Spearman's Correlation Coefficient for unclassified authors ...\")\n",
    "rho2, p2 = stats.spearmanr(publs_lim_grouped[\"year\"], publs_lim_grouped[\"u_share_authors\"])\n",
    "print(\"Done! Rho={}, p={}\".format(rho2, p2))"
   ]
  },
  {
   "cell_type": "code",
   "execution_count": 18,
   "metadata": {},
   "outputs": [
    {
     "data": {
      "image/png": "[encoded data removed]",
      "text/plain": [
       "<Figure size 432x288 with 1 Axes>"
      ]
     },
     "metadata": {
      "needs_background": "light"
     },
     "output_type": "display_data"
    }
   ],
   "source": [
    "# >>> Visualization\n",
    "print(\"Visualizing share of women and their contributions per year...\")\n",
    "\n",
    "import matplotlib.pyplot as plt\n",
    "import matplotlib as mpl\n",
    "\n",
    "mpl.rcParams['pgf.rcfonts'] = False\n",
    "mpl.rcParams['font.size'] = 11.0\n",
    "\n",
    "plt.plot(publs_lim_grouped[\"year\"], publs_lim_grouped[\"f_share_authors\"], label=\"Female authors\", color=\"black\")\n",
    "plt.plot(publs_lim_grouped[\"year\"], publs_lim_grouped[\"f_share_contribs\"], label=\"Contributions by female authors\", color=\"grey\")\n",
    "\n",
    "plt.xlabel(\"Year\")\n",
    "plt.ylabel(\"Share in %\")\n",
    "plt.legend()\n",
    "\n",
    "plt.savefig('../_graphs/h5/share_women_per_year_2.pdf')\n",
    "plt.savefig('../_graphs/h5/share_women_per_year_2.pgf')\n",
    "\n",
    "print(\"Graph saved at ../_graphs/h5/share_women_per_year_2\")"
   ]
  },
  {
   "cell_type": "code",
   "execution_count": 19,
   "metadata": {},
   "outputs": [
    {
     "data": {
      "image/png": "[encoded data removed]",
      "text/plain": [
       "<Figure size 432x288 with 1 Axes>"
      ]
     },
     "metadata": {
      "needs_background": "light"
     },
     "output_type": "display_data"
    }
   ],
   "source": [
    "# Test constraint\n",
    "print(\"Visualizing share of women and share of unclassified authors per year...\")\n",
    "\n",
    "plt.plot(publs_lim_grouped[\"year\"], publs_lim_grouped[\"f_share_authors\"], label=\"Female authors\", color=\"black\")\n",
    "plt.plot(publs_lim_grouped[\"year\"], publs_lim_grouped[\"u_share_authors\"], label=\"Authors of unknown gender \\n (score < 5)\", color=\"grey\")\n",
    "\n",
    "plt.xlabel(\"Year\")\n",
    "plt.ylabel(\"Share in %\")\n",
    "plt.legend()\n",
    "\n",
    "plt.savefig('../_graphs/h5/share_women_and_unknown_per_year.pdf')\n",
    "plt.savefig('../_graphs/h5/share_women_and_unknown_per_year.pgf')\n",
    "\n",
    "print(\"Graph saved at ../_graphs/h5/share_women_and_unknown_per_year\")"
   ]
  },
  {
   "cell_type": "code",
   "execution_count": null,
   "metadata": {},
   "outputs": [],
   "source": [
    "# >>> Interpretation:\n",
    "# The hypothesis is rejected. The share of (contributions made by) female authors grows slightly.\n",
    "# Careful. The amount of unclassified authors grows as well."
   ]
  },
  {
   "cell_type": "code",
   "execution_count": null,
   "metadata": {},
   "outputs": [],
   "source": []
  }
 ],
 "metadata": {
  "kernelspec": {
   "display_name": "Python 3",
   "language": "python",
   "name": "python3"
  },
  "language_info": {
   "codemirror_mode": {
    "name": "ipython",
    "version": 3
   },
   "file_extension": ".py",
   "mimetype": "text/x-python",
   "name": "python",
   "nbconvert_exporter": "python",
   "pygments_lexer": "ipython3",
   "version": "3.7.1"
  }
 },
 "nbformat": 4,
 "nbformat_minor": 2
}
