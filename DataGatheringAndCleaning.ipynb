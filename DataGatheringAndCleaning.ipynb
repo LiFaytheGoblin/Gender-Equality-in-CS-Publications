{
 "cells": [
  {
   "cell_type": "code",
   "execution_count": null,
   "metadata": {},
   "outputs": [],
   "source": [
    "# Tutorial on parsing an XML file: \n",
    "# \"Processing XML in Python — ElementTree. A Beginner’s Guide.\" by Deepesh Nair, Sep 15, 2018,\n",
    "# Published at https://towardsdatascience.com/processing-xml-in-python-elementtree-c8992941efd2 \n",
    "# (Visited: 13.03.2019)\n",
    "\n",
    "# Problem: XML is in ascii, so when parsing, I get \"undefined entity\" errors.\n",
    "# Hint to solution: https://stackoverflow.com/questions/22920295/parse-xhtml-document-with-undefined-entity\n",
    "# parser.entity['ouml'] = 'Ö'\n",
    "# Further documentation used: https://docs.python.org/3.3/library/xml.html\n",
    "\n",
    "import datetime\n",
    "import xml.etree.ElementTree as ET\n",
    "parser = ET.XMLParser(encoding='ASCII')\n",
    "\n",
    "# Because dblp.xml is encoded in ASCII, I decode some special characters and letters from ISO-8859-1\n",
    "special_chars = {\n",
    "    'Auml': 'Ä',\n",
    "    'Euml': 'Ë',\n",
    "    'Iuml': 'Ï',\n",
    "    'Ouml': 'Ö',\n",
    "    'Uuml': 'Ü',\n",
    "    \n",
    "    'auml': 'ä',\n",
    "    'euml': 'ë',\n",
    "    'iuml': 'i',\n",
    "    'ouml': 'ö',\n",
    "    'uuml': 'ü',\n",
    "    'yuml': 'ÿ',\n",
    "    \n",
    "    'Aacute': 'Á',\n",
    "    'Eacute': 'É',\n",
    "    'Iacute': 'Í',\n",
    "    'Oacute': 'Ó',\n",
    "    'Uacute': 'Ú',\n",
    "    \n",
    "    'Yacute': 'Ý',\n",
    "    'aacute': 'á',\n",
    "    'eacute': 'é',\n",
    "    'iacute': 'í',\n",
    "    'oacute': 'ó',\n",
    "    'uacute': 'ú',\n",
    "    'yacute': 'ý',\n",
    "    \n",
    "    'Agrave': 'À',\n",
    "    'Egrave': 'È',\n",
    "    'Igrave': 'Ì',\n",
    "    'Ograve': 'Ò',\n",
    "    'Ugrave': 'Ù',\n",
    "    \n",
    "    'agrave': 'à',\n",
    "    'egrave': 'è',\n",
    "    'igrave': 'ì',\n",
    "    'ograve': 'ò',\n",
    "    'ugrave': 'ù',\n",
    "    \n",
    "    'szlig': 'ß',\n",
    "    \n",
    "    'Atilde': 'Ã',\n",
    "    'Ntilde': 'Ñ',\n",
    "    'Otilde': 'Õ',\n",
    "    \n",
    "    'atilde': 'ã',\n",
    "    'ntilde': 'ñ',\n",
    "    'otilde': 'õ',\n",
    "    \n",
    "    'Ccedil': 'Ç',\n",
    "    'ccedil': 'ç',\n",
    "    \n",
    "    'Acirc': 'Â',\n",
    "    'Ecirc': 'Ê',\n",
    "    'Icirc': 'Î',\n",
    "    'Ocirc': 'Ô',\n",
    "    'Ucirc': 'Û',\n",
    "    \n",
    "    'acirc': 'â',\n",
    "    'ecirc': 'ê',\n",
    "    'icirc': 'î',\n",
    "    'ocirc': 'ô',\n",
    "    'ucirc': 'û',\n",
    "    \n",
    "    'AElig': 'Æ',\n",
    "    'aelig': 'æ',\n",
    "    \n",
    "    'Aring': 'Å',\n",
    "    'aring': 'å',\n",
    "    \n",
    "    'Oslash': 'Ø',\n",
    "    'oslash': 'ø',\n",
    "    \n",
    "    'ETH': 'Ð',\n",
    "    'eth': 'ð',\n",
    "    \n",
    "    'thorn': 'þ',\n",
    "    'THORN': 'Þ',\n",
    "    \n",
    "    'micro': 'µ',\n",
    "    'times': '×',\n",
    "    'reg': '®'\n",
    "}\n",
    "\n",
    "for key, val in special_chars.items():\n",
    "    parser.entity[key] = val\n",
    "    \n",
    "file = 'data/dblp.xml'\n",
    "time = datetime.datetime.now()\n",
    "print(\"Starting to parse XML file at {} ...\".format(time))\n",
    "tree = ET.parse(file, parser=parser)\n",
    "time = datetime.datetime.now()\n",
    "print(\"Finished parsing XML file at {} ! \".format(time))\n",
    "root = tree.getroot()\n",
    "print(\"Found {} entries! \".format(len(root)))"
   ]
  },
  {
   "cell_type": "code",
   "execution_count": null,
   "metadata": {},
   "outputs": [],
   "source": [
    "#root.tag"
   ]
  },
  {
   "cell_type": "code",
   "execution_count": null,
   "metadata": {},
   "outputs": [],
   "source": [
    "#root.attrib"
   ]
  },
  {
   "cell_type": "code",
   "execution_count": null,
   "metadata": {},
   "outputs": [],
   "source": [
    "#for child in root:\n",
    "#    print(child.tag, child.attrib)"
   ]
  },
  {
   "cell_type": "code",
   "execution_count": null,
   "metadata": {
    "scrolled": true
   },
   "outputs": [],
   "source": [
    "# Remove unneeded data\n",
    "# https://dblp.org/faq/16154937.html\n",
    "\n",
    "print(\"Starting to clean up data on publications...\")\n",
    "\n",
    "tree_copy = tree\n",
    "root_copy = root\n",
    "\n",
    "children_to_remove = []"
   ]
  },
  {
   "cell_type": "code",
   "execution_count": null,
   "metadata": {},
   "outputs": [],
   "source": [
    "# Remove publications we are not interested in: www, it contains mostly authors, but not all authors\n",
    "# https://dblp.org/faq/1474690.html\n",
    "\n",
    "print(\"Searching for author entries to remove...\")\n",
    "\n",
    "for child in root:\n",
    "    if(child.tag == \"www\"):\n",
    "        children_to_remove.append(child)"
   ]
  },
  {
   "cell_type": "code",
   "execution_count": null,
   "metadata": {},
   "outputs": [],
   "source": [
    "# Remove all informal publications, suveys, data, software\n",
    "\n",
    "print(\"Searching for publication entries to remove...\")\n",
    "\n",
    "categories_to_remove = [\"survey\", \"data\", \"software\"]\n",
    "\n",
    "for child in root:\n",
    "    pt = child.get(\"publtype\")\n",
    "    if(pt is not None and pt in categories_to_remove):\n",
    "        children_to_remove.append(child)\n",
    "\n",
    "print(\"Found {} elements to remove. Continuing to remove... \".format(len(children_to_remove)))"
   ]
  },
  {
   "cell_type": "code",
   "execution_count": null,
   "metadata": {},
   "outputs": [],
   "source": [
    "import sys\n",
    "\n",
    "c = 0\n",
    "\n",
    "print(len(children_to_remove))\n",
    "\n",
    "for child in children_to_remove:\n",
    "    try:\n",
    "        root.remove(child)\n",
    "        c+=1\n",
    "        if(c % 100 == 0):\n",
    "            print(\"Removed 100 entries.\")\n",
    "    except:\n",
    "        print(sys.exc_info()[0])\n",
    "        \n",
    "print(\"Removed all entries marked for removal. {} entries left.\".format(len(root)))"
   ]
  },
  {
   "cell_type": "code",
   "execution_count": null,
   "metadata": {},
   "outputs": [],
   "source": [
    "text_file = open(\"data/clean_dblp.xml\", \"w\")\n",
    "text_file.write(\"\")\n",
    "text_file.close()"
   ]
  },
  {
   "cell_type": "code",
   "execution_count": null,
   "metadata": {},
   "outputs": [],
   "source": [
    "# Save the cleaned xml\n",
    "\n",
    "tree.write(\"data/clean_dblp.xml\", xml_declaration=\"UTF-8\", method=\"xml\")\n",
    "print(\"Saved XML in file.\")"
   ]
  },
  {
   "cell_type": "code",
   "execution_count": null,
   "metadata": {},
   "outputs": [],
   "source": [
    "# Get all authors\n",
    "\n",
    "import csv\n",
    "\n",
    "names_complete = {}\n",
    "\n",
    "print(\"Starting to extract author names...\")\n",
    "\n",
    "for child in root:\n",
    "    res = child.findall(\"author\")\n",
    "    for name in res:\n",
    "        if (name.text in names_complete):\n",
    "            names_complete[name.text] = names_complete[name.text] + 1\n",
    "        else:\n",
    "            names_complete[name.text] = 1\n",
    "        \n",
    "print(\"Finished extracting author names! Found {} entries.\".format(len(names_complete)))"
   ]
  },
  {
   "cell_type": "code",
   "execution_count": null,
   "metadata": {},
   "outputs": [],
   "source": [
    "import pandas as pd\n",
    "\n",
    "# Dict to dataframe: https://pandas.pydata.org/pandas-docs/stable/reference/api/pandas.DataFrame.from_dict.html\n",
    "print(\"Converting dictionary of names to a dataframe...\")\n",
    "names = pd.DataFrame.from_dict(names_complete, orient='index', dtype=None, columns=[\"n_publs\"])\n",
    "print(\"Dataframe completed! Here are random entries:\")"
   ]
  },
  {
   "cell_type": "code",
   "execution_count": null,
   "metadata": {
    "scrolled": false
   },
   "outputs": [],
   "source": [
    "sample = names.sample(n=10)\n",
    "\n",
    "print(sample)"
   ]
  },
  {
   "cell_type": "code",
   "execution_count": null,
   "metadata": {},
   "outputs": [],
   "source": [
    "print(\"Sorting names...\")\n",
    "srtd_n_publs = names.sort_values(by=\"n_publs\", ascending=False)\n",
    "print(\"Names sorted!\")"
   ]
  },
  {
   "cell_type": "code",
   "execution_count": null,
   "metadata": {},
   "outputs": [],
   "source": [
    "print(\"The most publishing authors are ...\")\n",
    "# https://stackoverflow.com/questions/15006298/how-to-preview-a-part-of-a-large-pandas-dataframe-in-ipython-notebook\n",
    "srtd_n_publs.head(10)"
   ]
  },
  {
   "cell_type": "code",
   "execution_count": null,
   "metadata": {},
   "outputs": [],
   "source": [
    "# Adding empty columns to dataframe\n",
    "# https://stackoverflow.com/questions/16327055/how-to-add-an-empty-column-to-a-dataframe\n",
    "\n",
    "names[\"gender\"] = \"\"\n",
    "names[\"score\"] = \"\""
   ]
  },
  {
   "cell_type": "code",
   "execution_count": null,
   "metadata": {},
   "outputs": [],
   "source": [
    "'''\n",
    "# Python Documentation on reading & Writing CSV https://docs.python.org/3.5/library/csv.html\n",
    "\n",
    "print(\"Entering names in CSV... \")\n",
    "\n",
    "with open('data/names.csv', 'w', newline='') as csvfile:\n",
    "    fieldnames = ['name', 'gender', 'certainty']\n",
    "    writer = csv.DictWriter(csvfile, fieldnames=fieldnames)\n",
    "\n",
    "    writer.writeheader()\n",
    "    for name in names:\n",
    "        writer.writerow({\n",
    "            'name': name, \n",
    "            'gender': '', \n",
    "            'certainty': '0.0'\n",
    "        })\n",
    "\n",
    "print(\"Entered all names in a CSV!\")\n",
    "'''"
   ]
  },
  {
   "cell_type": "code",
   "execution_count": null,
   "metadata": {},
   "outputs": [],
   "source": [
    "print(\"Getting private key... \")\n",
    "# Get private API Key for NamSor API v2 (contained in txt file)\n",
    "key = ''\n",
    "\n",
    "# Import personal key\n",
    "with open(\"key.txt\", \"r\") as file:\n",
    "    key = file.read()\n",
    "\n",
    "if(len(key) > 0):\n",
    "    print(\"Got private key.\")\n",
    "else: \n",
    "    print(\"Could not find private key. Please check the file name and make sure you have an API key.\")"
   ]
  },
  {
   "cell_type": "code",
   "execution_count": null,
   "metadata": {},
   "outputs": [],
   "source": [
    "# Trying out NamSor API v2 to get the gender of a name\n",
    "# https://www.namsor.com/\n",
    "# https://v2.namsor.com/NamSorAPIv2/apidoc.html\n",
    "# using NamSor API v2 Python SDK\n",
    "# https://github.com/namsor/namsor-python-sdk2\n",
    "# licensed under GNU Affero General Public License v3.0\n",
    "\n",
    "# Alternatives? https://genderize.io/ -> But only first name!\n",
    "\n",
    "# Following script taken from https://github.com/namsor/namsor-python-sdk2 \"Getting Started\" \n",
    "# and adapted to keep key private and remove unnecessary lines.\n",
    "# It tests the connection to the NamSor API\n",
    "\n",
    "print(\"Testing NamSor API v2 connection...\")\n",
    "\n",
    "import openapi_client\n",
    "from openapi_client.rest import ApiException\n",
    "\n",
    "# Configure API key authorization: api_key\n",
    "configuration = openapi_client.Configuration()\n",
    "configuration.api_key['X-API-KEY'] = key"
   ]
  },
  {
   "cell_type": "code",
   "execution_count": null,
   "metadata": {},
   "outputs": [],
   "source": [
    "# create an instance of the API class\n",
    "admin_api_instance = openapi_client.AdminApi(openapi_client.ApiClient(configuration))\n",
    "\n",
    "try:\n",
    "    # Print current API usage.\n",
    "    api_response = admin_api_instance.api_usage()\n",
    "    print(api_response)\n",
    "    print(\"NamSor API v2 connection successfull!\")\n",
    "except ApiException as e:\n",
    "    print(\"Exception when calling AdminApi->api_usage: %s\\n\" % e)"
   ]
  },
  {
   "cell_type": "code",
   "execution_count": null,
   "metadata": {},
   "outputs": [],
   "source": [
    "print(\"Getting gender of a name for testing... \")\n",
    "\n",
    "import random\n",
    "\n",
    "randomInt = randint(0, len(names))\n",
    "testname = random.sample(names, 1)\n",
    "\n",
    "print(\"Chose to test {}. Continuing...\".format(testname))"
   ]
  },
  {
   "cell_type": "code",
   "execution_count": null,
   "metadata": {},
   "outputs": [],
   "source": [
    "# create an instance of the API class\n",
    "pers_api_instance = openapi_client.PersonalApi(openapi_client.ApiClient(configuration))"
   ]
  },
  {
   "cell_type": "code",
   "execution_count": null,
   "metadata": {},
   "outputs": [],
   "source": [
    "try:\n",
    "    api_response = pers_api_instance.gender_full(testname)\n",
    "    print(api_response)\n",
    "    print(type(api_response))\n",
    "except ApiException as e:\n",
    "    print(\"Exception when calling AdminApi->api_usage: %s\\n\" % e)\n",
    "\n",
    "print(\"Name {} is {} with a chance of {}.\".format(testname, api_response.likely_gender, abs(api_response.gender_scale)))"
   ]
  },
  {
   "cell_type": "code",
   "execution_count": null,
   "metadata": {},
   "outputs": [],
   "source": [
    "# Testing the API for a batch of names\n",
    "tst_names = names.head(10)"
   ]
  },
  {
   "cell_type": "code",
   "execution_count": null,
   "metadata": {},
   "outputs": [],
   "source": [
    "batch_personal_name_in = openapi_client.BatchPersonalNameIn() # BatchPersonalNameIn | A list of personal names (optional)"
   ]
  },
  {
   "cell_type": "code",
   "execution_count": null,
   "metadata": {},
   "outputs": [],
   "source": [
    "list_of_names"
   ]
  },
  {
   "cell_type": "code",
   "execution_count": null,
   "metadata": {},
   "outputs": [],
   "source": []
  }
 ],
 "metadata": {
  "kernelspec": {
   "display_name": "Python 3",
   "language": "python",
   "name": "python3"
  },
  "language_info": {
   "codemirror_mode": {
    "name": "ipython",
    "version": 3
   },
   "file_extension": ".py",
   "mimetype": "text/x-python",
   "name": "python",
   "nbconvert_exporter": "python",
   "pygments_lexer": "ipython3",
   "version": "3.7.1"
  }
 },
 "nbformat": 4,
 "nbformat_minor": 2
}
