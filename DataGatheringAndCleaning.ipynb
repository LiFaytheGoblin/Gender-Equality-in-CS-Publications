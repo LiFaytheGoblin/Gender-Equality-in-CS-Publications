{
 "cells": [
  {
   "cell_type": "code",
   "execution_count": 1,
   "metadata": {},
   "outputs": [
    {
     "name": "stdout",
     "output_type": "stream",
     "text": [
      "Starting to parse XML file at 2019-03-13 16:11:42.056032 ...\n",
      "Finished parsing XML file at 2019-03-13 16:12:53.932315 !\n"
     ]
    }
   ],
   "source": [
    "# Tutorial on parsing an XML file: \n",
    "# \"Processing XML in Python — ElementTree. A Beginner’s Guide.\" by Deepesh Nair, Sep 15, 2018,\n",
    "# Published at https://towardsdatascience.com/processing-xml-in-python-elementtree-c8992941efd2 \n",
    "# (Visited: 13.03.2019)\n",
    "\n",
    "# Problem: XML is in ascii, so when parsing, I get \"undefined entity\" errors.\n",
    "# Hint to solution: https://stackoverflow.com/questions/22920295/parse-xhtml-document-with-undefined-entity\n",
    "# parser.entity['ouml'] = 'Ö'\n",
    "# Further documentation used: https://docs.python.org/3.3/library/xml.html\n",
    "\n",
    "import datetime\n",
    "import xml.etree.ElementTree as ET\n",
    "parser = ET.XMLParser(encoding='ASCII')\n",
    "\n",
    "# Because dblp.xml is encoded in ASCII, I decode some special characters and letters\n",
    "special_chars = {\n",
    "    'Auml': 'Ä',\n",
    "    'Euml': 'Ë',\n",
    "    'Iuml': 'Ï',\n",
    "    'Ouml': 'Ö',\n",
    "    'Uuml': 'Ü',\n",
    "    \n",
    "    'auml': 'ä',\n",
    "    'euml': 'ë',\n",
    "    'iuml': 'i',\n",
    "    'ouml': 'ö',\n",
    "    'uuml': 'ü',\n",
    "    'yuml': 'ÿ',\n",
    "    \n",
    "    'Aacute': 'Á',\n",
    "    'Eacute': 'É',\n",
    "    'Iacute': 'Í',\n",
    "    'Oacute': 'Ó',\n",
    "    'Uacute': 'Ú',\n",
    "    \n",
    "    'Yacute': 'Ý',\n",
    "    'aacute': 'á',\n",
    "    'eacute': 'é',\n",
    "    'iacute': 'í',\n",
    "    'oacute': 'ó',\n",
    "    'uacute': 'ú',\n",
    "    'yacute': 'ý',\n",
    "    \n",
    "    'Agrave': 'À',\n",
    "    'Egrave': 'È',\n",
    "    'Igrave': 'Ì',\n",
    "    'Ograve': 'Ò',\n",
    "    'Ugrave': 'Ù',\n",
    "    \n",
    "    'agrave': 'à',\n",
    "    'egrave': 'è',\n",
    "    'igrave': 'ì',\n",
    "    'ograve': 'ò',\n",
    "    'ugrave': 'ù',\n",
    "    \n",
    "    'szlig': 'ß',\n",
    "    \n",
    "    'Atilde': 'Ã',\n",
    "    'Ntilde': 'Ñ',\n",
    "    'Otilde': 'Õ',\n",
    "    \n",
    "    'atilde': 'ã',\n",
    "    'ntilde': 'ñ',\n",
    "    'otilde': 'õ',\n",
    "    \n",
    "    'Ccedil': 'Ç',\n",
    "    'ccedil': 'ç',\n",
    "    \n",
    "    'Acirc': 'Â',\n",
    "    'Ecirc': 'Ê',\n",
    "    'Icirc': 'Î',\n",
    "    'Ocirc': 'Ô',\n",
    "    'Ucirc': 'Û',\n",
    "    \n",
    "    'acirc': 'â',\n",
    "    'ecirc': 'ê',\n",
    "    'icirc': 'î',\n",
    "    'ocirc': 'ô',\n",
    "    'ucirc': 'û',\n",
    "    \n",
    "    'AElig': 'Æ',\n",
    "    'aelig': 'æ',\n",
    "    \n",
    "    'Aring': 'Å',\n",
    "    'aring': 'å',\n",
    "    \n",
    "    'Oslash': 'Ø',\n",
    "    'oslash': 'ø',\n",
    "    \n",
    "    'ETH': 'Ð',\n",
    "    'eth': 'ð',\n",
    "    \n",
    "    'thorn': 'þ',\n",
    "    'THORN': 'Þ',\n",
    "    \n",
    "    'micro': 'µ',\n",
    "    'times': '×',\n",
    "    'reg': '®'\n",
    "}\n",
    "\n",
    "for key, val in special_chars.items():\n",
    "    parser.entity[key] = val\n",
    "\n",
    "file = 'data/dblp.xml'\n",
    "time = datetime.datetime.now()\n",
    "print(\"Starting to parse XML file at {} ...\".format(time))\n",
    "tree = ET.parse(file, parser=parser)\n",
    "time = datetime.datetime.now()\n",
    "print(\"Finished parsing XML file at {} !\".format(time))\n",
    "root = tree.getroot()"
   ]
  },
  {
   "cell_type": "code",
   "execution_count": null,
   "metadata": {},
   "outputs": [],
   "source": [
    "#root.tag"
   ]
  },
  {
   "cell_type": "code",
   "execution_count": null,
   "metadata": {},
   "outputs": [],
   "source": [
    "#root.attrib"
   ]
  },
  {
   "cell_type": "code",
   "execution_count": null,
   "metadata": {},
   "outputs": [],
   "source": [
    "#for child in root:\n",
    "#    print(child.tag, child.attrib)"
   ]
  },
  {
   "cell_type": "code",
   "execution_count": 2,
   "metadata": {},
   "outputs": [
    {
     "name": "stdout",
     "output_type": "stream",
     "text": [
      "Starting to extract author names...\n",
      "Finished extracting author names! Found 15308210 names.\n"
     ]
    }
   ],
   "source": [
    "# Get all authors\n",
    "\n",
    "import csv\n",
    "\n",
    "names_complete = []\n",
    "\n",
    "print(\"Starting to extract author names...\")\n",
    "\n",
    "for child in root:\n",
    "    res = child.findall(\"author\")\n",
    "    for name in res:\n",
    "        names_complete.append(name.text)\n",
    "        \n",
    "print(\"Finished extracting author names! Found {} entries.\".format(len(names_complete)))"
   ]
  },
  {
   "cell_type": "code",
   "execution_count": 3,
   "metadata": {},
   "outputs": [
    {
     "name": "stdout",
     "output_type": "stream",
     "text": [
      "Removing duplicates...\n",
      "Removed duplocates. Found 2268612 authors.\n"
     ]
    }
   ],
   "source": [
    "print(\"Removing duplicates...\")\n",
    "names = set(names_complete)\n",
    "print(\"Removed duplocates. Found {} individual authors.\".format(len(names)))"
   ]
  },
  {
   "cell_type": "code",
   "execution_count": 12,
   "metadata": {},
   "outputs": [
    {
     "name": "stdout",
     "output_type": "stream",
     "text": [
      "Entering names in CSV... \n",
      "Entered all names in a CSV!\n"
     ]
    }
   ],
   "source": [
    "# Python Documentation on reading & Writing CSV https://docs.python.org/3.5/library/csv.html\n",
    "\n",
    "print(\"Entering names in CSV... \")\n",
    "\n",
    "with open('data/names.csv', 'w', newline='') as csvfile:\n",
    "    fieldnames = ['name', 'gender', 'certainty']\n",
    "    writer = csv.DictWriter(csvfile, fieldnames=fieldnames)\n",
    "\n",
    "    writer.writeheader()\n",
    "    for name in names:\n",
    "        writer.writerow({\n",
    "            'name': name, \n",
    "            'gender': '', \n",
    "            'certainty': '0.0'\n",
    "        })\n",
    "\n",
    "print(\"Entered all names in a CSV!\")"
   ]
  },
  {
   "cell_type": "code",
   "execution_count": null,
   "metadata": {},
   "outputs": [],
   "source": []
  }
 ],
 "metadata": {
  "kernelspec": {
   "display_name": "Python 3",
   "language": "python",
   "name": "python3"
  },
  "language_info": {
   "codemirror_mode": {
    "name": "ipython",
    "version": 3
   },
   "file_extension": ".py",
   "mimetype": "text/x-python",
   "name": "python",
   "nbconvert_exporter": "python",
   "pygments_lexer": "ipython3",
   "version": "3.6.7"
  }
 },
 "nbformat": 4,
 "nbformat_minor": 2
}
