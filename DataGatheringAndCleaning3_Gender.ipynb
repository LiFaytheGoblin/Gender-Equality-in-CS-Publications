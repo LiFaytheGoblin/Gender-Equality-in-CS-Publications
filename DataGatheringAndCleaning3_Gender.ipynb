{
 "cells": [
  {
   "cell_type": "code",
   "execution_count": null,
   "metadata": {},
   "outputs": [],
   "source": [
    "# 3. STEP\n",
    "# In this notebook, the names from 'names.csv' are classified by gender using the NamSor API.\n",
    "# The results are saved in 'names_cat.csv'\n",
    "\n",
    "# https://www.namsor.com/\n",
    "# https://v2.namsor.com/NamSorAPIv2/apidoc.html\n",
    "# using NamSor API v2 Python SDK\n",
    "# https://github.com/namsor/namsor-python-sdk2\n",
    "# licensed under GNU Affero General Public License v3.0"
   ]
  },
  {
   "cell_type": "code",
   "execution_count": null,
   "metadata": {},
   "outputs": [],
   "source": [
    "# >>> Import 'names.csv'\n",
    "\n",
    "import pandas\n",
    "\n",
    "print(\"Importing names... \")\n",
    "names = pandas.read_csv(\"data/names.csv\", usecols=[\"name\", \"n_publs\", \"likely_gender\", \"score\"])\n",
    "\n",
    "# Setting index & accessing cells: https://pythonhow.com/accessing-dataframe-columns-rows-and-cells/\n",
    "names = names.set_index(\"name\", drop = False)\n",
    "print(\"Names imported. They look like this: {}\".format(names[:10]))"
   ]
  },
  {
   "cell_type": "code",
   "execution_count": null,
   "metadata": {},
   "outputs": [],
   "source": [
    "# >>> Preparing for API use\n",
    "\n",
    "# Get private API Key for NamSor API v2 (contained in txt file)\n",
    "print(\"Getting private key... \")\n",
    "key = ''\n",
    "\n",
    "# Import personal key\n",
    "with open(\"key.txt\", \"r\") as file:\n",
    "    key = file.read()\n",
    "\n",
    "if(len(key) > 0):\n",
    "    print(\"Got private key.\")\n",
    "else: \n",
    "    print(\"Could not find private key. Please check the file name and make sure you have an API key.\")"
   ]
  },
  {
   "cell_type": "code",
   "execution_count": null,
   "metadata": {},
   "outputs": [],
   "source": [
    "# Following scripts partly taken from https://github.com/namsor/namsor-python-sdk2 \"Getting Started\" \n",
    "# and adapted to keep key private and remove unnecessary lines.\n",
    "\n",
    "print(\"Setting up NamSor API v2 connection settings...\")\n",
    "\n",
    "import openapi_client\n",
    "from openapi_client.rest import ApiException\n",
    "\n",
    "# Configure API key authorization: api_key\n",
    "configuration = openapi_client.Configuration()\n",
    "configuration.api_key['X-API-KEY'] = key\n",
    "\n",
    "# create an instance of the personal API class\n",
    "pers_api_instance = openapi_client.PersonalApi(openapi_client.ApiClient(configuration))"
   ]
  },
  {
   "cell_type": "code",
   "execution_count": null,
   "metadata": {},
   "outputs": [],
   "source": [
    "# Formatting the names using the API's models\n",
    "def format_full_name(name):\n",
    "    \"This function formats a full name. It takes a full name and returns a PersonalNameIn\"\n",
    "    return openapi_client.PersonalNameIn(id=name, name=name)"
   ]
  },
  {
   "cell_type": "code",
   "execution_count": null,
   "metadata": {},
   "outputs": [],
   "source": [
    "def format_full_names(li):\n",
    "    \"This function formats multiple full names. It takes a list of unformatted full names and returns a list of formatted full names.\"\n",
    "    return list(map(format_full_name, li))"
   ]
  },
  {
   "cell_type": "code",
   "execution_count": null,
   "metadata": {},
   "outputs": [],
   "source": [
    "def format_full_name_batch(li):\n",
    "    \"This function formats a batch of formatted full names. It takes a list of formatted full names and returns a formatted batch.\"\n",
    "    return openapi_client.BatchPersonalNameIn(personal_names=li)"
   ]
  },
  {
   "cell_type": "code",
   "execution_count": null,
   "metadata": {},
   "outputs": [],
   "source": [
    "def fullname_batch(batch):\n",
    "    \"This function calls the API. It takes a formatted batch of full names and returns the API response.\"\n",
    "    return pers_api_instance.gender_full_batch(batch_personal_name_in=batch)"
   ]
  },
  {
   "cell_type": "code",
   "execution_count": null,
   "metadata": {},
   "outputs": [],
   "source": [
    "def call_api_fullname_batch(li):\n",
    "    \"This function prepares a list of unformatted names for the API call and then calls the API calling function. It returns the API's name classifications.\"\n",
    "    current_batch = format_full_names(li)  # format the names\n",
    "    batch_personal_name_in = format_full_name_batch(current_batch)# format the batch\n",
    "    api_response =  fullname_batch(batch_personal_name_in)# call api\n",
    "    return api_response.personal_names # return result"
   ]
  },
  {
   "cell_type": "code",
   "execution_count": null,
   "metadata": {
    "scrolled": false
   },
   "outputs": [],
   "source": [
    "# >>> Classifying names with API\n",
    "\n",
    "# Sending in one batch at a time and saving the result answer by answer.\n",
    "\n",
    "batch_size = 1000 #1000 is the API limit given by NamSor\n",
    "start = 0\n",
    "end = batch_size\n",
    "result = []\n",
    "\n",
    "names_stack = list(names.index.values)\n",
    "\n",
    "print('Will need to make {} calls.'.format(len(names_stack) / batch_size))"
   ]
  },
  {
   "cell_type": "code",
   "execution_count": null,
   "metadata": {},
   "outputs": [],
   "source": [
    "while (len(names_stack) >= batch_size):\n",
    "    try:\n",
    "        result = result + call_api_fullname_batch(names_stack[start:end])\n",
    "        del names_stack[start:end] # delete the names that have already been categorized from the stack\n",
    "        print(\"Batch of names analyzed. {} names left.\".format(len(names_stack)))\n",
    "        \n",
    "        # categorize remaining names if they are less than a batch size\n",
    "        if(len(names_stack) < batch_size and len(names_stack) > 0):\n",
    "            result = result + call_api_fullname_batch(names_stack)\n",
    "            names_stack = [] # empty the stack\n",
    "            print(\"Batch of names analyzed. {} names left.\".format(len(names_stack)))\n",
    "    except ApiException as e: # Sometimes with a big batch of batches, the API calling gets interrupted (don't panic!)\n",
    "        print(\"Exception when calling PersonalApi: gender_full_batch: {}\".(e))\n",
    "        if((len(list(names.index.values))-len(result)) == len(names_stack)): #check that no names got lost\n",
    "            print(\"No names got lost. Trying again with stack size {}...\".format(len(names_stack)))\n",
    "            continue\n",
    "\n",
    "if(len(names_stack) != 0):\n",
    "    try:\n",
    "        result = result + call_api_fullname_batch(names_stack)\n",
    "        names_stack = []\n",
    "        print(\"Batch of names analyzed. {} names left.\".format(len(names_stack)))\n",
    "    except ApiException as e:\n",
    "        print(\"Exception when calling PersonalApi: gender_full_batch: {}\".format(e))\n",
    "\n",
    "print(\"All batches analyzed.\")"
   ]
  },
  {
   "cell_type": "code",
   "execution_count": null,
   "metadata": {},
   "outputs": [],
   "source": [
    "# >>> Save results to dataframe\n",
    "\n",
    "# Convert results (list of openapi_client.models.personal_name_gendered_out.PersonalNameGenderedOut) to (list of dictionaries)\n",
    "print('Filling the results into the names dataframe...')\n",
    "for oapi_el in result:\n",
    "    names.at[oapi_el.id, 'likely_gender'] = oapi_el.likely_gender\n",
    "    names.at[oapi_el.id, 'score'] = oapi_el.score\n",
    "print('Dataframe completed with API results. Here are some results: {}'.format(names[:10]))"
   ]
  },
  {
   "cell_type": "code",
   "execution_count": null,
   "metadata": {},
   "outputs": [],
   "source": [
    "# Correction by hand of two names that immediately stood out:\n",
    "print('Correcting two names...')\n",
    "\n",
    "names.at['(David) Jing Dai', 'likely_gender'] = 'male'\n",
    "names.at['(David) Jing Dai', 'score'] = 7\n",
    "\n",
    "names.at['(Sophy) Shu-Jiun Chen', 'likely_gender'] = 'female'\n",
    "names.at['(Sophy) Shu-Jiun Chen', 'score'] = 7\n",
    "\n",
    "print('Corrected! See {}'.format(names[:5]))"
   ]
  },
  {
   "cell_type": "code",
   "execution_count": null,
   "metadata": {},
   "outputs": [],
   "source": [
    "# Saving results to 'names_cat.csv'\n",
    "print(\"Saving categorized names to CSV... \")\n",
    "names.to_csv(\"data/names_cat.csv\")\n",
    "print(\"Names saved!\")"
   ]
  }
 ],
 "metadata": {
  "kernelspec": {
   "display_name": "Python 3",
   "language": "python",
   "name": "python3"
  },
  "language_info": {
   "codemirror_mode": {
    "name": "ipython",
    "version": 3
   },
   "file_extension": ".py",
   "mimetype": "text/x-python",
   "name": "python",
   "nbconvert_exporter": "python",
   "pygments_lexer": "ipython3",
   "version": "3.7.3"
  }
 },
 "nbformat": 4,
 "nbformat_minor": 2
}
