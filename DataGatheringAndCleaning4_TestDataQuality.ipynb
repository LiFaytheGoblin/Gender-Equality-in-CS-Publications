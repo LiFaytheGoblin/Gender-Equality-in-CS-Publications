{
 "cells": [
  {
   "cell_type": "code",
   "execution_count": null,
   "metadata": {},
   "outputs": [],
   "source": [
    "# STEP 4: TEST DATA QUALITY\n",
    "# How good are our results of classified names in 'names_cat.csv'? How high are the scores?\n",
    "# How many names can have a score x? How many names have a score lower than y?"
   ]
  },
  {
   "cell_type": "code",
   "execution_count": null,
   "metadata": {},
   "outputs": [],
   "source": [
    "# >>> Import categorized names 'names_cat.csv'\n",
    "import pandas\n",
    "\n",
    "print(\"Importing categorized names... \")\n",
    "names = pandas.read_csv(\"data/names_cat.csv\", usecols=[\"name\", \"n_publs\", \"likely_gender\", \"score\"])\n",
    "\n",
    "# Setting index & accessing cells: https://pythonhow.com/accessing-dataframe-columns-rows-and-cells/\n",
    "names = names.set_index(\"name\", drop = False)\n",
    "print(\"Names imported. Here are some: {}\".format(names[:10]))"
   ]
  },
  {
   "cell_type": "code",
   "execution_count": null,
   "metadata": {
    "scrolled": true
   },
   "outputs": [],
   "source": [
    "# >>> Get general information about our results\n",
    "names.describe()"
   ]
  },
  {
   "cell_type": "code",
   "execution_count": null,
   "metadata": {},
   "outputs": [],
   "source": [
    "'''\n",
    "        n_publs     \tscore\n",
    "count \t2.306418e+06 \t2.306418e+06\n",
    "mean \t5.789820e+00 \t4.963300e+00 # the mean is almost 5 \n",
    "std \t1.827144e+01 \t3.506927e+00 # with a std of 3.5\n",
    "min \t1.000000e+00 \t0.000000e+00\n",
    "25% \t1.000000e+00 \t2.000000e+00 # 25% of names have a score of 2 or less. \n",
    "50% \t2.000000e+00 \t4.000000e+00 # at least 50% have a score of at leat 4 (median). \n",
    "75% \t4.000000e+00 \t7.000000e+00\n",
    "max \t1.694000e+03 \t3.300000e+01 # the maximum score is 33\n",
    "'''\n",
    "\n",
    "# FUN FACT TIME:\n",
    "# Some more info we get from describe about the number of publications:\n",
    "# On average, a person publishes 5.8 pieces (with a std of 18!)\n",
    "# The record for most publications was set with 1694 pieces, wow!\n",
    "# At least 50% published at least 2 pieces (median),\n",
    "# At least 75% published at least 4 pieces."
   ]
  },
  {
   "cell_type": "code",
   "execution_count": null,
   "metadata": {},
   "outputs": [],
   "source": [
    "# >>> How many names have which scores?\n",
    "\n",
    "scores = [0,1,2,3,4,5,6,7,8,9,10]\n",
    "results_equals = []\n",
    "for score in scores:\n",
    "    n = len(names[names['score'] == score])\n",
    "    results_equals.append(n)\n",
    "    print(\"There are {} names with a score == {}\".format(n, score))"
   ]
  },
  {
   "cell_type": "code",
   "execution_count": null,
   "metadata": {},
   "outputs": [],
   "source": [
    "'''\n",
    "There are 160377 names with a score == 0\n",
    "There are 233923 names with a score == 1\n",
    "There are 280557 names with a score == 2\n",
    "There are 271606 names with a score == 3\n",
    "There are 232771 names with a score == 4\n",
    "There are 197724 names with a score == 5\n",
    "There are 186145 names with a score == 6\n",
    "There are 185958 names with a score == 7\n",
    "There are 162785 names with a score == 8\n",
    "There are 142711 names with a score == 9\n",
    "There are 103114 names with a score == 10\n",
    "'''"
   ]
  },
  {
   "cell_type": "code",
   "execution_count": null,
   "metadata": {},
   "outputs": [],
   "source": [
    "scores = [0,1,2,3,4,5,6,7,8,9,10]\n",
    "results_smaller_equals = []\n",
    "for score in scores:\n",
    "    n = len(names[names['score'] <= score])\n",
    "    results_smaller_equals.append(n)\n",
    "    print(\"There are {} names with a score <= {}\".format(n, score))"
   ]
  },
  {
   "cell_type": "code",
   "execution_count": null,
   "metadata": {},
   "outputs": [],
   "source": [
    "'''\n",
    "There are 160377 names with a score <= 0\n",
    "There are 394300 names with a score <= 1\n",
    "There are 674857 names with a score <= 2\n",
    "There are 946463 names with a score <= 3\n",
    "There are 1179234 names with a score <= 4\n",
    "There are 1376958 names with a score <= 5\n",
    "There are 1563103 names with a score <= 6\n",
    "There are 1749061 names with a score <= 7\n",
    "There are 1911846 names with a score <= 8\n",
    "There are 2054557 names with a score <= 9\n",
    "There are 2157671 names with a score <= 10\n",
    "'''"
   ]
  },
  {
   "cell_type": "code",
   "execution_count": null,
   "metadata": {},
   "outputs": [],
   "source": [
    "results_bigger_than = []\n",
    "for score in scores:\n",
    "    n = len(names[names['score'] > score])\n",
    "    results_bigger_than.append(n)\n",
    "    print(\"There are {} names with a score > {}\".format(n, score))"
   ]
  },
  {
   "cell_type": "code",
   "execution_count": null,
   "metadata": {},
   "outputs": [],
   "source": [
    "'''\n",
    "There are 2146041 names with a score > 0\n",
    "There are 1912118 names with a score > 1\n",
    "There are 1631561 names with a score > 2\n",
    "There are 1359955 names with a score > 3\n",
    "There are 1127184 names with a score > 4\n",
    "There are 929460 names with a score > 5\n",
    "There are 743315 names with a score > 6\n",
    "There are 557357 names with a score > 7\n",
    "There are 394572 names with a score > 8\n",
    "There are 251861 names with a score > 9\n",
    "There are 148747 names with a score > 10\n",
    "'''"
   ]
  },
  {
   "cell_type": "code",
   "execution_count": null,
   "metadata": {},
   "outputs": [],
   "source": [
    "# Explore the scores graphically \n",
    "\n",
    "import matplotlib.pyplot as plt"
   ]
  },
  {
   "cell_type": "code",
   "execution_count": null,
   "metadata": {},
   "outputs": [],
   "source": [
    "plt.bar(scores, results_equals)\n",
    "plt.title(\"Amount of names (y) with a score == x\")"
   ]
  },
  {
   "cell_type": "code",
   "execution_count": null,
   "metadata": {},
   "outputs": [],
   "source": [
    "plt.bar(scores, results_smaller_equals)\n",
    "plt.title(\"Amount of names (y) with a score <= x\")"
   ]
  },
  {
   "cell_type": "code",
   "execution_count": null,
   "metadata": {},
   "outputs": [],
   "source": [
    "plt.bar(scores, results_bigger_than)\n",
    "plt.title(\"Amount of names (y) with a score > x\")"
   ]
  },
  {
   "cell_type": "code",
   "execution_count": null,
   "metadata": {},
   "outputs": [],
   "source": [
    "# Histogram of Scores\n",
    "\n",
    "# calculate number of bins suitable for a histogram\n",
    "# float to int: https://stackoverflow.com/questions/6569528/python-float-to-int-conversion\n",
    "bins = names['score'].max() / 3\n",
    "bins = int(round(bins))\n",
    "\n",
    "print(\"Histogram of all scores.\")\n",
    "names['score'].hist(bins=bins)"
   ]
  },
  {
   "cell_type": "code",
   "execution_count": null,
   "metadata": {},
   "outputs": [],
   "source": [
    "# >>> How many publications are there by score?\n",
    "# Grouping and aggregating: https://stackoverflow.com/questions/40480744/pandas-group-by-and-count\n",
    "n_publs_by_score = names.groupby(\"score\").agg({'n_publs':'sum'})\n",
    "n_publs_by_score = n_publs_by_score.sort_index()\n",
    "\n",
    "# Vs. How many authors are there by score?\n",
    "n_authors_by_score = names.groupby(\"score\").size()"
   ]
  },
  {
   "cell_type": "code",
   "execution_count": null,
   "metadata": {},
   "outputs": [],
   "source": [
    "# Explore graphically \n",
    "\n",
    "plt.bar(n_publs_by_score.index.values, n_publs_by_score['n_publs'], label='Amount of publications by score', alpha=0.5, color='b')\n",
    "plt.bar(n_authors_by_score.index.values, n_authors_by_score.values, label='Amount of authors by score', alpha=0.5, color='g')\n",
    "plt.legend(loc='best')\n",
    "plt.title(\"How many authors are there per score vs how many publications?\")\n",
    "plt.show()"
   ]
  },
  {
   "cell_type": "code",
   "execution_count": null,
   "metadata": {},
   "outputs": [],
   "source": []
  }
 ],
 "metadata": {
  "kernelspec": {
   "display_name": "Python 3",
   "language": "python",
   "name": "python3"
  },
  "language_info": {
   "codemirror_mode": {
    "name": "ipython",
    "version": 3
   },
   "file_extension": ".py",
   "mimetype": "text/x-python",
   "name": "python",
   "nbconvert_exporter": "python",
   "pygments_lexer": "ipython3",
   "version": "3.7.1"
  }
 },
 "nbformat": 4,
 "nbformat_minor": 2
}
