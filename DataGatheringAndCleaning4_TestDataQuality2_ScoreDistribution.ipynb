{
 "cells": [
  {
   "cell_type": "code",
   "execution_count": null,
   "metadata": {},
   "outputs": [],
   "source": [
    "# STEP 4: TEST DATA QUALITY\n",
    "# Explore Result Quality Part II.\n",
    "# The results from before will be analyzed more structuredly\n",
    "# This notebook looks at the distribution of the score value in our dataset"
   ]
  },
  {
   "cell_type": "code",
   "execution_count": null,
   "metadata": {},
   "outputs": [],
   "source": [
    "# >>> Preparation\n",
    "# Import categorized 'names_cat.csv'\n",
    "import pandas\n",
    "\n",
    "print(\"Importing names... \")\n",
    "names = pandas.read_csv(\"data/names_cat_i1.csv\", usecols=[\"name\", \"n_publs\", \"likely_gender\", \"score\"])\n",
    "\n",
    "# Setting index & accessing cells: https://pythonhow.com/accessing-dataframe-columns-rows-and-cells/\n",
    "names = names.set_index(\"name\", drop = False)\n",
    "print(\"Names imported. They look like this: {}\".format(names[:5]))"
   ]
  },
  {
   "cell_type": "code",
   "execution_count": null,
   "metadata": {},
   "outputs": [],
   "source": [
    "f = names[names['likely_gender'] == 'female']\n",
    "m = names[names['likely_gender'] == 'male']"
   ]
  },
  {
   "cell_type": "code",
   "execution_count": null,
   "metadata": {},
   "outputs": [],
   "source": [
    "# Get bin sizes for histograms\n",
    "bins_f = f['score'].max()\n",
    "bins_m = m['score'].max()"
   ]
  },
  {
   "cell_type": "code",
   "execution_count": null,
   "metadata": {},
   "outputs": [],
   "source": [
    "# >>> Visualization\n",
    "import matplotlib.pyplot as plt\n",
    "\n",
    "f['score'].hist(density=\"True\", label=\"Female\", bins=bins_f)\n",
    "m['score'].hist(density=\"True\", alpha=0.5, label=\"Male\", bins=bins_m)\n",
    "\n",
    "plt.xlabel(\"Score\")\n",
    "plt.title(\"Histogram: Which gender has which score how often (normalized)?\")\n",
    "plt.legend()"
   ]
  },
  {
   "cell_type": "code",
   "execution_count": null,
   "metadata": {},
   "outputs": [],
   "source": [
    "f['score'].hist(label=\"Female\", bins=bins_f)\n",
    "m['score'].hist(alpha=0.5, label=\"Male\", bins=bins_m)\n",
    "\n",
    "plt.xlabel(\"Score\")\n",
    "plt.title(\"Histogram: Which gender has which score how often?\")\n",
    "plt.legend()"
   ]
  },
  {
   "cell_type": "code",
   "execution_count": null,
   "metadata": {},
   "outputs": [],
   "source": [
    "# >>> Evaluation:\n",
    "# 1. The score value is not distributed equally for men and women.\n",
    "# 2. Women's scores are lower than men's scores. \n",
    "# We see more female classifications than male classifications if looking at data with a score between 0 and 6., \n",
    "# 3. The threshold we chose will influence our results. \n",
    "\n",
    "# 4. We learn about the NamSor API:\n",
    "# meaning the API is more certain when classifying a name as male, \n",
    "# than it is when classifying a name as female.\n",
    "\n",
    "# >>> Consequence:\n",
    "# We shall look into this further by investigating how the threshold we chose influences our results."
   ]
  }
 ],
 "metadata": {
  "kernelspec": {
   "display_name": "Python 3",
   "language": "python",
   "name": "python3"
  },
  "language_info": {
   "codemirror_mode": {
    "name": "ipython",
    "version": 3
   },
   "file_extension": ".py",
   "mimetype": "text/x-python",
   "name": "python",
   "nbconvert_exporter": "python",
   "pygments_lexer": "ipython3",
   "version": "3.7.1"
  }
 },
 "nbformat": 4,
 "nbformat_minor": 2
}
