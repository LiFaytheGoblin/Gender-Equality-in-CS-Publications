{
 "cells": [
  {
   "cell_type": "code",
   "execution_count": null,
   "metadata": {},
   "outputs": [],
   "source": [
    "# STEP 4: TEST DATA QUALITY\n",
    "# Explore Result Quality Part II.\n",
    "# The results from before will be analyzed more structuredly\n",
    "# This notebook looks at the distribution of the score value in our dataset"
   ]
  },
  {
   "cell_type": "code",
   "execution_count": 1,
   "metadata": {},
   "outputs": [
    {
     "name": "stdout",
     "output_type": "stream",
     "text": [
      "Importing names... \n",
      "Names imported. They look like this:                                         name likely_gender  n_publs  score\n",
      "name                                                                      \n",
      "'Maseka Lesaoana            'Maseka Lesaoana        female        2      8\n",
      "(David) Jing Dai            (David) Jing Dai          male        1      7\n",
      "(Max) Zong-Ming Cheng  (Max) Zong-Ming Cheng          male        2      2\n",
      "(Sophy) Shu-Jiun Chen  (Sophy) Shu-Jiun Chen        female        2      7\n",
      "(Zhou) Bryan Bai            (Zhou) Bryan Bai          male        2      6\n"
     ]
    }
   ],
   "source": [
    "# >>> Preparation\n",
    "# Import categorized 'names_cat.csv'\n",
    "import pandas\n",
    "\n",
    "print(\"Importing names... \")\n",
    "names = pandas.read_csv(\"data/names_cat_i1.csv\", usecols=[\"name\", \"n_publs\", \"likely_gender\", \"score\"])\n",
    "\n",
    "# Setting index & accessing cells: https://pythonhow.com/accessing-dataframe-columns-rows-and-cells/\n",
    "names = names.set_index(\"name\", drop = False)\n",
    "print(\"Names imported. They look like this: {}\".format(names[:5]))"
   ]
  },
  {
   "cell_type": "code",
   "execution_count": 2,
   "metadata": {},
   "outputs": [],
   "source": [
    "f = names[names['likely_gender'] == 'female']\n",
    "m = names[names['likely_gender'] == 'male']"
   ]
  },
  {
   "cell_type": "code",
   "execution_count": 3,
   "metadata": {},
   "outputs": [],
   "source": [
    "# >>> Visualization\n",
    "# preparations\n",
    "import matplotlib.pyplot as plt\n",
    "import matplotlib as mpl\n",
    "\n",
    "mpl.rcParams['pgf.rcfonts'] = False\n",
    "mpl.rcParams['font.size'] = 11.0\n",
    "\n",
    "# Get bin sizes for histograms\n",
    "bins_f = f['score'].max()\n",
    "bins_f = int(round(bins_f))\n",
    "\n",
    "bins_m = m['score'].max()\n",
    "bins_m = int(round(bins_m))"
   ]
  },
  {
   "cell_type": "code",
   "execution_count": 4,
   "metadata": {},
   "outputs": [
    {
     "data": {
      "image/png": "[encoded data removed]",
      "text/plain": [
       "<Figure size 432x288 with 1 Axes>"
      ]
     },
     "metadata": {
      "needs_background": "light"
     },
     "output_type": "display_data"
    }
   ],
   "source": [
    "names[names[\"likely_gender\"]==\"female\"][\"score\"].hist(density=True, color=\"xkcd:black\", label=\"categorized as female\", bins=bins_f)\n",
    "names[names[\"likely_gender\"]==\"male\"][\"score\"].hist(alpha=0.7, density=True, color=\"xkcd:grey\", label=\"categorized as male\", bins=bins_m)\n",
    "\n",
    "plt.xlabel(\"Score\")\n",
    "plt.ylabel(\"Normed number of Names\")\n",
    "plt.legend()\n",
    "\n",
    "plt.savefig('graphs/score/before_improving_by_gender.pdf')\n",
    "plt.savefig('graphs/score/before_improving_by_gender.pgf')"
   ]
  },
  {
   "cell_type": "code",
   "execution_count": 6,
   "metadata": {},
   "outputs": [
    {
     "data": {
      "text/plain": [
       "<matplotlib.legend.Legend at 0x25982300470>"
      ]
     },
     "execution_count": 6,
     "metadata": {},
     "output_type": "execute_result"
    },
    {
     "data": {
      "image/png": "[encoded data removed]",
      "text/plain": [
       "<Figure size 432x288 with 1 Axes>"
      ]
     },
     "metadata": {
      "needs_background": "light"
     },
     "output_type": "display_data"
    }
   ],
   "source": [
    "f['score'].hist(label=\"Female\", bins=bins_f)\n",
    "m['score'].hist(alpha=0.5, label=\"Male\", bins=bins_m)\n",
    "\n",
    "plt.xlabel(\"Score\")\n",
    "plt.title(\"Histogram: Which gender has which score how often?\")\n",
    "plt.legend()"
   ]
  },
  {
   "cell_type": "code",
   "execution_count": null,
   "metadata": {},
   "outputs": [],
   "source": [
    "names[names[\"score\"] > 4].describe()#1.127184e+06 / 2.306418e+06"
   ]
  },
  {
   "cell_type": "code",
   "execution_count": null,
   "metadata": {},
   "outputs": [],
   "source": [
    "# >>> Evaluation:\n",
    "# 1. The score value is not distributed equally for men and women.\n",
    "# 2. Women's scores are lower than men's scores. \n",
    "# We see more female classifications than male classifications if looking at data with a score between 0 and 6., \n",
    "# 3. The threshold we chose will influence our results. \n",
    "\n",
    "# 4. We learn about the NamSor API:\n",
    "# meaning the API is more certain when classifying a name as male, \n",
    "# than it is when classifying a name as female.\n",
    "\n",
    "# >>> Consequence:\n",
    "# We shall look into this further by investigating how the threshold we chose influences our results."
   ]
  }
 ],
 "metadata": {
  "kernelspec": {
   "display_name": "Python 3",
   "language": "python",
   "name": "python3"
  },
  "language_info": {
   "codemirror_mode": {
    "name": "ipython",
    "version": 3
   },
   "file_extension": ".py",
   "mimetype": "text/x-python",
   "name": "python",
   "nbconvert_exporter": "python",
   "pygments_lexer": "ipython3",
   "version": "3.7.1"
  }
 },
 "nbformat": 4,
 "nbformat_minor": 2
}
