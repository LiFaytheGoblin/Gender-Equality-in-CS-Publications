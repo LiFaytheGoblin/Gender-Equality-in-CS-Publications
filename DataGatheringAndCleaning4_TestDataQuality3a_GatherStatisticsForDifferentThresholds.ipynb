{
 "cells": [
  {
   "cell_type": "code",
   "execution_count": null,
   "metadata": {},
   "outputs": [],
   "source": [
    "# STEP 4: TEST DATA QUALITY\n",
    "# Explore Result Quality Part III. a)\n",
    "# In this Notebook, a CSV is created to hold information on data statistics depending on the threshold \n",
    "# (ie minimum score necessary for a name to be used)"
   ]
  },
  {
   "cell_type": "code",
   "execution_count": null,
   "metadata": {},
   "outputs": [],
   "source": [
    "# >>> Preparation\n",
    "# Import categorized 'names_cat.csv'\n",
    "import pandas\n",
    "\n",
    "print(\"Importing names... \")\n",
    "names = pandas.read_csv(\"data/names_cat.csv\", usecols=[\"name\", \"n_publs\", \"likely_gender\", \"score\"])\n",
    "\n",
    "# Setting index & accessing cells: https://pythonhow.com/accessing-dataframe-columns-rows-and-cells/\n",
    "names = names.set_index(\"name\", drop = False)\n",
    "print(\"Names imported. They look like this: {}\".format(names[:5]))"
   ]
  },
  {
   "cell_type": "code",
   "execution_count": null,
   "metadata": {},
   "outputs": [],
   "source": [
    "# >>> Get statistics on the data depending on the threshold\n",
    "names_cor_stats = {\n",
    "    \n",
    "}\n",
    "\n",
    "for score_min in range(0,34):\n",
    "    current = names[names['score'] >= score_min]\n",
    "    current_f = current[current['likely_gender'] == \"female\"]\n",
    "    current_m = current[current['likely_gender'] == \"male\"]\n",
    "\n",
    "    names_cor_stats[score_min] = {\n",
    "        'score_min': score_min,\n",
    "        \n",
    "        'pubs_mean': current['n_publs'].mean(),\n",
    "        'pubs_mean_f': current_f['n_publs'].mean(),\n",
    "        'pubs_mean_m': current_m['n_publs'].mean(),\n",
    "        \n",
    "        'pubs_median': current['n_publs'].median(),\n",
    "        'pubs_median_f': current_f['n_publs'].median(),\n",
    "        'pubs_median_m': current_m['n_publs'].median(),\n",
    "        \n",
    "        'pubs_total': current['n_publs'].sum(),\n",
    "        'pubs_f': current_f['n_publs'].sum(),\n",
    "        'pubs_m': current_m['n_publs'].sum(),\n",
    "        \n",
    "        'publs_f_part': current_f['n_publs'].sum() / current['n_publs'].sum(),\n",
    "        \n",
    "        'authors_total': len(current['n_publs']),\n",
    "        'authors_f': len(current_f['n_publs']),\n",
    "        'authors_m': len(current_m['n_publs']),\n",
    "        \n",
    "        'authors_f_part': len(current_f['n_publs']) / len(current['n_publs'])\n",
    "    }"
   ]
  },
  {
   "cell_type": "code",
   "execution_count": null,
   "metadata": {},
   "outputs": [],
   "source": [
    "# Convert to dataframe\n",
    "names_stats = pandas.DataFrame.from_dict(names_cor_stats, orient=\"index\")"
   ]
  },
  {
   "cell_type": "code",
   "execution_count": null,
   "metadata": {},
   "outputs": [],
   "source": [
    "# Save results\n",
    "print(\"Saving stats to CSV... \")\n",
    "names_stats.to_csv(\"data/names_score_min_stats.csv\")\n",
    "print(\"Stats saved!\")"
   ]
  },
  {
   "cell_type": "code",
   "execution_count": null,
   "metadata": {},
   "outputs": [],
   "source": []
  }
 ],
 "metadata": {
  "kernelspec": {
   "display_name": "Python 3",
   "language": "python",
   "name": "python3"
  },
  "language_info": {
   "codemirror_mode": {
    "name": "ipython",
    "version": 3
   },
   "file_extension": ".py",
   "mimetype": "text/x-python",
   "name": "python",
   "nbconvert_exporter": "python",
   "pygments_lexer": "ipython3",
   "version": "3.7.3"
  }
 },
 "nbformat": 4,
 "nbformat_minor": 2
}
