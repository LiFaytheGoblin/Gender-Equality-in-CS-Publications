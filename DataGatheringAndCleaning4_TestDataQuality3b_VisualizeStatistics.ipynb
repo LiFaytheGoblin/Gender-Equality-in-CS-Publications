{
 "cells": [
  {
   "cell_type": "code",
   "execution_count": null,
   "metadata": {},
   "outputs": [],
   "source": [
    "# STEP 4: TEST DATA QUALITY\n",
    "# Explore Result Quality Part III. b)\n",
    "# This notebook visualizes the statistics obtained in the prior step (Result Quality Part I. b). "
   ]
  },
  {
   "cell_type": "code",
   "execution_count": null,
   "metadata": {},
   "outputs": [],
   "source": [
    "# >>> Preparation\n",
    "# Import statistics\n",
    "import pandas\n",
    "\n",
    "print(\"Importing name statistics... \")\n",
    "names_stats = pandas.read_csv(\"data/names_score_min_stats.csv\")\n",
    "\n",
    "# Setting index & accessing cells: https://pythonhow.com/accessing-dataframe-columns-rows-and-cells/\n",
    "#names_stats = names_stats.set_index(\"min_score\", drop = False)\n",
    "print(\"Stats imported. They look like this: {}\".format(names_stats[:3]))"
   ]
  },
  {
   "cell_type": "code",
   "execution_count": null,
   "metadata": {},
   "outputs": [],
   "source": [
    "# For our population of 2306418 names we need at least a sample of 16.522 names to analyze for\n",
    "# a confidence level of 99%  with error tolerance of 4%\n",
    "# (According to Surveymonkey: https://www.surveymonkey.de/mp/sample-size-calculator/)\n",
    "# So we can only chose thresholds that guarantee this minimum amount of names.\n",
    "\n",
    "names_stats_valid = names_stats[names_stats['authors_total'] >= 16522]"
   ]
  },
  {
   "cell_type": "code",
   "execution_count": null,
   "metadata": {},
   "outputs": [],
   "source": [
    "min_threshold = names_stats_valid['score_min'].min()\n",
    "max_threshold = names_stats_valid['score_min'].max()"
   ]
  },
  {
   "cell_type": "code",
   "execution_count": null,
   "metadata": {},
   "outputs": [],
   "source": [
    "print(\"The minimum valid threshold is {}, the maximum is {}\".format(min_threshold, max_threshold))"
   ]
  },
  {
   "cell_type": "code",
   "execution_count": null,
   "metadata": {},
   "outputs": [],
   "source": [
    "# >>> Visualization\n",
    "import matplotlib.pyplot as plt"
   ]
  },
  {
   "cell_type": "code",
   "execution_count": null,
   "metadata": {},
   "outputs": [],
   "source": [
    "# Visualize how many publications have been contributed to: in total, by men, by women\n",
    "plt.bar(names_stats['score_min'], names_stats['pubs_total'], label=\"Contributed to in total\")\n",
    "plt.bar(names_stats['score_min'], names_stats['pubs_m'], label=\"Contributed to by men\")\n",
    "plt.bar(names_stats['score_min'], names_stats['pubs_f'], label=\"Contributed to by women\")\n",
    "\n",
    "plt.xlabel(\"Minimum Score\")\n",
    "plt.ylabel(\"Amount of publications\")\n",
    "plt.title(\"Depending on the selected threshold, \\n to how many publications contributed a man and a woman all together?\")\n",
    "plt.legend()"
   ]
  },
  {
   "cell_type": "code",
   "execution_count": null,
   "metadata": {},
   "outputs": [],
   "source": [
    "# Amount of contributions: Mean\n",
    "\n",
    "plt.plot(names_stats['score_min'], names_stats['pubs_mean'], label=\"Contributed to by any author\")\n",
    "plt.plot(names_stats['score_min'], names_stats['pubs_mean_m'], alpha=0.5, label=\"Contributed to by a man\")\n",
    "plt.plot(names_stats['score_min'], names_stats['pubs_mean_f'], alpha=0.5, label=\"Contributed to by a woman\")\n",
    "\n",
    "plt.xlabel(\"Minimum Score\")\n",
    "plt.ylabel(\"Average amount of publications\")\n",
    "plt.title(\"Depending on the selected threshold, \\n to how many publications contributed a man and a woman on average?\")\n",
    "plt.legend()"
   ]
  },
  {
   "cell_type": "code",
   "execution_count": null,
   "metadata": {},
   "outputs": [],
   "source": [
    "# Amount of contributions: Median\n",
    "\n",
    "plt.plot(names_stats['score_min'], names_stats['pubs_median'], \"o\", label=\"Contributed to by any author\")\n",
    "plt.plot(names_stats['score_min'], names_stats['pubs_median_m'], \"x\", label=\"Contributed to by men\")\n",
    "plt.plot(names_stats['score_min'], names_stats['pubs_median_f'], \"x\", label=\"Contributed to by women\")\n",
    "\n",
    "plt.xlabel(\"Minimum Score\")\n",
    "plt.ylabel(\"Median of the amount of publications\")\n",
    "plt.title(\"Depending on the selected threshold, \\n to how many publications contributed a man and a woman in the median?\")\n",
    "plt.legend()"
   ]
  },
  {
   "cell_type": "code",
   "execution_count": null,
   "metadata": {},
   "outputs": [],
   "source": [
    "# Amount of contributions / Authors: Percentage of women\n",
    "\n",
    "plt.plot(names_stats['score_min'], names_stats['authors_f_part'], alpha=0.5, label=\"Authors who are women\")\n",
    "plt.plot(names_stats['score_min'], names_stats['publs_f_part'], alpha=0.5, label=\"Publications contributed to by women\")\n",
    "\n",
    "plt.xlabel(\"Minimum Score\")\n",
    "plt.ylabel(\"Amount in %\")\n",
    "plt.title(\"Depending on the selected threshold, \\n how big of a role play female authors?\")\n",
    "plt.legend(loc=\"upper left\")"
   ]
  },
  {
   "cell_type": "code",
   "execution_count": null,
   "metadata": {},
   "outputs": [],
   "source": [
    "names_stats[names_stats['score_min']<=15]['authors_f_part'].min()"
   ]
  },
  {
   "cell_type": "code",
   "execution_count": null,
   "metadata": {},
   "outputs": [],
   "source": [
    "names_stats[names_stats['score_min']<=15]['authors_f_part'].max()"
   ]
  },
  {
   "cell_type": "code",
   "execution_count": null,
   "metadata": {},
   "outputs": [],
   "source": [
    "# Amount of authors: Total\n",
    "plt.bar(names_stats['score_min'], names_stats['authors_total'], label=\"Any Gender\")\n",
    "plt.bar(names_stats['score_min'], names_stats['authors_m'], label=\"Male\")\n",
    "plt.bar(names_stats['score_min'], names_stats['authors_f'], label=\"Female\")\n",
    "\n",
    "plt.xlabel(\"Minimum Score\")\n",
    "plt.ylabel(\"Amount of authors\")\n",
    "plt.title(\"Depending on the selected threshold, \\n how many female and male authors are there?\")\n",
    "plt.legend()"
   ]
  },
  {
   "cell_type": "code",
   "execution_count": null,
   "metadata": {},
   "outputs": [],
   "source": [
    "# >>> Interpretation:\n",
    "# Depending on the chosen threshold of data to exclude from the analysis, our results change. \n",
    "\n",
    "# Considering our calculated minimum valid threshold and maximum valid threshold,\n",
    "# let's assume the score minimum needs to be at least 0 and at most 15\n",
    "# The lowest measured amount of female authors is 3,5%,\n",
    "# The highest measured amount of female authors is 16,8%.\n",
    "# So the amount of female authors lays between 3,5% and 16,8%"
   ]
  }
 ],
 "metadata": {
  "kernelspec": {
   "display_name": "Python 3",
   "language": "python",
   "name": "python3"
  },
  "language_info": {
   "codemirror_mode": {
    "name": "ipython",
    "version": 3
   },
   "file_extension": ".py",
   "mimetype": "text/x-python",
   "name": "python",
   "nbconvert_exporter": "python",
   "pygments_lexer": "ipython3",
   "version": "3.7.1"
  }
 },
 "nbformat": 4,
 "nbformat_minor": 2
}
