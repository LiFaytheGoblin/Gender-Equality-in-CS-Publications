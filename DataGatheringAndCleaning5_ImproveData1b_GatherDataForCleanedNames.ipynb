{
 "cells": [
  {
   "cell_type": "code",
   "execution_count": null,
   "metadata": {},
   "outputs": [],
   "source": [
    "# DATA IMPROVEMENT Part 1 b)\n",
    "# In this notebook, the classification for all names with a score < 5 is improved\n",
    "# by using the API endpoint taking the first and last name (not full name)\n",
    "# The first and last name was calculated using the API in the step before."
   ]
  },
  {
   "cell_type": "code",
   "execution_count": null,
   "metadata": {},
   "outputs": [],
   "source": [
    "# >>> Preparation\n",
    "import pandas\n",
    "\n",
    "print(\"Importing cleaned names for improvement... \")\n",
    "names = pandas.read_csv(\"data/names_cat_i1.csv\", usecols=[\"name\", \"n_publs\", \"likely_gender\", \"score\", \"first_name\", \"last_name\"])\n",
    "print(\"Names imported.\")"
   ]
  },
  {
   "cell_type": "code",
   "execution_count": null,
   "metadata": {
    "scrolled": true
   },
   "outputs": [],
   "source": [
    "# Setting index & accessing cells: https://pythonhow.com/accessing-dataframe-columns-rows-and-cells/\n",
    "names = names.set_index(\"name\", drop = False)\n",
    "print(names[:10])"
   ]
  },
  {
   "cell_type": "code",
   "execution_count": null,
   "metadata": {},
   "outputs": [],
   "source": [
    "print(\"Getting private key... \")\n",
    "# Get private API Key for NamSor API v2 (contained in txt file)\n",
    "key = ''\n",
    "\n",
    "# Import personal key\n",
    "with open(\"key.txt\", \"r\") as file:\n",
    "    key = file.read()\n",
    "\n",
    "if(len(key) > 0):\n",
    "    print(\"Got private key.\")\n",
    "else: \n",
    "    print(\"Could not find private key. Please check the file name and make sure you have an API key.\")"
   ]
  },
  {
   "cell_type": "code",
   "execution_count": null,
   "metadata": {},
   "outputs": [],
   "source": [
    "# Setting up NamSor API v2 to get the gender of a name\n",
    "# https://www.namsor.com/\n",
    "# https://v2.namsor.com/NamSorAPIv2/apidoc.html\n",
    "# using NamSor API v2 Python SDK\n",
    "# https://github.com/namsor/namsor-python-sdk2\n",
    "# licensed under GNU Affero General Public License v3.0\n",
    "\n",
    "# Following script partly taken from https://github.com/namsor/namsor-python-sdk2 \"Getting Started\" \n",
    "# and adapted to keep key private and remove unnecessary lines.\n",
    "\n",
    "print(\"Setting up NamSor API v2 connection settings...\")\n",
    "\n",
    "import openapi_client\n",
    "from openapi_client.rest import ApiException\n",
    "\n",
    "# Configure API key authorization: api_key\n",
    "configuration = openapi_client.Configuration()\n",
    "configuration.api_key['X-API-KEY'] = key\n",
    "# create an instance of the API class\n",
    "pers_api_instance = openapi_client.PersonalApi(openapi_client.ApiClient(configuration))"
   ]
  },
  {
   "cell_type": "code",
   "execution_count": null,
   "metadata": {},
   "outputs": [],
   "source": [
    "# Cleaning function\n",
    "import re\n",
    "\n",
    "def clean_name(name):\n",
    "    \"This function removes brackets and abbreviations from a name\"\n",
    "    if(type(name) is float or name is None):\n",
    "        return None\n",
    "    result = re.sub(r'\\.|\\(|\\)+','',name).rstrip( ) # Clean first name\n",
    "    parts = result.split(' ') #split first name in single parts\n",
    "    useful_parts = list(filter(lambda x: len(x) > 1, parts)) #Keep only parts that are not an abbreviation\n",
    "    \n",
    "    if(len(useful_parts) < 1): \n",
    "        return None\n",
    "    \n",
    "    return ' '.join(useful_parts).rstrip()"
   ]
  },
  {
   "cell_type": "code",
   "execution_count": null,
   "metadata": {},
   "outputs": [],
   "source": [
    "names['first_name'] = names['first_name'].apply(clean_name) # apply cleaning function to all first names"
   ]
  },
  {
   "cell_type": "code",
   "execution_count": null,
   "metadata": {},
   "outputs": [],
   "source": [
    "# Correct by hand\n",
    "names.at['(Max) Zong-Ming Cheng', 'first_name'] = 'Max Zong-Ming'\n",
    "names.at['(Max) Zong-Ming Cheng', 'last_name'] = 'Cheng'"
   ]
  },
  {
   "cell_type": "code",
   "execution_count": null,
   "metadata": {},
   "outputs": [],
   "source": [
    "names['last_name'] = names['last_name'].apply(clean_name) # apply cleaning function to all last names"
   ]
  },
  {
   "cell_type": "code",
   "execution_count": null,
   "metadata": {},
   "outputs": [],
   "source": [
    "# Formatting the names using the API's models\n",
    "import math\n",
    "\n",
    "def format_split_name(names_entry):\n",
    "    \"This function formats a split name. It takes a full name and returns a FirstLastNameIn (split name)\"\n",
    "    return openapi_client.FirstLastNameIn(id=names_entry['name'], first_name=names_entry['first_name'], last_name=names_entry['last_name'])"
   ]
  },
  {
   "cell_type": "code",
   "execution_count": null,
   "metadata": {},
   "outputs": [],
   "source": [
    "def format_split_names(li):\n",
    "    \"This function formats multiple split names. It takes a list of unformatted full names and returns a list of formatted split names.\"\n",
    "    return list(map(format_split_name, li))"
   ]
  },
  {
   "cell_type": "code",
   "execution_count": null,
   "metadata": {},
   "outputs": [],
   "source": [
    "def format_split_name_batch(li):\n",
    "    \"This function formats a batch of formatted split names. It takes a list of formatted split names and returns a formatted batch.\"\n",
    "    return openapi_client.BatchFirstLastNameIn(personal_names=li)"
   ]
  },
  {
   "cell_type": "code",
   "execution_count": null,
   "metadata": {},
   "outputs": [],
   "source": [
    "def splitname_batch(batch):\n",
    "    \"This function calls the API. It takes a formatted batch of split names and returns the API response.\"\n",
    "    return pers_api_instance.gender_batch(batch_first_last_name_in=batch)"
   ]
  },
  {
   "cell_type": "code",
   "execution_count": null,
   "metadata": {},
   "outputs": [],
   "source": [
    "def call_api_splitname_batch(li):\n",
    "    \"This function prepares a list of unformatted names for the API call and then calls the API calling function. It returns the API's name classifications.\"\n",
    "    current_batch = format_split_names(li)  # format the names\n",
    "    batch_personal_name_in = format_split_name_batch(current_batch)# format the batch\n",
    "    api_response =  splitname_batch(batch_personal_name_in)# call api\n",
    "    return api_response.personal_names # return result"
   ]
  },
  {
   "cell_type": "code",
   "execution_count": null,
   "metadata": {},
   "outputs": [],
   "source": [
    "# Now parsing the full names into first and last name, sending in\n",
    "# one batch at a time and saving the result answer by answer.\n",
    "\n",
    "batch_size = 1000 #1000 is the API limit given by NamSor\n",
    "start = 0\n",
    "end = batch_size\n",
    "result = []\n",
    "\n",
    "names_to_consider = names[names['score'] < 5]\n",
    "\n",
    "names_stack = list(names_to_consider[['name', 'first_name', 'last_name']].to_dict('records'))\n",
    "names_stack = list(filter(lambda x: x['first_name'] is not None and x['last_name'] is not None, names_stack))\n",
    "\n",
    "print('Will need to make {} calls.'.format(len(names_stack) / batch_size))"
   ]
  },
  {
   "cell_type": "code",
   "execution_count": null,
   "metadata": {},
   "outputs": [],
   "source": [
    "# >>> Call API: Classify pairs of first and last names\n",
    "while (len(names_stack) >= batch_size):\n",
    "    try:\n",
    "        result = result + call_api_splitname_batch(names_stack[start:end])\n",
    "        del names_stack[start:end]\n",
    "        print(\"Batch of names analyzed. {} names left.\".format(len(names_stack)))\n",
    "        \n",
    "        # categorize remaining names if they are less than a batch size\n",
    "        if(len(names_stack) < batch_size and len(names_stack) > 0):\n",
    "            result = result + call_api_splitname_batch(names_stack)\n",
    "            names_stack = [] # empty the stack\n",
    "            print(\"Batch of names analyzed. {} names left.\".format(len(names_stack)))\n",
    "    except ApiException as e:\n",
    "        print(\"Exception when calling PersonalApi: gender_first_last_name_batch: {}\".format(e))\n",
    "\n",
    "if(len(names_stack) != 0):\n",
    "    try:\n",
    "        result = result + call_api_splitname_batch(names_stack)\n",
    "        names_stack = [] # empty the stack\n",
    "        print(\"Batch of names analyzed. {} names left.\".format(len(names_stack)))\n",
    "    except ApiException as e:\n",
    "        print(\"Exception when calling PersonalApi: gender_first_last_name_batch: {}\".format(e))\n",
    "\n",
    "print(\"All batches analyzed. Returned {} results.\".format(len(result)))"
   ]
  },
  {
   "cell_type": "code",
   "execution_count": null,
   "metadata": {},
   "outputs": [],
   "source": [
    "# Convert results (list of openapi_client.models.personal_name_gendered_out.PersonalNameGenderedOut) to (list of dictionaries)\n",
    "print('Filling the results into the names dataframe...')\n",
    "for oapi_el in result:\n",
    "    new_score = round(oapi_el.score)\n",
    "    if(new_score < 5): # consider a score of less than 5 as too unsure\n",
    "        new_gender = \"unknown\"\n",
    "    else:\n",
    "        new_gender = oapi_el.likely_gender\n",
    "    \n",
    "    names.at[oapi_el.id, 'score'] = new_score\n",
    "    names.at[oapi_el.id, 'likely_gender'] = new_gender\n",
    "print('Dataframe completed with API results. \\n Here is a sample: {}'.format( names[:5]))"
   ]
  },
  {
   "cell_type": "code",
   "execution_count": null,
   "metadata": {},
   "outputs": [],
   "source": [
    "# >>> Save results\n",
    "print(\"Saving names...\")\n",
    "names.to_csv(\"data/names_cat_i1.csv\")\n",
    "print(\"Names saved!\")"
   ]
  },
  {
   "cell_type": "code",
   "execution_count": null,
   "metadata": {},
   "outputs": [],
   "source": []
  }
 ],
 "metadata": {
  "kernelspec": {
   "display_name": "Python 3",
   "language": "python",
   "name": "python3"
  },
  "language_info": {
   "codemirror_mode": {
    "name": "ipython",
    "version": 3
   },
   "file_extension": ".py",
   "mimetype": "text/x-python",
   "name": "python",
   "nbconvert_exporter": "python",
   "pygments_lexer": "ipython3",
   "version": "3.7.1"
  }
 },
 "nbformat": 4,
 "nbformat_minor": 2
}
