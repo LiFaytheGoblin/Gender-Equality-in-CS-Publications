{
 "cells": [
  {
   "cell_type": "code",
   "execution_count": null,
   "metadata": {},
   "outputs": [],
   "source": [
    "# Data Gathering and Cleaning\n",
    "# I realized it is way easier to check some hypotheses if I improve the names csv again\n",
    "# I want to add the amount of part contributions, not only the amount of publications contributed to"
   ]
  },
  {
   "cell_type": "code",
   "execution_count": null,
   "metadata": {},
   "outputs": [],
   "source": [
    "# >>> Preparation\n",
    "# Import categorized 'names_cat.csv'\n",
    "import pandas\n",
    "import numpy\n",
    "\n",
    "print(\"Importing names... \")\n",
    "names = pandas.read_csv(\"data/names_cat_i2.csv\", usecols=[\"name\", \"n_publs\", \"likely_gender\", \"score\"])\n",
    "\n",
    "# Setting index & accessing cells: https://pythonhow.com/accessing-dataframe-columns-rows-and-cells/\n",
    "names = names.set_index(\"name\", drop = False)\n",
    "names[\"n_contribs\"] = numpy.zeros(len(names[\"name\"]))\n",
    "print(\"Names imported. They look like this: {}\".format(names[:5]))"
   ]
  },
  {
   "cell_type": "code",
   "execution_count": null,
   "metadata": {},
   "outputs": [],
   "source": [
    "print(\"Importing publications... \")\n",
    "cols = [\n",
    "    'key', \n",
    "    'authors',\n",
    "    'n_authors'\n",
    "]\n",
    "\n",
    "publs = pandas.read_csv(\"data/publications_cor3.csv\", usecols=cols)\n",
    "\n",
    "# Setting index & accessing cells: https://pythonhow.com/accessing-dataframe-columns-rows-and-cells/\n",
    "publs = publs.set_index(\"key\", drop = False)\n",
    "print(\"Publications imported. They look like this: {}\".format(publs[:5]))"
   ]
  },
  {
   "cell_type": "code",
   "execution_count": null,
   "metadata": {},
   "outputs": [],
   "source": [
    "import re\n",
    "test = publs.at[\"books/sp/13/DeR13\", \"authors\"]\n",
    "print(test)\n",
    "test = re.sub('\\[(\\'|\")|(\"|\\')\\]', '', test)\n",
    "print(test)\n",
    "test = re.sub('(\"|\\'),\\s(\\'|\")', ',', test)\n",
    "print(test)"
   ]
  },
  {
   "cell_type": "code",
   "execution_count": null,
   "metadata": {
    "scrolled": true
   },
   "outputs": [],
   "source": [
    "import re\n",
    "\n",
    "for index, row in publs.iterrows():\n",
    "    # if there are no authors given, don't handle this publication\n",
    "    n_authors = row[\"n_authors\"]\n",
    "    if(n_authors == 0): \n",
    "        continue\n",
    "\n",
    "    # Use regular expressions with replace: https://stackoverflow.com/questions/16720541/python-string-replace-regular-expression\n",
    "    # More on regex https://docs.python.org/3/library/re.html\n",
    "    # parse string of names that looks like an array into actualarray of names\n",
    "    # Eg. [\"Daniele Dell'Aglio\", 'Emanuele Della Valle']\n",
    "    # Eg. [\"Rahul De'\", 'Ravi Anand Rao']\n",
    "    \n",
    "    authors = publs.at[index, \"authors\"]\n",
    "    a_string = re.sub('\\[(\\'|\")|(\"|\\')\\]', '', authors)\n",
    "    a_string = re.sub('(\"|\\'),\\s(\\'|\")', ',', a_string)\n",
    "    \n",
    "    a = []\n",
    "    if(\",\" in a_string):\n",
    "        a = a_string.split(\",\")\n",
    "    else:\n",
    "        a.append(a_string)\n",
    "    \n",
    "    # a part contribution is:\n",
    "    part = 1.0 / n_authors\n",
    "    \n",
    "    # add part contribution to author name in names df\n",
    "    for author in a:\n",
    "        c = names.at[author, \"n_contribs\"]\n",
    "        names.at[author, \"n_contribs\"] = c + part"
   ]
  },
  {
   "cell_type": "code",
   "execution_count": null,
   "metadata": {},
   "outputs": [],
   "source": [
    "# >>> Save results\n",
    "print(\"Saving names...\")\n",
    "names.to_csv(\"data/names_cat_i3.csv\")\n",
    "print(\"Names saved!\")"
   ]
  },
  {
   "cell_type": "code",
   "execution_count": null,
   "metadata": {},
   "outputs": [],
   "source": []
  }
 ],
 "metadata": {
  "kernelspec": {
   "display_name": "Python 3",
   "language": "python",
   "name": "python3"
  },
  "language_info": {
   "codemirror_mode": {
    "name": "ipython",
    "version": 3
   },
   "file_extension": ".py",
   "mimetype": "text/x-python",
   "name": "python",
   "nbconvert_exporter": "python",
   "pygments_lexer": "ipython3",
   "version": "3.7.1"
  }
 },
 "nbformat": 4,
 "nbformat_minor": 2
}
