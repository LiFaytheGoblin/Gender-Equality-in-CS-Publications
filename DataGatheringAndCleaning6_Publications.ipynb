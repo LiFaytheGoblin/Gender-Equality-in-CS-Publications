{
 "cells": [
  {
   "cell_type": "code",
   "execution_count": null,
   "metadata": {},
   "outputs": [],
   "source": [
    "# 6 STEP: CREATE DATAFRAME OF PUBLICATIONS\n",
    "# In this Notebook, the dataframe we will work with for our analysis of gender equality\n",
    "# will be created. For that, the publications and necessary info will be extracted from 'clean-dblp.xml'\n",
    "# And completed with information on gender from 'names_cat.csv'"
   ]
  },
  {
   "cell_type": "code",
   "execution_count": null,
   "metadata": {},
   "outputs": [],
   "source": [
    "# >>> Import necessary data\n",
    "\n",
    "# Import the publication data\n",
    "import datetime\n",
    "import xml.etree.ElementTree as ET\n",
    "parser = ET.XMLParser()\n",
    "    \n",
    "file = 'data/clean_dblp.xml'\n",
    "\n",
    "time = datetime.datetime.now()\n",
    "print(\"Starting to parse XML file at {} ...\".format(time))\n",
    "tree = ET.parse(file, parser=parser)\n",
    "time = datetime.datetime.now()\n",
    "print(\"Finished parsing XML file at {} ! \".format(time))\n",
    "root = tree.getroot()\n",
    "print(\"Found {} entries! \".format(len(root)))"
   ]
  },
  {
   "cell_type": "code",
   "execution_count": null,
   "metadata": {},
   "outputs": [],
   "source": [
    "# Import categorized 'names_cat.csv'\n",
    "import pandas\n",
    "\n",
    "print(\"Importing categorized names... \")\n",
    "names = pandas.read_csv(\"data/names_cat.csv\", usecols=[\"name\", \"n_publs\", \"likely_gender\", \"score\"])\n",
    "\n",
    "# Setting index & accessing cells: https://pythonhow.com/accessing-dataframe-columns-rows-and-cells/\n",
    "names = names.set_index(\"name\", drop = False)\n",
    "print(\"Names imported. They look like this: {}\".format(names[:10]))"
   ]
  },
  {
   "cell_type": "code",
   "execution_count": null,
   "metadata": {},
   "outputs": [],
   "source": [
    "# >>> Get all publications and fill with info\n",
    "\n",
    "# Get all gender related info\n",
    "# The gender inequality index r tells us how much equalizing would be needed so there is an equal amount of male and \n",
    "# female authors. For example, if there are 4 authors in total, and 3 are male, 1 would need to be female in order \n",
    "# for the ratio between man and women to be equal. \n",
    "# It is calculated like so: 50% (the half) - 25% (percentage of women) = 25% (inequality index)\n",
    "def get_gender_picture(n):\n",
    "    \"This function returns the amount of male, female and unknown authors as well as the gender inequality ratio (in %)\"\n",
    "    m = 0.0 #male\n",
    "    f = 0.0 #female\n",
    "    u = 0.0 #unknown\n",
    "    r = 0.0 #inequality index\n",
    "    for name in n:\n",
    "        gender = names.at[name, \"likely_gender\"]\n",
    "        if(gender == \"male\"):\n",
    "            m += 1.0\n",
    "        elif(gender == \"female\"):\n",
    "            f += 1.0\n",
    "        else: \n",
    "            u += 1.0\n",
    "    sm = m + f #sum of male and female authors\n",
    "    if(sm > 0):\n",
    "        f_rel = (f / sm) * 100 #relative amount of female authors\n",
    "        half_rel = 50\n",
    "        r = half_rel - f_rel #inequality index\n",
    "    return {\n",
    "        'males': m,\n",
    "        'females': f,\n",
    "        'unknowns': u,\n",
    "        'ratio': r\n",
    "    }"
   ]
  },
  {
   "cell_type": "code",
   "execution_count": null,
   "metadata": {},
   "outputs": [],
   "source": [
    "# Get all publications\n",
    "publications_complete = {}\n",
    "\n",
    "print(\"Starting to extract publications...\")\n",
    "\n",
    "for child in root:\n",
    "    # Extract: key, category of publication, \n",
    "    key = child.get('key')\n",
    "    pub_cat = child.tag\n",
    "    \n",
    "    # Optionally extract: title, year of publication, publtype, pages\n",
    "    titles = child.findall(\"title\")\n",
    "    if(len(titles) > 0): title = titles[0].text\n",
    "    \n",
    "    years = child.findall(\"year\")\n",
    "    if(len(years) > 0): year = years[0].text\n",
    "    \n",
    "    pub_type = child.get('publtype')\n",
    "    \n",
    "    # Get authors\n",
    "    authors = child.findall(\"author\")\n",
    "    \n",
    "    current_names = []\n",
    "    \n",
    "    for author in authors:\n",
    "        current_names.append(author.text)\n",
    "    \n",
    "    # Get gender info\n",
    "    gender_pic = get_gender_picture(current_names)\n",
    "    n_males = gender_pic['males']\n",
    "    n_females = gender_pic['females']\n",
    "    n_unknown = gender_pic['unknowns']\n",
    "    ratio = gender_pic['ratio']\n",
    "    \n",
    "    # Add publication entry\n",
    "    publications_complete[key] = {\n",
    "        'key': key,\n",
    "        'pub_cat': pub_cat,\n",
    "        'pub_type': pub_type,\n",
    "        'title': title,\n",
    "        'year': year,\n",
    "        'authors': current_names,\n",
    "        'n_authors': len(names),\n",
    "        'n_males': n_males,\n",
    "        'n_females': n_females,\n",
    "        'n_unknown': n_unknown,\n",
    "        'ratio': ratio\n",
    "    }\n",
    "\n",
    "print(\"Finished extracting publications and calculating all needed information! Found {} entries.\".format(len(publications_complete)))"
   ]
  },
  {
   "cell_type": "code",
   "execution_count": null,
   "metadata": {},
   "outputs": [],
   "source": [
    "# >>> Convert results into dataframe\n",
    "# Dict to dataframe: https://pandas.pydata.org/pandas-docs/stable/reference/api/pandas.DataFrame.from_dict.html\n",
    "print(\"Converting dictionary of publications to a dataframe...\")\n",
    "publications = pd.DataFrame.from_dict(publications_complete, orient='index', dtype=None)\n",
    "print(\"Dataframe completed! Here are some entries: {}\".format(publications[:10]))"
   ]
  },
  {
   "cell_type": "code",
   "execution_count": null,
   "metadata": {},
   "outputs": [],
   "source": [
    "# >>> Save results\n",
    "# Save Dataframe to CSV: https://riptutorial.com/pandas/example/19502/create-random-dataframe-and-write-to--csv\n",
    "print(\"Saving dataframe as CSV...\")\n",
    "publications.to_csv(\"data/publications_uncor.csv\")\n",
    "print(\"Publications saved as CSV!\")"
   ]
  },
  {
   "cell_type": "code",
   "execution_count": null,
   "metadata": {},
   "outputs": [],
   "source": []
  }
 ],
 "metadata": {
  "kernelspec": {
   "display_name": "Python 3",
   "language": "python",
   "name": "python3"
  },
  "language_info": {
   "codemirror_mode": {
    "name": "ipython",
    "version": 3
   },
   "file_extension": ".py",
   "mimetype": "text/x-python",
   "name": "python",
   "nbconvert_exporter": "python",
   "pygments_lexer": "ipython3",
   "version": "3.7.3"
  }
 },
 "nbformat": 4,
 "nbformat_minor": 2
}
