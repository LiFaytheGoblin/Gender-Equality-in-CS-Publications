{
 "cells": [
  {
   "cell_type": "code",
   "execution_count": null,
   "metadata": {},
   "outputs": [],
   "source": [
    "# STEP 4: TEST DATA QUALITY for corrected data\n",
    "# Explore Result Quality Part II. b)\n",
    "# This notebook visualizes the statistics obtained in the prior step (Result Quality Part I. a). "
   ]
  },
  {
   "cell_type": "code",
   "execution_count": null,
   "metadata": {},
   "outputs": [],
   "source": [
    "# >>> Preparation\n",
    "# Import statistics\n",
    "import pandas\n",
    "\n",
    "print(\"Importing name statistics... \")\n",
    "names_stats = pandas.read_csv(\"data/names_score_min_stats_i2.csv\")\n",
    "\n",
    "# Setting index & accessing cells: https://pythonhow.com/accessing-dataframe-columns-rows-and-cells/\n",
    "#names_stats = names_stats.set_index(\"min_score\", drop = False)\n",
    "print(\"Stats imported. They look like this: {}\".format(names_stats[:3]))"
   ]
  },
  {
   "cell_type": "code",
   "execution_count": null,
   "metadata": {},
   "outputs": [],
   "source": [
    "# >>> Visualization\n",
    "import matplotlib.pyplot as plt"
   ]
  },
  {
   "cell_type": "code",
   "execution_count": null,
   "metadata": {},
   "outputs": [],
   "source": [
    "# >>> Looking at the changes that came with the correction in more detail\n",
    "# Amount of contributions: Difference in Mean\n",
    "plt.plot(names_stats['score_min'], names_stats['pubs_mean_dif'], label=\"Contributed to by any author\")\n",
    "plt.plot(names_stats['score_min'], names_stats['pubs_mean_m_dif'], alpha=0.5, label=\"Contributed to by a man\")\n",
    "plt.plot(names_stats['score_min'], names_stats['pubs_mean_f_dif'], alpha=0.5, label=\"Contributed to by a woman\")\n",
    "\n",
    "plt.xlabel(\"Minimum Score\")\n",
    "plt.ylabel(\"Difference in the average amount of publications\")\n",
    "\n",
    "plt.title(\"Depending on the selected threshold, \\n how did the mean amount of publications contributed a man and a woman change?\")\n",
    "plt.legend()"
   ]
  },
  {
   "cell_type": "code",
   "execution_count": null,
   "metadata": {},
   "outputs": [],
   "source": [
    "# Amount of contributions: Difference in Median\n",
    "plt.plot(names_stats['score_min'], names_stats['pubs_median_dif'], label=\"Contributed to by any author\")\n",
    "plt.plot(names_stats['score_min'], names_stats['pubs_median_m_dif'], alpha=0.5, label=\"Contributed to by a man\")\n",
    "plt.plot(names_stats['score_min'], names_stats['pubs_median_f_dif'], alpha=0.5, label=\"Contributed to by a woman\")\n",
    "\n",
    "plt.xlabel(\"Minimum Score\")\n",
    "plt.ylabel(\"Difference in the median amount of publications\")\n",
    "\n",
    "plt.title(\"Depending on the selected threshold, \\n how did the median amount of publications contributed a man and a woman change?\")\n",
    "plt.legend()"
   ]
  },
  {
   "cell_type": "code",
   "execution_count": null,
   "metadata": {},
   "outputs": [],
   "source": [
    "# Amount of contributions: Difference in Total\n",
    "plt.plot(names_stats['score_min'], names_stats['pubs_m_dif'], alpha=0.5, label=\"Contributed to by a man\")\n",
    "plt.plot(names_stats['score_min'], names_stats['pubs_f_dif'], alpha=0.5, label=\"Contributed to by a woman\")\n",
    "\n",
    "plt.xlabel(\"Minimum Score\")\n",
    "plt.ylabel(\"Difference in the total amount of publications\")\n",
    "\n",
    "plt.title(\"Depending on the selected threshold, \\n how did the amount of publications contributed a man and a woman change?\")\n",
    "plt.legend()"
   ]
  },
  {
   "cell_type": "code",
   "execution_count": null,
   "metadata": {},
   "outputs": [],
   "source": [
    "\n",
    "# Amount of contributions: Difference in the part of contributions and authors for women\n",
    "plt.plot(names_stats['score_min'], names_stats['pubs_f_part_dif'], alpha=0.5, label=\"Publications contributed to by women\")\n",
    "plt.plot(names_stats['score_min'], names_stats['authors_f_part_dif'], alpha=0.5, label=\"Authors contributed to by women\")\n",
    "\n",
    "plt.xlabel(\"Minimum Score\")\n",
    "plt.ylabel(\"Difference of the amount in %\")\n",
    "\n",
    "plt.title(\"Depending on the selected threshold, \\n how did the role female authors play change\")\n",
    "plt.legend()"
   ]
  },
  {
   "cell_type": "code",
   "execution_count": null,
   "metadata": {},
   "outputs": [],
   "source": [
    "# Amount of contributions: Difference in Authors\n",
    "plt.plot(names_stats['score_min'], names_stats['authors_f_dif'], alpha=0.5, label=\"Women\")\n",
    "plt.plot(names_stats['score_min'], names_stats['authors_m_dif'], alpha=0.5, label=\"Men\")\n",
    "\n",
    "plt.xlabel(\"Minimum Score\")\n",
    "plt.ylabel(\"Difference of the amount of authors\")\n",
    "\n",
    "plt.title(\"Depending on the selected threshold, \\n how did the amount of female / male authors change?\")\n",
    "plt.legend()"
   ]
  },
  {
   "cell_type": "code",
   "execution_count": null,
   "metadata": {},
   "outputs": [],
   "source": [
    "# >>> Interpretation\n",
    "# The data improvement changed the picture for female authors to the positive:\n",
    "# There are, depending on the threshold up to 80 000 more female authors (4% change) and up to 350 000 more contributions (3% change).\n",
    "# The median amount of publications stays the same though.\n",
    "# Since women are influenced by the data improvement, men are too."
   ]
  }
 ],
 "metadata": {
  "kernelspec": {
   "display_name": "Python 3",
   "language": "python",
   "name": "python3"
  },
  "language_info": {
   "codemirror_mode": {
    "name": "ipython",
    "version": 3
   },
   "file_extension": ".py",
   "mimetype": "text/x-python",
   "name": "python",
   "nbconvert_exporter": "python",
   "pygments_lexer": "ipython3",
   "version": "3.7.3"
  }
 },
 "nbformat": 4,
 "nbformat_minor": 2
}
