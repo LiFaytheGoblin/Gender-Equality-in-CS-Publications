{
 "cells": [
  {
   "cell_type": "code",
   "execution_count": null,
   "metadata": {},
   "outputs": [],
   "source": [
    "# DATA IMPROVEMENT Part 2\n",
    "# In this notebook, we find out which score is the minimum score we can trust more or less.\n",
    "# For that, we will explore the data sets and look at data properties that tell us about the reliability."
   ]
  },
  {
   "cell_type": "code",
   "execution_count": null,
   "metadata": {},
   "outputs": [],
   "source": [
    "# >>> Preparation\n",
    "import pandas\n",
    "\n",
    "print(\"Importing cleaned names for improvement... \")\n",
    "names = pandas.read_csv(\"data/names_cat_i2.csv\", usecols=[\"name\", \"n_publs\", \"likely_gender\", \"score\", \"first_name\", \"last_name\"])\n",
    "print(\"Names imported.\")"
   ]
  },
  {
   "cell_type": "code",
   "execution_count": null,
   "metadata": {
    "scrolled": true
   },
   "outputs": [],
   "source": [
    "# Setting index & accessing cells: https://pythonhow.com/accessing-dataframe-columns-rows-and-cells/\n",
    "names = names.set_index(\"name\", drop = False)\n",
    "print(names[:10])"
   ]
  },
  {
   "cell_type": "code",
   "execution_count": null,
   "metadata": {},
   "outputs": [],
   "source": [
    "# >> The last name was identified, but not the first name (names with score < 5)\n",
    "d = names[pandas.isnull(names['first_name']) & pandas.notnull(names['last_name'])]\n",
    "# If the last name was not identified but the first name was, most names have a score of max. 4. They are 16 851 names\n",
    "# and contain many false positives on first view. Eg. A. A. S. Mohamed \tfirst name =  Mohamed \t which is probably false\n",
    "# Harshly said, this means that a score of 4 means a certainty of 0.\n",
    "# If 4 has a certainty of 0, can we trust a score of 5? Let's find out in the next step."
   ]
  },
  {
   "cell_type": "code",
   "execution_count": null,
   "metadata": {},
   "outputs": [],
   "source": [
    "# >> Can we trust a score of 5?\n",
    "e = names[names['score'] == 5]\n",
    "# names of a score of 5 are problematic. Some are abbreviated, some are not.\n",
    "# This concerns 299 615 names.\n",
    "# Those that are not abbreviated seem to be classified fine (manual check on about 100 names).\n",
    "# But are those that are abbreviated? Let's see in the next step"
   ]
  },
  {
   "cell_type": "code",
   "execution_count": null,
   "metadata": {},
   "outputs": [],
   "source": [
    "# Get those names that contain an abbreviation\n",
    "# They mostly have score 2\n",
    "f = names[names['name'].str.match('\\w\\.')]"
   ]
  },
  {
   "cell_type": "code",
   "execution_count": null,
   "metadata": {},
   "outputs": [],
   "source": [
    "f['score'].hist(bins=f['score'].max())"
   ]
  },
  {
   "cell_type": "code",
   "execution_count": null,
   "metadata": {},
   "outputs": [],
   "source": [
    "# Many abbreviations with russian last name are classified reliably, because \n",
    "# russian last names can tell the gender (unlike stated in Science Metrix: http://www.science-metrix.com/sites/default/files/science-metrix/publications/science-metrix_bibliometric_indicators_womens_contribution_to_science_report.pdf)\n",
    "# https://en.wikipedia.org/wiki/List_of_surnames_in_Russia\n",
    "# Other names have another not abbreviated name\n",
    "# This concerns 10 213 names\n",
    "# We can therefore conclude that names with a score of 5 can be classified rather reliably.\n",
    "f[f['score']>5]"
   ]
  },
  {
   "cell_type": "code",
   "execution_count": null,
   "metadata": {},
   "outputs": [],
   "source": [
    "# How many indirect abbreviations do we have? Do they bother the reliability of score 5\n",
    "# 74, max score = 6 (2 names)\n",
    "g = names[names['name'].str.match('\\w\\s')]"
   ]
  },
  {
   "cell_type": "code",
   "execution_count": null,
   "metadata": {},
   "outputs": [],
   "source": [
    "# >>Interpretation \n",
    "# The minimum score that is reliable is 5. "
   ]
  }
 ],
 "metadata": {
  "kernelspec": {
   "display_name": "Python 3",
   "language": "python",
   "name": "python3"
  },
  "language_info": {
   "codemirror_mode": {
    "name": "ipython",
    "version": 3
   },
   "file_extension": ".py",
   "mimetype": "text/x-python",
   "name": "python",
   "nbconvert_exporter": "python",
   "pygments_lexer": "ipython3",
   "version": "3.7.3"
  }
 },
 "nbformat": 4,
 "nbformat_minor": 2
}
