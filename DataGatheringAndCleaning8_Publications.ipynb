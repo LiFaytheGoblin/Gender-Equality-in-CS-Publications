{
 "cells": [
  {
   "cell_type": "code",
   "execution_count": null,
   "metadata": {},
   "outputs": [],
   "source": [
    "# 8 STEP: CREATE DATAFRAME OF PUBLICATIONS\n",
    "# In this Notebook, the dataframe we will work with for our analysis of gender equality\n",
    "# will be created. For that, the publications and necessary info will be extracted from 'clean-dblp.xml'\n",
    "# And completed with information on gender from 'names_cat.csv'"
   ]
  },
  {
   "cell_type": "code",
   "execution_count": 1,
   "metadata": {},
   "outputs": [
    {
     "name": "stdout",
     "output_type": "stream",
     "text": [
      "Starting to parse XML file at 2019-05-07 13:48:01.491708 ...\n",
      "Finished parsing XML file at 2019-05-07 13:48:56.603749 ! \n",
      "Found 4544385 entries! \n"
     ]
    }
   ],
   "source": [
    "# >>> Import necessary data\n",
    "\n",
    "# Import the publication data\n",
    "import datetime\n",
    "import xml.etree.ElementTree as ET\n",
    "parser = ET.XMLParser()\n",
    "    \n",
    "file = 'data/clean_dblp.xml'\n",
    "\n",
    "time = datetime.datetime.now()\n",
    "print(\"Starting to parse XML file at {} ...\".format(time))\n",
    "tree = ET.parse(file, parser=parser)\n",
    "time = datetime.datetime.now()\n",
    "print(\"Finished parsing XML file at {} ! \".format(time))\n",
    "root = tree.getroot()\n",
    "print(\"Found {} entries! \".format(len(root)))"
   ]
  },
  {
   "cell_type": "code",
   "execution_count": 2,
   "metadata": {},
   "outputs": [
    {
     "name": "stdout",
     "output_type": "stream",
     "text": [
      "Importing categorized names that were improved twice before... \n",
      "Names imported. They look like this:                                         name likely_gender  n_publs  score\n",
      "name                                                                      \n",
      "'Maseka Lesaoana            'Maseka Lesaoana        female        2      8\n",
      "(David) Jing Dai            (David) Jing Dai          male        1      7\n",
      "(Max) Zong-Ming Cheng  (Max) Zong-Ming Cheng          male        2      8\n",
      "(Sophy) Shu-Jiun Chen  (Sophy) Shu-Jiun Chen        female        2      7\n",
      "(Zhou) Bryan Bai            (Zhou) Bryan Bai          male        2      6\n",
      "A Clara Kanmani              A Clara Kanmani        female        1      5\n",
      "A Lun                                  A Lun          male        1      1\n",
      "A Min Tjoa                        A Min Tjoa          male      211      2\n",
      "A S Akshaya                      A S Akshaya          male        1      2\n",
      "A'ang Subiyakto              A'ang Subiyakto        female        2      1\n"
     ]
    }
   ],
   "source": [
    "# Import categorized 'names_cat.csv'\n",
    "import pandas\n",
    "\n",
    "print(\"Importing categorized names that were improved twice before... \")\n",
    "names = pandas.read_csv(\"data/names_cat_i2.csv\", usecols=[\"name\", \"n_publs\", \"likely_gender\", \"score\"])\n",
    "\n",
    "# Setting index & accessing cells: https://pythonhow.com/accessing-dataframe-columns-rows-and-cells/\n",
    "names = names.set_index(\"name\", drop = False)\n",
    "print(\"Names imported. They look like this: {}\".format(names[:10]))"
   ]
  },
  {
   "cell_type": "code",
   "execution_count": 3,
   "metadata": {},
   "outputs": [],
   "source": [
    "# >>> Set the min. reliable score (found out in last step)\n",
    "score_min = 5\n",
    "change_fact = score_min - 1"
   ]
  },
  {
   "cell_type": "code",
   "execution_count": 4,
   "metadata": {},
   "outputs": [],
   "source": [
    "# >>> Create a dataset of adjusted scores \n",
    "# These will be used to try and find out which score is the most reliable\n",
    "def adjust(score):\n",
    "    if(score >= score_min):\n",
    "        return score - change_fact # any score that is reliable is 1 or bigger\n",
    "    else:\n",
    "        return 0 # unreliable scores are all 0\n",
    "\n",
    "adjusted_scores = []\n",
    "for score in names['score']:\n",
    "    adjusted_scores.append(adjust(score))"
   ]
  },
  {
   "cell_type": "code",
   "execution_count": 6,
   "metadata": {},
   "outputs": [
    {
     "data": {
      "text/plain": [
       "(array([1.050103e+06, 2.996150e+05, 2.066460e+05, 1.903210e+05,\n",
       "        1.643920e+05, 1.432420e+05, 1.032490e+05, 6.018300e+04,\n",
       "        3.538400e+04, 2.014300e+04, 1.105800e+04, 6.734000e+03,\n",
       "        4.688000e+03, 4.094000e+03, 2.379000e+03, 1.174000e+03,\n",
       "        6.560000e+02, 3.890000e+02, 5.540000e+02, 5.250000e+02,\n",
       "        2.840000e+02, 1.490000e+02, 1.440000e+02, 9.200000e+01,\n",
       "        1.010000e+02, 6.900000e+01, 3.700000e+01, 3.000000e+00,\n",
       "        1.000000e+01]),\n",
       " array([ 0.,  1.,  2.,  3.,  4.,  5.,  6.,  7.,  8.,  9., 10., 11., 12.,\n",
       "        13., 14., 15., 16., 17., 18., 19., 20., 21., 22., 23., 24., 25.,\n",
       "        26., 27., 28., 29.]),\n",
       " <a list of 29 Patch objects>)"
      ]
     },
     "execution_count": 6,
     "metadata": {},
     "output_type": "execute_result"
    },
    {
     "data": {
      "image/png": "[encoded data removed]",
      "text/plain": [
       "<Figure size 432x288 with 1 Axes>"
      ]
     },
     "metadata": {
      "needs_background": "light"
     },
     "output_type": "display_data"
    }
   ],
   "source": [
    "# Visualize adjusted scores\n",
    "import matplotlib.pyplot as plt\n",
    "names['score'].hist(bins=names['score'].max())\n",
    "plt.hist(adjusted_scores, bins=max(adjusted_scores), alpha=0.5)"
   ]
  },
  {
   "cell_type": "code",
   "execution_count": null,
   "metadata": {},
   "outputs": [],
   "source": [
    "# >>> Calc outliers \n",
    "# https://www.wikihow.com/Calculate-Outliers\n",
    "'''n = names_scores_new\n",
    "med = np.median(n)\n",
    "higher =  np.percentile(n, 75)\n",
    "lower =  np.percentile(n, 25)\n",
    "interquart_range = higher - lower\n",
    "inner_fence_higher = higher + interquart_range * 1.5\n",
    "outer_fence_higher = higher + interquart_range * 3\n",
    "print(\"For the adjusted scores, the inner fence is {}, the outer fence is {}\".format(inner_fence_higher, outer_fence_higher))\n",
    "\n",
    "inner_fence_lower = lower - interquart_range * 1.5\n",
    "outer_fence_lower = lower -  interquart_range * 3\n",
    "print(\"For the adjusted scores, the inner fence is {}, the outer fence is {}\".format(inner_fence_lower, outer_fence_lower))'''"
   ]
  },
  {
   "cell_type": "code",
   "execution_count": 9,
   "metadata": {},
   "outputs": [],
   "source": [
    "import numpy as np\n",
    "\n",
    "# >>> Get all publications and fill with info\n",
    "\n",
    "# Get all gender related info\n",
    "# The gender inequality index r tells us how much equalizing would be needed so there is an equal amount of male and \n",
    "# female authors. For example, if there are 4 authors in total, and 3 are male, 1 would need to be female in order \n",
    "# for the ratio between man and women to be equal. \n",
    "# It is calculated like so: 50% (the half) - 25% (percentage of women) = 25% (inequality index)\n",
    "\n",
    "higher =  np.percentile(adjusted_scores, 75)\n",
    "score_max = higher + change_fact # calculate back TODO: Is this the right value to chose?\n",
    "def get_gender_picture(n):\n",
    "    \"This function returns the amount of male, female and unknown authors as well as the gender inequality ratio (in %)\"\n",
    "    m_min = 0.0 #male\n",
    "    m_max = 0.0\n",
    "    f_min = 0.0 #female\n",
    "    f_max = 0.0\n",
    "    u = 0.0 #unknown\n",
    "    r_min = 0.0 #inequality index\n",
    "    r_max = 0.0\n",
    "    for name in n:\n",
    "        score = names.at[name, \"score\"]\n",
    "        gender = names.at[name, \"likely_gender\"]\n",
    "        if(score >= score_min):\n",
    "            if(gender == \"male\"):\n",
    "                m_max += 1.0\n",
    "            elif(gender == \"female\"):\n",
    "                f_max += 1.0\n",
    "        if(score > score_max):\n",
    "            if(gender == \"male\"):\n",
    "                m_min += 1.0\n",
    "            elif(gender == \"female\"):\n",
    "                f_min += 1.0\n",
    "    sm_total = len(n)\n",
    "    \n",
    "    sm_min = m_min + f_min #sum of male and female authors\n",
    "    sm_max = m_max + f_max\n",
    "    \n",
    "    u_min = sm_total - sm_max\n",
    "    u_max = sm_total - sm_min\n",
    "\n",
    "    if(sm_max > 0):\n",
    "        half_rel = 50\n",
    "        \n",
    "        f_rel_max = (f_min / sm_max) * 100 #relative amount of female authors\n",
    "        r_max = half_rel - f_rel_max #inequality index\n",
    "        if(sm_min > 0):\n",
    "            f_rel_min = (f_min / sm_min) * 100 #relative amount of female authors\n",
    "            r_min = half_rel - f_rel_min #inequality index\n",
    "    return {\n",
    "        'males': m_max,\n",
    "        'females': f_max,\n",
    "        'unknowns': u_min,\n",
    "        'ratio': r_max,\n",
    "        'males_min': m_min,\n",
    "        'females_min': f_min,\n",
    "        'unknowns_max': u_max,\n",
    "        'ratio_min': r_min\n",
    "    }"
   ]
  },
  {
   "cell_type": "code",
   "execution_count": 10,
   "metadata": {},
   "outputs": [
    {
     "name": "stdout",
     "output_type": "stream",
     "text": [
      "Starting to extract publications...\n",
      "Finished extracting publications and calculating all needed information! Found 4544385 entries.\n"
     ]
    }
   ],
   "source": [
    "# Get all publications\n",
    "publications_complete = {}\n",
    "\n",
    "print(\"Starting to extract publications...\")\n",
    "\n",
    "for child in root:\n",
    "    # Extract: key, category of publication, \n",
    "    key = child.get('key')\n",
    "    pub_cat = child.tag\n",
    "    \n",
    "    # Optionally extract: title, year of publication, publtype, pages\n",
    "    titles = child.findall(\"title\")\n",
    "    if(len(titles) > 0): title = titles[0].text\n",
    "    \n",
    "    years = child.findall(\"year\")\n",
    "    if(len(years) > 0): year = years[0].text\n",
    "    \n",
    "    pub_type = child.get('publtype')\n",
    "    \n",
    "    # Get authors\n",
    "    authors = child.findall(\"author\")\n",
    "    \n",
    "    current_names = []\n",
    "    \n",
    "    for author in authors:\n",
    "        current_names.append(author.text)\n",
    "    \n",
    "    # Get gender info\n",
    "    gender_pic = get_gender_picture(current_names)\n",
    "    n_males = gender_pic['males']\n",
    "    n_females = gender_pic['females']\n",
    "    n_unknown = gender_pic['unknowns']\n",
    "    ratio = gender_pic['ratio']\n",
    "    n_males_min = gender_pic['males_min']\n",
    "    n_females_min = gender_pic['females_min']\n",
    "    n_unknown_max = gender_pic['unknowns_max']\n",
    "    ratio_min = gender_pic['ratio_min']\n",
    "    \n",
    "    # Add publication entry\n",
    "    publications_complete[key] = {\n",
    "        'key': key,\n",
    "        'pub_cat': pub_cat,\n",
    "        'pub_type': pub_type,\n",
    "        'title': title,\n",
    "        'year': year,\n",
    "        'authors': current_names,\n",
    "        'n_authors': len(names),\n",
    "        'n_males': n_males,\n",
    "        'n_females': n_females,\n",
    "        'n_unknown': n_unknown,\n",
    "        'ratio': ratio,\n",
    "        'n_males_min': n_males_min,\n",
    "        'n_females_min': n_females_min,\n",
    "        'n_unknown_max': n_unknown_max,\n",
    "        'ratio_min': ratio_min\n",
    "    }\n",
    "\n",
    "print(\"Finished extracting publications and calculating all needed information! Found {} entries.\".format(len(publications_complete)))"
   ]
  },
  {
   "cell_type": "code",
   "execution_count": 12,
   "metadata": {},
   "outputs": [
    {
     "name": "stdout",
     "output_type": "stream",
     "text": [
      "Converting dictionary of publications to a dataframe...\n",
      "Dataframe completed! Here are some entries:                                                                    key  \\\n",
      "books/acm/0082477                                    books/acm/0082477   \n",
      "books/acm/Kim95                                        books/acm/Kim95   \n",
      "books/acm/kim95/AnnevelinkACFHK95    books/acm/kim95/AnnevelinkACFHK95   \n",
      "books/acm/kim95/Blakeley95                  books/acm/kim95/Blakeley95   \n",
      "books/acm/kim95/BreitbartGS95            books/acm/kim95/BreitbartGS95   \n",
      "books/acm/kim95/BreitbartR95              books/acm/kim95/BreitbartR95   \n",
      "books/acm/kim95/ChristodoulakisK95  books/acm/kim95/ChristodoulakisK95   \n",
      "books/acm/kim95/DayalHW95                    books/acm/kim95/DayalHW95   \n",
      "books/acm/kim95/DittrichD95                books/acm/kim95/DittrichD95   \n",
      "books/acm/kim95/Garcia-MolinaH95      books/acm/kim95/Garcia-MolinaH95   \n",
      "\n",
      "                                         pub_cat pub_type  \\\n",
      "books/acm/0082477                           book     None   \n",
      "books/acm/Kim95                             book     None   \n",
      "books/acm/kim95/AnnevelinkACFHK95   incollection     None   \n",
      "books/acm/kim95/Blakeley95          incollection     None   \n",
      "books/acm/kim95/BreitbartGS95       incollection     None   \n",
      "books/acm/kim95/BreitbartR95        incollection     None   \n",
      "books/acm/kim95/ChristodoulakisK95  incollection     None   \n",
      "books/acm/kim95/DayalHW95           incollection     None   \n",
      "books/acm/kim95/DittrichD95         incollection     None   \n",
      "books/acm/kim95/Garcia-MolinaH95    incollection     None   \n",
      "\n",
      "                                                                                title  \\\n",
      "books/acm/0082477                         The no-nonsense guide to computing careers.   \n",
      "books/acm/Kim95                     Modern Database Systems: The Object Model, Int...   \n",
      "books/acm/kim95/AnnevelinkACFHK95   Object SQL - A Language for the Design and Imp...   \n",
      "books/acm/kim95/Blakeley95          OQL[C++]: Extending C++ with an Object Query C...   \n",
      "books/acm/kim95/BreitbartGS95        Transaction Management in Multidatabase Systems.   \n",
      "books/acm/kim95/BreitbartR95                             Overview of the ADDS System.   \n",
      "books/acm/kim95/ChristodoulakisK95  Multimedia Information Systems: Issues and App...   \n",
      "books/acm/kim95/DayalHW95                                    Active Database Systems.   \n",
      "books/acm/kim95/DittrichD95         Where Object-Oriented DBMSs Should Do Better: ...   \n",
      "books/acm/kim95/Garcia-MolinaH95                               Distributed Databases.   \n",
      "\n",
      "                                    year  \\\n",
      "books/acm/0082477                   1992   \n",
      "books/acm/Kim95                     1995   \n",
      "books/acm/kim95/AnnevelinkACFHK95   1995   \n",
      "books/acm/kim95/Blakeley95          1995   \n",
      "books/acm/kim95/BreitbartGS95       1995   \n",
      "books/acm/kim95/BreitbartR95        1995   \n",
      "books/acm/kim95/ChristodoulakisK95  1995   \n",
      "books/acm/kim95/DayalHW95           1995   \n",
      "books/acm/kim95/DittrichD95         1995   \n",
      "books/acm/kim95/Garcia-MolinaH95    1995   \n",
      "\n",
      "                                                                              authors  \\\n",
      "books/acm/0082477                                                       [Marc Rettig]   \n",
      "books/acm/Kim95                                                                    []   \n",
      "books/acm/kim95/AnnevelinkACFHK95   [Jurgen Annevelink, Rafiul Ahad, Amelia Carlso...   \n",
      "books/acm/kim95/Blakeley95                                         [José A. Blakeley]   \n",
      "books/acm/kim95/BreitbartGS95       [Yuri Breitbart, Hector Garcia-Molina, Abraham...   \n",
      "books/acm/kim95/BreitbartR95                           [Yuri Breitbart, Tom C. Reyes]   \n",
      "books/acm/kim95/ChristodoulakisK95         [Stavros Christodoulakis, Leonidas Koveos]   \n",
      "books/acm/kim95/DayalHW95            [Umeshwar Dayal, Eric N. Hanson, Jennifer Widom]   \n",
      "books/acm/kim95/DittrichD95               [Angelika Kotz Dittrich, Klaus R. Dittrich]   \n",
      "books/acm/kim95/Garcia-MolinaH95                  [Hector Garcia-Molina, Meichun Hsu]   \n",
      "\n",
      "                                    n_authors  n_males  n_females  n_unknown  \\\n",
      "books/acm/0082477                     2306418      1.0        0.0        0.0   \n",
      "books/acm/Kim95                       2306418      0.0        0.0        0.0   \n",
      "books/acm/kim95/AnnevelinkACFHK95     2306418      4.0        1.0        1.0   \n",
      "books/acm/kim95/Blakeley95            2306418      1.0        0.0        0.0   \n",
      "books/acm/kim95/BreitbartGS95         2306418      2.0        0.0        1.0   \n",
      "books/acm/kim95/BreitbartR95          2306418      1.0        0.0        1.0   \n",
      "books/acm/kim95/ChristodoulakisK95    2306418      2.0        0.0        0.0   \n",
      "books/acm/kim95/DayalHW95             2306418      2.0        0.0        1.0   \n",
      "books/acm/kim95/DittrichD95           2306418      1.0        0.0        1.0   \n",
      "books/acm/kim95/Garcia-MolinaH95      2306418      1.0        0.0        1.0   \n",
      "\n",
      "                                    ratio  n_males_min  n_females_min  \\\n",
      "books/acm/0082477                    50.0          0.0            0.0   \n",
      "books/acm/Kim95                       0.0          0.0            0.0   \n",
      "books/acm/kim95/AnnevelinkACFHK95    50.0          2.0            0.0   \n",
      "books/acm/kim95/Blakeley95           50.0          1.0            0.0   \n",
      "books/acm/kim95/BreitbartGS95        50.0          1.0            0.0   \n",
      "books/acm/kim95/BreitbartR95         50.0          1.0            0.0   \n",
      "books/acm/kim95/ChristodoulakisK95   50.0          1.0            0.0   \n",
      "books/acm/kim95/DayalHW95            50.0          1.0            0.0   \n",
      "books/acm/kim95/DittrichD95          50.0          1.0            0.0   \n",
      "books/acm/kim95/Garcia-MolinaH95     50.0          1.0            0.0   \n",
      "\n",
      "                                    n_unknown_max  ratio_min  \n",
      "books/acm/0082477                             1.0        0.0  \n",
      "books/acm/Kim95                               0.0        0.0  \n",
      "books/acm/kim95/AnnevelinkACFHK95             4.0       50.0  \n",
      "books/acm/kim95/Blakeley95                    0.0       50.0  \n",
      "books/acm/kim95/BreitbartGS95                 2.0       50.0  \n",
      "books/acm/kim95/BreitbartR95                  1.0       50.0  \n",
      "books/acm/kim95/ChristodoulakisK95            1.0       50.0  \n",
      "books/acm/kim95/DayalHW95                     2.0       50.0  \n",
      "books/acm/kim95/DittrichD95                   1.0       50.0  \n",
      "books/acm/kim95/Garcia-MolinaH95              1.0       50.0  \n"
     ]
    }
   ],
   "source": [
    "# >>> Convert results into dataframe\n",
    "# Dict to dataframe: https://pandas.pydata.org/pandas-docs/stable/reference/api/pandas.DataFrame.from_dict.html\n",
    "print(\"Converting dictionary of publications to a dataframe...\")\n",
    "publications = pandas.DataFrame.from_dict(publications_complete, orient='index', dtype=None)\n",
    "print(\"Dataframe completed! Here are some entries: {}\".format(publications[:10]))"
   ]
  },
  {
   "cell_type": "code",
   "execution_count": 13,
   "metadata": {},
   "outputs": [
    {
     "name": "stdout",
     "output_type": "stream",
     "text": [
      "Saving dataframe as CSV...\n",
      "Publications saved as CSV!\n"
     ]
    }
   ],
   "source": [
    "# >>> Save results\n",
    "# Save Dataframe to CSV: https://riptutorial.com/pandas/example/19502/create-random-dataframe-and-write-to--csv\n",
    "print(\"Saving dataframe as CSV...\")\n",
    "publications.to_csv(\"data/publications_cor1.csv\")\n",
    "print(\"Publications saved as CSV!\")"
   ]
  },
  {
   "cell_type": "code",
   "execution_count": null,
   "metadata": {},
   "outputs": [],
   "source": []
  }
 ],
 "metadata": {
  "kernelspec": {
   "display_name": "Python 3",
   "language": "python",
   "name": "python3"
  },
  "language_info": {
   "codemirror_mode": {
    "name": "ipython",
    "version": 3
   },
   "file_extension": ".py",
   "mimetype": "text/x-python",
   "name": "python",
   "nbconvert_exporter": "python",
   "pygments_lexer": "ipython3",
   "version": "3.7.1"
  }
 },
 "nbformat": 4,
 "nbformat_minor": 2
}
