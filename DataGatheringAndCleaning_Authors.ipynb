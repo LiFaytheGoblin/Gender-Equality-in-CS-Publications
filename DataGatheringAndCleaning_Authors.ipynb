{
 "cells": [
  {
   "cell_type": "code",
   "execution_count": null,
   "metadata": {},
   "outputs": [],
   "source": [
    "import datetime\n",
    "import xml.etree.ElementTree as ET\n",
    "parser = ET.XMLParser()\n",
    "    \n",
    "file = 'data/clean_dblp.xml'\n",
    "\n",
    "time = datetime.datetime.now()\n",
    "print(\"Starting to parse XML file at {} ...\".format(time))\n",
    "tree = ET.parse(file, parser=parser)\n",
    "time = datetime.datetime.now()\n",
    "print(\"Finished parsing XML file at {} ! \".format(time))\n",
    "root = tree.getroot()\n",
    "print(\"Found {} entries! \".format(len(root)))"
   ]
  },
  {
   "cell_type": "code",
   "execution_count": null,
   "metadata": {},
   "outputs": [],
   "source": [
    "# Get all authors\n",
    "names_complete = {}\n",
    "\n",
    "print(\"Starting to extract author names...\")\n",
    "\n",
    "for child in root:\n",
    "    # Get authors\n",
    "    authors = child.findall(\"author\")\n",
    "    names = []\n",
    "    \n",
    "    for author in authors:\n",
    "        names.append(author.text)\n",
    "    \n",
    "    for name in names:\n",
    "        if (name in names_complete):\n",
    "            names_complete[name]['n_publs'] += 1\n",
    "        else:\n",
    "            names_complete[name] = {\n",
    "                'name': name,\n",
    "                'n_publs': 1\n",
    "            }\n",
    "\n",
    "        \n",
    "print(\"Finished extracting author names! Found {} entries.\".format(len(names_complete)))"
   ]
  },
  {
   "cell_type": "code",
   "execution_count": null,
   "metadata": {},
   "outputs": [],
   "source": [
    "import pandas as pd\n",
    "\n",
    "# Dict to dataframe: https://pandas.pydata.org/pandas-docs/stable/reference/api/pandas.DataFrame.from_dict.html\n",
    "print(\"Converting dictionary of names to a dataframe...\")\n",
    "names = pd.DataFrame.from_dict(names_complete, orient='index', dtype=None)\n",
    "names[\"likely_gender\"] = \"not determined\"\n",
    "names[\"score\"] = \"0\"\n",
    "print(\"Dataframe completed! Here are random entries:\")"
   ]
  },
  {
   "cell_type": "code",
   "execution_count": null,
   "metadata": {
    "scrolled": true
   },
   "outputs": [],
   "source": [
    "sample = names.sample(n=10)\n",
    "\n",
    "print(sample)"
   ]
  },
  {
   "cell_type": "code",
   "execution_count": null,
   "metadata": {},
   "outputs": [],
   "source": [
    "# Save Dataframe to CSV: https://riptutorial.com/pandas/example/19502/create-random-dataframe-and-write-to--csv\n",
    "print(\"Saving dataframe as CSV...\")\n",
    "names.to_csv(\"data/names.csv\")\n",
    "print(\"Names saved as CSV!\")"
   ]
  },
  {
   "cell_type": "code",
   "execution_count": null,
   "metadata": {},
   "outputs": [],
   "source": [
    "print(\"Sorting names by the amount of publications ...\")\n",
    "srtd_n_publs = names.sort_values(\"n_publs\", ascending=False)"
   ]
  },
  {
   "cell_type": "code",
   "execution_count": null,
   "metadata": {},
   "outputs": [],
   "source": [
    "print(\"The most publishing authors are ...\")\n",
    "# https://stackoverflow.com/questions/15006298/how-to-preview-a-part-of-a-large-pandas-dataframe-in-ipython-notebook\n",
    "srtd_n_publs.head(10)"
   ]
  },
  {
   "cell_type": "code",
   "execution_count": null,
   "metadata": {},
   "outputs": [],
   "source": [
    "print(\"Saving sorted dataframe as CSV...\")\n",
    "names.to_csv(\"data/names_srtd.csv\")\n",
    "print(\"Sorted names saved as CSV!\")"
   ]
  },
  {
   "cell_type": "code",
   "execution_count": null,
   "metadata": {},
   "outputs": [],
   "source": []
  }
 ],
 "metadata": {
  "kernelspec": {
   "display_name": "Python 3",
   "language": "python",
   "name": "python3"
  },
  "language_info": {
   "codemirror_mode": {
    "name": "ipython",
    "version": 3
   },
   "file_extension": ".py",
   "mimetype": "text/x-python",
   "name": "python",
   "nbconvert_exporter": "python",
   "pygments_lexer": "ipython3",
   "version": "3.7.1"
  }
 },
 "nbformat": 4,
 "nbformat_minor": 2
}
