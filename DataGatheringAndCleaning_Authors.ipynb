{
 "cells": [
  {
   "cell_type": "code",
   "execution_count": 1,
   "metadata": {},
   "outputs": [
    {
     "name": "stdout",
     "output_type": "stream",
     "text": [
      "Starting to parse XML file at 2019-04-11 11:42:00.761575 ...\n",
      "Finished parsing XML file at 2019-04-11 11:42:56.931092 ! \n",
      "Found 4544385 entries! \n"
     ]
    }
   ],
   "source": [
    "import datetime\n",
    "import xml.etree.ElementTree as ET\n",
    "parser = ET.XMLParser()\n",
    "    \n",
    "file = 'data/clean_dblp.xml'\n",
    "\n",
    "time = datetime.datetime.now()\n",
    "print(\"Starting to parse XML file at {} ...\".format(time))\n",
    "tree = ET.parse(file, parser=parser)\n",
    "time = datetime.datetime.now()\n",
    "print(\"Finished parsing XML file at {} ! \".format(time))\n",
    "root = tree.getroot()\n",
    "print(\"Found {} entries! \".format(len(root)))"
   ]
  },
  {
   "cell_type": "code",
   "execution_count": 17,
   "metadata": {},
   "outputs": [
    {
     "name": "stdout",
     "output_type": "stream",
     "text": [
      "Starting to extract author names and publications...\n",
      "Finished extracting author names! Found 2306418 entries.\n"
     ]
    }
   ],
   "source": [
    "# Get all authors\n",
    "names_complete = {}\n",
    "\n",
    "print(\"Starting to extract author names...\")\n",
    "\n",
    "for child in root:\n",
    "    # Get authors\n",
    "    authors = child.findall(\"author\")\n",
    "    names = []\n",
    "    \n",
    "    for author in authors:\n",
    "        names.append(author.text)\n",
    "    \n",
    "    for name in names:\n",
    "        if (name in names_complete):\n",
    "            names_complete[name]['n_publs'] += 1\n",
    "        else:\n",
    "            names_complete[name] = {\n",
    "                'name': name,\n",
    "                'n_publs': 1\n",
    "            }\n",
    "\n",
    "        \n",
    "print(\"Finished extracting author names! Found {} entries.\".format(len(names_complete)))"
   ]
  },
  {
   "cell_type": "code",
   "execution_count": 25,
   "metadata": {},
   "outputs": [
    {
     "name": "stdout",
     "output_type": "stream",
     "text": [
      "Converting dictionary of names to a dataframe...\n",
      "Dataframe completed! Here are random entries:\n"
     ]
    }
   ],
   "source": [
    "import pandas as pd\n",
    "\n",
    "# Dict to dataframe: https://pandas.pydata.org/pandas-docs/stable/reference/api/pandas.DataFrame.from_dict.html\n",
    "print(\"Converting dictionary of names to a dataframe...\")\n",
    "names = pd.DataFrame.from_dict(names_complete, orient='index', dtype=None)\n",
    "names[\"likely_gender\"] = \"not determined\"\n",
    "names[\"score\"] = \"0\"\n",
    "print(\"Dataframe completed! Here are random entries:\")"
   ]
  },
  {
   "cell_type": "code",
   "execution_count": 26,
   "metadata": {
    "scrolled": true
   },
   "outputs": [
    {
     "name": "stdout",
     "output_type": "stream",
     "text": [
      "                                        name  n_publs   likely_gender score\n",
      "Sui Wei                              Sui Wei        6  not determined     0\n",
      "Servando Espejo              Servando Espejo        6  not determined     0\n",
      "Rajakrishnan Rajkumar  Rajakrishnan Rajkumar       11  not determined     0\n",
      "L. Y. Wang                        L. Y. Wang        3  not determined     0\n",
      "Xiubin Zhuang                  Xiubin Zhuang        1  not determined     0\n",
      "Woo-Cheol Cho                  Woo-Cheol Cho        2  not determined     0\n",
      "Nancy M. Salbach            Nancy M. Salbach        1  not determined     0\n",
      "Shun-Te Tseng                  Shun-Te Tseng        3  not determined     0\n",
      "Matthew Kauer                  Matthew Kauer        2  not determined     0\n",
      "Xun Hu                                Xun Hu        3  not determined     0\n"
     ]
    }
   ],
   "source": [
    "sample = names.sample(n=10)\n",
    "\n",
    "print(sample)"
   ]
  },
  {
   "cell_type": "code",
   "execution_count": 27,
   "metadata": {},
   "outputs": [
    {
     "name": "stdout",
     "output_type": "stream",
     "text": [
      "Saving dataframe as CSV...\n",
      "Names saved as CSV!\n"
     ]
    }
   ],
   "source": [
    "# Save Dataframe to CSV: https://riptutorial.com/pandas/example/19502/create-random-dataframe-and-write-to--csv\n",
    "print(\"Saving dataframe as CSV...\")\n",
    "names.to_csv(\"data/names.csv\")\n",
    "print(\"Names saved as CSV!\")"
   ]
  },
  {
   "cell_type": "code",
   "execution_count": 28,
   "metadata": {},
   "outputs": [
    {
     "name": "stdout",
     "output_type": "stream",
     "text": [
      "Sorting names by the amount of publications ...\n"
     ]
    }
   ],
   "source": [
    "print(\"Sorting names by the amount of publications ...\")\n",
    "srtd_n_publs = names.sort_values(\"n_publs\", ascending=False)"
   ]
  },
  {
   "cell_type": "code",
   "execution_count": 29,
   "metadata": {},
   "outputs": [
    {
     "name": "stdout",
     "output_type": "stream",
     "text": [
      "The most publishing authors are ...\n"
     ]
    },
    {
     "data": {
      "text/html": [
       "<div>\n",
       "<style scoped>\n",
       "    .dataframe tbody tr th:only-of-type {\n",
       "        vertical-align: middle;\n",
       "    }\n",
       "\n",
       "    .dataframe tbody tr th {\n",
       "        vertical-align: top;\n",
       "    }\n",
       "\n",
       "    .dataframe thead th {\n",
       "        text-align: right;\n",
       "    }\n",
       "</style>\n",
       "<table border=\"1\" class=\"dataframe\">\n",
       "  <thead>\n",
       "    <tr style=\"text-align: right;\">\n",
       "      <th></th>\n",
       "      <th>name</th>\n",
       "      <th>n_publs</th>\n",
       "      <th>likely_gender</th>\n",
       "      <th>score</th>\n",
       "    </tr>\n",
       "  </thead>\n",
       "  <tbody>\n",
       "    <tr>\n",
       "      <th>H. Vincent Poor</th>\n",
       "      <td>H. Vincent Poor</td>\n",
       "      <td>1694</td>\n",
       "      <td>not determined</td>\n",
       "      <td>0</td>\n",
       "    </tr>\n",
       "    <tr>\n",
       "      <th>Mohamed-Slim Alouini</th>\n",
       "      <td>Mohamed-Slim Alouini</td>\n",
       "      <td>1307</td>\n",
       "      <td>not determined</td>\n",
       "      <td>0</td>\n",
       "    </tr>\n",
       "    <tr>\n",
       "      <th>Philip S. Yu</th>\n",
       "      <td>Philip S. Yu</td>\n",
       "      <td>1253</td>\n",
       "      <td>not determined</td>\n",
       "      <td>0</td>\n",
       "    </tr>\n",
       "    <tr>\n",
       "      <th>Wei Wang</th>\n",
       "      <td>Wei Wang</td>\n",
       "      <td>1200</td>\n",
       "      <td>not determined</td>\n",
       "      <td>0</td>\n",
       "    </tr>\n",
       "    <tr>\n",
       "      <th>Wei Zhang</th>\n",
       "      <td>Wei Zhang</td>\n",
       "      <td>1189</td>\n",
       "      <td>not determined</td>\n",
       "      <td>0</td>\n",
       "    </tr>\n",
       "    <tr>\n",
       "      <th>Lajos Hanzo</th>\n",
       "      <td>Lajos Hanzo</td>\n",
       "      <td>1183</td>\n",
       "      <td>not determined</td>\n",
       "      <td>0</td>\n",
       "    </tr>\n",
       "    <tr>\n",
       "      <th>Wen Gao 0001</th>\n",
       "      <td>Wen Gao 0001</td>\n",
       "      <td>1174</td>\n",
       "      <td>not determined</td>\n",
       "      <td>0</td>\n",
       "    </tr>\n",
       "    <tr>\n",
       "      <th>Wei Li</th>\n",
       "      <td>Wei Li</td>\n",
       "      <td>1138</td>\n",
       "      <td>not determined</td>\n",
       "      <td>0</td>\n",
       "    </tr>\n",
       "    <tr>\n",
       "      <th>Yu Zhang</th>\n",
       "      <td>Yu Zhang</td>\n",
       "      <td>1098</td>\n",
       "      <td>not determined</td>\n",
       "      <td>0</td>\n",
       "    </tr>\n",
       "    <tr>\n",
       "      <th>Yang Liu</th>\n",
       "      <td>Yang Liu</td>\n",
       "      <td>1092</td>\n",
       "      <td>not determined</td>\n",
       "      <td>0</td>\n",
       "    </tr>\n",
       "  </tbody>\n",
       "</table>\n",
       "</div>"
      ],
      "text/plain": [
       "                                      name  n_publs   likely_gender score\n",
       "H. Vincent Poor            H. Vincent Poor     1694  not determined     0\n",
       "Mohamed-Slim Alouini  Mohamed-Slim Alouini     1307  not determined     0\n",
       "Philip S. Yu                  Philip S. Yu     1253  not determined     0\n",
       "Wei Wang                          Wei Wang     1200  not determined     0\n",
       "Wei Zhang                        Wei Zhang     1189  not determined     0\n",
       "Lajos Hanzo                    Lajos Hanzo     1183  not determined     0\n",
       "Wen Gao 0001                  Wen Gao 0001     1174  not determined     0\n",
       "Wei Li                              Wei Li     1138  not determined     0\n",
       "Yu Zhang                          Yu Zhang     1098  not determined     0\n",
       "Yang Liu                          Yang Liu     1092  not determined     0"
      ]
     },
     "execution_count": 29,
     "metadata": {},
     "output_type": "execute_result"
    }
   ],
   "source": [
    "print(\"The most publishing authors are ...\")\n",
    "# https://stackoverflow.com/questions/15006298/how-to-preview-a-part-of-a-large-pandas-dataframe-in-ipython-notebook\n",
    "srtd_n_publs.head(10)"
   ]
  },
  {
   "cell_type": "code",
   "execution_count": null,
   "metadata": {},
   "outputs": [],
   "source": [
    "print(\"Saving sorted dataframe as CSV...\")\n",
    "names.to_csv(\"data/names_srtd.csv\")\n",
    "print(\"Sorted names saved as CSV!\")"
   ]
  },
  {
   "cell_type": "code",
   "execution_count": null,
   "metadata": {},
   "outputs": [],
   "source": []
  }
 ],
 "metadata": {
  "kernelspec": {
   "display_name": "Python 3",
   "language": "python",
   "name": "python3"
  },
  "language_info": {
   "codemirror_mode": {
    "name": "ipython",
    "version": 3
   },
   "file_extension": ".py",
   "mimetype": "text/x-python",
   "name": "python",
   "nbconvert_exporter": "python",
   "pygments_lexer": "ipython3",
   "version": "3.7.1"
  }
 },
 "nbformat": 4,
 "nbformat_minor": 2
}
