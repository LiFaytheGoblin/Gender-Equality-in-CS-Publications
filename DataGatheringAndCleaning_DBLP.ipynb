{
 "cells": [
  {
   "cell_type": "code",
   "execution_count": null,
   "metadata": {},
   "outputs": [],
   "source": [
    "# Tutorial on parsing an XML file: \n",
    "# \"Processing XML in Python — ElementTree. A Beginner’s Guide.\" by Deepesh Nair, Sep 15, 2018,\n",
    "# Published at https://towardsdatascience.com/processing-xml-in-python-elementtree-c8992941efd2 \n",
    "# (Visited: 13.03.2019)\n",
    "\n",
    "# Problem: XML is in ascii, so when parsing, I get \"undefined entity\" errors.\n",
    "# Hint to solution: https://stackoverflow.com/questions/22920295/parse-xhtml-document-with-undefined-entity\n",
    "# parser.entity['ouml'] = 'Ö'\n",
    "# Further documentation used: https://docs.python.org/3.3/library/xml.html\n",
    "\n",
    "import datetime\n",
    "import xml.etree.ElementTree as ET\n",
    "parser = ET.XMLParser(encoding='ASCII')\n",
    "\n",
    "# Because dblp.xml is encoded in ASCII, I decode some special characters and letters from ISO-8859-1\n",
    "special_chars = {\n",
    "    'Auml': 'Ä',\n",
    "    'Euml': 'Ë',\n",
    "    'Iuml': 'Ï',\n",
    "    'Ouml': 'Ö',\n",
    "    'Uuml': 'Ü',\n",
    "    \n",
    "    'auml': 'ä',\n",
    "    'euml': 'ë',\n",
    "    'iuml': 'i',\n",
    "    'ouml': 'ö',\n",
    "    'uuml': 'ü',\n",
    "    'yuml': 'ÿ',\n",
    "    \n",
    "    'Aacute': 'Á',\n",
    "    'Eacute': 'É',\n",
    "    'Iacute': 'Í',\n",
    "    'Oacute': 'Ó',\n",
    "    'Uacute': 'Ú',\n",
    "    \n",
    "    'Yacute': 'Ý',\n",
    "    'aacute': 'á',\n",
    "    'eacute': 'é',\n",
    "    'iacute': 'í',\n",
    "    'oacute': 'ó',\n",
    "    'uacute': 'ú',\n",
    "    'yacute': 'ý',\n",
    "    \n",
    "    'Agrave': 'À',\n",
    "    'Egrave': 'È',\n",
    "    'Igrave': 'Ì',\n",
    "    'Ograve': 'Ò',\n",
    "    'Ugrave': 'Ù',\n",
    "    \n",
    "    'agrave': 'à',\n",
    "    'egrave': 'è',\n",
    "    'igrave': 'ì',\n",
    "    'ograve': 'ò',\n",
    "    'ugrave': 'ù',\n",
    "    \n",
    "    'szlig': 'ß',\n",
    "    \n",
    "    'Atilde': 'Ã',\n",
    "    'Ntilde': 'Ñ',\n",
    "    'Otilde': 'Õ',\n",
    "    \n",
    "    'atilde': 'ã',\n",
    "    'ntilde': 'ñ',\n",
    "    'otilde': 'õ',\n",
    "    \n",
    "    'Ccedil': 'Ç',\n",
    "    'ccedil': 'ç',\n",
    "    \n",
    "    'Acirc': 'Â',\n",
    "    'Ecirc': 'Ê',\n",
    "    'Icirc': 'Î',\n",
    "    'Ocirc': 'Ô',\n",
    "    'Ucirc': 'Û',\n",
    "    \n",
    "    'acirc': 'â',\n",
    "    'ecirc': 'ê',\n",
    "    'icirc': 'î',\n",
    "    'ocirc': 'ô',\n",
    "    'ucirc': 'û',\n",
    "    \n",
    "    'AElig': 'Æ',\n",
    "    'aelig': 'æ',\n",
    "    \n",
    "    'Aring': 'Å',\n",
    "    'aring': 'å',\n",
    "    \n",
    "    'Oslash': 'Ø',\n",
    "    'oslash': 'ø',\n",
    "    \n",
    "    'ETH': 'Ð',\n",
    "    'eth': 'ð',\n",
    "    \n",
    "    'thorn': 'þ',\n",
    "    'THORN': 'Þ',\n",
    "    \n",
    "    'micro': 'µ',\n",
    "    'times': '×',\n",
    "    'reg': '®'\n",
    "}\n",
    "\n",
    "for key, val in special_chars.items():\n",
    "    parser.entity[key] = val\n",
    "    \n",
    "file = 'data/dblp.xml'\n",
    "time = datetime.datetime.now()\n",
    "print(\"Starting to parse XML file at {} ...\".format(time))\n",
    "tree = ET.parse(file, parser=parser)\n",
    "time = datetime.datetime.now()\n",
    "print(\"Finished parsing XML file at {} ! \".format(time))\n",
    "root = tree.getroot()\n",
    "print(\"Found {} entries! \".format(len(root)))"
   ]
  },
  {
   "cell_type": "code",
   "execution_count": null,
   "metadata": {},
   "outputs": [],
   "source": [
    "#root.tag"
   ]
  },
  {
   "cell_type": "code",
   "execution_count": null,
   "metadata": {},
   "outputs": [],
   "source": [
    "#root.attrib"
   ]
  },
  {
   "cell_type": "code",
   "execution_count": null,
   "metadata": {},
   "outputs": [],
   "source": [
    "#for child in root:\n",
    "#    print(child.tag, child.attrib)"
   ]
  },
  {
   "cell_type": "code",
   "execution_count": null,
   "metadata": {
    "scrolled": true
   },
   "outputs": [],
   "source": [
    "# Remove unneeded data\n",
    "# https://dblp.org/faq/16154937.html\n",
    "\n",
    "print(\"Starting to clean up data on publications...\")\n",
    "\n",
    "tree_copy = tree\n",
    "root_copy = root\n",
    "\n",
    "children_to_remove = []"
   ]
  },
  {
   "cell_type": "code",
   "execution_count": null,
   "metadata": {},
   "outputs": [],
   "source": [
    "# Remove publications we are not interested in: www, it contains mostly authors, but not all authors\n",
    "# https://dblp.org/faq/1474690.html\n",
    "\n",
    "print(\"Searching for author entries to remove...\")\n",
    "\n",
    "for child in root:\n",
    "    if(child.tag == \"www\"):\n",
    "        children_to_remove.append(child)"
   ]
  },
  {
   "cell_type": "code",
   "execution_count": null,
   "metadata": {},
   "outputs": [],
   "source": [
    "# Remove all informal publications, suveys, data, software\n",
    "\n",
    "print(\"Searching for publication entries to remove...\")\n",
    "\n",
    "categories_to_remove = [\"survey\", \"data\", \"software\"]\n",
    "\n",
    "for child in root:\n",
    "    pt = child.get(\"publtype\")\n",
    "    if(pt is not None and pt in categories_to_remove):\n",
    "        children_to_remove.append(child)\n",
    "\n",
    "print(\"Found {} elements to remove. Continuing to remove... \".format(len(children_to_remove)))"
   ]
  },
  {
   "cell_type": "code",
   "execution_count": null,
   "metadata": {},
   "outputs": [],
   "source": [
    "import sys\n",
    "\n",
    "c = 0\n",
    "\n",
    "print(len(children_to_remove))\n",
    "\n",
    "for child in children_to_remove:\n",
    "    try:\n",
    "        root.remove(child)\n",
    "        c+=1\n",
    "        if(c % 100 == 0):\n",
    "            print(\"Removed 100 entries.\")\n",
    "    except:\n",
    "        print(sys.exc_info()[0])\n",
    "        \n",
    "print(\"Removed all entries marked for removal. {} entries left.\".format(len(root)))"
   ]
  },
  {
   "cell_type": "code",
   "execution_count": null,
   "metadata": {},
   "outputs": [],
   "source": [
    "text_file = open(\"data/clean_dblp.xml\", \"w\")\n",
    "text_file.write(\"\")\n",
    "text_file.close()"
   ]
  },
  {
   "cell_type": "code",
   "execution_count": null,
   "metadata": {},
   "outputs": [],
   "source": [
    "# Save the cleaned xml\n",
    "\n",
    "tree.write(\"data/clean_dblp.xml\", xml_declaration=\"UTF-8\", method=\"xml\")\n",
    "print(\"Saved XML in file.\")"
   ]
  }
 ],
 "metadata": {
  "kernelspec": {
   "display_name": "Python 3",
   "language": "python",
   "name": "python3"
  },
  "language_info": {
   "codemirror_mode": {
    "name": "ipython",
    "version": 3
   },
   "file_extension": ".py",
   "mimetype": "text/x-python",
   "name": "python",
   "nbconvert_exporter": "python",
   "pygments_lexer": "ipython3",
   "version": "3.7.1"
  }
 },
 "nbformat": 4,
 "nbformat_minor": 2
}
