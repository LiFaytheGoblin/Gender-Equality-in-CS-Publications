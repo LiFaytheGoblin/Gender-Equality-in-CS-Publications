{
 "cells": [
  {
   "cell_type": "code",
   "execution_count": null,
   "metadata": {},
   "outputs": [],
   "source": [
    "import pandas\n",
    "\n",
    "print(\"Importing names... \")\n",
    "n = pandas.read_csv(\"data/names.csv\", usecols=[\"name\", \"n_publs\", \"likely_gender\", \"score\"])\n",
    "print(\"Names imported.\")"
   ]
  },
  {
   "cell_type": "code",
   "execution_count": null,
   "metadata": {},
   "outputs": [],
   "source": [
    "print(\"Retreiving a random sample... \")\n",
    "names = n.sample(5000)\n",
    "print(\"Sample retreived.\")"
   ]
  },
  {
   "cell_type": "code",
   "execution_count": null,
   "metadata": {},
   "outputs": [],
   "source": [
    "print(\"Saving sample to CSV... \")\n",
    "names.to_csv(\"data/names_smpl.csv\")\n",
    "print(\"Sample saved!\")"
   ]
  },
  {
   "cell_type": "code",
   "execution_count": null,
   "metadata": {
    "scrolled": true
   },
   "outputs": [],
   "source": [
    "import pandas\n",
    "\n",
    "print(\"Importing sample names... \")\n",
    "names = pandas.read_csv(\"data/names_smpl.csv\", usecols=[\"name\", \"n_publs\", \"likely_gender\", \"score\"])\n",
    "print(\"Names imported.\")"
   ]
  },
  {
   "cell_type": "code",
   "execution_count": null,
   "metadata": {},
   "outputs": [],
   "source": [
    "# Setting index & accessing cells: https://pythonhow.com/accessing-dataframe-columns-rows-and-cells/\n",
    "names = names.set_index(\"name\", drop = False)\n",
    "print(names)"
   ]
  },
  {
   "cell_type": "code",
   "execution_count": null,
   "metadata": {},
   "outputs": [],
   "source": [
    "print(\"Getting private key... \")\n",
    "# Get private API Key for NamSor API v2 (contained in txt file)\n",
    "key = ''\n",
    "\n",
    "# Import personal key\n",
    "with open(\"key.txt\", \"r\") as file:\n",
    "    key = file.read()\n",
    "\n",
    "if(len(key) > 0):\n",
    "    print(\"Got private key.\")\n",
    "else: \n",
    "    print(\"Could not find private key. Please check the file name and make sure you have an API key.\")"
   ]
  },
  {
   "cell_type": "code",
   "execution_count": null,
   "metadata": {},
   "outputs": [],
   "source": [
    "# Trying out NamSor API v2 to get the gender of a name\n",
    "# https://www.namsor.com/\n",
    "# https://v2.namsor.com/NamSorAPIv2/apidoc.html\n",
    "# using NamSor API v2 Python SDK\n",
    "# https://github.com/namsor/namsor-python-sdk2\n",
    "# licensed under GNU Affero General Public License v3.0\n",
    "\n",
    "# Alternatives? https://genderize.io/ -> But only first name!\n",
    "\n",
    "# Following script taken from https://github.com/namsor/namsor-python-sdk2 \"Getting Started\" \n",
    "# and adapted to keep key private and remove unnecessary lines.\n",
    "# It tests the connection to the NamSor API\n",
    "\n",
    "print(\"Testing NamSor API v2 connection...\")\n",
    "\n",
    "import openapi_client\n",
    "from openapi_client.rest import ApiException\n",
    "\n",
    "# Configure API key authorization: api_key\n",
    "configuration = openapi_client.Configuration()\n",
    "configuration.api_key['X-API-KEY'] = key"
   ]
  },
  {
   "cell_type": "code",
   "execution_count": null,
   "metadata": {},
   "outputs": [],
   "source": [
    "# create an instance of the API class\n",
    "admin_api_instance = openapi_client.AdminApi(openapi_client.ApiClient(configuration))\n",
    "\n",
    "try:\n",
    "    # Print current API usage.\n",
    "    api_response = admin_api_instance.api_usage()\n",
    "    print(api_response)\n",
    "    print(\"NamSor API v2 connection successfull!\")\n",
    "except ApiException as e:\n",
    "    print(\"Exception when calling AdminApi: api_usage: %s\\n\" % e)"
   ]
  },
  {
   "cell_type": "code",
   "execution_count": null,
   "metadata": {},
   "outputs": [],
   "source": [
    "# create an instance of the API class\n",
    "pers_api_instance = openapi_client.PersonalApi(openapi_client.ApiClient(configuration))"
   ]
  },
  {
   "cell_type": "code",
   "execution_count": null,
   "metadata": {},
   "outputs": [],
   "source": [
    "# Testing a single name in the API\n",
    "print(\"Getting gender of a name for testing... \")\n",
    "\n",
    "t = names.sample(1)\n",
    "\n",
    "print(t)"
   ]
  },
  {
   "cell_type": "code",
   "execution_count": null,
   "metadata": {},
   "outputs": [],
   "source": [
    "testname = t.loc[\"D. Nalley\",\"name\"]\n",
    "\n",
    "print(\"Chose to test {}. Continuing...\".format(testname))"
   ]
  },
  {
   "cell_type": "code",
   "execution_count": null,
   "metadata": {},
   "outputs": [],
   "source": [
    "try:\n",
    "    api_response = pers_api_instance.gender_full(testname)\n",
    "    print(api_response)\n",
    "except ApiException as e:\n",
    "    print(\"Exception when calling AdminApi: api_usage: %s\\n\" % e)\n",
    "\n",
    "print(\"Name {} is {} with a chance of {}.\".format(testname, api_response.likely_gender, abs(api_response.gender_scale)))"
   ]
  },
  {
   "cell_type": "code",
   "execution_count": null,
   "metadata": {
    "scrolled": true
   },
   "outputs": [],
   "source": [
    "# Testing the API for a batch of names\n",
    "tst_names = names[:10]\n",
    "print(\"Going to test the following names: {}\".format(tst_names))"
   ]
  },
  {
   "cell_type": "code",
   "execution_count": null,
   "metadata": {},
   "outputs": [],
   "source": [
    "# Formatting the names using the API's models\n",
    "def createPersonalNameIn(name):\n",
    "    return openapi_client.PersonalNameIn(id=name, name=name)\n",
    "\n",
    "list_of_names = list(map(createPersonalNameIn, tst_names.index.values))"
   ]
  },
  {
   "cell_type": "code",
   "execution_count": null,
   "metadata": {},
   "outputs": [],
   "source": [
    "print(list_of_names)\n",
    "print(\"The formatted names look like that: {}\".format(list_of_names))"
   ]
  },
  {
   "cell_type": "code",
   "execution_count": null,
   "metadata": {},
   "outputs": [],
   "source": [
    "batch_personal_name_in = openapi_client.BatchPersonalNameIn(personal_names=list_of_names)"
   ]
  },
  {
   "cell_type": "code",
   "execution_count": null,
   "metadata": {},
   "outputs": [],
   "source": [
    "print(\"Calling API to test a batch of names... \")\n",
    "\n",
    "try:\n",
    "    api_response = pers_api_instance.gender_full_batch(batch_personal_name_in=batch_personal_name_in)\n",
    "    print(api_response)\n",
    "    print(\"Names successfully analyzed\")\n",
    "except ApiException as e:\n",
    "    print(\"Exception when calling PersonalApi: gender_full_batch: %s\\n\" % e)"
   ]
  },
  {
   "cell_type": "code",
   "execution_count": null,
   "metadata": {
    "scrolled": false
   },
   "outputs": [],
   "source": [
    "# Now testing the repeated calling of the API, cycling through a list of names, sending in\n",
    "# one batch at a time and saving the result answer by answer.\n",
    "\n",
    "batch_size = 3\n",
    "start = 0\n",
    "end = batch_size\n",
    "result = []\n",
    "\n",
    "names_stack = list(tst_names.index.values)\n",
    "\n",
    "list_of_names = list(map(createPersonalNameIn, tst_names.index.values))\n",
    "\n",
    "while (len(names_stack) >= batch_size):\n",
    "    try:\n",
    "        current_batch = list(map(createPersonalNameIn, names_stack[start:end]))\n",
    "        batch_personal_name_in = openapi_client.BatchPersonalNameIn(personal_names=current_batch)\n",
    "        api_response = pers_api_instance.gender_full_batch(batch_personal_name_in=batch_personal_name_in)\n",
    "        result = result + api_response.personal_names\n",
    "        \n",
    "        del names_stack[start:end]\n",
    "        \n",
    "        # get remaining names if they are less than a batch size\n",
    "        if(len(names_stack) < batch_size and len(names_stack) > 0):\n",
    "            current_batch = list(map(createPersonalNameIn, names_stack))\n",
    "            batch_personal_name_in = openapi_client.BatchPersonalNameIn(personal_names=current_batch)\n",
    "            api_response = pers_api_instance.gender_full_batch(batch_personal_name_in=batch_personal_name_in)\n",
    "            result = result + api_response.personal_names\n",
    "            names_stack = []\n",
    "        \n",
    "        print(api_response)\n",
    "        print(result)\n",
    "        print(\"Batch of names analyzed\")\n",
    "    except ApiException as e:\n",
    "        print(\"Exception when calling PersonalApi: gender_full_batch: %s\\n\" % e)\n",
    "\n",
    "\n",
    "print(\"All batches analyzed.\")"
   ]
  },
  {
   "cell_type": "code",
   "execution_count": null,
   "metadata": {},
   "outputs": [],
   "source": [
    "# Convert results (list of openapi_client.models.personal_name_gendered_out.PersonalNameGenderedOut) to (list of dictionaries)\n",
    "\n",
    "for oapi_el in result:\n",
    "    tst_names.at[oapi_el.name, 'likely_gender'] = oapi_el.likely_gender\n",
    "    tst_names.at[oapi_el.name, 'score'] = oapi_el.score"
   ]
  },
  {
   "cell_type": "code",
   "execution_count": null,
   "metadata": {},
   "outputs": [],
   "source": [
    "tst_names"
   ]
  },
  {
   "cell_type": "code",
   "execution_count": null,
   "metadata": {},
   "outputs": [],
   "source": []
  }
 ],
 "metadata": {
  "kernelspec": {
   "display_name": "Python 3",
   "language": "python",
   "name": "python3"
  },
  "language_info": {
   "codemirror_mode": {
    "name": "ipython",
    "version": 3
   },
   "file_extension": ".py",
   "mimetype": "text/x-python",
   "name": "python",
   "nbconvert_exporter": "python",
   "pygments_lexer": "ipython3",
   "version": "3.7.3"
  }
 },
 "nbformat": 4,
 "nbformat_minor": 2
}
