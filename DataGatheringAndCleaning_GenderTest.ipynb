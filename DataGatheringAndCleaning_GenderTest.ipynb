{
 "cells": [
  {
   "cell_type": "code",
   "execution_count": 5,
   "metadata": {},
   "outputs": [
    {
     "name": "stdout",
     "output_type": "stream",
     "text": [
      "Importing names... \n",
      "Names imported.\n"
     ]
    }
   ],
   "source": [
    "import pandas\n",
    "\n",
    "print(\"Importing names... \")\n",
    "n = pandas.read_csv(\"data/names.csv\", usecols=[\"name\", \"n_publs\", \"likely_gender\", \"score\"])\n",
    "print(\"Names imported.\")"
   ]
  },
  {
   "cell_type": "code",
   "execution_count": 7,
   "metadata": {},
   "outputs": [
    {
     "name": "stdout",
     "output_type": "stream",
     "text": [
      "Retreiving a random sample... \n",
      "Sample retreived.\n"
     ]
    }
   ],
   "source": [
    "print(\"Retreiving a random sample... \")\n",
    "names = n.sample(5000)\n",
    "print(\"Sample retreived.\")"
   ]
  },
  {
   "cell_type": "code",
   "execution_count": 8,
   "metadata": {},
   "outputs": [
    {
     "name": "stdout",
     "output_type": "stream",
     "text": [
      "Saving sample to CSV... \n",
      "Sample saved!\n"
     ]
    }
   ],
   "source": [
    "print(\"Saving sample to CSV... \")\n",
    "names.to_csv(\"data/names_smpl.csv\")\n",
    "print(\"Sample saved!\")"
   ]
  },
  {
   "cell_type": "code",
   "execution_count": 9,
   "metadata": {
    "scrolled": true
   },
   "outputs": [
    {
     "name": "stdout",
     "output_type": "stream",
     "text": [
      "Importing sample names... \n",
      "Names imported.\n"
     ]
    }
   ],
   "source": [
    "import pandas\n",
    "\n",
    "print(\"Importing sample names... \")\n",
    "names = pandas.read_csv(\"data/names_smpl.csv\", usecols=[\"name\", \"n_publs\", \"likely_gender\", \"score\"])\n",
    "print(\"Names imported.\")"
   ]
  },
  {
   "cell_type": "code",
   "execution_count": 10,
   "metadata": {},
   "outputs": [
    {
     "name": "stdout",
     "output_type": "stream",
     "text": [
      "                                                            name  n_publs  \\\n",
      "name                                                                        \n",
      "J.-L. Goffin                                        J.-L. Goffin        1   \n",
      "Brian Manuel González-Contreras  Brian Manuel González-Contreras        3   \n",
      "Lamia Benmouffok                                Lamia Benmouffok        2   \n",
      "Vani Vijayakumar                                Vani Vijayakumar        1   \n",
      "A. R. Hale                                            A. R. Hale        7   \n",
      "Rajanik Mark Jayasuriya                  Rajanik Mark Jayasuriya        1   \n",
      "Klaus Illgner                                      Klaus Illgner       16   \n",
      "Roberto Gómez-García                        Roberto Gómez-García       39   \n",
      "François Sterboul                              François Sterboul        1   \n",
      "A. Trigg                                                A. Trigg        1   \n",
      "Isil Aksan Kurnaz                              Isil Aksan Kurnaz        2   \n",
      "Zhaohui Jiang                                      Zhaohui Jiang        7   \n",
      "Jianfei Li                                            Jianfei Li       17   \n",
      "Roderick Galantay                              Roderick Galantay        1   \n",
      "K. Zubier                                              K. Zubier        1   \n",
      "José Alberto Batista Tomé              José Alberto Batista Tomé       12   \n",
      "YoungJun Cha                                        YoungJun Cha        1   \n",
      "Lorenzo Pagnin                                    Lorenzo Pagnin        2   \n",
      "Gérard Caudal                                      Gérard Caudal       10   \n",
      "Jiong Li                                                Jiong Li       15   \n",
      "Dominik Schulz                                    Dominik Schulz       13   \n",
      "Jan-Christopher Bals                        Jan-Christopher Bals        3   \n",
      "Gyeng-Taek Yu                                      Gyeng-Taek Yu        1   \n",
      "Kelli S. Burns                                    Kelli S. Burns        1   \n",
      "Giorgio Gallo                                      Giorgio Gallo       25   \n",
      "Mark Blanchard                                    Mark Blanchard        8   \n",
      "Jacqueline Argence                            Jacqueline Argence        1   \n",
      "Sailesh Kumar                                      Sailesh Kumar       17   \n",
      "Monisha Bhattacharya                        Monisha Bhattacharya        1   \n",
      "Akira Kozawa                                        Akira Kozawa        1   \n",
      "...                                                          ...      ...   \n",
      "Roger James                                          Roger James        3   \n",
      "Mahboub Baccouch                                Mahboub Baccouch       19   \n",
      "Mo Luan                                                  Mo Luan        1   \n",
      "Alexander Murph                                  Alexander Murph        1   \n",
      "Ralf Herz                                              Ralf Herz        2   \n",
      "Tianting Zhao                                      Tianting Zhao        4   \n",
      "Tom LaGatta                                          Tom LaGatta        1   \n",
      "Tobias Eibach                                      Tobias Eibach        3   \n",
      "Mutsumi Nakamura                                Mutsumi Nakamura        7   \n",
      "Amir Afianian                                      Amir Afianian        1   \n",
      "Anthony Michael Barrett                  Anthony Michael Barrett        4   \n",
      "Pietro Lovato                                      Pietro Lovato       23   \n",
      "Jutta Stahl                                          Jutta Stahl        2   \n",
      "Jose Maria Briones                            Jose Maria Briones        1   \n",
      "Nina Ruzic                                            Nina Ruzic        2   \n",
      "Chi Kuo                                                  Chi Kuo        6   \n",
      "Eva Hoffmann                                        Eva Hoffmann        1   \n",
      "Daphne Everaerd                                  Daphne Everaerd        1   \n",
      "Huaxiang Yin                                        Huaxiang Yin        3   \n",
      "Wen-Yan Jin                                          Wen-Yan Jin        3   \n",
      "Yongchen Tang                                      Yongchen Tang        2   \n",
      "Yasunori Mochida                                Yasunori Mochida        1   \n",
      "Rui-Ming Shen                                      Rui-Ming Shen        1   \n",
      "M. Crestan                                            M. Crestan        1   \n",
      "Guan Ming Lim                                      Guan Ming Lim        1   \n",
      "Chaojun Fan                                          Chaojun Fan        1   \n",
      "Labib M. Zawra                                    Labib M. Zawra        1   \n",
      "Gabriele Gamberini                            Gabriele Gamberini        1   \n",
      "Ryuji Ishikawa                                    Ryuji Ishikawa        2   \n",
      "Laure Dentel                                        Laure Dentel        5   \n",
      "\n",
      "                                  likely_gender  score  \n",
      "name                                                    \n",
      "J.-L. Goffin                     not determined      0  \n",
      "Brian Manuel González-Contreras  not determined      0  \n",
      "Lamia Benmouffok                 not determined      0  \n",
      "Vani Vijayakumar                 not determined      0  \n",
      "A. R. Hale                       not determined      0  \n",
      "Rajanik Mark Jayasuriya          not determined      0  \n",
      "Klaus Illgner                    not determined      0  \n",
      "Roberto Gómez-García             not determined      0  \n",
      "François Sterboul                not determined      0  \n",
      "A. Trigg                         not determined      0  \n",
      "Isil Aksan Kurnaz                not determined      0  \n",
      "Zhaohui Jiang                    not determined      0  \n",
      "Jianfei Li                       not determined      0  \n",
      "Roderick Galantay                not determined      0  \n",
      "K. Zubier                        not determined      0  \n",
      "José Alberto Batista Tomé        not determined      0  \n",
      "YoungJun Cha                     not determined      0  \n",
      "Lorenzo Pagnin                   not determined      0  \n",
      "Gérard Caudal                    not determined      0  \n",
      "Jiong Li                         not determined      0  \n",
      "Dominik Schulz                   not determined      0  \n",
      "Jan-Christopher Bals             not determined      0  \n",
      "Gyeng-Taek Yu                    not determined      0  \n",
      "Kelli S. Burns                   not determined      0  \n",
      "Giorgio Gallo                    not determined      0  \n",
      "Mark Blanchard                   not determined      0  \n",
      "Jacqueline Argence               not determined      0  \n",
      "Sailesh Kumar                    not determined      0  \n",
      "Monisha Bhattacharya             not determined      0  \n",
      "Akira Kozawa                     not determined      0  \n",
      "...                                         ...    ...  \n",
      "Roger James                      not determined      0  \n",
      "Mahboub Baccouch                 not determined      0  \n",
      "Mo Luan                          not determined      0  \n",
      "Alexander Murph                  not determined      0  \n",
      "Ralf Herz                        not determined      0  \n",
      "Tianting Zhao                    not determined      0  \n",
      "Tom LaGatta                      not determined      0  \n",
      "Tobias Eibach                    not determined      0  \n",
      "Mutsumi Nakamura                 not determined      0  \n",
      "Amir Afianian                    not determined      0  \n",
      "Anthony Michael Barrett          not determined      0  \n",
      "Pietro Lovato                    not determined      0  \n",
      "Jutta Stahl                      not determined      0  \n",
      "Jose Maria Briones               not determined      0  \n",
      "Nina Ruzic                       not determined      0  \n",
      "Chi Kuo                          not determined      0  \n",
      "Eva Hoffmann                     not determined      0  \n",
      "Daphne Everaerd                  not determined      0  \n",
      "Huaxiang Yin                     not determined      0  \n",
      "Wen-Yan Jin                      not determined      0  \n",
      "Yongchen Tang                    not determined      0  \n",
      "Yasunori Mochida                 not determined      0  \n",
      "Rui-Ming Shen                    not determined      0  \n",
      "M. Crestan                       not determined      0  \n",
      "Guan Ming Lim                    not determined      0  \n",
      "Chaojun Fan                      not determined      0  \n",
      "Labib M. Zawra                   not determined      0  \n",
      "Gabriele Gamberini               not determined      0  \n",
      "Ryuji Ishikawa                   not determined      0  \n",
      "Laure Dentel                     not determined      0  \n",
      "\n",
      "[5000 rows x 4 columns]\n"
     ]
    }
   ],
   "source": [
    "# Setting index & accessing cells: https://pythonhow.com/accessing-dataframe-columns-rows-and-cells/\n",
    "names = names.set_index(\"name\", drop = False)\n",
    "print(names)"
   ]
  },
  {
   "cell_type": "code",
   "execution_count": 11,
   "metadata": {},
   "outputs": [
    {
     "name": "stdout",
     "output_type": "stream",
     "text": [
      "Getting private key... \n",
      "Got private key.\n"
     ]
    }
   ],
   "source": [
    "print(\"Getting private key... \")\n",
    "# Get private API Key for NamSor API v2 (contained in txt file)\n",
    "key = ''\n",
    "\n",
    "# Import personal key\n",
    "with open(\"key.txt\", \"r\") as file:\n",
    "    key = file.read()\n",
    "\n",
    "if(len(key) > 0):\n",
    "    print(\"Got private key.\")\n",
    "else: \n",
    "    print(\"Could not find private key. Please check the file name and make sure you have an API key.\")"
   ]
  },
  {
   "cell_type": "code",
   "execution_count": 12,
   "metadata": {},
   "outputs": [
    {
     "name": "stdout",
     "output_type": "stream",
     "text": [
      "Testing NamSor API v2 connection...\n"
     ]
    }
   ],
   "source": [
    "# Trying out NamSor API v2 to get the gender of a name\n",
    "# https://www.namsor.com/\n",
    "# https://v2.namsor.com/NamSorAPIv2/apidoc.html\n",
    "# using NamSor API v2 Python SDK\n",
    "# https://github.com/namsor/namsor-python-sdk2\n",
    "# licensed under GNU Affero General Public License v3.0\n",
    "\n",
    "# Alternatives? https://genderize.io/ -> But only first name!\n",
    "\n",
    "# Following script taken from https://github.com/namsor/namsor-python-sdk2 \"Getting Started\" \n",
    "# and adapted to keep key private and remove unnecessary lines.\n",
    "# It tests the connection to the NamSor API\n",
    "\n",
    "print(\"Testing NamSor API v2 connection...\")\n",
    "\n",
    "import openapi_client\n",
    "from openapi_client.rest import ApiException\n",
    "\n",
    "# Configure API key authorization: api_key\n",
    "configuration = openapi_client.Configuration()\n",
    "configuration.api_key['X-API-KEY'] = key"
   ]
  },
  {
   "cell_type": "code",
   "execution_count": 13,
   "metadata": {},
   "outputs": [
    {
     "name": "stdout",
     "output_type": "stream",
     "text": [
      "{'billing_period': {'api_key': '25990686d47a400154af01a141ad3e1f',\n",
      "                    'billing_status': 'OPEN',\n",
      "                    'hard_limit': 5000,\n",
      "                    'period_ended': 0,\n",
      "                    'period_started': 1552463739841,\n",
      "                    'soft_limit': 5000,\n",
      "                    'stripe_current_period_end': 0,\n",
      "                    'stripe_current_period_start': 0,\n",
      "                    'subscription_started': 1552463739841,\n",
      "                    'usage': -4999980},\n",
      " 'overage_currency': None,\n",
      " 'overage_excl_tax': 0.0,\n",
      " 'overage_incl_tax': 0.0,\n",
      " 'overage_quantity': 0,\n",
      " 'subscription': {'api_key': '25990686d47a400154af01a141ad3e1f',\n",
      "                  'currency': 'usd',\n",
      "                  'currency_factor': 1.0,\n",
      "                  'plan_base_fees_key': 'namsorapi_v2_BASIC_usd',\n",
      "                  'plan_ended': 0,\n",
      "                  'plan_name': 'BASIC',\n",
      "                  'plan_quota': 5000,\n",
      "                  'plan_started': 1552463739841,\n",
      "                  'plan_status': 'OPEN',\n",
      "                  'price': 0.0,\n",
      "                  'price_overage': 0.005,\n",
      "                  'price_overage_usd': 0.005,\n",
      "                  'price_usd': 0.0,\n",
      "                  'prior_plan_started': 0,\n",
      "                  'stripe_customer_id': None,\n",
      "                  'stripe_status': None,\n",
      "                  'stripe_subscription': None,\n",
      "                  'tax_rate': 0.0,\n",
      "                  'user_id': '7KmHgJAPWsYUfbODqWbTwdrhMZr1'}}\n",
      "NamSor API v2 connection successfull!\n"
     ]
    }
   ],
   "source": [
    "# create an instance of the API class\n",
    "admin_api_instance = openapi_client.AdminApi(openapi_client.ApiClient(configuration))\n",
    "\n",
    "try:\n",
    "    # Print current API usage.\n",
    "    api_response = admin_api_instance.api_usage()\n",
    "    print(api_response)\n",
    "    print(\"NamSor API v2 connection successfull!\")\n",
    "except ApiException as e:\n",
    "    print(\"Exception when calling AdminApi: api_usage: %s\\n\" % e)"
   ]
  },
  {
   "cell_type": "code",
   "execution_count": 14,
   "metadata": {},
   "outputs": [],
   "source": [
    "# create an instance of the API class\n",
    "pers_api_instance = openapi_client.PersonalApi(openapi_client.ApiClient(configuration))"
   ]
  },
  {
   "cell_type": "code",
   "execution_count": 15,
   "metadata": {},
   "outputs": [
    {
     "name": "stdout",
     "output_type": "stream",
     "text": [
      "Getting gender of a name for testing... \n",
      "                name  n_publs   likely_gender  score\n",
      "name                                                \n",
      "D. Nalley  D. Nalley        1  not determined      0\n"
     ]
    }
   ],
   "source": [
    "# Testing a single name in the API\n",
    "print(\"Getting gender of a name for testing... \")\n",
    "\n",
    "t = names.sample(1)\n",
    "\n",
    "print(t)"
   ]
  },
  {
   "cell_type": "code",
   "execution_count": 16,
   "metadata": {},
   "outputs": [
    {
     "name": "stdout",
     "output_type": "stream",
     "text": [
      "Chose to test D. Nalley. Continuing...\n"
     ]
    }
   ],
   "source": [
    "testname = t.loc[\"D. Nalley\",\"name\"]\n",
    "\n",
    "print(\"Chose to test {}. Continuing...\".format(testname))"
   ]
  },
  {
   "cell_type": "code",
   "execution_count": null,
   "metadata": {},
   "outputs": [],
   "source": [
    "try:\n",
    "    api_response = pers_api_instance.gender_full(testname)\n",
    "    print(api_response)\n",
    "except ApiException as e:\n",
    "    print(\"Exception when calling AdminApi: api_usage: %s\\n\" % e)\n",
    "\n",
    "print(\"Name {} is {} with a chance of {}.\".format(testname, api_response.likely_gender, abs(api_response.gender_scale)))"
   ]
  },
  {
   "cell_type": "code",
   "execution_count": 17,
   "metadata": {
    "scrolled": true
   },
   "outputs": [
    {
     "name": "stdout",
     "output_type": "stream",
     "text": [
      "Going to test the following names:                                                             name  n_publs  \\\n",
      "name                                                                        \n",
      "J.-L. Goffin                                        J.-L. Goffin        1   \n",
      "Brian Manuel González-Contreras  Brian Manuel González-Contreras        3   \n",
      "Lamia Benmouffok                                Lamia Benmouffok        2   \n",
      "Vani Vijayakumar                                Vani Vijayakumar        1   \n",
      "A. R. Hale                                            A. R. Hale        7   \n",
      "Rajanik Mark Jayasuriya                  Rajanik Mark Jayasuriya        1   \n",
      "Klaus Illgner                                      Klaus Illgner       16   \n",
      "Roberto Gómez-García                        Roberto Gómez-García       39   \n",
      "François Sterboul                              François Sterboul        1   \n",
      "A. Trigg                                                A. Trigg        1   \n",
      "\n",
      "                                  likely_gender  score  \n",
      "name                                                    \n",
      "J.-L. Goffin                     not determined      0  \n",
      "Brian Manuel González-Contreras  not determined      0  \n",
      "Lamia Benmouffok                 not determined      0  \n",
      "Vani Vijayakumar                 not determined      0  \n",
      "A. R. Hale                       not determined      0  \n",
      "Rajanik Mark Jayasuriya          not determined      0  \n",
      "Klaus Illgner                    not determined      0  \n",
      "Roberto Gómez-García             not determined      0  \n",
      "François Sterboul                not determined      0  \n",
      "A. Trigg                         not determined      0  \n"
     ]
    }
   ],
   "source": [
    "# Testing the API for a batch of names\n",
    "tst_names = names[:10]\n",
    "print(\"Going to test the following names: {}\".format(tst_names))"
   ]
  },
  {
   "cell_type": "code",
   "execution_count": 18,
   "metadata": {},
   "outputs": [],
   "source": [
    "# Formatting the names using the API's models\n",
    "def createPersonalNameIn(name):\n",
    "    return openapi_client.PersonalNameIn(id=name, name=name)\n",
    "\n",
    "list_of_names = list(map(createPersonalNameIn, tst_names.index.values))"
   ]
  },
  {
   "cell_type": "code",
   "execution_count": 19,
   "metadata": {},
   "outputs": [
    {
     "name": "stdout",
     "output_type": "stream",
     "text": [
      "[{'id': 'J.-L. Goffin', 'name': 'J.-L. Goffin'}, {'id': 'Brian Manuel González-Contreras',\n",
      " 'name': 'Brian Manuel González-Contreras'}, {'id': 'Lamia Benmouffok', 'name': 'Lamia Benmouffok'}, {'id': 'Vani Vijayakumar', 'name': 'Vani Vijayakumar'}, {'id': 'A. R. Hale', 'name': 'A. R. Hale'}, {'id': 'Rajanik Mark Jayasuriya', 'name': 'Rajanik Mark Jayasuriya'}, {'id': 'Klaus Illgner', 'name': 'Klaus Illgner'}, {'id': 'Roberto Gómez-García', 'name': 'Roberto Gómez-García'}, {'id': 'François Sterboul', 'name': 'François Sterboul'}, {'id': 'A. Trigg', 'name': 'A. Trigg'}]\n",
      "The formatted names look like that: [{'id': 'J.-L. Goffin', 'name': 'J.-L. Goffin'}, {'id': 'Brian Manuel González-Contreras',\n",
      " 'name': 'Brian Manuel González-Contreras'}, {'id': 'Lamia Benmouffok', 'name': 'Lamia Benmouffok'}, {'id': 'Vani Vijayakumar', 'name': 'Vani Vijayakumar'}, {'id': 'A. R. Hale', 'name': 'A. R. Hale'}, {'id': 'Rajanik Mark Jayasuriya', 'name': 'Rajanik Mark Jayasuriya'}, {'id': 'Klaus Illgner', 'name': 'Klaus Illgner'}, {'id': 'Roberto Gómez-García', 'name': 'Roberto Gómez-García'}, {'id': 'François Sterboul', 'name': 'François Sterboul'}, {'id': 'A. Trigg', 'name': 'A. Trigg'}]\n"
     ]
    }
   ],
   "source": [
    "print(list_of_names)\n",
    "print(\"The formatted names look like that: {}\".format(list_of_names))"
   ]
  },
  {
   "cell_type": "code",
   "execution_count": 20,
   "metadata": {},
   "outputs": [],
   "source": [
    "batch_personal_name_in = openapi_client.BatchPersonalNameIn(personal_names=list_of_names)"
   ]
  },
  {
   "cell_type": "code",
   "execution_count": 21,
   "metadata": {},
   "outputs": [
    {
     "name": "stdout",
     "output_type": "stream",
     "text": [
      "Calling API to test a batch of names... \n",
      "{'personal_names': [{'gender_scale': -1.0,\n",
      "                     'id': 'J.-L. Goffin',\n",
      "                     'likely_gender': 'male',\n",
      "                     'name': 'J.-L. Goffin',\n",
      "                     'score': 1.9698475400442068},\n",
      "                    {'gender_scale': -1.0,\n",
      "                     'id': 'Brian Manuel González-Contreras',\n",
      "                     'likely_gender': 'male',\n",
      "                     'name': 'Brian Manuel González-Contreras',\n",
      "                     'score': 11.691685856454608},\n",
      "                    {'gender_scale': 1.0,\n",
      "                     'id': 'Lamia Benmouffok',\n",
      "                     'likely_gender': 'female',\n",
      "                     'name': 'Lamia Benmouffok',\n",
      "                     'score': 2.58457361242469},\n",
      "                    {'gender_scale': 1.0,\n",
      "                     'id': 'Vani Vijayakumar',\n",
      "                     'likely_gender': 'female',\n",
      "                     'name': 'Vani Vijayakumar',\n",
      "                     'score': 4.938766878522636},\n",
      "                    {'gender_scale': -1.0,\n",
      "                     'id': 'A. R. Hale',\n",
      "                     'likely_gender': 'male',\n",
      "                     'name': 'A. R. Hale',\n",
      "                     'score': 3.6067726213841667},\n",
      "                    {'gender_scale': -1.0,\n",
      "                     'id': 'Rajanik Mark Jayasuriya',\n",
      "                     'likely_gender': 'male',\n",
      "                     'name': 'Rajanik Mark Jayasuriya',\n",
      "                     'score': 6.506731796049455},\n",
      "                    {'gender_scale': -1.0,\n",
      "                     'id': 'Klaus Illgner',\n",
      "                     'likely_gender': 'male',\n",
      "                     'name': 'Klaus Illgner',\n",
      "                     'score': 7.458261353516291},\n",
      "                    {'gender_scale': -1.0,\n",
      "                     'id': 'Roberto Gómez-García',\n",
      "                     'likely_gender': 'male',\n",
      "                     'name': 'Roberto Gómez-García',\n",
      "                     'score': 9.549871745194178},\n",
      "                    {'gender_scale': -1.0,\n",
      "                     'id': 'François Sterboul',\n",
      "                     'likely_gender': 'male',\n",
      "                     'name': 'François Sterboul',\n",
      "                     'score': 9.564474333082924},\n",
      "                    {'gender_scale': -1.0,\n",
      "                     'id': 'A. Trigg',\n",
      "                     'likely_gender': 'male',\n",
      "                     'name': 'A. Trigg',\n",
      "                     'score': 1.2798269811814917}]}\n",
      "Names successfully analyzed\n"
     ]
    }
   ],
   "source": [
    "print(\"Calling API to test a batch of names... \")\n",
    "\n",
    "try:\n",
    "    api_response = pers_api_instance.gender_full_batch(batch_personal_name_in=batch_personal_name_in)\n",
    "    print(api_response)\n",
    "    print(\"Names successfully analyzed\")\n",
    "except ApiException as e:\n",
    "    print(\"Exception when calling PersonalApi: gender_full_batch: %s\\n\" % e)"
   ]
  },
  {
   "cell_type": "code",
   "execution_count": 22,
   "metadata": {
    "scrolled": false
   },
   "outputs": [
    {
     "name": "stdout",
     "output_type": "stream",
     "text": [
      "{'personal_names': [{'gender_scale': -1.0,\n",
      "                     'id': 'J.-L. Goffin',\n",
      "                     'likely_gender': 'male',\n",
      "                     'name': 'J.-L. Goffin',\n",
      "                     'score': 1.9698475400442068},\n",
      "                    {'gender_scale': -1.0,\n",
      "                     'id': 'Brian Manuel González-Contreras',\n",
      "                     'likely_gender': 'male',\n",
      "                     'name': 'Brian Manuel González-Contreras',\n",
      "                     'score': 11.691685856454608},\n",
      "                    {'gender_scale': 1.0,\n",
      "                     'id': 'Lamia Benmouffok',\n",
      "                     'likely_gender': 'female',\n",
      "                     'name': 'Lamia Benmouffok',\n",
      "                     'score': 2.58457361242469}]}\n",
      "[{'gender_scale': -1.0,\n",
      " 'id': 'J.-L. Goffin',\n",
      " 'likely_gender': 'male',\n",
      " 'name': 'J.-L. Goffin',\n",
      " 'score': 1.9698475400442068}, {'gender_scale': -1.0,\n",
      " 'id': 'Brian Manuel González-Contreras',\n",
      " 'likely_gender': 'male',\n",
      " 'name': 'Brian Manuel González-Contreras',\n",
      " 'score': 11.691685856454608}, {'gender_scale': 1.0,\n",
      " 'id': 'Lamia Benmouffok',\n",
      " 'likely_gender': 'female',\n",
      " 'name': 'Lamia Benmouffok',\n",
      " 'score': 2.58457361242469}]\n",
      "Batch of names analyzed\n",
      "{'personal_names': [{'gender_scale': 1.0,\n",
      "                     'id': 'Vani Vijayakumar',\n",
      "                     'likely_gender': 'female',\n",
      "                     'name': 'Vani Vijayakumar',\n",
      "                     'score': 4.938766878522636},\n",
      "                    {'gender_scale': -1.0,\n",
      "                     'id': 'A. R. Hale',\n",
      "                     'likely_gender': 'male',\n",
      "                     'name': 'A. R. Hale',\n",
      "                     'score': 3.6067726213841667},\n",
      "                    {'gender_scale': -1.0,\n",
      "                     'id': 'Rajanik Mark Jayasuriya',\n",
      "                     'likely_gender': 'male',\n",
      "                     'name': 'Rajanik Mark Jayasuriya',\n",
      "                     'score': 6.506731796049455}]}\n",
      "[{'gender_scale': -1.0,\n",
      " 'id': 'J.-L. Goffin',\n",
      " 'likely_gender': 'male',\n",
      " 'name': 'J.-L. Goffin',\n",
      " 'score': 1.9698475400442068}, {'gender_scale': -1.0,\n",
      " 'id': 'Brian Manuel González-Contreras',\n",
      " 'likely_gender': 'male',\n",
      " 'name': 'Brian Manuel González-Contreras',\n",
      " 'score': 11.691685856454608}, {'gender_scale': 1.0,\n",
      " 'id': 'Lamia Benmouffok',\n",
      " 'likely_gender': 'female',\n",
      " 'name': 'Lamia Benmouffok',\n",
      " 'score': 2.58457361242469}, {'gender_scale': 1.0,\n",
      " 'id': 'Vani Vijayakumar',\n",
      " 'likely_gender': 'female',\n",
      " 'name': 'Vani Vijayakumar',\n",
      " 'score': 4.938766878522636}, {'gender_scale': -1.0,\n",
      " 'id': 'A. R. Hale',\n",
      " 'likely_gender': 'male',\n",
      " 'name': 'A. R. Hale',\n",
      " 'score': 3.6067726213841667}, {'gender_scale': -1.0,\n",
      " 'id': 'Rajanik Mark Jayasuriya',\n",
      " 'likely_gender': 'male',\n",
      " 'name': 'Rajanik Mark Jayasuriya',\n",
      " 'score': 6.506731796049455}]\n",
      "Batch of names analyzed\n",
      "{'personal_names': [{'gender_scale': -1.0,\n",
      "                     'id': 'A. Trigg',\n",
      "                     'likely_gender': 'male',\n",
      "                     'name': 'A. Trigg',\n",
      "                     'score': 1.2798269811814917}]}\n",
      "[{'gender_scale': -1.0,\n",
      " 'id': 'J.-L. Goffin',\n",
      " 'likely_gender': 'male',\n",
      " 'name': 'J.-L. Goffin',\n",
      " 'score': 1.9698475400442068}, {'gender_scale': -1.0,\n",
      " 'id': 'Brian Manuel González-Contreras',\n",
      " 'likely_gender': 'male',\n",
      " 'name': 'Brian Manuel González-Contreras',\n",
      " 'score': 11.691685856454608}, {'gender_scale': 1.0,\n",
      " 'id': 'Lamia Benmouffok',\n",
      " 'likely_gender': 'female',\n",
      " 'name': 'Lamia Benmouffok',\n",
      " 'score': 2.58457361242469}, {'gender_scale': 1.0,\n",
      " 'id': 'Vani Vijayakumar',\n",
      " 'likely_gender': 'female',\n",
      " 'name': 'Vani Vijayakumar',\n",
      " 'score': 4.938766878522636}, {'gender_scale': -1.0,\n",
      " 'id': 'A. R. Hale',\n",
      " 'likely_gender': 'male',\n",
      " 'name': 'A. R. Hale',\n",
      " 'score': 3.6067726213841667}, {'gender_scale': -1.0,\n",
      " 'id': 'Rajanik Mark Jayasuriya',\n",
      " 'likely_gender': 'male',\n",
      " 'name': 'Rajanik Mark Jayasuriya',\n",
      " 'score': 6.506731796049455}, {'gender_scale': -1.0,\n",
      " 'id': 'Klaus Illgner',\n",
      " 'likely_gender': 'male',\n",
      " 'name': 'Klaus Illgner',\n",
      " 'score': 7.458261353516291}, {'gender_scale': -1.0,\n",
      " 'id': 'Roberto Gómez-García',\n",
      " 'likely_gender': 'male',\n",
      " 'name': 'Roberto Gómez-García',\n",
      " 'score': 9.549871745194178}, {'gender_scale': -1.0,\n",
      " 'id': 'François Sterboul',\n",
      " 'likely_gender': 'male',\n",
      " 'name': 'François Sterboul',\n",
      " 'score': 9.564474333082924}, {'gender_scale': -1.0,\n",
      " 'id': 'A. Trigg',\n",
      " 'likely_gender': 'male',\n",
      " 'name': 'A. Trigg',\n",
      " 'score': 1.2798269811814917}]\n",
      "Batch of names analyzed\n",
      "All batches analyzed.\n"
     ]
    }
   ],
   "source": [
    "# Now testing the repeated calling of the API, cycling through a list of names, sending in\n",
    "# one batch at a time and saving the result answer by answer.\n",
    "\n",
    "batch_size = 3\n",
    "start = 0\n",
    "end = batch_size\n",
    "result = []\n",
    "\n",
    "names_stack = list(tst_names.index.values)\n",
    "\n",
    "list_of_names = list(map(createPersonalNameIn, tst_names.index.values))\n",
    "\n",
    "while (len(names_stack) >= batch_size):\n",
    "    try:\n",
    "        current_batch = list(map(createPersonalNameIn, names_stack[start:end]))\n",
    "        batch_personal_name_in = openapi_client.BatchPersonalNameIn(personal_names=current_batch)\n",
    "        api_response = pers_api_instance.gender_full_batch(batch_personal_name_in=batch_personal_name_in)\n",
    "        result = result + api_response.personal_names\n",
    "        \n",
    "        del names_stack[start:end]\n",
    "        \n",
    "        # get remaining names if they are less than a batch size\n",
    "        if(len(names_stack) < batch_size and len(names_stack) > 0):\n",
    "            current_batch = list(map(createPersonalNameIn, names_stack))\n",
    "            batch_personal_name_in = openapi_client.BatchPersonalNameIn(personal_names=current_batch)\n",
    "            api_response = pers_api_instance.gender_full_batch(batch_personal_name_in=batch_personal_name_in)\n",
    "            result = result + api_response.personal_names\n",
    "            names_stack = []\n",
    "        \n",
    "        print(api_response)\n",
    "        print(result)\n",
    "        print(\"Batch of names analyzed\")\n",
    "    except ApiException as e:\n",
    "        print(\"Exception when calling PersonalApi: gender_full_batch: %s\\n\" % e)\n",
    "\n",
    "\n",
    "print(\"All batches analyzed.\")"
   ]
  },
  {
   "cell_type": "code",
   "execution_count": 23,
   "metadata": {},
   "outputs": [],
   "source": [
    "# Convert results (list of openapi_client.models.personal_name_gendered_out.PersonalNameGenderedOut) to (list of dictionaries)\n",
    "\n",
    "for oapi_el in result:\n",
    "    tst_names.at[oapi_el.name, 'likely_gender'] = oapi_el.likely_gender\n",
    "    tst_names.at[oapi_el.name, 'score'] = oapi_el.score"
   ]
  },
  {
   "cell_type": "code",
   "execution_count": 24,
   "metadata": {},
   "outputs": [
    {
     "data": {
      "text/html": [
       "<div>\n",
       "<style scoped>\n",
       "    .dataframe tbody tr th:only-of-type {\n",
       "        vertical-align: middle;\n",
       "    }\n",
       "\n",
       "    .dataframe tbody tr th {\n",
       "        vertical-align: top;\n",
       "    }\n",
       "\n",
       "    .dataframe thead th {\n",
       "        text-align: right;\n",
       "    }\n",
       "</style>\n",
       "<table border=\"1\" class=\"dataframe\">\n",
       "  <thead>\n",
       "    <tr style=\"text-align: right;\">\n",
       "      <th></th>\n",
       "      <th>name</th>\n",
       "      <th>n_publs</th>\n",
       "      <th>likely_gender</th>\n",
       "      <th>score</th>\n",
       "    </tr>\n",
       "    <tr>\n",
       "      <th>name</th>\n",
       "      <th></th>\n",
       "      <th></th>\n",
       "      <th></th>\n",
       "      <th></th>\n",
       "    </tr>\n",
       "  </thead>\n",
       "  <tbody>\n",
       "    <tr>\n",
       "      <th>J.-L. Goffin</th>\n",
       "      <td>J.-L. Goffin</td>\n",
       "      <td>1</td>\n",
       "      <td>male</td>\n",
       "      <td>1</td>\n",
       "    </tr>\n",
       "    <tr>\n",
       "      <th>Brian Manuel González-Contreras</th>\n",
       "      <td>Brian Manuel González-Contreras</td>\n",
       "      <td>3</td>\n",
       "      <td>male</td>\n",
       "      <td>11</td>\n",
       "    </tr>\n",
       "    <tr>\n",
       "      <th>Lamia Benmouffok</th>\n",
       "      <td>Lamia Benmouffok</td>\n",
       "      <td>2</td>\n",
       "      <td>female</td>\n",
       "      <td>2</td>\n",
       "    </tr>\n",
       "    <tr>\n",
       "      <th>Vani Vijayakumar</th>\n",
       "      <td>Vani Vijayakumar</td>\n",
       "      <td>1</td>\n",
       "      <td>female</td>\n",
       "      <td>4</td>\n",
       "    </tr>\n",
       "    <tr>\n",
       "      <th>A. R. Hale</th>\n",
       "      <td>A. R. Hale</td>\n",
       "      <td>7</td>\n",
       "      <td>male</td>\n",
       "      <td>3</td>\n",
       "    </tr>\n",
       "    <tr>\n",
       "      <th>Rajanik Mark Jayasuriya</th>\n",
       "      <td>Rajanik Mark Jayasuriya</td>\n",
       "      <td>1</td>\n",
       "      <td>male</td>\n",
       "      <td>6</td>\n",
       "    </tr>\n",
       "    <tr>\n",
       "      <th>Klaus Illgner</th>\n",
       "      <td>Klaus Illgner</td>\n",
       "      <td>16</td>\n",
       "      <td>male</td>\n",
       "      <td>7</td>\n",
       "    </tr>\n",
       "    <tr>\n",
       "      <th>Roberto Gómez-García</th>\n",
       "      <td>Roberto Gómez-García</td>\n",
       "      <td>39</td>\n",
       "      <td>male</td>\n",
       "      <td>9</td>\n",
       "    </tr>\n",
       "    <tr>\n",
       "      <th>François Sterboul</th>\n",
       "      <td>François Sterboul</td>\n",
       "      <td>1</td>\n",
       "      <td>male</td>\n",
       "      <td>9</td>\n",
       "    </tr>\n",
       "    <tr>\n",
       "      <th>A. Trigg</th>\n",
       "      <td>A. Trigg</td>\n",
       "      <td>1</td>\n",
       "      <td>male</td>\n",
       "      <td>1</td>\n",
       "    </tr>\n",
       "  </tbody>\n",
       "</table>\n",
       "</div>"
      ],
      "text/plain": [
       "                                                            name  n_publs  \\\n",
       "name                                                                        \n",
       "J.-L. Goffin                                        J.-L. Goffin        1   \n",
       "Brian Manuel González-Contreras  Brian Manuel González-Contreras        3   \n",
       "Lamia Benmouffok                                Lamia Benmouffok        2   \n",
       "Vani Vijayakumar                                Vani Vijayakumar        1   \n",
       "A. R. Hale                                            A. R. Hale        7   \n",
       "Rajanik Mark Jayasuriya                  Rajanik Mark Jayasuriya        1   \n",
       "Klaus Illgner                                      Klaus Illgner       16   \n",
       "Roberto Gómez-García                        Roberto Gómez-García       39   \n",
       "François Sterboul                              François Sterboul        1   \n",
       "A. Trigg                                                A. Trigg        1   \n",
       "\n",
       "                                likely_gender  score  \n",
       "name                                                  \n",
       "J.-L. Goffin                             male      1  \n",
       "Brian Manuel González-Contreras          male     11  \n",
       "Lamia Benmouffok                       female      2  \n",
       "Vani Vijayakumar                       female      4  \n",
       "A. R. Hale                               male      3  \n",
       "Rajanik Mark Jayasuriya                  male      6  \n",
       "Klaus Illgner                            male      7  \n",
       "Roberto Gómez-García                     male      9  \n",
       "François Sterboul                        male      9  \n",
       "A. Trigg                                 male      1  "
      ]
     },
     "execution_count": 24,
     "metadata": {},
     "output_type": "execute_result"
    }
   ],
   "source": [
    "tst_names"
   ]
  },
  {
   "cell_type": "code",
   "execution_count": null,
   "metadata": {},
   "outputs": [],
   "source": []
  }
 ],
 "metadata": {
  "kernelspec": {
   "display_name": "Python 3",
   "language": "python",
   "name": "python3"
  },
  "language_info": {
   "codemirror_mode": {
    "name": "ipython",
    "version": 3
   },
   "file_extension": ".py",
   "mimetype": "text/x-python",
   "name": "python",
   "nbconvert_exporter": "python",
   "pygments_lexer": "ipython3",
   "version": "3.7.1"
  }
 },
 "nbformat": 4,
 "nbformat_minor": 2
}
