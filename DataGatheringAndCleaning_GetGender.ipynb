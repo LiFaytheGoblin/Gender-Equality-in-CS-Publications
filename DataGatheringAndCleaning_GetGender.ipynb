{
 "cells": [
  {
   "cell_type": "code",
   "execution_count": null,
   "metadata": {},
   "outputs": [],
   "source": [
    "import pandas\n",
    "\n",
    "print(\"Importing names... \")\n",
    "names = pandas.read_csv(\"data/names.csv\", usecols=[\"name\", \"n_publs\", \"likely_gender\", \"score\"])\n",
    "print(\"Names imported.\")"
   ]
  },
  {
   "cell_type": "code",
   "execution_count": null,
   "metadata": {},
   "outputs": [],
   "source": [
    "# Setting index & accessing cells: https://pythonhow.com/accessing-dataframe-columns-rows-and-cells/\n",
    "names = names.set_index(\"name\", drop = False)\n",
    "print(names)"
   ]
  },
  {
   "cell_type": "code",
   "execution_count": null,
   "metadata": {},
   "outputs": [],
   "source": [
    "print(\"Getting private key... \")\n",
    "# Get private API Key for NamSor API v2 (contained in txt file)\n",
    "key = ''\n",
    "\n",
    "# Import personal key\n",
    "with open(\"key.txt\", \"r\") as file:\n",
    "    key = file.read()\n",
    "\n",
    "if(len(key) > 0):\n",
    "    print(\"Got private key.\")\n",
    "else: \n",
    "    print(\"Could not find private key. Please check the file name and make sure you have an API key.\")"
   ]
  },
  {
   "cell_type": "code",
   "execution_count": null,
   "metadata": {},
   "outputs": [],
   "source": [
    "# Trying out NamSor API v2 to get the gender of a name\n",
    "# https://www.namsor.com/\n",
    "# https://v2.namsor.com/NamSorAPIv2/apidoc.html\n",
    "# using NamSor API v2 Python SDK\n",
    "# https://github.com/namsor/namsor-python-sdk2\n",
    "# licensed under GNU Affero General Public License v3.0\n",
    "\n",
    "# Alternatives? https://genderize.io/ -> But only first name!\n",
    "\n",
    "# Following script taken from https://github.com/namsor/namsor-python-sdk2 \"Getting Started\" \n",
    "# and adapted to keep key private and remove unnecessary lines.\n",
    "# It tests the connection to the NamSor API\n",
    "\n",
    "print(\"Setting up NamSor API v2 connection settings...\")\n",
    "\n",
    "import openapi_client\n",
    "from openapi_client.rest import ApiException\n",
    "\n",
    "# Configure API key authorization: api_key\n",
    "configuration = openapi_client.Configuration()\n",
    "configuration.api_key['X-API-KEY'] = key\n",
    "# create an instance of the API class\n",
    "pers_api_instance = openapi_client.PersonalApi(openapi_client.ApiClient(configuration))"
   ]
  },
  {
   "cell_type": "code",
   "execution_count": null,
   "metadata": {},
   "outputs": [],
   "source": [
    "# Formatting the names using the API's models\n",
    "def createPersonalNameIn(name):\n",
    "    return openapi_client.PersonalNameIn(id=name, name=name)\n",
    "\n",
    "list_of_names = list(map(createPersonalNameIn, names.index.values))"
   ]
  },
  {
   "cell_type": "code",
   "execution_count": null,
   "metadata": {},
   "outputs": [],
   "source": [
    "print(\"The formatted names look like that: {}\".format(list_of_names[:100]))\n",
    "'''\n",
    "To classify by hand: [\n",
    "{'id': '(David) Jing Dai', 'name': '(David) Jing Dai'}, \n",
    "{'id': '(Max) Zong-Ming Cheng', 'name': '(Max) Zong-Ming Cheng'}, \n",
    "{'id': '(Sophy) Shu-Jiun Chen', 'name': '(Sophy) Shu-Jiun Chen'}, \n",
    "{'id': '(Zhou) Bryan Bai', 'name': '(Zhou) Bryan Bai'}]\n",
    "'''"
   ]
  },
  {
   "cell_type": "code",
   "execution_count": null,
   "metadata": {},
   "outputs": [],
   "source": [
    "batch_personal_name_in = openapi_client.BatchPersonalNameIn(personal_names=list_of_names)"
   ]
  },
  {
   "cell_type": "code",
   "execution_count": null,
   "metadata": {},
   "outputs": [],
   "source": [
    "len(list_of_names) "
   ]
  },
  {
   "cell_type": "code",
   "execution_count": null,
   "metadata": {
    "scrolled": false
   },
   "outputs": [],
   "source": [
    "# Now testing the repeated calling of the API, cycling through a list of names, sending in\n",
    "# one batch at a time and saving the result answer by answer.\n",
    "\n",
    "batch_size = 1000 #1000 is the API limit given by NamSor\n",
    "start = 0\n",
    "end = batch_size\n",
    "result = []\n",
    "\n",
    "names_stack = list(names.index.values)\n",
    "\n",
    "list_of_names = list(map(createPersonalNameIn, names.index.values))\n",
    "\n",
    "while (len(names_stack) >= batch_size):\n",
    "    try:\n",
    "        current_batch = list(map(createPersonalNameIn, names_stack[start:end]))\n",
    "        batch_personal_name_in = openapi_client.BatchPersonalNameIn(personal_names=current_batch)\n",
    "        api_response = pers_api_instance.gender_full_batch(batch_personal_name_in=batch_personal_name_in)\n",
    "        result = result + api_response.personal_names\n",
    "        \n",
    "        del names_stack[start:end]\n",
    "        \n",
    "        # get remaining names if they are less than a batch size\n",
    "        if(len(names_stack) < batch_size and len(names_stack) > 0):\n",
    "            current_batch = list(map(createPersonalNameIn, names_stack))\n",
    "            batch_personal_name_in = openapi_client.BatchPersonalNameIn(personal_names=current_batch)\n",
    "            api_response = pers_api_instance.gender_full_batch(batch_personal_name_in=batch_personal_name_in)\n",
    "            result = result + api_response.personal_names\n",
    "            names_stack = []\n",
    "        \n",
    "        print(\"Batch of names analyzed\")\n",
    "    except ApiException as e:\n",
    "        print(\"Exception when calling PersonalApi: gender_full_batch: %s\\n\" % e)\n",
    "\n",
    "\n",
    "print(\"All batches analyzed.\")"
   ]
  },
  {
   "cell_type": "code",
   "execution_count": null,
   "metadata": {},
   "outputs": [],
   "source": [
    "# Convert results (list of openapi_client.models.personal_name_gendered_out.PersonalNameGenderedOut) to (list of dictionaries)\n",
    "\n",
    "for oapi_el in result:\n",
    "    names.at[oapi_el.name, 'likely_gender'] = oapi_el.likely_gender\n",
    "    names.at[oapi_el.name, 'score'] = oapi_el.score"
   ]
  },
  {
   "cell_type": "code",
   "execution_count": null,
   "metadata": {},
   "outputs": [],
   "source": [
    "names"
   ]
  },
  {
   "cell_type": "code",
   "execution_count": null,
   "metadata": {},
   "outputs": [],
   "source": []
  }
 ],
 "metadata": {
  "kernelspec": {
   "display_name": "Python 3",
   "language": "python",
   "name": "python3"
  },
  "language_info": {
   "codemirror_mode": {
    "name": "ipython",
    "version": 3
   },
   "file_extension": ".py",
   "mimetype": "text/x-python",
   "name": "python",
   "nbconvert_exporter": "python",
   "pygments_lexer": "ipython3",
   "version": "3.7.1"
  }
 },
 "nbformat": 4,
 "nbformat_minor": 2
}
