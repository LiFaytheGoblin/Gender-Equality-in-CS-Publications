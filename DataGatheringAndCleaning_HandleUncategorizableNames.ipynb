{
 "cells": [
  {
   "cell_type": "code",
   "execution_count": null,
   "metadata": {},
   "outputs": [],
   "source": [
    "import pandas\n",
    "\n",
    "print(\"Importing categorized names... \")\n",
    "names = pandas.read_csv(\"data/names_cat.csv\", usecols=[\"name\", \"n_publs\", \"likely_gender\", \"score\"])\n",
    "print(\"Names imported.\")"
   ]
  },
  {
   "cell_type": "code",
   "execution_count": null,
   "metadata": {},
   "outputs": [],
   "source": [
    "# Setting index & accessing cells: https://pythonhow.com/accessing-dataframe-columns-rows-and-cells/\n",
    "names = names.set_index(\"name\", drop = False)\n",
    "print(names)"
   ]
  },
  {
   "cell_type": "code",
   "execution_count": null,
   "metadata": {},
   "outputs": [],
   "source": [
    "# Go through the names and categorize all with a score of <= 2 as (likely_gender=)uncategorizable. \n",
    "# Count how many names these are\n",
    "# If it's an okay-number, also sort out all with a score of 2<score<=3\n",
    "# Will Asian names need to be handled separately, or names with one letter? Or is the score categorization sufficient?"
   ]
  },
  {
   "cell_type": "code",
   "execution_count": null,
   "metadata": {},
   "outputs": [],
   "source": [
    "names.describe()"
   ]
  },
  {
   "cell_type": "code",
   "execution_count": null,
   "metadata": {},
   "outputs": [],
   "source": [
    "# From describe we can see that at least 25% of names have a score of 2 or less. \n",
    "# At least 50% have a score of at leat 4. \n",
    "# The minimum score is 0 (as expected), the maximum score is 33. \n",
    "# the mean is almost 5 with a std of 3.5\n",
    "\n",
    "# Some more info we get from describe about the number of publications:\n",
    "# On average, a person publishes 5.7 pieces (with a std of 18!)\n",
    "# The record for most publications was set with 1694 pieces, wow!\n",
    "# At least 25% of authors published at least 1 piece,\n",
    "# At least 50% published at least 2 pieces,\n",
    "# At least 75% published at least 4 pieces."
   ]
  },
  {
   "cell_type": "code",
   "execution_count": null,
   "metadata": {},
   "outputs": [],
   "source": [
    "lower_2 = names[names['score'] <= 2]\n",
    "len(lower_2)"
   ]
  },
  {
   "cell_type": "code",
   "execution_count": null,
   "metadata": {},
   "outputs": [],
   "source": [
    "is_0 = lower_2[lower_2['score'] == 0]\n",
    "len(is_0)"
   ]
  },
  {
   "cell_type": "code",
   "execution_count": null,
   "metadata": {},
   "outputs": [],
   "source": [
    "is_1 = lower_2[lower_2['score'] == 1]\n",
    "len(is_1)"
   ]
  },
  {
   "cell_type": "code",
   "execution_count": null,
   "metadata": {},
   "outputs": [],
   "source": [
    "is_2 = lower_2[lower_2['score'] == 2]\n",
    "len(is_2)"
   ]
  },
  {
   "cell_type": "code",
   "execution_count": null,
   "metadata": {},
   "outputs": [],
   "source": [
    "# from getting all names with a score lower than or equal 2 we found out: \n",
    "# 160377 names have a score of 0\n",
    "# 233923 names have a score of 1\n",
    "# 280557 names have a score of 2\n",
    "# Overall, 674857 names have a score lower or equal 2."
   ]
  },
  {
   "cell_type": "code",
   "execution_count": null,
   "metadata": {},
   "outputs": [],
   "source": [
    "# Graph\n",
    "n_publs_by_score = names.groupby([\"score\"]).agg('sum')\n",
    "n_publs_by_score = n_publs_by_score.sort_index()"
   ]
  },
  {
   "cell_type": "code",
   "execution_count": null,
   "metadata": {},
   "outputs": [],
   "source": [
    "n_authors_by_score = names['score'].value_counts().sort_index()"
   ]
  },
  {
   "cell_type": "code",
   "execution_count": null,
   "metadata": {},
   "outputs": [],
   "source": [
    "import matplotlib.pyplot as plt\n",
    "\n",
    "names.hist()"
   ]
  },
  {
   "cell_type": "code",
   "execution_count": null,
   "metadata": {},
   "outputs": [],
   "source": [
    "plt.plot(n_publs_by_score.index.values, n_publs_by_score['n_publs'], label='Amount of publications by score')\n",
    "plt.plot(n_authors_by_score.index.values, n_authors_by_score.values, label='Amount of authors by score')\n",
    "plt.legend(loc='best')\n",
    "plt.show()"
   ]
  },
  {
   "cell_type": "code",
   "execution_count": null,
   "metadata": {},
   "outputs": [],
   "source": [
    "plt.plot(n_publs_by_score.index.values, n_publs_by_score['n_publs'], 'b_', label='Amount of publications by score')\n",
    "plt.plot(n_authors_by_score.index.values, n_authors_by_score.values, 'g_', label='Amount of authors by score')\n",
    "plt.plot([3, 3], [0, n_publs_by_score['n_publs'].max()], 'r-', lw=2, label=\"Score = 3\")\n",
    "plt.legend(loc='best')\n",
    "plt.show()"
   ]
  },
  {
   "cell_type": "code",
   "execution_count": null,
   "metadata": {},
   "outputs": [],
   "source": []
  }
 ],
 "metadata": {
  "kernelspec": {
   "display_name": "Python 3",
   "language": "python",
   "name": "python3"
  },
  "language_info": {
   "codemirror_mode": {
    "name": "ipython",
    "version": 3
   },
   "file_extension": ".py",
   "mimetype": "text/x-python",
   "name": "python",
   "nbconvert_exporter": "python",
   "pygments_lexer": "ipython3",
   "version": "3.7.3"
  }
 },
 "nbformat": 4,
 "nbformat_minor": 2
}
