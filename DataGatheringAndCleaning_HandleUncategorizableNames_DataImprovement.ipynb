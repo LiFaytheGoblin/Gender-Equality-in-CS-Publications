{
 "cells": [
  {
   "cell_type": "code",
   "execution_count": null,
   "metadata": {},
   "outputs": [],
   "source": [
    "import pandas\n",
    "\n",
    "print(\"Importing categorized names... \")\n",
    "names = pandas.read_csv(\"data/names_cat.csv\", usecols=[\"name\", \"n_publs\", \"likely_gender\", \"score\"])\n",
    "print(\"Names imported.\")"
   ]
  },
  {
   "cell_type": "code",
   "execution_count": null,
   "metadata": {},
   "outputs": [],
   "source": [
    "# Setting index & accessing cells: https://pythonhow.com/accessing-dataframe-columns-rows-and-cells/\n",
    "names = names.set_index(\"name\", drop = False)\n",
    "print(names[:10])"
   ]
  },
  {
   "cell_type": "code",
   "execution_count": null,
   "metadata": {},
   "outputs": [],
   "source": [
    "# Get first name and last name from full name with NamSor\n",
    "# Calculate the gender + score for the full name for those names with a score less than 7\n",
    "# Save the new result (gender and score) in the df\n",
    "# Compare the results. \n",
    "# To test if this makes sense: \n",
    "# Get sample of names with score less than 7\n",
    "# send to api\n",
    "# save results\n",
    "# row: gender changed?: bool\n",
    "# how much score changed?: int\n",
    "# plot"
   ]
  },
  {
   "cell_type": "code",
   "execution_count": null,
   "metadata": {},
   "outputs": [],
   "source": [
    "print(\"Getting private key... \")\n",
    "# Get private API Key for NamSor API v2 (contained in txt file)\n",
    "key = ''\n",
    "\n",
    "# Import personal key\n",
    "with open(\"key.txt\", \"r\") as file:\n",
    "    key = file.read()\n",
    "\n",
    "if(len(key) > 0):\n",
    "    print(\"Got private key.\")\n",
    "else: \n",
    "    print(\"Could not find private key. Please check the file name and make sure you have an API key.\")"
   ]
  },
  {
   "cell_type": "code",
   "execution_count": null,
   "metadata": {},
   "outputs": [],
   "source": [
    "# Setting up NamSor API v2 to get the gender of a name\n",
    "# https://www.namsor.com/\n",
    "# https://v2.namsor.com/NamSorAPIv2/apidoc.html\n",
    "# using NamSor API v2 Python SDK\n",
    "# https://github.com/namsor/namsor-python-sdk2\n",
    "# licensed under GNU Affero General Public License v3.0\n",
    "\n",
    "# Following script partly taken from https://github.com/namsor/namsor-python-sdk2 \"Getting Started\" \n",
    "# and adapted to keep key private and remove unnecessary lines.\n",
    "\n",
    "print(\"Setting up NamSor API v2 connection settings...\")\n",
    "\n",
    "import openapi_client\n",
    "from openapi_client.rest import ApiException\n",
    "\n",
    "# Configure API key authorization: api_key\n",
    "configuration = openapi_client.Configuration()\n",
    "configuration.api_key['X-API-KEY'] = key\n",
    "# create an instance of the API class\n",
    "pers_api_instance = openapi_client.PersonalApi(openapi_client.ApiClient(configuration))"
   ]
  },
  {
   "cell_type": "code",
   "execution_count": null,
   "metadata": {},
   "outputs": [],
   "source": [
    "names_to_consider = names[names['score'] <= 3].sample(1000)\n",
    "print(\"Will be parsing and reconsidering {} names.\".format(len(names_to_consider)))"
   ]
  },
  {
   "cell_type": "code",
   "execution_count": null,
   "metadata": {},
   "outputs": [],
   "source": [
    "# clean up names\n",
    "# Strip numbers from a string: https://stackoverflow.com/questions/16849109/strip-out-numbers-from-a-string\n",
    "# Remove white space at end from string: https://stackoverflow.com/questions/2372573/how-do-i-remove-whitespace-from-the-end-of-a-string-in-python\n",
    "import re\n",
    "\n",
    "def c(x):\n",
    "    return pandas.Series([x, re.sub(r'\\d+','',x).rstrip()], index=['name', 'clean_name'])\n",
    "                         \n",
    "cleaned_names = names_to_consider['name'].apply(c)\n",
    "print(cleaned_names)\n",
    "\n",
    "names_to_consider = names_to_consider.set_index('name').join(cleaned_names.set_index('name'), how='left', on='name')"
   ]
  },
  {
   "cell_type": "code",
   "execution_count": null,
   "metadata": {},
   "outputs": [],
   "source": [
    "# Formatting the names using the API's models\n",
    "def createPersonalNameIn(name):\n",
    "    return openapi_client.PersonalNameIn(id=name, name=name)\n",
    "\n",
    "list_of_names = list(map(createPersonalNameIn, names_to_consider['clean_name']))"
   ]
  },
  {
   "cell_type": "code",
   "execution_count": null,
   "metadata": {},
   "outputs": [],
   "source": [
    "print(\"The formatted names look like that: {}\".format(list_of_names[:10]))"
   ]
  },
  {
   "cell_type": "code",
   "execution_count": null,
   "metadata": {},
   "outputs": [],
   "source": [
    "# Now parsing the full names into first and last name, sending in\n",
    "# one batch at a time and saving the result answer by answer.\n",
    "# If the API calling gets interrupted:\n",
    "# 1. check that no names got lost: ((len(names_to_consider)-len(result)) == len(names_stack))\n",
    "# 2. If True: Restart only the code in the while loop.\n",
    "\n",
    "batch_size = 1000 #1000 is the API limit given by NamSor\n",
    "start = 0\n",
    "end = batch_size\n",
    "result = []\n",
    "\n",
    "names_stack = list(names_to_consider['clean_name'])\n",
    "\n",
    "while (len(names_stack) >= batch_size):\n",
    "    try:\n",
    "        current_batch = list(map(createPersonalNameIn, names_stack[start:end])) # create batch of names in correct format\n",
    "        batch_personal_name_in = openapi_client.BatchPersonalNameIn(personal_names=current_batch) # convert batch to correct format\n",
    "        api_response = pers_api_instance.parse_name_batch(batch_personal_name_in=batch_personal_name_in) # call API\n",
    "        result = result + api_response.personal_names # save result\n",
    "        \n",
    "        del names_stack[start:end] # delete the names that have already been categorized from the stack\n",
    "        \n",
    "        # categorize remaining names if they are less than a batch size\n",
    "        if(len(names_stack) < batch_size and len(names_stack) > 0):\n",
    "            current_batch = list(map(createPersonalNameIn, names_stack)) # create the batch of remaining names\n",
    "            batch_personal_name_in = openapi_client.BatchPersonalNameIn(personal_names=current_batch)\n",
    "            api_response = pers_api_instance.parse_name_batch(batch_personal_name_in=batch_personal_name_in)\n",
    "            result = result + api_response.personal_names\n",
    "            names_stack = [] # empty the stack\n",
    "        \n",
    "        print(\"Batch of names analyzed\")\n",
    "    except ApiException as e:\n",
    "        print(\"Exception when calling PersonalApi: gender_full_batch: %s\\n\" % e)\n",
    "\n",
    "\n",
    "print(\"All batches analyzed.\")"
   ]
  },
  {
   "cell_type": "code",
   "execution_count": null,
   "metadata": {
    "scrolled": true
   },
   "outputs": [],
   "source": [
    "# Convert results (list of openapi_client.models.PersonalNameParsedOut) to (list of dictionaries)\n",
    "print('Filling the results into the names dataframe...')\n",
    "for oapi_el in result:\n",
    "    name = oapi_el.first_last_name\n",
    "    try:\n",
    "        names_to_consider.at[oapi_el.name, 'first_name'] = name.first_name\n",
    "        names_to_consider.at[oapi_el.name, 'last_name'] = name.last_name\n",
    "    except:\n",
    "        names_to_consider.at[oapi_el.name, 'first_name'] = None\n",
    "        names_to_consider.at[oapi_el.name, 'last_name'] = None\n",
    "        print(name)\n",
    "        print(oapi_el)\n",
    "    \n",
    "print('Dataframe completed with API results. Here is a sample: {}'.format(names_to_consider))"
   ]
  },
  {
   "cell_type": "code",
   "execution_count": null,
   "metadata": {},
   "outputs": [],
   "source": [
    "names_to_consider[names_to_consider['name']=='Taehee Lee 0002']"
   ]
  },
  {
   "cell_type": "code",
   "execution_count": null,
   "metadata": {},
   "outputs": [],
   "source": [
    "# Convert results (list of openapi_client.models.personal_name_gendered_out.PersonalNameGenderedOut) to (list of dictionaries)\n",
    "print('Filling the results into the names dataframe...')\n",
    "for oapi_el in result:\n",
    "    names.at[oapi_el.name, 'likely_gender'] = oapi_el.likely_gender\n",
    "    names.at[oapi_el.name, 'score'] = oapi_el.score\n",
    "print('Dataframe completed with API results. Here is a sample: {}'.format(names[:50]))"
   ]
  }
 ],
 "metadata": {
  "kernelspec": {
   "display_name": "Python 3",
   "language": "python",
   "name": "python3"
  },
  "language_info": {
   "codemirror_mode": {
    "name": "ipython",
    "version": 3
   },
   "file_extension": ".py",
   "mimetype": "text/x-python",
   "name": "python",
   "nbconvert_exporter": "python",
   "pygments_lexer": "ipython3",
   "version": "3.7.3"
  }
 },
 "nbformat": 4,
 "nbformat_minor": 2
}
