{
 "cells": [
  {
   "cell_type": "code",
   "execution_count": 1,
   "metadata": {},
   "outputs": [
    {
     "name": "stdout",
     "output_type": "stream",
     "text": [
      "Importing categorized names... \n",
      "Names imported.\n"
     ]
    }
   ],
   "source": [
    "import pandas\n",
    "\n",
    "print(\"Importing categorized names... \")\n",
    "names = pandas.read_csv(\"data/names_cat.csv\", usecols=[\"name\", \"n_publs\", \"likely_gender\", \"score\"])\n",
    "print(\"Names imported.\")"
   ]
  },
  {
   "cell_type": "code",
   "execution_count": 2,
   "metadata": {},
   "outputs": [
    {
     "name": "stdout",
     "output_type": "stream",
     "text": [
      "                                        name  n_publs likely_gender  score\n",
      "name                                                                      \n",
      "'Maseka Lesaoana            'Maseka Lesaoana        2        female      8\n",
      "(David) Jing Dai            (David) Jing Dai        1          male      7\n",
      "(Max) Zong-Ming Cheng  (Max) Zong-Ming Cheng        2          male      2\n",
      "(Sophy) Shu-Jiun Chen  (Sophy) Shu-Jiun Chen        2        female      7\n",
      "(Zhou) Bryan Bai            (Zhou) Bryan Bai        2          male      6\n",
      "A Clara Kanmani              A Clara Kanmani        1        female      4\n",
      "A Lun                                  A Lun        1          male      1\n",
      "A Min Tjoa                        A Min Tjoa      211          male      2\n",
      "A S Akshaya                      A S Akshaya        1          male      2\n",
      "A'ang Subiyakto              A'ang Subiyakto        2        female      0\n"
     ]
    }
   ],
   "source": [
    "# Setting index & accessing cells: https://pythonhow.com/accessing-dataframe-columns-rows-and-cells/\n",
    "names = names.set_index(\"name\", drop = False)\n",
    "print(names[:10])"
   ]
  },
  {
   "cell_type": "code",
   "execution_count": null,
   "metadata": {},
   "outputs": [],
   "source": [
    "# Get first name and last name from full name with NamSor\n",
    "# Calculate the gender + score for the full name for those names with a score less than 7\n",
    "# Save the new result (gender and score) in the df\n",
    "# Compare the results. \n",
    "# To test if this makes sense: \n",
    "# Get sample of names with score less than 7\n",
    "# send to api\n",
    "# save results\n",
    "# row: gender changed?: bool\n",
    "# how much score changed?: int\n",
    "# plot"
   ]
  },
  {
   "cell_type": "code",
   "execution_count": 3,
   "metadata": {},
   "outputs": [
    {
     "name": "stdout",
     "output_type": "stream",
     "text": [
      "Getting private key... \n",
      "Got private key.\n"
     ]
    }
   ],
   "source": [
    "print(\"Getting private key... \")\n",
    "# Get private API Key for NamSor API v2 (contained in txt file)\n",
    "key = ''\n",
    "\n",
    "# Import personal key\n",
    "with open(\"key.txt\", \"r\") as file:\n",
    "    key = file.read()\n",
    "\n",
    "if(len(key) > 0):\n",
    "    print(\"Got private key.\")\n",
    "else: \n",
    "    print(\"Could not find private key. Please check the file name and make sure you have an API key.\")"
   ]
  },
  {
   "cell_type": "code",
   "execution_count": 4,
   "metadata": {},
   "outputs": [
    {
     "name": "stdout",
     "output_type": "stream",
     "text": [
      "Setting up NamSor API v2 connection settings...\n"
     ]
    }
   ],
   "source": [
    "# Setting up NamSor API v2 to get the gender of a name\n",
    "# https://www.namsor.com/\n",
    "# https://v2.namsor.com/NamSorAPIv2/apidoc.html\n",
    "# using NamSor API v2 Python SDK\n",
    "# https://github.com/namsor/namsor-python-sdk2\n",
    "# licensed under GNU Affero General Public License v3.0\n",
    "\n",
    "# Following script partly taken from https://github.com/namsor/namsor-python-sdk2 \"Getting Started\" \n",
    "# and adapted to keep key private and remove unnecessary lines.\n",
    "\n",
    "print(\"Setting up NamSor API v2 connection settings...\")\n",
    "\n",
    "import openapi_client\n",
    "from openapi_client.rest import ApiException\n",
    "\n",
    "# Configure API key authorization: api_key\n",
    "configuration = openapi_client.Configuration()\n",
    "configuration.api_key['X-API-KEY'] = key\n",
    "# create an instance of the API class\n",
    "pers_api_instance = openapi_client.PersonalApi(openapi_client.ApiClient(configuration))"
   ]
  },
  {
   "cell_type": "code",
   "execution_count": 5,
   "metadata": {},
   "outputs": [
    {
     "name": "stdout",
     "output_type": "stream",
     "text": [
      "Will be parsing and reconsidering 1000 names.\n"
     ]
    }
   ],
   "source": [
    "names_to_consider = names[names['score'] <= 3].sample(1000)\n",
    "print(\"Will be parsing and reconsidering {} names.\".format(len(names_to_consider)))"
   ]
  },
  {
   "cell_type": "code",
   "execution_count": 6,
   "metadata": {},
   "outputs": [],
   "source": [
    "# clean up names\n",
    "# Strip numbers from a string: https://stackoverflow.com/questions/16849109/strip-out-numbers-from-a-string\n",
    "# Remove white space at end from string: https://stackoverflow.com/questions/2372573/how-do-i-remove-whitespace-from-the-end-of-a-string-in-python\n",
    "import re\n",
    "\n",
    "def clean(x):\n",
    "    return pandas.Series([x, re.sub(r'\\d+','',x).rstrip()], index=['name', 'clean_name'])\n",
    "                         \n",
    "cleaned_names = names_to_consider['name'].apply(clean)\n",
    "cleaned_names = cleaned_names.set_index('name')\n",
    "\n",
    "names_to_consider=names_to_consider.merge(cleaned_names, how='left', left_index=True, right_index=True)"
   ]
  },
  {
   "cell_type": "code",
   "execution_count": 7,
   "metadata": {},
   "outputs": [
    {
     "data": {
      "text/html": [
       "<div>\n",
       "<style scoped>\n",
       "    .dataframe tbody tr th:only-of-type {\n",
       "        vertical-align: middle;\n",
       "    }\n",
       "\n",
       "    .dataframe tbody tr th {\n",
       "        vertical-align: top;\n",
       "    }\n",
       "\n",
       "    .dataframe thead th {\n",
       "        text-align: right;\n",
       "    }\n",
       "</style>\n",
       "<table border=\"1\" class=\"dataframe\">\n",
       "  <thead>\n",
       "    <tr style=\"text-align: right;\">\n",
       "      <th></th>\n",
       "      <th>name</th>\n",
       "      <th>n_publs</th>\n",
       "      <th>likely_gender</th>\n",
       "      <th>score</th>\n",
       "      <th>clean_name</th>\n",
       "    </tr>\n",
       "    <tr>\n",
       "      <th>name</th>\n",
       "      <th></th>\n",
       "      <th></th>\n",
       "      <th></th>\n",
       "      <th></th>\n",
       "      <th></th>\n",
       "    </tr>\n",
       "  </thead>\n",
       "  <tbody>\n",
       "    <tr>\n",
       "      <th>Masayoshi Takeuchi</th>\n",
       "      <td>Masayoshi Takeuchi</td>\n",
       "      <td>1</td>\n",
       "      <td>male</td>\n",
       "      <td>3</td>\n",
       "      <td>Masayoshi Takeuchi</td>\n",
       "    </tr>\n",
       "    <tr>\n",
       "      <th>Natsuko Miki</th>\n",
       "      <td>Natsuko Miki</td>\n",
       "      <td>1</td>\n",
       "      <td>female</td>\n",
       "      <td>2</td>\n",
       "      <td>Natsuko Miki</td>\n",
       "    </tr>\n",
       "    <tr>\n",
       "      <th>Cheol-seung Lee</th>\n",
       "      <td>Cheol-seung Lee</td>\n",
       "      <td>1</td>\n",
       "      <td>male</td>\n",
       "      <td>2</td>\n",
       "      <td>Cheol-seung Lee</td>\n",
       "    </tr>\n",
       "    <tr>\n",
       "      <th>Aphra Shemza</th>\n",
       "      <td>Aphra Shemza</td>\n",
       "      <td>3</td>\n",
       "      <td>female</td>\n",
       "      <td>1</td>\n",
       "      <td>Aphra Shemza</td>\n",
       "    </tr>\n",
       "    <tr>\n",
       "      <th>Rui Belfort</th>\n",
       "      <td>Rui Belfort</td>\n",
       "      <td>1</td>\n",
       "      <td>male</td>\n",
       "      <td>3</td>\n",
       "      <td>Rui Belfort</td>\n",
       "    </tr>\n",
       "    <tr>\n",
       "      <th>Motti Neiger</th>\n",
       "      <td>Motti Neiger</td>\n",
       "      <td>1</td>\n",
       "      <td>male</td>\n",
       "      <td>2</td>\n",
       "      <td>Motti Neiger</td>\n",
       "    </tr>\n",
       "    <tr>\n",
       "      <th>Baozhu Zhao</th>\n",
       "      <td>Baozhu Zhao</td>\n",
       "      <td>2</td>\n",
       "      <td>male</td>\n",
       "      <td>2</td>\n",
       "      <td>Baozhu Zhao</td>\n",
       "    </tr>\n",
       "    <tr>\n",
       "      <th>Zhao-ling Tao</th>\n",
       "      <td>Zhao-ling Tao</td>\n",
       "      <td>1</td>\n",
       "      <td>male</td>\n",
       "      <td>2</td>\n",
       "      <td>Zhao-ling Tao</td>\n",
       "    </tr>\n",
       "    <tr>\n",
       "      <th>Zhenbo Wang</th>\n",
       "      <td>Zhenbo Wang</td>\n",
       "      <td>31</td>\n",
       "      <td>male</td>\n",
       "      <td>3</td>\n",
       "      <td>Zhenbo Wang</td>\n",
       "    </tr>\n",
       "    <tr>\n",
       "      <th>Angeliki M. Sarafi</th>\n",
       "      <td>Angeliki M. Sarafi</td>\n",
       "      <td>1</td>\n",
       "      <td>female</td>\n",
       "      <td>1</td>\n",
       "      <td>Angeliki M. Sarafi</td>\n",
       "    </tr>\n",
       "  </tbody>\n",
       "</table>\n",
       "</div>"
      ],
      "text/plain": [
       "                                  name  n_publs likely_gender  score  \\\n",
       "name                                                                   \n",
       "Masayoshi Takeuchi  Masayoshi Takeuchi        1          male      3   \n",
       "Natsuko Miki              Natsuko Miki        1        female      2   \n",
       "Cheol-seung Lee        Cheol-seung Lee        1          male      2   \n",
       "Aphra Shemza              Aphra Shemza        3        female      1   \n",
       "Rui Belfort                Rui Belfort        1          male      3   \n",
       "Motti Neiger              Motti Neiger        1          male      2   \n",
       "Baozhu Zhao                Baozhu Zhao        2          male      2   \n",
       "Zhao-ling Tao            Zhao-ling Tao        1          male      2   \n",
       "Zhenbo Wang                Zhenbo Wang       31          male      3   \n",
       "Angeliki M. Sarafi  Angeliki M. Sarafi        1        female      1   \n",
       "\n",
       "                            clean_name  \n",
       "name                                    \n",
       "Masayoshi Takeuchi  Masayoshi Takeuchi  \n",
       "Natsuko Miki              Natsuko Miki  \n",
       "Cheol-seung Lee        Cheol-seung Lee  \n",
       "Aphra Shemza              Aphra Shemza  \n",
       "Rui Belfort                Rui Belfort  \n",
       "Motti Neiger              Motti Neiger  \n",
       "Baozhu Zhao                Baozhu Zhao  \n",
       "Zhao-ling Tao            Zhao-ling Tao  \n",
       "Zhenbo Wang                Zhenbo Wang  \n",
       "Angeliki M. Sarafi  Angeliki M. Sarafi  "
      ]
     },
     "execution_count": 7,
     "metadata": {},
     "output_type": "execute_result"
    }
   ],
   "source": [
    "names_to_consider[:10]"
   ]
  },
  {
   "cell_type": "code",
   "execution_count": 15,
   "metadata": {},
   "outputs": [],
   "source": [
    "# Formatting the names using the API's models\n",
    "def createPersonalNameIn(name_entry):\n",
    "    return openapi_client.PersonalNameIn(id=name_entry['name'], name=name_entry['clean_name'])"
   ]
  },
  {
   "cell_type": "code",
   "execution_count": 67,
   "metadata": {},
   "outputs": [
    {
     "name": "stdout",
     "output_type": "stream",
     "text": [
      "[{'name': 'Masayoshi Takeuchi', 'clean_name': 'Masayoshi Takeuchi'}, {'name': 'Natsuko Miki', 'clean_name': 'Natsuko Miki'}, {'name': 'Cheol-seung Lee', 'clean_name': 'Cheol-seung Lee'}, {'name': 'Aphra Shemza', 'clean_name': 'Aphra Shemza'}, {'name': 'Rui Belfort', 'clean_name': 'Rui Belfort'}, {'name': 'Motti Neiger', 'clean_name': 'Motti Neiger'}, {'name': 'Baozhu Zhao', 'clean_name': 'Baozhu Zhao'}, {'name': 'Zhao-ling Tao', 'clean_name': 'Zhao-ling Tao'}, {'name': 'Zhenbo Wang', 'clean_name': 'Zhenbo Wang'}, {'name': 'Angeliki M. Sarafi', 'clean_name': 'Angeliki M. Sarafi'}]\n"
     ]
    }
   ],
   "source": [
    "# Now parsing the full names into first and last name, sending in\n",
    "# one batch at a time and saving the result answer by answer.\n",
    "# If the API calling gets interrupted:\n",
    "# 1. check that no names got lost: ((len(names_to_consider)-len(result)) == len(names_stack))\n",
    "# 2. If True: Restart only the code in the while loop.\n",
    "\n",
    "batch_size = 1000 #1000 is the API limit given by NamSor\n",
    "start = 0\n",
    "end = batch_size\n",
    "result = []\n",
    "\n",
    "names_stack = names_to_consider[['name', 'clean_name']].to_dict('records')\n",
    "\n",
    "print(names_stack[:10])"
   ]
  },
  {
   "cell_type": "code",
   "execution_count": 68,
   "metadata": {},
   "outputs": [
    {
     "name": "stdout",
     "output_type": "stream",
     "text": [
      "Batch of names analyzed\n",
      "All batches analyzed.\n"
     ]
    }
   ],
   "source": [
    "while (len(names_stack) >= batch_size):\n",
    "    try:\n",
    "        current_batch = list(map(createPersonalNameIn, names_stack[start:end])) # create batch of names in correct format\n",
    "        batch_personal_name_in = openapi_client.BatchPersonalNameIn(personal_names=current_batch) # convert batch to correct format\n",
    "        api_response = pers_api_instance.parse_name_batch(batch_personal_name_in=batch_personal_name_in) # call API\n",
    "        result = result + api_response.personal_names # save result\n",
    "        \n",
    "        del names_stack[start:end] # delete the names that have already been categorized from the stack\n",
    "        \n",
    "        # categorize remaining names if they are less than a batch size\n",
    "        if(len(names_stack) < batch_size and len(names_stack) > 0):\n",
    "            current_batch = list(map(createPersonalNameIn, names_stack)) # create the batch of remaining names\n",
    "            batch_personal_name_in = openapi_client.BatchPersonalNameIn(personal_names=current_batch)\n",
    "            api_response = pers_api_instance.parse_name_batch(batch_personal_name_in=batch_personal_name_in)\n",
    "            result = result + api_response.personal_names\n",
    "            names_stack = [] # empty the stack\n",
    "        \n",
    "        print(\"Batch of names analyzed\")\n",
    "    except ApiException as e:\n",
    "        print(\"Exception when calling PersonalApi: gender_full_batch: %s\\n\" % e)\n",
    "\n",
    "\n",
    "print(\"All batches analyzed.\")"
   ]
  },
  {
   "cell_type": "code",
   "execution_count": 69,
   "metadata": {
    "scrolled": true
   },
   "outputs": [
    {
     "name": "stdout",
     "output_type": "stream",
     "text": [
      "Filling the results into the names dataframe...\n",
      "Dataframe completed with API results. Here is a sample:                                   name  n_publs likely_gender  score  \\\n",
      "name                                                                   \n",
      "Masayoshi Takeuchi  Masayoshi Takeuchi        1          male      3   \n",
      "Natsuko Miki              Natsuko Miki        1        female      2   \n",
      "Cheol-seung Lee        Cheol-seung Lee        1          male      2   \n",
      "Aphra Shemza              Aphra Shemza        3        female      1   \n",
      "Rui Belfort                Rui Belfort        1          male      3   \n",
      "Motti Neiger              Motti Neiger        1          male      2   \n",
      "Baozhu Zhao                Baozhu Zhao        2          male      2   \n",
      "Zhao-ling Tao            Zhao-ling Tao        1          male      2   \n",
      "Zhenbo Wang                Zhenbo Wang       31          male      3   \n",
      "Angeliki M. Sarafi  Angeliki M. Sarafi        1        female      1   \n",
      "\n",
      "                            clean_name   first_name last_name  \n",
      "name                                                           \n",
      "Masayoshi Takeuchi  Masayoshi Takeuchi    Masayoshi  Takeuchi  \n",
      "Natsuko Miki              Natsuko Miki      Natsuko      Miki  \n",
      "Cheol-seung Lee        Cheol-seung Lee  Cheol-seung       Lee  \n",
      "Aphra Shemza              Aphra Shemza        Aphra    Shemza  \n",
      "Rui Belfort                Rui Belfort          Rui   Belfort  \n",
      "Motti Neiger              Motti Neiger        Motti    Neiger  \n",
      "Baozhu Zhao                Baozhu Zhao       Baozhu      Zhao  \n",
      "Zhao-ling Tao            Zhao-ling Tao    Zhao-ling       Tao  \n",
      "Zhenbo Wang                Zhenbo Wang       Zhenbo      Wang  \n",
      "Angeliki M. Sarafi  Angeliki M. Sarafi  Angeliki M.    Sarafi  \n"
     ]
    }
   ],
   "source": [
    "# Convert results (list of openapi_client.models.PersonalNameParsedOut) to (list of dictionaries)\n",
    "print('Filling the results into the names dataframe...')\n",
    "for oapi_el in result:\n",
    "    name = oapi_el.first_last_name\n",
    "    try:\n",
    "        names_to_consider.at[oapi_el.id, 'first_name'] = name.first_name\n",
    "        names_to_consider.at[oapi_el.id, 'last_name'] = name.last_name\n",
    "    except:\n",
    "        names_to_consider.at[oapi_el.id, 'first_name'] = None\n",
    "        names_to_consider.at[oapi_el.id, 'last_name'] = None\n",
    "    \n",
    "print('Dataframe completed with API results. Here is a sample: {}'.format(names_to_consider[:10]))"
   ]
  },
  {
   "cell_type": "code",
   "execution_count": 70,
   "metadata": {},
   "outputs": [
    {
     "name": "stdout",
     "output_type": "stream",
     "text": [
      "Saving test names...\n",
      "Test names saved!\n"
     ]
    }
   ],
   "source": [
    "print(\"Saving test names...\")\n",
    "names_to_consider.to_csv(\"data/names_improvement_test.csv\")\n",
    "print(\"Test names saved!\")"
   ]
  },
  {
   "cell_type": "code",
   "execution_count": 113,
   "metadata": {},
   "outputs": [],
   "source": [
    "# Formatting the names using the API's models\n",
    "import math\n",
    "\n",
    "def createParsedPersonalNameIn(names_entry):\n",
    "    if(names_entry['first_name'] is None or names_entry['last_name'] is None):\n",
    "        return None\n",
    "    return openapi_client.FirstLastNameIn(id=names_entry['name'], first_name=names_entry['first_name'], last_name=names_entry['last_name'])"
   ]
  },
  {
   "cell_type": "code",
   "execution_count": 120,
   "metadata": {},
   "outputs": [],
   "source": [
    "# Now parsing the full names into first and last name, sending in\n",
    "# one batch at a time and saving the result answer by answer.\n",
    "# If the API calling gets interrupted:\n",
    "# 1. check that no names got lost: ((len(names_to_consider)-len(result)) == len(names_stack))\n",
    "# 2. If True: Restart only the code in the while loop.\n",
    "\n",
    "batch_size = 1000 #1000 is the API limit given by NamSor\n",
    "start = 0\n",
    "end = batch_size\n",
    "result = []\n",
    "\n",
    "names_stack = list(names_to_consider[['name', 'first_name', 'last_name']].to_dict('records'))\n",
    "names_stack = list(filter(lambda x: x['first_name'] is not None and x['last_name'] is not None, names_stack))"
   ]
  },
  {
   "cell_type": "code",
   "execution_count": 136,
   "metadata": {},
   "outputs": [
    {
     "name": "stdout",
     "output_type": "stream",
     "text": [
      "Batch of names analyzed\n",
      "All batches analyzed.\n"
     ]
    }
   ],
   "source": [
    "while (len(names_stack) >= batch_size):\n",
    "    try:\n",
    "        current_batch = list(map(createParsedPersonalNameIn, names_stack[start:end])) # create batch of names in correct format\n",
    "        batch_first_last_name_in = openapi_client.BatchFirstLastNameIn(personal_names=current_batch) # convert batch to correct format\n",
    "        api_response = pers_api_instance.gender_batch(batch_first_last_name_in=batch_first_last_name_in) # call API\n",
    "        result = result + api_response.personal_names # save result\n",
    "        \n",
    "        del names_stack[start:end] # delete the names that have already been categorized from the stack\n",
    "        \n",
    "        # categorize remaining names if they are less than a batch size\n",
    "        if(len(names_stack) < batch_size and len(names_stack) > 0):\n",
    "            current_batch = list(map(createParsedPersonalNameIn, names_stack)) # create the batch of remaining names\n",
    "            batch_first_last_name_in = openapi_client.BatchFirstLastNameIn(personal_names=current_batch)\n",
    "            api_response = pers_api_instance.gender_batch(batch_first_last_name_in=batch_first_last_name_in)\n",
    "            result = result + api_response.personal_names\n",
    "            names_stack = [] # empty the stack\n",
    "        \n",
    "        print(\"Batch of names analyzed\")\n",
    "    except ApiException as e:\n",
    "        print(\"Exception when calling PersonalApi: gender_full_batch: %s\\n\" % e)\n",
    "\n",
    "if(len(names_stack) != 0):\n",
    "    try:\n",
    "        current_batch = list(map(createParsedPersonalNameIn, names_stack)) # create the batch of remaining names\n",
    "        batch_first_last_name_in = openapi_client.BatchFirstLastNameIn(personal_names=current_batch)\n",
    "        api_response = pers_api_instance.gender_batch(batch_first_last_name_in=batch_first_last_name_in)\n",
    "        result = result + api_response.personal_names\n",
    "        names_stack = [] # empty the stack\n",
    "        \n",
    "        print(\"Batch of names analyzed\")\n",
    "    except ApiException as e:\n",
    "        print(\"Exception when calling PersonalApi: gender_full_batch: %s\\n\" % e)\n",
    "\n",
    "print(\"All batches analyzed. Returned {} results.\".format(len(results)))"
   ]
  },
  {
   "cell_type": "code",
   "execution_count": 138,
   "metadata": {},
   "outputs": [
    {
     "name": "stdout",
     "output_type": "stream",
     "text": [
      "Filling the results into the names dataframe...\n",
      "Dataframe completed with API results. Here is a sample:                                             name  n_publs likely_gender  \\\n",
      "name                                                                      \n",
      "Masayoshi Takeuchi            Masayoshi Takeuchi        1          male   \n",
      "Natsuko Miki                        Natsuko Miki        1        female   \n",
      "Cheol-seung Lee                  Cheol-seung Lee        1          male   \n",
      "Aphra Shemza                        Aphra Shemza        3        female   \n",
      "Rui Belfort                          Rui Belfort        1          male   \n",
      "Motti Neiger                        Motti Neiger        1          male   \n",
      "Baozhu Zhao                          Baozhu Zhao        2          male   \n",
      "Zhao-ling Tao                      Zhao-ling Tao        1          male   \n",
      "Zhenbo Wang                          Zhenbo Wang       31          male   \n",
      "Angeliki M. Sarafi            Angeliki M. Sarafi        1        female   \n",
      "Anis Boubaker                      Anis Boubaker       17          male   \n",
      "A. Pron                                  A. Pron        1          male   \n",
      "E. Behl                                  E. Behl        1          male   \n",
      "Zheng Hu                                Zheng Hu       64          male   \n",
      "Jin Ree Lee                          Jin Ree Lee        3          male   \n",
      "Meeyoung Park                      Meeyoung Park        5        female   \n",
      "Kali C. Lewis                      Kali C. Lewis        1          male   \n",
      "Bao-Lin Wei                          Bao-Lin Wei        2          male   \n",
      "Rasha Sheikh                        Rasha Sheikh        4        female   \n",
      "Luan T. Hoang                      Luan T. Hoang        2          male   \n",
      "Masato Kanematsu                Masato Kanematsu        2          male   \n",
      "H.-J. Brambs                        H.-J. Brambs        2          male   \n",
      "H. Kurz                                  H. Kurz        7          male   \n",
      "Changfeng Zhou                    Changfeng Zhou        5          male   \n",
      "D. J. Out                              D. J. Out        2          male   \n",
      "Changseob Keum                    Changseob Keum        1          male   \n",
      "Wan-Du Tsai                          Wan-Du Tsai        3          male   \n",
      "Allison W. Harrison          Allison W. Harrison        2          male   \n",
      "Qing-Xing Qu                        Qing-Xing Qu        5          male   \n",
      "Yingchun Cao                        Yingchun Cao        2          male   \n",
      "Chengchun Shi                      Chengchun Shi        1          male   \n",
      "S. David                                S. David        2          male   \n",
      "S. Guerrieri                        S. Guerrieri        1          male   \n",
      "Nicole Manson                      Nicole Manson        1        female   \n",
      "D. J. Cassel                        D. J. Cassel        1          male   \n",
      "Mi-Young Lee                        Mi-Young Lee       10        female   \n",
      "Jian-Mei Xiao                      Jian-Mei Xiao        2          male   \n",
      "Dongming Gan                        Dongming Gan       12          male   \n",
      "Christine Ebner                  Christine Ebner        1        female   \n",
      "J. Cembrero                          J. Cembrero        1          male   \n",
      "Chai-Wei Chou                      Chai-Wei Chou        1          male   \n",
      "A. Sprief                              A. Sprief        1          male   \n",
      "Kuberan Pushparajah          Kuberan Pushparajah        6          male   \n",
      "P. Christopher Gloumeau  P. Christopher Gloumeau        1          male   \n",
      "S. Ventre                              S. Ventre        1          male   \n",
      "Nehal. A. Ranabhatt          Nehal. A. Ranabhatt        1          male   \n",
      "Yunxia Chen                          Yunxia Chen       29          male   \n",
      "Mitsunori Ueda                    Mitsunori Ueda        1          male   \n",
      "Rasha Massoud                      Rasha Massoud        3        female   \n",
      "T. J. Lukas                          T. J. Lukas        1          male   \n",
      "\n",
      "                         score               clean_name      first_name  \\\n",
      "name                                                                      \n",
      "Masayoshi Takeuchi           3       Masayoshi Takeuchi       Masayoshi   \n",
      "Natsuko Miki                 2             Natsuko Miki         Natsuko   \n",
      "Cheol-seung Lee              2          Cheol-seung Lee     Cheol-seung   \n",
      "Aphra Shemza                 1             Aphra Shemza           Aphra   \n",
      "Rui Belfort                  3              Rui Belfort             Rui   \n",
      "Motti Neiger                 2             Motti Neiger           Motti   \n",
      "Baozhu Zhao                  2              Baozhu Zhao          Baozhu   \n",
      "Zhao-ling Tao                2            Zhao-ling Tao       Zhao-ling   \n",
      "Zhenbo Wang                  3              Zhenbo Wang          Zhenbo   \n",
      "Angeliki M. Sarafi           1       Angeliki M. Sarafi     Angeliki M.   \n",
      "Anis Boubaker                2            Anis Boubaker            Anis   \n",
      "A. Pron                      0                  A. Pron              A.   \n",
      "E. Behl                      0                  E. Behl              E.   \n",
      "Zheng Hu                     3                 Zheng Hu           Zheng   \n",
      "Jin Ree Lee                  0              Jin Ree Lee         Jin Ree   \n",
      "Meeyoung Park                0            Meeyoung Park        Meeyoung   \n",
      "Kali C. Lewis                1            Kali C. Lewis         Kali C.   \n",
      "Bao-Lin Wei                  1              Bao-Lin Wei         Bao-Lin   \n",
      "Rasha Sheikh                 1             Rasha Sheikh           Rasha   \n",
      "Luan T. Hoang                3            Luan T. Hoang         Luan T.   \n",
      "Masato Kanematsu             3         Masato Kanematsu          Masato   \n",
      "H.-J. Brambs                 2             H.-J. Brambs           H.-J.   \n",
      "H. Kurz                      3                  H. Kurz              H.   \n",
      "Changfeng Zhou               2           Changfeng Zhou       Changfeng   \n",
      "D. J. Out                    2                D. J. Out           D. J.   \n",
      "Changseob Keum               1           Changseob Keum       Changseob   \n",
      "Wan-Du Tsai                  2              Wan-Du Tsai          Wan-Du   \n",
      "Allison W. Harrison          0      Allison W. Harrison      Allison W.   \n",
      "Qing-Xing Qu                 3             Qing-Xing Qu       Qing-Xing   \n",
      "Yingchun Cao                 2             Yingchun Cao        Yingchun   \n",
      "Chengchun Shi                3            Chengchun Shi       Chengchun   \n",
      "S. David                     2                 S. David           David   \n",
      "S. Guerrieri                 2             S. Guerrieri              S.   \n",
      "Nicole Manson                3            Nicole Manson          Nicole   \n",
      "D. J. Cassel                 3             D. J. Cassel           D. J.   \n",
      "Mi-Young Lee                 0             Mi-Young Lee        Mi-Young   \n",
      "Jian-Mei Xiao                3            Jian-Mei Xiao        Jian-Mei   \n",
      "Dongming Gan                 3             Dongming Gan        Dongming   \n",
      "Christine Ebner              1          Christine Ebner       Christine   \n",
      "J. Cembrero                  1              J. Cembrero              J.   \n",
      "Chai-Wei Chou                2            Chai-Wei Chou        Chai-Wei   \n",
      "A. Sprief                    2                A. Sprief              A.   \n",
      "Kuberan Pushparajah          2      Kuberan Pushparajah     Pushparajah   \n",
      "P. Christopher Gloumeau      3  P. Christopher Gloumeau  P. Christopher   \n",
      "S. Ventre                    1                S. Ventre              S.   \n",
      "Nehal. A. Ranabhatt          1      Nehal. A. Ranabhatt       Nehal. A.   \n",
      "Yunxia Chen                  0              Yunxia Chen          Yunxia   \n",
      "Mitsunori Ueda               3           Mitsunori Ueda       Mitsunori   \n",
      "Rasha Massoud                1            Rasha Massoud           Rasha   \n",
      "T. J. Lukas                  2              T. J. Lukas           T. J.   \n",
      "\n",
      "                         last_name likely_gender_2  score_2 gender_dif  \\\n",
      "name                                                                     \n",
      "Masayoshi Takeuchi        Takeuchi            male      3.0      False   \n",
      "Natsuko Miki                  Miki          female      3.0      False   \n",
      "Cheol-seung Lee                Lee            male      1.0      False   \n",
      "Aphra Shemza                Shemza          female      2.0      False   \n",
      "Rui Belfort                Belfort            male      3.0      False   \n",
      "Motti Neiger                Neiger            male      1.0      False   \n",
      "Baozhu Zhao                   Zhao            male      0.0      False   \n",
      "Zhao-ling Tao                  Tao            male      1.0      False   \n",
      "Zhenbo Wang                   Wang            male      4.0      False   \n",
      "Angeliki M. Sarafi          Sarafi          female      1.0      False   \n",
      "Anis Boubaker             Boubaker            male      3.0      False   \n",
      "A. Pron                       Pron            male      1.0      False   \n",
      "E. Behl                       Behl          female      0.0       True   \n",
      "Zheng Hu                        Hu            male      3.0      False   \n",
      "Jin Ree Lee                    Lee            male      1.0      False   \n",
      "Meeyoung Park                 Park          female      0.0      False   \n",
      "Kali C. Lewis                Lewis          female      1.0       True   \n",
      "Bao-Lin Wei                    Wei            male      1.0      False   \n",
      "Rasha Sheikh                Sheikh          female      2.0      False   \n",
      "Luan T. Hoang                Hoang            male      4.0      False   \n",
      "Masato Kanematsu         Kanematsu            male      4.0      False   \n",
      "H.-J. Brambs                Brambs            male      1.0      False   \n",
      "H. Kurz                       Kurz            male      2.0      False   \n",
      "Changfeng Zhou                Zhou            male      3.0      False   \n",
      "D. J. Out                      Out            male      3.0      False   \n",
      "Changseob Keum                Keum            male      2.0      False   \n",
      "Wan-Du Tsai                   Tsai            male      0.0      False   \n",
      "Allison W. Harrison       Harrison          female      1.0       True   \n",
      "Qing-Xing Qu                    Qu            male      2.0      False   \n",
      "Yingchun Cao                   Cao            male      1.0      False   \n",
      "Chengchun Shi                  Shi            male      4.0      False   \n",
      "S. David                        S.            male      7.0      False   \n",
      "S. Guerrieri             Guerrieri            male      2.0      False   \n",
      "Nicole Manson               Manson          female      4.0      False   \n",
      "D. J. Cassel                Cassel            male      3.0      False   \n",
      "Mi-Young Lee                   Lee          female      1.0      False   \n",
      "Jian-Mei Xiao                 Xiao            male      2.0      False   \n",
      "Dongming Gan                   Gan            male      3.0      False   \n",
      "Christine Ebner              Ebner          female      3.0      False   \n",
      "J. Cembrero               Cembrero            male      1.0      False   \n",
      "Chai-Wei Chou                 Chou            male      2.0      False   \n",
      "A. Sprief                   Sprief            male      1.0      False   \n",
      "Kuberan Pushparajah        Kuberan          female      1.0       True   \n",
      "P. Christopher Gloumeau   Gloumeau            male      5.0      False   \n",
      "S. Ventre                   Ventre            male      2.0      False   \n",
      "Nehal. A. Ranabhatt      Ranabhatt            male      2.0      False   \n",
      "Yunxia Chen                   Chen          female      2.0       True   \n",
      "Mitsunori Ueda                Ueda            male      2.0      False   \n",
      "Rasha Massoud              Massoud          female      2.0      False   \n",
      "T. J. Lukas                  Lukas            male      1.0      False   \n",
      "\n",
      "                         score_dif  \n",
      "name                                \n",
      "Masayoshi Takeuchi             0.0  \n",
      "Natsuko Miki                   1.0  \n",
      "Cheol-seung Lee               -1.0  \n",
      "Aphra Shemza                   1.0  \n",
      "Rui Belfort                    0.0  \n",
      "Motti Neiger                  -1.0  \n",
      "Baozhu Zhao                   -2.0  \n",
      "Zhao-ling Tao                 -1.0  \n",
      "Zhenbo Wang                    1.0  \n",
      "Angeliki M. Sarafi             0.0  \n",
      "Anis Boubaker                  1.0  \n",
      "A. Pron                        1.0  \n",
      "E. Behl                        0.0  \n",
      "Zheng Hu                       0.0  \n",
      "Jin Ree Lee                    1.0  \n",
      "Meeyoung Park                  0.0  \n",
      "Kali C. Lewis                  0.0  \n",
      "Bao-Lin Wei                    0.0  \n",
      "Rasha Sheikh                   1.0  \n",
      "Luan T. Hoang                  1.0  \n",
      "Masato Kanematsu               1.0  \n",
      "H.-J. Brambs                  -1.0  \n",
      "H. Kurz                       -1.0  \n",
      "Changfeng Zhou                 1.0  \n",
      "D. J. Out                      1.0  \n",
      "Changseob Keum                 1.0  \n",
      "Wan-Du Tsai                   -2.0  \n",
      "Allison W. Harrison            1.0  \n",
      "Qing-Xing Qu                  -1.0  \n",
      "Yingchun Cao                  -1.0  \n",
      "Chengchun Shi                  1.0  \n",
      "S. David                       5.0  \n",
      "S. Guerrieri                   0.0  \n",
      "Nicole Manson                  1.0  \n",
      "D. J. Cassel                   0.0  \n",
      "Mi-Young Lee                   1.0  \n",
      "Jian-Mei Xiao                 -1.0  \n",
      "Dongming Gan                   0.0  \n",
      "Christine Ebner                2.0  \n",
      "J. Cembrero                    0.0  \n",
      "Chai-Wei Chou                  0.0  \n",
      "A. Sprief                     -1.0  \n",
      "Kuberan Pushparajah           -1.0  \n",
      "P. Christopher Gloumeau        2.0  \n",
      "S. Ventre                      1.0  \n",
      "Nehal. A. Ranabhatt            1.0  \n",
      "Yunxia Chen                    2.0  \n",
      "Mitsunori Ueda                -1.0  \n",
      "Rasha Massoud                  1.0  \n",
      "T. J. Lukas                   -1.0  \n"
     ]
    }
   ],
   "source": [
    "# Convert results (list of openapi_client.models.personal_name_gendered_out.PersonalNameGenderedOut) to (list of dictionaries)\n",
    "print('Filling the results into the names dataframe...')\n",
    "for oapi_el in result:\n",
    "    names_to_consider.at[oapi_el.id, 'likely_gender_2'] = oapi_el.likely_gender\n",
    "    names_to_consider.at[oapi_el.id, 'score_2'] = round(oapi_el.score)\n",
    "    gender_dif = (names_to_consider.at[oapi_el.id, 'likely_gender'] != names_to_consider.at[oapi_el.id, 'likely_gender_2'])\n",
    "    if (gender_dif):\n",
    "        g_val = 1\n",
    "    names_to_consider.at[oapi_el.id, 'gender_dif'] = gender_dif\n",
    "    names_to_consider.at[oapi_el.id, 'score_dif'] = (names_to_consider.at[oapi_el.id, 'score_2'] - names_to_consider.at[oapi_el.id, 'score'])\n",
    "\n",
    "print('Dataframe completed with API results. Here is a sample: {}'.format(names_to_consider[:50]))"
   ]
  },
  {
   "cell_type": "code",
   "execution_count": 139,
   "metadata": {},
   "outputs": [
    {
     "name": "stdout",
     "output_type": "stream",
     "text": [
      "Saving test names...\n",
      "Test names saved!\n"
     ]
    }
   ],
   "source": [
    "print(\"Saving test names...\")\n",
    "names_to_consider.to_csv(\"data/names_improvement_test.csv\")\n",
    "print(\"Test names saved!\")"
   ]
  },
  {
   "cell_type": "code",
   "execution_count": 140,
   "metadata": {},
   "outputs": [
    {
     "data": {
      "text/plain": [
       "<matplotlib.collections.PathCollection at 0x20b8457a710>"
      ]
     },
     "execution_count": 140,
     "metadata": {},
     "output_type": "execute_result"
    },
    {
     "data": {
      "image/png": "[encoded data removed]",
      "text/plain": [
       "<Figure size 432x288 with 1 Axes>"
      ]
     },
     "metadata": {
      "needs_background": "light"
     },
     "output_type": "display_data"
    }
   ],
   "source": [
    "import matplotlib.pyplot as plt\n",
    "\n",
    "plt.scatter(x=names_to_consider['gender_dif'], y=names_to_consider['score_2'])"
   ]
  },
  {
   "cell_type": "code",
   "execution_count": 141,
   "metadata": {},
   "outputs": [
    {
     "data": {
      "text/plain": [
       "<matplotlib.axes._subplots.AxesSubplot at 0x20b845b1e80>"
      ]
     },
     "execution_count": 141,
     "metadata": {},
     "output_type": "execute_result"
    },
    {
     "data": {
      "image/png": "[encoded data removed]",
      "text/plain": [
       "<Figure size 432x288 with 1 Axes>"
      ]
     },
     "metadata": {
      "needs_background": "light"
     },
     "output_type": "display_data"
    }
   ],
   "source": [
    "names_to_consider['score_2'].hist(bins=7)"
   ]
  },
  {
   "cell_type": "code",
   "execution_count": 142,
   "metadata": {},
   "outputs": [
    {
     "data": {
      "text/plain": [
       "<matplotlib.axes._subplots.AxesSubplot at 0x20b8461ff98>"
      ]
     },
     "execution_count": 142,
     "metadata": {},
     "output_type": "execute_result"
    },
    {
     "data": {
      "image/png": "[encoded data removed]",
      "text/plain": [
       "<Figure size 432x288 with 1 Axes>"
      ]
     },
     "metadata": {
      "needs_background": "light"
     },
     "output_type": "display_data"
    }
   ],
   "source": [
    "names_to_consider['score'].hist(bins=3)"
   ]
  },
  {
   "cell_type": "code",
   "execution_count": 143,
   "metadata": {},
   "outputs": [
    {
     "data": {
      "text/plain": [
       "<matplotlib.axes._subplots.AxesSubplot at 0x20b84604550>"
      ]
     },
     "execution_count": 143,
     "metadata": {},
     "output_type": "execute_result"
    },
    {
     "data": {
      "image/png": "[encoded data removed]",
      "text/plain": [
       "<Figure size 432x288 with 1 Axes>"
      ]
     },
     "metadata": {
      "needs_background": "light"
     },
     "output_type": "display_data"
    }
   ],
   "source": [
    "names_to_consider['score_dif'].hist()"
   ]
  },
  {
   "cell_type": "code",
   "execution_count": 144,
   "metadata": {},
   "outputs": [],
   "source": [
    "names_by_score_dif = names_to_consider.groupby(['score_dif', 'gender_dif'])"
   ]
  },
  {
   "cell_type": "code",
   "execution_count": 145,
   "metadata": {},
   "outputs": [],
   "source": [
    "names_by_score_dif = names_by_score_dif.agg({'score':'count'}) # score just counts how many entries there are per score_dif and gender_dif"
   ]
  },
  {
   "cell_type": "code",
   "execution_count": 146,
   "metadata": {},
   "outputs": [],
   "source": [
    "score_diffs = list(map(lambda x: x[0], names_by_score_dif.index.values))\n",
    "gender_diffs = list(map(lambda x: x[1], names_by_score_dif.index.values))"
   ]
  },
  {
   "cell_type": "code",
   "execution_count": 147,
   "metadata": {},
   "outputs": [
    {
     "data": {
      "text/plain": [
       "<matplotlib.collections.PathCollection at 0x20b84743240>"
      ]
     },
     "execution_count": 147,
     "metadata": {},
     "output_type": "execute_result"
    },
    {
     "data": {
      "image/png": "[encoded data removed]",
      "text/plain": [
       "<Figure size 432x288 with 1 Axes>"
      ]
     },
     "metadata": {
      "needs_background": "light"
     },
     "output_type": "display_data"
    }
   ],
   "source": [
    "plt.scatter(x=score_diffs, y=names_by_score_dif['score'], c=gender_diffs, alpha=0.7)"
   ]
  },
  {
   "cell_type": "code",
   "execution_count": 148,
   "metadata": {},
   "outputs": [
    {
     "data": {
      "text/html": [
       "<div>\n",
       "<style scoped>\n",
       "    .dataframe tbody tr th:only-of-type {\n",
       "        vertical-align: middle;\n",
       "    }\n",
       "\n",
       "    .dataframe tbody tr th {\n",
       "        vertical-align: top;\n",
       "    }\n",
       "\n",
       "    .dataframe thead th {\n",
       "        text-align: right;\n",
       "    }\n",
       "</style>\n",
       "<table border=\"1\" class=\"dataframe\">\n",
       "  <thead>\n",
       "    <tr style=\"text-align: right;\">\n",
       "      <th></th>\n",
       "      <th>n_publs</th>\n",
       "      <th>score</th>\n",
       "      <th>score_2</th>\n",
       "      <th>score_dif</th>\n",
       "    </tr>\n",
       "  </thead>\n",
       "  <tbody>\n",
       "    <tr>\n",
       "      <th>count</th>\n",
       "      <td>1000.000000</td>\n",
       "      <td>1000.00000</td>\n",
       "      <td>999.000000</td>\n",
       "      <td>999.000000</td>\n",
       "    </tr>\n",
       "    <tr>\n",
       "      <th>mean</th>\n",
       "      <td>6.322000</td>\n",
       "      <td>1.67000</td>\n",
       "      <td>2.150150</td>\n",
       "      <td>0.481481</td>\n",
       "    </tr>\n",
       "    <tr>\n",
       "      <th>std</th>\n",
       "      <td>25.759734</td>\n",
       "      <td>1.04508</td>\n",
       "      <td>1.394765</td>\n",
       "      <td>1.217527</td>\n",
       "    </tr>\n",
       "    <tr>\n",
       "      <th>min</th>\n",
       "      <td>1.000000</td>\n",
       "      <td>0.00000</td>\n",
       "      <td>0.000000</td>\n",
       "      <td>-2.000000</td>\n",
       "    </tr>\n",
       "    <tr>\n",
       "      <th>25%</th>\n",
       "      <td>1.000000</td>\n",
       "      <td>1.00000</td>\n",
       "      <td>1.000000</td>\n",
       "      <td>0.000000</td>\n",
       "    </tr>\n",
       "    <tr>\n",
       "      <th>50%</th>\n",
       "      <td>1.000000</td>\n",
       "      <td>2.00000</td>\n",
       "      <td>2.000000</td>\n",
       "      <td>0.000000</td>\n",
       "    </tr>\n",
       "    <tr>\n",
       "      <th>75%</th>\n",
       "      <td>3.000000</td>\n",
       "      <td>3.00000</td>\n",
       "      <td>3.000000</td>\n",
       "      <td>1.000000</td>\n",
       "    </tr>\n",
       "    <tr>\n",
       "      <th>max</th>\n",
       "      <td>518.000000</td>\n",
       "      <td>3.00000</td>\n",
       "      <td>7.000000</td>\n",
       "      <td>7.000000</td>\n",
       "    </tr>\n",
       "  </tbody>\n",
       "</table>\n",
       "</div>"
      ],
      "text/plain": [
       "           n_publs       score     score_2   score_dif\n",
       "count  1000.000000  1000.00000  999.000000  999.000000\n",
       "mean      6.322000     1.67000    2.150150    0.481481\n",
       "std      25.759734     1.04508    1.394765    1.217527\n",
       "min       1.000000     0.00000    0.000000   -2.000000\n",
       "25%       1.000000     1.00000    1.000000    0.000000\n",
       "50%       1.000000     2.00000    2.000000    0.000000\n",
       "75%       3.000000     3.00000    3.000000    1.000000\n",
       "max     518.000000     3.00000    7.000000    7.000000"
      ]
     },
     "execution_count": 148,
     "metadata": {},
     "output_type": "execute_result"
    }
   ],
   "source": [
    "descriptive_statistics_improved_names_sample1 = names_to_consider.describe()\n",
    "descriptive_statistics_improved_names_sample1"
   ]
  },
  {
   "cell_type": "code",
   "execution_count": 149,
   "metadata": {},
   "outputs": [
    {
     "name": "stdout",
     "output_type": "stream",
     "text": [
      "Saving test names...\n",
      "Test names saved!\n"
     ]
    }
   ],
   "source": [
    "print(\"Saving test names...\")\n",
    "descriptive_statistics_improved_names_sample1.to_csv(\"data/names_improvement_test_statistics.csv\")\n",
    "print(\"Test names saved!\")"
   ]
  },
  {
   "cell_type": "code",
   "execution_count": 159,
   "metadata": {},
   "outputs": [],
   "source": [
    "gender_changed = names_to_consider[names_to_consider['gender_dif'] == True]"
   ]
  },
  {
   "cell_type": "code",
   "execution_count": 160,
   "metadata": {},
   "outputs": [
    {
     "data": {
      "text/html": [
       "<div>\n",
       "<style scoped>\n",
       "    .dataframe tbody tr th:only-of-type {\n",
       "        vertical-align: middle;\n",
       "    }\n",
       "\n",
       "    .dataframe tbody tr th {\n",
       "        vertical-align: top;\n",
       "    }\n",
       "\n",
       "    .dataframe thead th {\n",
       "        text-align: right;\n",
       "    }\n",
       "</style>\n",
       "<table border=\"1\" class=\"dataframe\">\n",
       "  <thead>\n",
       "    <tr style=\"text-align: right;\">\n",
       "      <th></th>\n",
       "      <th>n_publs</th>\n",
       "      <th>score</th>\n",
       "      <th>score_2</th>\n",
       "      <th>score_dif</th>\n",
       "    </tr>\n",
       "  </thead>\n",
       "  <tbody>\n",
       "    <tr>\n",
       "      <th>count</th>\n",
       "      <td>100.000000</td>\n",
       "      <td>100.000000</td>\n",
       "      <td>100.000000</td>\n",
       "      <td>100.000000</td>\n",
       "    </tr>\n",
       "    <tr>\n",
       "      <th>mean</th>\n",
       "      <td>6.500000</td>\n",
       "      <td>0.470000</td>\n",
       "      <td>0.990000</td>\n",
       "      <td>0.520000</td>\n",
       "    </tr>\n",
       "    <tr>\n",
       "      <th>std</th>\n",
       "      <td>18.450315</td>\n",
       "      <td>0.717107</td>\n",
       "      <td>1.210184</td>\n",
       "      <td>1.396098</td>\n",
       "    </tr>\n",
       "    <tr>\n",
       "      <th>min</th>\n",
       "      <td>1.000000</td>\n",
       "      <td>0.000000</td>\n",
       "      <td>0.000000</td>\n",
       "      <td>-2.000000</td>\n",
       "    </tr>\n",
       "    <tr>\n",
       "      <th>25%</th>\n",
       "      <td>1.000000</td>\n",
       "      <td>0.000000</td>\n",
       "      <td>0.000000</td>\n",
       "      <td>0.000000</td>\n",
       "    </tr>\n",
       "    <tr>\n",
       "      <th>50%</th>\n",
       "      <td>2.000000</td>\n",
       "      <td>0.000000</td>\n",
       "      <td>1.000000</td>\n",
       "      <td>0.000000</td>\n",
       "    </tr>\n",
       "    <tr>\n",
       "      <th>75%</th>\n",
       "      <td>4.250000</td>\n",
       "      <td>1.000000</td>\n",
       "      <td>1.000000</td>\n",
       "      <td>1.000000</td>\n",
       "    </tr>\n",
       "    <tr>\n",
       "      <th>max</th>\n",
       "      <td>167.000000</td>\n",
       "      <td>3.000000</td>\n",
       "      <td>7.000000</td>\n",
       "      <td>7.000000</td>\n",
       "    </tr>\n",
       "  </tbody>\n",
       "</table>\n",
       "</div>"
      ],
      "text/plain": [
       "          n_publs       score     score_2   score_dif\n",
       "count  100.000000  100.000000  100.000000  100.000000\n",
       "mean     6.500000    0.470000    0.990000    0.520000\n",
       "std     18.450315    0.717107    1.210184    1.396098\n",
       "min      1.000000    0.000000    0.000000   -2.000000\n",
       "25%      1.000000    0.000000    0.000000    0.000000\n",
       "50%      2.000000    0.000000    1.000000    0.000000\n",
       "75%      4.250000    1.000000    1.000000    1.000000\n",
       "max    167.000000    3.000000    7.000000    7.000000"
      ]
     },
     "execution_count": 160,
     "metadata": {},
     "output_type": "execute_result"
    }
   ],
   "source": [
    "gender_changed.describe()"
   ]
  },
  {
   "cell_type": "code",
   "execution_count": 161,
   "metadata": {},
   "outputs": [],
   "source": [
    "gender_changed_more_certain = gender_changed[gender_changed['score_dif'] > 0]"
   ]
  },
  {
   "cell_type": "code",
   "execution_count": 162,
   "metadata": {},
   "outputs": [
    {
     "data": {
      "text/html": [
       "<div>\n",
       "<style scoped>\n",
       "    .dataframe tbody tr th:only-of-type {\n",
       "        vertical-align: middle;\n",
       "    }\n",
       "\n",
       "    .dataframe tbody tr th {\n",
       "        vertical-align: top;\n",
       "    }\n",
       "\n",
       "    .dataframe thead th {\n",
       "        text-align: right;\n",
       "    }\n",
       "</style>\n",
       "<table border=\"1\" class=\"dataframe\">\n",
       "  <thead>\n",
       "    <tr style=\"text-align: right;\">\n",
       "      <th></th>\n",
       "      <th>n_publs</th>\n",
       "      <th>score</th>\n",
       "      <th>score_2</th>\n",
       "      <th>score_dif</th>\n",
       "    </tr>\n",
       "  </thead>\n",
       "  <tbody>\n",
       "    <tr>\n",
       "      <th>count</th>\n",
       "      <td>44.000000</td>\n",
       "      <td>44.000000</td>\n",
       "      <td>44.000000</td>\n",
       "      <td>44.000000</td>\n",
       "    </tr>\n",
       "    <tr>\n",
       "      <th>mean</th>\n",
       "      <td>6.568182</td>\n",
       "      <td>0.136364</td>\n",
       "      <td>1.886364</td>\n",
       "      <td>1.750000</td>\n",
       "    </tr>\n",
       "    <tr>\n",
       "      <th>std</th>\n",
       "      <td>11.694558</td>\n",
       "      <td>0.509943</td>\n",
       "      <td>1.279824</td>\n",
       "      <td>1.143739</td>\n",
       "    </tr>\n",
       "    <tr>\n",
       "      <th>min</th>\n",
       "      <td>1.000000</td>\n",
       "      <td>0.000000</td>\n",
       "      <td>1.000000</td>\n",
       "      <td>1.000000</td>\n",
       "    </tr>\n",
       "    <tr>\n",
       "      <th>25%</th>\n",
       "      <td>1.000000</td>\n",
       "      <td>0.000000</td>\n",
       "      <td>1.000000</td>\n",
       "      <td>1.000000</td>\n",
       "    </tr>\n",
       "    <tr>\n",
       "      <th>50%</th>\n",
       "      <td>2.000000</td>\n",
       "      <td>0.000000</td>\n",
       "      <td>1.500000</td>\n",
       "      <td>1.000000</td>\n",
       "    </tr>\n",
       "    <tr>\n",
       "      <th>75%</th>\n",
       "      <td>6.250000</td>\n",
       "      <td>0.000000</td>\n",
       "      <td>2.000000</td>\n",
       "      <td>2.000000</td>\n",
       "    </tr>\n",
       "    <tr>\n",
       "      <th>max</th>\n",
       "      <td>63.000000</td>\n",
       "      <td>3.000000</td>\n",
       "      <td>7.000000</td>\n",
       "      <td>7.000000</td>\n",
       "    </tr>\n",
       "  </tbody>\n",
       "</table>\n",
       "</div>"
      ],
      "text/plain": [
       "         n_publs      score    score_2  score_dif\n",
       "count  44.000000  44.000000  44.000000  44.000000\n",
       "mean    6.568182   0.136364   1.886364   1.750000\n",
       "std    11.694558   0.509943   1.279824   1.143739\n",
       "min     1.000000   0.000000   1.000000   1.000000\n",
       "25%     1.000000   0.000000   1.000000   1.000000\n",
       "50%     2.000000   0.000000   1.500000   1.000000\n",
       "75%     6.250000   0.000000   2.000000   2.000000\n",
       "max    63.000000   3.000000   7.000000   7.000000"
      ]
     },
     "execution_count": 162,
     "metadata": {},
     "output_type": "execute_result"
    }
   ],
   "source": [
    "gender_changed_more_certain.describe()"
   ]
  },
  {
   "cell_type": "code",
   "execution_count": 153,
   "metadata": {},
   "outputs": [],
   "source": [
    "score_improved = names_to_consider[names_to_consider['score_dif'] > 0]"
   ]
  },
  {
   "cell_type": "code",
   "execution_count": 154,
   "metadata": {},
   "outputs": [
    {
     "data": {
      "text/html": [
       "<div>\n",
       "<style scoped>\n",
       "    .dataframe tbody tr th:only-of-type {\n",
       "        vertical-align: middle;\n",
       "    }\n",
       "\n",
       "    .dataframe tbody tr th {\n",
       "        vertical-align: top;\n",
       "    }\n",
       "\n",
       "    .dataframe thead th {\n",
       "        text-align: right;\n",
       "    }\n",
       "</style>\n",
       "<table border=\"1\" class=\"dataframe\">\n",
       "  <thead>\n",
       "    <tr style=\"text-align: right;\">\n",
       "      <th></th>\n",
       "      <th>n_publs</th>\n",
       "      <th>score</th>\n",
       "      <th>score_2</th>\n",
       "      <th>score_dif</th>\n",
       "    </tr>\n",
       "  </thead>\n",
       "  <tbody>\n",
       "    <tr>\n",
       "      <th>count</th>\n",
       "      <td>465.000000</td>\n",
       "      <td>465.000000</td>\n",
       "      <td>465.000000</td>\n",
       "      <td>465.000000</td>\n",
       "    </tr>\n",
       "    <tr>\n",
       "      <th>mean</th>\n",
       "      <td>7.079570</td>\n",
       "      <td>1.531183</td>\n",
       "      <td>3.047312</td>\n",
       "      <td>1.516129</td>\n",
       "    </tr>\n",
       "    <tr>\n",
       "      <th>std</th>\n",
       "      <td>33.121383</td>\n",
       "      <td>1.140740</td>\n",
       "      <td>1.297344</td>\n",
       "      <td>0.893136</td>\n",
       "    </tr>\n",
       "    <tr>\n",
       "      <th>min</th>\n",
       "      <td>1.000000</td>\n",
       "      <td>0.000000</td>\n",
       "      <td>1.000000</td>\n",
       "      <td>1.000000</td>\n",
       "    </tr>\n",
       "    <tr>\n",
       "      <th>25%</th>\n",
       "      <td>1.000000</td>\n",
       "      <td>0.000000</td>\n",
       "      <td>2.000000</td>\n",
       "      <td>1.000000</td>\n",
       "    </tr>\n",
       "    <tr>\n",
       "      <th>50%</th>\n",
       "      <td>2.000000</td>\n",
       "      <td>2.000000</td>\n",
       "      <td>3.000000</td>\n",
       "      <td>1.000000</td>\n",
       "    </tr>\n",
       "    <tr>\n",
       "      <th>75%</th>\n",
       "      <td>4.000000</td>\n",
       "      <td>3.000000</td>\n",
       "      <td>4.000000</td>\n",
       "      <td>2.000000</td>\n",
       "    </tr>\n",
       "    <tr>\n",
       "      <th>max</th>\n",
       "      <td>518.000000</td>\n",
       "      <td>3.000000</td>\n",
       "      <td>7.000000</td>\n",
       "      <td>7.000000</td>\n",
       "    </tr>\n",
       "  </tbody>\n",
       "</table>\n",
       "</div>"
      ],
      "text/plain": [
       "          n_publs       score     score_2   score_dif\n",
       "count  465.000000  465.000000  465.000000  465.000000\n",
       "mean     7.079570    1.531183    3.047312    1.516129\n",
       "std     33.121383    1.140740    1.297344    0.893136\n",
       "min      1.000000    0.000000    1.000000    1.000000\n",
       "25%      1.000000    0.000000    2.000000    1.000000\n",
       "50%      2.000000    2.000000    3.000000    1.000000\n",
       "75%      4.000000    3.000000    4.000000    2.000000\n",
       "max    518.000000    3.000000    7.000000    7.000000"
      ]
     },
     "execution_count": 154,
     "metadata": {},
     "output_type": "execute_result"
    }
   ],
   "source": [
    "score_improved.describe()"
   ]
  },
  {
   "cell_type": "code",
   "execution_count": null,
   "metadata": {},
   "outputs": [],
   "source": [
    "# The gender assumption changed for only 100 of 1000 entries \n",
    "# (assuming the gender change is valid if the new score is higher than the old score, which is the case in 44 cases)\n",
    "\n",
    "# The score improves on average by 0.48 with a std of 1.21. \n",
    "# The mean improvement is 0, the 25% quartile is 0, the 75% quartile is 1.\n",
    "# The score is at maximum improved by 7 and in the worst case decreased by 2."
   ]
  },
  {
   "cell_type": "code",
   "execution_count": null,
   "metadata": {},
   "outputs": [],
   "source": []
  }
 ],
 "metadata": {
  "kernelspec": {
   "display_name": "Python 3",
   "language": "python",
   "name": "python3"
  },
  "language_info": {
   "codemirror_mode": {
    "name": "ipython",
    "version": 3
   },
   "file_extension": ".py",
   "mimetype": "text/x-python",
   "name": "python",
   "nbconvert_exporter": "python",
   "pygments_lexer": "ipython3",
   "version": "3.7.3"
  }
 },
 "nbformat": 4,
 "nbformat_minor": 2
}
