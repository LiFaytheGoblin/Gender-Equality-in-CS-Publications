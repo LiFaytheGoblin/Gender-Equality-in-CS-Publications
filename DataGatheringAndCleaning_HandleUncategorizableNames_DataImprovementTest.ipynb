{
 "cells": [
  {
   "cell_type": "code",
   "execution_count": 1,
   "metadata": {},
   "outputs": [
    {
     "name": "stdout",
     "output_type": "stream",
     "text": [
      "Importing categorized names... \n",
      "Names imported.\n"
     ]
    }
   ],
   "source": [
    "import pandas\n",
    "\n",
    "print(\"Importing categorized names... \")\n",
    "names = pandas.read_csv(\"data/names_cat.csv\", usecols=[\"name\", \"n_publs\", \"likely_gender\", \"score\"])\n",
    "print(\"Names imported.\")"
   ]
  },
  {
   "cell_type": "code",
   "execution_count": 2,
   "metadata": {},
   "outputs": [
    {
     "name": "stdout",
     "output_type": "stream",
     "text": [
      "                                        name  n_publs likely_gender  score\n",
      "name                                                                      \n",
      "'Maseka Lesaoana            'Maseka Lesaoana        2        female      8\n",
      "(David) Jing Dai            (David) Jing Dai        1          male      7\n",
      "(Max) Zong-Ming Cheng  (Max) Zong-Ming Cheng        2          male      2\n",
      "(Sophy) Shu-Jiun Chen  (Sophy) Shu-Jiun Chen        2        female      7\n",
      "(Zhou) Bryan Bai            (Zhou) Bryan Bai        2          male      6\n",
      "A Clara Kanmani              A Clara Kanmani        1        female      4\n",
      "A Lun                                  A Lun        1          male      1\n",
      "A Min Tjoa                        A Min Tjoa      211          male      2\n",
      "A S Akshaya                      A S Akshaya        1          male      2\n",
      "A'ang Subiyakto              A'ang Subiyakto        2        female      0\n"
     ]
    }
   ],
   "source": [
    "# Setting index & accessing cells: https://pythonhow.com/accessing-dataframe-columns-rows-and-cells/\n",
    "names = names.set_index(\"name\", drop = False)\n",
    "print(names[:10])"
   ]
  },
  {
   "cell_type": "code",
   "execution_count": null,
   "metadata": {},
   "outputs": [],
   "source": [
    "# Get first name and last name from full name with NamSor\n",
    "# Calculate the gender + score for the full name for those names with a score less than 7\n",
    "# Save the new result (gender and score) in the df\n",
    "# Compare the results. \n",
    "# To test if this makes sense: \n",
    "# Get sample of names with score less than 7\n",
    "# send to api\n",
    "# save results\n",
    "# row: gender changed?: bool\n",
    "# how much score changed?: int\n",
    "# plot"
   ]
  },
  {
   "cell_type": "code",
   "execution_count": 3,
   "metadata": {},
   "outputs": [
    {
     "name": "stdout",
     "output_type": "stream",
     "text": [
      "Getting private key... \n",
      "Got private key.\n"
     ]
    }
   ],
   "source": [
    "print(\"Getting private key... \")\n",
    "# Get private API Key for NamSor API v2 (contained in txt file)\n",
    "key = ''\n",
    "\n",
    "# Import personal key\n",
    "with open(\"key.txt\", \"r\") as file:\n",
    "    key = file.read()\n",
    "\n",
    "if(len(key) > 0):\n",
    "    print(\"Got private key.\")\n",
    "else: \n",
    "    print(\"Could not find private key. Please check the file name and make sure you have an API key.\")"
   ]
  },
  {
   "cell_type": "code",
   "execution_count": 4,
   "metadata": {},
   "outputs": [
    {
     "name": "stdout",
     "output_type": "stream",
     "text": [
      "Setting up NamSor API v2 connection settings...\n"
     ]
    }
   ],
   "source": [
    "# Setting up NamSor API v2 to get the gender of a name\n",
    "# https://www.namsor.com/\n",
    "# https://v2.namsor.com/NamSorAPIv2/apidoc.html\n",
    "# using NamSor API v2 Python SDK\n",
    "# https://github.com/namsor/namsor-python-sdk2\n",
    "# licensed under GNU Affero General Public License v3.0\n",
    "\n",
    "# Following script partly taken from https://github.com/namsor/namsor-python-sdk2 \"Getting Started\" \n",
    "# and adapted to keep key private and remove unnecessary lines.\n",
    "\n",
    "print(\"Setting up NamSor API v2 connection settings...\")\n",
    "\n",
    "import openapi_client\n",
    "from openapi_client.rest import ApiException\n",
    "\n",
    "# Configure API key authorization: api_key\n",
    "configuration = openapi_client.Configuration()\n",
    "configuration.api_key['X-API-KEY'] = key\n",
    "# create an instance of the API class\n",
    "pers_api_instance = openapi_client.PersonalApi(openapi_client.ApiClient(configuration))"
   ]
  },
  {
   "cell_type": "code",
   "execution_count": 34,
   "metadata": {},
   "outputs": [
    {
     "name": "stdout",
     "output_type": "stream",
     "text": [
      "Will be parsing and reconsidering 1000 names.\n"
     ]
    }
   ],
   "source": [
    "names_to_consider = names[names['score'] <= 8].sample(1000)\n",
    "print(\"Will be parsing and reconsidering {} names.\".format(len(names_to_consider)))"
   ]
  },
  {
   "cell_type": "code",
   "execution_count": 35,
   "metadata": {},
   "outputs": [],
   "source": [
    "# clean up names\n",
    "# Strip numbers from a string: https://stackoverflow.com/questions/16849109/strip-out-numbers-from-a-string\n",
    "# Remove white space at end from string: https://stackoverflow.com/questions/2372573/how-do-i-remove-whitespace-from-the-end-of-a-string-in-python\n",
    "import re\n",
    "\n",
    "def clean(x):\n",
    "    return pandas.Series([x, re.sub(r'\\d+','',x).rstrip()], index=['name', 'clean_name'])\n",
    "                         \n",
    "cleaned_names = names_to_consider['name'].apply(clean)\n",
    "cleaned_names = cleaned_names.set_index('name')\n",
    "\n",
    "names_to_consider=names_to_consider.merge(cleaned_names, how='left', left_index=True, right_index=True)"
   ]
  },
  {
   "cell_type": "code",
   "execution_count": 36,
   "metadata": {},
   "outputs": [
    {
     "data": {
      "text/html": [
       "<div>\n",
       "<style scoped>\n",
       "    .dataframe tbody tr th:only-of-type {\n",
       "        vertical-align: middle;\n",
       "    }\n",
       "\n",
       "    .dataframe tbody tr th {\n",
       "        vertical-align: top;\n",
       "    }\n",
       "\n",
       "    .dataframe thead th {\n",
       "        text-align: right;\n",
       "    }\n",
       "</style>\n",
       "<table border=\"1\" class=\"dataframe\">\n",
       "  <thead>\n",
       "    <tr style=\"text-align: right;\">\n",
       "      <th></th>\n",
       "      <th>name</th>\n",
       "      <th>n_publs</th>\n",
       "      <th>likely_gender</th>\n",
       "      <th>score</th>\n",
       "      <th>clean_name</th>\n",
       "    </tr>\n",
       "    <tr>\n",
       "      <th>name</th>\n",
       "      <th></th>\n",
       "      <th></th>\n",
       "      <th></th>\n",
       "      <th></th>\n",
       "      <th></th>\n",
       "    </tr>\n",
       "  </thead>\n",
       "  <tbody>\n",
       "    <tr>\n",
       "      <th>Irfan Mulyawan Malik</th>\n",
       "      <td>Irfan Mulyawan Malik</td>\n",
       "      <td>1</td>\n",
       "      <td>male</td>\n",
       "      <td>6</td>\n",
       "      <td>Irfan Mulyawan Malik</td>\n",
       "    </tr>\n",
       "    <tr>\n",
       "      <th>L. Allan Grimm</th>\n",
       "      <td>L. Allan Grimm</td>\n",
       "      <td>1</td>\n",
       "      <td>male</td>\n",
       "      <td>4</td>\n",
       "      <td>L. Allan Grimm</td>\n",
       "    </tr>\n",
       "    <tr>\n",
       "      <th>Erick Amador</th>\n",
       "      <td>Erick Amador</td>\n",
       "      <td>3</td>\n",
       "      <td>male</td>\n",
       "      <td>7</td>\n",
       "      <td>Erick Amador</td>\n",
       "    </tr>\n",
       "    <tr>\n",
       "      <th>Roberta Di Gennaro</th>\n",
       "      <td>Roberta Di Gennaro</td>\n",
       "      <td>2</td>\n",
       "      <td>female</td>\n",
       "      <td>1</td>\n",
       "      <td>Roberta Di Gennaro</td>\n",
       "    </tr>\n",
       "    <tr>\n",
       "      <th>Santiago Jácome G</th>\n",
       "      <td>Santiago Jácome G</td>\n",
       "      <td>1</td>\n",
       "      <td>male</td>\n",
       "      <td>7</td>\n",
       "      <td>Santiago Jácome G</td>\n",
       "    </tr>\n",
       "    <tr>\n",
       "      <th>Sebastiano Panichella</th>\n",
       "      <td>Sebastiano Panichella</td>\n",
       "      <td>51</td>\n",
       "      <td>male</td>\n",
       "      <td>8</td>\n",
       "      <td>Sebastiano Panichella</td>\n",
       "    </tr>\n",
       "    <tr>\n",
       "      <th>Yingqing Guo</th>\n",
       "      <td>Yingqing Guo</td>\n",
       "      <td>3</td>\n",
       "      <td>male</td>\n",
       "      <td>2</td>\n",
       "      <td>Yingqing Guo</td>\n",
       "    </tr>\n",
       "    <tr>\n",
       "      <th>Farzan Farbiz</th>\n",
       "      <td>Farzan Farbiz</td>\n",
       "      <td>2</td>\n",
       "      <td>male</td>\n",
       "      <td>3</td>\n",
       "      <td>Farzan Farbiz</td>\n",
       "    </tr>\n",
       "    <tr>\n",
       "      <th>A. D. Georgantas</th>\n",
       "      <td>A. D. Georgantas</td>\n",
       "      <td>1</td>\n",
       "      <td>male</td>\n",
       "      <td>2</td>\n",
       "      <td>A. D. Georgantas</td>\n",
       "    </tr>\n",
       "    <tr>\n",
       "      <th>Yasutomo Shirakawa</th>\n",
       "      <td>Yasutomo Shirakawa</td>\n",
       "      <td>1</td>\n",
       "      <td>male</td>\n",
       "      <td>3</td>\n",
       "      <td>Yasutomo Shirakawa</td>\n",
       "    </tr>\n",
       "  </tbody>\n",
       "</table>\n",
       "</div>"
      ],
      "text/plain": [
       "                                        name  n_publs likely_gender  score  \\\n",
       "name                                                                         \n",
       "Irfan Mulyawan Malik    Irfan Mulyawan Malik        1          male      6   \n",
       "L. Allan Grimm                L. Allan Grimm        1          male      4   \n",
       "Erick Amador                    Erick Amador        3          male      7   \n",
       "Roberta Di Gennaro        Roberta Di Gennaro        2        female      1   \n",
       "Santiago Jácome G          Santiago Jácome G        1          male      7   \n",
       "Sebastiano Panichella  Sebastiano Panichella       51          male      8   \n",
       "Yingqing Guo                    Yingqing Guo        3          male      2   \n",
       "Farzan Farbiz                  Farzan Farbiz        2          male      3   \n",
       "A. D. Georgantas            A. D. Georgantas        1          male      2   \n",
       "Yasutomo Shirakawa        Yasutomo Shirakawa        1          male      3   \n",
       "\n",
       "                                  clean_name  \n",
       "name                                          \n",
       "Irfan Mulyawan Malik    Irfan Mulyawan Malik  \n",
       "L. Allan Grimm                L. Allan Grimm  \n",
       "Erick Amador                    Erick Amador  \n",
       "Roberta Di Gennaro        Roberta Di Gennaro  \n",
       "Santiago Jácome G          Santiago Jácome G  \n",
       "Sebastiano Panichella  Sebastiano Panichella  \n",
       "Yingqing Guo                    Yingqing Guo  \n",
       "Farzan Farbiz                  Farzan Farbiz  \n",
       "A. D. Georgantas            A. D. Georgantas  \n",
       "Yasutomo Shirakawa        Yasutomo Shirakawa  "
      ]
     },
     "execution_count": 36,
     "metadata": {},
     "output_type": "execute_result"
    }
   ],
   "source": [
    "names_to_consider[:10]"
   ]
  },
  {
   "cell_type": "code",
   "execution_count": 37,
   "metadata": {},
   "outputs": [],
   "source": [
    "# Formatting the names using the API's models\n",
    "def createPersonalNameIn(name_entry):\n",
    "    return openapi_client.PersonalNameIn(id=name_entry['name'], name=name_entry['clean_name'])"
   ]
  },
  {
   "cell_type": "code",
   "execution_count": 38,
   "metadata": {},
   "outputs": [
    {
     "name": "stdout",
     "output_type": "stream",
     "text": [
      "[{'name': 'Irfan Mulyawan Malik', 'clean_name': 'Irfan Mulyawan Malik'}, {'name': 'L. Allan Grimm', 'clean_name': 'L. Allan Grimm'}, {'name': 'Erick Amador', 'clean_name': 'Erick Amador'}, {'name': 'Roberta Di Gennaro', 'clean_name': 'Roberta Di Gennaro'}, {'name': 'Santiago Jácome G', 'clean_name': 'Santiago Jácome G'}, {'name': 'Sebastiano Panichella', 'clean_name': 'Sebastiano Panichella'}, {'name': 'Yingqing Guo', 'clean_name': 'Yingqing Guo'}, {'name': 'Farzan Farbiz', 'clean_name': 'Farzan Farbiz'}, {'name': 'A. D. Georgantas', 'clean_name': 'A. D. Georgantas'}, {'name': 'Yasutomo Shirakawa', 'clean_name': 'Yasutomo Shirakawa'}]\n"
     ]
    }
   ],
   "source": [
    "# Now parsing the full names into first and last name, sending in\n",
    "# one batch at a time and saving the result answer by answer.\n",
    "# If the API calling gets interrupted:\n",
    "# 1. check that no names got lost: ((len(names_to_consider)-len(result)) == len(names_stack))\n",
    "# 2. If True: Restart only the code in the while loop.\n",
    "\n",
    "batch_size = 1000 #1000 is the API limit given by NamSor\n",
    "start = 0\n",
    "end = batch_size\n",
    "result = []\n",
    "\n",
    "names_stack = names_to_consider[['name', 'clean_name']].to_dict('records')\n",
    "\n",
    "print(names_stack[:10])"
   ]
  },
  {
   "cell_type": "code",
   "execution_count": 39,
   "metadata": {},
   "outputs": [
    {
     "name": "stdout",
     "output_type": "stream",
     "text": [
      "Batch of names analyzed\n",
      "All batches analyzed.\n"
     ]
    }
   ],
   "source": [
    "while (len(names_stack) >= batch_size):\n",
    "    try:\n",
    "        current_batch = list(map(createPersonalNameIn, names_stack[start:end])) # create batch of names in correct format\n",
    "        batch_personal_name_in = openapi_client.BatchPersonalNameIn(personal_names=current_batch) # convert batch to correct format\n",
    "        api_response = pers_api_instance.parse_name_batch(batch_personal_name_in=batch_personal_name_in) # call API\n",
    "        result = result + api_response.personal_names # save result\n",
    "        \n",
    "        del names_stack[start:end] # delete the names that have already been categorized from the stack\n",
    "        \n",
    "        # categorize remaining names if they are less than a batch size\n",
    "        if(len(names_stack) < batch_size and len(names_stack) > 0):\n",
    "            current_batch = list(map(createPersonalNameIn, names_stack)) # create the batch of remaining names\n",
    "            batch_personal_name_in = openapi_client.BatchPersonalNameIn(personal_names=current_batch)\n",
    "            api_response = pers_api_instance.parse_name_batch(batch_personal_name_in=batch_personal_name_in)\n",
    "            result = result + api_response.personal_names\n",
    "            names_stack = [] # empty the stack\n",
    "        \n",
    "        print(\"Batch of names analyzed\")\n",
    "    except ApiException as e:\n",
    "        print(\"Exception when calling PersonalApi: gender_full_batch: %s\\n\" % e)\n",
    "\n",
    "\n",
    "print(\"All batches analyzed.\")"
   ]
  },
  {
   "cell_type": "code",
   "execution_count": 40,
   "metadata": {
    "scrolled": true
   },
   "outputs": [
    {
     "name": "stdout",
     "output_type": "stream",
     "text": [
      "Filling the results into the names dataframe...\n",
      "Dataframe completed with API results. Here is a sample:                                         name  n_publs likely_gender  score  \\\n",
      "name                                                                         \n",
      "Irfan Mulyawan Malik    Irfan Mulyawan Malik        1          male      6   \n",
      "L. Allan Grimm                L. Allan Grimm        1          male      4   \n",
      "Erick Amador                    Erick Amador        3          male      7   \n",
      "Roberta Di Gennaro        Roberta Di Gennaro        2        female      1   \n",
      "Santiago Jácome G          Santiago Jácome G        1          male      7   \n",
      "Sebastiano Panichella  Sebastiano Panichella       51          male      8   \n",
      "Yingqing Guo                    Yingqing Guo        3          male      2   \n",
      "Farzan Farbiz                  Farzan Farbiz        2          male      3   \n",
      "A. D. Georgantas            A. D. Georgantas        1          male      2   \n",
      "Yasutomo Shirakawa        Yasutomo Shirakawa        1          male      3   \n",
      "\n",
      "                                  clean_name      first_name   last_name  \n",
      "name                                                                      \n",
      "Irfan Mulyawan Malik    Irfan Mulyawan Malik  Irfan Mulyawan       Malik  \n",
      "L. Allan Grimm                L. Allan Grimm        L. Allan       Grimm  \n",
      "Erick Amador                    Erick Amador           Erick      Amador  \n",
      "Roberta Di Gennaro        Roberta Di Gennaro         Roberta  Di Gennaro  \n",
      "Santiago Jácome G          Santiago Jácome G        Santiago    Jácome G  \n",
      "Sebastiano Panichella  Sebastiano Panichella      Sebastiano  Panichella  \n",
      "Yingqing Guo                    Yingqing Guo        Yingqing         Guo  \n",
      "Farzan Farbiz                  Farzan Farbiz          Farzan      Farbiz  \n",
      "A. D. Georgantas            A. D. Georgantas           A. D.  Georgantas  \n",
      "Yasutomo Shirakawa        Yasutomo Shirakawa        Yasutomo   Shirakawa  \n"
     ]
    }
   ],
   "source": [
    "# Convert results (list of openapi_client.models.PersonalNameParsedOut) to (list of dictionaries)\n",
    "print('Filling the results into the names dataframe...')\n",
    "for oapi_el in result:\n",
    "    name = oapi_el.first_last_name\n",
    "    try:\n",
    "        names_to_consider.at[oapi_el.id, 'first_name'] = name.first_name\n",
    "        names_to_consider.at[oapi_el.id, 'last_name'] = name.last_name\n",
    "    except:\n",
    "        names_to_consider.at[oapi_el.id, 'first_name'] = None\n",
    "        names_to_consider.at[oapi_el.id, 'last_name'] = None\n",
    "    \n",
    "print('Dataframe completed with API results. Here is a sample: {}'.format(names_to_consider[:10]))"
   ]
  },
  {
   "cell_type": "code",
   "execution_count": 41,
   "metadata": {},
   "outputs": [
    {
     "name": "stdout",
     "output_type": "stream",
     "text": [
      "Saving test names...\n",
      "Test names saved!\n"
     ]
    }
   ],
   "source": [
    "print(\"Saving test names...\")\n",
    "names_to_consider.to_csv(\"data/names_improvement_test_2.csv\")\n",
    "print(\"Test names saved!\")"
   ]
  },
  {
   "cell_type": "code",
   "execution_count": 42,
   "metadata": {},
   "outputs": [],
   "source": [
    "# Formatting the names using the API's models\n",
    "import math\n",
    "\n",
    "def createParsedPersonalNameIn(names_entry):\n",
    "    if(names_entry['first_name'] is None or names_entry['last_name'] is None):\n",
    "        return None\n",
    "    return openapi_client.FirstLastNameIn(id=names_entry['name'], first_name=names_entry['first_name'], last_name=names_entry['last_name'])"
   ]
  },
  {
   "cell_type": "code",
   "execution_count": 43,
   "metadata": {},
   "outputs": [],
   "source": [
    "# Now parsing the full names into first and last name, sending in\n",
    "# one batch at a time and saving the result answer by answer.\n",
    "# If the API calling gets interrupted:\n",
    "# 1. check that no names got lost: ((len(names_to_consider)-len(result)) == len(names_stack))\n",
    "# 2. If True: Restart only the code in the while loop.\n",
    "\n",
    "batch_size = 1000 #1000 is the API limit given by NamSor\n",
    "start = 0\n",
    "end = batch_size\n",
    "result = []\n",
    "\n",
    "names_stack = list(names_to_consider[['name', 'first_name', 'last_name']].to_dict('records'))\n",
    "names_stack = list(filter(lambda x: x['first_name'] is not None and x['last_name'] is not None, names_stack))"
   ]
  },
  {
   "cell_type": "code",
   "execution_count": 44,
   "metadata": {},
   "outputs": [
    {
     "name": "stdout",
     "output_type": "stream",
     "text": [
      "Batch of names analyzed\n",
      "All batches analyzed. Returned 999 results.\n"
     ]
    }
   ],
   "source": [
    "while (len(names_stack) >= batch_size):\n",
    "    try:\n",
    "        current_batch = list(map(createParsedPersonalNameIn, names_stack[start:end])) # create batch of names in correct format\n",
    "        batch_first_last_name_in = openapi_client.BatchFirstLastNameIn(personal_names=current_batch) # convert batch to correct format\n",
    "        api_response = pers_api_instance.gender_batch(batch_first_last_name_in=batch_first_last_name_in) # call API\n",
    "        result = result + api_response.personal_names # save result\n",
    "        \n",
    "        del names_stack[start:end] # delete the names that have already been categorized from the stack\n",
    "        \n",
    "        # categorize remaining names if they are less than a batch size\n",
    "        if(len(names_stack) < batch_size and len(names_stack) > 0):\n",
    "            current_batch = list(map(createParsedPersonalNameIn, names_stack)) # create the batch of remaining names\n",
    "            batch_first_last_name_in = openapi_client.BatchFirstLastNameIn(personal_names=current_batch)\n",
    "            api_response = pers_api_instance.gender_batch(batch_first_last_name_in=batch_first_last_name_in)\n",
    "            result = result + api_response.personal_names\n",
    "            names_stack = [] # empty the stack\n",
    "        \n",
    "        print(\"Batch of names analyzed\")\n",
    "    except ApiException as e:\n",
    "        print(\"Exception when calling PersonalApi: gender_full_batch: %s\\n\" % e)\n",
    "\n",
    "if(len(names_stack) != 0):\n",
    "    try:\n",
    "        current_batch = list(map(createParsedPersonalNameIn, names_stack)) # create the batch of remaining names\n",
    "        batch_first_last_name_in = openapi_client.BatchFirstLastNameIn(personal_names=current_batch)\n",
    "        api_response = pers_api_instance.gender_batch(batch_first_last_name_in=batch_first_last_name_in)\n",
    "        result = result + api_response.personal_names\n",
    "        names_stack = [] # empty the stack\n",
    "        \n",
    "        print(\"Batch of names analyzed\")\n",
    "    except ApiException as e:\n",
    "        print(\"Exception when calling PersonalApi: gender_full_batch: %s\\n\" % e)\n",
    "\n",
    "print(\"All batches analyzed. Returned {} results.\".format(len(result)))"
   ]
  },
  {
   "cell_type": "code",
   "execution_count": 47,
   "metadata": {},
   "outputs": [
    {
     "name": "stdout",
     "output_type": "stream",
     "text": [
      "Filling the results into the names dataframe...\n",
      "Dataframe completed with API results. Here is a sample:                                                               name  n_publs  \\\n",
      "name                                                                          \n",
      "Irfan Mulyawan Malik                          Irfan Mulyawan Malik        1   \n",
      "L. Allan Grimm                                      L. Allan Grimm        1   \n",
      "Erick Amador                                          Erick Amador        3   \n",
      "Roberta Di Gennaro                              Roberta Di Gennaro        2   \n",
      "Santiago Jácome G                                Santiago Jácome G        1   \n",
      "Sebastiano Panichella                        Sebastiano Panichella       51   \n",
      "Yingqing Guo                                          Yingqing Guo        3   \n",
      "Farzan Farbiz                                        Farzan Farbiz        2   \n",
      "A. D. Georgantas                                  A. D. Georgantas        1   \n",
      "Yasutomo Shirakawa                              Yasutomo Shirakawa        1   \n",
      "Fernando Luiz de Campos Carvalho  Fernando Luiz de Campos Carvalho        1   \n",
      "Romi Banerjee                                        Romi Banerjee        8   \n",
      "Kaustubh Joshi                                      Kaustubh Joshi       16   \n",
      "Kimberly J. Schlesinger                    Kimberly J. Schlesinger        6   \n",
      "Rosja Mastop                                          Rosja Mastop        9   \n",
      "Cindy H. Randall                                  Cindy H. Randall        3   \n",
      "Lee Hoi Yen                                            Lee Hoi Yen        1   \n",
      "Mihui Kim                                                Mihui Kim       43   \n",
      "Johan Lindholm                                      Johan Lindholm        2   \n",
      "Andrew Deunsing                                    Andrew Deunsing        1   \n",
      "Lee Ling Chuan                                      Lee Ling Chuan        2   \n",
      "Ludmila A. Prokudina                          Ludmila A. Prokudina        2   \n",
      "Alfinio Flores                                      Alfinio Flores        2   \n",
      "Samvid Niravbhai Jhaveri                  Samvid Niravbhai Jhaveri        2   \n",
      "Aleksa Grant                                          Aleksa Grant        1   \n",
      "Arife B. Aytac                                      Arife B. Aytac        1   \n",
      "Marc Zyngier                                          Marc Zyngier        1   \n",
      "Jin-Ling Lo                                            Jin-Ling Lo        4   \n",
      "A. R. Fielder                                        A. R. Fielder        1   \n",
      "Vassilis Bourdakis                              Vassilis Bourdakis        2   \n",
      "Chi-Keng Wu                                            Chi-Keng Wu        4   \n",
      "Dusan Ristanovic                                  Dusan Ristanovic        4   \n",
      "Marco Combetto                                      Marco Combetto        6   \n",
      "Laura Perez                                            Laura Perez        1   \n",
      "Junlai Cheng                                          Junlai Cheng        2   \n",
      "Surendra Reddy                                      Surendra Reddy        1   \n",
      "Fabricia Roos-Frantz                          Fabricia Roos-Frantz       18   \n",
      "Timo Reinikka                                        Timo Reinikka        1   \n",
      "Salah D. Qanadli                                  Salah D. Qanadli       14   \n",
      "Michael Lipaczewski                            Michael Lipaczewski       12   \n",
      "Yoshitaka Sugawara                              Yoshitaka Sugawara        1   \n",
      "Sadaf Tanvir                                          Sadaf Tanvir        3   \n",
      "F. B. Mallory                                        F. B. Mallory        1   \n",
      "Elhaouari Kobzili                                Elhaouari Kobzili        2   \n",
      "Matt Jen-Yuan Chiang                          Matt Jen-Yuan Chiang        4   \n",
      "Menashe Dornay                                      Menashe Dornay        3   \n",
      "Ho-Chun Leung                                        Ho-Chun Leung        1   \n",
      "Prashant K. Shah                                  Prashant K. Shah        1   \n",
      "Christine C. Dantas                            Christine C. Dantas        1   \n",
      "Shoni Philpot                                        Shoni Philpot        1   \n",
      "\n",
      "                                 likely_gender  score  \\\n",
      "name                                                    \n",
      "Irfan Mulyawan Malik                      male      6   \n",
      "L. Allan Grimm                            male      4   \n",
      "Erick Amador                              male      7   \n",
      "Roberta Di Gennaro                      female      1   \n",
      "Santiago Jácome G                         male      7   \n",
      "Sebastiano Panichella                     male      8   \n",
      "Yingqing Guo                              male      2   \n",
      "Farzan Farbiz                             male      3   \n",
      "A. D. Georgantas                          male      2   \n",
      "Yasutomo Shirakawa                        male      3   \n",
      "Fernando Luiz de Campos Carvalho          male      4   \n",
      "Romi Banerjee                           female      0   \n",
      "Kaustubh Joshi                            male      3   \n",
      "Kimberly J. Schlesinger                 female      1   \n",
      "Rosja Mastop                            female      0   \n",
      "Cindy H. Randall                        female      5   \n",
      "Lee Hoi Yen                               male      1   \n",
      "Mihui Kim                                 male      1   \n",
      "Johan Lindholm                            male      8   \n",
      "Andrew Deunsing                           male      8   \n",
      "Lee Ling Chuan                            male      1   \n",
      "Ludmila A. Prokudina                    female      2   \n",
      "Alfinio Flores                            male      5   \n",
      "Samvid Niravbhai Jhaveri                  male      4   \n",
      "Aleksa Grant                              male      1   \n",
      "Arife B. Aytac                          female      1   \n",
      "Marc Zyngier                              male      8   \n",
      "Jin-Ling Lo                               male      1   \n",
      "A. R. Fielder                             male      3   \n",
      "Vassilis Bourdakis                        male      4   \n",
      "Chi-Keng Wu                               male      0   \n",
      "Dusan Ristanovic                          male      7   \n",
      "Marco Combetto                            male      7   \n",
      "Laura Perez                             female      5   \n",
      "Junlai Cheng                              male      5   \n",
      "Surendra Reddy                            male      2   \n",
      "Fabricia Roos-Frantz                    female      1   \n",
      "Timo Reinikka                             male      8   \n",
      "Salah D. Qanadli                          male      4   \n",
      "Michael Lipaczewski                       male      8   \n",
      "Yoshitaka Sugawara                        male      4   \n",
      "Sadaf Tanvir                            female      0   \n",
      "F. B. Mallory                             male      1   \n",
      "Elhaouari Kobzili                         male      2   \n",
      "Matt Jen-Yuan Chiang                      male      8   \n",
      "Menashe Dornay                            male      2   \n",
      "Ho-Chun Leung                             male      2   \n",
      "Prashant K. Shah                          male      8   \n",
      "Christine C. Dantas                     female      1   \n",
      "Shoni Philpot                             male      0   \n",
      "\n",
      "                                                        clean_name  \\\n",
      "name                                                                 \n",
      "Irfan Mulyawan Malik                          Irfan Mulyawan Malik   \n",
      "L. Allan Grimm                                      L. Allan Grimm   \n",
      "Erick Amador                                          Erick Amador   \n",
      "Roberta Di Gennaro                              Roberta Di Gennaro   \n",
      "Santiago Jácome G                                Santiago Jácome G   \n",
      "Sebastiano Panichella                        Sebastiano Panichella   \n",
      "Yingqing Guo                                          Yingqing Guo   \n",
      "Farzan Farbiz                                        Farzan Farbiz   \n",
      "A. D. Georgantas                                  A. D. Georgantas   \n",
      "Yasutomo Shirakawa                              Yasutomo Shirakawa   \n",
      "Fernando Luiz de Campos Carvalho  Fernando Luiz de Campos Carvalho   \n",
      "Romi Banerjee                                        Romi Banerjee   \n",
      "Kaustubh Joshi                                      Kaustubh Joshi   \n",
      "Kimberly J. Schlesinger                    Kimberly J. Schlesinger   \n",
      "Rosja Mastop                                          Rosja Mastop   \n",
      "Cindy H. Randall                                  Cindy H. Randall   \n",
      "Lee Hoi Yen                                            Lee Hoi Yen   \n",
      "Mihui Kim                                                Mihui Kim   \n",
      "Johan Lindholm                                      Johan Lindholm   \n",
      "Andrew Deunsing                                    Andrew Deunsing   \n",
      "Lee Ling Chuan                                      Lee Ling Chuan   \n",
      "Ludmila A. Prokudina                          Ludmila A. Prokudina   \n",
      "Alfinio Flores                                      Alfinio Flores   \n",
      "Samvid Niravbhai Jhaveri                  Samvid Niravbhai Jhaveri   \n",
      "Aleksa Grant                                          Aleksa Grant   \n",
      "Arife B. Aytac                                      Arife B. Aytac   \n",
      "Marc Zyngier                                          Marc Zyngier   \n",
      "Jin-Ling Lo                                            Jin-Ling Lo   \n",
      "A. R. Fielder                                        A. R. Fielder   \n",
      "Vassilis Bourdakis                              Vassilis Bourdakis   \n",
      "Chi-Keng Wu                                            Chi-Keng Wu   \n",
      "Dusan Ristanovic                                  Dusan Ristanovic   \n",
      "Marco Combetto                                      Marco Combetto   \n",
      "Laura Perez                                            Laura Perez   \n",
      "Junlai Cheng                                          Junlai Cheng   \n",
      "Surendra Reddy                                      Surendra Reddy   \n",
      "Fabricia Roos-Frantz                          Fabricia Roos-Frantz   \n",
      "Timo Reinikka                                        Timo Reinikka   \n",
      "Salah D. Qanadli                                  Salah D. Qanadli   \n",
      "Michael Lipaczewski                            Michael Lipaczewski   \n",
      "Yoshitaka Sugawara                              Yoshitaka Sugawara   \n",
      "Sadaf Tanvir                                          Sadaf Tanvir   \n",
      "F. B. Mallory                                        F. B. Mallory   \n",
      "Elhaouari Kobzili                                Elhaouari Kobzili   \n",
      "Matt Jen-Yuan Chiang                          Matt Jen-Yuan Chiang   \n",
      "Menashe Dornay                                      Menashe Dornay   \n",
      "Ho-Chun Leung                                        Ho-Chun Leung   \n",
      "Prashant K. Shah                                  Prashant K. Shah   \n",
      "Christine C. Dantas                            Christine C. Dantas   \n",
      "Shoni Philpot                                        Shoni Philpot   \n",
      "\n",
      "                                        first_name           last_name  \\\n",
      "name                                                                     \n",
      "Irfan Mulyawan Malik                Irfan Mulyawan               Malik   \n",
      "L. Allan Grimm                            L. Allan               Grimm   \n",
      "Erick Amador                                 Erick              Amador   \n",
      "Roberta Di Gennaro                         Roberta          Di Gennaro   \n",
      "Santiago Jácome G                         Santiago            Jácome G   \n",
      "Sebastiano Panichella                   Sebastiano          Panichella   \n",
      "Yingqing Guo                              Yingqing                 Guo   \n",
      "Farzan Farbiz                               Farzan              Farbiz   \n",
      "A. D. Georgantas                             A. D.          Georgantas   \n",
      "Yasutomo Shirakawa                        Yasutomo           Shirakawa   \n",
      "Fernando Luiz de Campos Carvalho     Fernando Luiz  de Campos Carvalho   \n",
      "Romi Banerjee                                 Romi            Banerjee   \n",
      "Kaustubh Joshi                            Kaustubh               Joshi   \n",
      "Kimberly J. Schlesinger                Kimberly J.         Schlesinger   \n",
      "Rosja Mastop                                 Rosja              Mastop   \n",
      "Cindy H. Randall                          Cindy H.             Randall   \n",
      "Lee Hoi Yen                                Hoi Yen                 Lee   \n",
      "Mihui Kim                                    Mihui                 Kim   \n",
      "Johan Lindholm                               Johan            Lindholm   \n",
      "Andrew Deunsing                             Andrew            Deunsing   \n",
      "Lee Ling Chuan                          Ling Chuan                 Lee   \n",
      "Ludmila A. Prokudina                    Ludmila A.           Prokudina   \n",
      "Alfinio Flores                             Alfinio              Flores   \n",
      "Samvid Niravbhai Jhaveri          Samvid Niravbhai             Jhaveri   \n",
      "Aleksa Grant                                Aleksa               Grant   \n",
      "Arife B. Aytac                            Arife B.               Aytac   \n",
      "Marc Zyngier                                  Marc             Zyngier   \n",
      "Jin-Ling Lo                               Jin-Ling                  Lo   \n",
      "A. R. Fielder                                A. R.             Fielder   \n",
      "Vassilis Bourdakis                        Vassilis           Bourdakis   \n",
      "Chi-Keng Wu                               Chi-Keng                  Wu   \n",
      "Dusan Ristanovic                             Dusan          Ristanovic   \n",
      "Marco Combetto                               Marco            Combetto   \n",
      "Laura Perez                                  Laura               Perez   \n",
      "Junlai Cheng                                Junlai               Cheng   \n",
      "Surendra Reddy                            Surendra               Reddy   \n",
      "Fabricia Roos-Frantz                      Fabricia         Roos-Frantz   \n",
      "Timo Reinikka                                 Timo            Reinikka   \n",
      "Salah D. Qanadli                          Salah D.             Qanadli   \n",
      "Michael Lipaczewski                        Michael         Lipaczewski   \n",
      "Yoshitaka Sugawara                       Yoshitaka            Sugawara   \n",
      "Sadaf Tanvir                                 Sadaf              Tanvir   \n",
      "F. B. Mallory                                F. B.             Mallory   \n",
      "Elhaouari Kobzili                        Elhaouari             Kobzili   \n",
      "Matt Jen-Yuan Chiang                 Matt Jen-Yuan              Chiang   \n",
      "Menashe Dornay                             Menashe              Dornay   \n",
      "Ho-Chun Leung                              Ho-Chun               Leung   \n",
      "Prashant K. Shah                       Prashant K.                Shah   \n",
      "Christine C. Dantas                   Christine C.              Dantas   \n",
      "Shoni Philpot                                Shoni             Philpot   \n",
      "\n",
      "                                 likely_gender_2  score_2 gender_dif  \\\n",
      "name                                                                   \n",
      "Irfan Mulyawan Malik                        male      6.0      False   \n",
      "L. Allan Grimm                              male      6.0      False   \n",
      "Erick Amador                                male      7.0      False   \n",
      "Roberta Di Gennaro                        female      3.0      False   \n",
      "Santiago Jácome G                           male      5.0      False   \n",
      "Sebastiano Panichella                       male      9.0      False   \n",
      "Yingqing Guo                                male      2.0      False   \n",
      "Farzan Farbiz                               male      3.0      False   \n",
      "A. D. Georgantas                            male      3.0      False   \n",
      "Yasutomo Shirakawa                          male      4.0      False   \n",
      "Fernando Luiz de Campos Carvalho            male      7.0      False   \n",
      "Romi Banerjee                             female      2.0      False   \n",
      "Kaustubh Joshi                              male      3.0      False   \n",
      "Kimberly J. Schlesinger                   female      3.0      False   \n",
      "Rosja Mastop                              female      1.0      False   \n",
      "Cindy H. Randall                          female      2.0      False   \n",
      "Lee Hoi Yen                               female      1.0       True   \n",
      "Mihui Kim                                   male      1.0      False   \n",
      "Johan Lindholm                              male      7.0      False   \n",
      "Andrew Deunsing                             male      6.0      False   \n",
      "Lee Ling Chuan                              male      1.0      False   \n",
      "Ludmila A. Prokudina                      female      4.0      False   \n",
      "Alfinio Flores                              male      4.0      False   \n",
      "Samvid Niravbhai Jhaveri                    male      7.0      False   \n",
      "Aleksa Grant                              female      0.0       True   \n",
      "Arife B. Aytac                            female      3.0      False   \n",
      "Marc Zyngier                                male      8.0      False   \n",
      "Jin-Ling Lo                                 male      1.0      False   \n",
      "A. R. Fielder                               male      2.0      False   \n",
      "Vassilis Bourdakis                          male      4.0      False   \n",
      "Chi-Keng Wu                               female      0.0       True   \n",
      "Dusan Ristanovic                            male      8.0      False   \n",
      "Marco Combetto                              male      8.0      False   \n",
      "Laura Perez                               female      6.0      False   \n",
      "Junlai Cheng                                male      5.0      False   \n",
      "Surendra Reddy                              male      3.0      False   \n",
      "Fabricia Roos-Frantz                      female      3.0      False   \n",
      "Timo Reinikka                               male      6.0      False   \n",
      "Salah D. Qanadli                            male      3.0      False   \n",
      "Michael Lipaczewski                         male      6.0      False   \n",
      "Yoshitaka Sugawara                          male      4.0      False   \n",
      "Sadaf Tanvir                              female      1.0      False   \n",
      "F. B. Mallory                               male      2.0      False   \n",
      "Elhaouari Kobzili                           male      1.0      False   \n",
      "Matt Jen-Yuan Chiang                        male      6.0      False   \n",
      "Menashe Dornay                              male      2.0      False   \n",
      "Ho-Chun Leung                               male      2.0      False   \n",
      "Prashant K. Shah                            male      6.0      False   \n",
      "Christine C. Dantas                       female      1.0      False   \n",
      "Shoni Philpot                             female      2.0       True   \n",
      "\n",
      "                                  score_dif  \n",
      "name                                         \n",
      "Irfan Mulyawan Malik                    0.0  \n",
      "L. Allan Grimm                          2.0  \n",
      "Erick Amador                            0.0  \n",
      "Roberta Di Gennaro                      2.0  \n",
      "Santiago Jácome G                      -2.0  \n",
      "Sebastiano Panichella                   1.0  \n",
      "Yingqing Guo                            0.0  \n",
      "Farzan Farbiz                           0.0  \n",
      "A. D. Georgantas                        1.0  \n",
      "Yasutomo Shirakawa                      1.0  \n",
      "Fernando Luiz de Campos Carvalho        3.0  \n",
      "Romi Banerjee                           2.0  \n",
      "Kaustubh Joshi                          0.0  \n",
      "Kimberly J. Schlesinger                 2.0  \n",
      "Rosja Mastop                            1.0  \n",
      "Cindy H. Randall                       -3.0  \n",
      "Lee Hoi Yen                             0.0  \n",
      "Mihui Kim                               0.0  \n",
      "Johan Lindholm                         -1.0  \n",
      "Andrew Deunsing                        -2.0  \n",
      "Lee Ling Chuan                          0.0  \n",
      "Ludmila A. Prokudina                    2.0  \n",
      "Alfinio Flores                         -1.0  \n",
      "Samvid Niravbhai Jhaveri                3.0  \n",
      "Aleksa Grant                           -1.0  \n",
      "Arife B. Aytac                          2.0  \n",
      "Marc Zyngier                            0.0  \n",
      "Jin-Ling Lo                             0.0  \n",
      "A. R. Fielder                          -1.0  \n",
      "Vassilis Bourdakis                      0.0  \n",
      "Chi-Keng Wu                             0.0  \n",
      "Dusan Ristanovic                        1.0  \n",
      "Marco Combetto                          1.0  \n",
      "Laura Perez                             1.0  \n",
      "Junlai Cheng                            0.0  \n",
      "Surendra Reddy                          1.0  \n",
      "Fabricia Roos-Frantz                    2.0  \n",
      "Timo Reinikka                          -2.0  \n",
      "Salah D. Qanadli                       -1.0  \n",
      "Michael Lipaczewski                    -2.0  \n",
      "Yoshitaka Sugawara                      0.0  \n",
      "Sadaf Tanvir                            1.0  \n",
      "F. B. Mallory                           1.0  \n",
      "Elhaouari Kobzili                      -1.0  \n",
      "Matt Jen-Yuan Chiang                   -2.0  \n",
      "Menashe Dornay                          0.0  \n",
      "Ho-Chun Leung                           0.0  \n",
      "Prashant K. Shah                       -2.0  \n",
      "Christine C. Dantas                     0.0  \n",
      "Shoni Philpot                           2.0  \n"
     ]
    }
   ],
   "source": [
    "# Convert results (list of openapi_client.models.personal_name_gendered_out.PersonalNameGenderedOut) to (list of dictionaries)\n",
    "print('Filling the results into the names dataframe...')\n",
    "for oapi_el in result:\n",
    "    names_to_consider.at[oapi_el.id, 'likely_gender_2'] = oapi_el.likely_gender\n",
    "    names_to_consider.at[oapi_el.id, 'score_2'] = round(oapi_el.score)\n",
    "    gender_dif = (names_to_consider.at[oapi_el.id, 'likely_gender'] != names_to_consider.at[oapi_el.id, 'likely_gender_2'])\n",
    "    if (gender_dif):\n",
    "        g_val = 1\n",
    "    names_to_consider.at[oapi_el.id, 'gender_dif'] = gender_dif\n",
    "    names_to_consider.at[oapi_el.id, 'score_dif'] = (names_to_consider.at[oapi_el.id, 'score_2'] - names_to_consider.at[oapi_el.id, 'score'])\n",
    "\n",
    "print('Dataframe completed with API results. Here is a sample: {}'.format(names_to_consider[:50]))"
   ]
  },
  {
   "cell_type": "code",
   "execution_count": 48,
   "metadata": {},
   "outputs": [
    {
     "name": "stdout",
     "output_type": "stream",
     "text": [
      "Saving test names...\n",
      "Test names saved!\n"
     ]
    }
   ],
   "source": [
    "print(\"Saving test names...\")\n",
    "names_to_consider.to_csv(\"data/names_improvement_test_3.csv\")\n",
    "print(\"Test names saved!\")"
   ]
  },
  {
   "cell_type": "code",
   "execution_count": 49,
   "metadata": {},
   "outputs": [
    {
     "data": {
      "text/plain": [
       "<matplotlib.collections.PathCollection at 0x194ab6409e8>"
      ]
     },
     "execution_count": 49,
     "metadata": {},
     "output_type": "execute_result"
    },
    {
     "data": {
      "image/png": "[encoded data removed]",
      "text/plain": [
       "<Figure size 432x288 with 1 Axes>"
      ]
     },
     "metadata": {
      "needs_background": "light"
     },
     "output_type": "display_data"
    }
   ],
   "source": [
    "import matplotlib.pyplot as plt\n",
    "\n",
    "plt.scatter(x=names_to_consider['gender_dif'], y=names_to_consider['score_2'])"
   ]
  },
  {
   "cell_type": "code",
   "execution_count": 50,
   "metadata": {},
   "outputs": [
    {
     "data": {
      "text/plain": [
       "<matplotlib.axes._subplots.AxesSubplot at 0x194b198c2b0>"
      ]
     },
     "execution_count": 50,
     "metadata": {},
     "output_type": "execute_result"
    },
    {
     "data": {
      "image/png": "[encoded data removed]",
      "text/plain": [
       "<Figure size 432x288 with 1 Axes>"
      ]
     },
     "metadata": {
      "needs_background": "light"
     },
     "output_type": "display_data"
    }
   ],
   "source": [
    "names_to_consider['score_2'].hist(bins=7)"
   ]
  },
  {
   "cell_type": "code",
   "execution_count": 53,
   "metadata": {},
   "outputs": [
    {
     "data": {
      "text/plain": [
       "<matplotlib.axes._subplots.AxesSubplot at 0x194b171e550>"
      ]
     },
     "execution_count": 53,
     "metadata": {},
     "output_type": "execute_result"
    },
    {
     "data": {
      "image/png": "[encoded data removed]",
      "text/plain": [
       "<Figure size 432x288 with 1 Axes>"
      ]
     },
     "metadata": {
      "needs_background": "light"
     },
     "output_type": "display_data"
    }
   ],
   "source": [
    "names['score'].hist()"
   ]
  },
  {
   "cell_type": "code",
   "execution_count": 51,
   "metadata": {},
   "outputs": [
    {
     "data": {
      "text/plain": [
       "<matplotlib.axes._subplots.AxesSubplot at 0x194b1703518>"
      ]
     },
     "execution_count": 51,
     "metadata": {},
     "output_type": "execute_result"
    },
    {
     "data": {
      "image/png": "[encoded data removed]",
      "text/plain": [
       "<Figure size 432x288 with 1 Axes>"
      ]
     },
     "metadata": {
      "needs_background": "light"
     },
     "output_type": "display_data"
    }
   ],
   "source": [
    "names_to_consider['score'].hist(bins=3)"
   ]
  },
  {
   "cell_type": "code",
   "execution_count": 54,
   "metadata": {},
   "outputs": [
    {
     "data": {
      "text/plain": [
       "<matplotlib.axes._subplots.AxesSubplot at 0x194b178b6a0>"
      ]
     },
     "execution_count": 54,
     "metadata": {},
     "output_type": "execute_result"
    },
    {
     "data": {
      "image/png": "[encoded data removed]",
      "text/plain": [
       "<Figure size 432x288 with 1 Axes>"
      ]
     },
     "metadata": {
      "needs_background": "light"
     },
     "output_type": "display_data"
    }
   ],
   "source": [
    "names_to_consider['score_dif'].hist()"
   ]
  },
  {
   "cell_type": "code",
   "execution_count": 55,
   "metadata": {},
   "outputs": [],
   "source": [
    "names_by_score_dif = names_to_consider.groupby(['score_dif', 'gender_dif'])"
   ]
  },
  {
   "cell_type": "code",
   "execution_count": 56,
   "metadata": {},
   "outputs": [],
   "source": [
    "names_by_score_dif = names_by_score_dif.agg({'score':'count'}) # score just counts how many entries there are per score_dif and gender_dif"
   ]
  },
  {
   "cell_type": "code",
   "execution_count": 57,
   "metadata": {},
   "outputs": [],
   "source": [
    "score_diffs = list(map(lambda x: x[0], names_by_score_dif.index.values))\n",
    "gender_diffs = list(map(lambda x: x[1], names_by_score_dif.index.values))"
   ]
  },
  {
   "cell_type": "code",
   "execution_count": 58,
   "metadata": {},
   "outputs": [
    {
     "data": {
      "text/plain": [
       "<matplotlib.collections.PathCollection at 0x194b18d9780>"
      ]
     },
     "execution_count": 58,
     "metadata": {},
     "output_type": "execute_result"
    },
    {
     "data": {
      "image/png": "[encoded data removed]",
      "text/plain": [
       "<Figure size 432x288 with 1 Axes>"
      ]
     },
     "metadata": {
      "needs_background": "light"
     },
     "output_type": "display_data"
    }
   ],
   "source": [
    "plt.scatter(x=score_diffs, y=names_by_score_dif['score'], c=gender_diffs, alpha=0.7)"
   ]
  },
  {
   "cell_type": "code",
   "execution_count": 59,
   "metadata": {},
   "outputs": [
    {
     "data": {
      "text/html": [
       "<div>\n",
       "<style scoped>\n",
       "    .dataframe tbody tr th:only-of-type {\n",
       "        vertical-align: middle;\n",
       "    }\n",
       "\n",
       "    .dataframe tbody tr th {\n",
       "        vertical-align: top;\n",
       "    }\n",
       "\n",
       "    .dataframe thead th {\n",
       "        text-align: right;\n",
       "    }\n",
       "</style>\n",
       "<table border=\"1\" class=\"dataframe\">\n",
       "  <thead>\n",
       "    <tr style=\"text-align: right;\">\n",
       "      <th></th>\n",
       "      <th>n_publs</th>\n",
       "      <th>score</th>\n",
       "      <th>score_2</th>\n",
       "      <th>score_dif</th>\n",
       "    </tr>\n",
       "  </thead>\n",
       "  <tbody>\n",
       "    <tr>\n",
       "      <th>count</th>\n",
       "      <td>1000.000000</td>\n",
       "      <td>1000.00000</td>\n",
       "      <td>999.000000</td>\n",
       "      <td>999.000000</td>\n",
       "    </tr>\n",
       "    <tr>\n",
       "      <th>mean</th>\n",
       "      <td>6.180000</td>\n",
       "      <td>3.77100</td>\n",
       "      <td>3.725726</td>\n",
       "      <td>-0.048048</td>\n",
       "    </tr>\n",
       "    <tr>\n",
       "      <th>std</th>\n",
       "      <td>20.578559</td>\n",
       "      <td>2.42331</td>\n",
       "      <td>2.141032</td>\n",
       "      <td>1.381126</td>\n",
       "    </tr>\n",
       "    <tr>\n",
       "      <th>min</th>\n",
       "      <td>1.000000</td>\n",
       "      <td>0.00000</td>\n",
       "      <td>0.000000</td>\n",
       "      <td>-5.000000</td>\n",
       "    </tr>\n",
       "    <tr>\n",
       "      <th>25%</th>\n",
       "      <td>1.000000</td>\n",
       "      <td>2.00000</td>\n",
       "      <td>2.000000</td>\n",
       "      <td>-1.000000</td>\n",
       "    </tr>\n",
       "    <tr>\n",
       "      <th>50%</th>\n",
       "      <td>1.000000</td>\n",
       "      <td>4.00000</td>\n",
       "      <td>4.000000</td>\n",
       "      <td>0.000000</td>\n",
       "    </tr>\n",
       "    <tr>\n",
       "      <th>75%</th>\n",
       "      <td>4.000000</td>\n",
       "      <td>6.00000</td>\n",
       "      <td>5.000000</td>\n",
       "      <td>1.000000</td>\n",
       "    </tr>\n",
       "    <tr>\n",
       "      <th>max</th>\n",
       "      <td>323.000000</td>\n",
       "      <td>8.00000</td>\n",
       "      <td>10.000000</td>\n",
       "      <td>5.000000</td>\n",
       "    </tr>\n",
       "  </tbody>\n",
       "</table>\n",
       "</div>"
      ],
      "text/plain": [
       "           n_publs       score     score_2   score_dif\n",
       "count  1000.000000  1000.00000  999.000000  999.000000\n",
       "mean      6.180000     3.77100    3.725726   -0.048048\n",
       "std      20.578559     2.42331    2.141032    1.381126\n",
       "min       1.000000     0.00000    0.000000   -5.000000\n",
       "25%       1.000000     2.00000    2.000000   -1.000000\n",
       "50%       1.000000     4.00000    4.000000    0.000000\n",
       "75%       4.000000     6.00000    5.000000    1.000000\n",
       "max     323.000000     8.00000   10.000000    5.000000"
      ]
     },
     "execution_count": 59,
     "metadata": {},
     "output_type": "execute_result"
    }
   ],
   "source": [
    "descriptive_statistics_improved_names_sample1 = names_to_consider.describe()\n",
    "descriptive_statistics_improved_names_sample1"
   ]
  },
  {
   "cell_type": "code",
   "execution_count": 60,
   "metadata": {},
   "outputs": [
    {
     "name": "stdout",
     "output_type": "stream",
     "text": [
      "Saving test names...\n",
      "Test names saved!\n"
     ]
    }
   ],
   "source": [
    "print(\"Saving test names...\")\n",
    "descriptive_statistics_improved_names_sample1.to_csv(\"data/names_improvement_test_3_statistics.csv\")\n",
    "print(\"Test names saved!\")"
   ]
  },
  {
   "cell_type": "code",
   "execution_count": 61,
   "metadata": {},
   "outputs": [],
   "source": [
    "gender_changed = names_to_consider[names_to_consider['gender_dif'] == True]"
   ]
  },
  {
   "cell_type": "code",
   "execution_count": 62,
   "metadata": {},
   "outputs": [
    {
     "data": {
      "text/html": [
       "<div>\n",
       "<style scoped>\n",
       "    .dataframe tbody tr th:only-of-type {\n",
       "        vertical-align: middle;\n",
       "    }\n",
       "\n",
       "    .dataframe tbody tr th {\n",
       "        vertical-align: top;\n",
       "    }\n",
       "\n",
       "    .dataframe thead th {\n",
       "        text-align: right;\n",
       "    }\n",
       "</style>\n",
       "<table border=\"1\" class=\"dataframe\">\n",
       "  <thead>\n",
       "    <tr style=\"text-align: right;\">\n",
       "      <th></th>\n",
       "      <th>n_publs</th>\n",
       "      <th>score</th>\n",
       "      <th>score_2</th>\n",
       "      <th>score_dif</th>\n",
       "    </tr>\n",
       "  </thead>\n",
       "  <tbody>\n",
       "    <tr>\n",
       "      <th>count</th>\n",
       "      <td>55.000000</td>\n",
       "      <td>55.000000</td>\n",
       "      <td>55.000000</td>\n",
       "      <td>55.000000</td>\n",
       "    </tr>\n",
       "    <tr>\n",
       "      <th>mean</th>\n",
       "      <td>6.654545</td>\n",
       "      <td>0.818182</td>\n",
       "      <td>1.000000</td>\n",
       "      <td>0.181818</td>\n",
       "    </tr>\n",
       "    <tr>\n",
       "      <th>std</th>\n",
       "      <td>19.292311</td>\n",
       "      <td>1.388990</td>\n",
       "      <td>1.122167</td>\n",
       "      <td>1.415403</td>\n",
       "    </tr>\n",
       "    <tr>\n",
       "      <th>min</th>\n",
       "      <td>1.000000</td>\n",
       "      <td>0.000000</td>\n",
       "      <td>0.000000</td>\n",
       "      <td>-5.000000</td>\n",
       "    </tr>\n",
       "    <tr>\n",
       "      <th>25%</th>\n",
       "      <td>1.000000</td>\n",
       "      <td>0.000000</td>\n",
       "      <td>0.000000</td>\n",
       "      <td>0.000000</td>\n",
       "    </tr>\n",
       "    <tr>\n",
       "      <th>50%</th>\n",
       "      <td>1.000000</td>\n",
       "      <td>0.000000</td>\n",
       "      <td>1.000000</td>\n",
       "      <td>0.000000</td>\n",
       "    </tr>\n",
       "    <tr>\n",
       "      <th>75%</th>\n",
       "      <td>3.000000</td>\n",
       "      <td>1.000000</td>\n",
       "      <td>1.000000</td>\n",
       "      <td>1.000000</td>\n",
       "    </tr>\n",
       "    <tr>\n",
       "      <th>max</th>\n",
       "      <td>128.000000</td>\n",
       "      <td>7.000000</td>\n",
       "      <td>6.000000</td>\n",
       "      <td>3.000000</td>\n",
       "    </tr>\n",
       "  </tbody>\n",
       "</table>\n",
       "</div>"
      ],
      "text/plain": [
       "          n_publs      score    score_2  score_dif\n",
       "count   55.000000  55.000000  55.000000  55.000000\n",
       "mean     6.654545   0.818182   1.000000   0.181818\n",
       "std     19.292311   1.388990   1.122167   1.415403\n",
       "min      1.000000   0.000000   0.000000  -5.000000\n",
       "25%      1.000000   0.000000   0.000000   0.000000\n",
       "50%      1.000000   0.000000   1.000000   0.000000\n",
       "75%      3.000000   1.000000   1.000000   1.000000\n",
       "max    128.000000   7.000000   6.000000   3.000000"
      ]
     },
     "execution_count": 62,
     "metadata": {},
     "output_type": "execute_result"
    }
   ],
   "source": [
    "gender_changed.describe()"
   ]
  },
  {
   "cell_type": "code",
   "execution_count": 63,
   "metadata": {},
   "outputs": [],
   "source": [
    "gender_changed_more_certain = gender_changed[gender_changed['score_dif'] > 0]"
   ]
  },
  {
   "cell_type": "code",
   "execution_count": 64,
   "metadata": {},
   "outputs": [
    {
     "data": {
      "text/html": [
       "<div>\n",
       "<style scoped>\n",
       "    .dataframe tbody tr th:only-of-type {\n",
       "        vertical-align: middle;\n",
       "    }\n",
       "\n",
       "    .dataframe tbody tr th {\n",
       "        vertical-align: top;\n",
       "    }\n",
       "\n",
       "    .dataframe thead th {\n",
       "        text-align: right;\n",
       "    }\n",
       "</style>\n",
       "<table border=\"1\" class=\"dataframe\">\n",
       "  <thead>\n",
       "    <tr style=\"text-align: right;\">\n",
       "      <th></th>\n",
       "      <th>n_publs</th>\n",
       "      <th>score</th>\n",
       "      <th>score_2</th>\n",
       "      <th>score_dif</th>\n",
       "    </tr>\n",
       "  </thead>\n",
       "  <tbody>\n",
       "    <tr>\n",
       "      <th>count</th>\n",
       "      <td>23.000000</td>\n",
       "      <td>23.000000</td>\n",
       "      <td>23.000000</td>\n",
       "      <td>23.000000</td>\n",
       "    </tr>\n",
       "    <tr>\n",
       "      <th>mean</th>\n",
       "      <td>5.521739</td>\n",
       "      <td>0.260870</td>\n",
       "      <td>1.652174</td>\n",
       "      <td>1.391304</td>\n",
       "    </tr>\n",
       "    <tr>\n",
       "      <th>std</th>\n",
       "      <td>9.074788</td>\n",
       "      <td>0.751809</td>\n",
       "      <td>1.300654</td>\n",
       "      <td>0.656376</td>\n",
       "    </tr>\n",
       "    <tr>\n",
       "      <th>min</th>\n",
       "      <td>1.000000</td>\n",
       "      <td>0.000000</td>\n",
       "      <td>1.000000</td>\n",
       "      <td>1.000000</td>\n",
       "    </tr>\n",
       "    <tr>\n",
       "      <th>25%</th>\n",
       "      <td>1.000000</td>\n",
       "      <td>0.000000</td>\n",
       "      <td>1.000000</td>\n",
       "      <td>1.000000</td>\n",
       "    </tr>\n",
       "    <tr>\n",
       "      <th>50%</th>\n",
       "      <td>2.000000</td>\n",
       "      <td>0.000000</td>\n",
       "      <td>1.000000</td>\n",
       "      <td>1.000000</td>\n",
       "    </tr>\n",
       "    <tr>\n",
       "      <th>75%</th>\n",
       "      <td>4.500000</td>\n",
       "      <td>0.000000</td>\n",
       "      <td>2.000000</td>\n",
       "      <td>2.000000</td>\n",
       "    </tr>\n",
       "    <tr>\n",
       "      <th>max</th>\n",
       "      <td>40.000000</td>\n",
       "      <td>3.000000</td>\n",
       "      <td>6.000000</td>\n",
       "      <td>3.000000</td>\n",
       "    </tr>\n",
       "  </tbody>\n",
       "</table>\n",
       "</div>"
      ],
      "text/plain": [
       "         n_publs      score    score_2  score_dif\n",
       "count  23.000000  23.000000  23.000000  23.000000\n",
       "mean    5.521739   0.260870   1.652174   1.391304\n",
       "std     9.074788   0.751809   1.300654   0.656376\n",
       "min     1.000000   0.000000   1.000000   1.000000\n",
       "25%     1.000000   0.000000   1.000000   1.000000\n",
       "50%     2.000000   0.000000   1.000000   1.000000\n",
       "75%     4.500000   0.000000   2.000000   2.000000\n",
       "max    40.000000   3.000000   6.000000   3.000000"
      ]
     },
     "execution_count": 64,
     "metadata": {},
     "output_type": "execute_result"
    }
   ],
   "source": [
    "gender_changed_more_certain.describe()"
   ]
  },
  {
   "cell_type": "code",
   "execution_count": 65,
   "metadata": {},
   "outputs": [],
   "source": [
    "score_improved = names_to_consider[names_to_consider['score_dif'] > 0]"
   ]
  },
  {
   "cell_type": "code",
   "execution_count": 66,
   "metadata": {},
   "outputs": [
    {
     "data": {
      "text/html": [
       "<div>\n",
       "<style scoped>\n",
       "    .dataframe tbody tr th:only-of-type {\n",
       "        vertical-align: middle;\n",
       "    }\n",
       "\n",
       "    .dataframe tbody tr th {\n",
       "        vertical-align: top;\n",
       "    }\n",
       "\n",
       "    .dataframe thead th {\n",
       "        text-align: right;\n",
       "    }\n",
       "</style>\n",
       "<table border=\"1\" class=\"dataframe\">\n",
       "  <thead>\n",
       "    <tr style=\"text-align: right;\">\n",
       "      <th></th>\n",
       "      <th>n_publs</th>\n",
       "      <th>score</th>\n",
       "      <th>score_2</th>\n",
       "      <th>score_dif</th>\n",
       "    </tr>\n",
       "  </thead>\n",
       "  <tbody>\n",
       "    <tr>\n",
       "      <th>count</th>\n",
       "      <td>302.000000</td>\n",
       "      <td>302.000000</td>\n",
       "      <td>302.000000</td>\n",
       "      <td>302.000000</td>\n",
       "    </tr>\n",
       "    <tr>\n",
       "      <th>mean</th>\n",
       "      <td>7.496689</td>\n",
       "      <td>2.549669</td>\n",
       "      <td>4.066225</td>\n",
       "      <td>1.516556</td>\n",
       "    </tr>\n",
       "    <tr>\n",
       "      <th>std</th>\n",
       "      <td>25.718350</td>\n",
       "      <td>2.097899</td>\n",
       "      <td>2.075546</td>\n",
       "      <td>0.873031</td>\n",
       "    </tr>\n",
       "    <tr>\n",
       "      <th>min</th>\n",
       "      <td>1.000000</td>\n",
       "      <td>0.000000</td>\n",
       "      <td>1.000000</td>\n",
       "      <td>1.000000</td>\n",
       "    </tr>\n",
       "    <tr>\n",
       "      <th>25%</th>\n",
       "      <td>1.000000</td>\n",
       "      <td>1.000000</td>\n",
       "      <td>2.250000</td>\n",
       "      <td>1.000000</td>\n",
       "    </tr>\n",
       "    <tr>\n",
       "      <th>50%</th>\n",
       "      <td>1.000000</td>\n",
       "      <td>2.000000</td>\n",
       "      <td>4.000000</td>\n",
       "      <td>1.000000</td>\n",
       "    </tr>\n",
       "    <tr>\n",
       "      <th>75%</th>\n",
       "      <td>4.000000</td>\n",
       "      <td>4.000000</td>\n",
       "      <td>5.000000</td>\n",
       "      <td>2.000000</td>\n",
       "    </tr>\n",
       "    <tr>\n",
       "      <th>max</th>\n",
       "      <td>323.000000</td>\n",
       "      <td>8.000000</td>\n",
       "      <td>10.000000</td>\n",
       "      <td>5.000000</td>\n",
       "    </tr>\n",
       "  </tbody>\n",
       "</table>\n",
       "</div>"
      ],
      "text/plain": [
       "          n_publs       score     score_2   score_dif\n",
       "count  302.000000  302.000000  302.000000  302.000000\n",
       "mean     7.496689    2.549669    4.066225    1.516556\n",
       "std     25.718350    2.097899    2.075546    0.873031\n",
       "min      1.000000    0.000000    1.000000    1.000000\n",
       "25%      1.000000    1.000000    2.250000    1.000000\n",
       "50%      1.000000    2.000000    4.000000    1.000000\n",
       "75%      4.000000    4.000000    5.000000    2.000000\n",
       "max    323.000000    8.000000   10.000000    5.000000"
      ]
     },
     "execution_count": 66,
     "metadata": {},
     "output_type": "execute_result"
    }
   ],
   "source": [
    "score_improved.describe()"
   ]
  },
  {
   "cell_type": "code",
   "execution_count": null,
   "metadata": {},
   "outputs": [],
   "source": [
    "# Score <= 3:\n",
    "# The gender assumption changed for only 100 of 1000 entries \n",
    "# (assuming the gender change is valid if the new score is higher than the old score, which is the case in 44 cases)\n",
    "\n",
    "# The score improves on average by 0.48 with a std of 1.21. \n",
    "# The mean improvement is 0, the 25% quartile is 0, the 75% quartile is 1.\n",
    "# The score is at maximum improved by 7 and in the worst case decreased by 2.\n",
    "\n",
    "# Score <= 8:\n",
    "# Score dif is negative on average!\n",
    "# 55 gender changes, only 23 valid\n",
    "# Score improved in only 302 cases"
   ]
  },
  {
   "cell_type": "code",
   "execution_count": null,
   "metadata": {},
   "outputs": [],
   "source": []
  }
 ],
 "metadata": {
  "kernelspec": {
   "display_name": "Python 3",
   "language": "python",
   "name": "python3"
  },
  "language_info": {
   "codemirror_mode": {
    "name": "ipython",
    "version": 3
   },
   "file_extension": ".py",
   "mimetype": "text/x-python",
   "name": "python",
   "nbconvert_exporter": "python",
   "pygments_lexer": "ipython3",
   "version": "3.7.3"
  }
 },
 "nbformat": 4,
 "nbformat_minor": 2
}
