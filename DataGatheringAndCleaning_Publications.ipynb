{
 "cells": [
  {
   "cell_type": "code",
   "execution_count": 1,
   "metadata": {},
   "outputs": [
    {
     "name": "stdout",
     "output_type": "stream",
     "text": [
      "Starting to parse XML file at 2019-04-20 18:20:05.122255 ...\n",
      "Finished parsing XML file at 2019-04-20 19:24:04.928401 ! \n",
      "Found 4544385 entries! \n"
     ]
    }
   ],
   "source": [
    "import datetime\n",
    "import xml.etree.ElementTree as ET\n",
    "parser = ET.XMLParser()\n",
    "    \n",
    "file = 'data/clean_dblp.xml'\n",
    "\n",
    "time = datetime.datetime.now()\n",
    "print(\"Starting to parse XML file at {} ...\".format(time))\n",
    "tree = ET.parse(file, parser=parser)\n",
    "time = datetime.datetime.now()\n",
    "print(\"Finished parsing XML file at {} ! \".format(time))\n",
    "root = tree.getroot()\n",
    "print(\"Found {} entries! \".format(len(root)))"
   ]
  },
  {
   "cell_type": "code",
   "execution_count": 2,
   "metadata": {},
   "outputs": [],
   "source": [
    "def get_gender_picture(names):\n",
    "    # TODO:\n",
    "    # Get amount of male / female authors\n",
    "    # Calculate amount of authors of unknown gender\n",
    "    # Calculate the diversity ratio (How?)\n",
    "    return {\n",
    "        'males': 0,\n",
    "        'females': 0,\n",
    "        'unknowns': 0,\n",
    "        'ratio': 0\n",
    "    }"
   ]
  },
  {
   "cell_type": "code",
   "execution_count": 24,
   "metadata": {},
   "outputs": [
    {
     "name": "stdout",
     "output_type": "stream",
     "text": [
      "Starting to extract publications...\n",
      "phd/dk/Heine2010\n"
     ]
    },
    {
     "ename": "TypeError",
     "evalue": "list indices must be integers or slices, not str",
     "output_type": "error",
     "traceback": [
      "\u001b[1;31m---------------------------------------------------------------------------\u001b[0m",
      "\u001b[1;31mTypeError\u001b[0m                                 Traceback (most recent call last)",
      "\u001b[1;32m<ipython-input-24-86d650dc7704>\u001b[0m in \u001b[0;36m<module>\u001b[1;34m\u001b[0m\n\u001b[0;32m     44\u001b[0m         \u001b[1;34m'n_females'\u001b[0m\u001b[1;33m:\u001b[0m \u001b[0mn_females\u001b[0m\u001b[1;33m,\u001b[0m\u001b[1;33m\u001b[0m\u001b[1;33m\u001b[0m\u001b[0m\n\u001b[0;32m     45\u001b[0m         \u001b[1;34m'n_unknown'\u001b[0m\u001b[1;33m:\u001b[0m \u001b[0mn_unknown\u001b[0m\u001b[1;33m,\u001b[0m\u001b[1;33m\u001b[0m\u001b[1;33m\u001b[0m\u001b[0m\n\u001b[1;32m---> 46\u001b[1;33m         \u001b[1;34m'ratio'\u001b[0m\u001b[1;33m:\u001b[0m \u001b[0mratio\u001b[0m\u001b[1;33m\u001b[0m\u001b[1;33m\u001b[0m\u001b[0m\n\u001b[0m\u001b[0;32m     47\u001b[0m     }\n\u001b[0;32m     48\u001b[0m \u001b[1;33m\u001b[0m\u001b[0m\n",
      "\u001b[1;31mTypeError\u001b[0m: list indices must be integers or slices, not str"
     ]
    }
   ],
   "source": [
    "# Get all authors\n",
    "publications_complete = []\n",
    "\n",
    "print(\"Starting to extract publications...\")\n",
    "\n",
    "for child in root[:10]:\n",
    "    # Extract: key, category of publication, \n",
    "    key = child.get('key')\n",
    "    print(key)\n",
    "    pub_cat = child.tag\n",
    "    \n",
    "    # Optionally extract: title, year of publication, publtype, pages\n",
    "    titles = child.findall(\"title\")\n",
    "    if(len(titles) > 0): title = titles[0].text\n",
    "    \n",
    "    years = child.findall(\"year\")\n",
    "    if(len(years) > 0): year = years[0].text\n",
    "    \n",
    "    pub_type = child.get('publtype')\n",
    "    \n",
    "    # Get authors\n",
    "    authors = child.findall(\"author\")\n",
    "    names = []\n",
    "    \n",
    "    for author in authors:\n",
    "        names.append(author.text)\n",
    "    \n",
    "    gender_pic = get_gender_picture(names)\n",
    "    n_males = gender_pic['males']\n",
    "    n_females = gender_pic['females']\n",
    "    n_unknown = gender_pic['unknowns']\n",
    "    ratio = gender_pic['ratio']\n",
    "    \n",
    "    # Add publication entry\n",
    "    publications_complete[key] = {\n",
    "        'key': key,\n",
    "        'pub_cat': pub_cat,\n",
    "        'pub_type': pub_type,\n",
    "        'title': title,\n",
    "        'year': year,\n",
    "        'authors': names,\n",
    "        'n_authors': len(names),\n",
    "        'n_males': n_males,\n",
    "        'n_females': n_females,\n",
    "        'n_unknown': n_unknown,\n",
    "        'ratio': ratio\n",
    "    }\n",
    "        \n",
    "print(\"Finished extracting author names! Found {} entries.\".format(len(publications_complete)))"
   ]
  },
  {
   "cell_type": "code",
   "execution_count": 19,
   "metadata": {},
   "outputs": [
    {
     "data": {
      "text/plain": [
       "[{'key': 'phd/dk/Heine2010',\n",
       "  'pub_cat': 'phdthesis',\n",
       "  'pub_type': None,\n",
       "  'title': 'Modell zur Produktion von Online-Hilfen.',\n",
       "  'year': '2010',\n",
       "  'authors': ['Carmen Heine'],\n",
       "  'n_authors': 1,\n",
       "  'n_males': 0,\n",
       "  'n_females': 0,\n",
       "  'n_unknown': 0,\n",
       "  'ratio': 0},\n",
       " {'key': 'phd/Hoff2002',\n",
       "  'pub_cat': 'phdthesis',\n",
       "  'pub_type': None,\n",
       "  'title': 'Ein Verfahren zur thematisch spezialisierten Suche im Web und seine Realisierung im Prototypen HomePageSearch',\n",
       "  'year': '2002',\n",
       "  'authors': ['Gerd Hoff'],\n",
       "  'n_authors': 1,\n",
       "  'n_males': 0,\n",
       "  'n_females': 0,\n",
       "  'n_unknown': 0,\n",
       "  'ratio': 0},\n",
       " {'key': 'phd/Seltzer92',\n",
       "  'pub_cat': 'phdthesis',\n",
       "  'pub_type': None,\n",
       "  'title': 'File System Performance and Transaction Support.',\n",
       "  'year': '1992',\n",
       "  'authors': ['Margo I. Seltzer'],\n",
       "  'n_authors': 1,\n",
       "  'n_males': 0,\n",
       "  'n_females': 0,\n",
       "  'n_unknown': 0,\n",
       "  'ratio': 0},\n",
       " {'key': 'phd/Rothkugel2002',\n",
       "  'pub_cat': 'phdthesis',\n",
       "  'pub_type': None,\n",
       "  'title': 'Towards Middleware Support for Mobile and Cellular Networks: core problems and illustrated approaches.',\n",
       "  'year': '2002',\n",
       "  'authors': ['Steffen Rothkugel'],\n",
       "  'n_authors': 1,\n",
       "  'n_males': 0,\n",
       "  'n_females': 0,\n",
       "  'n_unknown': 0,\n",
       "  'ratio': 0},\n",
       " {'key': 'phd/Chervenak94',\n",
       "  'pub_cat': 'phdthesis',\n",
       "  'pub_type': None,\n",
       "  'title': 'Tertiary Storage: An Evaluation of New Applications',\n",
       "  'year': '1994',\n",
       "  'authors': ['Ann L. Chervenak'],\n",
       "  'n_authors': 1,\n",
       "  'n_males': 0,\n",
       "  'n_females': 0,\n",
       "  'n_unknown': 0,\n",
       "  'ratio': 0},\n",
       " {'key': 'phd/Schiwietz93',\n",
       "  'pub_cat': 'phdthesis',\n",
       "  'pub_type': None,\n",
       "  'title': 'Speicherung und Anfragebearbeitung komplexer Geo-Objekte',\n",
       "  'year': '1993',\n",
       "  'authors': ['Michael Schiwietz'],\n",
       "  'n_authors': 1,\n",
       "  'n_males': 0,\n",
       "  'n_females': 0,\n",
       "  'n_unknown': 0,\n",
       "  'ratio': 0},\n",
       " {'key': 'phd/Beferull-Lozano02',\n",
       "  'pub_cat': 'phdthesis',\n",
       "  'pub_type': None,\n",
       "  'title': 'Quantization Design for Structured Overcomplete Expansions.',\n",
       "  'year': '2002',\n",
       "  'authors': ['Baltasar Beferull-Lozano'],\n",
       "  'n_authors': 1,\n",
       "  'n_males': 0,\n",
       "  'n_females': 0,\n",
       "  'n_unknown': 0,\n",
       "  'ratio': 0},\n",
       " {'key': 'phd/Bohlen94',\n",
       "  'pub_cat': 'phdthesis',\n",
       "  'pub_type': None,\n",
       "  'title': 'The Temporal Deductive Database System ChronoLog',\n",
       "  'year': '1994',\n",
       "  'authors': ['Michael H. Böhlen'],\n",
       "  'n_authors': 1,\n",
       "  'n_males': 0,\n",
       "  'n_females': 0,\n",
       "  'n_unknown': 0,\n",
       "  'ratio': 0},\n",
       " {'key': 'phd/ethos/Charters06',\n",
       "  'pub_cat': 'phdthesis',\n",
       "  'pub_type': None,\n",
       "  'title': 'Virtualising visualisation : a distributed service based approach to visualisation on the Grid.',\n",
       "  'year': '2006',\n",
       "  'authors': ['Stuart M. Charters'],\n",
       "  'n_authors': 1,\n",
       "  'n_males': 0,\n",
       "  'n_females': 0,\n",
       "  'n_unknown': 0,\n",
       "  'ratio': 0},\n",
       " {'key': 'phd/ethos/Wyvill75',\n",
       "  'pub_cat': 'phdthesis',\n",
       "  'pub_type': None,\n",
       "  'title': 'An Interactive Graphics Language.',\n",
       "  'year': '1975',\n",
       "  'authors': ['Brian Wyvill'],\n",
       "  'n_authors': 1,\n",
       "  'n_males': 0,\n",
       "  'n_females': 0,\n",
       "  'n_unknown': 0,\n",
       "  'ratio': 0}]"
      ]
     },
     "execution_count": 19,
     "metadata": {},
     "output_type": "execute_result"
    }
   ],
   "source": [
    "publications_complete"
   ]
  },
  {
   "cell_type": "code",
   "execution_count": 22,
   "metadata": {},
   "outputs": [
    {
     "ename": "AttributeError",
     "evalue": "type object 'pandas._libs.tslibs.conversion._TSObject' has no attribute '__reduce_cython__'",
     "output_type": "error",
     "traceback": [
      "\u001b[1;31m---------------------------------------------------------------------------\u001b[0m",
      "\u001b[1;31mAttributeError\u001b[0m                            Traceback (most recent call last)",
      "\u001b[1;32m<ipython-input-22-0306937b2cd9>\u001b[0m in \u001b[0;36m<module>\u001b[1;34m\u001b[0m\n\u001b[1;32m----> 1\u001b[1;33m \u001b[1;32mimport\u001b[0m \u001b[0mpandas\u001b[0m \u001b[1;32mas\u001b[0m \u001b[0mpd\u001b[0m\u001b[1;33m\u001b[0m\u001b[1;33m\u001b[0m\u001b[0m\n\u001b[0m\u001b[0;32m      2\u001b[0m \u001b[1;33m\u001b[0m\u001b[0m\n\u001b[0;32m      3\u001b[0m \u001b[1;31m# Dict to dataframe: https://pandas.pydata.org/pandas-docs/stable/reference/api/pandas.DataFrame.from_dict.html\u001b[0m\u001b[1;33m\u001b[0m\u001b[1;33m\u001b[0m\u001b[1;33m\u001b[0m\u001b[0m\n\u001b[0;32m      4\u001b[0m \u001b[0mprint\u001b[0m\u001b[1;33m(\u001b[0m\u001b[1;34m\"Converting dictionary of publications to a dataframe...\"\u001b[0m\u001b[1;33m)\u001b[0m\u001b[1;33m\u001b[0m\u001b[1;33m\u001b[0m\u001b[0m\n\u001b[0;32m      5\u001b[0m \u001b[0mpublications\u001b[0m \u001b[1;33m=\u001b[0m \u001b[0mpd\u001b[0m\u001b[1;33m.\u001b[0m\u001b[0mDataFrame\u001b[0m\u001b[1;33m.\u001b[0m\u001b[0mfrom_dict\u001b[0m\u001b[1;33m(\u001b[0m\u001b[0mpublications_complete\u001b[0m\u001b[1;33m)\u001b[0m\u001b[1;33m\u001b[0m\u001b[1;33m\u001b[0m\u001b[0m\n",
      "\u001b[1;32m~\\Anaconda3\\lib\\site-packages\\pandas\\__init__.py\u001b[0m in \u001b[0;36m<module>\u001b[1;34m\u001b[0m\n\u001b[0;32m     24\u001b[0m \u001b[1;33m\u001b[0m\u001b[0m\n\u001b[0;32m     25\u001b[0m \u001b[1;32mtry\u001b[0m\u001b[1;33m:\u001b[0m\u001b[1;33m\u001b[0m\u001b[1;33m\u001b[0m\u001b[0m\n\u001b[1;32m---> 26\u001b[1;33m     from pandas._libs import (hashtable as _hashtable,\n\u001b[0m\u001b[0;32m     27\u001b[0m                              \u001b[0mlib\u001b[0m \u001b[1;32mas\u001b[0m \u001b[0m_lib\u001b[0m\u001b[1;33m,\u001b[0m\u001b[1;33m\u001b[0m\u001b[1;33m\u001b[0m\u001b[0m\n\u001b[0;32m     28\u001b[0m                              tslib as _tslib)\n",
      "\u001b[1;32m~\\Anaconda3\\lib\\site-packages\\pandas\\_libs\\__init__.py\u001b[0m in \u001b[0;36m<module>\u001b[1;34m\u001b[0m\n\u001b[0;32m      2\u001b[0m \u001b[1;31m# flake8: noqa\u001b[0m\u001b[1;33m\u001b[0m\u001b[1;33m\u001b[0m\u001b[1;33m\u001b[0m\u001b[0m\n\u001b[0;32m      3\u001b[0m \u001b[1;33m\u001b[0m\u001b[0m\n\u001b[1;32m----> 4\u001b[1;33m from .tslibs import (\n\u001b[0m\u001b[0;32m      5\u001b[0m     iNaT, NaT, Timestamp, Timedelta, OutOfBoundsDatetime, Period)\n",
      "\u001b[1;32m~\\Anaconda3\\lib\\site-packages\\pandas\\_libs\\tslibs\\__init__.py\u001b[0m in \u001b[0;36m<module>\u001b[1;34m\u001b[0m\n\u001b[0;32m      2\u001b[0m \u001b[1;31m# flake8: noqa\u001b[0m\u001b[1;33m\u001b[0m\u001b[1;33m\u001b[0m\u001b[1;33m\u001b[0m\u001b[0m\n\u001b[0;32m      3\u001b[0m \u001b[1;33m\u001b[0m\u001b[0m\n\u001b[1;32m----> 4\u001b[1;33m \u001b[1;32mfrom\u001b[0m \u001b[1;33m.\u001b[0m\u001b[0mconversion\u001b[0m \u001b[1;32mimport\u001b[0m \u001b[0mnormalize_date\u001b[0m\u001b[1;33m,\u001b[0m \u001b[0mlocalize_pydatetime\u001b[0m\u001b[1;33m,\u001b[0m \u001b[0mtz_convert_single\u001b[0m\u001b[1;33m\u001b[0m\u001b[1;33m\u001b[0m\u001b[0m\n\u001b[0m\u001b[0;32m      5\u001b[0m \u001b[1;32mfrom\u001b[0m \u001b[1;33m.\u001b[0m\u001b[0mnattype\u001b[0m \u001b[1;32mimport\u001b[0m \u001b[0mNaT\u001b[0m\u001b[1;33m,\u001b[0m \u001b[0miNaT\u001b[0m\u001b[1;33m,\u001b[0m \u001b[0mis_null_datetimelike\u001b[0m\u001b[1;33m\u001b[0m\u001b[1;33m\u001b[0m\u001b[0m\n\u001b[0;32m      6\u001b[0m \u001b[1;32mfrom\u001b[0m \u001b[1;33m.\u001b[0m\u001b[0mnp_datetime\u001b[0m \u001b[1;32mimport\u001b[0m \u001b[0mOutOfBoundsDatetime\u001b[0m\u001b[1;33m\u001b[0m\u001b[1;33m\u001b[0m\u001b[0m\n",
      "\u001b[1;32mpandas/_libs/tslibs/conversion.pyx\u001b[0m in \u001b[0;36minit pandas._libs.tslibs.conversion\u001b[1;34m()\u001b[0m\n",
      "\u001b[1;31mAttributeError\u001b[0m: type object 'pandas._libs.tslibs.conversion._TSObject' has no attribute '__reduce_cython__'"
     ]
    }
   ],
   "source": [
    "import pandas as pd\n",
    "\n",
    "# Dict to dataframe: https://pandas.pydata.org/pandas-docs/stable/reference/api/pandas.DataFrame.from_dict.html\n",
    "print(\"Converting dictionary of publications to a dataframe...\")\n",
    "names = pd.DataFrame.from_dict(publications_complete, orient='index', dtype=None)\n",
    "print(\"Dataframe completed! Here are some entries: {}\".format(publications[:10]))"
   ]
  },
  {
   "cell_type": "code",
   "execution_count": null,
   "metadata": {},
   "outputs": [],
   "source": [
    "# Save Dataframe to CSV: https://riptutorial.com/pandas/example/19502/create-random-dataframe-and-write-to--csv\n",
    "print(\"Saving dataframe as CSV...\")\n",
    "publications.to_csv(\"data/publications.csv\")\n",
    "print(\"Publications saved as CSV!\")"
   ]
  }
 ],
 "metadata": {
  "kernelspec": {
   "display_name": "Python 3",
   "language": "python",
   "name": "python3"
  },
  "language_info": {
   "codemirror_mode": {
    "name": "ipython",
    "version": 3
   },
   "file_extension": ".py",
   "mimetype": "text/x-python",
   "name": "python",
   "nbconvert_exporter": "python",
   "pygments_lexer": "ipython3",
   "version": "3.7.3"
  }
 },
 "nbformat": 4,
 "nbformat_minor": 2
}
