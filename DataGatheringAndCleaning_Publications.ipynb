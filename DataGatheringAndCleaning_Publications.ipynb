{
 "cells": [
  {
   "cell_type": "code",
   "execution_count": null,
   "metadata": {},
   "outputs": [],
   "source": [
    "import datetime\n",
    "import xml.etree.ElementTree as ET\n",
    "parser = ET.XMLParser()\n",
    "    \n",
    "file = 'data/clean_dblp.xml'\n",
    "\n",
    "time = datetime.datetime.now()\n",
    "print(\"Starting to parse XML file at {} ...\".format(time))\n",
    "tree = ET.parse(file, parser=parser)\n",
    "time = datetime.datetime.now()\n",
    "print(\"Finished parsing XML file at {} ! \".format(time))\n",
    "root = tree.getroot()\n",
    "print(\"Found {} entries! \".format(len(root)))"
   ]
  },
  {
   "cell_type": "code",
   "execution_count": null,
   "metadata": {},
   "outputs": [],
   "source": [
    "def get_gender_picture(names):\n",
    "    "
   ]
  },
  {
   "cell_type": "code",
   "execution_count": null,
   "metadata": {},
   "outputs": [],
   "source": [
    "# Get all authors\n",
    "publications_complete = {}\n",
    "\n",
    "print(\"Starting to extract publications...\")\n",
    "\n",
    "for child in root:\n",
    "    # Extract: key, category of publication, \n",
    "    key = child.get('key')\n",
    "    pub_cat = child.tag\n",
    "    \n",
    "    # Optionally extract: title, year of publication, publtype, pages\n",
    "    titles = child.findall(\"title\")\n",
    "    if(len(titles) > 0): title = titles[0].text\n",
    "    \n",
    "    years = child.findall(\"year\")\n",
    "    if(len(years) > 0): year = years[0].text\n",
    "    \n",
    "    pub_type = child.get('publtype')\n",
    "    \n",
    "    # Get authors\n",
    "    authors = child.findall(\"author\")\n",
    "    names = []\n",
    "    \n",
    "    for author in authors:\n",
    "        names.append(author.text)\n",
    "    \n",
    "    gender_pic = get_gender_picture(names)\n",
    "    n_males = gender_pic.males\n",
    "    n_females = gender_pic.females\n",
    "    n_unknown = gender_pic.unknowns\n",
    "    ratio = gender_pic.ratio\n",
    "    \n",
    "    # Add publication entry\n",
    "    publications_complete[key] = {\n",
    "        'key': key,\n",
    "        'pub_cat': pub_cat,\n",
    "        'pub_type': pub_type,\n",
    "        'title': title,\n",
    "        'year': year,\n",
    "        'authors': names,\n",
    "        'n_authors': len(names),\n",
    "        'n_males': n_males,\n",
    "        'n_females': n_females,\n",
    "        'n_unknown': n_unknown,\n",
    "        'ratio': ratio\n",
    "    }\n",
    "\n",
    "        \n",
    "print(\"Finished extracting author names! Found {} entries.\".format(len(names_complete)))"
   ]
  },
  {
   "cell_type": "code",
   "execution_count": null,
   "metadata": {},
   "outputs": [],
   "source": [
    "import pandas as pd\n",
    "\n",
    "# Dict to dataframe: https://pandas.pydata.org/pandas-docs/stable/reference/api/pandas.DataFrame.from_dict.html\n",
    "print(\"Converting dictionary of publications to a dataframe...\")\n",
    "publications = pd.DataFrame.from_dict(names_complete, orient='index', dtype=None)\n",
    "print(\"Dataframe completed! Here are random entries:\")"
   ]
  },
  {
   "cell_type": "code",
   "execution_count": null,
   "metadata": {},
   "outputs": [],
   "source": [
    "sample = publications.sample(n=10)\n",
    "\n",
    "print(sample)"
   ]
  },
  {
   "cell_type": "code",
   "execution_count": null,
   "metadata": {},
   "outputs": [],
   "source": [
    "# Save Dataframe to CSV: https://riptutorial.com/pandas/example/19502/create-random-dataframe-and-write-to--csv\n",
    "print(\"Saving dataframe as CSV...\")\n",
    "publications.to_csv(\"data/publications.csv\")\n",
    "print(\"Publications saved as CSV!\")"
   ]
  }
 ],
 "metadata": {
  "kernelspec": {
   "display_name": "Python 3",
   "language": "python",
   "name": "python3"
  },
  "language_info": {
   "codemirror_mode": {
    "name": "ipython",
    "version": 3
   },
   "file_extension": ".py",
   "mimetype": "text/x-python",
   "name": "python",
   "nbconvert_exporter": "python",
   "pygments_lexer": "ipython3",
   "version": "3.7.1"
  }
 },
 "nbformat": 4,
 "nbformat_minor": 2
}
