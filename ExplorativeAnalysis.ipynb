{
 "cells": [
  {
   "cell_type": "code",
   "execution_count": 1,
   "metadata": {},
   "outputs": [
    {
     "name": "stdout",
     "output_type": "stream",
     "text": [
      "Importing names... \n",
      "Names imported. They look like this:                                         name  n_publs likely_gender  score\n",
      "name                                                                      \n",
      "'Maseka Lesaoana            'Maseka Lesaoana        2        female      8\n",
      "(David) Jing Dai            (David) Jing Dai        1          male      7\n",
      "(Max) Zong-Ming Cheng  (Max) Zong-Ming Cheng        2          male      2\n",
      "(Sophy) Shu-Jiun Chen  (Sophy) Shu-Jiun Chen        2        female      7\n",
      "(Zhou) Bryan Bai            (Zhou) Bryan Bai        2          male      6\n",
      "A Clara Kanmani              A Clara Kanmani        1        female      4\n",
      "A Lun                                  A Lun        1          male      1\n",
      "A Min Tjoa                        A Min Tjoa      211          male      2\n",
      "A S Akshaya                      A S Akshaya        1          male      2\n",
      "A'ang Subiyakto              A'ang Subiyakto        2        female      0\n"
     ]
    }
   ],
   "source": [
    "# Import categorized 'names_cat.csv'\n",
    "import pandas\n",
    "\n",
    "print(\"Importing names... \")\n",
    "names = pandas.read_csv(\"data/names_cat.csv\", usecols=[\"name\", \"n_publs\", \"likely_gender\", \"score\"])\n",
    "\n",
    "# Setting index & accessing cells: https://pythonhow.com/accessing-dataframe-columns-rows-and-cells/\n",
    "names = names.set_index(\"name\", drop = False)\n",
    "print(\"Names imported. They look like this: {}\".format(names[:10]))"
   ]
  },
  {
   "cell_type": "code",
   "execution_count": 2,
   "metadata": {},
   "outputs": [
    {
     "data": {
      "text/html": [
       "<div>\n",
       "<style scoped>\n",
       "    .dataframe tbody tr th:only-of-type {\n",
       "        vertical-align: middle;\n",
       "    }\n",
       "\n",
       "    .dataframe tbody tr th {\n",
       "        vertical-align: top;\n",
       "    }\n",
       "\n",
       "    .dataframe thead th {\n",
       "        text-align: right;\n",
       "    }\n",
       "</style>\n",
       "<table border=\"1\" class=\"dataframe\">\n",
       "  <thead>\n",
       "    <tr style=\"text-align: right;\">\n",
       "      <th></th>\n",
       "      <th>n_publs</th>\n",
       "      <th>score</th>\n",
       "    </tr>\n",
       "  </thead>\n",
       "  <tbody>\n",
       "    <tr>\n",
       "      <th>count</th>\n",
       "      <td>2.306418e+06</td>\n",
       "      <td>2.306418e+06</td>\n",
       "    </tr>\n",
       "    <tr>\n",
       "      <th>mean</th>\n",
       "      <td>5.789820e+00</td>\n",
       "      <td>4.963300e+00</td>\n",
       "    </tr>\n",
       "    <tr>\n",
       "      <th>std</th>\n",
       "      <td>1.827144e+01</td>\n",
       "      <td>3.506927e+00</td>\n",
       "    </tr>\n",
       "    <tr>\n",
       "      <th>min</th>\n",
       "      <td>1.000000e+00</td>\n",
       "      <td>0.000000e+00</td>\n",
       "    </tr>\n",
       "    <tr>\n",
       "      <th>25%</th>\n",
       "      <td>1.000000e+00</td>\n",
       "      <td>2.000000e+00</td>\n",
       "    </tr>\n",
       "    <tr>\n",
       "      <th>50%</th>\n",
       "      <td>2.000000e+00</td>\n",
       "      <td>4.000000e+00</td>\n",
       "    </tr>\n",
       "    <tr>\n",
       "      <th>75%</th>\n",
       "      <td>4.000000e+00</td>\n",
       "      <td>7.000000e+00</td>\n",
       "    </tr>\n",
       "    <tr>\n",
       "      <th>max</th>\n",
       "      <td>1.694000e+03</td>\n",
       "      <td>3.300000e+01</td>\n",
       "    </tr>\n",
       "  </tbody>\n",
       "</table>\n",
       "</div>"
      ],
      "text/plain": [
       "            n_publs         score\n",
       "count  2.306418e+06  2.306418e+06\n",
       "mean   5.789820e+00  4.963300e+00\n",
       "std    1.827144e+01  3.506927e+00\n",
       "min    1.000000e+00  0.000000e+00\n",
       "25%    1.000000e+00  2.000000e+00\n",
       "50%    2.000000e+00  4.000000e+00\n",
       "75%    4.000000e+00  7.000000e+00\n",
       "max    1.694000e+03  3.300000e+01"
      ]
     },
     "execution_count": 2,
     "metadata": {},
     "output_type": "execute_result"
    }
   ],
   "source": [
    "names.describe()"
   ]
  },
  {
   "cell_type": "code",
   "execution_count": 3,
   "metadata": {},
   "outputs": [
    {
     "data": {
      "text/html": [
       "<div>\n",
       "<style scoped>\n",
       "    .dataframe tbody tr th:only-of-type {\n",
       "        vertical-align: middle;\n",
       "    }\n",
       "\n",
       "    .dataframe tbody tr th {\n",
       "        vertical-align: top;\n",
       "    }\n",
       "\n",
       "    .dataframe thead th {\n",
       "        text-align: right;\n",
       "    }\n",
       "</style>\n",
       "<table border=\"1\" class=\"dataframe\">\n",
       "  <thead>\n",
       "    <tr style=\"text-align: right;\">\n",
       "      <th></th>\n",
       "      <th>n_publs</th>\n",
       "      <th>score</th>\n",
       "    </tr>\n",
       "  </thead>\n",
       "  <tbody>\n",
       "    <tr>\n",
       "      <th>count</th>\n",
       "      <td>386996.000000</td>\n",
       "      <td>386996.000000</td>\n",
       "    </tr>\n",
       "    <tr>\n",
       "      <th>mean</th>\n",
       "      <td>4.179795</td>\n",
       "      <td>3.104802</td>\n",
       "    </tr>\n",
       "    <tr>\n",
       "      <th>std</th>\n",
       "      <td>12.441453</td>\n",
       "      <td>2.647863</td>\n",
       "    </tr>\n",
       "    <tr>\n",
       "      <th>min</th>\n",
       "      <td>1.000000</td>\n",
       "      <td>0.000000</td>\n",
       "    </tr>\n",
       "    <tr>\n",
       "      <th>25%</th>\n",
       "      <td>1.000000</td>\n",
       "      <td>1.000000</td>\n",
       "    </tr>\n",
       "    <tr>\n",
       "      <th>50%</th>\n",
       "      <td>1.000000</td>\n",
       "      <td>3.000000</td>\n",
       "    </tr>\n",
       "    <tr>\n",
       "      <th>75%</th>\n",
       "      <td>3.000000</td>\n",
       "      <td>4.000000</td>\n",
       "    </tr>\n",
       "    <tr>\n",
       "      <th>max</th>\n",
       "      <td>946.000000</td>\n",
       "      <td>29.000000</td>\n",
       "    </tr>\n",
       "  </tbody>\n",
       "</table>\n",
       "</div>"
      ],
      "text/plain": [
       "             n_publs          score\n",
       "count  386996.000000  386996.000000\n",
       "mean        4.179795       3.104802\n",
       "std        12.441453       2.647863\n",
       "min         1.000000       0.000000\n",
       "25%         1.000000       1.000000\n",
       "50%         1.000000       3.000000\n",
       "75%         3.000000       4.000000\n",
       "max       946.000000      29.000000"
      ]
     },
     "execution_count": 3,
     "metadata": {},
     "output_type": "execute_result"
    }
   ],
   "source": [
    "names[names['likely_gender'] == 'female'].describe()"
   ]
  },
  {
   "cell_type": "code",
   "execution_count": 4,
   "metadata": {},
   "outputs": [
    {
     "data": {
      "text/html": [
       "<div>\n",
       "<style scoped>\n",
       "    .dataframe tbody tr th:only-of-type {\n",
       "        vertical-align: middle;\n",
       "    }\n",
       "\n",
       "    .dataframe tbody tr th {\n",
       "        vertical-align: top;\n",
       "    }\n",
       "\n",
       "    .dataframe thead th {\n",
       "        text-align: right;\n",
       "    }\n",
       "</style>\n",
       "<table border=\"1\" class=\"dataframe\">\n",
       "  <thead>\n",
       "    <tr style=\"text-align: right;\">\n",
       "      <th></th>\n",
       "      <th>n_publs</th>\n",
       "      <th>score</th>\n",
       "    </tr>\n",
       "  </thead>\n",
       "  <tbody>\n",
       "    <tr>\n",
       "      <th>count</th>\n",
       "      <td>1.919422e+06</td>\n",
       "      <td>1.919422e+06</td>\n",
       "    </tr>\n",
       "    <tr>\n",
       "      <th>mean</th>\n",
       "      <td>6.114435e+00</td>\n",
       "      <td>5.338012e+00</td>\n",
       "    </tr>\n",
       "    <tr>\n",
       "      <th>std</th>\n",
       "      <td>1.921768e+01</td>\n",
       "      <td>3.539459e+00</td>\n",
       "    </tr>\n",
       "    <tr>\n",
       "      <th>min</th>\n",
       "      <td>1.000000e+00</td>\n",
       "      <td>0.000000e+00</td>\n",
       "    </tr>\n",
       "    <tr>\n",
       "      <th>25%</th>\n",
       "      <td>1.000000e+00</td>\n",
       "      <td>2.000000e+00</td>\n",
       "    </tr>\n",
       "    <tr>\n",
       "      <th>50%</th>\n",
       "      <td>2.000000e+00</td>\n",
       "      <td>5.000000e+00</td>\n",
       "    </tr>\n",
       "    <tr>\n",
       "      <th>75%</th>\n",
       "      <td>4.000000e+00</td>\n",
       "      <td>8.000000e+00</td>\n",
       "    </tr>\n",
       "    <tr>\n",
       "      <th>max</th>\n",
       "      <td>1.694000e+03</td>\n",
       "      <td>3.300000e+01</td>\n",
       "    </tr>\n",
       "  </tbody>\n",
       "</table>\n",
       "</div>"
      ],
      "text/plain": [
       "            n_publs         score\n",
       "count  1.919422e+06  1.919422e+06\n",
       "mean   6.114435e+00  5.338012e+00\n",
       "std    1.921768e+01  3.539459e+00\n",
       "min    1.000000e+00  0.000000e+00\n",
       "25%    1.000000e+00  2.000000e+00\n",
       "50%    2.000000e+00  5.000000e+00\n",
       "75%    4.000000e+00  8.000000e+00\n",
       "max    1.694000e+03  3.300000e+01"
      ]
     },
     "execution_count": 4,
     "metadata": {},
     "output_type": "execute_result"
    }
   ],
   "source": [
    "names[names['likely_gender'] == 'male'].describe()"
   ]
  },
  {
   "cell_type": "code",
   "execution_count": 5,
   "metadata": {},
   "outputs": [],
   "source": [
    "import matplotlib.pyplot as plt"
   ]
  },
  {
   "cell_type": "code",
   "execution_count": 6,
   "metadata": {},
   "outputs": [],
   "source": [
    "# >>> Explore authors and publications per gender\n",
    "# Absolute values\n",
    "nauthors_by_gender = names.groupby(\"likely_gender\").size()\n",
    "n_publs_by_gender = names.groupby(\"likely_gender\").agg({'n_publs':'sum'})\n",
    "\n",
    "print(\"{} female authors published {} pieces, {} male authors published {} pieces\".format(nauthors_by_gender.values[0], n_publs_by_gender.at['female', 'n_publs'], nauthors_by_gender.values[1], n_publs_by_gender.at['male', 'n_publs']))\n",
    "print(\"Men published {} times more than women\".format(n_publs_by_gender.at['male', 'n_publs'] / n_publs_by_gender.at['female', 'n_publs']))\n",
    "print(\"There are {} times more male than female authors.\".format(nauthors_by_gender.values[1] / nauthors_by_gender.values[0]))"
   ]
  },
  {
   "cell_type": "code",
   "execution_count": 189,
   "metadata": {},
   "outputs": [
    {
     "data": {
      "image/png": "[encoded data removed]",
      "text/plain": [
       "<Figure size 432x288 with 1 Axes>"
      ]
     },
     "metadata": {},
     "output_type": "display_data"
    }
   ],
   "source": [
    "# Visualize absolute values of authors and publications by gender as a pie chart\n",
    "\n",
    "# Nested pie plot: https://matplotlib.org/gallery/pie_and_polar_charts/nested_pie.html#sphx-glr-gallery-pie-and-polar-charts-nested-pie-py\n",
    "# Labelling a pie chart: https://matplotlib.org/gallery/pie_and_polar_charts/pie_and_donut_labels.html#sphx-glr-gallery-pie-and-polar-charts-pie-and-donut-labels-py\n",
    "# Placing multiple legends: https://matplotlib.org/tutorials/intermediate/legend_guide.html\n",
    "\n",
    "import numpy as np\n",
    "\n",
    "fig, ax = plt.subplots()\n",
    "\n",
    "size = 0.3\n",
    "\n",
    "# Colors for the pie chart\n",
    "cmap = plt.get_cmap(\"tab20c\")\n",
    "outer_colors = cmap([7,5,20]) # Publications\n",
    "text_outer = cmap(4)\n",
    "inner_colors = cmap(np.array([3,1,20])) # Authors\n",
    "text_inner = cmap(0)\n",
    "\n",
    "# Authors\n",
    "wedges_a, texts_a, autotexts_a = ax.pie(nauthors_by_gender.values, radius=1-size, \n",
    "                                        colors=outer_colors, autopct='%1.1f%%', # form of percentages\n",
    "                                        pctdistance=0.3, # how far away are percentages from center?\n",
    "                                        wedgeprops=dict(width=size, edgecolor='w'), # color of edges\n",
    "                                        textprops=dict(color=text_outer)) # color of percentages\n",
    "l_a = ax.legend(wedges_a, nauthors_by_gender.index.values, loc=\"upper right\", title=\"Authors\")\n",
    "plt.gca().add_artist(l_a) # Add legend\n",
    "\n",
    "# Publications\n",
    "wedges_p, texts_p, autotexts_p = ax.pie(n_publs_by_gender['n_publs'], radius=1, \n",
    "                                        colors=inner_colors, autopct='%1.1f%%', \n",
    "                                        pctdistance=1.2,\n",
    "                                        wedgeprops=dict(width=size, edgecolor='w'), \n",
    "                                        textprops=dict(color=text_inner))\n",
    "l_p = ax.legend(wedges_p, nauthors_by_gender.index.values, loc=\"lower right\", title=\"Publications\")\n",
    "plt.gca().add_artist(l_p)\n",
    "\n",
    "\n",
    "plt.title(\"How many authors and how many publications \\n are there per gender?\")\n",
    "\n",
    "plt.show()"
   ]
  },
  {
   "cell_type": "code",
   "execution_count": 11,
   "metadata": {},
   "outputs": [],
   "source": [
    "# Relative values\n",
    "mean = names['n_publs'].mean()\n",
    "median = names['n_publs'].median()\n",
    "\n",
    "n_publs_mean_by_gender = names.groupby(\"likely_gender\").agg({'n_publs':'mean'})\n",
    "n_publs_median_by_gender = names.groupby(\"likely_gender\").agg({'n_publs':'median'})\n",
    "\n",
    "f_mean = n_publs_mean_by_gender.at[\"female\", \"n_publs\"]\n",
    "m_mean = n_publs_mean_by_gender.at[\"male\", \"n_publs\"]\n",
    "\n",
    "f_median = n_publs_median_by_gender.at[\"female\", \"n_publs\"]\n",
    "m_median = n_publs_median_by_gender.at[\"male\", \"n_publs\"]\n",
    "\n",
    "\n",
    "print(\"On average, female authors publish {} pieces each, while male authors publish {} pieces each.\".format(f_mean, m_mean))\n",
    "print(\"The median for the amount of pieces published by female authors is {} pieces, while the median for the amount of pieces published by male authors is {} pieces.\".format(f_median, m_median))"
   ]
  },
  {
   "cell_type": "code",
   "execution_count": 183,
   "metadata": {},
   "outputs": [
    {
     "data": {
      "image/png": "[encoded data removed]",
      "text/plain": [
       "<Figure size 432x288 with 1 Axes>"
      ]
     },
     "metadata": {
      "needs_background": "light"
     },
     "output_type": "display_data"
    }
   ],
   "source": [
    "plt_mean = plt.plot(['male', 'female'], [mean, mean], 'r--', alpha=0.5, label='Overall Mean')\n",
    "plt_g_mean = plt.plot(['male','female'], [m_mean, f_mean], 'rx', label='Mean by Gender')\n",
    "\n",
    "plt_median = plt.plot(['male', 'female'],[median, median], 'b--', alpha=0.5, label='Overall Median')\n",
    "plt_g_median = plt.plot(['male', 'female'],[m_median, f_median], 'bx', label='Median by Gender')\n",
    "\n",
    "plt.xlabel('Gender')\n",
    "plt.ylabel('Amount of publications')\n",
    "\n",
    "plt.title(\"How many publications are there on average per gender?\")\n",
    "\n",
    "plt.legend(loc=\"center\")\n",
    "plt.show()"
   ]
  },
  {
   "cell_type": "code",
   "execution_count": null,
   "metadata": {},
   "outputs": [],
   "source": [
    "# Looking at the relative values it appears that there could be some outliers,\n",
    "# considering the huge difference between mean and median values.\n",
    "# In the following, we will explore the outliers"
   ]
  },
  {
   "cell_type": "code",
   "execution_count": 41,
   "metadata": {},
   "outputs": [],
   "source": [
    "# Outliers\n",
    "\n",
    "# Get all data on female and male authors\n",
    "f = names[names['likely_gender'] == 'female']\n",
    "m = names[names['likely_gender'] == 'male']"
   ]
  },
  {
   "cell_type": "code",
   "execution_count": 193,
   "metadata": {},
   "outputs": [
    {
     "data": {
      "image/png": "[encoded data removed]",
      "text/plain": [
       "<Figure size 432x288 with 1 Axes>"
      ]
     },
     "metadata": {
      "needs_background": "light"
     },
     "output_type": "display_data"
    }
   ],
   "source": [
    "# Showing possible outliers \n",
    "plt.boxplot([f['n_publs'], m['n_publs']], labels=[\"female\", \"male\"])\n",
    "plt.xlabel(\"Gender\")\n",
    "plt.ylabel(\"Amount of Publications\")\n",
    "plt.title(\"Distribution Statistics: Publications by Gender\")\n",
    "plt.show()"
   ]
  },
  {
   "cell_type": "code",
   "execution_count": null,
   "metadata": {},
   "outputs": [],
   "source": [
    "# The boxplot is nearly irrecognizable! Looks like a lot of outliers."
   ]
  },
  {
   "cell_type": "code",
   "execution_count": 194,
   "metadata": {},
   "outputs": [
    {
     "data": {
      "image/png": "[encoded data removed]",
      "text/plain": [
       "<Figure size 432x288 with 1 Axes>"
      ]
     },
     "metadata": {
      "needs_background": "light"
     },
     "output_type": "display_data"
    }
   ],
   "source": [
    "# Not showing possible outliers \n",
    "plt.boxplot([f['n_publs'], m['n_publs']], labels=[\"female\", \"male\"], showfliers=False)\n",
    "plt.xlabel(\"Gender\")\n",
    "plt.ylabel(\"Amount of Publications\")\n",
    "plt.title(\"Distribution Statistics: Publications by Gender\")\n",
    "plt.show()"
   ]
  }
 ],
 "metadata": {
  "kernelspec": {
   "display_name": "Python 3",
   "language": "python",
   "name": "python3"
  },
  "language_info": {
   "codemirror_mode": {
    "name": "ipython",
    "version": 3
   },
   "file_extension": ".py",
   "mimetype": "text/x-python",
   "name": "python",
   "nbconvert_exporter": "python",
   "pygments_lexer": "ipython3",
   "version": "3.7.3"
  }
 },
 "nbformat": 4,
 "nbformat_minor": 2
}
