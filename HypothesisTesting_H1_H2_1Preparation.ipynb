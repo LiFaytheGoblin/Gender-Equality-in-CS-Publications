{
 "cells": [
  {
   "cell_type": "code",
   "execution_count": null,
   "metadata": {},
   "outputs": [],
   "source": [
    "# HYPOTHESIS TESTING\n",
    "# Preparing the Data"
   ]
  },
  {
   "cell_type": "code",
   "execution_count": null,
   "metadata": {},
   "outputs": [],
   "source": [
    "# Hypothesis 1: \n",
    "# Overall, there are more male than female authors. \n",
    "\n",
    "# Hypothesis 2: \n",
    "# In total, more has been written by men than by women."
   ]
  },
  {
   "cell_type": "code",
   "execution_count": null,
   "metadata": {},
   "outputs": [],
   "source": [
    "# >>> Import\n",
    "# Import categorized 'names_cat.csv'\n",
    "import pandas\n",
    "\n",
    "print(\"Importing names... \")\n",
    "names = pandas.read_csv(\"data/names_cat_i2.csv\", usecols=[\"name\", \"n_publs\", \"likely_gender\", \"score\"])\n",
    "\n",
    "# Setting index & accessing cells: https://pythonhow.com/accessing-dataframe-columns-rows-and-cells/\n",
    "names = names.set_index(\"name\", drop = False)\n",
    "print(\"Names imported. They look like this: {}\".format(names[:5]))"
   ]
  },
  {
   "cell_type": "code",
   "execution_count": null,
   "metadata": {},
   "outputs": [],
   "source": [
    "print(\"Importing publications... \")\n",
    "cols = [\n",
    "    'key', \n",
    "    'pub_cat',\n",
    "    'pub_type',\n",
    "    'title',\n",
    "    'year',\n",
    "    'authors',\n",
    "    'n_authors',\n",
    "    'n_males',\n",
    "    'n_females',\n",
    "    'n_unknown',\n",
    "    'ratio',\n",
    "    'n_contribs_females',\n",
    "    'n_contribs_males',\n",
    "    'n_contribs_unknown'\n",
    "]\n",
    "\n",
    "publs = pandas.read_csv(\"data/publications_cor3.csv\", usecols=cols)\n",
    "\n",
    "# Setting index & accessing cells: https://pythonhow.com/accessing-dataframe-columns-rows-and-cells/\n",
    "publs = publs.set_index(\"key\", drop = False)\n",
    "print(\"Publications imported. They look like this: {}\".format(publs[:5]))"
   ]
  },
  {
   "cell_type": "code",
   "execution_count": null,
   "metadata": {},
   "outputs": [],
   "source": [
    "# >>> Calculate statistics"
   ]
  },
  {
   "cell_type": "code",
   "execution_count": null,
   "metadata": {},
   "outputs": [],
   "source": [
    "# Calculate amount of contributions\n",
    "n_contribs_f_max = publs['n_contribs_females'].sum()\n",
    "n_contribs_m_max = publs['n_contribs_males'].sum()\n",
    "n_contribs_u_min = publs['n_contribs_unknown'].sum()"
   ]
  },
  {
   "cell_type": "code",
   "execution_count": null,
   "metadata": {},
   "outputs": [],
   "source": [
    "# Calculate amount of publications contributed to V2\n",
    "n_contribs_f_max_v2 = names[(names['score'] >= 5) & (names['likely_gender'] == 'female')]['n_publs'].sum()\n",
    "n_contribs_m_max_v2 = names[(names['score'] >= 5) & (names['likely_gender'] == 'male')]['n_publs'].sum()\n",
    "n_contribs_u_min_v2 = names[(names['score'] < 5)]['n_publs'].sum()"
   ]
  },
  {
   "cell_type": "code",
   "execution_count": null,
   "metadata": {},
   "outputs": [],
   "source": [
    "# Calculate amount of authors\n",
    "n_authors_f_min= names[(names['score'] >= 5) & (names['likely_gender'] == 'female')].count()['likely_gender']\n",
    "n_authors_m_min = names[(names['score'] >= 5) & (names['likely_gender'] == 'male')].count()['likely_gender']\n",
    "n_authors_u_max = names[(names['score'] < 5)].count()['likely_gender']"
   ]
  },
  {
   "cell_type": "code",
   "execution_count": null,
   "metadata": {
    "scrolled": true
   },
   "outputs": [],
   "source": [
    "# If we assume that all names with a score lower than 5 have been classified at random with 50% chance of being correct, \n",
    "# the case where most female authors exist is if all female names have been classified correctly and n_male_names - ((n_names / 2) - n_female_names) male names. \n",
    "# All other names would then mistakenly have been classified as male and should be assumed to be female, for this scenario.\n",
    "n_all = names[(names['score'] < 5)][\"name\"].count()\n",
    "n_f = names[(names['score'] < 5) & (names['likely_gender'] == 'female')][\"name\"].count()\n",
    "n_m = names[(names['score'] < 5) & (names['likely_gender'] == 'male')][\"name\"].count()\n",
    "\n",
    "n_authors_m_false = n_m - ((n_all / 2) - n_f)\n",
    "\n",
    "n_authors_m_correct = n_m - n_authors_m_false\n",
    "n_authors_f_correct = n_f + n_authors_m_false\n",
    "\n",
    "print(\"In the best case, in the sample of names with a score < 5, there are {} female and {} male names.\".format(n_authors_f_correct, n_authors_m_correct))"
   ]
  },
  {
   "cell_type": "code",
   "execution_count": null,
   "metadata": {},
   "outputs": [],
   "source": [
    "# Add up the best case scenario for names with a score <5 to the names with a score of 5\n",
    "n_f_cor = n_authors_f_min + n_authors_f_correct\n",
    "n_m_cor = n_authors_m_min + n_authors_m_correct"
   ]
  },
  {
   "cell_type": "code",
   "execution_count": null,
   "metadata": {},
   "outputs": [],
   "source": [
    "# >>> Save statistics to dict\n",
    "stats = {\n",
    "    1: {\n",
    "        'n_authors_f_min': n_authors_f_min,\n",
    "        'n_authors_m_min': n_authors_m_min,\n",
    "        'n_authors_u_max': n_authors_u_max,\n",
    "        \n",
    "        'n_authors_f_cor': n_f_cor,\n",
    "        'n_authors_m_cor': n_m_cor,\n",
    "        \n",
    "        'n_contribs_f_max': n_contribs_f_max,\n",
    "        'n_contribs_m_max': n_contribs_m_max,\n",
    "        'n_contribs_u_min': n_contribs_u_min,\n",
    "        \n",
    "        'n_contribs_f_max_v2': n_contribs_f_max_v2,\n",
    "        'n_contribs_m_max_v2': n_contribs_m_max_v2,\n",
    "        'n_contribs_u_min_v2': n_contribs_u_min_v2\n",
    "    }\n",
    "}"
   ]
  },
  {
   "cell_type": "code",
   "execution_count": null,
   "metadata": {},
   "outputs": [],
   "source": [
    "# Convert results into dataframe\n",
    "# Dict to dataframe: https://pandas.pydata.org/pandas-docs/stable/reference/api/pandas.DataFrame.from_dict.html\n",
    "print(\"Converting dictionary of stats to a dataframe...\")\n",
    "stats_df = pandas.DataFrame.from_dict(stats)\n",
    "print(\"Dataframe completed! Here are some entries: {}\".format(stats_df))"
   ]
  },
  {
   "cell_type": "code",
   "execution_count": null,
   "metadata": {},
   "outputs": [],
   "source": [
    "# Save Dataframe to CSV: https://riptutorial.com/pandas/example/19502/create-random-dataframe-and-write-to--csv\n",
    "print(\"Saving dataframe as CSV...\")\n",
    "stats_df.to_csv(\"data/stats_authors_contribs_by_gender_cor1.csv\")\n",
    "print(\"Stats saved as CSV!\")"
   ]
  },
  {
   "cell_type": "code",
   "execution_count": null,
   "metadata": {},
   "outputs": [],
   "source": []
  }
 ],
 "metadata": {
  "kernelspec": {
   "display_name": "Python 3",
   "language": "python",
   "name": "python3"
  },
  "language_info": {
   "codemirror_mode": {
    "name": "ipython",
    "version": 3
   },
   "file_extension": ".py",
   "mimetype": "text/x-python",
   "name": "python",
   "nbconvert_exporter": "python",
   "pygments_lexer": "ipython3",
   "version": "3.7.1"
  }
 },
 "nbformat": 4,
 "nbformat_minor": 2
}
