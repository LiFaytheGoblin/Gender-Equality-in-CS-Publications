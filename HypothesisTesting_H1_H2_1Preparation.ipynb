{
 "cells": [
  {
   "cell_type": "code",
   "execution_count": null,
   "metadata": {},
   "outputs": [],
   "source": [
    "# HYPOTHESIS TESTING\n",
    "# Preparing the Data"
   ]
  },
  {
   "cell_type": "code",
   "execution_count": null,
   "metadata": {},
   "outputs": [],
   "source": [
    "# Hypothesis 1: \n",
    "# Overall, there are more male than female authors. \n",
    "\n",
    "# Hypothesis 2: \n",
    "# In total, more has been written by men than by women."
   ]
  },
  {
   "cell_type": "code",
   "execution_count": 2,
   "metadata": {},
   "outputs": [
    {
     "name": "stdout",
     "output_type": "stream",
     "text": [
      "Importing names... \n",
      "Names imported. They look like this:                                         name likely_gender  n_publs  score\n",
      "name                                                                      \n",
      "'Maseka Lesaoana            'Maseka Lesaoana        female        2      8\n",
      "(David) Jing Dai            (David) Jing Dai          male        1      7\n",
      "(Max) Zong-Ming Cheng  (Max) Zong-Ming Cheng          male        2      8\n",
      "(Sophy) Shu-Jiun Chen  (Sophy) Shu-Jiun Chen        female        2      7\n",
      "(Zhou) Bryan Bai            (Zhou) Bryan Bai          male        2      6\n"
     ]
    }
   ],
   "source": [
    "# >>> Import\n",
    "# Import categorized 'names_cat.csv'\n",
    "import pandas\n",
    "\n",
    "print(\"Importing names... \")\n",
    "names = pandas.read_csv(\"data/names_cat_i2.csv\", usecols=[\"name\", \"n_publs\", \"likely_gender\", \"score\"])\n",
    "\n",
    "# Setting index & accessing cells: https://pythonhow.com/accessing-dataframe-columns-rows-and-cells/\n",
    "names = names.set_index(\"name\", drop = False)\n",
    "print(\"Names imported. They look like this: {}\".format(names[:5]))"
   ]
  },
  {
   "cell_type": "code",
   "execution_count": 3,
   "metadata": {},
   "outputs": [
    {
     "name": "stdout",
     "output_type": "stream",
     "text": [
      "Importing publications... \n"
     ]
    },
    {
     "name": "stderr",
     "output_type": "stream",
     "text": [
      "C:\\Program_Files\\Anaconda3\\lib\\site-packages\\IPython\\core\\interactiveshell.py:3020: DtypeWarning: Columns (3) have mixed types. Specify dtype option on import or set low_memory=False.\n",
      "  interactivity=interactivity, compiler=compiler, result=result)\n"
     ]
    },
    {
     "name": "stdout",
     "output_type": "stream",
     "text": [
      "Publications imported. They look like this:                                                                  key  \\\n",
      "key                                                                    \n",
      "books/acm/0082477                                  books/acm/0082477   \n",
      "books/acm/Kim95                                      books/acm/Kim95   \n",
      "books/acm/kim95/AnnevelinkACFHK95  books/acm/kim95/AnnevelinkACFHK95   \n",
      "books/acm/kim95/Blakeley95                books/acm/kim95/Blakeley95   \n",
      "books/acm/kim95/BreitbartGS95          books/acm/kim95/BreitbartGS95   \n",
      "\n",
      "                                        pub_cat pub_type  \\\n",
      "key                                                        \n",
      "books/acm/0082477                          book      NaN   \n",
      "books/acm/Kim95                            book      NaN   \n",
      "books/acm/kim95/AnnevelinkACFHK95  incollection      NaN   \n",
      "books/acm/kim95/Blakeley95         incollection      NaN   \n",
      "books/acm/kim95/BreitbartGS95      incollection      NaN   \n",
      "\n",
      "                                                                               title  \\\n",
      "key                                                                                    \n",
      "books/acm/0082477                        The no-nonsense guide to computing careers.   \n",
      "books/acm/Kim95                    Modern Database Systems: The Object Model, Int...   \n",
      "books/acm/kim95/AnnevelinkACFHK95  Object SQL - A Language for the Design and Imp...   \n",
      "books/acm/kim95/Blakeley95         OQL[C++]: Extending C++ with an Object Query C...   \n",
      "books/acm/kim95/BreitbartGS95       Transaction Management in Multidatabase Systems.   \n",
      "\n",
      "                                   year  \\\n",
      "key                                       \n",
      "books/acm/0082477                  1992   \n",
      "books/acm/Kim95                    1995   \n",
      "books/acm/kim95/AnnevelinkACFHK95  1995   \n",
      "books/acm/kim95/Blakeley95         1995   \n",
      "books/acm/kim95/BreitbartGS95      1995   \n",
      "\n",
      "                                                                             authors  \\\n",
      "key                                                                                    \n",
      "books/acm/0082477                                                    ['Marc Rettig']   \n",
      "books/acm/Kim95                                                                   []   \n",
      "books/acm/kim95/AnnevelinkACFHK95  ['Jurgen Annevelink', 'Rafiul Ahad', 'Amelia C...   \n",
      "books/acm/kim95/Blakeley95                                      ['José A. Blakeley']   \n",
      "books/acm/kim95/BreitbartGS95      ['Yuri Breitbart', 'Hector Garcia-Molina', 'Ab...   \n",
      "\n",
      "                                   n_authors  n_males  n_females  n_unknown  \\\n",
      "key                                                                           \n",
      "books/acm/0082477                    2306418      1.0        0.0        0.0   \n",
      "books/acm/Kim95                      2306418      0.0        0.0        0.0   \n",
      "books/acm/kim95/AnnevelinkACFHK95    2306418      4.0        1.0        1.0   \n",
      "books/acm/kim95/Blakeley95           2306418      1.0        0.0        0.0   \n",
      "books/acm/kim95/BreitbartGS95        2306418      2.0        0.0        1.0   \n",
      "\n",
      "                                   ratio  n_males_min  n_females_min  \\\n",
      "key                                                                    \n",
      "books/acm/0082477                   50.0          0.0            0.0   \n",
      "books/acm/Kim95                      0.0          0.0            0.0   \n",
      "books/acm/kim95/AnnevelinkACFHK95   50.0          2.0            0.0   \n",
      "books/acm/kim95/Blakeley95          50.0          1.0            0.0   \n",
      "books/acm/kim95/BreitbartGS95       50.0          1.0            0.0   \n",
      "\n",
      "                                   n_unknown_max  ratio_min  \n",
      "key                                                          \n",
      "books/acm/0082477                            1.0        0.0  \n",
      "books/acm/Kim95                              0.0        0.0  \n",
      "books/acm/kim95/AnnevelinkACFHK95            4.0       50.0  \n",
      "books/acm/kim95/Blakeley95                   0.0       50.0  \n",
      "books/acm/kim95/BreitbartGS95                2.0       50.0  \n"
     ]
    }
   ],
   "source": [
    "print(\"Importing publications... \")\n",
    "cols = [\n",
    "    'key', \n",
    "    'pub_cat',\n",
    "    'pub_type',\n",
    "    'title',\n",
    "    'year',\n",
    "    'authors',\n",
    "    'n_authors',\n",
    "    'n_males',\n",
    "    'n_females',\n",
    "    'n_unknown',\n",
    "    'ratio',\n",
    "    'n_males_min',\n",
    "    'n_females_min',\n",
    "    'n_unknown_max',\n",
    "    'ratio_min'\n",
    "]\n",
    "publs = pandas.read_csv(\"data/publications_cor1.csv\", usecols=cols)\n",
    "\n",
    "# Setting index & accessing cells: https://pythonhow.com/accessing-dataframe-columns-rows-and-cells/\n",
    "publs = publs.set_index(\"key\", drop = False)\n",
    "print(\"Publications imported. They look like this: {}\".format(publs[:5]))"
   ]
  },
  {
   "cell_type": "code",
   "execution_count": null,
   "metadata": {},
   "outputs": [],
   "source": [
    "# >>> Convert results into dataframe\n",
    "# Dict to dataframe: https://pandas.pydata.org/pandas-docs/stable/reference/api/pandas.DataFrame.from_dict.html\n",
    "print(\"Converting dictionary of publications to a dataframe...\")\n",
    "publications = pandas.DataFrame.from_dict(publications_complete, orient='index', dtype=None)\n",
    "print(\"Dataframe completed! Here are some entries: {}\".format(publications[:10]))"
   ]
  },
  {
   "cell_type": "code",
   "execution_count": null,
   "metadata": {},
   "outputs": [],
   "source": [
    "# >>> Save results\n",
    "# Save Dataframe to CSV: https://riptutorial.com/pandas/example/19502/create-random-dataframe-and-write-to--csv\n",
    "print(\"Saving dataframe as CSV...\")\n",
    "publications.to_csv(\"data/publications_cor2.csv\")\n",
    "print(\"Publications saved as CSV!\")"
   ]
  },
  {
   "cell_type": "code",
   "execution_count": 13,
   "metadata": {},
   "outputs": [],
   "source": [
    "def get_min_contribs(gender):\n",
    "    \"Returns the minimum amount of contributions for a gender.\"\n",
    "    if(gender is not 'males' and gender is not 'females'):\n",
    "        raise Exception(\"Gender must be female or male or unknown (sorry ._.).\")\n",
    "    result = 0\n",
    "    for index, row in publs.iterrows():\n",
    "        col = 'n_{}_min'.format(gender)\n",
    "        n_gender = row[col] #minimum amount of female or male authors\n",
    "        n_authors = row['n_authors'] #total amount of authors\n",
    "        \n",
    "        part = (1 / n_authors) * n_gender\n",
    "        result += part\n",
    "    return result"
   ]
  },
  {
   "cell_type": "code",
   "execution_count": 14,
   "metadata": {},
   "outputs": [],
   "source": [
    "def get_max_contribs(gender):\n",
    "    \"Returns the maximum amount of contributions for a gender.\"\n",
    "    if(gender is not 'males' and gender is not 'females'):\n",
    "        raise Exception(\"Gender must be female or male (sorry ._.).\")\n",
    "    result = 0\n",
    "    for index, row in publs.iterrows():\n",
    "        col = 'n_{}'.format(gender)\n",
    "        n_gender = row[col] #maximum amount of female or male authors\n",
    "        n_authors = row['n_authors'] #total amount of authors\n",
    "        \n",
    "        part = (1 / n_authors) * n_gender\n",
    "        result += part\n",
    "    return result"
   ]
  },
  {
   "cell_type": "code",
   "execution_count": 11,
   "metadata": {},
   "outputs": [],
   "source": [
    "# The calculations would take too long if not executed in parallel\n",
    "# Parallel Programming in Python: https://docs.python.org/3.3/library/multiprocessing.html\n",
    "# How to return a value with a thread: https://stackoverflow.com/questions/6893968/how-to-get-the-return-value-from-a-thread-in-python\n",
    "\n",
    "from multiprocessing.pool import ThreadPool\n",
    "\n",
    "try:\n",
    "    pool_size = multiprocessing.cpu_count()\n",
    "except:\n",
    "    pool_size = 1\n",
    "\n",
    "pool = ThreadPool(pool_size)\n",
    "\n",
    "f_min_async = pool.apply_async(get_min_contribs, [\"females\"])\n",
    "m_min_async = pool.apply_async(get_min_contribs, [\"males\"])\n",
    "f_max_async = pool.apply_async(get_max_contribs, [\"females\"])\n",
    "m_max_async = pool.apply_async(get_max_contribs, [\"males\"])\n",
    "\n",
    "n_contribs_f_min = f_min_async.get()"
   ]
  },
  {
   "cell_type": "code",
   "execution_count": 12,
   "metadata": {},
   "outputs": [
    {
     "data": {
      "text/plain": [
       "1426.116900217142"
      ]
     },
     "execution_count": 12,
     "metadata": {},
     "output_type": "execute_result"
    }
   ],
   "source": [
    "n_contribs_f_min"
   ]
  },
  {
   "cell_type": "code",
   "execution_count": null,
   "metadata": {},
   "outputs": [],
   "source": [
    "# >>> Testing\n",
    "# Calculate statistics\n",
    "n_authors_f_min = names[(names['score'] > 7) & (names['likely_gender'] == 'female')].count()['likely_gender']\n",
    "n_authors_m_min = names[(names['score'] > 7) & (names['likely_gender'] == 'male')].count()['likely_gender']\n",
    "n_authors_f_max = names[(names['score'] >= 5) & (names['likely_gender'] == 'female')].count()['likely_gender']\n",
    "n_authors_m_max = names[(names['score'] >= 5) & (names['likely_gender'] == 'male')].count()['likely_gender']\n",
    "\n",
    "n_contribs_f_min = get_min_contribs('females')\n",
    "n_contribs_m_min = get_min_contribs('males')\n",
    "n_contribs_f_max = get_max_contribs('females')\n",
    "n_contribs_m_max = get_max_contribs('males')\n",
    "\n",
    "n_contribs_f_min_v2 = names[(names['score'] > 7) & (names['likely_gender'] == 'female')]['n_publs'].sum()\n",
    "n_contribs_m_min_v2 = names[(names['score'] > 7) & (names['likely_gender'] == 'male')]['n_publs'].sum()\n",
    "n_contribs_f_max_v2 = names[(names['score'] >= 5) & (names['likely_gender'] == 'female')]['n_publs'].sum()\n",
    "n_contribs_m_max_v2 = names[(names['score'] >= 5) & (names['likely_gender'] == 'male')]['n_publs'].sum()"
   ]
  },
  {
   "cell_type": "code",
   "execution_count": null,
   "metadata": {},
   "outputs": [],
   "source": [
    "# Logging results\n",
    "print(\"At minimum, {} female authors made {} contributions and {} male authors made {} contributions\".format(n_authors_f_min, n_contribs_f_min, n_authors_m_min, n_contribs_m_min))\n",
    "print(\"At maximum, {} female authors made {} contributions and {} male authors made {} contributions\".format(n_authors_f_max, n_contribs_f_max, n_authors_m_max, n_contribs_m_max))\n",
    "print(\"\")\n",
    "print(\"At maximum, men contributed {} times more than women\".format(n_contribs_m_min / n_contribs_f_min))\n",
    "print(\"At minimum, men contributed {} times more than women\".format(n_contribs_m_max / n_contribs_f_max))\n",
    "print(\"\")\n",
    "print(\"At minimum, {} female authors contributed to {} publications and {} male authors contributed to {} publications (publications can be counted several times)\".format(n_authors_f_min, n_contribs_f_min_v2, n_authors_m_min, n_contribs_m_min_v2))\n",
    "print(\"At maximum, {} female authors contributed to {} publications and {} male authors contributed to {} publications (publications can be counted several times)\".format(n_authors_f_max, n_contribs_f_max_v2, n_authors_m_max, n_contribs_m_max_v2))\n",
    "print(\"\")\n",
    "print(\"At maximum, men contributed to publications {} times more than women (publications can be counted several times)\".format(n_contribs_m_min_v2 / n_contribs_f_min_v2))\n",
    "print(\"At minimum, men contributed to publications {} times more than women (publications can be counted several times)\".format(n_contribs_m_max_v2 / n_contribs_f_max_v2))\n",
    "print(\"\")\n",
    "print(\"There are at maximum {} times more male than female authors.\".format(n_authors_m_min / n_authors_f_min))\n",
    "print(\"There are at minimum {} times more male than female authors.\".format(n_authors_m_max / n_authors_f_max))\n",
    "\n",
    "'''\n",
    "At minimum, 19869 female authors made 1426.116900217142 contributions and 539864 male authors made 66361.64460112316 contributions\n",
    "At maximum, 144198 female authors made 10384.877476045609 contributions and 1112117 male authors made 133206.39590599976 contributions\n",
    "\n",
    "At maximum, men contributed 46.53310299528662 times more than women\n",
    "At minimum, men contributed 12.826958836371613 times more than women\n",
    "\n",
    "At minimum, 19869 female authors contributed to 86725 publications and 539864 male authors contributed to 3525581 publications (publications can be counted several times)\n",
    "At maximum, 144198 female authors contributed to 593208 publications and 1112117 male authors contributed to 7120339 publications (publications can be counted several times)\n",
    "\n",
    "At maximum, men contributed to publications 40.65241856442779 times more than women (publications can be counted several times)\n",
    "At minimum, men contributed to publications 12.003106836050762 times more than women (publications can be counted several times)\n",
    "\n",
    "There are at maximum 27.17117117117117 times more male than female authors.\n",
    "There are at minimum 7.712430130792383 times more male than female authors.\n",
    "\n",
    "'''"
   ]
  },
  {
   "cell_type": "code",
   "execution_count": null,
   "metadata": {},
   "outputs": [],
   "source": [
    "# >>> Save progress\n",
    "# Save statistics to dict\n",
    "stats = {\n",
    "    1: {\n",
    "        'n_authors_f_min': n_authors_f_min,\n",
    "        'n_authors_m_min': n_authors_m_min,\n",
    "        'n_authors_f_max': n_authors_f_max,\n",
    "        'n_authors_m_max': n_authors_m_max,\n",
    "        'n_contribs_f_min': n_contribs_f_min,\n",
    "        'n_contribs_m_min': n_contribs_m_min,\n",
    "        'n_contribs_f_max': n_contribs_f_max,\n",
    "        'n_contribs_m_max': n_contribs_m_max,\n",
    "        'n_contribs_f_min_v2': n_contribs_f_min_v2,\n",
    "        'n_contribs_m_min_v2': n_contribs_m_min_v2,\n",
    "        'n_contribs_f_max_v2': n_contribs_f_max_v2,\n",
    "        'n_contribs_m_max_v2': n_contribs_m_max_v2\n",
    "    }\n",
    "}"
   ]
  },
  {
   "cell_type": "code",
   "execution_count": null,
   "metadata": {},
   "outputs": [],
   "source": [
    "# Convert results into dataframe\n",
    "# Dict to dataframe: https://pandas.pydata.org/pandas-docs/stable/reference/api/pandas.DataFrame.from_dict.html\n",
    "print(\"Converting dictionary of stats to a dataframe...\")\n",
    "stats_df = pandas.DataFrame.from_dict(stats)\n",
    "print(\"Dataframe completed! Here are some entries: {}\".format(stats_df[:5]))"
   ]
  },
  {
   "cell_type": "code",
   "execution_count": null,
   "metadata": {},
   "outputs": [],
   "source": [
    "# Save Dataframe to CSV: https://riptutorial.com/pandas/example/19502/create-random-dataframe-and-write-to--csv\n",
    "print(\"Saving dataframe as CSV...\")\n",
    "stats_df.to_csv(\"data/stats_authors_contribs_by_gender.csv\")\n",
    "print(\"Stats saved as CSV!\")"
   ]
  },
  {
   "cell_type": "code",
   "execution_count": null,
   "metadata": {},
   "outputs": [],
   "source": [
    "cmap(1)"
   ]
  },
  {
   "cell_type": "code",
   "execution_count": null,
   "metadata": {},
   "outputs": [],
   "source": [
    "# >>> Visualization\n",
    "# Preparation\n",
    "\n",
    "import matplotlib.pyplot as plt\n",
    "import numpy as np\n",
    "\n",
    "size = 0.3\n",
    "\n",
    "# Colors for the pie chart\n",
    "cmap = plt.get_cmap(\"tab20c\")\n",
    "cmap_2 = plt.get_cmap(\"tab20b\")\n",
    "text = cmap(16)\n",
    "very_outer_colors = [cmap(9), cmap_2(10)]\n",
    "outer_colors = cmap([1,5]) # Publications\n",
    "inner_colors = [cmap(13), cmap_2(13)] # Authors"
   ]
  },
  {
   "cell_type": "code",
   "execution_count": null,
   "metadata": {},
   "outputs": [],
   "source": [
    "# Visualization of minimum values\n",
    "# Nested pie plot: https://matplotlib.org/gallery/pie_and_polar_charts/nested_pie.html#sphx-glr-gallery-pie-and-polar-charts-nested-pie-py\n",
    "# Labelling a pie chart: https://matplotlib.org/gallery/pie_and_polar_charts/pie_and_donut_labels.html#sphx-glr-gallery-pie-and-polar-charts-pie-and-donut-labels-py\n",
    "# Placing multiple legends: https://matplotlib.org/tutorials/intermediate/legend_guide.html\n",
    "\n",
    "fig, ax = plt.subplots()\n",
    "\n",
    "genders = ['female', 'male']\n",
    "authors = [n_authors_f_min, n_authors_m_min] \n",
    "publications = [n_contribs_f_min_v2, n_contribs_m_min_v2]\n",
    "contributions = [n_contribs_f_min, n_contribs_m_min]\n",
    "\n",
    "# Publications\n",
    "wedges_p, texts_p, autotexts_p = ax.pie(publications, radius=1.6-size, \n",
    "                                        colors=very_outer_colors, autopct='%1.1f%%', \n",
    "                                        pctdistance=1.2,\n",
    "                                        wedgeprops=dict(width=size, edgecolor='w'), \n",
    "                                        textprops=dict(color=text))\n",
    "l_p = ax.legend(wedges_p, genders, bbox_to_anchor=(1.25, 0.5), title=\"Publications\")\n",
    "plt.gca().add_artist(l_p)\n",
    "\n",
    "# Contributions\n",
    "wedges_c, texts_c, autotexts_c = ax.pie(contributions, radius=1, \n",
    "                                        colors=outer_colors, autopct='%1.1f%%', \n",
    "                                        pctdistance=0.82,\n",
    "                                        wedgeprops=dict(width=size, edgecolor='w'), \n",
    "                                        textprops=dict(color=text))\n",
    "l_c = ax.legend(wedges_c, genders, bbox_to_anchor=(1.25, 0.75), title=\"Contributions\")\n",
    "plt.gca().add_artist(l_c)\n",
    "\n",
    "# Authors\n",
    "wedges_a, texts_a, autotexts_a = ax.pie(authors, radius=1-size, \n",
    "                                        colors=inner_colors, autopct='%1.1f%%', # form of percentages\n",
    "                                        pctdistance=0.3, # how far away are percentages from center?\n",
    "                                        wedgeprops=dict(width=size, edgecolor='w'), # color of edges\n",
    "                                        textprops=dict(color=text)) # color of percentages\n",
    "l_a = ax.legend(wedges_a, genders, bbox_to_anchor=(1.25, 1), title=\"Authors\")\n",
    "plt.gca().add_artist(l_a) # Add legend\n",
    "\n",
    "plt.title(\"How many authors and how many publications \\n are there in total per gender?\\n\")\n",
    "\n",
    "plt.show()"
   ]
  },
  {
   "cell_type": "code",
   "execution_count": null,
   "metadata": {},
   "outputs": [],
   "source": [
    "# Visualization of minimum values\n",
    "# Nested pie plot: https://matplotlib.org/gallery/pie_and_polar_charts/nested_pie.html#sphx-glr-gallery-pie-and-polar-charts-nested-pie-py\n",
    "# Labelling a pie chart: https://matplotlib.org/gallery/pie_and_polar_charts/pie_and_donut_labels.html#sphx-glr-gallery-pie-and-polar-charts-pie-and-donut-labels-py\n",
    "# Placing multiple legends: https://matplotlib.org/tutorials/intermediate/legend_guide.html\n",
    "\n",
    "fig, ax = plt.subplots()\n",
    "\n",
    "genders = ['female', 'male']\n",
    "authors = [n_authors_f_max, n_authors_m_max] \n",
    "publications = [n_contribs_f_max_v2, n_contribs_m_max_v2]\n",
    "contributions = [n_contribs_f_max, n_contribs_m_max]\n",
    "\n",
    "# Publications\n",
    "wedges_p, texts_p, autotexts_p = ax.pie(publications, radius=1.6-size, \n",
    "                                        colors=very_outer_colors, autopct='%1.1f%%', \n",
    "                                        pctdistance=1.2,\n",
    "                                        wedgeprops=dict(width=size, edgecolor='w'), \n",
    "                                        textprops=dict(color=text))\n",
    "l_p = ax.legend(wedges_p, genders, bbox_to_anchor=(1.25, 0.5), title=\"Publications\")\n",
    "plt.gca().add_artist(l_p)\n",
    "\n",
    "# Contributions\n",
    "wedges_c, texts_c, autotexts_c = ax.pie(contributions, radius=1, \n",
    "                                        colors=outer_colors, autopct='%1.1f%%', \n",
    "                                        pctdistance=0.82,\n",
    "                                        wedgeprops=dict(width=size, edgecolor='w'), \n",
    "                                        textprops=dict(color=text))\n",
    "l_c = ax.legend(wedges_c, genders, bbox_to_anchor=(1.25, 0.75), title=\"Contributions\")\n",
    "plt.gca().add_artist(l_c)\n",
    "\n",
    "# Authors\n",
    "wedges_a, texts_a, autotexts_a = ax.pie(authors, radius=1-size, \n",
    "                                        colors=inner_colors, autopct='%1.1f%%', # form of percentages\n",
    "                                        pctdistance=0.3, # how far away are percentages from center?\n",
    "                                        wedgeprops=dict(width=size, edgecolor='w'), # color of edges\n",
    "                                        textprops=dict(color=text)) # color of percentages\n",
    "l_a = ax.legend(wedges_a, genders, bbox_to_anchor=(1.25, 1), title=\"Authors\")\n",
    "plt.gca().add_artist(l_a) # Add legend\n",
    "\n",
    "plt.title(\"How many authors and how many publications \\n are there in total per gender?\\n\")\n",
    "\n",
    "plt.show()"
   ]
  },
  {
   "cell_type": "code",
   "execution_count": null,
   "metadata": {},
   "outputs": [],
   "source": [
    "# >>> Evaluation\n",
    "# Hypothesis 1 and 2 are correct. \n",
    "# Overall, there are more male than female authors. In total, more has been written by men than by women."
   ]
  }
 ],
 "metadata": {
  "kernelspec": {
   "display_name": "Python 3",
   "language": "python",
   "name": "python3"
  },
  "language_info": {
   "codemirror_mode": {
    "name": "ipython",
    "version": 3
   },
   "file_extension": ".py",
   "mimetype": "text/x-python",
   "name": "python",
   "nbconvert_exporter": "python",
   "pygments_lexer": "ipython3",
   "version": "3.7.1"
  }
 },
 "nbformat": 4,
 "nbformat_minor": 2
}
