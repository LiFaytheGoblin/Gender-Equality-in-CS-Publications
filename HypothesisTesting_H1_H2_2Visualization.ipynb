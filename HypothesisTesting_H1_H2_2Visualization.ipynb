{
 "cells": [
  {
   "cell_type": "code",
   "execution_count": null,
   "metadata": {},
   "outputs": [],
   "source": [
    "# HYPOTHESIS TESTING\n",
    "# TODO: Visualization"
   ]
  },
  {
   "cell_type": "code",
   "execution_count": null,
   "metadata": {},
   "outputs": [],
   "source": [
    "# Hypothesis 1: \n",
    "# Overall, there are more male than female authors who publish in the area of computer science. \n",
    "\n",
    "# Hypothesis 2: \n",
    "# In total, more has been written by men than by women."
   ]
  },
  {
   "cell_type": "code",
   "execution_count": 1,
   "metadata": {},
   "outputs": [
    {
     "name": "stdout",
     "output_type": "stream",
     "text": [
      "Importing names... \n",
      "Names imported. They look like this:                                         name likely_gender  n_publs  score\n",
      "name                                                                      \n",
      "'Maseka Lesaoana            'Maseka Lesaoana        female        2      8\n",
      "(David) Jing Dai            (David) Jing Dai          male        1      7\n",
      "(Max) Zong-Ming Cheng  (Max) Zong-Ming Cheng          male        2      8\n",
      "(Sophy) Shu-Jiun Chen  (Sophy) Shu-Jiun Chen        female        2      7\n",
      "(Zhou) Bryan Bai            (Zhou) Bryan Bai          male        2      6\n"
     ]
    }
   ],
   "source": [
    "import pandas\n",
    "\n",
    "print(\"Importing names... \")\n",
    "names = pandas.read_csv(\"data/names_cat_i3.csv\", usecols=[\"name\", \"n_publs\", \"likely_gender\", \"score\"])\n",
    "\n",
    "# Setting index & accessing cells: https://pythonhow.com/accessing-dataframe-columns-rows-and-cells/\n",
    "names = names.set_index(\"name\", drop = False)\n",
    "print(\"Names imported. They look like this: {}\".format(names[:5]))"
   ]
  },
  {
   "cell_type": "code",
   "execution_count": 4,
   "metadata": {},
   "outputs": [
    {
     "name": "stdout",
     "output_type": "stream",
     "text": [
      "Importing names... \n",
      "Stats imported. They look like this:                                     prop             1\n",
      "prop                                                  \n",
      "n_authors_f_cor          n_authors_f_cor  9.611025e+05\n",
      "n_authors_f_min          n_authors_f_min  1.441980e+05\n",
      "n_authors_m_cor          n_authors_m_cor  1.345316e+06\n",
      "n_authors_m_min          n_authors_m_min  1.112117e+06\n",
      "n_authors_u_max          n_authors_u_max  1.050103e+06\n",
      "n_contribs_f_max        n_contribs_f_max  1.995975e+05\n",
      "n_contribs_f_max_v2  n_contribs_f_max_v2  5.932080e+05\n",
      "n_contribs_m_max        n_contribs_m_max  2.490484e+06\n",
      "n_contribs_m_max_v2  n_contribs_m_max_v2  7.120339e+06\n",
      "n_contribs_u_min        n_contribs_u_min  1.786655e+06\n",
      "n_contribs_u_min_v2  n_contribs_u_min_v2  5.640198e+06\n"
     ]
    }
   ],
   "source": [
    "# >>> Preparation\n",
    "# Import stats to visualize\n",
    "import pandas\n",
    "\n",
    "print(\"Importing names... \")\n",
    "stats = pandas.read_csv(\"data/stats_authors_contribs_by_gender_cor1.csv\")\n",
    "\n",
    "# Rename column: https://stackoverflow.com/questions/19758364/rename-specific-columns-in-pandas\n",
    "stats.rename(columns={'Unnamed: 0':'prop'}, inplace=True)\n",
    "stats = stats.set_index(\"prop\", drop = False)\n",
    "\n",
    "print(\"Stats imported. They look like this: {}\".format(stats))"
   ]
  },
  {
   "cell_type": "code",
   "execution_count": 5,
   "metadata": {},
   "outputs": [],
   "source": [
    "# >>> Testing\n",
    "# Calculate statistics\n",
    "n_authors_f_min = stats.at[\"n_authors_f_min\", \"1\"]\n",
    "n_authors_m_min = stats.at[\"n_authors_m_min\", \"1\"]\n",
    "n_authors_u_max = stats.at[\"n_authors_u_max\", \"1\"]"
   ]
  },
  {
   "cell_type": "code",
   "execution_count": 6,
   "metadata": {},
   "outputs": [],
   "source": [
    "# Chi Square Test for distribution\n",
    "from scipy.stats import chisquare\n",
    "total = n_authors_f_min + n_authors_m_min\n",
    "exp_m = total / 2\n",
    "exp_f = total / 2\n",
    "chisquare([n_authors_f_min, n_authors_m_min], f_exp=[exp_f, exp_m])"
   ]
  },
  {
   "cell_type": "code",
   "execution_count": 20,
   "metadata": {},
   "outputs": [],
   "source": [
    "# >>> Visualization\n",
    "# Preparation\n",
    "\n",
    "\n",
    "import matplotlib as mpl\n",
    "import matplotlib.pyplot as plt\n",
    "import numpy as np\n",
    "\n",
    "mpl.rcParams['pgf.rcfonts'] = False\n",
    "mpl.rcParams['font.size'] = 11.0"
   ]
  },
  {
   "cell_type": "code",
   "execution_count": 22,
   "metadata": {},
   "outputs": [
    {
     "data": {
      "image/png": "[encoded data removed]",
      "text/plain": [
       "<Figure size 432x288 with 1 Axes>"
      ]
     },
     "metadata": {
      "needs_background": "light"
     },
     "output_type": "display_data"
    }
   ],
   "source": [
    "# H1 - if all unclassified were women\n",
    "\n",
    "plt.bar([\"female\", \"male\"], [n_authors_f_min, n_authors_m_min], color=\"grey\")\n",
    "plt.bar([\"unreliably classified\"], [n_authors_u_max], alpha=0.5, color=\"grey\")\n",
    "plt.xlabel(\"Gender\")\n",
    "plt.ylabel(\"Authors\")\n",
    "plt.savefig('graphs/h1/authors_by_gender_2.pdf')\n",
    "plt.savefig('graphs/h1/authors_by_gender_2.pgf')"
   ]
  },
  {
   "cell_type": "code",
   "execution_count": null,
   "metadata": {},
   "outputs": [],
   "source": [
    "# >>> Evaluation\n",
    "# Hypothesis 1 and 2 are correct. \n",
    "# Overall, there are more male than female authors. In total, more has been written by men than by women."
   ]
  },
  {
   "cell_type": "code",
   "execution_count": null,
   "metadata": {},
   "outputs": [],
   "source": []
  }
 ],
 "metadata": {
  "kernelspec": {
   "display_name": "Python 3",
   "language": "python",
   "name": "python3"
  },
  "language_info": {
   "codemirror_mode": {
    "name": "ipython",
    "version": 3
   },
   "file_extension": ".py",
   "mimetype": "text/x-python",
   "name": "python",
   "nbconvert_exporter": "python",
   "pygments_lexer": "ipython3",
   "version": "3.7.1"
  }
 },
 "nbformat": 4,
 "nbformat_minor": 2
}
