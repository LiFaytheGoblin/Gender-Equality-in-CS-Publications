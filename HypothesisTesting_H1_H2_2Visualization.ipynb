{
 "cells": [
  {
   "cell_type": "code",
   "execution_count": null,
   "metadata": {},
   "outputs": [],
   "source": [
    "# HYPOTHESIS TESTING\n",
    "# TODO: Visualization"
   ]
  },
  {
   "cell_type": "code",
   "execution_count": null,
   "metadata": {},
   "outputs": [],
   "source": [
    "# Hypothesis 1: \n",
    "# Overall, there are more male than female authors who publish in the area of computer science. \n",
    "\n",
    "# Hypothesis 2: \n",
    "# In total, more has been written by men than by women."
   ]
  },
  {
   "cell_type": "code",
   "execution_count": 1,
   "metadata": {},
   "outputs": [
    {
     "name": "stdout",
     "output_type": "stream",
     "text": [
      "Importing names... \n",
      "Stats imported. They look like this:                                     prop             1\n",
      "prop                                                  \n",
      "n_authors_f_cor          n_authors_f_cor  9.611025e+05\n",
      "n_authors_f_min          n_authors_f_min  1.441980e+05\n",
      "n_authors_m_cor          n_authors_m_cor  1.345316e+06\n",
      "n_authors_m_min          n_authors_m_min  1.112117e+06\n",
      "n_authors_u_max          n_authors_u_max  1.050103e+06\n",
      "n_contribs_f_max        n_contribs_f_max  1.995975e+05\n",
      "n_contribs_f_max_v2  n_contribs_f_max_v2  5.932080e+05\n",
      "n_contribs_m_max        n_contribs_m_max  2.490484e+06\n",
      "n_contribs_m_max_v2  n_contribs_m_max_v2  7.120339e+06\n",
      "n_contribs_u_min        n_contribs_u_min  1.786655e+06\n",
      "n_contribs_u_min_v2  n_contribs_u_min_v2  5.640198e+06\n"
     ]
    }
   ],
   "source": [
    "# >>> Preparation\n",
    "# Import stats to visualize\n",
    "import pandas\n",
    "\n",
    "print(\"Importing names... \")\n",
    "stats = pandas.read_csv(\"data/stats_authors_contribs_by_gender_cor1.csv\")\n",
    "\n",
    "# Rename column: https://stackoverflow.com/questions/19758364/rename-specific-columns-in-pandas\n",
    "stats.rename(columns={'Unnamed: 0':'prop'}, inplace=True)\n",
    "stats = stats.set_index(\"prop\", drop = False)\n",
    "\n",
    "print(\"Stats imported. They look like this: {}\".format(stats))"
   ]
  },
  {
   "cell_type": "code",
   "execution_count": 2,
   "metadata": {},
   "outputs": [],
   "source": [
    "# >>> Testing\n",
    "# Calculate statistics\n",
    "n_authors_f_min = stats.at[\"n_authors_f_min\", \"1\"]\n",
    "n_authors_m_min = stats.at[\"n_authors_m_min\", \"1\"]\n",
    "n_authors_u_max = stats.at[\"n_authors_u_max\", \"1\"]\n",
    "\n",
    "n_authors_f_max = stats.at[\"n_authors_f_cor\", \"1\"]\n",
    "n_authors_m_max = stats.at[\"n_authors_m_cor\", \"1\"]\n",
    "\n",
    "n_contribs_f_max = stats.at[\"n_contribs_f_max\", \"1\"]\n",
    "n_contribs_m_max = stats.at[\"n_contribs_m_max\", \"1\"]\n",
    "n_contribs_u_min = stats.at[\"n_contribs_u_min\", \"1\"]\n",
    "\n",
    "n_contribs_f_max_v2 = stats.at[\"n_contribs_f_max_v2\", \"1\"]\n",
    "n_contribs_m_max_v2 = stats.at[\"n_contribs_m_max_v2\", \"1\"]\n",
    "n_contribs_u_min_v2 = stats.at[\"n_contribs_u_min_v2\", \"1\"]"
   ]
  },
  {
   "cell_type": "code",
   "execution_count": 3,
   "metadata": {},
   "outputs": [
    {
     "name": "stdout",
     "output_type": "stream",
     "text": [
      "At maximum, men contributed 12.477533869532543 times more than women\n",
      "At minimum, men contributed 1.2538608455098752 times more than women\n",
      "At maximum, men contributed to 12.003106836050762 times more publications than women (publications can be counted several times)\n",
      "\n",
      "There are at maximum 1.3997627724410246 times more male than female authors.\n",
      "There are at minimum 7.712430130792383 times more male than female authors.\n",
      "\n",
      "There are at maximum 1050103.0 authors of unknown gender, who made 1786655.1303914874 contributions.\n",
      "These authors of unknown gender contributed to a maximum of 5640198.0 publications (publications can be counted several times)\n"
     ]
    },
    {
     "data": {
      "text/plain": [
       "' CORRECTED\\nAt maximum, men contributed 12.477533869532543 times more than women\\nAt maximum, men contributed to 12.003106836050762 times more publications than women (publications can be counted several times)\\n\\nThere are at maximum 1.3997627724410246 times more male than female authors.\\nThere are at minimum 7.712430130792383 times more male than female authors.\\n\\nThere are at maximum 1050103.0 authors of unknown gender, who made 1786655.1303914874 contributions.\\nThese authors of unknown gender contributed to a maximum of 5640198.0 publications (publications can be counted several times)\\n'"
      ]
     },
     "execution_count": 3,
     "metadata": {},
     "output_type": "execute_result"
    }
   ],
   "source": [
    "# Logging results\n",
    "print(\"At maximum, men contributed {} times more than women\".format(n_contribs_m_max / n_contribs_f_max))\n",
    "print(\"At minimum, men contributed {} times more than women\".format(n_contribs_m_max / (n_contribs_f_max + n_contribs_u_min)))\n",
    "print(\"At maximum, men contributed to {} times more publications than women (publications can be counted several times)\".format(n_contribs_m_max_v2 / n_contribs_f_max_v2))\n",
    "print(\"\")\n",
    "print(\"There are at maximum {} times more male than female authors.\".format(n_authors_m_max / n_authors_f_max))\n",
    "print(\"There are at minimum {} times more male than female authors.\".format(n_authors_m_min / n_authors_f_min))\n",
    "print(\"\")\n",
    "print(\"There are at maximum {} authors of unknown gender, who made {} contributions.\".format(n_authors_u_max, n_contribs_u_min))\n",
    "print(\"These authors of unknown gender contributed to a maximum of {} publications (publications can be counted several times)\".format(n_contribs_u_min_v2))\n",
    "'''\n",
    "At minimum, 19869.0 female authors made 29548.627248654702 contributions and 539864.0 male authors made 1263411.8767900162 contributions\n",
    "At maximum, 144198.0 female authors made 199597.48538935184 contributions and 1112117.0 male authors made 1263411.8767900162 contributions\n",
    "\n",
    "At maximum, men contributed 42.757041339290545 times more than women\n",
    "At minimum, men contributed 6.329798565976407 times more than women\n",
    "\n",
    "At minimum, 19869.0 female authors contributed to 86725.0 publications and 539864.0 male authors contributed to 3525581.0 publications (publications can be counted several times)\n",
    "At maximum, 144198.0 female authors contributed to 593208.0 publications and 1112117.0 male authors contributed to 7120339.0 publications (publications can be counted several times)\n",
    "\n",
    "At maximum, men contributed to publications 40.65241856442779 times more than women (publications can be counted several times)\n",
    "At minimum, men contributed to publications 12.003106836050762 times more than women (publications can be counted several times)\n",
    "\n",
    "There are at maximum 27.17117117117117 times more male than female authors.\n",
    "There are at minimum 7.712430130792383 times more male than female authors.\n",
    "\n",
    "There are between 1050103.0 and 1746685.0 authors of unknown gender, who made between 1786655.1303914874 and 3183776.49596133 contributions.\n",
    "These authors of unknown gender contributed to 5640198.0 to 9741439.0 publications\n",
    "'''\n",
    "''' CORRECTED\n",
    "At maximum, men contributed 12.477533869532543 times more than women\n",
    "At maximum, men contributed to 12.003106836050762 times more publications than women (publications can be counted several times)\n",
    "\n",
    "There are at maximum 1.3997627724410246 times more male than female authors.\n",
    "There are at minimum 7.712430130792383 times more male than female authors.\n",
    "\n",
    "There are at maximum 1050103.0 authors of unknown gender, who made 1786655.1303914874 contributions.\n",
    "These authors of unknown gender contributed to a maximum of 5640198.0 publications (publications can be counted several times)\n",
    "'''"
   ]
  },
  {
   "cell_type": "code",
   "execution_count": 4,
   "metadata": {},
   "outputs": [],
   "source": [
    "# >>> Visualization\n",
    "# Preparation\n",
    "\n",
    "import matplotlib.pyplot as plt\n",
    "import numpy as np\n",
    "\n",
    "size = 0.3\n",
    "\n",
    "# Colors for the pie chart\n",
    "cmap = plt.get_cmap(\"tab20c\")"
   ]
  },
  {
   "cell_type": "code",
   "execution_count": 5,
   "metadata": {},
   "outputs": [
    {
     "data": {
      "text/plain": [
       "Text(0.5, 1.0, 'How many male and female authors are there?')"
      ]
     },
     "execution_count": 5,
     "metadata": {},
     "output_type": "execute_result"
    },
    {
     "data": {
      "image/png": "[encoded data removed]",
      "text/plain": [
       "<Figure size 432x288 with 1 Axes>"
      ]
     },
     "metadata": {
      "needs_background": "light"
     },
     "output_type": "display_data"
    }
   ],
   "source": [
    "# H1\n",
    "plt.bar([\"female\", \"male\"], [n_authors_f_max, n_authors_m_max], alpha=0.5, color=\"orange\", label=\"Unclassified authors\")\n",
    "plt.bar([\"female\", \"male\"], [n_authors_f_min, n_authors_m_min], color=\"orange\")\n",
    "plt.xlabel(\"Gender\")\n",
    "plt.ylabel(\"Authors\")\n",
    "plt.legend()\n",
    "plt.title(\"How many male and female authors are there?\")"
   ]
  },
  {
   "cell_type": "code",
   "execution_count": 6,
   "metadata": {},
   "outputs": [
    {
     "data": {
      "text/plain": [
       "Text(0.5, 1.0, 'How many male and female authors are there?')"
      ]
     },
     "execution_count": 6,
     "metadata": {},
     "output_type": "execute_result"
    },
    {
     "data": {
      "image/png": "[encoded data removed]",
      "text/plain": [
       "<Figure size 432x288 with 1 Axes>"
      ]
     },
     "metadata": {
      "needs_background": "light"
     },
     "output_type": "display_data"
    }
   ],
   "source": [
    "# H1 - if all unclassified were women\n",
    "plt.bar([\"female\", \"male\"], [n_authors_f_min + n_authors_u_max, n_authors_m_min], alpha=0.5, color=\"orange\", label=\"Unclassified authors\")\n",
    "plt.bar([\"female\", \"male\"], [n_authors_f_min, n_authors_m_min], color=\"orange\")\n",
    "plt.xlabel(\"Gender\")\n",
    "plt.ylabel(\"Authors\")\n",
    "plt.legend()\n",
    "plt.title(\"How many male and female authors are there?\")"
   ]
  },
  {
   "cell_type": "code",
   "execution_count": 7,
   "metadata": {},
   "outputs": [
    {
     "data": {
      "text/plain": [
       "Text(0.5, 1.0, 'How many contributions did male and female authors make?')"
      ]
     },
     "execution_count": 7,
     "metadata": {},
     "output_type": "execute_result"
    },
    {
     "data": {
      "image/png": "[encoded data removed]",
      "text/plain": [
       "<Figure size 432x288 with 1 Axes>"
      ]
     },
     "metadata": {
      "needs_background": "light"
     },
     "output_type": "display_data"
    }
   ],
   "source": [
    "# H2\n",
    "plt.bar([\"female\", \"male\"], [n_contribs_f_max + n_contribs_u_min, n_contribs_m_max], alpha=0.5, color=\"orange\", label=\"Contributions made by\\n unclassified authors\")\n",
    "plt.bar([\"female\", \"male\"], [n_contribs_f_max, n_contribs_m_max], color=\"orange\")\n",
    "plt.xlabel(\"Gender\")\n",
    "plt.ylabel(\"Contributions\")\n",
    "plt.legend()\n",
    "plt.title(\"How many contributions did male and female authors make?\")"
   ]
  },
  {
   "cell_type": "code",
   "execution_count": 8,
   "metadata": {},
   "outputs": [],
   "source": [
    "# >>> Evaluation\n",
    "# Hypothesis 1 and 2 are correct. \n",
    "# Overall, there are more male than female authors. In total, more has been written by men than by women."
   ]
  },
  {
   "cell_type": "code",
   "execution_count": null,
   "metadata": {},
   "outputs": [],
   "source": []
  }
 ],
 "metadata": {
  "kernelspec": {
   "display_name": "Python 3",
   "language": "python",
   "name": "python3"
  },
  "language_info": {
   "codemirror_mode": {
    "name": "ipython",
    "version": 3
   },
   "file_extension": ".py",
   "mimetype": "text/x-python",
   "name": "python",
   "nbconvert_exporter": "python",
   "pygments_lexer": "ipython3",
   "version": "3.7.1"
  }
 },
 "nbformat": 4,
 "nbformat_minor": 2
}
