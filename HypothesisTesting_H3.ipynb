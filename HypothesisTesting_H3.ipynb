{
 "cells": [
  {
   "cell_type": "code",
   "execution_count": null,
   "metadata": {},
   "outputs": [],
   "source": [
    "# HYPOTHESIS TESTING"
   ]
  },
  {
   "cell_type": "code",
   "execution_count": null,
   "metadata": {},
   "outputs": [],
   "source": [
    "# Hypothesis 3:\n",
    "# A male author is more productive than a female author."
   ]
  },
  {
   "cell_type": "code",
   "execution_count": null,
   "metadata": {},
   "outputs": [],
   "source": [
    "# >>> Preparation\n",
    "# Import categorized 'names_cat.csv'\n",
    "import pandas\n",
    "\n",
    "print(\"Importing names... \")\n",
    "names = pandas.read_csv(\"data/names_cat_i2.csv\", usecols=[\"name\", \"n_publs\", \"likely_gender\", \"score\"])\n",
    "\n",
    "# Setting index & accessing cells: https://pythonhow.com/accessing-dataframe-columns-rows-and-cells/\n",
    "names = names.set_index(\"name\", drop = False)\n",
    "print(\"Names imported. They look like this: {}\".format(names[:5]))"
   ]
  },
  {
   "cell_type": "code",
   "execution_count": null,
   "metadata": {},
   "outputs": [],
   "source": [
    "print(\"Importing publications... \")\n",
    "cols = [\n",
    "    'key', \n",
    "    'pub_cat',\n",
    "    'pub_type',\n",
    "    'title',\n",
    "    'year',\n",
    "    'authors',\n",
    "    'n_authors',\n",
    "    'n_males',\n",
    "    'n_females',\n",
    "    'n_unknown',\n",
    "    'ratio',\n",
    "    'n_males_min',\n",
    "    'n_females_min',\n",
    "    'n_unknown_max',\n",
    "    'ratio_min',\n",
    "    'n_contribs_females',\n",
    "    'n_contribs_males',\n",
    "    'n_contribs_unknown',\n",
    "    'n_contribs_females_min',\n",
    "    'n_contribs_males_min',\n",
    "    'n_contribs_unknown_max'\n",
    "]\n",
    "\n",
    "publs = pandas.read_csv(\"data/publications_cor2.csv\", usecols=cols)\n",
    "\n",
    "# Setting index & accessing cells: https://pythonhow.com/accessing-dataframe-columns-rows-and-cells/\n",
    "publs = publs.set_index(\"key\", drop = False)\n",
    "print(\"Publications imported. They look like this: {}\".format(publs[:5]))"
   ]
  },
  {
   "cell_type": "code",
   "execution_count": null,
   "metadata": {},
   "outputs": [],
   "source": [
    "# >>> Testing\n",
    "# A male author is more productive than a female author."
   ]
  },
  {
   "cell_type": "code",
   "execution_count": null,
   "metadata": {},
   "outputs": [],
   "source": [
    "# Relative values\n",
    "# Publications Contributed to\n",
    "# Finding the mode of a series: https://stackoverflow.com/questions/10797819/finding-the-mode-of-a-list\n",
    "from statistics import mode\n",
    "\n",
    "names_max = names[names['score'] >= 5]\n",
    "\n",
    "# Maximum values\n",
    "n_publs_mean = names_max['n_publs'].mean() # Overall mean of amount of publications\n",
    "n_publs_median = names_max['n_publs'].median() # Overall median of amount of authors\n",
    "n_publs_mode = mode(names_max['n_publs']) # Overall median of amount of authors\n",
    "\n",
    "n_publs_mean_by_gender = names_max.groupby(\"likely_gender\").agg({'n_publs':'mean'}) # Mean by gender\n",
    "n_publs_median_by_gender = names_max.groupby(\"likely_gender\").agg({'n_publs':'median'}) # Median by gender\n",
    "n_publs_mode_by_gender = names_max.groupby(\"likely_gender\").agg({'n_publs': mode}) # Mode by gender\n",
    "\n",
    "n_publs_f_mean = n_publs_mean_by_gender.at[\"female\", \"n_publs\"] # mean for female authors\n",
    "n_publs_m_mean = n_publs_mean_by_gender.at[\"male\", \"n_publs\"] # mean for male authors\n",
    "\n",
    "n_publs_f_median = n_publs_median_by_gender.at[\"female\", \"n_publs\"] # median for female authors\n",
    "n_publs_m_median = n_publs_median_by_gender.at[\"male\", \"n_publs\"] # median for male authors\n",
    "\n",
    "n_publs_f_mode = n_publs_mode_by_gender.at[\"female\", \"n_publs\"] # mode for female authors\n",
    "n_publs_m_mode = n_publs_mode_by_gender.at[\"male\", \"n_publs\"] # mode for male authors\n",
    "\n",
    "names_u = names[names['score'] < 5]\n",
    "n_publs_u_mean = names_u['n_publs'].mean() # Overall mean of amount of publications\n",
    "n_publs_u_median = names_u['n_publs'].median() # Overall median of amount of authors\n",
    "n_publs_u_mode = mode(names_u['n_publs']) # Overall median of amount of authors\n",
    "\n",
    "print(\"On average, an author contributes to: mean={}, median={} and mode={} publications\".format(n_publs_mean, n_publs_median, n_publs_mode))\n",
    "print(\"On average, an author of unknown gender contributes to: mean={}, median={} and mode={} publications\".format(n_publs_u_mean, n_publs_u_median, n_publs_u_mode))\n",
    "print(\"On average, a female author contributes to: mean={}, median={} and mode={} publications\".format(n_publs_f_mean, n_publs_f_median, n_publs_f_mode))\n",
    "print(\"On average, a male author contributes to: mean={}, median={} and mode={} publications\".format(n_publs_m_mean, n_publs_m_median, n_publs_m_mode))\n",
    "print(\"On average, a male author contributes to {} times more publications than a female author\".format(n_publs_m_mean/n_publs_f_mean))\n",
    "'''\n",
    "On average, an author contributes to: mean=6.139819233233704, median=2.0 and mode=1 publications\n",
    "On average, an author of unknown gender contributes to: mean=5.371090264478818, median=1.0 and mode=1 publications\n",
    "On average, a female author contributes to: mean=4.113843465235301, median=1 and mode=1 publications\n",
    "On average, a male author contributes to: mean=6.402508908684967, median=2 and mode=1 publications\n",
    "On average, a male author contributes to 1.5563326516408327 times more publications\n",
    "'''"
   ]
  },
  {
   "cell_type": "code",
   "execution_count": null,
   "metadata": {},
   "outputs": [],
   "source": [
    "import numpy as np\n",
    "\n",
    "f = publs['n_contribs_females'].values\n",
    "m = publs['n_contribs_males'].values\n",
    "u = publs['n_contribs_unknown'].values\n",
    "# appending numpy arrays: https://docs.scipy.org/doc/numpy/reference/generated/numpy.append.html\n",
    "total_contribs = np.append(f, m) \n",
    "total_contribs = np.append(total_contribs, u)"
   ]
  },
  {
   "cell_type": "code",
   "execution_count": null,
   "metadata": {},
   "outputs": [],
   "source": [
    "# Relative values\n",
    "# Single Contributions\n",
    "\n",
    "n_contribs_mean = total_contribs.mean()\n",
    "n_contribs_median = np.median(total_contribs) # https://docs.scipy.org/doc/numpy-1.13.0/reference/generated/numpy.median.html\n",
    "n_contribs_mode = mode(total_contribs)\n",
    "\n",
    "n_contribs_f_mean = publs['n_contribs_females'].mean() # mean for female authors\n",
    "n_contribs_m_mean = publs['n_contribs_males'].mean() # mean for male authors\n",
    "n_contribs_u_mean = publs['n_contribs_unknown'].mean() # mean for unknown authors\n",
    "\n",
    "n_contribs_f_median = publs['n_contribs_females'].median() # median for female authors\n",
    "n_contribs_m_median = publs['n_contribs_males'].median() # median for male authors\n",
    "n_contribs_u_median = publs['n_contribs_unknown'].median() # median for male authors\n",
    "\n",
    "n_contribs_f_mode = mode(publs['n_contribs_females']) # mode for female authors\n",
    "n_contribs_m_mode = mode(publs['n_contribs_males']) # mode for male authors\n",
    "n_contribs_u_mode = mode(publs['n_contribs_unknown']) # mode for male authors\n",
    "\n",
    "print(\"On average, an author of unknown gender makes: mean={}, median={} and mode={} contributions\".format(n_contribs_u_mean, n_contribs_u_median, n_contribs_u_mode))\n",
    "print(\"On average, a female author makes: mean={}, median={} and mode={} contributions\".format(n_contribs_f_mean, n_contribs_f_median, n_contribs_f_mode))\n",
    "print(\"On average, a male author makes: mean={}, median={} and mode={} contributions\".format(n_contribs_m_mean, n_contribs_m_median, n_contribs_m_mode))\n",
    "print(\"On average, a male author makes {} times more publications than a female author\".format(n_contribs_m_mean/n_contribs_f_mean))"
   ]
  },
  {
   "cell_type": "code",
   "execution_count": null,
   "metadata": {},
   "outputs": [],
   "source": [
    "# >>> Visualization\n",
    "# Publications contributed to\n",
    "import matplotlib.pyplot as plt\n",
    "\n",
    "plt_mean = plt.plot(['male', 'female'], [n_publs_mean, n_publs_mean], 'r--', alpha=0.5, label='Overall Mean')\n",
    "plt_g_mean = plt.plot(['male','female'], [n_publs_m_mean, n_publs_f_mean], 'rx', label='Mean by Gender')\n",
    "\n",
    "plt_median = plt.plot(['male', 'female'],[n_publs_median, n_publs_median], 'b--', alpha=0.5, label='Overall Median')\n",
    "plt_g_median = plt.plot(['male', 'female'],[n_publs_m_median, n_publs_f_median], 'bx', label='Median by Gender')\n",
    "\n",
    "plt.xlabel('Gender')\n",
    "plt.ylabel('Amount of publications contributed to')\n",
    "\n",
    "plt.title(\"How many publications did authors contribute to on average (by gender)?\")\n",
    "\n",
    "plt.legend(loc=\"center\")\n",
    "plt.show()"
   ]
  },
  {
   "cell_type": "code",
   "execution_count": null,
   "metadata": {},
   "outputs": [],
   "source": [
    "# With unknown gender\n",
    "plt_mean = plt.plot(['male', 'female', 'unknown'], [n_publs_mean, n_publs_mean, n_publs_mean], 'r--', alpha=0.5, label='Overall Mean')\n",
    "plt_g_mean = plt.plot(['male','female', 'unknown'], [n_publs_m_mean, n_publs_f_mean, n_publs_u_mean], 'rx', label='Mean by Gender')\n",
    "\n",
    "plt_median = plt.plot(['male', 'female', 'unknown'],[n_publs_median, n_publs_median, n_publs_median], 'b--', alpha=0.5, label='Overall Median')\n",
    "plt_g_median = plt.plot(['male', 'female', 'unknown'],[n_publs_m_median, n_publs_f_median, n_publs_u_median], 'bx', label='Median by Gender')\n",
    "\n",
    "plt_mode = plt.plot(['male', 'female', 'unknown'],[n_publs_mode, n_publs_mode, n_publs_mode], 'g--', alpha=0.5, label='Overall Mode')\n",
    "plt_g_mode = plt.plot(['male', 'female', 'unknown'],[n_publs_m_mode, n_publs_f_mode, n_publs_u_mode], 'gx', label='Mode by Gender')\n",
    "\n",
    "\n",
    "plt.xlabel('Gender')\n",
    "plt.ylabel('Amount of publications contributed to')\n",
    "\n",
    "plt.title(\"How many publications did authors contribute to on average (by gender)?\")\n",
    "\n",
    "plt.legend(loc=\"best\")\n",
    "plt.show()"
   ]
  },
  {
   "cell_type": "code",
   "execution_count": null,
   "metadata": {},
   "outputs": [],
   "source": [
    "# Single Contributions\n",
    "plt_mean = plt.plot(['male', 'female'], [n_contribs_mean, n_contribs_mean], 'r--', alpha=0.5, label='Overall Mean')\n",
    "plt_g_mean = plt.plot(['male','female'], [n_contribs_m_mean, n_contribs_f_mean], 'rx', label='Mean by Gender')\n",
    "\n",
    "plt_median = plt.plot(['male', 'female'],[n_contribs_median, n_contribs_median], 'b--', alpha=0.5, label='Overall Median')\n",
    "plt_g_median = plt.plot(['male', 'female'],[n_contribs_m_median, n_contribs_f_median], 'bx', label='Median by Gender')\n",
    "\n",
    "plt_mode = plt.plot(['male', 'female'],[n_contribs_mode, n_contribs_mode], 'g--', alpha=0.5, label='Overall Mode')\n",
    "plt_g_mode = plt.plot(['male', 'female'],[n_contribs_m_mode, n_contribs_f_mode], 'gx', label='Mode by Gender')\n",
    "\n",
    "\n",
    "plt.xlabel('Gender')\n",
    "plt.ylabel('Amount of contributions made')\n",
    "\n",
    "plt.title(\"How many contributions did authors make on average (by gender)?\")\n",
    "\n",
    "plt.legend(loc=\"best\")\n",
    "plt.show()"
   ]
  },
  {
   "cell_type": "code",
   "execution_count": null,
   "metadata": {},
   "outputs": [],
   "source": [
    "# With unknowns\n",
    "plt_mean = plt.plot(['male', 'female', 'unknown'], [n_contribs_mean, n_contribs_mean, n_contribs_mean], 'r--', alpha=0.5, label='Overall Mean')\n",
    "plt_g_mean = plt.plot(['male','female', 'unknown'], [n_contribs_m_mean, n_contribs_f_mean, n_contribs_u_mean], 'rx', label='Mean by Gender')\n",
    "\n",
    "plt_median = plt.plot(['male', 'female', 'unknown'],[n_contribs_median, n_contribs_median, n_contribs_median], 'b--', alpha=0.5, label='Overall Median')\n",
    "plt_g_median = plt.plot(['male', 'female', 'unknown'],[n_contribs_m_median, n_contribs_f_median, n_contribs_u_median], 'bx', label='Median by Gender')\n",
    "\n",
    "plt_mode = plt.plot(['male', 'female', 'unknown'],[n_contribs_mode, n_contribs_mode, n_contribs_mode], 'g--', alpha=0.5, label='Overall Mode')\n",
    "plt_g_mode = plt.plot(['male', 'female', 'unknown'],[n_contribs_m_mode, n_contribs_f_mode, n_contribs_u_mode], 'gx', label='Mode by Gender')\n",
    "\n",
    "\n",
    "plt.xlabel('Gender')\n",
    "plt.ylabel('Amount of contributions made')\n",
    "\n",
    "plt.title(\"How many contributions did authors make on average (by gender)?\")\n",
    "\n",
    "plt.legend(loc=\"best\")\n",
    "plt.show()"
   ]
  },
  {
   "cell_type": "code",
   "execution_count": null,
   "metadata": {},
   "outputs": [],
   "source": [
    "# >>> Evaluation\n",
    "# Hypothesis 3 is correct. A male author is more productive than a female author."
   ]
  }
 ],
 "metadata": {
  "kernelspec": {
   "display_name": "Python 3",
   "language": "python",
   "name": "python3"
  },
  "language_info": {
   "codemirror_mode": {
    "name": "ipython",
    "version": 3
   },
   "file_extension": ".py",
   "mimetype": "text/x-python",
   "name": "python",
   "nbconvert_exporter": "python",
   "pygments_lexer": "ipython3",
   "version": "3.7.1"
  }
 },
 "nbformat": 4,
 "nbformat_minor": 2
}
