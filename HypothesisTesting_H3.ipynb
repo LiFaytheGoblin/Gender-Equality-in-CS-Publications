{
 "cells": [
  {
   "cell_type": "code",
   "execution_count": null,
   "metadata": {},
   "outputs": [],
   "source": [
    "# HYPOTHESIS TESTING"
   ]
  },
  {
   "cell_type": "code",
   "execution_count": null,
   "metadata": {},
   "outputs": [],
   "source": [
    "# Hypothesis 3:\n",
    "# A male author is more productive than a female author."
   ]
  },
  {
   "cell_type": "code",
   "execution_count": null,
   "metadata": {},
   "outputs": [],
   "source": [
    "# >>> Preparation\n",
    "# Import categorized 'names_cat.csv'\n",
    "import pandas\n",
    "\n",
    "print(\"Importing names... \")\n",
    "names = pandas.read_csv(\"data/names_cat_i3.csv\", usecols=[\"name\", \"n_publs\", \"likely_gender\", \"score\", \"n_contribs\"])\n",
    "\n",
    "# Setting index & accessing cells: https://pythonhow.com/accessing-dataframe-columns-rows-and-cells/\n",
    "names = names.set_index(\"name\", drop = False)\n",
    "print(\"Names imported. They look like this: {}\".format(names[:5]))"
   ]
  },
  {
   "cell_type": "code",
   "execution_count": null,
   "metadata": {},
   "outputs": [],
   "source": [
    "print(\"Importing publications... \")\n",
    "cols = [\n",
    "    'key', \n",
    "    'pub_cat',\n",
    "    'pub_type',\n",
    "    'title',\n",
    "    'year',\n",
    "    'authors',\n",
    "    'n_authors',\n",
    "    'n_males',\n",
    "    'n_females',\n",
    "    'n_unknown',\n",
    "    'ratio',\n",
    "    'n_contribs_females',\n",
    "    'n_contribs_males',\n",
    "    'n_contribs_unknown'\n",
    "]\n",
    "\n",
    "publs = pandas.read_csv(\"data/publications_cor3.csv\", usecols=cols)\n",
    "\n",
    "# Setting index & accessing cells: https://pythonhow.com/accessing-dataframe-columns-rows-and-cells/\n",
    "publs = publs.set_index(\"key\", drop = False)\n",
    "print(\"Publications imported. They look like this: {}\".format(publs[:5]))"
   ]
  },
  {
   "cell_type": "code",
   "execution_count": null,
   "metadata": {},
   "outputs": [],
   "source": [
    "# >>> Testing\n",
    "# A male author is more productive than a female author."
   ]
  },
  {
   "cell_type": "code",
   "execution_count": null,
   "metadata": {},
   "outputs": [],
   "source": [
    "from statistics import mode\n",
    "import matplotlib.pyplot as plt"
   ]
  },
  {
   "cell_type": "code",
   "execution_count": null,
   "metadata": {},
   "outputs": [],
   "source": [
    "'''\n",
    "On average, an author contributes to: mean=6.139819233233704, median=2.0 and mode=1 publications\n",
    "On average, an author of unknown gender contributes to: mean=5.371090264478818, median=1.0 and mode=1 publications\n",
    "On average, a female author contributes to: mean=4.113843465235301, median=1 and mode=1 publications\n",
    "On average, a male author contributes to: mean=6.402508908684967, median=2 and mode=1 publications\n",
    "On average, a male author contributes to 1.5563326516408327 times more publications\n",
    "'''"
   ]
  },
  {
   "cell_type": "code",
   "execution_count": null,
   "metadata": {
    "scrolled": true
   },
   "outputs": [],
   "source": [
    "# Relative values\n",
    "# Single Contributions\n",
    "# Finding the mode of a series: https://stackoverflow.com/questions/10797819/finding-the-mode-of-a-list\n",
    "from statistics import mode\n",
    "\n",
    "names_max = names[names['score'] >= 5]\n",
    "\n",
    "n_contribs_mean = names[\"n_contribs\"].mean()\n",
    "n_contribs_median = np.median(names[\"n_contribs\"]) # https://docs.scipy.org/doc/numpy-1.13.0/reference/generated/numpy.median.html\n",
    "n_contribs_mode = mode(names[\"n_contribs\"])\n",
    "\n",
    "n_contribs_mean_by_gender = names_max.groupby(\"likely_gender\").agg({'n_contribs':'mean'}) # Mean by gender\n",
    "n_contribs_mean_by_gender[\"likely_gender\"] = n_contribs_mean_by_gender.index.values\n",
    "\n",
    "n_contribs_median_by_gender = names_max.groupby(\"likely_gender\").agg({'n_contribs':'median'}) # Median by gender\n",
    "n_contribs_median_by_gender[\"likely_gender\"] = n_contribs_median_by_gender.index.values\n",
    "\n",
    "n_contribs_mode_by_gender = names_max.groupby(\"likely_gender\").agg({'n_contribs': mode}) # Mode by gender\n",
    "n_contribs_mode_by_gender[\"likely_gender\"] = n_contribs_mode_by_gender.index.values\n",
    "\n",
    "n_contribs_f_mean = n_contribs_mean_by_gender[\"n_contribs\"][\"female\"]\n",
    "n_contribs_f_median = n_contribs_median_by_gender[\"n_contribs\"][\"female\"]\n",
    "n_contribs_f_mode = n_contribs_mode_by_gender[\"n_contribs\"][\"female\"]\n",
    "\n",
    "n_contribs_m_mean = n_contribs_mean_by_gender[\"n_contribs\"][\"male\"]\n",
    "n_contribs_m_median = n_contribs_median_by_gender[\"n_contribs\"][\"male\"]\n",
    "n_contribs_m_mode = n_contribs_mode_by_gender[\"n_contribs\"][\"male\"]\n",
    "\n",
    "n_contribs_u_mean = names[names[\"score\"]<5][\"n_contribs\"].mean() # mean for unknown authors\n",
    "n_contribs_u_median = names[names[\"score\"]<5][\"n_contribs\"].median() # median for male authors\n",
    "n_contribs_u_mode = mode(names[names[\"score\"]<5][\"n_contribs\"]) # mode for male authors\n",
    "\n",
    "contribs_fmax = names[(names[\"likely_gender\"] == \"female\") | (names[\"score\"]<5)]\n",
    "\n",
    "n_contribs_fmax_mean = contribs_fmax[\"n_contribs\"].mean()\n",
    "n_contribs_fmax_median = contribs_fmax[\"n_contribs\"].median()\n",
    "n_contribs_fmax_mode = mode(contribs_fmax[\"n_contribs\"])\n",
    "\n",
    "print(\"On average, an author of unknown gender makes: mean={}, median={} and mode={} contributions\".format(n_contribs_u_mean, n_contribs_u_median, n_contribs_u_mode))\n",
    "print(\"On average, a female author makes: mean={}, median={} and mode={} contributions\".format(n_contribs_f_mean, n_contribs_f_median, n_contribs_f_mode))\n",
    "print(\"On average, a male author makes: mean={}, median={} and mode={} contributions\".format(n_contribs_m_mean, n_contribs_m_median, n_contribs_m_mode))\n",
    "print(\"On average, a potentially female author makes: mean={}, median={} and mode={} contributions\".format(n_contribs_fmax_mean, n_contribs_fmax_median, n_contribs_fmax_mode))\n",
    "'''\n",
    "On average, an author of unknown gender makes: mean=1.701409414493561, median=0.5 and mode=0.3333333333333333 contributions\n",
    "On average, a female author makes: mean=1.3841903867560146, median=0.5 and mode=0.3333333333333333 contributions\n",
    "On average, a male author makes: mean=2.239408609184296, median=0.5428571428571429 and mode=0.3333333333333333 contributions\n",
    "On average, a potentially female author makes: mean=1.663108894471549, median=0.5 and mode=0.3333333333333333 contributions\n",
    "\n",
    "'''"
   ]
  },
  {
   "cell_type": "code",
   "execution_count": null,
   "metadata": {},
   "outputs": [],
   "source": [
    "# >>> Visualization\n",
    "# Outliers Included\n",
    "plt_mean = plt.plot(['male', 'female', 'possibly female', 'unknown'], [n_contribs_mean, n_contribs_mean, n_contribs_mean, n_contribs_mean], 'r--', alpha=0.5, label='Overall Mean')\n",
    "plt_g_mean = plt.plot(['male','female', 'possibly female', 'unknown'], [n_contribs_m_mean, n_contribs_f_mean, n_contribs_fmax_mean, n_contribs_u_mean], 'rx', label='Mean by Gender')\n",
    "\n",
    "plt_median = plt.plot(['male', 'female', 'possibly female', 'unknown'],[n_contribs_median, n_contribs_median, n_contribs_median, n_contribs_median], 'b--', alpha=0.5, label='Overall Median')\n",
    "plt_g_median = plt.plot(['male', 'female', 'possibly female', 'unknown'],[n_contribs_m_median, n_contribs_f_median, n_contribs_fmax_median, n_contribs_u_median], 'bx', label='Median by Gender')\n",
    "\n",
    "plt_mode = plt.plot(['male', 'female', 'possibly female', 'unknown'],[n_contribs_mode, n_contribs_mode, n_contribs_mode, n_contribs_mode], 'g--', alpha=0.5, label='Overall Mode')\n",
    "plt_g_mode = plt.plot(['male', 'female', 'possibly female', 'unknown'],[n_contribs_m_mode, n_contribs_f_mode, n_contribs_fmax_mode, n_contribs_u_mode], 'gx', label='Mode by Gender')\n",
    "\n",
    "\n",
    "plt.xlabel('Gender')\n",
    "plt.ylabel('Amount of contributions made')\n",
    "\n",
    "plt.title(\"How many contributions did authors make on average (by gender)?\")\n",
    "\n",
    "plt.legend(bbox_to_anchor=(1.1, 1))\n",
    "plt.show()"
   ]
  },
  {
   "cell_type": "code",
   "execution_count": null,
   "metadata": {},
   "outputs": [],
   "source": [
    "# >>> See how outliers influence the result\n",
    "# Outlier calculation\n",
    "print(\"Calculating from what point on a team is an outlier, considering its size...\")\n",
    "import numpy as np\n",
    "lower = np.percentile(names[\"n_contribs\"], 25)\n",
    "higher = np.percentile(names[\"n_contribs\"], 75)\n",
    "interquart_range = higher - lower\n",
    "outer_fence = higher + interquart_range * 3\n",
    "print(\"The outer fence is {}\".format(outer_fence))"
   ]
  },
  {
   "cell_type": "code",
   "execution_count": null,
   "metadata": {},
   "outputs": [],
   "source": [
    "lower"
   ]
  },
  {
   "cell_type": "code",
   "execution_count": null,
   "metadata": {},
   "outputs": [],
   "source": [
    "regular_authors = names[names[\"n_contribs\"] <= outer_fence]\n",
    "regular_authors_max = regular_authors[regular_authors[\"score\"] >= 5]"
   ]
  },
  {
   "cell_type": "code",
   "execution_count": null,
   "metadata": {},
   "outputs": [],
   "source": [
    "n_contribs_mean = regular_authors[\"n_contribs\"].mean()\n",
    "n_contribs_median = np.median(regular_authors[\"n_contribs\"]) # https://docs.scipy.org/doc/numpy-1.13.0/reference/generated/numpy.median.html\n",
    "n_contribs_mode = mode(regular_authors[\"n_contribs\"])\n",
    "\n",
    "n_contribs_mean_by_gender = regular_authors_max.groupby(\"likely_gender\").agg({'n_contribs':'mean'}) # Mean by gender\n",
    "n_contribs_mean_by_gender[\"likely_gender\"] = n_contribs_mean_by_gender.index.values\n",
    "\n",
    "n_contribs_median_by_gender = regular_authors_max.groupby(\"likely_gender\").agg({'n_contribs':'median'}) # Median by gender\n",
    "n_contribs_median_by_gender[\"likely_gender\"] = n_contribs_median_by_gender.index.values\n",
    "\n",
    "n_contribs_mode_by_gender = regular_authors_max.groupby(\"likely_gender\").agg({'n_contribs': mode}) # Mode by gender\n",
    "n_contribs_mode_by_gender[\"likely_gender\"] = n_contribs_mode_by_gender.index.values\n",
    "\n",
    "n_contribs_f_mean = n_contribs_mean_by_gender[\"n_contribs\"][\"female\"]\n",
    "n_contribs_f_median = n_contribs_median_by_gender[\"n_contribs\"][\"female\"]\n",
    "n_contribs_f_mode = n_contribs_mode_by_gender[\"n_contribs\"][\"female\"]\n",
    "\n",
    "n_contribs_m_mean = n_contribs_mean_by_gender[\"n_contribs\"][\"male\"]\n",
    "n_contribs_m_median = n_contribs_median_by_gender[\"n_contribs\"][\"male\"]\n",
    "n_contribs_m_mode = n_contribs_mode_by_gender[\"n_contribs\"][\"male\"]\n",
    "\n",
    "n_contribs_u_mean = regular_authors[regular_authors[\"score\"]<5][\"n_contribs\"].mean() # mean for unknown authors\n",
    "n_contribs_u_median = regular_authors[regular_authors[\"score\"]<5][\"n_contribs\"].median() # median for male authors\n",
    "n_contribs_u_mode = mode(regular_authors[regular_authors[\"score\"]<5][\"n_contribs\"]) # mode for male authors\n",
    "\n",
    "contribs_fmax = regular_authors[(regular_authors[\"likely_gender\"] == \"female\") | (regular_authors[\"score\"]<5)]\n",
    "\n",
    "n_contribs_fmax_mean = contribs_fmax[\"n_contribs\"].mean()\n",
    "n_contribs_fmax_median = contribs_fmax[\"n_contribs\"].median()\n",
    "n_contribs_fmax_mode = mode(contribs_fmax[\"n_contribs\"])\n",
    "\n",
    "print(\"On average, an author of unknown gender makes: mean={}, median={} and mode={} contributions\".format(n_contribs_u_mean, n_contribs_u_median, n_contribs_u_mode))\n",
    "print(\"On average, a female author makes: mean={}, median={} and mode={} contributions\".format(n_contribs_f_mean, n_contribs_f_median, n_contribs_f_mode))\n",
    "print(\"On average, a male author makes: mean={}, median={} and mode={} contributions\".format(n_contribs_m_mean, n_contribs_m_median, n_contribs_m_mode))\n",
    "print(\"On average, a potentially female author makes: mean={}, median={} and mode={} contributions\".format(n_contribs_fmax_mean, n_contribs_fmax_median, n_contribs_fmax_mode))\n",
    "\n",
    "'''\n",
    "On average, an author of unknown gender makes: mean=0.7531417121859828, median=0.45 and mode=0.3333333333333333 contributions\n",
    "On average, a female author makes: mean=0.7289518925650421, median=0.4166666666666666 and mode=0.3333333333333333 contributions\n",
    "On average, a male author makes: mean=0.8831775973120519, median=0.5 and mode=0.3333333333333333 contributions\n",
    "On average, a potentially female author makes: mean=0.7501832072327901, median=0.45 and mode=0.3333333333333333 contributions'''"
   ]
  },
  {
   "cell_type": "code",
   "execution_count": null,
   "metadata": {},
   "outputs": [],
   "source": [
    "# Visualize\n",
    "plt_mean = plt.plot(['male', 'female', 'possibly female', 'unknown'], [n_contribs_mean, n_contribs_mean, n_contribs_mean, n_contribs_mean], 'r--', alpha=0.5, label='Overall Mean')\n",
    "plt_g_mean = plt.plot(['male','female', 'possibly female', 'unknown'], [n_contribs_m_mean, n_contribs_f_mean, n_contribs_fmax_mean, n_contribs_u_mean], 'rx', label='Mean by Gender')\n",
    "\n",
    "plt_median = plt.plot(['male', 'female', 'possibly female', 'unknown'],[n_contribs_median, n_contribs_median, n_contribs_median, n_contribs_median], 'b--', alpha=0.5, label='Overall Median')\n",
    "plt_g_median = plt.plot(['male', 'female', 'possibly female', 'unknown'],[n_contribs_m_median, n_contribs_f_median, n_contribs_fmax_median, n_contribs_u_median], 'bx', label='Median by Gender')\n",
    "\n",
    "plt_mode = plt.plot(['male', 'female', 'possibly female', 'unknown'],[n_contribs_mode, n_contribs_mode, n_contribs_mode, n_contribs_mode], 'g--', alpha=0.5, label='Overall Mode')\n",
    "plt_g_mode = plt.plot(['male', 'female', 'possibly female', 'unknown'],[n_contribs_m_mode, n_contribs_f_mode, n_contribs_fmax_mode,n_contribs_u_mode], 'gx', label='Mode by Gender')\n",
    "\n",
    "\n",
    "plt.xlabel('Gender')\n",
    "plt.ylabel('Amount of contributions made')\n",
    "\n",
    "plt.title(\"How many contributions did authors make on average (by gender)?\")\n",
    "\n",
    "plt.legend(bbox_to_anchor=(1.1, 1))\n",
    "plt.show()"
   ]
  },
  {
   "cell_type": "code",
   "execution_count": null,
   "metadata": {},
   "outputs": [],
   "source": [
    "# >>> Evaluation\n",
    "# Hypothesis 3 is correct. A male author is more productive than a female author."
   ]
  }
 ],
 "metadata": {
  "kernelspec": {
   "display_name": "Python 3",
   "language": "python",
   "name": "python3"
  },
  "language_info": {
   "codemirror_mode": {
    "name": "ipython",
    "version": 3
   },
   "file_extension": ".py",
   "mimetype": "text/x-python",
   "name": "python",
   "nbconvert_exporter": "python",
   "pygments_lexer": "ipython3",
   "version": "3.7.1"
  }
 },
 "nbformat": 4,
 "nbformat_minor": 2
}
