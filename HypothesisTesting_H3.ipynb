{
 "cells": [
  {
   "cell_type": "code",
   "execution_count": null,
   "metadata": {},
   "outputs": [],
   "source": [
    "# HYPOTHESIS TESTING"
   ]
  },
  {
   "cell_type": "code",
   "execution_count": null,
   "metadata": {},
   "outputs": [],
   "source": [
    "# Hypothesis 3:\n",
    "# A male author is more productive than a female author."
   ]
  },
  {
   "cell_type": "code",
   "execution_count": null,
   "metadata": {},
   "outputs": [],
   "source": [
    "# >>> Preparation\n",
    "# Import categorized 'names_cat.csv'\n",
    "import pandas\n",
    "\n",
    "print(\"Importing names... \")\n",
    "names = pandas.read_csv(\"data/names_cat_i1.csv\", usecols=[\"name\", \"n_publs\", \"likely_gender\", \"score\"])\n",
    "\n",
    "# Setting index & accessing cells: https://pythonhow.com/accessing-dataframe-columns-rows-and-cells/\n",
    "names = names.set_index(\"name\", drop = False)\n",
    "print(\"Names imported. They look like this: {}\".format(names[:5]))"
   ]
  },
  {
   "cell_type": "code",
   "execution_count": null,
   "metadata": {},
   "outputs": [],
   "source": [
    "# >>> Testing\n",
    "# A male author is more productive than a female author."
   ]
  },
  {
   "cell_type": "code",
   "execution_count": null,
   "metadata": {},
   "outputs": [],
   "source": [
    "# Relative values\n",
    "mean = names['n_publs'].mean() # Overall mean of amount of publications\n",
    "median = names['n_publs'].median() # Overall median of amount of authors\n",
    "\n",
    "n_publs_mean_by_gender = names.groupby(\"likely_gender\").agg({'n_publs':'mean'}) # Mean by gender\n",
    "n_publs_median_by_gender = names.groupby(\"likely_gender\").agg({'n_publs':'median'}) # Median by gender\n",
    "\n",
    "f_mean = n_publs_mean_by_gender.at[\"female\", \"n_publs\"] # mean for female authors\n",
    "m_mean = n_publs_mean_by_gender.at[\"male\", \"n_publs\"] # mean for male authors\n",
    "\n",
    "f_median = n_publs_median_by_gender.at[\"female\", \"n_publs\"] # median for female authors\n",
    "m_median = n_publs_median_by_gender.at[\"male\", \"n_publs\"] # median for male authors\n",
    "\n",
    "\n",
    "print(\"On average, female authors publish {} pieces each, while male authors publish {} pieces each.\".format(f_mean, m_mean))\n",
    "print(\"The median for the amount of pieces published by female authors is {} pieces, while the median for the amount of pieces published by male authors is {} pieces.\".format(f_median, m_median))"
   ]
  },
  {
   "cell_type": "code",
   "execution_count": null,
   "metadata": {},
   "outputs": [],
   "source": [
    "# >>> Visualization\n",
    "import matplotlib.pyplot as plt\n",
    "\n",
    "plt_mean = plt.plot(['male', 'female'], [mean, mean], 'r--', alpha=0.5, label='Overall Mean')\n",
    "plt_g_mean = plt.plot(['male','female'], [m_mean, f_mean], 'rx', label='Mean by Gender')\n",
    "\n",
    "plt_median = plt.plot(['male', 'female'],[median, median], 'b--', alpha=0.5, label='Overall Median')\n",
    "plt_g_median = plt.plot(['male', 'female'],[m_median, f_median], 'bx', label='Median by Gender')\n",
    "\n",
    "plt.xlabel('Gender')\n",
    "plt.ylabel('Amount of publications')\n",
    "\n",
    "plt.title(\"How many publications are there on average per gender?\")\n",
    "\n",
    "plt.legend(loc=\"center\")\n",
    "plt.show()"
   ]
  },
  {
   "cell_type": "code",
   "execution_count": null,
   "metadata": {},
   "outputs": [],
   "source": [
    "# >>> Evaluation\n",
    "# Hypothesis 3 is correct. A male author is more productive than a female author."
   ]
  }
 ],
 "metadata": {
  "kernelspec": {
   "display_name": "Python 3",
   "language": "python",
   "name": "python3"
  },
  "language_info": {
   "codemirror_mode": {
    "name": "ipython",
    "version": 3
   },
   "file_extension": ".py",
   "mimetype": "text/x-python",
   "name": "python",
   "nbconvert_exporter": "python",
   "pygments_lexer": "ipython3",
   "version": "3.7.1"
  }
 },
 "nbformat": 4,
 "nbformat_minor": 2
}
