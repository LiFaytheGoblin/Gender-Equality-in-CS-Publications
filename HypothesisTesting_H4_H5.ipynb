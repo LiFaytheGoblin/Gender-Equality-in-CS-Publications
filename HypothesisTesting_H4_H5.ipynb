{
 "cells": [
  {
   "cell_type": "code",
   "execution_count": null,
   "metadata": {},
   "outputs": [],
   "source": [
    "# HYPOTHESIS TESTING"
   ]
  },
  {
   "cell_type": "code",
   "execution_count": null,
   "metadata": {},
   "outputs": [],
   "source": [
    "# Hypothesis 4:\n",
    "# Teams of collaborating authors consist of an equal amount of men and women.\n",
    "\n",
    "#Hypothesis 5:\n",
    "# Bigger teams are more diverse."
   ]
  },
  {
   "cell_type": "code",
   "execution_count": 1,
   "metadata": {},
   "outputs": [
    {
     "name": "stdout",
     "output_type": "stream",
     "text": [
      "Importing publications... \n"
     ]
    },
    {
     "name": "stderr",
     "output_type": "stream",
     "text": [
      "C:\\Program_Files\\Anaconda3\\lib\\site-packages\\IPython\\core\\interactiveshell.py:3020: DtypeWarning: Columns (3) have mixed types. Specify dtype option on import or set low_memory=False.\n",
      "  interactivity=interactivity, compiler=compiler, result=result)\n"
     ]
    },
    {
     "name": "stdout",
     "output_type": "stream",
     "text": [
      "Publications imported. They look like this:                                                                  key  \\\n",
      "key                                                                    \n",
      "books/acm/0082477                                  books/acm/0082477   \n",
      "books/acm/Kim95                                      books/acm/Kim95   \n",
      "books/acm/kim95/AnnevelinkACFHK95  books/acm/kim95/AnnevelinkACFHK95   \n",
      "books/acm/kim95/Blakeley95                books/acm/kim95/Blakeley95   \n",
      "books/acm/kim95/BreitbartGS95          books/acm/kim95/BreitbartGS95   \n",
      "\n",
      "                                        pub_cat pub_type  \\\n",
      "key                                                        \n",
      "books/acm/0082477                          book      NaN   \n",
      "books/acm/Kim95                            book      NaN   \n",
      "books/acm/kim95/AnnevelinkACFHK95  incollection      NaN   \n",
      "books/acm/kim95/Blakeley95         incollection      NaN   \n",
      "books/acm/kim95/BreitbartGS95      incollection      NaN   \n",
      "\n",
      "                                                                               title  \\\n",
      "key                                                                                    \n",
      "books/acm/0082477                        The no-nonsense guide to computing careers.   \n",
      "books/acm/Kim95                    Modern Database Systems: The Object Model, Int...   \n",
      "books/acm/kim95/AnnevelinkACFHK95  Object SQL - A Language for the Design and Imp...   \n",
      "books/acm/kim95/Blakeley95         OQL[C++]: Extending C++ with an Object Query C...   \n",
      "books/acm/kim95/BreitbartGS95       Transaction Management in Multidatabase Systems.   \n",
      "\n",
      "                                   year  \\\n",
      "key                                       \n",
      "books/acm/0082477                  1992   \n",
      "books/acm/Kim95                    1995   \n",
      "books/acm/kim95/AnnevelinkACFHK95  1995   \n",
      "books/acm/kim95/Blakeley95         1995   \n",
      "books/acm/kim95/BreitbartGS95      1995   \n",
      "\n",
      "                                                                             authors  \\\n",
      "key                                                                                    \n",
      "books/acm/0082477                                                    ['Marc Rettig']   \n",
      "books/acm/Kim95                                                                   []   \n",
      "books/acm/kim95/AnnevelinkACFHK95  ['Jurgen Annevelink', 'Rafiul Ahad', 'Amelia C...   \n",
      "books/acm/kim95/Blakeley95                                      ['José A. Blakeley']   \n",
      "books/acm/kim95/BreitbartGS95      ['Yuri Breitbart', 'Hector Garcia-Molina', 'Ab...   \n",
      "\n",
      "                                   n_authors  n_males  n_females  n_unknown  \\\n",
      "key                                                                           \n",
      "books/acm/0082477                          1      1.0        0.0        0.0   \n",
      "books/acm/Kim95                            0      0.0        0.0        0.0   \n",
      "books/acm/kim95/AnnevelinkACFHK95          6      4.0        1.0        1.0   \n",
      "books/acm/kim95/Blakeley95                 1      1.0        0.0        0.0   \n",
      "books/acm/kim95/BreitbartGS95              3      2.0        0.0        1.0   \n",
      "\n",
      "                                   ratio  n_contribs_females  \\\n",
      "key                                                            \n",
      "books/acm/0082477                   50.0            0.000000   \n",
      "books/acm/Kim95                      0.0            0.000000   \n",
      "books/acm/kim95/AnnevelinkACFHK95   30.0            0.166667   \n",
      "books/acm/kim95/Blakeley95          50.0            0.000000   \n",
      "books/acm/kim95/BreitbartGS95       50.0            0.000000   \n",
      "\n",
      "                                   n_contribs_males  n_contribs_unknown  \n",
      "key                                                                      \n",
      "books/acm/0082477                          1.000000            0.000000  \n",
      "books/acm/Kim95                            0.000000            0.000000  \n",
      "books/acm/kim95/AnnevelinkACFHK95          0.666667            0.166667  \n",
      "books/acm/kim95/Blakeley95                 1.000000            0.000000  \n",
      "books/acm/kim95/BreitbartGS95              0.666667            0.333333  \n"
     ]
    }
   ],
   "source": [
    "# >>> Preparation\n",
    "import pandas\n",
    "\n",
    "print(\"Importing publications... \")\n",
    "cols = [\n",
    "    'key', \n",
    "    'pub_cat',\n",
    "    'pub_type',\n",
    "    'title',\n",
    "    'year',\n",
    "    'authors',\n",
    "    'n_authors',\n",
    "    'n_males',\n",
    "    'n_females',\n",
    "    'n_unknown',\n",
    "    'ratio',\n",
    "    'n_contribs_females',\n",
    "    'n_contribs_males',\n",
    "    'n_contribs_unknown'\n",
    "]\n",
    "\n",
    "publs = pandas.read_csv(\"data/publications_cor3.csv\", usecols=cols)\n",
    "\n",
    "# Setting index & accessing cells: https://pythonhow.com/accessing-dataframe-columns-rows-and-cells/\n",
    "publs = publs.set_index(\"key\", drop = False)\n",
    "print(\"Publications imported. They look like this: {}\".format(publs[:5]))"
   ]
  },
  {
   "cell_type": "code",
   "execution_count": 2,
   "metadata": {},
   "outputs": [],
   "source": [
    "# get only those publications created by teams\n",
    "team_publs = publs[publs['n_authors'] > 1]"
   ]
  },
  {
   "cell_type": "code",
   "execution_count": 3,
   "metadata": {},
   "outputs": [
    {
     "name": "stdout",
     "output_type": "stream",
     "text": [
      "Calculating the mode...\n",
      "The mode for all is 50.0.\n",
      "The mode for those where at least one author could be classified is 50.0.\n"
     ]
    }
   ],
   "source": [
    "# >>> Testing\n",
    "# H4\n",
    "\n",
    "# Finding the mode of a series: https://stackoverflow.com/questions/10797819/finding-the-mode-of-a-list\n",
    "from statistics import mode\n",
    "\n",
    "# Relative values\n",
    "# Publications Contributed to\n",
    "# Finding the mode of a series: https://stackoverflow.com/questions/10797819/finding-the-mode-of-a-list\n",
    "print(\"Calculating the mode...\")\n",
    "\n",
    "mode_all = mode(team_publs[\"ratio\"])\n",
    "\n",
    "not_all_unknown = team_publs[team_publs[\"n_unknown\"] != team_publs[\"n_authors\"]]\n",
    "mode_not_all_unknown = mode(not_all_unknown[\"ratio\"])\n",
    "\n",
    "print(\"The mode for all is {}.\".format(mode_all))\n",
    "print(\"The mode for those where at least one author could be classified is {}.\".format(mode_not_all_unknown))"
   ]
  },
  {
   "cell_type": "code",
   "execution_count": null,
   "metadata": {},
   "outputs": [],
   "source": [
    "diff = not_all_unknown[\"n_contribs_males\"] - not_all_unknown[\"n_contribs_females\"]"
   ]
  },
  {
   "cell_type": "code",
   "execution_count": null,
   "metadata": {},
   "outputs": [],
   "source": [
    "diff = diff.values"
   ]
  },
  {
   "cell_type": "code",
   "execution_count": null,
   "metadata": {},
   "outputs": [],
   "source": [
    "len(diff)"
   ]
  },
  {
   "cell_type": "code",
   "execution_count": null,
   "metadata": {},
   "outputs": [],
   "source": [
    "from scipy.stats import wilcoxon\n",
    "wilcoxon(diff) # https://docs.scipy.org/doc/scipy/reference/generated/scipy.stats.wilcoxon.html"
   ]
  },
  {
   "cell_type": "code",
   "execution_count": null,
   "metadata": {},
   "outputs": [],
   "source": [
    "import matplotlib as mpl\n",
    "import matplotlib.pyplot as plt\n",
    "\n",
    "mpl.rcParams['pgf.rcfonts'] = False\n",
    "mpl.rcParams['font.size'] = 11.0\n",
    "\n",
    "print(\"Visualizing Gender Inequality Index Histogram...\")\n",
    "not_all_unknown[\"ratio\"].hist(color=\"grey\", bins=20)\n",
    "plt.xlabel(\"Gender Inequality Index\")\n",
    "plt.ylabel(\"Amount of publications\")\n",
    "\n",
    "plt.savefig('graphs/h4/gender_inequality_index_hist_not_all_unknown.pdf')\n",
    "plt.savefig('graphs/h4/gender_inequality_index_hist_not_all_unknown.pgf')"
   ]
  },
  {
   "cell_type": "code",
   "execution_count": null,
   "metadata": {},
   "outputs": [],
   "source": [
    "# >>> Evaluation\n",
    "# Hypothesis 4 is not correct. "
   ]
  },
  {
   "cell_type": "code",
   "execution_count": null,
   "metadata": {},
   "outputs": [],
   "source": [
    "# >>> Testing\n",
    "# H5 Bigger teams are more diverse."
   ]
  },
  {
   "cell_type": "code",
   "execution_count": 4,
   "metadata": {},
   "outputs": [
    {
     "name": "stderr",
     "output_type": "stream",
     "text": [
      "C:\\Program_Files\\Anaconda3\\lib\\site-packages\\ipykernel_launcher.py:2: SettingWithCopyWarning: \n",
      "A value is trying to be set on a copy of a slice from a DataFrame.\n",
      "Try using .loc[row_indexer,col_indexer] = value instead\n",
      "\n",
      "See the caveats in the documentation: http://pandas.pydata.org/pandas-docs/stable/indexing.html#indexing-view-versus-copy\n",
      "  \n"
     ]
    }
   ],
   "source": [
    "abs_team_publs = team_publs\n",
    "abs_team_publs[\"ratio\"] = abs(abs_team_publs[\"ratio\"])"
   ]
  },
  {
   "cell_type": "code",
   "execution_count": 4,
   "metadata": {},
   "outputs": [
    {
     "data": {
      "text/plain": [
       "3689046"
      ]
     },
     "execution_count": 4,
     "metadata": {},
     "output_type": "execute_result"
    }
   ],
   "source": [
    "len(abs_team_publs)"
   ]
  },
  {
   "cell_type": "code",
   "execution_count": 9,
   "metadata": {},
   "outputs": [
    {
     "name": "stdout",
     "output_type": "stream",
     "text": [
      "Calculating Spearman's Correlation Coefficient...\n",
      "SpearmanrResult(correlation=-0.0034386975837674503, pvalue=3.9836158122940604e-11)\n",
      "Done!\n"
     ]
    }
   ],
   "source": [
    "from scipy import stats\n",
    "print(\"Calculating Spearman's Correlation Coefficient...\")\n",
    "small_teams_cor_l = stats.spearmanr(abs_team_publs[\"ratio\"], abs_team_publs[\"n_authors\"])\n",
    "print(small_teams_cor_l)\n",
    "print(\"Done!\")"
   ]
  },
  {
   "cell_type": "code",
   "execution_count": 6,
   "metadata": {},
   "outputs": [
    {
     "name": "stdout",
     "output_type": "stream",
     "text": [
      "Calculating distribution statistics: mean, std, median - per team size...\n",
      "Done!\n"
     ]
    }
   ],
   "source": [
    "print(\"Calculating distribution statistics: mean, std, median - per team size...\")\n",
    "team_publs_by_n_authors = team_publs.groupby(\"n_authors\")\n",
    "\n",
    "team_ratio_mean = team_publs_by_n_authors.agg({'ratio':'mean'})\n",
    "team_ratio_mean[\"n_authors\"] = team_ratio_mean.index.values.tolist()\n",
    "\n",
    "team_ratio_std = team_publs_by_n_authors.agg({'ratio':'std'})\n",
    "team_ratio_std[\"n_authors\"] = team_ratio_std.index.values.tolist()\n",
    "\n",
    "team_ratio_median = team_publs_by_n_authors.agg({'ratio':'median'})\n",
    "team_ratio_median[\"n_authors\"] = team_ratio_median.index.values.tolist()\n",
    "print(\"Done!\")"
   ]
  },
  {
   "cell_type": "code",
   "execution_count": 7,
   "metadata": {},
   "outputs": [],
   "source": [
    "import matplotlib as mpl\n",
    "import matplotlib.pyplot as plt\n",
    "\n",
    "mpl.rcParams['pgf.rcfonts'] = False\n",
    "mpl.rcParams['font.size'] = 11.0"
   ]
  },
  {
   "cell_type": "code",
   "execution_count": null,
   "metadata": {},
   "outputs": [],
   "source": [
    "# >>> Visualization\n",
    "print(\"Visualizing distribution statistics per team size as well as individual gender inequality ratio values.\")\n",
    "plt.plot(team_ratio_mean[\"n_authors\"], team_ratio_mean[\"ratio\"], label=\"Mean\", color=\"black\")\n",
    "plt.plot(team_ratio_std[\"n_authors\"], team_ratio_std[\"ratio\"], label=\"Standard Deviation\", color=\"grey\", linestyle=\":\")\n",
    "plt.plot(team_ratio_median[\"n_authors\"], team_ratio_median[\"ratio\"], label=\"Median\", color=\"grey\")\n",
    "plt.title(\"Are bigger teams more diverse?\")\n",
    "plt.xlabel(\"Team Size\")\n",
    "plt.ylabel(\"Gender Balance Indicator\")\n",
    "# Anchor a legend outside the plot: https://stackoverflow.com/questions/4700614/how-to-put-the-legend-out-of-the-plot\n",
    "plt.legend(bbox_to_anchor=(1.5, 1))"
   ]
  },
  {
   "cell_type": "code",
   "execution_count": 8,
   "metadata": {},
   "outputs": [
    {
     "data": {
      "image/png": "[encoded data removed]",
      "text/plain": [
       "<Figure size 432x288 with 1 Axes>"
      ]
     },
     "metadata": {
      "needs_background": "light"
     },
     "output_type": "display_data"
    }
   ],
   "source": [
    "plt.scatter(team_publs[\"n_authors\"], team_publs[\"ratio\"], color=\"grey\", alpha=0.1, label=\"\")\n",
    "plt.plot(team_ratio_median[\"n_authors\"], team_ratio_median[\"ratio\"], label=\"Median\", color=\"black\")\n",
    "\n",
    "plt.xlabel(\"Team Size\")\n",
    "plt.ylabel(\"Gender Balance Indicator\")\n",
    "plt.legend()\n",
    "\n",
    "plt.savefig('graphs/h5/ratio_by_team_size_scatter.pdf')\n",
    "plt.savefig('graphs/h5/ratio_by_team_size_scatter.pgf')\n",
    "\n",
    "plt.show()"
   ]
  },
  {
   "cell_type": "code",
   "execution_count": null,
   "metadata": {},
   "outputs": [],
   "source": [
    "# >>> Interpretation:\n",
    "# Hypothesis 5 is not correct."
   ]
  }
 ],
 "metadata": {
  "kernelspec": {
   "display_name": "Python 3",
   "language": "python",
   "name": "python3"
  },
  "language_info": {
   "codemirror_mode": {
    "name": "ipython",
    "version": 3
   },
   "file_extension": ".py",
   "mimetype": "text/x-python",
   "name": "python",
   "nbconvert_exporter": "python",
   "pygments_lexer": "ipython3",
   "version": "3.7.1"
  }
 },
 "nbformat": 4,
 "nbformat_minor": 2
}
