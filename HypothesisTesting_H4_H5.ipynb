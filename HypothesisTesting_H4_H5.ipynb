{
 "cells": [
  {
   "cell_type": "code",
   "execution_count": null,
   "metadata": {},
   "outputs": [],
   "source": [
    "# HYPOTHESIS TESTING"
   ]
  },
  {
   "cell_type": "code",
   "execution_count": null,
   "metadata": {},
   "outputs": [],
   "source": [
    "# Hypothesis 4:\n",
    "# Teams of collaborating authors mostly consist of more men than women.\n",
    "\n",
    "#Hypothesis 5:\n",
    "# Bigger teams are more diverse."
   ]
  },
  {
   "cell_type": "code",
   "execution_count": null,
   "metadata": {},
   "outputs": [],
   "source": [
    "# >>> Preparation\n",
    "import pandas\n",
    "\n",
    "print(\"Importing publications... \")\n",
    "cols = [\n",
    "    'key', \n",
    "    'pub_cat',\n",
    "    'pub_type',\n",
    "    'title',\n",
    "    'year',\n",
    "    'authors',\n",
    "    'n_authors',\n",
    "    'n_males',\n",
    "    'n_females',\n",
    "    'n_unknown',\n",
    "    'ratio',\n",
    "    'n_contribs_females',\n",
    "    'n_contribs_males',\n",
    "    'n_contribs_unknown'\n",
    "]\n",
    "\n",
    "publs = pandas.read_csv(\"data/publications_cor2.csv\", usecols=cols)\n",
    "\n",
    "# Setting index & accessing cells: https://pythonhow.com/accessing-dataframe-columns-rows-and-cells/\n",
    "publs = publs.set_index(\"key\", drop = False)\n",
    "print(\"Publications imported. They look like this: {}\".format(publs[:5]))"
   ]
  },
  {
   "cell_type": "code",
   "execution_count": null,
   "metadata": {},
   "outputs": [],
   "source": [
    "# get only those publications created by teams\n",
    "team_publs = publs[publs['n_authors'] > 1]"
   ]
  },
  {
   "cell_type": "code",
   "execution_count": null,
   "metadata": {},
   "outputs": [],
   "source": [
    "# Outlier calculation\n",
    "print(\"Calculating from what point on a team is an outlier, considering its size...\")\n",
    "import numpy as np\n",
    "lower = np.percentile(team_publs[\"n_authors\"], 25)\n",
    "higher = np.percentile(team_publs[\"n_authors\"], 75)\n",
    "interquart_range = higher - lower\n",
    "outer_fence = higher + interquart_range * 3\n",
    "print(\"The outer fence is {}\".format(outer_fence))"
   ]
  },
  {
   "cell_type": "code",
   "execution_count": null,
   "metadata": {},
   "outputs": [],
   "source": [
    "# get only those publications created by regular small teams\n",
    "small_teams = team_publs[team_publs[\"n_authors\"] <= outer_fence]"
   ]
  },
  {
   "cell_type": "code",
   "execution_count": null,
   "metadata": {},
   "outputs": [],
   "source": [
    "# >>> Testing\n",
    "# H4\n",
    "\n",
    "# Finding the mode of a series: https://stackoverflow.com/questions/10797819/finding-the-mode-of-a-list\n",
    "from statistics import mode\n",
    "\n",
    "# Relative values\n",
    "# Publications Contributed to\n",
    "# Finding the mode of a series: https://stackoverflow.com/questions/10797819/finding-the-mode-of-a-list\n",
    "print(\"Calculating the mode...\")\n",
    "\n",
    "mode_all = mode(small_teams[\"ratio\"])\n",
    "\n",
    "not_all_unknown = small_teams[small_teams[\"n_unknown\"] != small_teams[\"n_authors\"]]\n",
    "mode_not_all_unknown = mode(not_all_unknown[\"ratio\"])\n",
    "\n",
    "print(\"The mode for all is {}.\".format(mode_all))\n",
    "print(\"The mode for those where at least one author could be classified is {}.\".format(mode_not_all_unknown))"
   ]
  },
  {
   "cell_type": "code",
   "execution_count": null,
   "metadata": {},
   "outputs": [],
   "source": [
    "# Calculate best case scenario of gender equality for women considering all unclassified authors to be female.\n",
    "def new_ratio(n, f, u):\n",
    "    half_rel = n / 2.0\n",
    "    abs_m_to_be_replaced_by_f = half_rel - (f + u)\n",
    "    rel_m_to_be_replaced_by_f = abs_m_to_be_replaced_by_f / n * 100\n",
    "    r_max = rel_m_to_be_replaced_by_f\n",
    "    return r_max\n",
    "\n",
    "print(\"Calculating ratios for the case that all unclassified authors are women...\")\n",
    "\n",
    "ratios = []\n",
    "\n",
    "for index, row in small_teams.iterrows():\n",
    "    n = row[\"n_authors\"]\n",
    "    f = row[\"n_females\"]\n",
    "    u = row[\"n_unknown\"]\n",
    "    ratios.append(new_ratio(n, f, u))\n",
    "    \n",
    "print(\"Done!\")\n",
    "\n",
    "ratios_df = pd.DataFrame({'ratio':ratios})\n",
    "ratios_df.describe()"
   ]
  },
  {
   "cell_type": "code",
   "execution_count": null,
   "metadata": {},
   "outputs": [],
   "source": [
    "ratios_df = pandas.DataFrame({'ratio':ratios})\n",
    "ratios_df.describe()"
   ]
  },
  {
   "cell_type": "code",
   "execution_count": null,
   "metadata": {},
   "outputs": [],
   "source": [
    "mode(ratios_df[\"ratio\"])"
   ]
  },
  {
   "cell_type": "code",
   "execution_count": null,
   "metadata": {},
   "outputs": [],
   "source": [
    "ratios_df[\"ratio\"].hist(color=\"orange\", bins=20)\n",
    "plt.title(\"Histogram of gender inequality index of publications\\n contributed to by more than one author\\n (assuming all unclassified authors are female).\")\n",
    "plt.xlabel(\"Gender Inequality Index\")\n",
    "plt.ylabel(\"Amount of publications\")"
   ]
  },
  {
   "cell_type": "code",
   "execution_count": null,
   "metadata": {},
   "outputs": [],
   "source": [
    "# Visualization\n",
    "# Show histogram considering not considering publications where none of the authors could be classified\n",
    "import matplotlib.pyplot as plt\n",
    "print(\"Visualizing Gender Inequality Index Histogram without publications, where no author could be classified...\")\n",
    "team_publs[\"ratio\"].hist(alpha=0, color=\"orange\", bins=20)\n",
    "not_all_unknown[\"ratio\"].hist(color=\"orange\", bins=20)\n",
    "plt.title(\"Histogram of gender inequality index of publications\\n contributed to by more than one author\\n where at least one author was classified by gender.\")\n",
    "plt.xlabel(\"Gender Inequality Index\")\n",
    "plt.ylabel(\"Amount of publications\")\n",
    "#team_publs_all_unknown[\"ratio\"].hist(alpha=0.5, color=\"orange\")"
   ]
  },
  {
   "cell_type": "code",
   "execution_count": null,
   "metadata": {},
   "outputs": [],
   "source": [
    "# Show histogram considering authors of unknown gender\n",
    "print(\"Visualizing Gender Inequality Index Histogram...\")\n",
    "team_publs[\"ratio\"].hist(color=\"orange\", bins=20)\n",
    "not_all_unknown[\"ratio\"].hist(color=\"orange\", bins=20)\n",
    "plt.title(\"Histogram of gender inequality index of publications\\n contributed to by more than one author\\n\")\n",
    "plt.xlabel(\"Gender Inequality Index\")\n",
    "plt.ylabel(\"Amount of publications\")"
   ]
  },
  {
   "cell_type": "code",
   "execution_count": null,
   "metadata": {},
   "outputs": [],
   "source": [
    "# >>> Evaluation\n",
    "# Hypothesis 4 is correct. "
   ]
  },
  {
   "cell_type": "code",
   "execution_count": null,
   "metadata": {},
   "outputs": [],
   "source": [
    "# >>> Testing\n",
    "# H5 Bigger teams are more diverse."
   ]
  },
  {
   "cell_type": "code",
   "execution_count": null,
   "metadata": {},
   "outputs": [],
   "source": [
    "team_publs_by_n_authors = small_teams.groupby(\"n_authors\")"
   ]
  },
  {
   "cell_type": "code",
   "execution_count": null,
   "metadata": {},
   "outputs": [],
   "source": [
    "# Calculation of distribution statistics.\n",
    "def m(ratio):\n",
    "    '''This function is necessary for calculating the mode because otherwise, \n",
    "    an exception might be thrown if there is more than one mode.'''\n",
    "    try:\n",
    "        return mode(ratio)\n",
    "    except:\n",
    "        return None"
   ]
  },
  {
   "cell_type": "code",
   "execution_count": null,
   "metadata": {},
   "outputs": [],
   "source": [
    "print(\"Calculating distribution statistics: mode, mean, std, median - per team size...\")\n",
    "team_ratio_mode = team_publs_by_n_authors.agg({'ratio':m})\n",
    "team_ratio_mode[\"n_authors\"] = team_ratio_mode.index.values.tolist()\n",
    "\n",
    "team_ratio_mean = team_publs_by_n_authors.agg({'ratio':'mean'})\n",
    "team_ratio_mean[\"n_authors\"] = team_ratio_mean.index.values.tolist()\n",
    "\n",
    "team_ratio_std = team_publs_by_n_authors.agg({'ratio':'std'})\n",
    "team_ratio_std[\"n_authors\"] = team_ratio_std.index.values.tolist()\n",
    "\n",
    "team_ratio_median = team_publs_by_n_authors.agg({'ratio':'median'})\n",
    "team_ratio_median[\"n_authors\"] = team_ratio_median.index.values.tolist()\n",
    "print(\"Done!\")"
   ]
  },
  {
   "cell_type": "code",
   "execution_count": null,
   "metadata": {},
   "outputs": [],
   "source": [
    "print(\"Calculating Spearman's Correlation Coefficient...\")\n",
    "small_teams_cor = small_teams.corr(method=\"spearman\")\n",
    "print(\"Done!\")\n",
    "print(small_teams_cor[\"n_authors\"])\n",
    "'''No correlation found.'''"
   ]
  },
  {
   "cell_type": "code",
   "execution_count": null,
   "metadata": {},
   "outputs": [],
   "source": [
    "# >>> Visualization\n",
    "print(\"Visualizing distribution statistics per team size as well as individual gender inequality ratio values.\")\n",
    "plt.plot(team_ratio_mode[\"ratio\"], label=\"Mode\", color=\"green\")\n",
    "plt.plot(team_ratio_median[\"ratio\"], label=\"Median\", color=\"blue\")\n",
    "plt.plot(team_ratio_mean[\"ratio\"], label=\"Mean\", color=\"orange\")\n",
    "plt.plot(team_ratio_std[\"ratio\"], label=\"Standard Deviation\", color=\"red\")\n",
    "plt.scatter(small_teams[\"n_authors\"], small_teams[\"ratio\"], alpha=0.01, color=\"grey\", label=\"Gender Inequality Index\")\n",
    "plt.title(\"Are bigger teams more diverse?\")\n",
    "plt.xlabel(\"Team Size\")\n",
    "plt.ylabel(\"Gender Inequality Index\")\n",
    "# Anchor a legend outside the plot: https://stackoverflow.com/questions/4700614/how-to-put-the-legend-out-of-the-plot\n",
    "plt.legend(bbox_to_anchor=(1.5, 1))"
   ]
  },
  {
   "cell_type": "code",
   "execution_count": null,
   "metadata": {},
   "outputs": [],
   "source": [
    "# Calculate best case scenario of gender equality for women considering all unclassified authors to be female.\n",
    "def new_ratio(n, f, u):\n",
    "    half_rel = n / 2.0\n",
    "    abs_m_to_be_replaced_by_f = half_rel - (f + u)\n",
    "    rel_m_to_be_replaced_by_f = abs_m_to_be_replaced_by_f / n * 100\n",
    "    r_max = rel_m_to_be_replaced_by_f\n",
    "    return r_max\n",
    "\n",
    "print(\"Calculating ratios for the case that all unclassified authors are women...\")\n",
    "\n",
    "ratios_2 = {}\n",
    "\n",
    "for index, row in small_teams.iterrows():\n",
    "    n = row[\"n_authors\"]\n",
    "    f = row[\"n_females\"]\n",
    "    u = row[\"n_unknown\"]\n",
    "    ratios_2[index] = { \"ratio\": new_ratio(n, f, u),\n",
    "                      \"n_authors\": n }\n",
    "    \n",
    "print(\"Done!\")\n",
    "\n",
    "ratios_df_2 = pandas.DataFrame.from_dict(ratios_2, orient=\"index\")\n",
    "ratios_df_2.describe()"
   ]
  },
  {
   "cell_type": "code",
   "execution_count": null,
   "metadata": {},
   "outputs": [],
   "source": [
    "team_publs_by_n_authors_2 = ratios_df_2.groupby(\"n_authors\")"
   ]
  },
  {
   "cell_type": "code",
   "execution_count": null,
   "metadata": {},
   "outputs": [],
   "source": [
    "print(\"Calculating distribution statistics: mode, mean, std, median - per team size...\")\n",
    "team_ratio_mode_2 = team_publs_by_n_authors_2.agg({'ratio':m})\n",
    "team_ratio_mode_2[\"n_authors\"] = team_ratio_mode_2.index.values.tolist()\n",
    "\n",
    "team_ratio_mean_2 = team_publs_by_n_authors_2.agg({'ratio':'mean'})\n",
    "team_ratio_mean_2[\"n_authors\"] = team_ratio_mean_2.index.values.tolist()\n",
    "\n",
    "team_ratio_std_2 = team_publs_by_n_authors_2.agg({'ratio':'std'})\n",
    "team_ratio_std_2[\"n_authors\"] = team_ratio_std_2.index.values.tolist()\n",
    "\n",
    "team_ratio_median_2 = team_publs_by_n_authors_2.agg({'ratio':'median'})\n",
    "team_ratio_median_2[\"n_authors\"] = team_ratio_median_2.index.values.tolist()\n",
    "print(\"Done!\")"
   ]
  },
  {
   "cell_type": "code",
   "execution_count": null,
   "metadata": {},
   "outputs": [],
   "source": [
    "print(\"Calculating Spearman's Correlation Coefficient...\")\n",
    "ratios_df_2_cor = ratios_df_2.corr(method=\"spearman\")\n",
    "print(\"Done!\")\n",
    "print(ratios_df_2_cor[\"n_authors\"])\n",
    "'''No correlation found.'''"
   ]
  },
  {
   "cell_type": "code",
   "execution_count": null,
   "metadata": {},
   "outputs": [],
   "source": [
    "# >>> Visualization\n",
    "print(\"Visualizing distribution statistics per team size as well as individual gender inequality ratio values.\")\n",
    "plt.plot(team_ratio_mode_2[\"ratio\"], label=\"Mode\", color=\"green\")\n",
    "plt.plot(team_ratio_median_2[\"ratio\"], label=\"Median\", color=\"blue\")\n",
    "plt.plot(team_ratio_mean_2[\"ratio\"], label=\"Mean\", color=\"orange\")\n",
    "plt.plot(team_ratio_std_2[\"ratio\"], label=\"Standard Deviation\", color=\"red\")\n",
    "plt.scatter(ratios_df_2[\"n_authors\"], ratios_df_2[\"ratio\"], alpha=0.01, color=\"grey\", label=\"Gender Inequality Index\")\n",
    "plt.title(\"Are bigger teams more diverse?\")\n",
    "plt.xlabel(\"Team Size\")\n",
    "plt.ylabel(\"Gender Inequality Index\")\n",
    "# Anchor a legend outside the plot: https://stackoverflow.com/questions/4700614/how-to-put-the-legend-out-of-the-plot\n",
    "plt.legend(bbox_to_anchor=(1.5, 1))"
   ]
  },
  {
   "cell_type": "code",
   "execution_count": null,
   "metadata": {},
   "outputs": [],
   "source": [
    "# >>> Interpretation:\n",
    "# Hypothesis 5 is not correct."
   ]
  }
 ],
 "metadata": {
  "kernelspec": {
   "display_name": "Python 3",
   "language": "python",
   "name": "python3"
  },
  "language_info": {
   "codemirror_mode": {
    "name": "ipython",
    "version": 3
   },
   "file_extension": ".py",
   "mimetype": "text/x-python",
   "name": "python",
   "nbconvert_exporter": "python",
   "pygments_lexer": "ipython3",
   "version": "3.7.1"
  }
 },
 "nbformat": 4,
 "nbformat_minor": 2
}
