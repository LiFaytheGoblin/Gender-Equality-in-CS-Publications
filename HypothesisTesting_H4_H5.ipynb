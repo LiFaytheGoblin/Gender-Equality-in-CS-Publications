{
 "cells": [
  {
   "cell_type": "code",
   "execution_count": null,
   "metadata": {},
   "outputs": [],
   "source": [
    "# HYPOTHESIS TESTING"
   ]
  },
  {
   "cell_type": "code",
   "execution_count": null,
   "metadata": {},
   "outputs": [],
   "source": [
    "# Hypothesis 4:\n",
    "# Teams of collaborating authors mostly consist of more men than women.\n",
    "\n",
    "#Hypothesis 5:\n",
    "# Bigger teams are more diverse."
   ]
  },
  {
   "cell_type": "code",
   "execution_count": 1,
   "metadata": {},
   "outputs": [
    {
     "name": "stdout",
     "output_type": "stream",
     "text": [
      "Importing publications... \n"
     ]
    },
    {
     "name": "stderr",
     "output_type": "stream",
     "text": [
      "C:\\Program_Files\\Anaconda3\\lib\\site-packages\\IPython\\core\\interactiveshell.py:3020: DtypeWarning: Columns (3) have mixed types. Specify dtype option on import or set low_memory=False.\n",
      "  interactivity=interactivity, compiler=compiler, result=result)\n"
     ]
    },
    {
     "name": "stdout",
     "output_type": "stream",
     "text": [
      "Publications imported. They look like this:                                                                  key  \\\n",
      "key                                                                    \n",
      "books/acm/0082477                                  books/acm/0082477   \n",
      "books/acm/Kim95                                      books/acm/Kim95   \n",
      "books/acm/kim95/AnnevelinkACFHK95  books/acm/kim95/AnnevelinkACFHK95   \n",
      "books/acm/kim95/Blakeley95                books/acm/kim95/Blakeley95   \n",
      "books/acm/kim95/BreitbartGS95          books/acm/kim95/BreitbartGS95   \n",
      "\n",
      "                                        pub_cat pub_type  \\\n",
      "key                                                        \n",
      "books/acm/0082477                          book      NaN   \n",
      "books/acm/Kim95                            book      NaN   \n",
      "books/acm/kim95/AnnevelinkACFHK95  incollection      NaN   \n",
      "books/acm/kim95/Blakeley95         incollection      NaN   \n",
      "books/acm/kim95/BreitbartGS95      incollection      NaN   \n",
      "\n",
      "                                                                               title  \\\n",
      "key                                                                                    \n",
      "books/acm/0082477                        The no-nonsense guide to computing careers.   \n",
      "books/acm/Kim95                    Modern Database Systems: The Object Model, Int...   \n",
      "books/acm/kim95/AnnevelinkACFHK95  Object SQL - A Language for the Design and Imp...   \n",
      "books/acm/kim95/Blakeley95         OQL[C++]: Extending C++ with an Object Query C...   \n",
      "books/acm/kim95/BreitbartGS95       Transaction Management in Multidatabase Systems.   \n",
      "\n",
      "                                   year  \\\n",
      "key                                       \n",
      "books/acm/0082477                  1992   \n",
      "books/acm/Kim95                    1995   \n",
      "books/acm/kim95/AnnevelinkACFHK95  1995   \n",
      "books/acm/kim95/Blakeley95         1995   \n",
      "books/acm/kim95/BreitbartGS95      1995   \n",
      "\n",
      "                                                                             authors  \\\n",
      "key                                                                                    \n",
      "books/acm/0082477                                                    ['Marc Rettig']   \n",
      "books/acm/Kim95                                                                   []   \n",
      "books/acm/kim95/AnnevelinkACFHK95  ['Jurgen Annevelink', 'Rafiul Ahad', 'Amelia C...   \n",
      "books/acm/kim95/Blakeley95                                      ['José A. Blakeley']   \n",
      "books/acm/kim95/BreitbartGS95      ['Yuri Breitbart', 'Hector Garcia-Molina', 'Ab...   \n",
      "\n",
      "                                   n_authors  n_males  n_females  n_unknown  \\\n",
      "key                                                                           \n",
      "books/acm/0082477                          1      1.0        0.0        0.0   \n",
      "books/acm/Kim95                            0      0.0        0.0        0.0   \n",
      "books/acm/kim95/AnnevelinkACFHK95          6      4.0        1.0        1.0   \n",
      "books/acm/kim95/Blakeley95                 1      1.0        0.0        0.0   \n",
      "books/acm/kim95/BreitbartGS95              3      2.0        0.0        1.0   \n",
      "\n",
      "                                   ratio  n_contribs_females  \\\n",
      "key                                                            \n",
      "books/acm/0082477                   50.0            0.000000   \n",
      "books/acm/Kim95                      0.0            0.000000   \n",
      "books/acm/kim95/AnnevelinkACFHK95   30.0            0.166667   \n",
      "books/acm/kim95/Blakeley95          50.0            0.000000   \n",
      "books/acm/kim95/BreitbartGS95       50.0            0.000000   \n",
      "\n",
      "                                   n_contribs_males  n_contribs_unknown  \n",
      "key                                                                      \n",
      "books/acm/0082477                          1.000000            0.000000  \n",
      "books/acm/Kim95                            0.000000            0.000000  \n",
      "books/acm/kim95/AnnevelinkACFHK95          0.666667            0.166667  \n",
      "books/acm/kim95/Blakeley95                 1.000000            0.000000  \n",
      "books/acm/kim95/BreitbartGS95              0.666667            0.333333  \n"
     ]
    }
   ],
   "source": [
    "# >>> Preparation\n",
    "import pandas\n",
    "\n",
    "print(\"Importing publications... \")\n",
    "cols = [\n",
    "    'key', \n",
    "    'pub_cat',\n",
    "    'pub_type',\n",
    "    'title',\n",
    "    'year',\n",
    "    'authors',\n",
    "    'n_authors',\n",
    "    'n_males',\n",
    "    'n_females',\n",
    "    'n_unknown',\n",
    "    'ratio',\n",
    "    'n_contribs_females',\n",
    "    'n_contribs_males',\n",
    "    'n_contribs_unknown'\n",
    "]\n",
    "\n",
    "publs = pandas.read_csv(\"data/publications_cor3.csv\", usecols=cols)\n",
    "\n",
    "# Setting index & accessing cells: https://pythonhow.com/accessing-dataframe-columns-rows-and-cells/\n",
    "publs = publs.set_index(\"key\", drop = False)\n",
    "print(\"Publications imported. They look like this: {}\".format(publs[:5]))"
   ]
  },
  {
   "cell_type": "code",
   "execution_count": 2,
   "metadata": {},
   "outputs": [],
   "source": [
    "# get only those publications created by teams\n",
    "team_publs = publs[publs['n_authors'] > 1]"
   ]
  },
  {
   "cell_type": "code",
   "execution_count": 3,
   "metadata": {},
   "outputs": [
    {
     "name": "stdout",
     "output_type": "stream",
     "text": [
      "Calculating from what point on a team is an outlier, considering its size...\n",
      "The outer fence is 10.0\n"
     ]
    }
   ],
   "source": [
    "# Outlier calculation\n",
    "print(\"Calculating from what point on a team is an outlier, considering its size...\")\n",
    "import numpy as np\n",
    "lower = np.percentile(team_publs[\"n_authors\"], 25)\n",
    "higher = np.percentile(team_publs[\"n_authors\"], 75)\n",
    "interquart_range = higher - lower\n",
    "outer_fence = higher + interquart_range * 3\n",
    "print(\"The outer fence is {}\".format(outer_fence))"
   ]
  },
  {
   "cell_type": "code",
   "execution_count": 4,
   "metadata": {},
   "outputs": [],
   "source": [
    "# get only those publications created by regular small teams\n",
    "small_teams = team_publs[team_publs[\"n_authors\"] <= outer_fence]"
   ]
  },
  {
   "cell_type": "code",
   "execution_count": 5,
   "metadata": {},
   "outputs": [
    {
     "name": "stdout",
     "output_type": "stream",
     "text": [
      "Calculating the mode...\n",
      "The mode for all is 50.0.\n",
      "The mode for those where at least one author could be classified is 50.0.\n"
     ]
    }
   ],
   "source": [
    "# >>> Testing\n",
    "# H4\n",
    "\n",
    "# Finding the mode of a series: https://stackoverflow.com/questions/10797819/finding-the-mode-of-a-list\n",
    "from statistics import mode\n",
    "\n",
    "# Relative values\n",
    "# Publications Contributed to\n",
    "# Finding the mode of a series: https://stackoverflow.com/questions/10797819/finding-the-mode-of-a-list\n",
    "print(\"Calculating the mode...\")\n",
    "\n",
    "mode_all = mode(small_teams[\"ratio\"])\n",
    "\n",
    "not_all_unknown = small_teams[small_teams[\"n_unknown\"] != small_teams[\"n_authors\"]]\n",
    "mode_not_all_unknown = mode(not_all_unknown[\"ratio\"])\n",
    "\n",
    "print(\"The mode for all is {}.\".format(mode_all))\n",
    "print(\"The mode for those where at least one author could be classified is {}.\".format(mode_not_all_unknown))"
   ]
  },
  {
   "cell_type": "code",
   "execution_count": null,
   "metadata": {},
   "outputs": [],
   "source": [
    "# Calculate best case scenario of gender equality for women considering all unclassified authors to be female.\n",
    "'''def new_ratio(n, f, u):\n",
    "    half_rel = n / 2.0\n",
    "    abs_m_to_be_replaced_by_f = half_rel - (f + u)\n",
    "    rel_m_to_be_replaced_by_f = abs_m_to_be_replaced_by_f / n * 100\n",
    "    r_max = rel_m_to_be_replaced_by_f\n",
    "    return r_max\n",
    "\n",
    "print(\"Calculating ratios for the case that all unclassified authors are women...\")\n",
    "\n",
    "ratios = []\n",
    "\n",
    "for index, row in small_teams.iterrows():\n",
    "    n = row[\"n_authors\"]\n",
    "    f = row[\"n_females\"]\n",
    "    u = row[\"n_unknown\"]\n",
    "    ratios.append(new_ratio(n, f, u))\n",
    "    \n",
    "print(\"Done!\")'''"
   ]
  },
  {
   "cell_type": "code",
   "execution_count": null,
   "metadata": {},
   "outputs": [],
   "source": [
    "'''ratios_df = pandas.DataFrame({'ratio':ratios})\n",
    "ratios_df.describe()'''"
   ]
  },
  {
   "cell_type": "code",
   "execution_count": null,
   "metadata": {},
   "outputs": [],
   "source": [
    "#mode(ratios_df[\"ratio\"])"
   ]
  },
  {
   "cell_type": "code",
   "execution_count": 25,
   "metadata": {},
   "outputs": [],
   "source": [
    "diff = not_all_unknown[\"n_contribs_males\"] - not_all_unknown[\"n_contribs_females\"]"
   ]
  },
  {
   "cell_type": "code",
   "execution_count": 26,
   "metadata": {},
   "outputs": [],
   "source": [
    "diff = diff.values"
   ]
  },
  {
   "cell_type": "code",
   "execution_count": 27,
   "metadata": {},
   "outputs": [
    {
     "data": {
      "text/plain": [
       "(array([7.11600e+03, 0.00000e+00, 0.00000e+00, 0.00000e+00, 0.00000e+00,\n",
       "        0.00000e+00, 1.00000e+00, 2.00000e+00, 2.00000e+01, 0.00000e+00,\n",
       "        7.10000e+01, 1.00000e+00, 5.50000e+02, 0.00000e+00, 1.80000e+01,\n",
       "        0.00000e+00, 4.61400e+03, 0.00000e+00, 5.00000e+00, 3.68000e+02,\n",
       "        0.00000e+00, 2.70000e+01, 7.00000e+00, 0.00000e+00, 0.00000e+00,\n",
       "        3.41860e+04, 0.00000e+00, 1.10000e+01, 9.60000e+01, 5.76000e+02,\n",
       "        5.35000e+02, 4.70000e+01, 0.00000e+00, 2.41840e+04, 1.70000e+01,\n",
       "        2.69000e+02, 0.00000e+00, 1.02230e+04, 6.10000e+01, 4.10000e+03,\n",
       "        8.00000e+00, 1.67700e+03, 7.05000e+02, 3.40000e+02, 2.07000e+02,\n",
       "        3.70000e+01, 0.00000e+00, 0.00000e+00, 0.00000e+00, 0.00000e+00,\n",
       "        1.47145e+05, 0.00000e+00, 0.00000e+00, 0.00000e+00, 8.49000e+02,\n",
       "        1.64100e+03, 3.86300e+03, 9.46100e+03, 2.64340e+04, 0.00000e+00,\n",
       "        6.55780e+04, 1.81100e+03, 1.44886e+05, 0.00000e+00, 9.61700e+03,\n",
       "        8.10000e+02, 3.06609e+05, 0.00000e+00, 4.40900e+03, 5.86940e+04,\n",
       "        0.00000e+00, 9.56300e+03, 2.11000e+03, 0.00000e+00, 0.00000e+00,\n",
       "        5.68303e+05, 0.00000e+00, 2.33300e+03, 9.81000e+03, 0.00000e+00,\n",
       "        5.97310e+04, 4.58400e+03, 0.00000e+00, 3.10133e+05, 0.00000e+00,\n",
       "        1.09730e+04, 0.00000e+00, 1.39584e+05, 2.09400e+03, 0.00000e+00,\n",
       "        5.33560e+04, 2.04160e+04, 7.46900e+03, 3.39100e+03, 2.18100e+03,\n",
       "        0.00000e+00, 0.00000e+00, 0.00000e+00, 0.00000e+00, 9.22600e+05]),\n",
       " array([-1.  , -0.98, -0.96, -0.94, -0.92, -0.9 , -0.88, -0.86, -0.84,\n",
       "        -0.82, -0.8 , -0.78, -0.76, -0.74, -0.72, -0.7 , -0.68, -0.66,\n",
       "        -0.64, -0.62, -0.6 , -0.58, -0.56, -0.54, -0.52, -0.5 , -0.48,\n",
       "        -0.46, -0.44, -0.42, -0.4 , -0.38, -0.36, -0.34, -0.32, -0.3 ,\n",
       "        -0.28, -0.26, -0.24, -0.22, -0.2 , -0.18, -0.16, -0.14, -0.12,\n",
       "        -0.1 , -0.08, -0.06, -0.04, -0.02,  0.  ,  0.02,  0.04,  0.06,\n",
       "         0.08,  0.1 ,  0.12,  0.14,  0.16,  0.18,  0.2 ,  0.22,  0.24,\n",
       "         0.26,  0.28,  0.3 ,  0.32,  0.34,  0.36,  0.38,  0.4 ,  0.42,\n",
       "         0.44,  0.46,  0.48,  0.5 ,  0.52,  0.54,  0.56,  0.58,  0.6 ,\n",
       "         0.62,  0.64,  0.66,  0.68,  0.7 ,  0.72,  0.74,  0.76,  0.78,\n",
       "         0.8 ,  0.82,  0.84,  0.86,  0.88,  0.9 ,  0.92,  0.94,  0.96,\n",
       "         0.98,  1.  ]),\n",
       " <a list of 100 Patch objects>)"
      ]
     },
     "execution_count": 27,
     "metadata": {},
     "output_type": "execute_result"
    },
    {
     "data": {
      "image/png": "[encoded data removed]",
      "text/plain": [
       "<Figure size 432x288 with 1 Axes>"
      ]
     },
     "metadata": {
      "needs_background": "light"
     },
     "output_type": "display_data"
    }
   ],
   "source": [
    "plt.hist(diff, bins=100)"
   ]
  },
  {
   "cell_type": "code",
   "execution_count": 33,
   "metadata": {},
   "outputs": [
    {
     "data": {
      "text/plain": [
       "WilcoxonResult(statistic=92412508576.0, pvalue=0.0)"
      ]
     },
     "execution_count": 33,
     "metadata": {},
     "output_type": "execute_result"
    }
   ],
   "source": [
    "from scipy.stats import wilcoxon\n",
    "wilcoxon(diff, zero_method='zsplit') # https://docs.scipy.org/doc/scipy/reference/generated/scipy.stats.wilcoxon.html"
   ]
  },
  {
   "cell_type": "code",
   "execution_count": null,
   "metadata": {},
   "outputs": [],
   "source": [
    "'''import matplotlib.pyplot as plt\n",
    "ratios_df[\"ratio\"].hist(color=\"orange\", bins=20)\n",
    "plt.title(\"Histogram of gender inequality index of publications\\n contributed to by more than one author\\n (assuming all unclassified authors are female).\")\n",
    "plt.xlabel(\"Gender Inequality Index\")\n",
    "plt.ylabel(\"Amount of publications\")'''"
   ]
  },
  {
   "cell_type": "code",
   "execution_count": 7,
   "metadata": {},
   "outputs": [
    {
     "name": "stdout",
     "output_type": "stream",
     "text": [
      "Visualizing Gender Inequality Index Histogram without publications, where no author could be classified...\n"
     ]
    },
    {
     "data": {
      "text/plain": [
       "Text(0, 0.5, 'Amount of publications')"
      ]
     },
     "execution_count": 7,
     "metadata": {},
     "output_type": "execute_result"
    },
    {
     "data": {
      "image/png": "[encoded data removed]",
      "text/plain": [
       "<Figure size 432x288 with 1 Axes>"
      ]
     },
     "metadata": {
      "needs_background": "light"
     },
     "output_type": "display_data"
    }
   ],
   "source": [
    "# Visualization\n",
    "# Show histogram considering not considering publications where none of the authors could be classified\n",
    "import matplotlib.pyplot as plt\n",
    "print(\"Visualizing Gender Inequality Index Histogram without publications, where no author could be classified...\")\n",
    "team_publs[\"ratio\"].hist(alpha=0, color=\"orange\", bins=5) # round(max(team_publs[\"ratio\"]))\n",
    "not_all_unknown[\"ratio\"].hist(color=\"orange\", bins=5) # round(max(not_all_unknown[\"ratio\"]))\n",
    "plt.title(\"Histogram of gender inequality index of publications\\n contributed to by more than one author\\n where at least one author was classified by gender.\")\n",
    "plt.xlabel(\"Gender Inequality Index\")\n",
    "plt.ylabel(\"Amount of publications\")\n",
    "#team_publs_all_unknown[\"ratio\"].hist(alpha=0.5, color=\"orange\")"
   ]
  },
  {
   "cell_type": "code",
   "execution_count": 8,
   "metadata": {},
   "outputs": [
    {
     "name": "stdout",
     "output_type": "stream",
     "text": [
      "Visualizing Authors by Gender by Publication Histogram without publications, where no author could be classified...\n"
     ]
    },
    {
     "data": {
      "text/plain": [
       "<matplotlib.legend.Legend at 0x1e8442cc278>"
      ]
     },
     "execution_count": 8,
     "metadata": {},
     "output_type": "execute_result"
    },
    {
     "data": {
      "image/png": "[encoded data removed]",
      "text/plain": [
       "<Figure size 432x288 with 1 Axes>"
      ]
     },
     "metadata": {
      "needs_background": "light"
     },
     "output_type": "display_data"
    }
   ],
   "source": [
    "# Gleichverteilung Ausschließen\n",
    "print(\"Visualizing Authors by Gender by Publication Histogram without publications, where no author could be classified...\")\n",
    "not_all_unknown[\"n_males\"].hist(color=\"orange\", alpha=0.5, bins=round(max(not_all_unknown[\"n_males\"])), label=\"male\")\n",
    "not_all_unknown[\"n_females\"].hist(color=\"red\", alpha=0.5, bins=round(max(not_all_unknown[\"n_females\"])), label=\"female\")\n",
    "plt.title(\"Histogram of the amount of authors by gender of publications\\n contributed to by more than one author\\n where at least one author was classified by gender.\")\n",
    "plt.xlabel(\"Amount of authors per publication\")\n",
    "plt.ylabel(\"Amount of publications\")\n",
    "plt.legend()"
   ]
  },
  {
   "cell_type": "code",
   "execution_count": null,
   "metadata": {},
   "outputs": [],
   "source": [
    "from scipy.stats import chisquare\n",
    "dist_f = not_all_unknown[\"n_females\"].value_counts()[:7]\n",
    "dist_m = not_all_unknown[\"n_males\"].value_counts()[:7]\n",
    "chisquare(dist_f.values, f_exp=dist_m.values)\n",
    "# p = 0"
   ]
  },
  {
   "cell_type": "code",
   "execution_count": null,
   "metadata": {},
   "outputs": [],
   "source": [
    "# Show histogram considering authors of unknown gender\n",
    "print(\"Visualizing Gender Inequality Index Histogram...\")\n",
    "team_publs[\"ratio\"].hist(color=\"orange\", bins=20)\n",
    "not_all_unknown[\"ratio\"].hist(color=\"orange\", bins=20)\n",
    "plt.title(\"Histogram of gender inequality index of publications\\n contributed to by more than one author\\n\")\n",
    "plt.xlabel(\"Gender Inequality Index\")\n",
    "plt.ylabel(\"Amount of publications\")"
   ]
  },
  {
   "cell_type": "code",
   "execution_count": null,
   "metadata": {},
   "outputs": [],
   "source": [
    "# >>> Evaluation\n",
    "# Hypothesis 4 is correct. "
   ]
  },
  {
   "cell_type": "code",
   "execution_count": null,
   "metadata": {},
   "outputs": [],
   "source": [
    "# >>> Testing\n",
    "# H5 Bigger teams are more diverse."
   ]
  },
  {
   "cell_type": "code",
   "execution_count": null,
   "metadata": {},
   "outputs": [],
   "source": [
    "team_publs_by_n_authors = small_teams.groupby(\"n_authors\")"
   ]
  },
  {
   "cell_type": "code",
   "execution_count": null,
   "metadata": {},
   "outputs": [],
   "source": [
    "# Calculation of distribution statistics.\n",
    "def m(ratio):\n",
    "    '''This function is necessary for calculating the mode because otherwise, \n",
    "    an exception might be thrown if there is more than one mode.'''\n",
    "    try:\n",
    "        return mode(ratio)\n",
    "    except:\n",
    "        return None"
   ]
  },
  {
   "cell_type": "code",
   "execution_count": null,
   "metadata": {},
   "outputs": [],
   "source": [
    "print(\"Calculating distribution statistics: mode, mean, std, median - per team size...\")\n",
    "team_ratio_mode = team_publs_by_n_authors.agg({'ratio':m})\n",
    "team_ratio_mode[\"n_authors\"] = team_ratio_mode.index.values.tolist()\n",
    "\n",
    "team_ratio_mean = team_publs_by_n_authors.agg({'ratio':'mean'})\n",
    "team_ratio_mean[\"n_authors\"] = team_ratio_mean.index.values.tolist()\n",
    "\n",
    "team_ratio_std = team_publs_by_n_authors.agg({'ratio':'std'})\n",
    "team_ratio_std[\"n_authors\"] = team_ratio_std.index.values.tolist()\n",
    "\n",
    "team_ratio_median = team_publs_by_n_authors.agg({'ratio':'median'})\n",
    "team_ratio_median[\"n_authors\"] = team_ratio_median.index.values.tolist()\n",
    "print(\"Done!\")"
   ]
  },
  {
   "cell_type": "code",
   "execution_count": null,
   "metadata": {},
   "outputs": [],
   "source": [
    "print(\"Calculating Spearman's Correlation Coefficient...\")\n",
    "small_teams_cor = small_teams.corr(method=\"spearman\")\n",
    "print(\"Done!\")\n",
    "print(small_teams_cor[\"n_authors\"])\n",
    "'''No correlation found.'''"
   ]
  },
  {
   "cell_type": "code",
   "execution_count": null,
   "metadata": {},
   "outputs": [],
   "source": [
    "# >>> Visualization\n",
    "print(\"Visualizing distribution statistics per team size as well as individual gender inequality ratio values.\")\n",
    "plt.plot(team_ratio_mode[\"ratio\"], label=\"Mode\", color=\"green\")\n",
    "plt.plot(team_ratio_median[\"ratio\"], label=\"Median\", color=\"blue\")\n",
    "plt.plot(team_ratio_mean[\"ratio\"], label=\"Mean\", color=\"orange\")\n",
    "plt.plot(team_ratio_std[\"ratio\"], label=\"Standard Deviation\", color=\"red\")\n",
    "plt.scatter(small_teams[\"n_authors\"], small_teams[\"ratio\"], alpha=0.01, color=\"grey\", label=\"Gender Inequality Index\")\n",
    "plt.title(\"Are bigger teams more diverse?\")\n",
    "plt.xlabel(\"Team Size\")\n",
    "plt.ylabel(\"Gender Inequality Index\")\n",
    "# Anchor a legend outside the plot: https://stackoverflow.com/questions/4700614/how-to-put-the-legend-out-of-the-plot\n",
    "plt.legend(bbox_to_anchor=(1.5, 1))"
   ]
  },
  {
   "cell_type": "code",
   "execution_count": null,
   "metadata": {},
   "outputs": [],
   "source": [
    "# >>> A more reliable result\n",
    "# Calculate best case scenario of gender equality for women considering all unclassified authors to be female.\n",
    "def new_ratio(n, f, u):\n",
    "    half_rel = n / 2.0\n",
    "    abs_m_to_be_replaced_by_f = half_rel - (f + u)\n",
    "    rel_m_to_be_replaced_by_f = abs_m_to_be_replaced_by_f / n * 100\n",
    "    r_max = rel_m_to_be_replaced_by_f\n",
    "    return r_max\n",
    "\n",
    "print(\"Calculating ratios for the case that all unclassified authors are women...\")\n",
    "\n",
    "ratios_2 = {}\n",
    "\n",
    "for index, row in small_teams.iterrows():\n",
    "    n = row[\"n_authors\"]\n",
    "    f = row[\"n_females\"]\n",
    "    u = row[\"n_unknown\"]\n",
    "    ratios_2[index] = { \"ratio\": new_ratio(n, f, u),\n",
    "                      \"n_authors\": n }\n",
    "    \n",
    "print(\"Done!\")\n",
    "\n",
    "ratios_df_2 = pandas.DataFrame.from_dict(ratios_2, orient=\"index\")\n",
    "ratios_df_2.describe()"
   ]
  },
  {
   "cell_type": "code",
   "execution_count": null,
   "metadata": {},
   "outputs": [],
   "source": [
    "team_publs_by_n_authors_2 = ratios_df_2.groupby(\"n_authors\")"
   ]
  },
  {
   "cell_type": "code",
   "execution_count": null,
   "metadata": {},
   "outputs": [],
   "source": [
    "print(\"Calculating distribution statistics if all unclassified authors were female: mode, mean, std, median - per team size...\")\n",
    "team_ratio_mode_2 = team_publs_by_n_authors_2.agg({'ratio':m})\n",
    "team_ratio_mode_2[\"n_authors\"] = team_ratio_mode_2.index.values.tolist()\n",
    "\n",
    "team_ratio_mean_2 = team_publs_by_n_authors_2.agg({'ratio':'mean'})\n",
    "team_ratio_mean_2[\"n_authors\"] = team_ratio_mean_2.index.values.tolist()\n",
    "\n",
    "team_ratio_std_2 = team_publs_by_n_authors_2.agg({'ratio':'std'})\n",
    "team_ratio_std_2[\"n_authors\"] = team_ratio_std_2.index.values.tolist()\n",
    "\n",
    "team_ratio_median_2 = team_publs_by_n_authors_2.agg({'ratio':'median'})\n",
    "team_ratio_median_2[\"n_authors\"] = team_ratio_median_2.index.values.tolist()\n",
    "print(\"Done!\")"
   ]
  },
  {
   "cell_type": "code",
   "execution_count": null,
   "metadata": {},
   "outputs": [],
   "source": [
    "print(\"Calculating Spearman's Correlation Coefficient...\")\n",
    "ratios_df_2_cor = ratios_df_2.corr(method=\"spearman\")\n",
    "print(\"Done!\")\n",
    "print(ratios_df_2_cor[\"n_authors\"])\n",
    "'''No correlation found.'''"
   ]
  },
  {
   "cell_type": "code",
   "execution_count": null,
   "metadata": {},
   "outputs": [],
   "source": [
    "# >>> Visualization\n",
    "print(\"Visualizing distribution statistics per team size as well as individual gender inequality ratio values if assuming all unclassified authors are female.\")\n",
    "plt.plot(team_ratio_mode_2[\"ratio\"], label=\"Mode\", color=\"green\")\n",
    "plt.plot(team_ratio_median_2[\"ratio\"], label=\"Median\", color=\"blue\")\n",
    "plt.plot(team_ratio_mean_2[\"ratio\"], label=\"Mean\", color=\"orange\")\n",
    "plt.plot(team_ratio_std_2[\"ratio\"], label=\"Standard Deviation\", color=\"red\")\n",
    "plt.scatter(ratios_df_2[\"n_authors\"], ratios_df_2[\"ratio\"], alpha=0.01, color=\"grey\", label=\"Gender Inequality Index\")\n",
    "plt.title(\"Are bigger teams more diverse?\")\n",
    "plt.xlabel(\"Team Size\")\n",
    "plt.ylabel(\"Gender Inequality Index\")\n",
    "# Anchor a legend outside the plot: https://stackoverflow.com/questions/4700614/how-to-put-the-legend-out-of-the-plot\n",
    "plt.legend(bbox_to_anchor=(1.5, 1))"
   ]
  },
  {
   "cell_type": "code",
   "execution_count": null,
   "metadata": {},
   "outputs": [],
   "source": [
    "# >>> Interpretation:\n",
    "# Hypothesis 5 is not correct."
   ]
  }
 ],
 "metadata": {
  "kernelspec": {
   "display_name": "Python 3",
   "language": "python",
   "name": "python3"
  },
  "language_info": {
   "codemirror_mode": {
    "name": "ipython",
    "version": 3
   },
   "file_extension": ".py",
   "mimetype": "text/x-python",
   "name": "python",
   "nbconvert_exporter": "python",
   "pygments_lexer": "ipython3",
   "version": "3.7.1"
  }
 },
 "nbformat": 4,
 "nbformat_minor": 2
}
