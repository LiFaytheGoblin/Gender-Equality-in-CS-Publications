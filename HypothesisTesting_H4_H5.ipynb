{
 "cells": [
  {
   "cell_type": "code",
   "execution_count": null,
   "metadata": {},
   "outputs": [],
   "source": [
    "# HYPOTHESIS TESTING"
   ]
  },
  {
   "cell_type": "code",
   "execution_count": null,
   "metadata": {},
   "outputs": [],
   "source": [
    "# Hypothesis 4:\n",
    "# Teams of collaborating authors consist of an equal amount of men and women.\n",
    "\n",
    "#Hypothesis 5:\n",
    "# Bigger teams are more diverse."
   ]
  },
  {
   "cell_type": "code",
   "execution_count": 1,
   "metadata": {},
   "outputs": [
    {
     "name": "stdout",
     "output_type": "stream",
     "text": [
      "Importing publications... \n"
     ]
    },
    {
     "name": "stderr",
     "output_type": "stream",
     "text": [
      "C:\\Program_Files\\Anaconda3\\lib\\site-packages\\IPython\\core\\interactiveshell.py:3020: DtypeWarning: Columns (3) have mixed types. Specify dtype option on import or set low_memory=False.\n",
      "  interactivity=interactivity, compiler=compiler, result=result)\n"
     ]
    },
    {
     "name": "stdout",
     "output_type": "stream",
     "text": [
      "Publications imported. They look like this:                                                                  key  \\\n",
      "key                                                                    \n",
      "books/acm/0082477                                  books/acm/0082477   \n",
      "books/acm/Kim95                                      books/acm/Kim95   \n",
      "books/acm/kim95/AnnevelinkACFHK95  books/acm/kim95/AnnevelinkACFHK95   \n",
      "books/acm/kim95/Blakeley95                books/acm/kim95/Blakeley95   \n",
      "books/acm/kim95/BreitbartGS95          books/acm/kim95/BreitbartGS95   \n",
      "\n",
      "                                        pub_cat pub_type  \\\n",
      "key                                                        \n",
      "books/acm/0082477                          book      NaN   \n",
      "books/acm/Kim95                            book      NaN   \n",
      "books/acm/kim95/AnnevelinkACFHK95  incollection      NaN   \n",
      "books/acm/kim95/Blakeley95         incollection      NaN   \n",
      "books/acm/kim95/BreitbartGS95      incollection      NaN   \n",
      "\n",
      "                                                                               title  \\\n",
      "key                                                                                    \n",
      "books/acm/0082477                        The no-nonsense guide to computing careers.   \n",
      "books/acm/Kim95                    Modern Database Systems: The Object Model, Int...   \n",
      "books/acm/kim95/AnnevelinkACFHK95  Object SQL - A Language for the Design and Imp...   \n",
      "books/acm/kim95/Blakeley95         OQL[C++]: Extending C++ with an Object Query C...   \n",
      "books/acm/kim95/BreitbartGS95       Transaction Management in Multidatabase Systems.   \n",
      "\n",
      "                                   year  \\\n",
      "key                                       \n",
      "books/acm/0082477                  1992   \n",
      "books/acm/Kim95                    1995   \n",
      "books/acm/kim95/AnnevelinkACFHK95  1995   \n",
      "books/acm/kim95/Blakeley95         1995   \n",
      "books/acm/kim95/BreitbartGS95      1995   \n",
      "\n",
      "                                                                             authors  \\\n",
      "key                                                                                    \n",
      "books/acm/0082477                                                    ['Marc Rettig']   \n",
      "books/acm/Kim95                                                                   []   \n",
      "books/acm/kim95/AnnevelinkACFHK95  ['Jurgen Annevelink', 'Rafiul Ahad', 'Amelia C...   \n",
      "books/acm/kim95/Blakeley95                                      ['José A. Blakeley']   \n",
      "books/acm/kim95/BreitbartGS95      ['Yuri Breitbart', 'Hector Garcia-Molina', 'Ab...   \n",
      "\n",
      "                                   n_authors  n_males  n_females  n_unknown  \\\n",
      "key                                                                           \n",
      "books/acm/0082477                          1      1.0        0.0        0.0   \n",
      "books/acm/Kim95                            0      0.0        0.0        0.0   \n",
      "books/acm/kim95/AnnevelinkACFHK95          6      4.0        1.0        1.0   \n",
      "books/acm/kim95/Blakeley95                 1      1.0        0.0        0.0   \n",
      "books/acm/kim95/BreitbartGS95              3      2.0        0.0        1.0   \n",
      "\n",
      "                                   ratio  n_contribs_females  \\\n",
      "key                                                            \n",
      "books/acm/0082477                   50.0            0.000000   \n",
      "books/acm/Kim95                      0.0            0.000000   \n",
      "books/acm/kim95/AnnevelinkACFHK95   30.0            0.166667   \n",
      "books/acm/kim95/Blakeley95          50.0            0.000000   \n",
      "books/acm/kim95/BreitbartGS95       50.0            0.000000   \n",
      "\n",
      "                                   n_contribs_males  n_contribs_unknown  \n",
      "key                                                                      \n",
      "books/acm/0082477                          1.000000            0.000000  \n",
      "books/acm/Kim95                            0.000000            0.000000  \n",
      "books/acm/kim95/AnnevelinkACFHK95          0.666667            0.166667  \n",
      "books/acm/kim95/Blakeley95                 1.000000            0.000000  \n",
      "books/acm/kim95/BreitbartGS95              0.666667            0.333333  \n"
     ]
    }
   ],
   "source": [
    "# >>> Preparation\n",
    "import pandas\n",
    "\n",
    "print(\"Importing publications... \")\n",
    "cols = [\n",
    "    'key', \n",
    "    'pub_cat',\n",
    "    'pub_type',\n",
    "    'title',\n",
    "    'year',\n",
    "    'authors',\n",
    "    'n_authors',\n",
    "    'n_males',\n",
    "    'n_females',\n",
    "    'n_unknown',\n",
    "    'ratio',\n",
    "    'n_contribs_females',\n",
    "    'n_contribs_males',\n",
    "    'n_contribs_unknown'\n",
    "]\n",
    "\n",
    "publs = pandas.read_csv(\"data/publications_cor3.csv\", usecols=cols)\n",
    "\n",
    "# Setting index & accessing cells: https://pythonhow.com/accessing-dataframe-columns-rows-and-cells/\n",
    "publs = publs.set_index(\"key\", drop = False)\n",
    "print(\"Publications imported. They look like this: {}\".format(publs[:5]))"
   ]
  },
  {
   "cell_type": "code",
   "execution_count": 2,
   "metadata": {},
   "outputs": [],
   "source": [
    "# get only those publications created by teams\n",
    "team_publs = publs[publs['n_authors'] > 1]"
   ]
  },
  {
   "cell_type": "code",
   "execution_count": 3,
   "metadata": {},
   "outputs": [
    {
     "name": "stdout",
     "output_type": "stream",
     "text": [
      "Calculating from what point on a team is an outlier, considering its size...\n",
      "The outer fence is 10.0\n"
     ]
    }
   ],
   "source": [
    "# Outlier calculation\n",
    "print(\"Calculating from what point on a team is an outlier, considering its size...\")\n",
    "import numpy as np\n",
    "lower = np.percentile(team_publs[\"n_authors\"], 25)\n",
    "higher = np.percentile(team_publs[\"n_authors\"], 75)\n",
    "interquart_range = higher - lower\n",
    "outer_fence = higher + interquart_range * 3\n",
    "print(\"The outer fence is {}\".format(outer_fence))"
   ]
  },
  {
   "cell_type": "code",
   "execution_count": 4,
   "metadata": {},
   "outputs": [],
   "source": [
    "# get only those publications created by regular small teams\n",
    "small_teams = team_publs[team_publs[\"n_authors\"] <= outer_fence]"
   ]
  },
  {
   "cell_type": "code",
   "execution_count": 5,
   "metadata": {},
   "outputs": [
    {
     "name": "stdout",
     "output_type": "stream",
     "text": [
      "Calculating the mode...\n",
      "The mode for all is 50.0.\n",
      "The mode for those where at least one author could be classified is 50.0.\n"
     ]
    }
   ],
   "source": [
    "# >>> Testing\n",
    "# H4\n",
    "\n",
    "# Finding the mode of a series: https://stackoverflow.com/questions/10797819/finding-the-mode-of-a-list\n",
    "from statistics import mode\n",
    "\n",
    "# Relative values\n",
    "# Publications Contributed to\n",
    "# Finding the mode of a series: https://stackoverflow.com/questions/10797819/finding-the-mode-of-a-list\n",
    "print(\"Calculating the mode...\")\n",
    "\n",
    "mode_all = mode(small_teams[\"ratio\"])\n",
    "\n",
    "not_all_unknown = small_teams[small_teams[\"n_unknown\"] != small_teams[\"n_authors\"]]\n",
    "mode_not_all_unknown = mode(not_all_unknown[\"ratio\"])\n",
    "\n",
    "print(\"The mode for all is {}.\".format(mode_all))\n",
    "print(\"The mode for those where at least one author could be classified is {}.\".format(mode_not_all_unknown))"
   ]
  },
  {
   "cell_type": "code",
   "execution_count": null,
   "metadata": {},
   "outputs": [],
   "source": [
    "# Calculate best case scenario of gender equality for women considering all unclassified authors to be female.\n",
    "'''def new_ratio(n, f, u):\n",
    "    half_rel = n / 2.0\n",
    "    abs_m_to_be_replaced_by_f = half_rel - (f + u)\n",
    "    rel_m_to_be_replaced_by_f = abs_m_to_be_replaced_by_f / n * 100\n",
    "    r_max = rel_m_to_be_replaced_by_f\n",
    "    return r_max\n",
    "\n",
    "print(\"Calculating ratios for the case that all unclassified authors are women...\")\n",
    "\n",
    "ratios = []\n",
    "\n",
    "for index, row in small_teams.iterrows():\n",
    "    n = row[\"n_authors\"]\n",
    "    f = row[\"n_females\"]\n",
    "    u = row[\"n_unknown\"]\n",
    "    ratios.append(new_ratio(n, f, u))\n",
    "    \n",
    "print(\"Done!\")'''"
   ]
  },
  {
   "cell_type": "code",
   "execution_count": null,
   "metadata": {},
   "outputs": [],
   "source": [
    "'''ratios_df = pandas.DataFrame({'ratio':ratios})\n",
    "ratios_df.describe()'''"
   ]
  },
  {
   "cell_type": "code",
   "execution_count": null,
   "metadata": {},
   "outputs": [],
   "source": [
    "#mode(ratios_df[\"ratio\"])"
   ]
  },
  {
   "cell_type": "code",
   "execution_count": null,
   "metadata": {},
   "outputs": [],
   "source": [
    "diff = not_all_unknown[\"n_contribs_males\"] - not_all_unknown[\"n_contribs_females\"]"
   ]
  },
  {
   "cell_type": "code",
   "execution_count": null,
   "metadata": {},
   "outputs": [],
   "source": [
    "diff = diff.values"
   ]
  },
  {
   "cell_type": "code",
   "execution_count": null,
   "metadata": {},
   "outputs": [],
   "source": [
    "plt.hist(diff, bins=100)"
   ]
  },
  {
   "cell_type": "code",
   "execution_count": null,
   "metadata": {},
   "outputs": [],
   "source": [
    "from scipy.stats import wilcoxon\n",
    "wilcoxon(diff, zero_method='zsplit') # https://docs.scipy.org/doc/scipy/reference/generated/scipy.stats.wilcoxon.html"
   ]
  },
  {
   "cell_type": "code",
   "execution_count": null,
   "metadata": {},
   "outputs": [],
   "source": [
    "'''import matplotlib.pyplot as plt\n",
    "ratios_df[\"ratio\"].hist(color=\"orange\", bins=20)\n",
    "plt.title(\"Histogram of gender inequality index of publications\\n contributed to by more than one author\\n (assuming all unclassified authors are female).\")\n",
    "plt.xlabel(\"Gender Inequality Index\")\n",
    "plt.ylabel(\"Amount of publications\")'''"
   ]
  },
  {
   "cell_type": "code",
   "execution_count": null,
   "metadata": {},
   "outputs": [],
   "source": [
    "# Visualization\n",
    "# Show histogram considering not considering publications where none of the authors could be classified\n",
    "import matplotlib.pyplot as plt\n",
    "print(\"Visualizing Gender Inequality Index Histogram without publications, where no author could be classified...\")\n",
    "team_publs[\"ratio\"].hist(alpha=0, color=\"orange\", bins=5) # round(max(team_publs[\"ratio\"]))\n",
    "not_all_unknown[\"ratio\"].hist(color=\"orange\", bins=5) # round(max(not_all_unknown[\"ratio\"]))\n",
    "plt.title(\"Histogram of gender inequality index of publications\\n contributed to by more than one author\\n where at least one author was classified by gender.\")\n",
    "plt.xlabel(\"Gender Inequality Index\")\n",
    "plt.ylabel(\"Amount of publications\")\n",
    "#team_publs_all_unknown[\"ratio\"].hist(alpha=0.5, color=\"orange\")"
   ]
  },
  {
   "cell_type": "code",
   "execution_count": null,
   "metadata": {},
   "outputs": [],
   "source": [
    "# Gleichverteilung Ausschließen\n",
    "print(\"Visualizing Authors by Gender by Publication Histogram without publications, where no author could be classified...\")\n",
    "not_all_unknown[\"n_males\"].hist(color=\"orange\", alpha=0.5, bins=round(max(not_all_unknown[\"n_males\"])), label=\"male\")\n",
    "not_all_unknown[\"n_females\"].hist(color=\"red\", alpha=0.5, bins=round(max(not_all_unknown[\"n_females\"])), label=\"female\")\n",
    "plt.title(\"Histogram of the amount of authors by gender of publications\\n contributed to by more than one author\\n where at least one author was classified by gender.\")\n",
    "plt.xlabel(\"Amount of authors per publication\")\n",
    "plt.ylabel(\"Amount of publications\")\n",
    "plt.legend()"
   ]
  },
  {
   "cell_type": "code",
   "execution_count": null,
   "metadata": {},
   "outputs": [],
   "source": [
    "from scipy.stats import chisquare\n",
    "dist_f = not_all_unknown[\"n_females\"].value_counts()[:7]\n",
    "dist_m = not_all_unknown[\"n_males\"].value_counts()[:7]\n",
    "chisquare(dist_f.values, f_exp=dist_m.values)\n",
    "# p = 0"
   ]
  },
  {
   "cell_type": "code",
   "execution_count": null,
   "metadata": {},
   "outputs": [],
   "source": [
    "# Show histogram considering authors of unknown gender\n",
    "print(\"Visualizing Gender Inequality Index Histogram...\")\n",
    "team_publs[\"ratio\"].hist(color=\"orange\", bins=20)\n",
    "not_all_unknown[\"ratio\"].hist(color=\"orange\", bins=20)\n",
    "plt.title(\"Histogram of gender inequality index of publications\\n contributed to by more than one author\\n\")\n",
    "plt.xlabel(\"Gender Inequality Index\")\n",
    "plt.ylabel(\"Amount of publications\")"
   ]
  },
  {
   "cell_type": "code",
   "execution_count": null,
   "metadata": {},
   "outputs": [],
   "source": [
    "# >>> Evaluation\n",
    "# Hypothesis 4 is not correct. "
   ]
  },
  {
   "cell_type": "code",
   "execution_count": null,
   "metadata": {},
   "outputs": [],
   "source": [
    "# >>> Testing\n",
    "# H5 Bigger teams are more diverse."
   ]
  },
  {
   "cell_type": "code",
   "execution_count": 21,
   "metadata": {},
   "outputs": [],
   "source": [
    "group_lower = small_teams[small_teams[\"ratio\"] <= 0]\n",
    "group_higher = small_teams[small_teams[\"ratio\"] >= 0]"
   ]
  },
  {
   "cell_type": "code",
   "execution_count": 22,
   "metadata": {},
   "outputs": [
    {
     "name": "stdout",
     "output_type": "stream",
     "text": [
      "Calculating Spearman's Correlation Coefficient...\n",
      "SpearmanrResult(correlation=0.014969751034996153, pvalue=5.045998813740137e-46)\n",
      "SpearmanrResult(correlation=0.009200546439438925, pvalue=7.657244963634207e-68)\n",
      "Done!\n"
     ]
    }
   ],
   "source": [
    "from scipy import stats\n",
    "print(\"Calculating Spearman's Correlation Coefficient...\")\n",
    "small_teams_cor_l = stats.spearmanr(group_lower[\"ratio\"], group_lower[\"n_authors\"])\n",
    "small_teams_cor_h = stats.spearmanr(group_higher[\"ratio\"], group_higher[\"n_authors\"])\n",
    "print(small_teams_cor_l)\n",
    "print(small_teams_cor_h)\n",
    "print(\"Done!\")"
   ]
  },
  {
   "cell_type": "code",
   "execution_count": null,
   "metadata": {},
   "outputs": [],
   "source": [
    "# Calculation of distribution statistics.\n",
    "def m(ratio):\n",
    "    '''This function is necessary for calculating the mode because otherwise, \n",
    "    an exception might be thrown if there is more than one mode.'''\n",
    "    try:\n",
    "        return mode(ratio)\n",
    "    except:\n",
    "        return None"
   ]
  },
  {
   "cell_type": "code",
   "execution_count": null,
   "metadata": {},
   "outputs": [],
   "source": [
    "print(\"Calculating distribution statistics: mode, mean, std, median - per team size...\")\n",
    "team_publs_by_n_authors = small_teams.groupby(\"n_authors\")\n",
    "\n",
    "team_ratio_mode = team_publs_by_n_authors.agg({'ratio':m})\n",
    "team_ratio_mode[\"n_authors\"] = team_ratio_mode.index.values.tolist()\n",
    "\n",
    "team_ratio_mean = team_publs_by_n_authors.agg({'ratio':'mean'})\n",
    "team_ratio_mean[\"n_authors\"] = team_ratio_mean.index.values.tolist()\n",
    "\n",
    "team_ratio_std = team_publs_by_n_authors.agg({'ratio':'std'})\n",
    "team_ratio_std[\"n_authors\"] = team_ratio_std.index.values.tolist()\n",
    "\n",
    "team_ratio_median = team_publs_by_n_authors.agg({'ratio':'median'})\n",
    "team_ratio_median[\"n_authors\"] = team_ratio_median.index.values.tolist()\n",
    "print(\"Done!\")"
   ]
  },
  {
   "cell_type": "code",
   "execution_count": 28,
   "metadata": {},
   "outputs": [
    {
     "name": "stdout",
     "output_type": "stream",
     "text": [
      "Visualizing distribution statistics per team size as well as individual gender inequality ratio values.\n"
     ]
    },
    {
     "data": {
      "text/plain": [
       "<matplotlib.legend.Legend at 0x21d277ec588>"
      ]
     },
     "execution_count": 28,
     "metadata": {},
     "output_type": "execute_result"
    },
    {
     "data": {
      "image/png": "[encoded data removed]",
      "text/plain": [
       "<Figure size 432x288 with 1 Axes>"
      ]
     },
     "metadata": {
      "needs_background": "light"
     },
     "output_type": "display_data"
    }
   ],
   "source": [
    "# >>> Visualization\n",
    "import matplotlib.pyplot as plt\n",
    "print(\"Visualizing distribution statistics per team size as well as individual gender inequality ratio values.\")\n",
    "plt.plot(team_ratio_mode[\"ratio\"], label=\"Mode\", alpha=0.5, color=\"green\")\n",
    "plt.plot(team_ratio_median[\"ratio\"], label=\"Median\", alpha=0.5, color=\"blue\")\n",
    "plt.plot(team_ratio_mean[\"ratio\"], label=\"Mean\", color=\"orange\")\n",
    "plt.plot(team_ratio_std[\"ratio\"], label=\"Standard Deviation\", color=\"red\")\n",
    "#plt.scatter(small_teams[\"n_authors\"], small_teams[\"ratio\"], alpha=0.01, color=\"grey\", label=\"Gender Inequality Index\")\n",
    "plt.title(\"Are bigger teams more diverse?\")\n",
    "plt.xlabel(\"Team Size\")\n",
    "plt.ylabel(\"Gender Inequality Index\")\n",
    "# Anchor a legend outside the plot: https://stackoverflow.com/questions/4700614/how-to-put-the-legend-out-of-the-plot\n",
    "plt.legend(bbox_to_anchor=(1.5, 1))"
   ]
  },
  {
   "cell_type": "code",
   "execution_count": null,
   "metadata": {},
   "outputs": [],
   "source": [
    "# >>> Interpretation:\n",
    "# Hypothesis 5 is not correct."
   ]
  }
 ],
 "metadata": {
  "kernelspec": {
   "display_name": "Python 3",
   "language": "python",
   "name": "python3"
  },
  "language_info": {
   "codemirror_mode": {
    "name": "ipython",
    "version": 3
   },
   "file_extension": ".py",
   "mimetype": "text/x-python",
   "name": "python",
   "nbconvert_exporter": "python",
   "pygments_lexer": "ipython3",
   "version": "3.7.1"
  }
 },
 "nbformat": 4,
 "nbformat_minor": 2
}
