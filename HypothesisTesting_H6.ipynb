{
 "cells": [
  {
   "cell_type": "code",
   "execution_count": null,
   "metadata": {},
   "outputs": [],
   "source": [
    "# Hypothesis Testing\n",
    "# 6: Over time, the gender distribution in teams of authors became more equal"
   ]
  },
  {
   "cell_type": "code",
   "execution_count": null,
   "metadata": {},
   "outputs": [],
   "source": [
    "# >>> Preparation\n",
    "import pandas"
   ]
  },
  {
   "cell_type": "code",
   "execution_count": null,
   "metadata": {},
   "outputs": [],
   "source": [
    "print(\"Importing publications... \")\n",
    "cols = [\n",
    "    'key', \n",
    "    'pub_cat',\n",
    "    'pub_type',\n",
    "    'title',\n",
    "    'year',\n",
    "    'authors',\n",
    "    'n_authors',\n",
    "    'n_males',\n",
    "    'n_females',\n",
    "    'n_unknown',\n",
    "    'ratio',\n",
    "    'n_contribs_females',\n",
    "    'n_contribs_males',\n",
    "    'n_contribs_unknown',\n",
    "]\n",
    "\n",
    "publs = pandas.read_csv(\"data/publications_cor2.csv\", usecols=cols)\n",
    "\n",
    "# Setting index & accessing cells: https://pythonhow.com/accessing-dataframe-columns-rows-and-cells/\n",
    "publs = publs.set_index(\"key\", drop = False)\n",
    "print(\"Publications imported. They look like this: {}\".format(publs[:5]))"
   ]
  },
  {
   "cell_type": "code",
   "execution_count": null,
   "metadata": {},
   "outputs": [],
   "source": [
    "# >>> Correlation Matrix\n",
    "# Creation\n",
    "publs_cor = publs.corr(method='spearman')"
   ]
  },
  {
   "cell_type": "code",
   "execution_count": null,
   "metadata": {},
   "outputs": [],
   "source": [
    "# Visualization\n",
    "# visualize correlation matrix https://stackoverflow.com/questions/29432629/plot-correlation-matrix-using-pandas\n",
    "# annotated https://matplotlib.org/gallery/images_contours_and_fields/image_annotated_heatmap.html#sphx-glr-gallery-images-contours-and-fields-image-annotated-heatmap-py\n",
    "import numpy as np\n",
    "import matplotlib.pyplot as plt\n",
    "from matplotlib import cm\n",
    "\n",
    "autumn = cm.get_cmap('RdBu', 10)\n",
    "\n",
    "# draw a big matrix: https://stackoverflow.com/questions/332289/how-do-you-change-the-size-of-figures-drawn-with-matplotlib\n",
    "fig, ax = plt.subplots(figsize=(20, 10))\n",
    "im = ax.imshow(publs_cor, cmap=autumn)\n",
    "\n",
    "plt.xticks(np.arange(len(publs_cor.columns.values)), publs_cor.columns.values, rotation='vertical')\n",
    "plt.yticks(np.arange(len(publs_cor.columns.values)), publs_cor.columns.values)\n",
    "\n",
    "plt.setp(ax.get_xticklabels(), rotation=45, ha=\"right\", rotation_mode=\"anchor\")\n",
    "\n",
    "for i in range(len(publs_cor.columns.values)):\n",
    "    for j in range(len(publs_cor.columns.values)):\n",
    "        # round https://www.tutorialspoint.com/python/number_round.htm\n",
    "        text = ax.text(j, i, round(publs_cor.iloc[i, j], 2), ha=\"center\", va=\"center\", color=\"k\")\n",
    "\n",
    "plt.title(\"Correlation Matrix\")\n",
    "\n",
    "plt.show()\n",
    "\n",
    "# We see that the year does not seem to correlate with the gender equality index (\"ratio\"): The spearman coefficient is -0.04"
   ]
  },
  {
   "cell_type": "code",
   "execution_count": null,
   "metadata": {},
   "outputs": [],
   "source": [
    "# Correlation matrix for relevant years only\n",
    "# Creation\n",
    "\n",
    "# Create dataset of publications by year\n",
    "publs_by_year_group = publs.groupby(\"year\")\n",
    "\n",
    "# How many publications by year?\n",
    "publs_sum_by_year = publs_by_year_group.count()"
   ]
  },
  {
   "cell_type": "code",
   "execution_count": null,
   "metadata": {},
   "outputs": [],
   "source": [
    "# Find out the minimum and maximum valid year:\n",
    "min_year = publs_sum_by_year[publs_sum_by_year['key'] > 1000].index.values.min() # 1966\n",
    "max_year = 2018 # To Adjust: We only have 4 months of 2019 with the dataset of April 2019"
   ]
  },
  {
   "cell_type": "code",
   "execution_count": null,
   "metadata": {},
   "outputs": [],
   "source": [
    "publs_lim = publs[(publs['year'] >= min_year) & (publs['year'] <= max_year)]\n",
    "\n",
    "publs_lim_cor = publs_lim.corr(method='spearman') # correlation matrix"
   ]
  },
  {
   "cell_type": "code",
   "execution_count": null,
   "metadata": {},
   "outputs": [],
   "source": [
    "# Visualization\n",
    "# visualize correlation matrix https://stackoverflow.com/questions/29432629/plot-correlation-matrix-using-pandas\n",
    "# annotated https://matplotlib.org/gallery/images_contours_and_fields/image_annotated_heatmap.html#sphx-glr-gallery-images-contours-and-fields-image-annotated-heatmap-py\n",
    "import numpy as np\n",
    "import matplotlib.pyplot as plt\n",
    "from matplotlib import cm\n",
    "\n",
    "autumn = cm.get_cmap('autumn', 10)\n",
    "\n",
    "# draw a big matrix: https://stackoverflow.com/questions/332289/how-do-you-change-the-size-of-figures-drawn-with-matplotlib\n",
    "fig, ax = plt.subplots(figsize=(20, 10))\n",
    "im = ax.imshow(publs_lim_cor, cmap=autumn)\n",
    "\n",
    "plt.xticks(np.arange(len(publs_lim_cor.columns.values)), publs_lim_cor.columns.values, rotation='vertical')\n",
    "plt.yticks(np.arange(len(publs_lim_cor.columns.values)), publs_lim_cor.columns.values)\n",
    "\n",
    "plt.setp(ax.get_xticklabels(), rotation=45, ha=\"right\", rotation_mode=\"anchor\")\n",
    "\n",
    "for i in range(len(publs_lim_cor.columns.values)):\n",
    "    for j in range(len(publs_lim_cor.columns.values)):\n",
    "        # round https://www.tutorialspoint.com/python/number_round.htm\n",
    "        text = ax.text(j, i, round(publs_lim_cor.iloc[i, j], 2), ha=\"center\", va=\"center\", color=\"k\")\n",
    "\n",
    "\n",
    "plt.title(\"Correlation Matrix\")\n",
    "\n",
    "plt.show()\n",
    "\n",
    "# We see that the year does not seem to correlate with the gender equality index even if \n",
    "# the years are taken out that have too few publications (\"ratio\"): The spearman coefficient is -0.04"
   ]
  },
  {
   "cell_type": "code",
   "execution_count": null,
   "metadata": {},
   "outputs": [],
   "source": [
    "# >>> Closer look at the distribution of the equality index\n",
    "# Any publications\n",
    "publs['ratio'].describe()"
   ]
  },
  {
   "cell_type": "code",
   "execution_count": null,
   "metadata": {},
   "outputs": [],
   "source": [
    "publs_lim['ratio'].describe()"
   ]
  },
  {
   "cell_type": "code",
   "execution_count": null,
   "metadata": {},
   "outputs": [],
   "source": [
    "# Publications written by 2 or more authors\n",
    "only_coop_publs = publs[publs['n_authors'] > 1]\n",
    "only_coop_publs_lim = publs_lim[publs_lim['n_authors'] > 1]"
   ]
  },
  {
   "cell_type": "code",
   "execution_count": null,
   "metadata": {},
   "outputs": [],
   "source": [
    "non_coop_publs = publs[publs['n_authors'] <= 1]\n",
    "non_coop_publs_lim = publs_lim[publs_lim['n_authors'] <= 1]"
   ]
  },
  {
   "cell_type": "code",
   "execution_count": null,
   "metadata": {},
   "outputs": [],
   "source": [
    "bins = int(abs(publs['ratio'].max()) + abs(publs['ratio'].min()))\n",
    "only_coop_publs['ratio'].hist(label=\"Publications written in cooperation (any year)\", alpha=0.5)\n",
    "only_coop_publs_lim['ratio'].hist(label=\"Publications written in cooperation (including years before 1966)\", alpha=0.5)\n",
    "plt.xlabel(\"Equality Index\")\n",
    "plt.legend()\n",
    "plt.title(\"Histogram of Equality Index\")\n",
    "# The equality index only makes sense if the publication was written in cooperation.\n",
    "# We see that there are over 3 Million cases where the equality index is over 50. \n",
    "# There are 1 Million cases where the equality index is 0, meaning perfect equality.\n",
    "# This could be because of the huge amount of unknown authors.\n",
    "# There are some few cases between 0 and 50 and very few where there are more women than men in a team of authors.\n",
    "# Taking out those years with few publications has no influence."
   ]
  },
  {
   "cell_type": "code",
   "execution_count": null,
   "metadata": {},
   "outputs": [],
   "source": [
    "# >>> Display development of ratio over time"
   ]
  },
  {
   "cell_type": "code",
   "execution_count": null,
   "metadata": {},
   "outputs": [],
   "source": [
    "# How many publications by year?\n",
    "valid_publs_by_year_group = publs_lim.groupby(\"year\")\n",
    "valid_publs_sum_by_year = valid_publs_by_year_group.count()"
   ]
  },
  {
   "cell_type": "code",
   "execution_count": null,
   "metadata": {},
   "outputs": [],
   "source": [
    "from statistics import mode, pstdev\n",
    "valid_ratio_mean_by_year = valid_publs_by_year_group.agg({'ratio':'mean'})\n",
    "valid_ratio_median_by_year = valid_publs_by_year_group.agg({'ratio':'median'})\n",
    "valid_ratio_std_by_year = valid_publs_by_year_group.agg({'ratio':pstdev})\n",
    "#ratio_mode_by_year = valid_publs_by_year_group.agg({'ratio':mode})"
   ]
  },
  {
   "cell_type": "code",
   "execution_count": null,
   "metadata": {},
   "outputs": [],
   "source": [
    "cmap = plt.get_cmap(\"tab20c\")"
   ]
  },
  {
   "cell_type": "code",
   "execution_count": null,
   "metadata": {
    "scrolled": true
   },
   "outputs": [],
   "source": [
    "# Visualization\n",
    "#https://matplotlib.org/gallery/api/two_scales.html\n",
    "\n",
    "fig, ax1 = plt.subplots()\n",
    "\n",
    "ax1.set_xlabel('Year')\n",
    "ax1.set_ylabel('Equality Index')\n",
    "\n",
    "ax1.plot(valid_ratio_median_by_year.index.values, valid_ratio_median_by_year['ratio'].values, color='g', label=\"Median Equality Index\")\n",
    "ax1.plot(valid_ratio_mean_by_year.index.values, valid_ratio_mean_by_year['ratio'].values, color='b', label=\"Mean Equality Index\")\n",
    "ax1.plot(valid_ratio_std_by_year.index.values, valid_ratio_std_by_year['ratio'].values, color='turquoise', label=\"Standard Deviation of Equality Index\")\n",
    "\n",
    "ax1.tick_params(axis='y')\n",
    "\n",
    "# set y limits for a subplot: https://stackoverflow.com/questions/15858192/how-to-set-xlim-and-ylim-for-a-subplot-in-matplotlib\n",
    "ax1.set_ylim([0,55])\n",
    "\n",
    "plt.legend(loc=\"center left\")\n",
    "\n",
    "ax2 = ax1.twinx()  # instantiate a second axes that shares the same x-axis\n",
    "\n",
    "ax2.set_ylabel('Publications')  # we already handled the x-label with ax1\n",
    "ax2.plot(valid_publs_sum_by_year.index.values, valid_publs_sum_by_year['key'].values, color='r', label=\"Amount of Publications\")\n",
    "ax2.tick_params(axis='y')\n",
    "\n",
    "plt.title(\"Development of Equality Index vs. Amount of Publications\")\n",
    "plt.legend(loc=\"lower right\")\n",
    "plt.show()"
   ]
  },
  {
   "cell_type": "code",
   "execution_count": null,
   "metadata": {},
   "outputs": [],
   "source": [
    "# How many authors by year?\n",
    "valid_publs_authors_by_year = valid_publs_by_year_group.agg({'n_authors':'sum'})"
   ]
  },
  {
   "cell_type": "code",
   "execution_count": null,
   "metadata": {},
   "outputs": [],
   "source": [
    "# How many female authors by year?\n",
    "valid_publs_f_by_year = valid_publs_by_year_group.agg({'n_females':'sum'})"
   ]
  },
  {
   "cell_type": "code",
   "execution_count": null,
   "metadata": {},
   "outputs": [],
   "source": [
    "# How many male authors by year?\n",
    "valid_publs_m_by_year = valid_publs_by_year_group.agg({'n_males':'sum'})"
   ]
  },
  {
   "cell_type": "code",
   "execution_count": null,
   "metadata": {},
   "outputs": [],
   "source": [
    "# How many unknown authors by year?\n",
    "valid_publs_u_by_year = valid_publs_by_year_group.agg({'n_unknown':'sum'})"
   ]
  },
  {
   "cell_type": "code",
   "execution_count": null,
   "metadata": {},
   "outputs": [],
   "source": [
    "#https://matplotlib.org/gallery/api/two_scales.html\n",
    "\n",
    "fig, ax1 = plt.subplots()\n",
    "\n",
    "ax1.set_xlabel('Year')\n",
    "ax1.set_ylabel('Equality Index')\n",
    "\n",
    "ax1.plot(valid_ratio_median_by_year.index.values, valid_ratio_median_by_year['ratio'].values, color='g', label=\"Median Equality Index\")\n",
    "ax1.plot(valid_ratio_mean_by_year.index.values, valid_ratio_mean_by_year['ratio'].values, color='b', label=\"Mean Equality Index\")\n",
    "ax1.plot(valid_ratio_std_by_year.index.values, valid_ratio_std_by_year['ratio'].values, color='turquoise', label=\"Standard Deviation of Equality Index\")\n",
    "\n",
    "ax1.tick_params(axis='y')\n",
    "\n",
    "# set y limits for a subplot: https://stackoverflow.com/questions/15858192/how-to-set-xlim-and-ylim-for-a-subplot-in-matplotlib\n",
    "ax1.set_ylim([0,55])\n",
    "\n",
    "plt.legend(loc=\"center left\")\n",
    "\n",
    "ax2 = ax1.twinx()  # instantiate a second axes that shares the same x-axis\n",
    "\n",
    "ax2.set_ylabel('Authors')  # we already handled the x-label with ax1\n",
    "ax2.plot(valid_publs_authors_by_year.index.values, valid_publs_authors_by_year['n_authors'].values, color='xkcd:orange', label=\"Amount of Authors\")\n",
    "ax2.plot(valid_publs_f_by_year.index.values, valid_publs_f_by_year['n_females'].values, color='xkcd:rose', label=\"Amount of Female Authors\")\n",
    "ax2.plot(valid_publs_m_by_year.index.values, valid_publs_m_by_year['n_males'].values, color='xkcd:peach', label=\"Amount of Male Authors\")\n",
    "ax2.plot(valid_publs_u_by_year.index.values, valid_publs_u_by_year['n_unknown'].values, color='xkcd:salmon', label=\"Amount of Authors of Unknown Gender\")\n",
    "ax2.tick_params(axis='y')\n",
    "\n",
    "plt.title(\"Development of Equality Index vs. Amount of Authors\")\n",
    "plt.legend(loc=\"lower left\")\n",
    "plt.show()"
   ]
  },
  {
   "cell_type": "code",
   "execution_count": null,
   "metadata": {},
   "outputs": [],
   "source": [
    "# >>> Evaluation\n",
    "# The gender equality does not correlate with the year of the publication.\n",
    "# It stagnates around the same value, looking at median and mean. The std also stays similar. \n",
    "# In other words: Yes, we see a slight improvement of the number of female authors, however, the total number of \n",
    "# authors also rises, thus the gender equality index does not improve."
   ]
  }
 ],
 "metadata": {
  "kernelspec": {
   "display_name": "Python 3",
   "language": "python",
   "name": "python3"
  },
  "language_info": {
   "codemirror_mode": {
    "name": "ipython",
    "version": 3
   },
   "file_extension": ".py",
   "mimetype": "text/x-python",
   "name": "python",
   "nbconvert_exporter": "python",
   "pygments_lexer": "ipython3",
   "version": "3.7.1"
  }
 },
 "nbformat": 4,
 "nbformat_minor": 2
}
