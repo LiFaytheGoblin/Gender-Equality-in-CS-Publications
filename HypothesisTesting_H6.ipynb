{
 "cells": [
  {
   "cell_type": "code",
   "execution_count": null,
   "metadata": {},
   "outputs": [],
   "source": [
    "# Hypothesis Testing\n",
    "# 6: Over time, the share of female authors grew"
   ]
  },
  {
   "cell_type": "code",
   "execution_count": 1,
   "metadata": {},
   "outputs": [],
   "source": [
    "# >>> Preparation\n",
    "import pandas"
   ]
  },
  {
   "cell_type": "code",
   "execution_count": 2,
   "metadata": {},
   "outputs": [
    {
     "name": "stdout",
     "output_type": "stream",
     "text": [
      "Importing publications... \n"
     ]
    },
    {
     "name": "stderr",
     "output_type": "stream",
     "text": [
      "C:\\Program_Files\\Anaconda3\\lib\\site-packages\\IPython\\core\\interactiveshell.py:3020: DtypeWarning: Columns (3) have mixed types. Specify dtype option on import or set low_memory=False.\n",
      "  interactivity=interactivity, compiler=compiler, result=result)\n"
     ]
    },
    {
     "name": "stdout",
     "output_type": "stream",
     "text": [
      "Publications imported. They look like this:                                                                  key  \\\n",
      "key                                                                    \n",
      "books/acm/0082477                                  books/acm/0082477   \n",
      "books/acm/Kim95                                      books/acm/Kim95   \n",
      "books/acm/kim95/AnnevelinkACFHK95  books/acm/kim95/AnnevelinkACFHK95   \n",
      "books/acm/kim95/Blakeley95                books/acm/kim95/Blakeley95   \n",
      "books/acm/kim95/BreitbartGS95          books/acm/kim95/BreitbartGS95   \n",
      "\n",
      "                                        pub_cat pub_type  \\\n",
      "key                                                        \n",
      "books/acm/0082477                          book      NaN   \n",
      "books/acm/Kim95                            book      NaN   \n",
      "books/acm/kim95/AnnevelinkACFHK95  incollection      NaN   \n",
      "books/acm/kim95/Blakeley95         incollection      NaN   \n",
      "books/acm/kim95/BreitbartGS95      incollection      NaN   \n",
      "\n",
      "                                                                               title  \\\n",
      "key                                                                                    \n",
      "books/acm/0082477                        The no-nonsense guide to computing careers.   \n",
      "books/acm/Kim95                    Modern Database Systems: The Object Model, Int...   \n",
      "books/acm/kim95/AnnevelinkACFHK95  Object SQL - A Language for the Design and Imp...   \n",
      "books/acm/kim95/Blakeley95         OQL[C++]: Extending C++ with an Object Query C...   \n",
      "books/acm/kim95/BreitbartGS95       Transaction Management in Multidatabase Systems.   \n",
      "\n",
      "                                   year  \\\n",
      "key                                       \n",
      "books/acm/0082477                  1992   \n",
      "books/acm/Kim95                    1995   \n",
      "books/acm/kim95/AnnevelinkACFHK95  1995   \n",
      "books/acm/kim95/Blakeley95         1995   \n",
      "books/acm/kim95/BreitbartGS95      1995   \n",
      "\n",
      "                                                                             authors  \\\n",
      "key                                                                                    \n",
      "books/acm/0082477                                                    ['Marc Rettig']   \n",
      "books/acm/Kim95                                                                   []   \n",
      "books/acm/kim95/AnnevelinkACFHK95  ['Jurgen Annevelink', 'Rafiul Ahad', 'Amelia C...   \n",
      "books/acm/kim95/Blakeley95                                      ['José A. Blakeley']   \n",
      "books/acm/kim95/BreitbartGS95      ['Yuri Breitbart', 'Hector Garcia-Molina', 'Ab...   \n",
      "\n",
      "                                   n_authors  n_males  n_females  n_unknown  \\\n",
      "key                                                                           \n",
      "books/acm/0082477                          1      1.0        0.0        0.0   \n",
      "books/acm/Kim95                            0      0.0        0.0        0.0   \n",
      "books/acm/kim95/AnnevelinkACFHK95          6      4.0        1.0        1.0   \n",
      "books/acm/kim95/Blakeley95                 1      1.0        0.0        0.0   \n",
      "books/acm/kim95/BreitbartGS95              3      2.0        0.0        1.0   \n",
      "\n",
      "                                   ratio  n_contribs_females  \\\n",
      "key                                                            \n",
      "books/acm/0082477                   50.0            0.000000   \n",
      "books/acm/Kim95                      0.0            0.000000   \n",
      "books/acm/kim95/AnnevelinkACFHK95   30.0            0.166667   \n",
      "books/acm/kim95/Blakeley95          50.0            0.000000   \n",
      "books/acm/kim95/BreitbartGS95       50.0            0.000000   \n",
      "\n",
      "                                   n_contribs_males  n_contribs_unknown  \n",
      "key                                                                      \n",
      "books/acm/0082477                          1.000000            0.000000  \n",
      "books/acm/Kim95                            0.000000            0.000000  \n",
      "books/acm/kim95/AnnevelinkACFHK95          0.666667            0.166667  \n",
      "books/acm/kim95/Blakeley95                 1.000000            0.000000  \n",
      "books/acm/kim95/BreitbartGS95              0.666667            0.333333  \n"
     ]
    }
   ],
   "source": [
    "print(\"Importing publications... \")\n",
    "cols = [\n",
    "    'key', \n",
    "    'pub_cat',\n",
    "    'pub_type',\n",
    "    'title',\n",
    "    'year',\n",
    "    'authors',\n",
    "    'n_authors',\n",
    "    'n_males',\n",
    "    'n_females',\n",
    "    'n_unknown',\n",
    "    'ratio',\n",
    "    'n_contribs_females',\n",
    "    'n_contribs_males',\n",
    "    'n_contribs_unknown',\n",
    "]\n",
    "\n",
    "publs = pandas.read_csv(\"data/publications_cor3.csv\", usecols=cols)\n",
    "\n",
    "# Setting index & accessing cells: https://pythonhow.com/accessing-dataframe-columns-rows-and-cells/\n",
    "publs = publs.set_index(\"key\", drop = False)\n",
    "print(\"Publications imported. They look like this: {}\".format(publs[:5]))"
   ]
  },
  {
   "cell_type": "code",
   "execution_count": 3,
   "metadata": {},
   "outputs": [],
   "source": [
    "# Correlation matrix for relevant years only\n",
    "# Creation\n",
    "\n",
    "# Create dataset of publications by year\n",
    "publs_by_year_group = publs.groupby(\"year\")\n",
    "\n",
    "# How many publications by year?\n",
    "publs_sum_by_year = publs_by_year_group.count()"
   ]
  },
  {
   "cell_type": "code",
   "execution_count": 4,
   "metadata": {},
   "outputs": [],
   "source": [
    "# Find out the minimum and maximum valid year:\n",
    "min_year = publs_sum_by_year[publs_sum_by_year['key'] > 1000].index.values.min() # 1966\n",
    "max_year = 2018 # To Adjust: We only have 4 months of 2019 with the dataset of April 2019"
   ]
  },
  {
   "cell_type": "code",
   "execution_count": 5,
   "metadata": {},
   "outputs": [],
   "source": [
    "publs_lim = publs[(publs['year'] >= min_year) & (publs['year'] <= max_year)]"
   ]
  },
  {
   "cell_type": "code",
   "execution_count": 6,
   "metadata": {},
   "outputs": [],
   "source": [
    "publs_lim_grouped = publs_lim.groupby(\"year\").sum()\n",
    "publs_lim_grouped[\"year\"] = publs_lim_grouped.index.values.tolist()"
   ]
  },
  {
   "cell_type": "code",
   "execution_count": 14,
   "metadata": {},
   "outputs": [],
   "source": [
    "publs_lim_grouped[\"fem_share\"] = publs_lim_grouped[\"n_females\"] / (publs_lim_grouped[\"n_females\"] + publs_lim_grouped[\"n_males\"])"
   ]
  },
  {
   "cell_type": "code",
   "execution_count": 15,
   "metadata": {},
   "outputs": [
    {
     "data": {
      "text/plain": [
       "year\n",
       "1966    0.013158\n",
       "1967    0.011997\n",
       "1968    0.011284\n",
       "1969    0.015160\n",
       "1970    0.007966\n",
       "1971    0.014010\n",
       "1972    0.012362\n",
       "1973    0.025690\n",
       "1974    0.018846\n",
       "1975    0.023283\n",
       "1976    0.028426\n",
       "1977    0.024679\n",
       "1978    0.027711\n",
       "1979    0.033617\n",
       "1980    0.030000\n",
       "1981    0.031003\n",
       "1982    0.035690\n",
       "1983    0.034718\n",
       "1984    0.036104\n",
       "1985    0.039753\n",
       "1986    0.042356\n",
       "1987    0.040356\n",
       "1988    0.042315\n",
       "1989    0.047619\n",
       "1990    0.047618\n",
       "1991    0.045668\n",
       "1992    0.049613\n",
       "1993    0.052270\n",
       "1994    0.052035\n",
       "1995    0.052978\n",
       "1996    0.056539\n",
       "1997    0.059540\n",
       "1998    0.061784\n",
       "1999    0.064160\n",
       "2000    0.064915\n",
       "2001    0.067825\n",
       "2002    0.070746\n",
       "2003    0.070752\n",
       "2004    0.070207\n",
       "2005    0.070758\n",
       "2006    0.072255\n",
       "2007    0.073563\n",
       "2008    0.075232\n",
       "2009    0.077737\n",
       "2010    0.078239\n",
       "2011    0.080014\n",
       "2012    0.081133\n",
       "2013    0.083280\n",
       "2014    0.085533\n",
       "2015    0.085909\n",
       "2016    0.087466\n",
       "2017    0.086906\n",
       "2018    0.084916\n",
       "Name: fem_share, dtype: float64"
      ]
     },
     "execution_count": 15,
     "metadata": {},
     "output_type": "execute_result"
    }
   ],
   "source": [
    "publs_lim_grouped[\"fem_share\"]"
   ]
  },
  {
   "cell_type": "code",
   "execution_count": 16,
   "metadata": {},
   "outputs": [
    {
     "name": "stdout",
     "output_type": "stream",
     "text": [
      "Calculating Spearman's Correlation Coefficient...\n",
      "Done!\n",
      "SpearmanrResult(correlation=0.9950008063215611, pvalue=1.0438010813495986e-52)\n"
     ]
    },
    {
     "data": {
      "text/plain": [
       "'No correlation found.'"
      ]
     },
     "execution_count": 16,
     "metadata": {},
     "output_type": "execute_result"
    }
   ],
   "source": [
    "from scipy import stats\n",
    "print(\"Calculating Spearman's Correlation Coefficient...\")\n",
    "publs_lim_cor = stats.spearmanr(publs_lim_grouped[\"year\"], publs_lim_grouped[\"fem_share\"])\n",
    "print(\"Done!\")\n",
    "print(publs_lim_cor)\n",
    "'''No correlation found.'''\n",
    "# p value can not be trusted since 53 observations < 500: https://docs.scipy.org/doc/scipy-0.14.0/reference/generated/scipy.stats.spearmanr.html"
   ]
  },
  {
   "cell_type": "code",
   "execution_count": 34,
   "metadata": {},
   "outputs": [],
   "source": [
    "# is the result significant? https://en.wikipedia.org/wiki/Spearman%27s_rank_correlation_coefficient#Determining_significance \n",
    "# https://www.researchgate.net/post/How_do_you_calculate_a_p_value_for_spearmans_rank_correlation\n",
    "# https://docs.scipy.org/doc/scipy/reference/stats.html#continuous-distributions\n",
    "# https://stackoverflow.com/questions/24788200/calculate-the-cumulative-distribution-function-cdf-in-python\n",
    "# https://docs.scipy.org/doc/scipy-0.14.0/reference/generated/scipy.stats.t.html\n",
    "# https://stats.stackexchange.com/questions/271258/using-scipy-t-ppf-to-get-p-value\n",
    "import math\n",
    "from scipy.stats import t\n",
    "# Is p = 0.9950008063215611 significant?\n",
    "p = 0.9950008063215611\n",
    "dof = len(publs_lim_grouped) - 2 # degrees of freedom are n-2\n",
    "# z = sqrt((n-3) / 1.06) * atanh(p)\n",
    "p_val = t.cdf(p, n)"
   ]
  },
  {
   "cell_type": "code",
   "execution_count": 35,
   "metadata": {
    "scrolled": true
   },
   "outputs": [
    {
     "data": {
      "text/plain": [
       "0.8378282110679504"
      ]
     },
     "execution_count": 35,
     "metadata": {},
     "output_type": "execute_result"
    }
   ],
   "source": [
    "p_val"
   ]
  },
  {
   "cell_type": "code",
   "execution_count": 18,
   "metadata": {},
   "outputs": [
    {
     "data": {
      "text/html": [
       "<div>\n",
       "<style scoped>\n",
       "    .dataframe tbody tr th:only-of-type {\n",
       "        vertical-align: middle;\n",
       "    }\n",
       "\n",
       "    .dataframe tbody tr th {\n",
       "        vertical-align: top;\n",
       "    }\n",
       "\n",
       "    .dataframe thead th {\n",
       "        text-align: right;\n",
       "    }\n",
       "</style>\n",
       "<table border=\"1\" class=\"dataframe\">\n",
       "  <thead>\n",
       "    <tr style=\"text-align: right;\">\n",
       "      <th></th>\n",
       "      <th>n_authors</th>\n",
       "      <th>n_males</th>\n",
       "      <th>n_females</th>\n",
       "      <th>n_unknown</th>\n",
       "      <th>ratio</th>\n",
       "      <th>n_contribs_females</th>\n",
       "      <th>n_contribs_males</th>\n",
       "      <th>n_contribs_unknown</th>\n",
       "      <th>year</th>\n",
       "      <th>fem_share</th>\n",
       "    </tr>\n",
       "  </thead>\n",
       "  <tbody>\n",
       "    <tr>\n",
       "      <th>count</th>\n",
       "      <td>5.300000e+01</td>\n",
       "      <td>53.000000</td>\n",
       "      <td>53.000000</td>\n",
       "      <td>53.000000</td>\n",
       "      <td>5.300000e+01</td>\n",
       "      <td>53.000000</td>\n",
       "      <td>53.000000</td>\n",
       "      <td>53.000000</td>\n",
       "      <td>53.000000</td>\n",
       "      <td>53.000000</td>\n",
       "    </tr>\n",
       "    <tr>\n",
       "      <th>mean</th>\n",
       "      <td>2.483699e+05</td>\n",
       "      <td>132710.113208</td>\n",
       "      <td>11060.735849</td>\n",
       "      <td>104599.075472</td>\n",
       "      <td>2.856544e+06</td>\n",
       "      <td>3729.382459</td>\n",
       "      <td>46476.058494</td>\n",
       "      <td>33220.257160</td>\n",
       "      <td>1992.000000</td>\n",
       "      <td>0.050145</td>\n",
       "    </tr>\n",
       "    <tr>\n",
       "      <th>std</th>\n",
       "      <td>3.405443e+05</td>\n",
       "      <td>170850.102543</td>\n",
       "      <td>15832.950658</td>\n",
       "      <td>154640.050291</td>\n",
       "      <td>3.370317e+06</td>\n",
       "      <td>4849.488708</td>\n",
       "      <td>52504.723460</td>\n",
       "      <td>44550.675256</td>\n",
       "      <td>15.443445</td>\n",
       "      <td>0.024564</td>\n",
       "    </tr>\n",
       "    <tr>\n",
       "      <th>min</th>\n",
       "      <td>1.579000e+03</td>\n",
       "      <td>1050.000000</td>\n",
       "      <td>14.000000</td>\n",
       "      <td>515.000000</td>\n",
       "      <td>4.251667e+04</td>\n",
       "      <td>11.333333</td>\n",
       "      <td>803.522222</td>\n",
       "      <td>324.144444</td>\n",
       "      <td>1966.000000</td>\n",
       "      <td>0.007966</td>\n",
       "    </tr>\n",
       "    <tr>\n",
       "      <th>25%</th>\n",
       "      <td>9.531000e+03</td>\n",
       "      <td>6468.000000</td>\n",
       "      <td>225.000000</td>\n",
       "      <td>2838.000000</td>\n",
       "      <td>2.223736e+05</td>\n",
       "      <td>142.288889</td>\n",
       "      <td>4170.079257</td>\n",
       "      <td>1616.631854</td>\n",
       "      <td>1979.000000</td>\n",
       "      <td>0.030000</td>\n",
       "    </tr>\n",
       "    <tr>\n",
       "      <th>50%</th>\n",
       "      <td>6.266300e+04</td>\n",
       "      <td>41262.000000</td>\n",
       "      <td>2154.000000</td>\n",
       "      <td>19247.000000</td>\n",
       "      <td>1.164647e+06</td>\n",
       "      <td>1069.210482</td>\n",
       "      <td>20850.926093</td>\n",
       "      <td>8862.863425</td>\n",
       "      <td>1992.000000</td>\n",
       "      <td>0.049613</td>\n",
       "    </tr>\n",
       "    <tr>\n",
       "      <th>75%</th>\n",
       "      <td>4.098310e+05</td>\n",
       "      <td>227181.000000</td>\n",
       "      <td>17299.000000</td>\n",
       "      <td>165351.000000</td>\n",
       "      <td>5.120717e+06</td>\n",
       "      <td>6349.130141</td>\n",
       "      <td>84565.318062</td>\n",
       "      <td>57316.551797</td>\n",
       "      <td>2005.000000</td>\n",
       "      <td>0.070758</td>\n",
       "    </tr>\n",
       "    <tr>\n",
       "      <th>max</th>\n",
       "      <td>1.158441e+06</td>\n",
       "      <td>545836.000000</td>\n",
       "      <td>50651.000000</td>\n",
       "      <td>561954.000000</td>\n",
       "      <td>1.055189e+07</td>\n",
       "      <td>14588.692036</td>\n",
       "      <td>155469.031848</td>\n",
       "      <td>149648.519275</td>\n",
       "      <td>2018.000000</td>\n",
       "      <td>0.087466</td>\n",
       "    </tr>\n",
       "  </tbody>\n",
       "</table>\n",
       "</div>"
      ],
      "text/plain": [
       "          n_authors        n_males     n_females      n_unknown         ratio  \\\n",
       "count  5.300000e+01      53.000000     53.000000      53.000000  5.300000e+01   \n",
       "mean   2.483699e+05  132710.113208  11060.735849  104599.075472  2.856544e+06   \n",
       "std    3.405443e+05  170850.102543  15832.950658  154640.050291  3.370317e+06   \n",
       "min    1.579000e+03    1050.000000     14.000000     515.000000  4.251667e+04   \n",
       "25%    9.531000e+03    6468.000000    225.000000    2838.000000  2.223736e+05   \n",
       "50%    6.266300e+04   41262.000000   2154.000000   19247.000000  1.164647e+06   \n",
       "75%    4.098310e+05  227181.000000  17299.000000  165351.000000  5.120717e+06   \n",
       "max    1.158441e+06  545836.000000  50651.000000  561954.000000  1.055189e+07   \n",
       "\n",
       "       n_contribs_females  n_contribs_males  n_contribs_unknown         year  \\\n",
       "count           53.000000         53.000000           53.000000    53.000000   \n",
       "mean          3729.382459      46476.058494        33220.257160  1992.000000   \n",
       "std           4849.488708      52504.723460        44550.675256    15.443445   \n",
       "min             11.333333        803.522222          324.144444  1966.000000   \n",
       "25%            142.288889       4170.079257         1616.631854  1979.000000   \n",
       "50%           1069.210482      20850.926093         8862.863425  1992.000000   \n",
       "75%           6349.130141      84565.318062        57316.551797  2005.000000   \n",
       "max          14588.692036     155469.031848       149648.519275  2018.000000   \n",
       "\n",
       "       fem_share  \n",
       "count  53.000000  \n",
       "mean    0.050145  \n",
       "std     0.024564  \n",
       "min     0.007966  \n",
       "25%     0.030000  \n",
       "50%     0.049613  \n",
       "75%     0.070758  \n",
       "max     0.087466  "
      ]
     },
     "execution_count": 18,
     "metadata": {},
     "output_type": "execute_result"
    }
   ],
   "source": [
    "publs_lim_grouped.describe()"
   ]
  },
  {
   "cell_type": "code",
   "execution_count": 17,
   "metadata": {},
   "outputs": [
    {
     "data": {
      "text/plain": [
       "[<matplotlib.lines.Line2D at 0x18e96307dd8>]"
      ]
     },
     "execution_count": 17,
     "metadata": {},
     "output_type": "execute_result"
    },
    {
     "data": {
      "image/png": "[encoded data removed]",
      "text/plain": [
       "<Figure size 432x288 with 1 Axes>"
      ]
     },
     "metadata": {
      "needs_background": "light"
     },
     "output_type": "display_data"
    }
   ],
   "source": [
    "plt.plot(publs_lim_grouped[\"year\"], publs_lim_grouped[\"fem_share\"])"
   ]
  },
  {
   "cell_type": "code",
   "execution_count": 10,
   "metadata": {},
   "outputs": [
    {
     "ename": "TypeError",
     "evalue": "Invalid dimensions for image data",
     "output_type": "error",
     "traceback": [
      "\u001b[1;31m---------------------------------------------------------------------------\u001b[0m",
      "\u001b[1;31mTypeError\u001b[0m                                 Traceback (most recent call last)",
      "\u001b[1;32m<ipython-input-10-648e252e4a03>\u001b[0m in \u001b[0;36m<module>\u001b[1;34m\u001b[0m\n\u001b[0;32m     10\u001b[0m \u001b[1;31m# draw a big matrix: https://stackoverflow.com/questions/332289/how-do-you-change-the-size-of-figures-drawn-with-matplotlib\u001b[0m\u001b[1;33m\u001b[0m\u001b[1;33m\u001b[0m\u001b[1;33m\u001b[0m\u001b[0m\n\u001b[0;32m     11\u001b[0m \u001b[0mfig\u001b[0m\u001b[1;33m,\u001b[0m \u001b[0max\u001b[0m \u001b[1;33m=\u001b[0m \u001b[0mplt\u001b[0m\u001b[1;33m.\u001b[0m\u001b[0msubplots\u001b[0m\u001b[1;33m(\u001b[0m\u001b[0mfigsize\u001b[0m\u001b[1;33m=\u001b[0m\u001b[1;33m(\u001b[0m\u001b[1;36m20\u001b[0m\u001b[1;33m,\u001b[0m \u001b[1;36m10\u001b[0m\u001b[1;33m)\u001b[0m\u001b[1;33m)\u001b[0m\u001b[1;33m\u001b[0m\u001b[1;33m\u001b[0m\u001b[0m\n\u001b[1;32m---> 12\u001b[1;33m \u001b[0mim\u001b[0m \u001b[1;33m=\u001b[0m \u001b[0max\u001b[0m\u001b[1;33m.\u001b[0m\u001b[0mimshow\u001b[0m\u001b[1;33m(\u001b[0m\u001b[0mpubls_lim_cor\u001b[0m\u001b[1;33m,\u001b[0m \u001b[0mcmap\u001b[0m\u001b[1;33m=\u001b[0m\u001b[0mautumn\u001b[0m\u001b[1;33m)\u001b[0m\u001b[1;33m\u001b[0m\u001b[1;33m\u001b[0m\u001b[0m\n\u001b[0m\u001b[0;32m     13\u001b[0m \u001b[1;33m\u001b[0m\u001b[0m\n\u001b[0;32m     14\u001b[0m \u001b[0mplt\u001b[0m\u001b[1;33m.\u001b[0m\u001b[0mxticks\u001b[0m\u001b[1;33m(\u001b[0m\u001b[0mnp\u001b[0m\u001b[1;33m.\u001b[0m\u001b[0marange\u001b[0m\u001b[1;33m(\u001b[0m\u001b[0mlen\u001b[0m\u001b[1;33m(\u001b[0m\u001b[0mpubls_lim_cor\u001b[0m\u001b[1;33m.\u001b[0m\u001b[0mcolumns\u001b[0m\u001b[1;33m.\u001b[0m\u001b[0mvalues\u001b[0m\u001b[1;33m)\u001b[0m\u001b[1;33m)\u001b[0m\u001b[1;33m,\u001b[0m \u001b[0mpubls_lim_cor\u001b[0m\u001b[1;33m.\u001b[0m\u001b[0mcolumns\u001b[0m\u001b[1;33m.\u001b[0m\u001b[0mvalues\u001b[0m\u001b[1;33m,\u001b[0m \u001b[0mrotation\u001b[0m\u001b[1;33m=\u001b[0m\u001b[1;34m'vertical'\u001b[0m\u001b[1;33m)\u001b[0m\u001b[1;33m\u001b[0m\u001b[1;33m\u001b[0m\u001b[0m\n",
      "\u001b[1;32mC:\\Program_Files\\Anaconda3\\lib\\site-packages\\matplotlib\\__init__.py\u001b[0m in \u001b[0;36minner\u001b[1;34m(ax, data, *args, **kwargs)\u001b[0m\n\u001b[0;32m   1808\u001b[0m                         \u001b[1;34m\"the Matplotlib list!)\"\u001b[0m \u001b[1;33m%\u001b[0m \u001b[1;33m(\u001b[0m\u001b[0mlabel_namer\u001b[0m\u001b[1;33m,\u001b[0m \u001b[0mfunc\u001b[0m\u001b[1;33m.\u001b[0m\u001b[0m__name__\u001b[0m\u001b[1;33m)\u001b[0m\u001b[1;33m,\u001b[0m\u001b[1;33m\u001b[0m\u001b[1;33m\u001b[0m\u001b[0m\n\u001b[0;32m   1809\u001b[0m                         RuntimeWarning, stacklevel=2)\n\u001b[1;32m-> 1810\u001b[1;33m             \u001b[1;32mreturn\u001b[0m \u001b[0mfunc\u001b[0m\u001b[1;33m(\u001b[0m\u001b[0max\u001b[0m\u001b[1;33m,\u001b[0m \u001b[1;33m*\u001b[0m\u001b[0margs\u001b[0m\u001b[1;33m,\u001b[0m \u001b[1;33m**\u001b[0m\u001b[0mkwargs\u001b[0m\u001b[1;33m)\u001b[0m\u001b[1;33m\u001b[0m\u001b[1;33m\u001b[0m\u001b[0m\n\u001b[0m\u001b[0;32m   1811\u001b[0m \u001b[1;33m\u001b[0m\u001b[0m\n\u001b[0;32m   1812\u001b[0m         inner.__doc__ = _add_data_doc(inner.__doc__,\n",
      "\u001b[1;32mC:\\Program_Files\\Anaconda3\\lib\\site-packages\\matplotlib\\axes\\_axes.py\u001b[0m in \u001b[0;36mimshow\u001b[1;34m(self, X, cmap, norm, aspect, interpolation, alpha, vmin, vmax, origin, extent, shape, filternorm, filterrad, imlim, resample, url, **kwargs)\u001b[0m\n\u001b[0;32m   5492\u001b[0m                               resample=resample, **kwargs)\n\u001b[0;32m   5493\u001b[0m \u001b[1;33m\u001b[0m\u001b[0m\n\u001b[1;32m-> 5494\u001b[1;33m         \u001b[0mim\u001b[0m\u001b[1;33m.\u001b[0m\u001b[0mset_data\u001b[0m\u001b[1;33m(\u001b[0m\u001b[0mX\u001b[0m\u001b[1;33m)\u001b[0m\u001b[1;33m\u001b[0m\u001b[1;33m\u001b[0m\u001b[0m\n\u001b[0m\u001b[0;32m   5495\u001b[0m         \u001b[0mim\u001b[0m\u001b[1;33m.\u001b[0m\u001b[0mset_alpha\u001b[0m\u001b[1;33m(\u001b[0m\u001b[0malpha\u001b[0m\u001b[1;33m)\u001b[0m\u001b[1;33m\u001b[0m\u001b[1;33m\u001b[0m\u001b[0m\n\u001b[0;32m   5496\u001b[0m         \u001b[1;32mif\u001b[0m \u001b[0mim\u001b[0m\u001b[1;33m.\u001b[0m\u001b[0mget_clip_path\u001b[0m\u001b[1;33m(\u001b[0m\u001b[1;33m)\u001b[0m \u001b[1;32mis\u001b[0m \u001b[1;32mNone\u001b[0m\u001b[1;33m:\u001b[0m\u001b[1;33m\u001b[0m\u001b[1;33m\u001b[0m\u001b[0m\n",
      "\u001b[1;32mC:\\Program_Files\\Anaconda3\\lib\\site-packages\\matplotlib\\image.py\u001b[0m in \u001b[0;36mset_data\u001b[1;34m(self, A)\u001b[0m\n\u001b[0;32m    644\u001b[0m         if not (self._A.ndim == 2\n\u001b[0;32m    645\u001b[0m                 or self._A.ndim == 3 and self._A.shape[-1] in [3, 4]):\n\u001b[1;32m--> 646\u001b[1;33m             \u001b[1;32mraise\u001b[0m \u001b[0mTypeError\u001b[0m\u001b[1;33m(\u001b[0m\u001b[1;34m\"Invalid dimensions for image data\"\u001b[0m\u001b[1;33m)\u001b[0m\u001b[1;33m\u001b[0m\u001b[1;33m\u001b[0m\u001b[0m\n\u001b[0m\u001b[0;32m    647\u001b[0m \u001b[1;33m\u001b[0m\u001b[0m\n\u001b[0;32m    648\u001b[0m         \u001b[1;32mif\u001b[0m \u001b[0mself\u001b[0m\u001b[1;33m.\u001b[0m\u001b[0m_A\u001b[0m\u001b[1;33m.\u001b[0m\u001b[0mndim\u001b[0m \u001b[1;33m==\u001b[0m \u001b[1;36m3\u001b[0m\u001b[1;33m:\u001b[0m\u001b[1;33m\u001b[0m\u001b[1;33m\u001b[0m\u001b[0m\n",
      "\u001b[1;31mTypeError\u001b[0m: Invalid dimensions for image data"
     ]
    }
   ],
   "source": [
    "# Visualization\n",
    "# visualize correlation matrix https://stackoverflow.com/questions/29432629/plot-correlation-matrix-using-pandas\n",
    "# annotated https://matplotlib.org/gallery/images_contours_and_fields/image_annotated_heatmap.html#sphx-glr-gallery-images-contours-and-fields-image-annotated-heatmap-py\n",
    "import numpy as np\n",
    "import matplotlib.pyplot as plt\n",
    "from matplotlib import cm\n",
    "\n",
    "autumn = cm.get_cmap('autumn', 10)\n",
    "\n",
    "# draw a big matrix: https://stackoverflow.com/questions/332289/how-do-you-change-the-size-of-figures-drawn-with-matplotlib\n",
    "fig, ax = plt.subplots(figsize=(20, 10))\n",
    "im = ax.imshow(publs_lim_cor, cmap=autumn)\n",
    "\n",
    "plt.xticks(np.arange(len(publs_lim_cor.columns.values)), publs_lim_cor.columns.values, rotation='vertical')\n",
    "plt.yticks(np.arange(len(publs_lim_cor.columns.values)), publs_lim_cor.columns.values)\n",
    "\n",
    "plt.setp(ax.get_xticklabels(), rotation=45, ha=\"right\", rotation_mode=\"anchor\")\n",
    "\n",
    "for i in range(len(publs_lim_cor.columns.values)):\n",
    "    for j in range(len(publs_lim_cor.columns.values)):\n",
    "        # round https://www.tutorialspoint.com/python/number_round.htm\n",
    "        text = ax.text(j, i, round(publs_lim_cor.iloc[i, j], 2), ha=\"center\", va=\"center\", color=\"k\")\n",
    "\n",
    "\n",
    "plt.title(\"Correlation Matrix\")\n",
    "\n",
    "plt.show()\n",
    "\n",
    "# We see that the year does not seem to correlate with the gender equality index even if \n",
    "# the years are taken out that have too few publications (\"ratio\"): The spearman coefficient is -0.04"
   ]
  },
  {
   "cell_type": "code",
   "execution_count": null,
   "metadata": {},
   "outputs": [],
   "source": [
    "# >>> Closer look at the distribution of the equality index\n",
    "# Any publications\n",
    "publs['ratio'].describe()"
   ]
  },
  {
   "cell_type": "code",
   "execution_count": null,
   "metadata": {},
   "outputs": [],
   "source": [
    "publs_lim['ratio'].describe()"
   ]
  },
  {
   "cell_type": "code",
   "execution_count": null,
   "metadata": {},
   "outputs": [],
   "source": [
    "# >>> Display development of ratio over time"
   ]
  },
  {
   "cell_type": "code",
   "execution_count": null,
   "metadata": {},
   "outputs": [],
   "source": [
    "# How many publications by year?\n",
    "valid_publs_by_year_group = publs_lim.groupby(\"year\")\n",
    "valid_publs_sum_by_year = valid_publs_by_year_group.count()"
   ]
  },
  {
   "cell_type": "code",
   "execution_count": null,
   "metadata": {},
   "outputs": [],
   "source": [
    "from statistics import mode, pstdev\n",
    "valid_ratio_mean_by_year = valid_publs_by_year_group.agg({'ratio':'mean'})\n",
    "valid_ratio_median_by_year = valid_publs_by_year_group.agg({'ratio':'median'})\n",
    "valid_ratio_std_by_year = valid_publs_by_year_group.agg({'ratio':pstdev})\n",
    "#ratio_mode_by_year = valid_publs_by_year_group.agg({'ratio':mode})"
   ]
  },
  {
   "cell_type": "code",
   "execution_count": null,
   "metadata": {},
   "outputs": [],
   "source": [
    "cmap = plt.get_cmap(\"tab20c\")"
   ]
  },
  {
   "cell_type": "code",
   "execution_count": null,
   "metadata": {
    "scrolled": true
   },
   "outputs": [],
   "source": [
    "# Visualization\n",
    "#https://matplotlib.org/gallery/api/two_scales.html\n",
    "\n",
    "fig, ax1 = plt.subplots()\n",
    "\n",
    "ax1.set_xlabel('Year')\n",
    "ax1.set_ylabel('Equality Index')\n",
    "\n",
    "ax1.plot(valid_ratio_median_by_year.index.values, valid_ratio_median_by_year['ratio'].values, color='g', label=\"Median Equality Index\")\n",
    "ax1.plot(valid_ratio_mean_by_year.index.values, valid_ratio_mean_by_year['ratio'].values, color='b', label=\"Mean Equality Index\")\n",
    "ax1.plot(valid_ratio_std_by_year.index.values, valid_ratio_std_by_year['ratio'].values, color='turquoise', label=\"Standard Deviation of Equality Index\")\n",
    "\n",
    "ax1.tick_params(axis='y')\n",
    "\n",
    "# set y limits for a subplot: https://stackoverflow.com/questions/15858192/how-to-set-xlim-and-ylim-for-a-subplot-in-matplotlib\n",
    "ax1.set_ylim([0,55])\n",
    "\n",
    "plt.legend(loc=\"center left\")\n",
    "\n",
    "ax2 = ax1.twinx()  # instantiate a second axes that shares the same x-axis\n",
    "\n",
    "ax2.set_ylabel('Publications')  # we already handled the x-label with ax1\n",
    "ax2.plot(valid_publs_sum_by_year.index.values, valid_publs_sum_by_year['key'].values, color='r', label=\"Amount of Publications\")\n",
    "ax2.tick_params(axis='y')\n",
    "\n",
    "plt.title(\"Development of Equality Index vs. Amount of Publications\")\n",
    "plt.legend(loc=\"lower right\")\n",
    "plt.show()"
   ]
  },
  {
   "cell_type": "code",
   "execution_count": null,
   "metadata": {},
   "outputs": [],
   "source": [
    "# How many authors by year?\n",
    "valid_publs_authors_by_year = valid_publs_by_year_group.agg({'n_authors':'sum'})"
   ]
  },
  {
   "cell_type": "code",
   "execution_count": null,
   "metadata": {},
   "outputs": [],
   "source": [
    "# How many female authors by year?\n",
    "valid_publs_f_by_year = valid_publs_by_year_group.agg({'n_females':'sum'})"
   ]
  },
  {
   "cell_type": "code",
   "execution_count": null,
   "metadata": {},
   "outputs": [],
   "source": [
    "# How many male authors by year?\n",
    "valid_publs_m_by_year = valid_publs_by_year_group.agg({'n_males':'sum'})"
   ]
  },
  {
   "cell_type": "code",
   "execution_count": null,
   "metadata": {},
   "outputs": [],
   "source": [
    "# How many unknown authors by year?\n",
    "valid_publs_u_by_year = valid_publs_by_year_group.agg({'n_unknown':'sum'})"
   ]
  },
  {
   "cell_type": "code",
   "execution_count": null,
   "metadata": {},
   "outputs": [],
   "source": [
    "#https://matplotlib.org/gallery/api/two_scales.html\n",
    "\n",
    "fig, ax1 = plt.subplots()\n",
    "\n",
    "ax1.set_xlabel('Year')\n",
    "ax1.set_ylabel('Equality Index')\n",
    "\n",
    "ax1.plot(valid_ratio_median_by_year.index.values, valid_ratio_median_by_year['ratio'].values, color='g', label=\"Median Equality Index\")\n",
    "ax1.plot(valid_ratio_mean_by_year.index.values, valid_ratio_mean_by_year['ratio'].values, color='b', label=\"Mean Equality Index\")\n",
    "ax1.plot(valid_ratio_std_by_year.index.values, valid_ratio_std_by_year['ratio'].values, color='turquoise', label=\"Standard Deviation of Equality Index\")\n",
    "\n",
    "ax1.tick_params(axis='y')\n",
    "\n",
    "# set y limits for a subplot: https://stackoverflow.com/questions/15858192/how-to-set-xlim-and-ylim-for-a-subplot-in-matplotlib\n",
    "ax1.set_ylim([0,55])\n",
    "\n",
    "plt.legend(loc=\"center left\")\n",
    "\n",
    "ax2 = ax1.twinx()  # instantiate a second axes that shares the same x-axis\n",
    "\n",
    "ax2.set_ylabel('Authors')  # we already handled the x-label with ax1\n",
    "ax2.plot(valid_publs_authors_by_year.index.values, valid_publs_authors_by_year['n_authors'].values, color='xkcd:orange', label=\"Amount of Authors\")\n",
    "ax2.plot(valid_publs_f_by_year.index.values, valid_publs_f_by_year['n_females'].values, color='xkcd:rose', label=\"Amount of Female Authors\")\n",
    "ax2.plot(valid_publs_m_by_year.index.values, valid_publs_m_by_year['n_males'].values, color='xkcd:peach', label=\"Amount of Male Authors\")\n",
    "ax2.plot(valid_publs_u_by_year.index.values, valid_publs_u_by_year['n_unknown'].values, color='xkcd:salmon', label=\"Amount of Authors of Unknown Gender\")\n",
    "ax2.tick_params(axis='y')\n",
    "\n",
    "plt.title(\"Development of Equality Index vs. Amount of Authors\")\n",
    "plt.legend(loc=\"lower left\")\n",
    "plt.show()"
   ]
  },
  {
   "cell_type": "code",
   "execution_count": null,
   "metadata": {},
   "outputs": [],
   "source": [
    "# >>> Evaluation\n",
    "# The gender equality does not correlate with the year of the publication.\n",
    "# It stagnates around the same value, looking at median and mean. The std also stays similar. \n",
    "# In other words: Yes, we see a slight improvement of the number of female authors, however, the total number of \n",
    "# authors also rises, thus the gender equality index does not improve."
   ]
  }
 ],
 "metadata": {
  "kernelspec": {
   "display_name": "Python 3",
   "language": "python",
   "name": "python3"
  },
  "language_info": {
   "codemirror_mode": {
    "name": "ipython",
    "version": 3
   },
   "file_extension": ".py",
   "mimetype": "text/x-python",
   "name": "python",
   "nbconvert_exporter": "python",
   "pygments_lexer": "ipython3",
   "version": "3.7.1"
  }
 },
 "nbformat": 4,
 "nbformat_minor": 2
}
