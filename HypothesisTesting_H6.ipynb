{
 "cells": [
  {
   "cell_type": "code",
   "execution_count": null,
   "metadata": {},
   "outputs": [],
   "source": [
    "# Hypothesis Testing\n",
    "# 6: Over time, the share of female authors grew"
   ]
  },
  {
   "cell_type": "code",
   "execution_count": 1,
   "metadata": {},
   "outputs": [],
   "source": [
    "# >>> Preparation\n",
    "import pandas"
   ]
  },
  {
   "cell_type": "code",
   "execution_count": 2,
   "metadata": {},
   "outputs": [
    {
     "name": "stdout",
     "output_type": "stream",
     "text": [
      "Importing publications... \n"
     ]
    },
    {
     "name": "stderr",
     "output_type": "stream",
     "text": [
      "C:\\Program_Files\\Anaconda3\\lib\\site-packages\\IPython\\core\\interactiveshell.py:3020: DtypeWarning: Columns (3) have mixed types. Specify dtype option on import or set low_memory=False.\n",
      "  interactivity=interactivity, compiler=compiler, result=result)\n"
     ]
    },
    {
     "name": "stdout",
     "output_type": "stream",
     "text": [
      "Publications imported. They look like this:                                                                  key  \\\n",
      "key                                                                    \n",
      "books/acm/0082477                                  books/acm/0082477   \n",
      "books/acm/Kim95                                      books/acm/Kim95   \n",
      "books/acm/kim95/AnnevelinkACFHK95  books/acm/kim95/AnnevelinkACFHK95   \n",
      "books/acm/kim95/Blakeley95                books/acm/kim95/Blakeley95   \n",
      "books/acm/kim95/BreitbartGS95          books/acm/kim95/BreitbartGS95   \n",
      "\n",
      "                                        pub_cat pub_type  \\\n",
      "key                                                        \n",
      "books/acm/0082477                          book      NaN   \n",
      "books/acm/Kim95                            book      NaN   \n",
      "books/acm/kim95/AnnevelinkACFHK95  incollection      NaN   \n",
      "books/acm/kim95/Blakeley95         incollection      NaN   \n",
      "books/acm/kim95/BreitbartGS95      incollection      NaN   \n",
      "\n",
      "                                                                               title  \\\n",
      "key                                                                                    \n",
      "books/acm/0082477                        The no-nonsense guide to computing careers.   \n",
      "books/acm/Kim95                    Modern Database Systems: The Object Model, Int...   \n",
      "books/acm/kim95/AnnevelinkACFHK95  Object SQL - A Language for the Design and Imp...   \n",
      "books/acm/kim95/Blakeley95         OQL[C++]: Extending C++ with an Object Query C...   \n",
      "books/acm/kim95/BreitbartGS95       Transaction Management in Multidatabase Systems.   \n",
      "\n",
      "                                   year  \\\n",
      "key                                       \n",
      "books/acm/0082477                  1992   \n",
      "books/acm/Kim95                    1995   \n",
      "books/acm/kim95/AnnevelinkACFHK95  1995   \n",
      "books/acm/kim95/Blakeley95         1995   \n",
      "books/acm/kim95/BreitbartGS95      1995   \n",
      "\n",
      "                                                                             authors  \\\n",
      "key                                                                                    \n",
      "books/acm/0082477                                                    ['Marc Rettig']   \n",
      "books/acm/Kim95                                                                   []   \n",
      "books/acm/kim95/AnnevelinkACFHK95  ['Jurgen Annevelink', 'Rafiul Ahad', 'Amelia C...   \n",
      "books/acm/kim95/Blakeley95                                      ['José A. Blakeley']   \n",
      "books/acm/kim95/BreitbartGS95      ['Yuri Breitbart', 'Hector Garcia-Molina', 'Ab...   \n",
      "\n",
      "                                   n_authors  n_males  n_females  n_unknown  \\\n",
      "key                                                                           \n",
      "books/acm/0082477                          1      1.0        0.0        0.0   \n",
      "books/acm/Kim95                            0      0.0        0.0        0.0   \n",
      "books/acm/kim95/AnnevelinkACFHK95          6      4.0        1.0        1.0   \n",
      "books/acm/kim95/Blakeley95                 1      1.0        0.0        0.0   \n",
      "books/acm/kim95/BreitbartGS95              3      2.0        0.0        1.0   \n",
      "\n",
      "                                   ratio  n_contribs_females  \\\n",
      "key                                                            \n",
      "books/acm/0082477                   50.0            0.000000   \n",
      "books/acm/Kim95                      0.0            0.000000   \n",
      "books/acm/kim95/AnnevelinkACFHK95   30.0            0.166667   \n",
      "books/acm/kim95/Blakeley95          50.0            0.000000   \n",
      "books/acm/kim95/BreitbartGS95       50.0            0.000000   \n",
      "\n",
      "                                   n_contribs_males  n_contribs_unknown  \n",
      "key                                                                      \n",
      "books/acm/0082477                          1.000000            0.000000  \n",
      "books/acm/Kim95                            0.000000            0.000000  \n",
      "books/acm/kim95/AnnevelinkACFHK95          0.666667            0.166667  \n",
      "books/acm/kim95/Blakeley95                 1.000000            0.000000  \n",
      "books/acm/kim95/BreitbartGS95              0.666667            0.333333  \n"
     ]
    }
   ],
   "source": [
    "print(\"Importing publications... \")\n",
    "cols = [\n",
    "    'key', \n",
    "    'pub_cat',\n",
    "    'pub_type',\n",
    "    'title',\n",
    "    'year',\n",
    "    'authors',\n",
    "    'n_authors',\n",
    "    'n_males',\n",
    "    'n_females',\n",
    "    'n_unknown',\n",
    "    'ratio',\n",
    "    'n_contribs_females',\n",
    "    'n_contribs_males',\n",
    "    'n_contribs_unknown',\n",
    "]\n",
    "\n",
    "publs = pandas.read_csv(\"data/publications_cor3.csv\", usecols=cols)\n",
    "\n",
    "# Setting index & accessing cells: https://pythonhow.com/accessing-dataframe-columns-rows-and-cells/\n",
    "publs = publs.set_index(\"key\", drop = False)\n",
    "print(\"Publications imported. They look like this: {}\".format(publs[:5]))"
   ]
  },
  {
   "cell_type": "code",
   "execution_count": 3,
   "metadata": {},
   "outputs": [],
   "source": [
    "# Correlation matrix for relevant years only\n",
    "# Creation\n",
    "\n",
    "# Create dataset of publications by year\n",
    "publs_by_year_group = publs.groupby(\"year\")\n",
    "\n",
    "# How many publications by year?\n",
    "publs_sum_by_year = publs_by_year_group.count()"
   ]
  },
  {
   "cell_type": "code",
   "execution_count": 8,
   "metadata": {},
   "outputs": [],
   "source": [
    "# Find out the minimum and maximum valid year:\n",
    "min_year = publs_sum_by_year[publs_sum_by_year['key'] > 1000].index.values.min() # 1966\n",
    "max_year = 2018 # To Adjust: We only have 4 months of 2019 with the dataset of April 2019"
   ]
  },
  {
   "cell_type": "code",
   "execution_count": 9,
   "metadata": {},
   "outputs": [],
   "source": [
    "publs_lim = publs[(publs['year'] >= min_year) & (publs['year'] <= max_year)]"
   ]
  },
  {
   "cell_type": "code",
   "execution_count": 10,
   "metadata": {},
   "outputs": [],
   "source": [
    "# Get data\n",
    "publs_lim_grouped = publs_lim.groupby(\"year\").sum()\n",
    "publs_lim_grouped[\"year\"] = publs_lim_grouped.index.values.tolist()"
   ]
  },
  {
   "cell_type": "code",
   "execution_count": 28,
   "metadata": {},
   "outputs": [],
   "source": [
    "publs_lim_grouped[\"fem_share\"] = publs_lim_grouped[\"n_females\"] / publs_lim_grouped[\"n_authors\"] * 100"
   ]
  },
  {
   "cell_type": "code",
   "execution_count": 39,
   "metadata": {},
   "outputs": [
    {
     "name": "stdout",
     "output_type": "stream",
     "text": [
      "Calculating Spearman's Correlation Coefficient...\n",
      "Done!\n",
      "SpearmanrResult(correlation=0.9781486856958554, pvalue=1.847279166289609e-36)\n"
     ]
    }
   ],
   "source": [
    "# >>> Calculation\n",
    "from scipy import stats\n",
    "print(\"Calculating Spearman's Correlation Coefficient...\")\n",
    "publs_lim_cor = stats.spearmanr(publs_lim_grouped[\"year\"], publs_lim_grouped[\"fem_share\"])\n",
    "print(\"Done!\")\n",
    "print(publs_lim_cor)\n",
    "# p value can not be trusted since 53 observations < 500: https://docs.scipy.org/doc/scipy-0.14.0/reference/generated/scipy.stats.spearmanr.html"
   ]
  },
  {
   "cell_type": "code",
   "execution_count": 40,
   "metadata": {},
   "outputs": [
    {
     "data": {
      "text/plain": [
       "Text(0.5, 1.0, 'Share of female authors per year (1966 - 2018)')"
      ]
     },
     "execution_count": 40,
     "metadata": {},
     "output_type": "execute_result"
    },
    {
     "data": {
      "image/png": "[encoded data removed]",
      "text/plain": [
       "<Figure size 432x288 with 1 Axes>"
      ]
     },
     "metadata": {
      "needs_background": "light"
     },
     "output_type": "display_data"
    }
   ],
   "source": [
    "# >>> Visualization\n",
    "import matplotlib.pyplot as plt\n",
    "plt.plot(publs_lim_grouped[\"year\"], publs_lim_grouped[\"fem_share\"])\n",
    "plt.xlabel(\"Year\")\n",
    "plt.ylabel(\"Share of female authors in %\")\n",
    "plt.title(\"Share of female authors per year (1966 - 2018)\")"
   ]
  },
  {
   "cell_type": "code",
   "execution_count": null,
   "metadata": {},
   "outputs": [],
   "source": [
    "# >>> Interpretation:\n"
   ]
  },
  {
   "cell_type": "code",
   "execution_count": null,
   "metadata": {},
   "outputs": [],
   "source": [
    "# >>> Display development of ratio over time"
   ]
  },
  {
   "cell_type": "code",
   "execution_count": null,
   "metadata": {},
   "outputs": [],
   "source": [
    "# How many publications by year?\n",
    "valid_publs_by_year_group = publs_lim.groupby(\"year\")\n",
    "valid_publs_sum_by_year = valid_publs_by_year_group.count()"
   ]
  },
  {
   "cell_type": "code",
   "execution_count": null,
   "metadata": {},
   "outputs": [],
   "source": [
    "from statistics import mode, pstdev\n",
    "valid_ratio_mean_by_year = valid_publs_by_year_group.agg({'ratio':'mean'})\n",
    "valid_ratio_median_by_year = valid_publs_by_year_group.agg({'ratio':'median'})\n",
    "valid_ratio_std_by_year = valid_publs_by_year_group.agg({'ratio':pstdev})\n",
    "#ratio_mode_by_year = valid_publs_by_year_group.agg({'ratio':mode})"
   ]
  },
  {
   "cell_type": "code",
   "execution_count": null,
   "metadata": {},
   "outputs": [],
   "source": [
    "cmap = plt.get_cmap(\"tab20c\")"
   ]
  },
  {
   "cell_type": "code",
   "execution_count": null,
   "metadata": {
    "scrolled": true
   },
   "outputs": [],
   "source": [
    "# Visualization\n",
    "#https://matplotlib.org/gallery/api/two_scales.html\n",
    "\n",
    "fig, ax1 = plt.subplots()\n",
    "\n",
    "ax1.set_xlabel('Year')\n",
    "ax1.set_ylabel('Equality Index')\n",
    "\n",
    "ax1.plot(valid_ratio_median_by_year.index.values, valid_ratio_median_by_year['ratio'].values, color='g', label=\"Median Equality Index\")\n",
    "ax1.plot(valid_ratio_mean_by_year.index.values, valid_ratio_mean_by_year['ratio'].values, color='b', label=\"Mean Equality Index\")\n",
    "ax1.plot(valid_ratio_std_by_year.index.values, valid_ratio_std_by_year['ratio'].values, color='turquoise', label=\"Standard Deviation of Equality Index\")\n",
    "\n",
    "ax1.tick_params(axis='y')\n",
    "\n",
    "# set y limits for a subplot: https://stackoverflow.com/questions/15858192/how-to-set-xlim-and-ylim-for-a-subplot-in-matplotlib\n",
    "ax1.set_ylim([0,55])\n",
    "\n",
    "plt.legend(loc=\"center left\")\n",
    "\n",
    "ax2 = ax1.twinx()  # instantiate a second axes that shares the same x-axis\n",
    "\n",
    "ax2.set_ylabel('Publications')  # we already handled the x-label with ax1\n",
    "ax2.plot(valid_publs_sum_by_year.index.values, valid_publs_sum_by_year['key'].values, color='r', label=\"Amount of Publications\")\n",
    "ax2.tick_params(axis='y')\n",
    "\n",
    "plt.title(\"Development of Equality Index vs. Amount of Publications\")\n",
    "plt.legend(loc=\"lower right\")\n",
    "plt.show()"
   ]
  },
  {
   "cell_type": "code",
   "execution_count": null,
   "metadata": {},
   "outputs": [],
   "source": [
    "# How many authors by year?\n",
    "valid_publs_authors_by_year = valid_publs_by_year_group.agg({'n_authors':'sum'})"
   ]
  },
  {
   "cell_type": "code",
   "execution_count": null,
   "metadata": {},
   "outputs": [],
   "source": [
    "# How many female authors by year?\n",
    "valid_publs_f_by_year = valid_publs_by_year_group.agg({'n_females':'sum'})"
   ]
  },
  {
   "cell_type": "code",
   "execution_count": null,
   "metadata": {},
   "outputs": [],
   "source": [
    "# How many male authors by year?\n",
    "valid_publs_m_by_year = valid_publs_by_year_group.agg({'n_males':'sum'})"
   ]
  },
  {
   "cell_type": "code",
   "execution_count": null,
   "metadata": {},
   "outputs": [],
   "source": [
    "# How many unknown authors by year?\n",
    "valid_publs_u_by_year = valid_publs_by_year_group.agg({'n_unknown':'sum'})"
   ]
  },
  {
   "cell_type": "code",
   "execution_count": null,
   "metadata": {},
   "outputs": [],
   "source": [
    "#https://matplotlib.org/gallery/api/two_scales.html\n",
    "\n",
    "fig, ax1 = plt.subplots()\n",
    "\n",
    "ax1.set_xlabel('Year')\n",
    "ax1.set_ylabel('Equality Index')\n",
    "\n",
    "ax1.plot(valid_ratio_median_by_year.index.values, valid_ratio_median_by_year['ratio'].values, color='g', label=\"Median Equality Index\")\n",
    "ax1.plot(valid_ratio_mean_by_year.index.values, valid_ratio_mean_by_year['ratio'].values, color='b', label=\"Mean Equality Index\")\n",
    "ax1.plot(valid_ratio_std_by_year.index.values, valid_ratio_std_by_year['ratio'].values, color='turquoise', label=\"Standard Deviation of Equality Index\")\n",
    "\n",
    "ax1.tick_params(axis='y')\n",
    "\n",
    "# set y limits for a subplot: https://stackoverflow.com/questions/15858192/how-to-set-xlim-and-ylim-for-a-subplot-in-matplotlib\n",
    "ax1.set_ylim([0,55])\n",
    "\n",
    "plt.legend(loc=\"center left\")\n",
    "\n",
    "ax2 = ax1.twinx()  # instantiate a second axes that shares the same x-axis\n",
    "\n",
    "ax2.set_ylabel('Authors')  # we already handled the x-label with ax1\n",
    "ax2.plot(valid_publs_authors_by_year.index.values, valid_publs_authors_by_year['n_authors'].values, color='xkcd:orange', label=\"Amount of Authors\")\n",
    "ax2.plot(valid_publs_f_by_year.index.values, valid_publs_f_by_year['n_females'].values, color='xkcd:rose', label=\"Amount of Female Authors\")\n",
    "ax2.plot(valid_publs_m_by_year.index.values, valid_publs_m_by_year['n_males'].values, color='xkcd:peach', label=\"Amount of Male Authors\")\n",
    "ax2.plot(valid_publs_u_by_year.index.values, valid_publs_u_by_year['n_unknown'].values, color='xkcd:salmon', label=\"Amount of Authors of Unknown Gender\")\n",
    "ax2.tick_params(axis='y')\n",
    "\n",
    "plt.title(\"Development of Equality Index vs. Amount of Authors\")\n",
    "plt.legend(loc=\"lower left\")\n",
    "plt.show()"
   ]
  },
  {
   "cell_type": "code",
   "execution_count": null,
   "metadata": {},
   "outputs": [],
   "source": [
    "# >>> Evaluation\n",
    "# The gender equality does not correlate with the year of the publication.\n",
    "# It stagnates around the same value, looking at median and mean. The std also stays similar. \n",
    "# In other words: Yes, we see a slight improvement of the number of female authors, however, the total number of \n",
    "# authors also rises, thus the gender equality index does not improve."
   ]
  }
 ],
 "metadata": {
  "kernelspec": {
   "display_name": "Python 3",
   "language": "python",
   "name": "python3"
  },
  "language_info": {
   "codemirror_mode": {
    "name": "ipython",
    "version": 3
   },
   "file_extension": ".py",
   "mimetype": "text/x-python",
   "name": "python",
   "nbconvert_exporter": "python",
   "pygments_lexer": "ipython3",
   "version": "3.7.1"
  }
 },
 "nbformat": 4,
 "nbformat_minor": 2
}
