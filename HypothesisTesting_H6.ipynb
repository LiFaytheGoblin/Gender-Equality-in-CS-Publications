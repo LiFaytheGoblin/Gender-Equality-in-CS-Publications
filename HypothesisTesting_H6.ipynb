{
 "cells": [
  {
   "cell_type": "code",
   "execution_count": null,
   "metadata": {},
   "outputs": [],
   "source": [
    "# Hypothesis Testing\n",
    "# 6: Over time, the share of (contributions made by) female authors stays the same"
   ]
  },
  {
   "cell_type": "code",
   "execution_count": null,
   "metadata": {},
   "outputs": [],
   "source": [
    "# >>> Preparation\n",
    "import pandas"
   ]
  },
  {
   "cell_type": "code",
   "execution_count": null,
   "metadata": {},
   "outputs": [],
   "source": [
    "print(\"Importing publications... \")\n",
    "cols = [\n",
    "    'key', \n",
    "    'pub_cat',\n",
    "    'pub_type',\n",
    "    'title',\n",
    "    'year',\n",
    "    'authors',\n",
    "    'n_authors',\n",
    "    'n_males',\n",
    "    'n_females',\n",
    "    'n_unknown',\n",
    "    'ratio',\n",
    "    'n_contribs_females',\n",
    "    'n_contribs_males',\n",
    "    'n_contribs_unknown',\n",
    "]\n",
    "\n",
    "publs = pandas.read_csv(\"data/publications_cor3.csv\", usecols=cols)\n",
    "\n",
    "# Setting index & accessing cells: https://pythonhow.com/accessing-dataframe-columns-rows-and-cells/\n",
    "publs = publs.set_index(\"key\", drop = False)\n",
    "print(\"Publications imported. They look like this: {}\".format(publs[:5]))"
   ]
  },
  {
   "cell_type": "code",
   "execution_count": null,
   "metadata": {},
   "outputs": [],
   "source": [
    "# Create dataset of publications by year\n",
    "publs_by_year_group = publs.groupby(\"year\")\n",
    "\n",
    "# How many contributions by year?\n",
    "publs_sum_by_year = publs_by_year_group.count()"
   ]
  },
  {
   "cell_type": "code",
   "execution_count": null,
   "metadata": {},
   "outputs": [],
   "source": [
    "# Calculate sample size\n",
    "# https://www.wikihow.com/Calculate-Sample-Size\n",
    "# https://www.qualtrics.com/de/erlebnismanagement/research-core/online-stichproben/?rid=langMatch&prevsite=en&newsite=de&geo=&geomatch=\n",
    "\n",
    "z = 2.58\n",
    "e = 0.05\n",
    "d = 0.5\n",
    "\n",
    "S = (z*z*d*(1-d))/(e*e)"
   ]
  },
  {
   "cell_type": "code",
   "execution_count": null,
   "metadata": {},
   "outputs": [],
   "source": [
    "# Find out the minimum and maximum valid year:\n",
    "min_year = publs_sum_by_year[publs_sum_by_year['key'] > S].index.values.min() #  \t1962\n",
    "max_year = 2018 # To Adjust: We only have 4 months of 2019 with the dataset of April 2019"
   ]
  },
  {
   "cell_type": "code",
   "execution_count": null,
   "metadata": {},
   "outputs": [],
   "source": [
    "publs_lim = publs[(publs['year'] >= min_year) & (publs['year'] <= max_year)]"
   ]
  },
  {
   "cell_type": "code",
   "execution_count": null,
   "metadata": {},
   "outputs": [],
   "source": [
    "publs_lim.describe()"
   ]
  },
  {
   "cell_type": "code",
   "execution_count": null,
   "metadata": {},
   "outputs": [],
   "source": [
    "# Get data\n",
    "publs_lim_grouped = publs_lim.groupby(\"year\").sum()\n",
    "publs_lim_grouped[\"year\"] = publs_lim_grouped.index.values.tolist()"
   ]
  },
  {
   "cell_type": "code",
   "execution_count": null,
   "metadata": {},
   "outputs": [],
   "source": [
    "publs_lim_grouped[\"fem_share_contribs\"] = publs_lim_grouped[\"n_contribs_females\"] / (publs_lim_grouped[\"n_contribs_females\"] + publs_lim_grouped[\"n_contribs_males\"] + publs_lim_grouped[\"n_contribs_unknown\"]) * 100"
   ]
  },
  {
   "cell_type": "code",
   "execution_count": null,
   "metadata": {},
   "outputs": [],
   "source": [
    "publs_lim_grouped[\"m_share_contribs\"] = publs_lim_grouped[\"n_contribs_males\"] / (publs_lim_grouped[\"n_contribs_females\"] + publs_lim_grouped[\"n_contribs_males\"] + publs_lim_grouped[\"n_contribs_unknown\"]) * 100"
   ]
  },
  {
   "cell_type": "code",
   "execution_count": null,
   "metadata": {},
   "outputs": [],
   "source": [
    "publs_lim_grouped[\"u_share_contribs\"] = publs_lim_grouped[\"n_contribs_unknown\"] / (publs_lim_grouped[\"n_contribs_females\"] + publs_lim_grouped[\"n_contribs_males\"] + publs_lim_grouped[\"n_contribs_unknown\"]) * 100"
   ]
  },
  {
   "cell_type": "code",
   "execution_count": null,
   "metadata": {},
   "outputs": [],
   "source": [
    "publs_lim_grouped[\"fem_share_authors\"] = publs_lim_grouped[\"n_females\"] / publs_lim_grouped[\"n_authors\"] * 100"
   ]
  },
  {
   "cell_type": "code",
   "execution_count": null,
   "metadata": {},
   "outputs": [],
   "source": [
    "publs_lim_grouped[\"m_share_authors\"] = publs_lim_grouped[\"n_males\"] / publs_lim_grouped[\"n_authors\"] * 100"
   ]
  },
  {
   "cell_type": "code",
   "execution_count": null,
   "metadata": {},
   "outputs": [],
   "source": [
    "publs_lim_grouped[\"u_share_authors\"] = publs_lim_grouped[\"n_unknown\"] / publs_lim_grouped[\"n_authors\"] * 100"
   ]
  },
  {
   "cell_type": "code",
   "execution_count": null,
   "metadata": {},
   "outputs": [],
   "source": [
    "# >>> Calculation\n",
    "from scipy import stats\n",
    "print(\"Calculating Spearman's Correlation Coefficient...\")\n",
    "publs_lim_cor = stats.spearmanr(publs_lim_grouped[\"year\"], publs_lim_grouped[\"fem_share_authors\"])\n",
    "print(\"Done!\")\n",
    "print(publs_lim_cor)\n",
    "# p value can not be trusted since 53 observations < 500: https://docs.scipy.org/doc/scipy-0.14.0/reference/generated/scipy.stats.spearmanr.html"
   ]
  },
  {
   "cell_type": "code",
   "execution_count": null,
   "metadata": {},
   "outputs": [],
   "source": [
    "print(\"Calculating Spearman's Correlation Coefficient...\")\n",
    "publs_lim_cor = stats.spearmanr(publs_lim_grouped[\"year\"], publs_lim_grouped[\"m_share_authors\"])\n",
    "print(\"Done!\")\n",
    "print(publs_lim_cor)"
   ]
  },
  {
   "cell_type": "code",
   "execution_count": null,
   "metadata": {},
   "outputs": [],
   "source": [
    "print(\"Calculating Spearman's Correlation Coefficient...\")\n",
    "publs_lim_cor = stats.spearmanr(publs_lim_grouped[\"year\"], publs_lim_grouped[\"u_share_authors\"])\n",
    "print(\"Done!\")\n",
    "print(publs_lim_cor)"
   ]
  },
  {
   "cell_type": "code",
   "execution_count": null,
   "metadata": {},
   "outputs": [],
   "source": [
    "# >>> Visualization\n",
    "import matplotlib.pyplot as plt\n",
    "import matplotlib as mpl\n",
    "\n",
    "mpl.rcParams['pgf.rcfonts'] = False\n",
    "mpl.rcParams['font.size'] = 11.0\n",
    "\n",
    "plt.plot(publs_lim_grouped[\"year\"], publs_lim_grouped[\"fem_share_authors\"], label=\"Female authors\", color=\"black\")\n",
    "plt.plot(publs_lim_grouped[\"year\"], publs_lim_grouped[\"fem_share_contribs\"], label=\"Contributions by female authors\", color=\"grey\")\n",
    "\n",
    "plt.xlabel(\"Year\")\n",
    "plt.ylabel(\"Share in %\")\n",
    "plt.legend()\n",
    "\n",
    "plt.savefig('graphs/h6/share_women_per_year_2.pdf')\n",
    "plt.savefig('graphs/h6/share_women_per_year_2.pgf')"
   ]
  },
  {
   "cell_type": "code",
   "execution_count": null,
   "metadata": {},
   "outputs": [],
   "source": [
    "plt.plot(publs_lim_grouped[\"year\"], publs_lim_grouped[\"fem_share_authors\"], label=\"Female authors\", color=\"black\")\n",
    "plt.plot(publs_lim_grouped[\"year\"], publs_lim_grouped[\"u_share_authors\"], label=\"Authors of unknown gender \\n (score < 5)\", color=\"grey\")\n",
    "\n",
    "plt.xlabel(\"Year\")\n",
    "plt.ylabel(\"Share in %\")\n",
    "plt.legend()\n",
    "\n",
    "plt.savefig('graphs/h6/share_women_and_unknown_per_year.pdf')\n",
    "plt.savefig('graphs/h6/share_women_and_unknown_per_year.pgf')"
   ]
  },
  {
   "cell_type": "code",
   "execution_count": null,
   "metadata": {},
   "outputs": [],
   "source": [
    "# >>> Interpretation:\n",
    "# The hypothesis is rejected. The share of (contributions made by) female authors grows slightly."
   ]
  },
  {
   "cell_type": "code",
   "execution_count": null,
   "metadata": {},
   "outputs": [],
   "source": []
  }
 ],
 "metadata": {
  "kernelspec": {
   "display_name": "Python 3",
   "language": "python",
   "name": "python3"
  },
  "language_info": {
   "codemirror_mode": {
    "name": "ipython",
    "version": 3
   },
   "file_extension": ".py",
   "mimetype": "text/x-python",
   "name": "python",
   "nbconvert_exporter": "python",
   "pygments_lexer": "ipython3",
   "version": "3.7.1"
  }
 },
 "nbformat": 4,
 "nbformat_minor": 2
}
