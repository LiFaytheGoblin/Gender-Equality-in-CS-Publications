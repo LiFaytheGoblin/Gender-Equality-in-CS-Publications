{
 "cells": [
  {
   "cell_type": "code",
   "execution_count": null,
   "metadata": {},
   "outputs": [
    {
     "name": "stdout",
     "output_type": "stream",
     "text": [
      "Opening file...\n",
      "File open.\n",
      "Starting to parse XML file at 2019-04-10 11:02:51.837553 ...\n"
     ]
    }
   ],
   "source": [
    "import datetime\n",
    "from lxml import etree\n",
    "\n",
    "path = \"data/dblp.xml\"\n",
    "print(\"Opening file...\")\n",
    "file = open(path)\n",
    "f = file.read()\n",
    "file.close()\n",
    "print(\"File open.\")\n",
    "    \n",
    "time = datetime.datetime.now()\n",
    "print(\"Starting to parse XML file at {} ...\".format(time))\n",
    "\n",
    "parser = etree.XMLParser(recover=True, load_dtd=True, encoding='ASCII', huge_tree=True)\n",
    "tree = etree.parse(f, parser)\n",
    "\n",
    "time = datetime.datetime.now()\n",
    "print(\"Finished parsing XML file at {} ! \".format(time))\n",
    "\n",
    "root = tree.getroot()\n",
    "print(\"Found {} entries! \".format(len(root)))"
   ]
  },
  {
   "cell_type": "code",
   "execution_count": null,
   "metadata": {},
   "outputs": [],
   "source": []
  }
 ],
 "metadata": {
  "kernelspec": {
   "display_name": "Python 3",
   "language": "python",
   "name": "python3"
  },
  "language_info": {
   "codemirror_mode": {
    "name": "ipython",
    "version": 3
   },
   "file_extension": ".py",
   "mimetype": "text/x-python",
   "name": "python",
   "nbconvert_exporter": "python",
   "pygments_lexer": "ipython3",
   "version": "3.7.1"
  }
 },
 "nbformat": 4,
 "nbformat_minor": 2
}
