{
 "cells": [
  {
   "cell_type": "code",
   "execution_count": null,
   "metadata": {},
   "outputs": [],
   "source": [
    "# Checking for Outliers in names_cat\n",
    "\n",
    "# In this notebook we will find out if there are outliers in our authors data set, how many, \n",
    "# and whether or not to exclude them from further researc."
   ]
  },
  {
   "cell_type": "code",
   "execution_count": null,
   "metadata": {},
   "outputs": [],
   "source": [
    "# >>> Preparation\n",
    "# Import categorized 'names_cat.csv'\n",
    "import pandas\n",
    "\n",
    "print(\"Importing names... \")\n",
    "names = pandas.read_csv(\"data/names_cat.csv\", usecols=[\"name\", \"n_publs\", \"likely_gender\", \"score\"])\n",
    "\n",
    "# Setting index & accessing cells: https://pythonhow.com/accessing-dataframe-columns-rows-and-cells/\n",
    "names = names.set_index(\"name\", drop = False)\n",
    "print(\"Names imported. They look like this: {}\".format(names[:5]))"
   ]
  },
  {
   "cell_type": "code",
   "execution_count": null,
   "metadata": {},
   "outputs": [],
   "source": [
    "# Get all data on female and male authors\n",
    "# For now, Unknown gender is calculated here - later, the dataset we read above will already have those calculated. \n",
    "u = names[names['score'] < 5]\n",
    "not_u = names[names['score'] >= 5]\n",
    "f = not_u[not_u['likely_gender'] == 'female']\n",
    "m = not_u[not_u['likely_gender'] == 'male']"
   ]
  },
  {
   "cell_type": "code",
   "execution_count": null,
   "metadata": {},
   "outputs": [],
   "source": [
    "# >>> Get statistical information on our data sets"
   ]
  },
  {
   "cell_type": "code",
   "execution_count": null,
   "metadata": {},
   "outputs": [],
   "source": [
    "u.describe()"
   ]
  },
  {
   "cell_type": "code",
   "execution_count": null,
   "metadata": {},
   "outputs": [],
   "source": [
    "not_u.describe()"
   ]
  },
  {
   "cell_type": "code",
   "execution_count": null,
   "metadata": {},
   "outputs": [],
   "source": [
    "f.describe()"
   ]
  },
  {
   "cell_type": "code",
   "execution_count": null,
   "metadata": {},
   "outputs": [],
   "source": [
    "m.describe()"
   ]
  },
  {
   "cell_type": "code",
   "execution_count": null,
   "metadata": {},
   "outputs": [],
   "source": [
    "# >>> Interpreting results in relation to possible outliers\n",
    "# Looking at the relative values it appears that there could be some outliers,\n",
    "# considering the huge difference between mean and median (50%) values and the high std.\n",
    "# In the following, we will explore the outliers"
   ]
  },
  {
   "cell_type": "code",
   "execution_count": null,
   "metadata": {},
   "outputs": [],
   "source": [
    "import matplotlib.pyplot as plt"
   ]
  },
  {
   "cell_type": "code",
   "execution_count": null,
   "metadata": {},
   "outputs": [],
   "source": [
    "# >>> A closer look on the distribution\n",
    "# Histogram for all n_publs values of all names (male and female)\n",
    "h_n_publs1 = names['n_publs'].hist(alpha=0.5)\n",
    "plt.xlabel(\"Amount of Publications\")\n",
    "plt.title(\"Histogram\")"
   ]
  },
  {
   "cell_type": "code",
   "execution_count": null,
   "metadata": {},
   "outputs": [],
   "source": [
    "# Zoom in (with limits)\n",
    "# Set axis limits: https://stackoverflow.com/questions/3777861/setting-y-axis-limit-in-matplotlib\n",
    "\n",
    "h_n_publs2 = names['n_publs'].hist(alpha=0.5, bins=1694)\n",
    "\n",
    "axes = plt.gca()\n",
    "axes.set_xlim([0,50])\n",
    "\n",
    "plt.xlabel(\"Amount of Publications\")\n",
    "plt.title(\"Histogram\")"
   ]
  },
  {
   "cell_type": "code",
   "execution_count": null,
   "metadata": {},
   "outputs": [],
   "source": [
    "# Zoom in (with limits)\n",
    "# Set axis limits: https://stackoverflow.com/questions/3777861/setting-y-axis-limit-in-matplotlib\n",
    "\n",
    "h_n_publs3 = names['n_publs'].hist(alpha=0.5, bins=1694)\n",
    "\n",
    "axes = plt.gca()\n",
    "axes.set_xlim([0,10])\n",
    "\n",
    "plt.xlabel(\"Amount of Publications\")\n",
    "plt.title(\"Histogram\")"
   ]
  },
  {
   "cell_type": "code",
   "execution_count": null,
   "metadata": {},
   "outputs": [],
   "source": [
    "# Zoom in (with limits)\n",
    "# Set axis limits: https://stackoverflow.com/questions/3777861/setting-y-axis-limit-in-matplotlib\n",
    "\n",
    "h_m_publs1 = m['n_publs'].hist(density=True, alpha=0.5, bins=1694, label=\"Male\")\n",
    "h_f_publs1 = f['n_publs'].hist(density=True, alpha=0.5, bins=946, label=\"Female\")\n",
    "h_u_publs1 = u['n_publs'].hist(density=True, alpha=0.5, bins=946, label=\"Unknown\")\n",
    "\n",
    "axes = plt.gca()\n",
    "axes.set_xlim([0,10])\n",
    "\n",
    "plt.xlabel(\"Amount of Publications\")\n",
    "plt.legend(title=\"Gender\")\n",
    "plt.title(\"Histogram\")"
   ]
  },
  {
   "cell_type": "code",
   "execution_count": null,
   "metadata": {},
   "outputs": [],
   "source": [
    "# Zoom in (with limits)\n",
    "# Set axis limits: https://stackoverflow.com/questions/3777861/setting-y-axis-limit-in-matplotlib\n",
    "\n",
    "h_u_publs1 = u['n_publs'].hist(alpha=0.5, bins=946, label=\"Unknown\")\n",
    "h_m_publs1 = m['n_publs'].hist(alpha=0.5, bins=1694, label=\"Male\")\n",
    "h_f_publs1 = f['n_publs'].hist(alpha=0.5, bins=946, label=\"Female\")\n",
    "\n",
    "axes = plt.gca()\n",
    "axes.set_xlim([0,10])\n",
    "\n",
    "plt.xlabel(\"Amount of Publications\")\n",
    "plt.legend(title=\"Gender\")\n",
    "plt.title(\"Histogram\")"
   ]
  },
  {
   "cell_type": "code",
   "execution_count": null,
   "metadata": {},
   "outputs": [],
   "source": [
    "# >>> Showing possible outliers using boxplot\n",
    "plt.boxplot([f['n_publs'], m['n_publs'], u['n_publs']], labels=[\"female\", \"male\", \"unknown\"])\n",
    "plt.xlabel(\"Gender\")\n",
    "plt.ylabel(\"Amount of Publications\")\n",
    "plt.title(\"Distribution Statistics: Publications by Gender\")\n",
    "plt.show()\n",
    "# The boxplot is nearly irrecognizable! Looks like a lot of outliers."
   ]
  },
  {
   "cell_type": "code",
   "execution_count": null,
   "metadata": {},
   "outputs": [],
   "source": [
    "# Not showing possible outliers \n",
    "plt.boxplot([f['n_publs'], m['n_publs'], u['n_publs']], labels=[\"female\", \"male\", \"unknown\"], showfliers=False, showmeans =True)\n",
    "plt.xlabel(\"Gender\")\n",
    "plt.ylabel(\"Amount of Publications\")\n",
    "plt.title(\"Distribution Statistics: Publications by Gender (not showing possible outliers)\")\n",
    "plt.show()"
   ]
  },
  {
   "cell_type": "code",
   "execution_count": null,
   "metadata": {},
   "outputs": [],
   "source": [
    "# Interpretation:\n",
    "# Even though there are outliers, they might not be relevant for our analysis. \n",
    "# The amount of contributions by women and men should be calculated differently, \n",
    "# so that if in a group of 4 collaborating authors 1 was a woman, that counts as 1/4 contribution,\n",
    "# not 1 contribution.\n",
    "\n",
    "# This method of counting contributions was developed by Science-Metrix \n",
    "# in their publication \"Development of bibliometric indicators to measure women’s contribution to scientific publications\" \n",
    "# (http://www.science-metrix.com/en/publications/reports#/en/gender-report, May 1 19)"
   ]
  }
 ],
 "metadata": {
  "kernelspec": {
   "display_name": "Python 3",
   "language": "python",
   "name": "python3"
  },
  "language_info": {
   "codemirror_mode": {
    "name": "ipython",
    "version": 3
   },
   "file_extension": ".py",
   "mimetype": "text/x-python",
   "name": "python",
   "nbconvert_exporter": "python",
   "pygments_lexer": "ipython3",
   "version": "3.7.1"
  }
 },
 "nbformat": 4,
 "nbformat_minor": 2
}
