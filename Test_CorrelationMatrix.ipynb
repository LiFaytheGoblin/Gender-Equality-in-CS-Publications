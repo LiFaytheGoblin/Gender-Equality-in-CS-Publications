{
 "cells": [
  {
   "cell_type": "code",
   "execution_count": null,
   "metadata": {},
   "outputs": [],
   "source": [
    "# Here, the creation and visualization of correlation values is tested"
   ]
  },
  {
   "cell_type": "code",
   "execution_count": null,
   "metadata": {},
   "outputs": [],
   "source": [
    "# >>> Preparation\n",
    "import pandas"
   ]
  },
  {
   "cell_type": "code",
   "execution_count": null,
   "metadata": {},
   "outputs": [],
   "source": [
    "print(\"Importing publications... \")\n",
    "cols = [\n",
    "    'key', \n",
    "    'pub_cat',\n",
    "    'pub_type',\n",
    "    'title',\n",
    "    'year',\n",
    "    'authors',\n",
    "    'n_authors',\n",
    "    'n_males',\n",
    "    'n_females',\n",
    "    'n_unknown',\n",
    "    'ratio',\n",
    "    'n_contribs_females',\n",
    "    'n_contribs_males',\n",
    "    'n_contribs_unknown',\n",
    "]\n",
    "\n",
    "publs = pandas.read_csv(\"data/publications_cor2.csv\", usecols=cols)\n",
    "\n",
    "# Setting index & accessing cells: https://pythonhow.com/accessing-dataframe-columns-rows-and-cells/\n",
    "publs = publs.set_index(\"key\", drop = False)\n",
    "print(\"Publications imported. They look like this: {}\".format(publs[:5]))"
   ]
  },
  {
   "cell_type": "code",
   "execution_count": null,
   "metadata": {},
   "outputs": [],
   "source": [
    "# >>> Create Correlation Matrix\n",
    "publs_cor = publs.corr(method='spearman')"
   ]
  },
  {
   "cell_type": "code",
   "execution_count": null,
   "metadata": {},
   "outputs": [],
   "source": [
    "# >>> Visualization\n",
    "# visualize correlation matrix https://stackoverflow.com/questions/29432629/plot-correlation-matrix-using-pandas\n",
    "# annotated https://matplotlib.org/gallery/images_contours_and_fields/image_annotated_heatmap.html#sphx-glr-gallery-images-contours-and-fields-image-annotated-heatmap-py\n",
    "import numpy as np\n",
    "import matplotlib.pyplot as plt\n",
    "from matplotlib import cm\n",
    "\n",
    "autumn = cm.get_cmap('autumn', 10)\n",
    "\n",
    "#https://stackoverflow.com/questions/332289/how-do-you-change-the-size-of-figures-drawn-with-matplotlib\n",
    "fig, ax = plt.subplots(figsize=(20, 10))\n",
    "im = ax.imshow(publs_cor, cmap=autumn)\n",
    "\n",
    "plt.xticks(np.arange(len(publs_cor.columns.values)), publs_cor.columns.values, rotation='vertical')\n",
    "plt.yticks(np.arange(len(publs_cor.columns.values)), publs_cor.columns.values)\n",
    "\n",
    "plt.setp(ax.get_xticklabels(), rotation=45, ha=\"right\", rotation_mode=\"anchor\")\n",
    "\n",
    "for i in range(len(publs_cor.columns.values)):\n",
    "    for j in range(len(publs_cor.columns.values)):\n",
    "        # round https://www.tutorialspoint.com/python/number_round.htm\n",
    "        text = ax.text(j, i, round(publs_cor.iloc[i, j], 2), ha=\"center\", va=\"center\", color=\"k\")\n",
    "\n",
    "plt.title(\"Correlation Matrix\")\n",
    "\n",
    "plt.show()"
   ]
  },
  {
   "cell_type": "code",
   "execution_count": null,
   "metadata": {},
   "outputs": [],
   "source": [
    "# Visualize Scatter graphs\n",
    "# Scatter graphs can help find evidence of correlation or non-correlation\n",
    "plt.scatter(publs['year'], publs['n_authors'], alpha=0.4)\n",
    "\n",
    "plt.xlabel(\"Year\")\n",
    "plt.ylabel(\"Amount of authors by publication.\")\n",
    "\n",
    "plt.title(\"How did the amount of authors contributing to a publication change over time?\")\n",
    "plt.legend()\n",
    "plt.show()"
   ]
  },
  {
   "cell_type": "code",
   "execution_count": null,
   "metadata": {
    "scrolled": true
   },
   "outputs": [],
   "source": [
    "plt.scatter(publs['year'], publs['n_unknown'], alpha=0.1, color=\"g\", label=\"unknown\")\n",
    "plt.scatter(publs['year'], publs['n_males'], alpha=0.4, color=\"r\", label=\"male\")\n",
    "plt.scatter(publs['year'], publs['n_females'], alpha=0.4, color=\"b\", label=\"female\")\n",
    "\n",
    "plt.xlabel(\"Year\")\n",
    "plt.ylabel(\"Amount of authors by publication\")\n",
    "\n",
    "plt.title(\"How did the amount of authors by gender and publication change over time?\")\n",
    "plt.legend()\n",
    "plt.show()"
   ]
  },
  {
   "cell_type": "code",
   "execution_count": null,
   "metadata": {},
   "outputs": [],
   "source": [
    "plt.scatter(publs['year'], publs['n_contribs_unknown'], alpha=0.1, color=\"g\", label=\"unknown\")\n",
    "plt.scatter(publs['year'], publs['n_contribs_males'], alpha=0.4, color=\"r\", label=\"male\")\n",
    "plt.scatter(publs['year'], publs['n_contribs_females'], alpha=0.4, color=\"b\", label=\"female\")\n",
    "\n",
    "plt.xlabel(\"Year\")\n",
    "plt.ylabel(\"Amount of contributions by publication\")\n",
    "\n",
    "plt.title(\"How did the amount of contributions made by gender and publication change over time?\")\n",
    "plt.legend()\n",
    "plt.show()"
   ]
  },
  {
   "cell_type": "code",
   "execution_count": null,
   "metadata": {},
   "outputs": [],
   "source": [
    "publs['ratio'].hist()"
   ]
  }
 ],
 "metadata": {
  "kernelspec": {
   "display_name": "Python 3",
   "language": "python",
   "name": "python3"
  },
  "language_info": {
   "codemirror_mode": {
    "name": "ipython",
    "version": 3
   },
   "file_extension": ".py",
   "mimetype": "text/x-python",
   "name": "python",
   "nbconvert_exporter": "python",
   "pygments_lexer": "ipython3",
   "version": "3.7.1"
  }
 },
 "nbformat": 4,
 "nbformat_minor": 2
}
