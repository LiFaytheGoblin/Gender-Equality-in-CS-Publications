{
 "cells": [
  {
   "cell_type": "code",
   "execution_count": null,
   "metadata": {},
   "outputs": [],
   "source": [
    "# Here, the creation and visualization of correlation values is tested"
   ]
  },
  {
   "cell_type": "code",
   "execution_count": null,
   "metadata": {},
   "outputs": [],
   "source": [
    "# >>> Preparation\n",
    "import pandas"
   ]
  },
  {
   "cell_type": "code",
   "execution_count": null,
   "metadata": {},
   "outputs": [],
   "source": [
    "print(\"Importing publications... \")\n",
    "cols = [\n",
    "    'key', \n",
    "    'pub_cat',\n",
    "    'pub_type',\n",
    "    'title',\n",
    "    'year',\n",
    "    'authors',\n",
    "    'n_authors',\n",
    "    'n_males',\n",
    "    'n_females',\n",
    "    'n_unknown',\n",
    "    'ratio',\n",
    "    'n_males_min',\n",
    "    'n_females_min',\n",
    "    'n_unknown_max',\n",
    "    'ratio_min',\n",
    "    'n_contribs_females',\n",
    "    'n_contribs_males',\n",
    "    'n_contribs_unknown',\n",
    "    'n_contribs_females_min',\n",
    "    'n_contribs_males_min',\n",
    "    'n_contribs_unknown_max'\n",
    "]\n",
    "\n",
    "publs = pandas.read_csv(\"data/publications_cor2.csv\", usecols=cols)\n",
    "\n",
    "# Setting index & accessing cells: https://pythonhow.com/accessing-dataframe-columns-rows-and-cells/\n",
    "publs = publs.set_index(\"key\", drop = False)\n",
    "print(\"Publications imported. They look like this: {}\".format(publs[:5]))"
   ]
  },
  {
   "cell_type": "code",
   "execution_count": null,
   "metadata": {},
   "outputs": [],
   "source": [
    "# >>> Create Correlation Matrix\n",
    "publs_cor = publs.corr(method ='pearson')"
   ]
  },
  {
   "cell_type": "code",
   "execution_count": null,
   "metadata": {},
   "outputs": [],
   "source": [
    "# >>> Visualization\n",
    "# visualize correlation matrix https://stackoverflow.com/questions/29432629/plot-correlation-matrix-using-pandas\n",
    "# annotated https://matplotlib.org/gallery/images_contours_and_fields/image_annotated_heatmap.html#sphx-glr-gallery-images-contours-and-fields-image-annotated-heatmap-py\n",
    "import numpy as np\n",
    "import matplotlib.pyplot as plt\n",
    "from matplotlib import cm\n",
    "\n",
    "autumn = cm.get_cmap('autumn', 10)\n",
    "\n",
    "#https://stackoverflow.com/questions/332289/how-do-you-change-the-size-of-figures-drawn-with-matplotlib\n",
    "fig, ax = plt.subplots(figsize=(20, 10))\n",
    "im = ax.imshow(publs_cor, cmap=autumn)\n",
    "\n",
    "ax.set_xticks(np.arange(len(publs_cor.columns.values)))\n",
    "ax.set_yticks(np.arange(len(publs_cor.columns.values)))\n",
    "\n",
    "ax.set_xticklabels(publs_cor.columns.values)\n",
    "ax.set_yticklabels(publs_cor.columns.values)\n",
    "\n",
    "plt.setp(ax.get_xticklabels(), rotation=45, ha=\"right\", rotation_mode=\"anchor\")\n",
    "plt.colorbar() #color bar http://benalexkeen.com/correlation-in-python/\n",
    "\n",
    "for i in range(len(publs_cor.columns.values)):\n",
    "    for j in range(len(publs_cor.columns.values)):\n",
    "        # round https://www.tutorialspoint.com/python/number_round.htm\n",
    "        text = ax.text(j, i, round(publs_cor.iloc[i, j], 2), ha=\"center\", va=\"center\", color=\"k\")\n",
    "\n",
    "plt.title(\"Correlation Matrix\")\n",
    "\n",
    "plt.show()"
   ]
  },
  {
   "cell_type": "code",
   "execution_count": null,
   "metadata": {},
   "outputs": [],
   "source": [
    "pandas.plotting.scatter_matrix(publs, figsize=(20, 20)) # this takes too long."
   ]
  }
 ],
 "metadata": {
  "kernelspec": {
   "display_name": "Python 3",
   "language": "python",
   "name": "python3"
  },
  "language_info": {
   "codemirror_mode": {
    "name": "ipython",
    "version": 3
   },
   "file_extension": ".py",
   "mimetype": "text/x-python",
   "name": "python",
   "nbconvert_exporter": "python",
   "pygments_lexer": "ipython3",
   "version": "3.7.1"
  }
 },
 "nbformat": 4,
 "nbformat_minor": 2
}
