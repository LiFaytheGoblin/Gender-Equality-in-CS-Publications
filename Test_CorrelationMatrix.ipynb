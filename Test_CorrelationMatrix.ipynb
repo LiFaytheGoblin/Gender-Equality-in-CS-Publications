{
 "cells": [
  {
   "cell_type": "code",
   "execution_count": null,
   "metadata": {},
   "outputs": [],
   "source": [
    "# Here, the creation and visualization of correlation values is tested"
   ]
  },
  {
   "cell_type": "code",
   "execution_count": 1,
   "metadata": {},
   "outputs": [],
   "source": [
    "# >>> Preparation\n",
    "import pandas"
   ]
  },
  {
   "cell_type": "code",
   "execution_count": 2,
   "metadata": {},
   "outputs": [
    {
     "name": "stdout",
     "output_type": "stream",
     "text": [
      "Importing publications... \n"
     ]
    },
    {
     "name": "stderr",
     "output_type": "stream",
     "text": [
      "C:\\Program_Files\\Anaconda3\\lib\\site-packages\\IPython\\core\\interactiveshell.py:3020: DtypeWarning: Columns (3) have mixed types. Specify dtype option on import or set low_memory=False.\n",
      "  interactivity=interactivity, compiler=compiler, result=result)\n"
     ]
    },
    {
     "name": "stdout",
     "output_type": "stream",
     "text": [
      "Publications imported. They look like this:                                                                  key  \\\n",
      "key                                                                    \n",
      "books/acm/0082477                                  books/acm/0082477   \n",
      "books/acm/Kim95                                      books/acm/Kim95   \n",
      "books/acm/kim95/AnnevelinkACFHK95  books/acm/kim95/AnnevelinkACFHK95   \n",
      "books/acm/kim95/Blakeley95                books/acm/kim95/Blakeley95   \n",
      "books/acm/kim95/BreitbartGS95          books/acm/kim95/BreitbartGS95   \n",
      "\n",
      "                                        pub_cat pub_type  \\\n",
      "key                                                        \n",
      "books/acm/0082477                          book      NaN   \n",
      "books/acm/Kim95                            book      NaN   \n",
      "books/acm/kim95/AnnevelinkACFHK95  incollection      NaN   \n",
      "books/acm/kim95/Blakeley95         incollection      NaN   \n",
      "books/acm/kim95/BreitbartGS95      incollection      NaN   \n",
      "\n",
      "                                                                               title  \\\n",
      "key                                                                                    \n",
      "books/acm/0082477                        The no-nonsense guide to computing careers.   \n",
      "books/acm/Kim95                    Modern Database Systems: The Object Model, Int...   \n",
      "books/acm/kim95/AnnevelinkACFHK95  Object SQL - A Language for the Design and Imp...   \n",
      "books/acm/kim95/Blakeley95         OQL[C++]: Extending C++ with an Object Query C...   \n",
      "books/acm/kim95/BreitbartGS95       Transaction Management in Multidatabase Systems.   \n",
      "\n",
      "                                   year  \\\n",
      "key                                       \n",
      "books/acm/0082477                  1992   \n",
      "books/acm/Kim95                    1995   \n",
      "books/acm/kim95/AnnevelinkACFHK95  1995   \n",
      "books/acm/kim95/Blakeley95         1995   \n",
      "books/acm/kim95/BreitbartGS95      1995   \n",
      "\n",
      "                                                                             authors  \\\n",
      "key                                                                                    \n",
      "books/acm/0082477                                                    ['Marc Rettig']   \n",
      "books/acm/Kim95                                                                   []   \n",
      "books/acm/kim95/AnnevelinkACFHK95  ['Jurgen Annevelink', 'Rafiul Ahad', 'Amelia C...   \n",
      "books/acm/kim95/Blakeley95                                      ['José A. Blakeley']   \n",
      "books/acm/kim95/BreitbartGS95      ['Yuri Breitbart', 'Hector Garcia-Molina', 'Ab...   \n",
      "\n",
      "                                   n_authors  n_males  n_females  n_unknown  \\\n",
      "key                                                                           \n",
      "books/acm/0082477                          1      1.0        0.0        0.0   \n",
      "books/acm/Kim95                            0      0.0        0.0        0.0   \n",
      "books/acm/kim95/AnnevelinkACFHK95          6      4.0        1.0        1.0   \n",
      "books/acm/kim95/Blakeley95                 1      1.0        0.0        0.0   \n",
      "books/acm/kim95/BreitbartGS95              3      2.0        0.0        1.0   \n",
      "\n",
      "                                   ratio  n_contribs_females  \\\n",
      "key                                                            \n",
      "books/acm/0082477                   50.0            0.000000   \n",
      "books/acm/Kim95                      0.0            0.000000   \n",
      "books/acm/kim95/AnnevelinkACFHK95   50.0            0.166667   \n",
      "books/acm/kim95/Blakeley95          50.0            0.000000   \n",
      "books/acm/kim95/BreitbartGS95       50.0            0.000000   \n",
      "\n",
      "                                   n_contribs_males  n_contribs_unknown  \n",
      "key                                                                      \n",
      "books/acm/0082477                          1.000000            1.000000  \n",
      "books/acm/Kim95                            0.000000            0.000000  \n",
      "books/acm/kim95/AnnevelinkACFHK95          0.666667            0.666667  \n",
      "books/acm/kim95/Blakeley95                 1.000000            0.000000  \n",
      "books/acm/kim95/BreitbartGS95              0.666667            0.666667  \n"
     ]
    }
   ],
   "source": [
    "print(\"Importing publications... \")\n",
    "cols = [\n",
    "    'key', \n",
    "    'pub_cat',\n",
    "    'pub_type',\n",
    "    'title',\n",
    "    'year',\n",
    "    'authors',\n",
    "    'n_authors',\n",
    "    'n_males',\n",
    "    'n_females',\n",
    "    'n_unknown',\n",
    "    'ratio',\n",
    "    'n_contribs_females',\n",
    "    'n_contribs_males',\n",
    "    'n_contribs_unknown',\n",
    "]\n",
    "\n",
    "publs = pandas.read_csv(\"data/publications_cor2.csv\", usecols=cols)\n",
    "\n",
    "# Setting index & accessing cells: https://pythonhow.com/accessing-dataframe-columns-rows-and-cells/\n",
    "publs = publs.set_index(\"key\", drop = False)\n",
    "print(\"Publications imported. They look like this: {}\".format(publs[:5]))"
   ]
  },
  {
   "cell_type": "code",
   "execution_count": null,
   "metadata": {},
   "outputs": [],
   "source": [
    "# >>> Create Correlation Matrix\n",
    "publs_cor = publs.corr(method='spearman')"
   ]
  },
  {
   "cell_type": "code",
   "execution_count": null,
   "metadata": {},
   "outputs": [],
   "source": [
    "# >>> Visualization\n",
    "# visualize correlation matrix https://stackoverflow.com/questions/29432629/plot-correlation-matrix-using-pandas\n",
    "# annotated https://matplotlib.org/gallery/images_contours_and_fields/image_annotated_heatmap.html#sphx-glr-gallery-images-contours-and-fields-image-annotated-heatmap-py\n",
    "import numpy as np\n",
    "import matplotlib.pyplot as plt\n",
    "from matplotlib import cm\n",
    "\n",
    "autumn = cm.get_cmap('autumn', 10)\n",
    "\n",
    "#https://stackoverflow.com/questions/332289/how-do-you-change-the-size-of-figures-drawn-with-matplotlib\n",
    "fig, ax = plt.subplots(figsize=(20, 10))\n",
    "im = ax.imshow(publs_cor, cmap=autumn)\n",
    "\n",
    "plt.xticks(np.arange(len(publs_cor.columns.values)), publs_cor.columns.values, rotation='vertical')\n",
    "plt.yticks(np.arange(len(publs_cor.columns.values)), publs_cor.columns.values)\n",
    "\n",
    "plt.setp(ax.get_xticklabels(), rotation=45, ha=\"right\", rotation_mode=\"anchor\")\n",
    "\n",
    "for i in range(len(publs_cor.columns.values)):\n",
    "    for j in range(len(publs_cor.columns.values)):\n",
    "        # round https://www.tutorialspoint.com/python/number_round.htm\n",
    "        text = ax.text(j, i, round(publs_cor.iloc[i, j], 2), ha=\"center\", va=\"center\", color=\"k\")\n",
    "\n",
    "plt.title(\"Correlation Matrix\")\n",
    "\n",
    "plt.show()"
   ]
  },
  {
   "cell_type": "code",
   "execution_count": null,
   "metadata": {},
   "outputs": [],
   "source": [
    "# Visualize Scatter graphs\n",
    "# Scatter graphs can help find evidence of correlation or non-correlation\n",
    "plt.scatter(publs['year'], publs['n_authors'], alpha=0.4)\n",
    "\n",
    "plt.xlabel(\"Year\")\n",
    "plt.ylabel(\"Amount of authors by publication.\")\n",
    "\n",
    "plt.title(\"How did the amount of authors contributing to a publication change over time?\")\n",
    "plt.legend()\n",
    "plt.show()"
   ]
  },
  {
   "cell_type": "code",
   "execution_count": null,
   "metadata": {
    "scrolled": true
   },
   "outputs": [],
   "source": [
    "plt.scatter(publs['year'], publs['n_unknown'], alpha=0.1, color=\"g\", label=\"unknown\")\n",
    "plt.scatter(publs['year'], publs['n_males'], alpha=0.4, color=\"r\", label=\"male\")\n",
    "plt.scatter(publs['year'], publs['n_females'], alpha=0.4, color=\"b\", label=\"female\")\n",
    "\n",
    "plt.xlabel(\"Year\")\n",
    "plt.ylabel(\"Amount of authors by publication\")\n",
    "\n",
    "plt.title(\"How did the amount of authors by gender and publication change over time?\")\n",
    "plt.legend()\n",
    "plt.show()"
   ]
  },
  {
   "cell_type": "code",
   "execution_count": null,
   "metadata": {},
   "outputs": [],
   "source": [
    "plt.scatter(publs['year'], publs['n_contribs_unknown'], alpha=0.1, color=\"g\", label=\"unknown\")\n",
    "plt.scatter(publs['year'], publs['n_contribs_males'], alpha=0.4, color=\"r\", label=\"male\")\n",
    "plt.scatter(publs['year'], publs['n_contribs_females'], alpha=0.4, color=\"b\", label=\"female\")\n",
    "\n",
    "plt.xlabel(\"Year\")\n",
    "plt.ylabel(\"Amount of contributions by publication\")\n",
    "\n",
    "plt.title(\"How did the amount of contributions made by gender and publication change over time?\")\n",
    "plt.legend()\n",
    "plt.show()"
   ]
  },
  {
   "cell_type": "code",
   "execution_count": null,
   "metadata": {},
   "outputs": [],
   "source": [
    "publs['ratio'].hist()"
   ]
  }
 ],
 "metadata": {
  "kernelspec": {
   "display_name": "Python 3",
   "language": "python",
   "name": "python3"
  },
  "language_info": {
   "codemirror_mode": {
    "name": "ipython",
    "version": 3
   },
   "file_extension": ".py",
   "mimetype": "text/x-python",
   "name": "python",
   "nbconvert_exporter": "python",
   "pygments_lexer": "ipython3",
   "version": "3.7.1"
  }
 },
 "nbformat": 4,
 "nbformat_minor": 2
}
