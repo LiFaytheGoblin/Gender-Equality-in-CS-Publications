{
 "cells": [
  {
   "cell_type": "code",
   "execution_count": null,
   "metadata": {},
   "outputs": [],
   "source": [
    "# STEP 3 A: TEST\n",
    "# In this notebook, the functioning of NamSor API and NamSor API SDK for Python is tested."
   ]
  },
  {
   "cell_type": "code",
   "execution_count": null,
   "metadata": {},
   "outputs": [],
   "source": [
    "# >>> Import 'names.csv' (ignore if you have 'names_smlp.csv')\n",
    "\n",
    "import pandas\n",
    "\n",
    "print(\"Importing names... \")\n",
    "n = pandas.read_csv(\"data/names.csv\", usecols=[\"name\", \"n_publs\", \"likely_gender\", \"score\"])\n",
    "print(\"Names imported.\")"
   ]
  },
  {
   "cell_type": "code",
   "execution_count": null,
   "metadata": {},
   "outputs": [],
   "source": [
    "# >>> Create a sample of names (ignore if you have 'names_smlp.csv')\n",
    "\n",
    "print(\"Retreiving a random sample... \")\n",
    "names = n.sample(5000)\n",
    "print(\"Sample retreived.\")"
   ]
  },
  {
   "cell_type": "code",
   "execution_count": null,
   "metadata": {},
   "outputs": [],
   "source": [
    "# >>> Save the sample of names for later use (ignore if you have 'names_smlp.csv')\n",
    "\n",
    "print(\"Saving sample to CSV... \")\n",
    "names.to_csv(\"data/names_smpl.csv\")\n",
    "print(\"Sample saved!\")"
   ]
  },
  {
   "cell_type": "code",
   "execution_count": null,
   "metadata": {
    "scrolled": true
   },
   "outputs": [],
   "source": [
    "# >>> Import sample names from 'names_smpl.csv'\n",
    "import pandas\n",
    "\n",
    "print(\"Importing sample names... \")\n",
    "names = pandas.read_csv(\"data/names_smpl.csv\", usecols=[\"name\", \"n_publs\", \"likely_gender\", \"score\"])\n",
    "print(\"Names imported.\")"
   ]
  },
  {
   "cell_type": "code",
   "execution_count": null,
   "metadata": {},
   "outputs": [],
   "source": [
    "# Setting index & accessing cells: https://pythonhow.com/accessing-dataframe-columns-rows-and-cells/\n",
    "names = names.set_index(\"name\", drop = False)\n",
    "print(\"Some names: {}\".format(names[:10]))"
   ]
  },
  {
   "cell_type": "code",
   "execution_count": null,
   "metadata": {},
   "outputs": [],
   "source": [
    "# >>> Test the NamSorAPI: \n",
    "# using NamSor API v2 Python SDK\n",
    "# https://github.com/namsor/namsor-python-sdk2\n",
    "# licensed under GNU Affero General Public License v3.0\n",
    "\n",
    "# >>>A) Handling the key\n",
    "\n",
    "# Get private API Key for NamSor API v2 (contained in txt file)\n",
    "print(\"Getting private key... \")\n",
    "key = ''\n",
    "\n",
    "# Import personal key from file\n",
    "with open(\"key.txt\", \"r\") as file:\n",
    "    key = file.read()\n",
    "\n",
    "if(len(key) > 0):\n",
    "    print(\"Got private key.\")\n",
    "else: \n",
    "    print(\"Could not find private key. Please check the file name and make sure you have an API key.\")"
   ]
  },
  {
   "cell_type": "code",
   "execution_count": null,
   "metadata": {},
   "outputs": [],
   "source": [
    "# >>> Test the API: B) API Set Up\n",
    "\n",
    "# Trying out NamSor API v2 to get the gender of a name\n",
    "# https://www.namsor.com/\n",
    "# https://v2.namsor.com/NamSorAPIv2/apidoc.html\n",
    "\n",
    "# Following scripts taken from https://github.com/namsor/namsor-python-sdk2 \"Getting Started\" \n",
    "# and adapted to keep key private and remove unnecessary lines.\n",
    "# It tests the connection to the NamSor API\n",
    "\n",
    "import openapi_client\n",
    "from openapi_client.rest import ApiException\n",
    "\n",
    "# Configure API key authorization: api_key\n",
    "configuration = openapi_client.Configuration()\n",
    "configuration.api_key['X-API-KEY'] = key"
   ]
  },
  {
   "cell_type": "code",
   "execution_count": null,
   "metadata": {},
   "outputs": [],
   "source": [
    "# >>> Test the API: C) Test the connection\n",
    "\n",
    "print(\"Testing NamSor API v2 connection...\")\n",
    "\n",
    "# create an instance of the Admin API class\n",
    "admin_api_instance = openapi_client.AdminApi(openapi_client.ApiClient(configuration))\n",
    "\n",
    "try:\n",
    "    # Print current API usage.\n",
    "    api_response = admin_api_instance.api_usage()\n",
    "    print(api_response)\n",
    "    print(\"NamSor API v2 connection successfull!\")\n",
    "except ApiException as e:\n",
    "    print(\"Exception when calling AdminApi: api_usage: {}\".format(e))"
   ]
  },
  {
   "cell_type": "code",
   "execution_count": null,
   "metadata": {},
   "outputs": [],
   "source": [
    "# >>> Test the API: D) Test the classification of a name\n",
    "\n",
    "# Create an instance of the Personal API class\n",
    "pers_api_instance = openapi_client.PersonalApi(openapi_client.ApiClient(configuration))"
   ]
  },
  {
   "cell_type": "code",
   "execution_count": null,
   "metadata": {},
   "outputs": [],
   "source": [
    "# Get a single row of the dataframe to test\n",
    "print(\"Getting gender of a name for testing... \")\n",
    "\n",
    "t = names.sample(1)\n",
    "\n",
    "print(t)"
   ]
  },
  {
   "cell_type": "code",
   "execution_count": null,
   "metadata": {},
   "outputs": [],
   "source": [
    "# Get the name of the chosen row\n",
    "testname = t.index.values[0]\n",
    "\n",
    "print(\"Chose to test {}. Continuing...\".format(testname))"
   ]
  },
  {
   "cell_type": "code",
   "execution_count": null,
   "metadata": {},
   "outputs": [],
   "source": [
    "# Send the name to the API \n",
    "print(\"Now calling API to test a single name...\")\n",
    "\n",
    "try:\n",
    "    api_response = pers_api_instance.gender_full(testname)\n",
    "    result = api_response\n",
    "    print(\"Received: {}\".format(result))\n",
    "except ApiException as e:\n",
    "    print(\"Exception when calling AdminApi: api_usage: {}\".format(e))\n",
    "\n",
    "if (result is not None):\n",
    "    print(\"Name {} is {} with a score of {}.\".format(testname, api_response.likely_gender, abs(api_response.gender_scale)))"
   ]
  },
  {
   "cell_type": "code",
   "execution_count": null,
   "metadata": {
    "scrolled": true
   },
   "outputs": [],
   "source": [
    "# >>> Testing the API for a small batch of names\n",
    "\n",
    "# Get batch of names to test\n",
    "tst_names = names[:10]\n",
    "print(\"Going to test the following names: {}\".format(tst_names))"
   ]
  },
  {
   "cell_type": "code",
   "execution_count": null,
   "metadata": {},
   "outputs": [],
   "source": [
    "# Formatting the names using the API's models\n",
    "def format_name(name):\n",
    "    \"This function formats a full name. It takes a full name and returns a PersonalNameIn\"\n",
    "    return openapi_client.PersonalNameIn(id=name, name=name)\n",
    "\n",
    "print(\"Formatting the names. Step 1: Formatting each name.\")\n",
    "list_of_names = list(map(format_name, tst_names.index.values))\n",
    "print(\"The formatted names look like that: {}\".format(list_of_names))"
   ]
  },
  {
   "cell_type": "code",
   "execution_count": null,
   "metadata": {},
   "outputs": [],
   "source": [
    "print(\"Formatting the names. Step 2: Formatting the batch of names.\")\n",
    "batch_personal_name_in = openapi_client.BatchPersonalNameIn(personal_names=list_of_names)\n",
    "print(\"The formatted batch looks like that: {}\".format(batch_personal_name_in))"
   ]
  },
  {
   "cell_type": "code",
   "execution_count": null,
   "metadata": {},
   "outputs": [],
   "source": [
    "# Call the API\n",
    "print(\"Calling API to test a batch of names... \")\n",
    "\n",
    "try:\n",
    "    api_response = pers_api_instance.gender_full_batch(batch_personal_name_in=batch_personal_name_in)\n",
    "    result = api_response\n",
    "    print(\"Names successfully analyzed. Received: {}\".format(result))\n",
    "except ApiException as e:\n",
    "    print(\"Exception when calling PersonalApi: gender_full_batch: {}\".format(e))"
   ]
  },
  {
   "cell_type": "code",
   "execution_count": null,
   "metadata": {
    "scrolled": false
   },
   "outputs": [],
   "source": [
    "# >>> Testing the API for a batch of batches\n",
    "# Repeated calling of the API, cycling through a list of names, sending in\n",
    "# one batch at a time and saving the result answer by answer.\n",
    "\n",
    "# Preparation\n",
    "batch_size = 3\n",
    "start = 0\n",
    "end = batch_size\n",
    "result = []\n",
    "\n",
    "names_stack = list(tst_names.index.values)"
   ]
  },
  {
   "cell_type": "code",
   "execution_count": null,
   "metadata": {},
   "outputs": [],
   "source": [
    "def format_names(li):\n",
    "    \"This function formats multiple full names. It takes a list of unformatted full names and returns a list of formatted full names.\"\n",
    "    l = list(map(format_name, li))\n",
    "    return l"
   ]
  },
  {
   "cell_type": "code",
   "execution_count": null,
   "metadata": {},
   "outputs": [],
   "source": [
    "def format_batch(li):\n",
    "    \"This function formats a batch of formatted full names. It takes a list of formatted full names and returns a formatted batch.\"\n",
    "    return openapi_client.BatchPersonalNameIn(personal_names=li)"
   ]
  },
  {
   "cell_type": "code",
   "execution_count": null,
   "metadata": {},
   "outputs": [],
   "source": [
    "def fullname_batch(batch):\n",
    "    \"This function calls the API. It takes a formatted batch of full names and returns the API response.\"\n",
    "    return pers_api_instance.gender_full_batch(batch_personal_name_in=batch)"
   ]
  },
  {
   "cell_type": "code",
   "execution_count": null,
   "metadata": {},
   "outputs": [],
   "source": [
    "def call_api_full_batch(list_of_names):\n",
    "    \"This function prepares a list of unformatted names for the API call and then calls the API calling function. It returns the API's name classifications.\"\n",
    "    current_batch = format_names(list_of_names)  # format the names\n",
    "    batch_personal_name_in = format_batch(current_batch)# format the batch\n",
    "    api_response =  fullname_batch(batch_personal_name_in)# call api\n",
    "    return api_response.personal_names # return result"
   ]
  },
  {
   "cell_type": "code",
   "execution_count": null,
   "metadata": {},
   "outputs": [],
   "source": [
    "while (len(names_stack) >= batch_size): # for each batch\n",
    "    try:\n",
    "        result = result + call_api_full_batch(names_stack[start:end])\n",
    "        del names_stack[start:end] # delete what we looked up already\n",
    "        \n",
    "        print(\"Batch of names analyzed. The length of the result is now {}. The names_stack length is now {}.\".format(len(result), len(names_stack)))\n",
    "        \n",
    "        # get remaining names if they are less than a batch size\n",
    "        if(len(names_stack) < batch_size and len(names_stack) > 0):\n",
    "            result = result + call_api_full_batch(names_stack)\n",
    "            names_stack = []\n",
    "            print(\"Batch of names analyzed. The length of the result is now {}. The names_stack length is now {}.\".format(len(result), len(names_stack)))\n",
    "\n",
    "    except ApiException as e:\n",
    "        print(\"Exception when calling PersonalApi: gender_full_batch: {}\".format(e))\n",
    "\n",
    "if(len(names_stack) != 0): \n",
    "    try:\n",
    "        result = result + call_api_full_batch(names_stack)\n",
    "        names_stack = []\n",
    "        print(\"Batch of names analyzed. The length of the result is now {}. The names_stack length is now {}.\".format(len(result), len(names_stack)))\n",
    "    except ApiException as e:\n",
    "        print(\"Exception when calling PersonalApi: gender_full_batch: {}\".format(e))\n",
    "        \n",
    "print(\"All batches analyzed.\")"
   ]
  },
  {
   "cell_type": "code",
   "execution_count": null,
   "metadata": {},
   "outputs": [],
   "source": [
    "# >>> Fill in dictionary with results\n",
    "# Convert results (list of openapi_client.models.personal_name_gendered_out.PersonalNameGenderedOut) to (list of dictionaries)\n",
    "\n",
    "print(\"Adding results to dataframe...\")\n",
    "\n",
    "for oapi_el in result:\n",
    "    tst_names.at[oapi_el.id, 'likely_gender'] = oapi_el.likely_gender\n",
    "    tst_names.at[oapi_el.id, 'score'] = oapi_el.score\n",
    "    \n",
    "print(\"Results added to dataframe. {}\".format(tst_names))"
   ]
  },
  {
   "cell_type": "code",
   "execution_count": null,
   "metadata": {},
   "outputs": [],
   "source": []
  }
 ],
 "metadata": {
  "kernelspec": {
   "display_name": "Python 3",
   "language": "python",
   "name": "python3"
  },
  "language_info": {
   "codemirror_mode": {
    "name": "ipython",
    "version": 3
   },
   "file_extension": ".py",
   "mimetype": "text/x-python",
   "name": "python",
   "nbconvert_exporter": "python",
   "pygments_lexer": "ipython3",
   "version": "3.7.3"
  }
 },
 "nbformat": 4,
 "nbformat_minor": 2
}
