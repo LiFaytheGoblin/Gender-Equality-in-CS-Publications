{
 "cells": [
  {
   "cell_type": "code",
   "execution_count": 1,
   "metadata": {},
   "outputs": [],
   "source": [
    "# >>> Chose score to look at\n",
    "score = 3"
   ]
  },
  {
   "cell_type": "code",
   "execution_count": 3,
   "metadata": {},
   "outputs": [
    {
     "name": "stdout",
     "output_type": "stream",
     "text": [
      "Importing categorized names... \n",
      "Names imported. Here are some:                                                       name  n_publs  \\\n",
      "name                                                                  \n",
      "Camille Desenclos                        Camille Desenclos        1   \n",
      "G. Galvin                                        G. Galvin        1   \n",
      "Zhihong He                                      Zhihong He        7   \n",
      "Selvaggia Cognetti De Martis  Selvaggia Cognetti De Martis        1   \n",
      "Heng Zhang 0002                            Heng Zhang 0002        7   \n",
      "\n",
      "                             likely_gender  score likely_gender_2  score_2  \\\n",
      "name                                                                         \n",
      "Camille Desenclos                   female      2          female     14.0   \n",
      "G. Galvin                             male      1            male      2.0   \n",
      "Zhihong He                            male      2            male      5.0   \n",
      "Selvaggia Cognetti De Martis        female      3          female     20.0   \n",
      "Heng Zhang 0002                       male      2            male     20.0   \n",
      "\n",
      "                             gender_dif  score_dif  \n",
      "name                                                \n",
      "Camille Desenclos                 False       12.0  \n",
      "G. Galvin                         False        1.0  \n",
      "Zhihong He                        False        3.0  \n",
      "Selvaggia Cognetti De Martis      False       17.0  \n",
      "Heng Zhang 0002                   False       18.0  \n"
     ]
    }
   ],
   "source": [
    "# >>> Import the categorized names\n",
    "import pandas\n",
    "\n",
    "print(\"Importing categorized names... \")\n",
    "names = pandas.read_csv(\"data/names_improved_test_{}.csv\".format(score), usecols=[\"name\", \"n_publs\", \"likely_gender\", \"score\", \"likely_gender_2\", \"score_2\", \"gender_dif\", \"score_dif\"])\n",
    "# Setting index & accessing cells: https://pythonhow.com/accessing-dataframe-columns-rows-and-cells/\n",
    "names = names.set_index(\"name\", drop = False)\n",
    "print(\"Names imported. Here are some: {}\".format(names[:5]))"
   ]
  },
  {
   "cell_type": "code",
   "execution_count": 4,
   "metadata": {},
   "outputs": [
    {
     "data": {
      "text/html": [
       "<div>\n",
       "<style scoped>\n",
       "    .dataframe tbody tr th:only-of-type {\n",
       "        vertical-align: middle;\n",
       "    }\n",
       "\n",
       "    .dataframe tbody tr th {\n",
       "        vertical-align: top;\n",
       "    }\n",
       "\n",
       "    .dataframe thead th {\n",
       "        text-align: right;\n",
       "    }\n",
       "</style>\n",
       "<table border=\"1\" class=\"dataframe\">\n",
       "  <thead>\n",
       "    <tr style=\"text-align: right;\">\n",
       "      <th></th>\n",
       "      <th>n_publs</th>\n",
       "      <th>score</th>\n",
       "      <th>score_2</th>\n",
       "      <th>score_dif</th>\n",
       "    </tr>\n",
       "  </thead>\n",
       "  <tbody>\n",
       "    <tr>\n",
       "      <th>count</th>\n",
       "      <td>1000.000000</td>\n",
       "      <td>1000.000000</td>\n",
       "      <td>999.000000</td>\n",
       "      <td>999.000000</td>\n",
       "    </tr>\n",
       "    <tr>\n",
       "      <th>mean</th>\n",
       "      <td>5.086000</td>\n",
       "      <td>1.691000</td>\n",
       "      <td>10.908909</td>\n",
       "      <td>9.218218</td>\n",
       "    </tr>\n",
       "    <tr>\n",
       "      <th>std</th>\n",
       "      <td>12.988275</td>\n",
       "      <td>1.058603</td>\n",
       "      <td>7.110121</td>\n",
       "      <td>6.647617</td>\n",
       "    </tr>\n",
       "    <tr>\n",
       "      <th>min</th>\n",
       "      <td>1.000000</td>\n",
       "      <td>0.000000</td>\n",
       "      <td>0.000000</td>\n",
       "      <td>-3.000000</td>\n",
       "    </tr>\n",
       "    <tr>\n",
       "      <th>25%</th>\n",
       "      <td>1.000000</td>\n",
       "      <td>1.000000</td>\n",
       "      <td>5.000000</td>\n",
       "      <td>4.000000</td>\n",
       "    </tr>\n",
       "    <tr>\n",
       "      <th>50%</th>\n",
       "      <td>1.000000</td>\n",
       "      <td>2.000000</td>\n",
       "      <td>10.000000</td>\n",
       "      <td>8.000000</td>\n",
       "    </tr>\n",
       "    <tr>\n",
       "      <th>75%</th>\n",
       "      <td>4.000000</td>\n",
       "      <td>3.000000</td>\n",
       "      <td>16.000000</td>\n",
       "      <td>14.000000</td>\n",
       "    </tr>\n",
       "    <tr>\n",
       "      <th>max</th>\n",
       "      <td>203.000000</td>\n",
       "      <td>3.000000</td>\n",
       "      <td>54.000000</td>\n",
       "      <td>51.000000</td>\n",
       "    </tr>\n",
       "  </tbody>\n",
       "</table>\n",
       "</div>"
      ],
      "text/plain": [
       "           n_publs        score     score_2   score_dif\n",
       "count  1000.000000  1000.000000  999.000000  999.000000\n",
       "mean      5.086000     1.691000   10.908909    9.218218\n",
       "std      12.988275     1.058603    7.110121    6.647617\n",
       "min       1.000000     0.000000    0.000000   -3.000000\n",
       "25%       1.000000     1.000000    5.000000    4.000000\n",
       "50%       1.000000     2.000000   10.000000    8.000000\n",
       "75%       4.000000     3.000000   16.000000   14.000000\n",
       "max     203.000000     3.000000   54.000000   51.000000"
      ]
     },
     "execution_count": 4,
     "metadata": {},
     "output_type": "execute_result"
    }
   ],
   "source": [
    "# >>> Retrieve information about our data\n",
    "names.describe()"
   ]
  },
  {
   "cell_type": "code",
   "execution_count": 9,
   "metadata": {},
   "outputs": [
    {
     "data": {
      "text/plain": [
       "Text(0.5, 1.0, 'Histogram of Score (normed)')"
      ]
     },
     "execution_count": 9,
     "metadata": {},
     "output_type": "execute_result"
    },
    {
     "data": {
      "image/png": "[encoded data removed]",
      "text/plain": [
       "<Figure size 432x288 with 1 Axes>"
      ]
     },
     "metadata": {
      "needs_background": "light"
     },
     "output_type": "display_data"
    }
   ],
   "source": [
    "bins_m = names[names[\"likely_gender\"]==\"male\"][\"score\"].max() / 1\n",
    "bins_m = int(round(bins_m))\n",
    "\n",
    "bins_f = names[names[\"likely_gender\"]==\"female\"][\"score\"].max() / 1\n",
    "bins_f = int(round(bins_f))\n",
    "    \n",
    "names[names[\"likely_gender\"]==\"male\"][\"score\"].hist(alpha=0.5, density=True, color=\"xkcd:grey\", label=\"categorized as male\", bins=bins_m)\n",
    "names[names[\"likely_gender\"]==\"female\"][\"score\"].hist(alpha=0.3, density=True, color=\"xkcd:black\", label=\"categorized as female\", bins=bins_f)\n",
    "\n",
    "plt.xlabel(\"Score\")\n",
    "plt.ylabel(\"Names with this score\")\n",
    "plt.legend()\n",
    "plt.title(\"Histogram of Score (normed)\")"
   ]
  },
  {
   "cell_type": "code",
   "execution_count": 10,
   "metadata": {},
   "outputs": [
    {
     "data": {
      "text/plain": [
       "Text(0.5, 1.0, 'Histogram of Improved Scores (normed)')"
      ]
     },
     "execution_count": 10,
     "metadata": {},
     "output_type": "execute_result"
    },
    {
     "data": {
      "image/png": "[encoded data removed]",
      "text/plain": [
       "<Figure size 432x288 with 1 Axes>"
      ]
     },
     "metadata": {
      "needs_background": "light"
     },
     "output_type": "display_data"
    }
   ],
   "source": [
    "bins_m = names[names[\"likely_gender\"]==\"male\"][\"score_2\"].max() / 1\n",
    "bins_m = int(round(bins_m))\n",
    "\n",
    "bins_f = names[names[\"likely_gender\"]==\"female\"][\"score_2\"].max() / 1\n",
    "bins_f = int(round(bins_f))\n",
    "    \n",
    "names[names[\"likely_gender\"]==\"male\"][\"score_2\"].hist(alpha=0.5, density=True, color=\"xkcd:grey\", label=\"categorized as male\", bins=bins_m)\n",
    "names[names[\"likely_gender\"]==\"female\"][\"score_2\"].hist(alpha=0.3, density=True, color=\"xkcd:black\", label=\"categorized as female\", bins=bins_f)\n",
    "\n",
    "plt.xlabel(\"Score\")\n",
    "plt.ylabel(\"Names with this score\")\n",
    "plt.legend()\n",
    "plt.title(\"Histogram of Improved Scores (normed)\")"
   ]
  },
  {
   "cell_type": "code",
   "execution_count": 6,
   "metadata": {},
   "outputs": [
    {
     "ename": "NameError",
     "evalue": "name 'plt' is not defined",
     "output_type": "error",
     "traceback": [
      "\u001b[1;31m---------------------------------------------------------------------------\u001b[0m",
      "\u001b[1;31mNameError\u001b[0m                                 Traceback (most recent call last)",
      "\u001b[1;32m<ipython-input-6-69344bcc3490>\u001b[0m in \u001b[0;36m<module>\u001b[1;34m\u001b[0m\n\u001b[0;32m      8\u001b[0m \u001b[0mnames\u001b[0m\u001b[1;33m[\u001b[0m\u001b[0mnames\u001b[0m\u001b[1;33m[\u001b[0m\u001b[1;34m\"likely_gender\"\u001b[0m\u001b[1;33m]\u001b[0m\u001b[1;33m==\u001b[0m\u001b[1;34m\"female\"\u001b[0m\u001b[1;33m]\u001b[0m\u001b[1;33m[\u001b[0m\u001b[1;34m\"score_dif\"\u001b[0m\u001b[1;33m]\u001b[0m\u001b[1;33m.\u001b[0m\u001b[0mhist\u001b[0m\u001b[1;33m(\u001b[0m\u001b[0malpha\u001b[0m\u001b[1;33m=\u001b[0m\u001b[1;36m0.3\u001b[0m\u001b[1;33m,\u001b[0m \u001b[0mdensity\u001b[0m\u001b[1;33m=\u001b[0m\u001b[1;32mTrue\u001b[0m\u001b[1;33m,\u001b[0m \u001b[0mcolor\u001b[0m\u001b[1;33m=\u001b[0m\u001b[1;34m\"xkcd:black\"\u001b[0m\u001b[1;33m,\u001b[0m \u001b[0mlabel\u001b[0m\u001b[1;33m=\u001b[0m\u001b[1;34m\"categorized as female\"\u001b[0m\u001b[1;33m,\u001b[0m \u001b[0mbins\u001b[0m\u001b[1;33m=\u001b[0m\u001b[0mbins_f\u001b[0m\u001b[1;33m)\u001b[0m\u001b[1;33m\u001b[0m\u001b[1;33m\u001b[0m\u001b[0m\n\u001b[0;32m      9\u001b[0m \u001b[1;33m\u001b[0m\u001b[0m\n\u001b[1;32m---> 10\u001b[1;33m \u001b[0mplt\u001b[0m\u001b[1;33m.\u001b[0m\u001b[0mxlabel\u001b[0m\u001b[1;33m(\u001b[0m\u001b[1;34m\"Score Change\"\u001b[0m\u001b[1;33m)\u001b[0m\u001b[1;33m\u001b[0m\u001b[1;33m\u001b[0m\u001b[0m\n\u001b[0m\u001b[0;32m     11\u001b[0m \u001b[0mplt\u001b[0m\u001b[1;33m.\u001b[0m\u001b[0mylabel\u001b[0m\u001b[1;33m(\u001b[0m\u001b[1;34m\"Names with this change of score\"\u001b[0m\u001b[1;33m)\u001b[0m\u001b[1;33m\u001b[0m\u001b[1;33m\u001b[0m\u001b[0m\n\u001b[0;32m     12\u001b[0m \u001b[0mplt\u001b[0m\u001b[1;33m.\u001b[0m\u001b[0mlegend\u001b[0m\u001b[1;33m(\u001b[0m\u001b[1;33m)\u001b[0m\u001b[1;33m\u001b[0m\u001b[1;33m\u001b[0m\u001b[0m\n",
      "\u001b[1;31mNameError\u001b[0m: name 'plt' is not defined"
     ]
    },
    {
     "data": {
      "image/png": "[encoded data removed]",
      "text/plain": [
       "<Figure size 432x288 with 1 Axes>"
      ]
     },
     "metadata": {
      "needs_background": "light"
     },
     "output_type": "display_data"
    }
   ],
   "source": [
    "bins_m = names[names[\"likely_gender\"]==\"male\"][\"score_dif\"].max() / 1\n",
    "bins_m = int(round(bins_m))\n",
    "\n",
    "bins_f = names[names[\"likely_gender\"]==\"female\"][\"score_dif\"].max() / 1\n",
    "bins_f = int(round(bins_f))\n",
    "    \n",
    "names[names[\"likely_gender\"]==\"male\"][\"score_dif\"].hist(alpha=0.5, density=True, color=\"xkcd:grey\", label=\"categorized as male\", bins=bins_m)\n",
    "names[names[\"likely_gender\"]==\"female\"][\"score_dif\"].hist(alpha=0.3, density=True, color=\"xkcd:black\", label=\"categorized as female\", bins=bins_f)\n",
    "\n",
    "plt.xlabel(\"Score Change\")\n",
    "plt.ylabel(\"Names with this change of score\")\n",
    "plt.legend()\n",
    "plt.title(\"Histogram of by how much the score was changed per gender (normed)\")"
   ]
  },
  {
   "cell_type": "code",
   "execution_count": null,
   "metadata": {},
   "outputs": [],
   "source": [
    "''' Score <= 8\n",
    "        n_publs \tscore \t    score_2 \tscore_dif\n",
    "count \t1000.   \t1000.   \t999.    \t999.000000\n",
    "mean \t6.180000 \t3.77100 \t3.725726 \t-0.048048\n",
    "std \t20.578559 \t2.42331 \t2.141032 \t1.381126\n",
    "min \t1.000000 \t0.00000 \t0.000000 \t-5.000000\n",
    "25% \t1.000000 \t2.00000 \t2.000000 \t-1.000000\n",
    "50% \t1.000000 \t4.00000 \t4.000000 \t0.000000\n",
    "75% \t4.000000 \t6.00000 \t5.000000 \t1.000000\n",
    "max \t323.000000 \t8.00000 \t10.000000 \t5.000000\n",
    "'''\n",
    "''' Score 3\n",
    "        n_publs \tscore   \tscore_2 \tscore_dif\n",
    "count \t1000.00 \t1000.000 \t997.0000 \t997.000000\n",
    "mean \t5.613000 \t1.633000 \t2.108325 \t0.475426\n",
    "std \t22.792734 \t1.060866 \t1.443133 \t1.290469\n",
    "min \t1.000000 \t0.000000 \t0.000000 \t-3.000000\n",
    "25% \t1.000000 \t1.000000 \t1.000000 \t0.000000\n",
    "50% \t1.000000 \t2.000000 \t2.000000 \t0.000000\n",
    "75% \t3.000000 \t3.000000 \t3.000000 \t1.000000\n",
    "max \t449.000000 \t3.000000 \t9.000000 \t8.000000\n",
    "'''"
   ]
  },
  {
   "cell_type": "code",
   "execution_count": null,
   "metadata": {},
   "outputs": [],
   "source": [
    "# For which names did the score improve?\n",
    "score_improved = names[names['score_dif'] > 0]\n",
    "score_improved.describe()"
   ]
  },
  {
   "cell_type": "code",
   "execution_count": null,
   "metadata": {},
   "outputs": [],
   "source": [
    "'''\n",
    "Score <= 8\n",
    "        n_publs \tscore \t    score_2 \tscore_dif\n",
    "count \t662.000000 \t662.0000 \t662.0000 \t662.000000\n",
    "mean \t6.500000 \t3.069486 \t3.761329 \t0.691843\n",
    "std \t22.157718 \t2.188819 \t2.144652 \t0.958390\n",
    "min \t1.000000 \t0.000000 \t0.000000 \t0.000000\n",
    "25% \t1.000000 \t1.000000 \t2.000000 \t0.000000\n",
    "50% \t1.000000 \t3.000000 \t4.000000 \t0.000000\n",
    "75% \t4.000000 \t5.000000 \t5.000000 \t1.000000\n",
    "max \t323.000000 \t8.000000 \t10.000000 \t5.000000\n",
    "'''\n",
    "''' Score 3\n",
    "\n",
    "        n_publs \tscore \t    score_2 \tscore_dif\n",
    "count \t793.000000 \t793.0000 \t793.0000 \t793.000000\n",
    "mean \t5.300126 \t1.480454 \t2.378310 \t0.897856\n",
    "std \t21.115560 \t1.076580 \t1.455791 \t1.082882\n",
    "min \t1.000000 \t0.000000 \t0.000000 \t0.000000\n",
    "25% \t1.000000 \t1.000000 \t1.000000 \t0.000000\n",
    "50% \t1.000000 \t1.000000 \t2.000000 \t1.000000\n",
    "75% \t3.000000 \t2.000000 \t3.000000 \t1.000000\n",
    "max \t449.000000 \t3.000000 \t9.000000 \t8.000000\n",
    "'''"
   ]
  },
  {
   "cell_type": "code",
   "execution_count": 8,
   "metadata": {},
   "outputs": [
    {
     "name": "stdout",
     "output_type": "stream",
     "text": [
      "For how many names is the score how different now?\n"
     ]
    },
    {
     "data": {
      "text/plain": [
       "<matplotlib.axes._subplots.AxesSubplot at 0x14fb6f914a8>"
      ]
     },
     "execution_count": 8,
     "metadata": {},
     "output_type": "execute_result"
    },
    {
     "data": {
      "image/png": "[encoded data removed]",
      "text/plain": [
       "<Figure size 432x288 with 1 Axes>"
      ]
     },
     "metadata": {
      "needs_background": "light"
     },
     "output_type": "display_data"
    }
   ],
   "source": [
    "# For how many names is the score how different now?\n",
    "import matplotlib.pyplot as plt\n",
    "print(\"For how many names is the score how different now?\")\n",
    "names[\"score_dif\"].hist()"
   ]
  },
  {
   "cell_type": "code",
   "execution_count": null,
   "metadata": {},
   "outputs": [],
   "source": [
    "# For how many names is the score x now?\n",
    "print(\"For how many names is the score x now?\")\n",
    "names[\"score_2\"].hist()"
   ]
  },
  {
   "cell_type": "code",
   "execution_count": null,
   "metadata": {},
   "outputs": [],
   "source": [
    "print(\"How was the score originally?\")\n",
    "names[\"score\"].hist()"
   ]
  },
  {
   "cell_type": "code",
   "execution_count": null,
   "metadata": {},
   "outputs": [],
   "source": [
    "# For which names did the gender change and the result is probably better?"
   ]
  },
  {
   "cell_type": "code",
   "execution_count": null,
   "metadata": {},
   "outputs": [],
   "source": [
    "gender_changed = names[names['gender_dif'] == True]"
   ]
  },
  {
   "cell_type": "code",
   "execution_count": null,
   "metadata": {},
   "outputs": [],
   "source": [
    "gender_changed.describe()"
   ]
  },
  {
   "cell_type": "code",
   "execution_count": null,
   "metadata": {},
   "outputs": [],
   "source": [
    "''' Score <= 8\n",
    "        n_publs \tscore \t    score_2 \tscore_dif\n",
    "count \t55.000000 \t55.000000 \t55.000000 \t55.000000\n",
    "mean \t6.654545 \t0.818182 \t1.000000 \t0.181818\n",
    "std \t19.292311 \t1.388990 \t1.122167 \t1.415403\n",
    "min \t1.000000 \t0.000000 \t0.000000 \t-5.000000\n",
    "25% \t1.000000 \t0.000000 \t0.000000 \t0.000000\n",
    "50% \t1.000000 \t0.000000 \t1.000000 \t0.000000\n",
    "75% \t3.000000 \t1.000000 \t1.000000 \t1.000000\n",
    "max \t128.000000 \t7.000000 \t6.000000 \t3.000000\n",
    "'''\n",
    "''' Score 3\n",
    "        n_publs \tscore    \tscore_2 \tscore_dif\n",
    "count \t95.000000 \t95.000000 \t95.00000 \t95.000000\n",
    "mean \t4.052632 \t0.547368 \t1.326316 \t0.778947\n",
    "std \t11.133970 \t0.740449 \t1.870499 \t1.811188\n",
    "min \t1.000000 \t0.000000 \t0.000000 \t-3.000000\n",
    "25% \t1.000000 \t0.000000 \t0.000000 \t0.000000\n",
    "50% \t1.000000 \t0.000000 \t1.000000 \t0.000000\n",
    "75% \t3.000000 \t1.000000 \t1.500000 \t1.000000\n",
    "max \t106.000000 \t3.000000 \t8.000000 \t7.000000\n",
    "'''"
   ]
  },
  {
   "cell_type": "code",
   "execution_count": null,
   "metadata": {},
   "outputs": [],
   "source": [
    "print(\"Now that many (y) names of these scores (x) have a different gender\")\n",
    "gender_changed['score'].hist()"
   ]
  },
  {
   "cell_type": "code",
   "execution_count": null,
   "metadata": {},
   "outputs": [],
   "source": [
    "print(\"Now that many (y) names of these new scores (x) have a different gender\")\n",
    "gender_changed['score_2'].hist()"
   ]
  },
  {
   "cell_type": "code",
   "execution_count": null,
   "metadata": {},
   "outputs": [],
   "source": [
    "print(\"Now that many (y) names of these score differences (x) have a different gender\")\n",
    "gender_changed['score_dif'].hist()"
   ]
  },
  {
   "cell_type": "code",
   "execution_count": null,
   "metadata": {},
   "outputs": [],
   "source": [
    "gender_changed_more_certain = gender_changed[gender_changed['score_dif'] > 0]"
   ]
  },
  {
   "cell_type": "code",
   "execution_count": null,
   "metadata": {},
   "outputs": [],
   "source": [
    "gender_changed_more_certain.describe()"
   ]
  },
  {
   "cell_type": "code",
   "execution_count": null,
   "metadata": {},
   "outputs": [],
   "source": [
    "''' Score <= 8\n",
    "        n_publs \tscore \t    score_2 \tscore_dif\n",
    "count \t43.000000 \t43.000000 \t43.000000 \t43.000000\n",
    "mean \t5.093023 \t0.325581 \t1.069767 \t0.744186\n",
    "std \t10.888644 \t0.680369 \t1.203078 \t0.847771\n",
    "min \t1.000000 \t0.000000 \t0.000000 \t0.000000\n",
    "25% \t1.000000 \t0.000000 \t0.000000 \t0.000000\n",
    "50% \t1.000000 \t0.000000 \t1.000000 \t1.000000\n",
    "75% \t3.500000 \t0.000000 \t1.000000 \t1.000000\n",
    "max \t59.000000 \t3.000000 \t6.000000 \t3.000000\n",
    "'''\n",
    "''' Score 3\n",
    "\n",
    "        n_publs \tscore   \tscore_2 \tscore_dif\n",
    "count \t77.000000 \t77.000000 \t77.000000 \t77.000000\n",
    "mean \t4.000000 \t0.350649 \t1.597403 \t1.246753\n",
    "std \t12.178497 \t0.601888 \t1.975240 \t1.679253\n",
    "min \t1.000000 \t0.000000 \t0.000000 \t0.000000\n",
    "25% \t1.000000 \t0.000000 \t0.000000 \t0.000000\n",
    "50% \t1.000000 \t0.000000 \t1.000000 \t1.000000\n",
    "75% \t3.000000 \t1.000000 \t2.000000 \t2.000000\n",
    "max \t106.000000 \t2.000000 \t8.000000 \t7.000000\n",
    "'''"
   ]
  },
  {
   "cell_type": "code",
   "execution_count": null,
   "metadata": {},
   "outputs": [],
   "source": [
    "print(\"Now that many (y) names of these scores (x) have certainly a different gender\")\n",
    "gender_changed_more_certain['score'].hist()"
   ]
  },
  {
   "cell_type": "code",
   "execution_count": null,
   "metadata": {},
   "outputs": [],
   "source": [
    "print(\"Now that many (y) names of these new scores (x) have certainly a different gender\")\n",
    "gender_changed_more_certain['score_2'].hist()"
   ]
  },
  {
   "cell_type": "code",
   "execution_count": null,
   "metadata": {},
   "outputs": [],
   "source": [
    "print(\"Now that many (y) names of these score difs (x) have certainly a different gender\")\n",
    "gender_changed_more_certain['score_dif'].hist()"
   ]
  },
  {
   "cell_type": "code",
   "execution_count": null,
   "metadata": {},
   "outputs": [],
   "source": [
    "# Score <= 3:\n",
    "# The gender assumption changed for only 100 of 1000 entries \n",
    "# (assuming the gender change is valid if the new score is higher than the old score, which is the case in 44 cases)\n",
    "\n",
    "# The score improves on average by 0.48 with a std of 1.21. \n",
    "# The mean improvement is 0, the 25% quartile is 0, the 75% quartile is 1.\n",
    "# The score is at maximum improved by 7 and in the worst case decreased by 2.\n",
    "\n",
    "# Score <= 8:\n",
    "# Score dif is negative on average!\n",
    "# 55 gender changes, only 23 valid\n",
    "# Score improved in only 302 cases"
   ]
  }
 ],
 "metadata": {
  "kernelspec": {
   "display_name": "Python 3",
   "language": "python",
   "name": "python3"
  },
  "language_info": {
   "codemirror_mode": {
    "name": "ipython",
    "version": 3
   },
   "file_extension": ".py",
   "mimetype": "text/x-python",
   "name": "python",
   "nbconvert_exporter": "python",
   "pygments_lexer": "ipython3",
   "version": "3.7.1"
  }
 },
 "nbformat": 4,
 "nbformat_minor": 2
}
