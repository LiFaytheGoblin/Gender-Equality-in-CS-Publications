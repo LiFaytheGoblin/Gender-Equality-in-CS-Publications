{
 "cells": [
  {
   "cell_type": "code",
   "execution_count": null,
   "metadata": {},
   "outputs": [],
   "source": [
    "# 5. STEP A: IMPROVE DATA\n",
    "# TEST 1: Test if API that takes first and last name is better than API that takes full name\n",
    "# In the last step we found out that there are many names with a fairly low score (5 or under)\n",
    "# Here we are going to test what could help to improve scores."
   ]
  },
  {
   "cell_type": "code",
   "execution_count": 1,
   "metadata": {},
   "outputs": [
    {
     "name": "stdout",
     "output_type": "stream",
     "text": [
      "Importing categorized names... \n",
      "Names imported. Here are some:                                         name  n_publs likely_gender  score\n",
      "name                                                                      \n",
      "'Maseka Lesaoana            'Maseka Lesaoana        2        female      8\n",
      "(David) Jing Dai            (David) Jing Dai        1          male      7\n",
      "(Max) Zong-Ming Cheng  (Max) Zong-Ming Cheng        2          male      2\n",
      "(Sophy) Shu-Jiun Chen  (Sophy) Shu-Jiun Chen        2        female      7\n",
      "(Zhou) Bryan Bai            (Zhou) Bryan Bai        2          male      6\n",
      "A Clara Kanmani              A Clara Kanmani        1        female      4\n",
      "A Lun                                  A Lun        1          male      1\n",
      "A Min Tjoa                        A Min Tjoa      211          male      2\n",
      "A S Akshaya                      A S Akshaya        1          male      2\n",
      "A'ang Subiyakto              A'ang Subiyakto        2        female      0\n"
     ]
    }
   ],
   "source": [
    "# >>> Import the categorized names\n",
    "import pandas\n",
    "\n",
    "print(\"Importing categorized names... \")\n",
    "names = pandas.read_csv(\"data/names_cat.csv\", usecols=[\"name\", \"n_publs\", \"likely_gender\", \"score\"])\n",
    "# Setting index & accessing cells: https://pythonhow.com/accessing-dataframe-columns-rows-and-cells/\n",
    "names = names.set_index(\"name\", drop = False)\n",
    "print(\"Names imported. Here are some: {}\".format(names[:10]))"
   ]
  },
  {
   "cell_type": "code",
   "execution_count": 2,
   "metadata": {},
   "outputs": [
    {
     "data": {
      "text/html": [
       "<div>\n",
       "<style scoped>\n",
       "    .dataframe tbody tr th:only-of-type {\n",
       "        vertical-align: middle;\n",
       "    }\n",
       "\n",
       "    .dataframe tbody tr th {\n",
       "        vertical-align: top;\n",
       "    }\n",
       "\n",
       "    .dataframe thead th {\n",
       "        text-align: right;\n",
       "    }\n",
       "</style>\n",
       "<table border=\"1\" class=\"dataframe\">\n",
       "  <thead>\n",
       "    <tr style=\"text-align: right;\">\n",
       "      <th></th>\n",
       "      <th>n_publs</th>\n",
       "      <th>score</th>\n",
       "    </tr>\n",
       "  </thead>\n",
       "  <tbody>\n",
       "    <tr>\n",
       "      <th>count</th>\n",
       "      <td>2.306418e+06</td>\n",
       "      <td>2.306418e+06</td>\n",
       "    </tr>\n",
       "    <tr>\n",
       "      <th>mean</th>\n",
       "      <td>5.789820e+00</td>\n",
       "      <td>4.963300e+00</td>\n",
       "    </tr>\n",
       "    <tr>\n",
       "      <th>std</th>\n",
       "      <td>1.827144e+01</td>\n",
       "      <td>3.506927e+00</td>\n",
       "    </tr>\n",
       "    <tr>\n",
       "      <th>min</th>\n",
       "      <td>1.000000e+00</td>\n",
       "      <td>0.000000e+00</td>\n",
       "    </tr>\n",
       "    <tr>\n",
       "      <th>25%</th>\n",
       "      <td>1.000000e+00</td>\n",
       "      <td>2.000000e+00</td>\n",
       "    </tr>\n",
       "    <tr>\n",
       "      <th>50%</th>\n",
       "      <td>2.000000e+00</td>\n",
       "      <td>4.000000e+00</td>\n",
       "    </tr>\n",
       "    <tr>\n",
       "      <th>75%</th>\n",
       "      <td>4.000000e+00</td>\n",
       "      <td>7.000000e+00</td>\n",
       "    </tr>\n",
       "    <tr>\n",
       "      <th>max</th>\n",
       "      <td>1.694000e+03</td>\n",
       "      <td>3.300000e+01</td>\n",
       "    </tr>\n",
       "  </tbody>\n",
       "</table>\n",
       "</div>"
      ],
      "text/plain": [
       "            n_publs         score\n",
       "count  2.306418e+06  2.306418e+06\n",
       "mean   5.789820e+00  4.963300e+00\n",
       "std    1.827144e+01  3.506927e+00\n",
       "min    1.000000e+00  0.000000e+00\n",
       "25%    1.000000e+00  2.000000e+00\n",
       "50%    2.000000e+00  4.000000e+00\n",
       "75%    4.000000e+00  7.000000e+00\n",
       "max    1.694000e+03  3.300000e+01"
      ]
     },
     "execution_count": 2,
     "metadata": {},
     "output_type": "execute_result"
    }
   ],
   "source": [
    "names.describe()"
   ]
  },
  {
   "cell_type": "code",
   "execution_count": null,
   "metadata": {},
   "outputs": [],
   "source": [
    "'''\n",
    "        n_publs \tscore\n",
    "count \t2.306418e+06 \t2.306418e+06\n",
    "mean \t5.789820e+00 \t4.963300e+00\n",
    "std \t1.827144e+01 \t3.506927e+00\n",
    "min \t1.000000e+00 \t0.000000e+00\n",
    "25% \t1.000000e+00 \t2.000000e+00\n",
    "50% \t2.000000e+00 \t4.000000e+00\n",
    "75% \t4.000000e+00 \t7.000000e+00\n",
    "max \t1.694000e+03 \t3.300000e+01\n",
    "'''"
   ]
  },
  {
   "cell_type": "code",
   "execution_count": null,
   "metadata": {},
   "outputs": [],
   "source": [
    "# >>>  Prepare Test names "
   ]
  },
  {
   "cell_type": "code",
   "execution_count": 3,
   "metadata": {},
   "outputs": [],
   "source": [
    "# Für eine Population n = 2306418 wird für Konfidenzniveau 99% und Fehlerspanne 4%\n",
    "# Eine Testpopulation von 1040 benötigt (laut Surveymonkey: https://www.surveymonkey.de/mp/sample-size-calculator/)\n",
    "# Es wird der Einfachheit halber eine Testgröße von 1000 benutzt und eine etwas größere Fehlerspanne angenommen.\n",
    "def chose_names_with_score(n):\n",
    "    \"This function choses a test sample of names\"\n",
    "    return names[names['score'] <= n].sample(1000)"
   ]
  },
  {
   "cell_type": "code",
   "execution_count": 4,
   "metadata": {},
   "outputs": [],
   "source": [
    "import re\n",
    "\n",
    "def clean(x):\n",
    "    \"This function cleans up a string\"\n",
    "    # Strip numbers from a string: https://stackoverflow.com/questions/16849109/strip-out-numbers-from-a-string\n",
    "    # Remove white space at end from string: https://stackoverflow.com/questions/2372573/how-do-i-remove-whitespace-from-the-end-of-a-string-in-python\n",
    "\n",
    "    return pandas.Series([x, re.sub(r'\\d+','',x).rstrip()], index=['name', 'clean_name'])"
   ]
  },
  {
   "cell_type": "code",
   "execution_count": 5,
   "metadata": {},
   "outputs": [],
   "source": [
    "def clean_names(names):\n",
    "    \"This function cleans up multiple names\"\n",
    "    \n",
    "    cleaned_names = names['name'].apply(clean)\n",
    "    cleaned_names = cleaned_names.set_index('name')\n",
    "\n",
    "    return names.merge(cleaned_names, how='left', left_index=True, right_index=True)"
   ]
  },
  {
   "cell_type": "code",
   "execution_count": 6,
   "metadata": {},
   "outputs": [
    {
     "name": "stdout",
     "output_type": "stream",
     "text": [
      "Will be parsing and reconsidering 1000 names.\n",
      "Cleaned names. Here are some:                                                       name  n_publs  \\\n",
      "name                                                                  \n",
      "Camille Desenclos                        Camille Desenclos        1   \n",
      "G. Galvin                                        G. Galvin        1   \n",
      "Zhihong He                                      Zhihong He        7   \n",
      "Selvaggia Cognetti De Martis  Selvaggia Cognetti De Martis        1   \n",
      "Heng Zhang 0002                            Heng Zhang 0002        7   \n",
      "\n",
      "                             likely_gender  score  \\\n",
      "name                                                \n",
      "Camille Desenclos                   female      2   \n",
      "G. Galvin                             male      1   \n",
      "Zhihong He                            male      2   \n",
      "Selvaggia Cognetti De Martis        female      3   \n",
      "Heng Zhang 0002                       male      2   \n",
      "\n",
      "                                                clean_name  \n",
      "name                                                        \n",
      "Camille Desenclos                        Camille Desenclos  \n",
      "G. Galvin                                        G. Galvin  \n",
      "Zhihong He                                      Zhihong He  \n",
      "Selvaggia Cognetti De Martis  Selvaggia Cognetti De Martis  \n",
      "Heng Zhang 0002                                 Heng Zhang  \n"
     ]
    }
   ],
   "source": [
    "score = 3 # Try this test with different scores!\n",
    "\n",
    "# Chose names\n",
    "names_to_consider = chose_names_with_score(score)\n",
    "print(\"Will be parsing and reconsidering {} names.\".format(len(names_to_consider)))\n",
    "\n",
    "names_to_consider = clean_names(names_to_consider)\n",
    "print(\"Cleaned names. Here are some: {}\".format(names_to_consider[:5]))"
   ]
  },
  {
   "cell_type": "code",
   "execution_count": 7,
   "metadata": {},
   "outputs": [
    {
     "data": {
      "text/html": [
       "<div>\n",
       "<style scoped>\n",
       "    .dataframe tbody tr th:only-of-type {\n",
       "        vertical-align: middle;\n",
       "    }\n",
       "\n",
       "    .dataframe tbody tr th {\n",
       "        vertical-align: top;\n",
       "    }\n",
       "\n",
       "    .dataframe thead th {\n",
       "        text-align: right;\n",
       "    }\n",
       "</style>\n",
       "<table border=\"1\" class=\"dataframe\">\n",
       "  <thead>\n",
       "    <tr style=\"text-align: right;\">\n",
       "      <th></th>\n",
       "      <th>n_publs</th>\n",
       "      <th>score</th>\n",
       "    </tr>\n",
       "  </thead>\n",
       "  <tbody>\n",
       "    <tr>\n",
       "      <th>count</th>\n",
       "      <td>946463.000000</td>\n",
       "      <td>946463.000000</td>\n",
       "    </tr>\n",
       "    <tr>\n",
       "      <th>mean</th>\n",
       "      <td>5.138557</td>\n",
       "      <td>1.700917</td>\n",
       "    </tr>\n",
       "    <tr>\n",
       "      <th>std</th>\n",
       "      <td>17.444404</td>\n",
       "      <td>1.059467</td>\n",
       "    </tr>\n",
       "    <tr>\n",
       "      <th>min</th>\n",
       "      <td>1.000000</td>\n",
       "      <td>0.000000</td>\n",
       "    </tr>\n",
       "    <tr>\n",
       "      <th>25%</th>\n",
       "      <td>1.000000</td>\n",
       "      <td>1.000000</td>\n",
       "    </tr>\n",
       "    <tr>\n",
       "      <th>50%</th>\n",
       "      <td>1.000000</td>\n",
       "      <td>2.000000</td>\n",
       "    </tr>\n",
       "    <tr>\n",
       "      <th>75%</th>\n",
       "      <td>3.000000</td>\n",
       "      <td>3.000000</td>\n",
       "    </tr>\n",
       "    <tr>\n",
       "      <th>max</th>\n",
       "      <td>1174.000000</td>\n",
       "      <td>3.000000</td>\n",
       "    </tr>\n",
       "  </tbody>\n",
       "</table>\n",
       "</div>"
      ],
      "text/plain": [
       "             n_publs          score\n",
       "count  946463.000000  946463.000000\n",
       "mean        5.138557       1.700917\n",
       "std        17.444404       1.059467\n",
       "min         1.000000       0.000000\n",
       "25%         1.000000       1.000000\n",
       "50%         1.000000       2.000000\n",
       "75%         3.000000       3.000000\n",
       "max      1174.000000       3.000000"
      ]
     },
     "execution_count": 7,
     "metadata": {},
     "output_type": "execute_result"
    }
   ],
   "source": [
    "names[names['score'] <= score].describe()"
   ]
  },
  {
   "cell_type": "code",
   "execution_count": 8,
   "metadata": {},
   "outputs": [
    {
     "data": {
      "text/plain": [
       "' Score 3\\ncount \\t946463.00 \\t946463.000000\\nmean \\t5.138557 \\t1.700917\\nstd \\t17.444404 \\t1.059467\\nmin \\t1.000000 \\t0.000000\\n25% \\t1.000000 \\t1.000000\\n50% \\t1.000000 \\t2.000000\\n75% \\t3.000000 \\t3.000000\\nmax \\t1174.000 \\t3.000000\\n'"
      ]
     },
     "execution_count": 8,
     "metadata": {},
     "output_type": "execute_result"
    }
   ],
   "source": [
    "''' Score 3\n",
    "count \t946463.00 \t946463.000000\n",
    "mean \t5.138557 \t1.700917\n",
    "std \t17.444404 \t1.059467\n",
    "min \t1.000000 \t0.000000\n",
    "25% \t1.000000 \t1.000000\n",
    "50% \t1.000000 \t2.000000\n",
    "75% \t3.000000 \t3.000000\n",
    "max \t1174.000 \t3.000000\n",
    "'''"
   ]
  },
  {
   "cell_type": "code",
   "execution_count": 9,
   "metadata": {},
   "outputs": [
    {
     "data": {
      "text/html": [
       "<div>\n",
       "<style scoped>\n",
       "    .dataframe tbody tr th:only-of-type {\n",
       "        vertical-align: middle;\n",
       "    }\n",
       "\n",
       "    .dataframe tbody tr th {\n",
       "        vertical-align: top;\n",
       "    }\n",
       "\n",
       "    .dataframe thead th {\n",
       "        text-align: right;\n",
       "    }\n",
       "</style>\n",
       "<table border=\"1\" class=\"dataframe\">\n",
       "  <thead>\n",
       "    <tr style=\"text-align: right;\">\n",
       "      <th></th>\n",
       "      <th>n_publs</th>\n",
       "      <th>score</th>\n",
       "    </tr>\n",
       "  </thead>\n",
       "  <tbody>\n",
       "    <tr>\n",
       "      <th>count</th>\n",
       "      <td>1000.000000</td>\n",
       "      <td>1000.000000</td>\n",
       "    </tr>\n",
       "    <tr>\n",
       "      <th>mean</th>\n",
       "      <td>5.086000</td>\n",
       "      <td>1.691000</td>\n",
       "    </tr>\n",
       "    <tr>\n",
       "      <th>std</th>\n",
       "      <td>12.988275</td>\n",
       "      <td>1.058603</td>\n",
       "    </tr>\n",
       "    <tr>\n",
       "      <th>min</th>\n",
       "      <td>1.000000</td>\n",
       "      <td>0.000000</td>\n",
       "    </tr>\n",
       "    <tr>\n",
       "      <th>25%</th>\n",
       "      <td>1.000000</td>\n",
       "      <td>1.000000</td>\n",
       "    </tr>\n",
       "    <tr>\n",
       "      <th>50%</th>\n",
       "      <td>1.000000</td>\n",
       "      <td>2.000000</td>\n",
       "    </tr>\n",
       "    <tr>\n",
       "      <th>75%</th>\n",
       "      <td>4.000000</td>\n",
       "      <td>3.000000</td>\n",
       "    </tr>\n",
       "    <tr>\n",
       "      <th>max</th>\n",
       "      <td>203.000000</td>\n",
       "      <td>3.000000</td>\n",
       "    </tr>\n",
       "  </tbody>\n",
       "</table>\n",
       "</div>"
      ],
      "text/plain": [
       "           n_publs        score\n",
       "count  1000.000000  1000.000000\n",
       "mean      5.086000     1.691000\n",
       "std      12.988275     1.058603\n",
       "min       1.000000     0.000000\n",
       "25%       1.000000     1.000000\n",
       "50%       1.000000     2.000000\n",
       "75%       4.000000     3.000000\n",
       "max     203.000000     3.000000"
      ]
     },
     "execution_count": 9,
     "metadata": {},
     "output_type": "execute_result"
    }
   ],
   "source": [
    "names_to_consider.describe()"
   ]
  },
  {
   "cell_type": "code",
   "execution_count": 10,
   "metadata": {},
   "outputs": [
    {
     "data": {
      "text/plain": [
       "' Score 3\\n        n_publs \\tscore\\ncount \\t1000.000 \\t1000.000000\\nmean \\t5.613000 \\t1.633000\\nstd \\t22.792734 \\t1.060866\\nmin \\t1.000000 \\t0.000000\\n25% \\t1.000000 \\t1.000000\\n50% \\t1.000000 \\t2.000000\\n75% \\t3.000000 \\t3.000000\\nmax \\t449.00000 \\t3.000000\\n'"
      ]
     },
     "execution_count": 10,
     "metadata": {},
     "output_type": "execute_result"
    }
   ],
   "source": [
    "''' Score 3\n",
    "        n_publs \tscore\n",
    "count \t1000.000 \t1000.000000\n",
    "mean \t5.613000 \t1.633000\n",
    "std \t22.792734 \t1.060866\n",
    "min \t1.000000 \t0.000000\n",
    "25% \t1.000000 \t1.000000\n",
    "50% \t1.000000 \t2.000000\n",
    "75% \t3.000000 \t3.000000\n",
    "max \t449.00000 \t3.000000\n",
    "'''"
   ]
  },
  {
   "cell_type": "code",
   "execution_count": 11,
   "metadata": {},
   "outputs": [],
   "source": [
    "# Comparing results from describe for names as well as for the names to consider, \n",
    "# we see, that an amount of 1000 test cases\n",
    "# represents the original population very well."
   ]
  },
  {
   "cell_type": "code",
   "execution_count": 12,
   "metadata": {},
   "outputs": [
    {
     "name": "stdout",
     "output_type": "stream",
     "text": [
      "Getting private key... \n",
      "Got private key.\n"
     ]
    }
   ],
   "source": [
    "# >>> Prepare API\n",
    "print(\"Getting private key... \")\n",
    "key = ''\n",
    "\n",
    "with open(\"key.txt\", \"r\") as file:\n",
    "    key = file.read()\n",
    "\n",
    "if(len(key) > 0):\n",
    "    print(\"Got private key.\")\n",
    "else: \n",
    "    print(\"Could not find private key. Please check the file name and make sure you have an API key.\")"
   ]
  },
  {
   "cell_type": "code",
   "execution_count": 13,
   "metadata": {},
   "outputs": [
    {
     "name": "stdout",
     "output_type": "stream",
     "text": [
      "Setting up NamSor API v2 connection settings...\n"
     ]
    }
   ],
   "source": [
    "# Following scripts partly taken from https://github.com/namsor/namsor-python-sdk2 \"Getting Started\" \n",
    "# and adapted to keep key private and remove unnecessary lines.\n",
    "\n",
    "print(\"Setting up NamSor API v2 connection settings...\")\n",
    "\n",
    "import openapi_client\n",
    "from openapi_client.rest import ApiException\n",
    "\n",
    "configuration = openapi_client.Configuration()\n",
    "configuration.api_key['X-API-KEY'] = key\n",
    "\n",
    "pers_api_instance = openapi_client.PersonalApi(openapi_client.ApiClient(configuration))"
   ]
  },
  {
   "cell_type": "code",
   "execution_count": 14,
   "metadata": {},
   "outputs": [],
   "source": [
    "# >>>  Prepare API Calling for Parsing full name into first and last name"
   ]
  },
  {
   "cell_type": "code",
   "execution_count": 15,
   "metadata": {},
   "outputs": [],
   "source": [
    "# Formatting the names using the API's models\n",
    "def format_full_clean_name(name_entry):\n",
    "    \"This function formats a full clean name. It takes a full name and returns a PersonalNameIn\"\n",
    "    return openapi_client.PersonalNameIn(id=name_entry['name'], name=name_entry['clean_name'])"
   ]
  },
  {
   "cell_type": "code",
   "execution_count": 16,
   "metadata": {},
   "outputs": [],
   "source": [
    "def format_full_clean_names(li):\n",
    "    \"This function formats multiple full clean names. It takes a list of unformatted full names and returns a list of formatted full names.\"\n",
    "    return list(map(format_full_clean_name, li))"
   ]
  },
  {
   "cell_type": "code",
   "execution_count": 17,
   "metadata": {},
   "outputs": [],
   "source": [
    "def format_full_name_batch(li):\n",
    "    \"This function formats a batch of formatted full clean names. It takes a list of formatted full names and returns a formatted batch.\"\n",
    "    return openapi_client.BatchPersonalNameIn(personal_names=li)"
   ]
  },
  {
   "cell_type": "code",
   "execution_count": 18,
   "metadata": {},
   "outputs": [],
   "source": [
    "def parsename_batch(batch):\n",
    "    \"This function calls the API. It takes a formatted batch of full names and returns the API response.\"\n",
    "    return pers_api_instance.parse_name_batch(batch_personal_name_in=batch)"
   ]
  },
  {
   "cell_type": "code",
   "execution_count": 19,
   "metadata": {},
   "outputs": [],
   "source": [
    "def call_api_parsename_batch(li):\n",
    "    \"This function prepares a list of unformatted clean names for the API call and then calls the API calling function. It returns the API's name classifications.\"\n",
    "    current_batch = format_full_clean_names(li)  # format the names\n",
    "    batch_personal_name_in = format_full_name_batch(current_batch)# format the batch\n",
    "    api_response =  parsename_batch(batch_personal_name_in)# call api\n",
    "    return api_response.personal_names # return result"
   ]
  },
  {
   "cell_type": "code",
   "execution_count": 20,
   "metadata": {},
   "outputs": [
    {
     "name": "stdout",
     "output_type": "stream",
     "text": [
      "Will need to make 1.0 calls.\n"
     ]
    }
   ],
   "source": [
    "batch_size = 1000 #1000 is the API limit given by NamSor\n",
    "start = 0\n",
    "end = batch_size\n",
    "result = []\n",
    "\n",
    "names_stack = names_to_consider[['name', 'clean_name']].to_dict('records')\n",
    "\n",
    "print('Will need to make {} calls.'.format(len(names_stack) / batch_size))"
   ]
  },
  {
   "cell_type": "code",
   "execution_count": 21,
   "metadata": {},
   "outputs": [],
   "source": [
    "# >>> Call API: Get first and last name of full name\n",
    "# Now parsing the full names into first and last name, sending in\n",
    "# one batch at a time and saving the result answer by answer."
   ]
  },
  {
   "cell_type": "code",
   "execution_count": 22,
   "metadata": {},
   "outputs": [
    {
     "name": "stdout",
     "output_type": "stream",
     "text": [
      "Batch of names analyzed. 0 names left.\n",
      "All batches analyzed.\n"
     ]
    }
   ],
   "source": [
    "while (len(names_stack) >= batch_size):\n",
    "    try:\n",
    "        result = result + call_api_parsename_batch(names_stack[start:end])\n",
    "        del names_stack[start:end]\n",
    "        print(\"Batch of names analyzed. {} names left.\".format(len(names_stack)))\n",
    "        \n",
    "        if(len(names_stack) < batch_size and len(names_stack) > 0):\n",
    "            result = result + call_api_parsename_batch(names_stack)\n",
    "            names_stack = []\n",
    "            print(\"Batch of names analyzed. {} names left.\".format(len(names_stack)))\n",
    "    except ApiException as e:\n",
    "        print(\"Exception when calling PersonalApi: gender_full_batch: {}\".format(e))\n",
    "        if((len(list(names_to_consider.index.values))-len(result)) == len(names_stack)): #check that no names got lost\n",
    "            print(\"No names got lost. Trying again with stack size {}...\".format(len(names_stack)))\n",
    "            continue\n",
    "\n",
    "if(len(names_stack) != 0):\n",
    "    result = result + call_api_parsename_batch(names_stack)\n",
    "    names_stack = []\n",
    "    print(\"Batch of names analyzed. {} names left.\".format(len(names_stack)))\n",
    "\n",
    "print(\"All batches analyzed.\")"
   ]
  },
  {
   "cell_type": "code",
   "execution_count": 23,
   "metadata": {
    "scrolled": false
   },
   "outputs": [
    {
     "name": "stdout",
     "output_type": "stream",
     "text": [
      "Filling the results into the names dataframe...\n",
      "Dataframe completed with API results. Here is a sample:                                                       name  n_publs  \\\n",
      "name                                                                  \n",
      "Camille Desenclos                        Camille Desenclos        1   \n",
      "G. Galvin                                        G. Galvin        1   \n",
      "Zhihong He                                      Zhihong He        7   \n",
      "Selvaggia Cognetti De Martis  Selvaggia Cognetti De Martis        1   \n",
      "Heng Zhang 0002                            Heng Zhang 0002        7   \n",
      "\n",
      "                             likely_gender  score  \\\n",
      "name                                                \n",
      "Camille Desenclos                   female      2   \n",
      "G. Galvin                             male      1   \n",
      "Zhihong He                            male      2   \n",
      "Selvaggia Cognetti De Martis        female      3   \n",
      "Heng Zhang 0002                       male      2   \n",
      "\n",
      "                                                clean_name  \\\n",
      "name                                                         \n",
      "Camille Desenclos                        Camille Desenclos   \n",
      "G. Galvin                                        G. Galvin   \n",
      "Zhihong He                                      Zhihong He   \n",
      "Selvaggia Cognetti De Martis  Selvaggia Cognetti De Martis   \n",
      "Heng Zhang 0002                                 Heng Zhang   \n",
      "\n",
      "                                      first_name  last_name  \n",
      "name                                                         \n",
      "Camille Desenclos                        Camille  Desenclos  \n",
      "G. Galvin                                     G.     Galvin  \n",
      "Zhihong He                               Zhihong         He  \n",
      "Selvaggia Cognetti De Martis  Selvaggia Cognetti  De Martis  \n",
      "Heng Zhang 0002                             Heng      Zhang  \n"
     ]
    }
   ],
   "source": [
    "# >>> Save results\n",
    "# Convert results (list of openapi_client.models.PersonalNameParsedOut) to (list of dictionaries)\n",
    "print('Filling the results into the names dataframe...')\n",
    "for oapi_el in result:\n",
    "    name = oapi_el.first_last_name\n",
    "    try:\n",
    "        names_to_consider.at[oapi_el.id, 'first_name'] = name.first_name\n",
    "        names_to_consider.at[oapi_el.id, 'last_name'] = name.last_name\n",
    "    except:\n",
    "        names_to_consider.at[oapi_el.id, 'first_name'] = None\n",
    "        names_to_consider.at[oapi_el.id, 'last_name'] = None\n",
    "    \n",
    "print('Dataframe completed with API results. Here is a sample: {}'.format(names_to_consider[:5]))"
   ]
  },
  {
   "cell_type": "code",
   "execution_count": 24,
   "metadata": {},
   "outputs": [
    {
     "name": "stdout",
     "output_type": "stream",
     "text": [
      "Saving test names...\n",
      "Test names saved!\n"
     ]
    }
   ],
   "source": [
    "# >>> Save resulting names in 'names_improved_test_score.csv'\n",
    "print(\"Saving test names...\")\n",
    "names_to_consider.to_csv(\"data/names_improved_test_{}.csv\".format(score))\n",
    "print(\"Test names saved!\")"
   ]
  },
  {
   "cell_type": "code",
   "execution_count": 25,
   "metadata": {},
   "outputs": [],
   "source": [
    "# >>>  Prepare API Calling for classifying first and last name pairs"
   ]
  },
  {
   "cell_type": "code",
   "execution_count": 26,
   "metadata": {},
   "outputs": [],
   "source": [
    "# Formatting the names using the API's models\n",
    "import math\n",
    "\n",
    "def format_split_name(names_entry):\n",
    "    \"This function formats a split name. It takes a full name and returns a FirstLastNameIn (split name)\"\n",
    "    if(names_entry['first_name'] is None or names_entry['last_name'] is None):\n",
    "        return None\n",
    "    return openapi_client.FirstLastNameIn(id=names_entry['name'], first_name=names_entry['first_name'], last_name=names_entry['last_name'])"
   ]
  },
  {
   "cell_type": "code",
   "execution_count": 27,
   "metadata": {},
   "outputs": [],
   "source": [
    "def format_split_names(li):\n",
    "    \"This function formats multiple split names. It takes a list of unformatted full names and returns a list of formatted split names.\"\n",
    "    return list(map(format_split_name, li))"
   ]
  },
  {
   "cell_type": "code",
   "execution_count": 28,
   "metadata": {},
   "outputs": [],
   "source": [
    "def format_split_name_batch(li):\n",
    "    \"This function formats a batch of formatted split names. It takes a list of formatted split names and returns a formatted batch.\"\n",
    "    return openapi_client.BatchFirstLastNameIn(personal_names=li)"
   ]
  },
  {
   "cell_type": "code",
   "execution_count": 29,
   "metadata": {},
   "outputs": [],
   "source": [
    "def splitname_batch(batch):\n",
    "    \"This function calls the API. It takes a formatted batch of split names and returns the API response.\"\n",
    "    return pers_api_instance.gender_batch(batch_first_last_name_in=batch)"
   ]
  },
  {
   "cell_type": "code",
   "execution_count": 30,
   "metadata": {},
   "outputs": [],
   "source": [
    "def call_api_splitname_batch(li):\n",
    "    \"This function prepares a list of unformatted names for the API call and then calls the API calling function. It returns the API's name classifications.\"\n",
    "    current_batch = format_split_names(li)  # format the names\n",
    "    batch_personal_name_in = format_split_name_batch(current_batch)# format the batch\n",
    "    api_response =  splitname_batch(batch_personal_name_in)# call api\n",
    "    return api_response.personal_names # return result"
   ]
  },
  {
   "cell_type": "code",
   "execution_count": 31,
   "metadata": {},
   "outputs": [],
   "source": [
    "batch_size = 1000 #1000 is the API limit given by NamSor\n",
    "start = 0\n",
    "end = batch_size\n",
    "result = []\n",
    "\n",
    "names_stack = list(names_to_consider[['name', 'first_name', 'last_name']].to_dict('records'))\n",
    "names_stack = list(filter(lambda x: x['first_name'] is not None and x['last_name'] is not None, names_stack))"
   ]
  },
  {
   "cell_type": "code",
   "execution_count": 32,
   "metadata": {},
   "outputs": [
    {
     "name": "stdout",
     "output_type": "stream",
     "text": [
      "Batch of names analyzed. 0 names left.\n",
      "All batches analyzed. Returned 999 results.\n"
     ]
    }
   ],
   "source": [
    "# >>> Call API: Classify pairs of first and last names\n",
    "while (len(names_stack) >= batch_size):\n",
    "    try:\n",
    "        result = result + call_api_splitname_batch(names_stack[start:end])\n",
    "        del names_stack[start:end]\n",
    "        print(\"Batch of names analyzed. {} names left.\".format(len(names_stack)))\n",
    "        \n",
    "        # categorize remaining names if they are less than a batch size\n",
    "        if(len(names_stack) < batch_size and len(names_stack) > 0):\n",
    "            result = result + call_api_splitname_batch(names_stack)\n",
    "            names_stack = [] # empty the stack\n",
    "            print(\"Batch of names analyzed. {} names left.\".format(len(names_stack)))\n",
    "    except ApiException as e:\n",
    "        print(\"Exception when calling PersonalApi: gender_first_last_name_batch: {}\".format(e))\n",
    "\n",
    "if(len(names_stack) != 0):\n",
    "    try:\n",
    "        result = result + call_api_splitname_batch(names_stack)\n",
    "        names_stack = [] # empty the stack\n",
    "        print(\"Batch of names analyzed. {} names left.\".format(len(names_stack)))\n",
    "    except ApiException as e:\n",
    "        print(\"Exception when calling PersonalApi: gender_first_last_name_batch: {}\".format(e))\n",
    "\n",
    "print(\"All batches analyzed. Returned {} results.\".format(len(result)))"
   ]
  },
  {
   "cell_type": "code",
   "execution_count": 33,
   "metadata": {},
   "outputs": [
    {
     "name": "stdout",
     "output_type": "stream",
     "text": [
      "Filling the results into the names dataframe...\n",
      "Dataframe completed with API results. Here is a sample:                                                       name  n_publs  \\\n",
      "name                                                                  \n",
      "Camille Desenclos                        Camille Desenclos        1   \n",
      "G. Galvin                                        G. Galvin        1   \n",
      "Zhihong He                                      Zhihong He        7   \n",
      "Selvaggia Cognetti De Martis  Selvaggia Cognetti De Martis        1   \n",
      "Heng Zhang 0002                            Heng Zhang 0002        7   \n",
      "\n",
      "                             likely_gender  score  \\\n",
      "name                                                \n",
      "Camille Desenclos                   female      2   \n",
      "G. Galvin                             male      1   \n",
      "Zhihong He                            male      2   \n",
      "Selvaggia Cognetti De Martis        female      3   \n",
      "Heng Zhang 0002                       male      2   \n",
      "\n",
      "                                                clean_name  \\\n",
      "name                                                         \n",
      "Camille Desenclos                        Camille Desenclos   \n",
      "G. Galvin                                        G. Galvin   \n",
      "Zhihong He                                      Zhihong He   \n",
      "Selvaggia Cognetti De Martis  Selvaggia Cognetti De Martis   \n",
      "Heng Zhang 0002                                 Heng Zhang   \n",
      "\n",
      "                                      first_name  last_name likely_gender_2  \\\n",
      "name                                                                          \n",
      "Camille Desenclos                        Camille  Desenclos          female   \n",
      "G. Galvin                                     G.     Galvin            male   \n",
      "Zhihong He                               Zhihong         He            male   \n",
      "Selvaggia Cognetti De Martis  Selvaggia Cognetti  De Martis          female   \n",
      "Heng Zhang 0002                             Heng      Zhang            male   \n",
      "\n",
      "                              score_2 gender_dif  score_dif  \n",
      "name                                                         \n",
      "Camille Desenclos                14.0      False       12.0  \n",
      "G. Galvin                         2.0      False        1.0  \n",
      "Zhihong He                        5.0      False        3.0  \n",
      "Selvaggia Cognetti De Martis     20.0      False       17.0  \n",
      "Heng Zhang 0002                  20.0      False       18.0  \n"
     ]
    }
   ],
   "source": [
    "# >>> Save results\n",
    "print('Filling the results into the names dataframe...')\n",
    "for oapi_el in result:\n",
    "    # save the alternative gender classification and score\n",
    "    names_to_consider.at[oapi_el.id, 'likely_gender_2'] = oapi_el.likely_gender\n",
    "    names_to_consider.at[oapi_el.id, 'score_2'] = round(oapi_el.score)\n",
    "    # did the gender change with the different API endpoint?\n",
    "    gender_dif = (names_to_consider.at[oapi_el.id, 'likely_gender'] != names_to_consider.at[oapi_el.id, 'likely_gender_2'])\n",
    "    if (gender_dif):\n",
    "        g_val = 1\n",
    "    # save results\n",
    "    names_to_consider.at[oapi_el.id, 'gender_dif'] = gender_dif\n",
    "    names_to_consider.at[oapi_el.id, 'score_dif'] = (names_to_consider.at[oapi_el.id, 'score_2'] - names_to_consider.at[oapi_el.id, 'score'])\n",
    "\n",
    "print('Dataframe completed with API results. Here is a sample: {}'.format(names_to_consider[:5]))"
   ]
  },
  {
   "cell_type": "code",
   "execution_count": 34,
   "metadata": {},
   "outputs": [
    {
     "name": "stdout",
     "output_type": "stream",
     "text": [
      "Saving test names...\n",
      "Test names saved!\n"
     ]
    }
   ],
   "source": [
    "# >>> Save resulting names in 'names_improved_test_score.csv' again\n",
    "print(\"Saving test names...\")\n",
    "names_to_consider.to_csv(\"data/names_improved_test_{}.csv\".format(score))\n",
    "print(\"Test names saved!\")"
   ]
  },
  {
   "cell_type": "code",
   "execution_count": null,
   "metadata": {},
   "outputs": [],
   "source": []
  },
  {
   "cell_type": "code",
   "execution_count": null,
   "metadata": {},
   "outputs": [],
   "source": []
  }
 ],
 "metadata": {
  "kernelspec": {
   "display_name": "Python 3",
   "language": "python",
   "name": "python3"
  },
  "language_info": {
   "codemirror_mode": {
    "name": "ipython",
    "version": 3
   },
   "file_extension": ".py",
   "mimetype": "text/x-python",
   "name": "python",
   "nbconvert_exporter": "python",
   "pygments_lexer": "ipython3",
   "version": "3.7.1"
  }
 },
 "nbformat": 4,
 "nbformat_minor": 2
}
