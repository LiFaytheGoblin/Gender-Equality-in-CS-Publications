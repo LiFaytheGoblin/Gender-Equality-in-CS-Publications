{
 "cells": [
  {
   "cell_type": "code",
   "execution_count": null,
   "metadata": {},
   "outputs": [],
   "source": [
    "# The basic structure for a triple donut diagram"
   ]
  },
  {
   "cell_type": "code",
   "execution_count": null,
   "metadata": {},
   "outputs": [],
   "source": [
    "# >>> Visualization\n",
    "# Preparation\n",
    "\n",
    "import matplotlib.pyplot as plt\n",
    "import numpy as np\n",
    "\n",
    "size = 0.3\n",
    "\n",
    "# Colors for the pie chart\n",
    "cmap = plt.get_cmap(\"tab20c\")\n",
    "cmap_2 = plt.get_cmap(\"tab20b\")\n",
    "text = cmap(16)\n",
    "very_outer_colors = [cmap(9), cmap_2(10), cmap(19)]\n",
    "outer_colors = cmap([1,5, 19]) # Publications\n",
    "inner_colors = [cmap(13), cmap_2(13), cmap(19)] # Authors"
   ]
  },
  {
   "cell_type": "code",
   "execution_count": null,
   "metadata": {},
   "outputs": [],
   "source": [
    "# Visualization of minimum values with unknowns\n",
    "# Nested pie plot: https://matplotlib.org/gallery/pie_and_polar_charts/nested_pie.html#sphx-glr-gallery-pie-and-polar-charts-nested-pie-py\n",
    "# Labelling a pie chart: https://matplotlib.org/gallery/pie_and_polar_charts/pie_and_donut_labels.html#sphx-glr-gallery-pie-and-polar-charts-pie-and-donut-labels-py\n",
    "# Placing multiple legends: https://matplotlib.org/tutorials/intermediate/legend_guide.html\n",
    "\n",
    "fig, ax = plt.subplots()\n",
    "\n",
    "genders = ['female', 'male', 'unknown']\n",
    "authors = [577, 344, 100] \n",
    "publications = [6000, 4506, 200]\n",
    "contributions = [1200, 1000, 110]\n",
    "\n",
    "# Publications\n",
    "wedges_p, texts_p, autotexts_p = ax.pie(publications, radius=1.6-size, \n",
    "                                        colors=very_outer_colors, autopct='%1.1f%%', \n",
    "                                        pctdistance=1.2,\n",
    "                                        wedgeprops=dict(width=size, edgecolor='w'), \n",
    "                                        textprops=dict(color=text))\n",
    "l_p = ax.legend(wedges_p, genders, bbox_to_anchor=(1.25, 0.3), title=\"Publications\")\n",
    "plt.gca().add_artist(l_p)\n",
    "\n",
    "# Contributions\n",
    "wedges_c, texts_c, autotexts_c = ax.pie(contributions, radius=1, \n",
    "                                        colors=outer_colors, autopct='%1.1f%%', \n",
    "                                        pctdistance=0.82,\n",
    "                                        wedgeprops=dict(width=size, edgecolor='w'), \n",
    "                                        textprops=dict(color=text))\n",
    "l_c = ax.legend(wedges_c, genders, bbox_to_anchor=(1.25, 0.65), title=\"Contributions\")\n",
    "plt.gca().add_artist(l_c)\n",
    "\n",
    "# Authors\n",
    "wedges_a, texts_a, autotexts_a = ax.pie(authors, radius=1-size, \n",
    "                                        colors=inner_colors, autopct='%1.1f%%', # form of percentages\n",
    "                                        pctdistance=0.3, # how far away are percentages from center?\n",
    "                                        wedgeprops=dict(width=size, edgecolor='w'), # color of edges\n",
    "                                        textprops=dict(color=text)) # color of percentages\n",
    "l_a = ax.legend(wedges_a, genders, bbox_to_anchor=(1.25, 1), title=\"Authors\")\n",
    "plt.gca().add_artist(l_a) # Add legend\n",
    "\n",
    "plt.title(\"How many authors and how many publications \\n are there in total per gender?\\n\")\n",
    "\n",
    "plt.show()"
   ]
  },
  {
   "cell_type": "code",
   "execution_count": null,
   "metadata": {},
   "outputs": [],
   "source": [
    "# Visualization of minimum values\n",
    "# Nested pie plot: https://matplotlib.org/gallery/pie_and_polar_charts/nested_pie.html#sphx-glr-gallery-pie-and-polar-charts-nested-pie-py\n",
    "# Labelling a pie chart: https://matplotlib.org/gallery/pie_and_polar_charts/pie_and_donut_labels.html#sphx-glr-gallery-pie-and-polar-charts-pie-and-donut-labels-py\n",
    "# Placing multiple legends: https://matplotlib.org/tutorials/intermediate/legend_guide.html\n",
    "\n",
    "fig, ax = plt.subplots()\n",
    "\n",
    "genders = ['female', 'male']\n",
    "authors = [577, 344] \n",
    "publications = [6000, 4506]\n",
    "contributions = [1200, 1000]\n",
    "\n",
    "# Publications\n",
    "wedges_p, texts_p, autotexts_p = ax.pie(publications, radius=1.6-size, \n",
    "                                        colors=very_outer_colors, autopct='%1.1f%%', \n",
    "                                        pctdistance=1.2,\n",
    "                                        wedgeprops=dict(width=size, edgecolor='w'), \n",
    "                                        textprops=dict(color=text))\n",
    "l_p = ax.legend(wedges_p, genders, bbox_to_anchor=(1.25, 0.3), title=\"Publications\")\n",
    "plt.gca().add_artist(l_p)\n",
    "\n",
    "# Contributions\n",
    "wedges_c, texts_c, autotexts_c = ax.pie(contributions, radius=1, \n",
    "                                        colors=outer_colors, autopct='%1.1f%%', \n",
    "                                        pctdistance=0.82,\n",
    "                                        wedgeprops=dict(width=size, edgecolor='w'), \n",
    "                                        textprops=dict(color=text))\n",
    "l_c = ax.legend(wedges_c, genders, bbox_to_anchor=(1.25, 0.65), title=\"Contributions\")\n",
    "plt.gca().add_artist(l_c)\n",
    "\n",
    "# Authors\n",
    "wedges_a, texts_a, autotexts_a = ax.pie(authors, radius=1-size, \n",
    "                                        colors=inner_colors, autopct='%1.1f%%', # form of percentages\n",
    "                                        pctdistance=0.3, # how far away are percentages from center?\n",
    "                                        wedgeprops=dict(width=size, edgecolor='w'), # color of edges\n",
    "                                        textprops=dict(color=text)) # color of percentages\n",
    "l_a = ax.legend(wedges_a, genders, bbox_to_anchor=(1.25, 1), title=\"Authors\")\n",
    "plt.gca().add_artist(l_a) # Add legend\n",
    "\n",
    "plt.title(\"How many authors and how many publications \\n are there in total per gender?\\n\")\n",
    "\n",
    "plt.show()"
   ]
  },
  {
   "cell_type": "code",
   "execution_count": null,
   "metadata": {},
   "outputs": [],
   "source": [
    "# >>> Evaluation\n",
    "# Hypothesis 1 and 2 are correct. \n",
    "# Overall, there are more male than female authors. In total, more has been written by men than by women."
   ]
  }
 ],
 "metadata": {
  "kernelspec": {
   "display_name": "Python 3",
   "language": "python",
   "name": "python3"
  },
  "language_info": {
   "codemirror_mode": {
    "name": "ipython",
    "version": 3
   },
   "file_extension": ".py",
   "mimetype": "text/x-python",
   "name": "python",
   "nbconvert_exporter": "python",
   "pygments_lexer": "ipython3",
   "version": "3.7.1"
  }
 },
 "nbformat": 4,
 "nbformat_minor": 2
}
